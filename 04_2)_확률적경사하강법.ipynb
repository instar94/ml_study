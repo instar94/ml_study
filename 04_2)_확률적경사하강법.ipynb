{
  "nbformat": 4,
  "nbformat_minor": 0,
  "metadata": {
    "colab": {
      "provenance": [],
      "authorship_tag": "ABX9TyNG2hxaOTspzEjKRvMxxwmU",
      "include_colab_link": true
    },
    "kernelspec": {
      "name": "python3",
      "display_name": "Python 3"
    },
    "language_info": {
      "name": "python"
    }
  },
  "cells": [
    {
      "cell_type": "markdown",
      "metadata": {
        "id": "view-in-github",
        "colab_type": "text"
      },
      "source": [
        "<a href=\"https://colab.research.google.com/github/instar94/mleng/blob/main/04_2)_%ED%99%95%EB%A5%A0%EC%A0%81%EA%B2%BD%EC%82%AC%ED%95%98%EA%B0%95%EB%B2%95.ipynb\" target=\"_parent\"><img src=\"https://colab.research.google.com/assets/colab-badge.svg\" alt=\"Open In Colab\"/></a>"
      ]
    },
    {
      "cell_type": "code",
      "execution_count": null,
      "metadata": {
        "id": "sL9C7JmxFu-5"
      },
      "outputs": [],
      "source": [
        "# 1. 확률적 경사하강법\n",
        "## 1) 온라인 학습 (점진적 학습)\n",
        "- 앞서 훈련한 모델을 버리지 않고 새로운 데이터에 대해서만 조금씩 훈련을 진행\n",
        "- 대표적인 알고리즘 : 확률적 경사하강법\n",
        "\n",
        "## 2) 확률적 경사하강법\n",
        "- 확률 : 무작위 혹은 랜덤하게\n",
        "- 경사 : 기울기\n",
        "- 하강 : 내려가게함"
      ]
    }
  ]
}