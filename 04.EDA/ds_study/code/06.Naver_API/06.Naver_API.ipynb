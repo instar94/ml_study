{
 "cells": [
  {
   "metadata": {},
   "cell_type": "markdown",
   "source": [
    "# 1. Naver API\n",
    "- Naver 개발자 센터에서 API 등록 ,"
   ],
   "id": "b2875986e59fac8f"
  },
  {
   "metadata": {
    "ExecuteTime": {
     "end_time": "2025-06-08T11:39:07.294963Z",
     "start_time": "2025-06-08T11:39:07.283967Z"
    }
   },
   "cell_type": "code",
   "source": [
    "### API 아이디 및 키 가져오기\n",
    "import json\n",
    "import os\n",
    "\n",
    "current_dir = os.getcwd()\n",
    "config_dir = os.path.join(current_dir, '../../data/')\n",
    "\n",
    "config_file_path = os.path.join(config_dir, 'config.json')\n",
    "with open(config_file_path, \"r\") as f:\n",
    "    config = json.load(f)\n",
    "client_id = config[\"naverOpenApi\"][\"client_id\"]\n",
    "client_secret = config[\"naverOpenApi\"][\"client_secret\"]"
   ],
   "id": "f9d8a0e3614e8b1d",
   "outputs": [],
   "execution_count": 14
  },
  {
   "metadata": {
    "ExecuteTime": {
     "end_time": "2025-06-08T11:14:58.228832Z",
     "start_time": "2025-06-08T11:14:57.998186Z"
    }
   },
   "cell_type": "code",
   "source": [
    "## 2. 예제 코드를 통한 실습\n",
    "# 네이버 검색 API 예제 - 블로그 검색\n",
    "import os\n",
    "import sys\n",
    "import urllib.request\n",
    "\n",
    "encText = urllib.parse.quote(\"파이썬\")\n",
    "url = \"https://openapi.naver.com/v1/search/blog?query=\" + encText # JSON 결과\n",
    "# url = \"https://openapi.naver.com/v1/search/blog.xml?query=\" + encText # XML 결과\n",
    "\n",
    "request = urllib.request.Request(url)\n",
    "request.add_header(\"X-Naver-Client-Id\",client_id)\n",
    "request.add_header(\"X-Naver-Client-Secret\",client_secret)\n",
    "response = urllib.request.urlopen(request)\n",
    "rescode = response.getcode()\n",
    "\n",
    "if(rescode==200):\n",
    "    response_body = response.read()\n",
    "    print(response_body.decode('utf-8'))\n",
    "else:\n",
    "    print(\"Error Code:\" + rescode)"
   ],
   "id": "9740ee1b47ce89ce",
   "outputs": [
    {
     "name": "stdout",
     "output_type": "stream",
     "text": [
      "{\n",
      "\t\"lastBuildDate\":\"Sun, 08 Jun 2025 20:14:58 +0900\",\n",
      "\t\"total\":533748,\n",
      "\t\"start\":1,\n",
      "\t\"display\":10,\n",
      "\t\"items\":[\n",
      "\t\t{\n",
      "\t\t\t\"title\":\"대전<b>파이썬<\\/b>학원 단계별 코딩 실무 학습 과정\",\n",
      "\t\t\t\"link\":\"https:\\/\\/blog.naver.com\\/she_op\\/223881011131\",\n",
      "\t\t\t\"description\":\"그래서 대전<b>파이썬<\\/b>학원을 알아보기로 했죠. 아무 데서나 할 순 없고 커리큘럼을 단계별 실무 위주로... 기초 코딩: 프로그래밍 언어 이 과정은 대전<b>파이썬<\\/b>학원에 처음 오는 입문자들이 프로그래밍 언어를... \",\n",
      "\t\t\t\"bloggername\":\"오롯이 여행, 마음먹기 나름 :)\",\n",
      "\t\t\t\"bloggerlink\":\"blog.naver.com\\/she_op\",\n",
      "\t\t\t\"postdate\":\"20250528\"\n",
      "\t\t},\n",
      "\t\t{\n",
      "\t\t\t\"title\":\"<b>파이썬<\\/b>전문가 자격증 종류 및 효율적인 취득방법\",\n",
      "\t\t\t\"link\":\"https:\\/\\/blog.naver.com\\/mellybird\\/223842981098\",\n",
      "\t\t\t\"description\":\"<b>파이썬<\\/b>전문가 자격증 종류 및 효율적인 취득방법 <b>파이썬<\\/b>은 요즘 다양한 분야에서 널리 사용되는 프로그래밍 언어로, 데이터 분석, 웹 개발, 인공지능 등에서 중요한 역할을 하고 있습니다. 저는 원래... \",\n",
      "\t\t\t\"bloggername\":\"멜잉로그 : 현직 국내파 영어강사 블로그\",\n",
      "\t\t\t\"bloggerlink\":\"blog.naver.com\\/mellybird\",\n",
      "\t\t\t\"postdate\":\"20250422\"\n",
      "\t\t},\n",
      "\t\t{\n",
      "\t\t\t\"title\":\"대구<b>파이썬<\\/b>학원 실전 기술 익힌 곳\",\n",
      "\t\t\t\"link\":\"https:\\/\\/blog.naver.com\\/xshinerx\\/223787876858\",\n",
      "\t\t\t\"description\":\"그때 힘이 되어 준 대구<b>파이썬<\\/b>학원에 대한 글을 써보려 해요! IT 위주로 학습하는 곳 단순히 구직에... 이 대구<b>파이썬<\\/b>학원은 전직, 현직 강사들이 비전공자도 따라갈 수 있을 정도로 눈높이 교육을 진행해 준다고... \",\n",
      "\t\t\t\"bloggername\":\"▶ 제이의 맛있는 세상 ◀\",\n",
      "\t\t\t\"bloggerlink\":\"blog.naver.com\\/xshinerx\",\n",
      "\t\t\t\"postdate\":\"20250308\"\n",
      "\t\t},\n",
      "\t\t{\n",
      "\t\t\t\"title\":\"<b>파이썬<\\/b>자격증 종류 취업 분야 및 공부 후기\",\n",
      "\t\t\t\"link\":\"https:\\/\\/blog.naver.com\\/kang6902\\/223863482199\",\n",
      "\t\t\t\"description\":\"<b>파이썬<\\/b>자격증 종류 취업 분야 및 공부 후기 공부하신 분의 후기를 바탕으로 작성되었음을... 결심하고 처음으로 도전한 것은 <b>파이썬<\\/b>자격증이었어요. 입문용 언어라 가장 저에게 적합했는데요. 같은... \",\n",
      "\t\t\t\"bloggername\":\"세 아이와 함께 성장하는 곳\",\n",
      "\t\t\t\"bloggerlink\":\"blog.naver.com\\/kang6902\",\n",
      "\t\t\t\"postdate\":\"20250512\"\n",
      "\t\t},\n",
      "\t\t{\n",
      "\t\t\t\"title\":\"<b>파이썬<\\/b>전문가 자격증 학습방법 취득후기\",\n",
      "\t\t\t\"link\":\"https:\\/\\/blog.naver.com\\/bbobbny\\/223842932148\",\n",
      "\t\t\t\"description\":\"<b>파이썬<\\/b>전문가 자격증 학습방법 취득후기 요즘 IT 분야에 대한 관심이 점점 더 높아지며 앞으로 어떤... 그러던 중 남들에게 제가 알고 있는 기술을 알려주고 싶은 마음에 <b>파이썬<\\/b>전문가 자격증에 도전했고 나만의... \",\n",
      "\t\t\t\"bloggername\":\"ALICEMADE-앨리스가 만들어가는 세상\",\n",
      "\t\t\t\"bloggerlink\":\"blog.naver.com\\/bbobbny\",\n",
      "\t\t\t\"postdate\":\"20250422\"\n",
      "\t\t},\n",
      "\t\t{\n",
      "\t\t\t\"title\":\"<b>파이썬<\\/b>전문가 자격증 종류 체계적인 취득방법 및 학습과정\",\n",
      "\t\t\t\"link\":\"https:\\/\\/blog.naver.com\\/career4ukr\\/223842923010\",\n",
      "\t\t\t\"description\":\"<b>파이썬<\\/b>전문가 자격증 종류 체계적인 취득방법 및 학습과정 요즘은 취업하려면 코딩은 필수인 거... 오늘 <b>파이썬<\\/b>전문가 자격증 종류 체계적인 취득방법 및 학습과정을 가져와 보았습니다! <b>파이썬<\\/b> 자격증 종류... \",\n",
      "\t\t\t\"bloggername\":\"하영목(출간작가)의 블로그\",\n",
      "\t\t\t\"bloggerlink\":\"blog.naver.com\\/career4ukr\",\n",
      "\t\t\t\"postdate\":\"20250422\"\n",
      "\t\t},\n",
      "\t\t{\n",
      "\t\t\t\"title\":\"<b>파이썬<\\/b> 자격증 시험 종류 및 취득과정\",\n",
      "\t\t\t\"link\":\"https:\\/\\/blog.naver.com\\/hwani-0627\\/223748981099\",\n",
      "\t\t\t\"description\":\"오늘은 <b>파이썬<\\/b> 자격증 시험 종류 및 취득과정에 대해서 자세히 알려드리도록 하겠습니다. <b>파이썬<\\/b> 자격증은? <b>파이썬<\\/b> 자격증 시험은 C, C+, JAVA Script 등 여러 프로그래밍 언어들 중 하나인 Python을 학습하는... \",\n",
      "\t\t\t\"bloggername\":\"화닝의 일본어+교육 교실\",\n",
      "\t\t\t\"bloggerlink\":\"blog.naver.com\\/hwani-0627\",\n",
      "\t\t\t\"postdate\":\"20250205\"\n",
      "\t\t},\n",
      "\t\t{\n",
      "\t\t\t\"title\":\"아나콘다 주피터 노트북 설치 <b>파이썬<\\/b> 프로그래밍 준비하기\",\n",
      "\t\t\t\"link\":\"https:\\/\\/blog.naver.com\\/skdaksdptn\\/223675613694\",\n",
      "\t\t\t\"description\":\"거의 모든 분야에서 생성형 AI에 관한 관심이 늘어나면서 인공지능을 활용한 <b>파이썬<\\/b> 프로그래밍... 아나콘다 (Ananconda) 설치 VS Code, PyCharm과 더불어 3대 <b>파이썬<\\/b> IDE로 통한다. 시스템 리소스를 적게 차지해... \",\n",
      "\t\t\t\"bloggername\":\"짜루의 이것저것 리뷰\",\n",
      "\t\t\t\"bloggerlink\":\"blog.naver.com\\/skdaksdptn\",\n",
      "\t\t\t\"postdate\":\"20241128\"\n",
      "\t\t},\n",
      "\t\t{\n",
      "\t\t\t\"title\":\"<b>파이썬<\\/b> 국비지원 교육 및 취업 분야\",\n",
      "\t\t\t\"link\":\"https:\\/\\/blog.naver.com\\/smgong00\\/223888628135\",\n",
      "\t\t\t\"description\":\"중에 <b>파이썬<\\/b>(Python)을 선택하고 있어요. C언어, JAVA에 비해 비교적 배우기가 쉽고 인공지능(AI), 데이터 분석, 업무 자동화, 웹 개발 등 활용 분야가 워낙 넓기 때문이죠. 오늘은 이 <b>파이썬<\\/b>을 정말 유용하게 배울 수... \",\n",
      "\t\t\t\"bloggername\":\"지혜를 여는 부엉이상점\",\n",
      "\t\t\t\"bloggerlink\":\"blog.naver.com\\/smgong00\",\n",
      "\t\t\t\"postdate\":\"20250604\"\n",
      "\t\t},\n",
      "\t\t{\n",
      "\t\t\t\"title\":\"<b>파이썬<\\/b> 용어, 다운로드 (python 프로그래밍 기초)\",\n",
      "\t\t\t\"link\":\"https:\\/\\/blog.naver.com\\/supapa13\\/223866184029\",\n",
      "\t\t\t\"description\":\"✔️ <b>파이썬<\\/b> 입문자를 위한 기초 용어 정리 ✔️ 다운로드 방법 <b>파이썬<\\/b> 입문자를 위한 기초 용어 정리 <b>파이썬<\\/b>은 전 세계적으로 사랑받는 프로그래밍 언어다. 데이터 분석, 웹 개발, 인공지능 등 다양한... \",\n",
      "\t\t\t\"bloggername\":\"세수하면이병헌 IT\\/자동차\",\n",
      "\t\t\t\"bloggerlink\":\"blog.naver.com\\/supapa13\",\n",
      "\t\t\t\"postdate\":\"20250515\"\n",
      "\t\t}\n",
      "\t]\n",
      "}\n"
     ]
    }
   ],
   "execution_count": 2
  },
  {
   "metadata": {
    "ExecuteTime": {
     "end_time": "2025-06-08T11:17:58.916577Z",
     "start_time": "2025-06-08T11:17:58.748619Z"
    }
   },
   "cell_type": "code",
   "source": [
    "## 2. 예제 코드를 통한 실습\n",
    "# 네이버 검색 API 예제 - 책 검색\n",
    "### 영화 : movie / 카페 : cafearticle / 책 : book / 블로그 : blog / 뉴스 : news / 백과사전 : encyc\n",
    "\n",
    "import os\n",
    "import sys\n",
    "import urllib.request\n",
    "\n",
    "encText = urllib.parse.quote(\"파이썬\")\n",
    "url = \"https://openapi.naver.com/v1/search/book?query=\" + encText # JSON 결과\n",
    "# url = \"https://openapi.naver.com/v1/search/blog.xml?query=\" + encText # XML 결과\n",
    "\n",
    "request = urllib.request.Request(url)\n",
    "request.add_header(\"X-Naver-Client-Id\",client_id)\n",
    "request.add_header(\"X-Naver-Client-Secret\",client_secret)\n",
    "response = urllib.request.urlopen(request)\n",
    "rescode = response.getcode()\n",
    "\n",
    "if(rescode==200):\n",
    "    response_body = response.read()\n",
    "    print(response_body.decode('utf-8'))\n",
    "else:\n",
    "    print(\"Error Code:\" + rescode)"
   ],
   "id": "4171c0af7590f042",
   "outputs": [
    {
     "name": "stdout",
     "output_type": "stream",
     "text": [
      "{\n",
      "\t\"lastBuildDate\":\"Sun, 08 Jun 2025 20:17:58 +0900\",\n",
      "\t\"total\":1128,\n",
      "\t\"start\":1,\n",
      "\t\"display\":10,\n",
      "\t\"items\":[\n",
      "\t\t{\n",
      "\t\t\t\"title\":\"혼자 공부하는 파이썬 (1:1 과외하듯 배우는 프로그래밍 자습서)\",\n",
      "\t\t\t\"link\":\"https:\\/\\/search.shopping.naver.com\\/book\\/catalog\\/32507605957\",\n",
      "\t\t\t\"image\":\"https:\\/\\/shopping-phinf.pstatic.net\\/main_3250760\\/32507605957.20230509170119.jpg\",\n",
      "\t\t\t\"author\":\"윤인성\",\n",
      "\t\t\t\"discount\":\"19800\",\n",
      "\t\t\t\"publisher\":\"한빛미디어\",\n",
      "\t\t\t\"pubdate\":\"20220601\",\n",
      "\t\t\t\"isbn\":\"9791162245651\",\n",
      "\t\t\t\"description\":\"혼자 해도 충분하다! 1:1 과외하듯 배우는 파이썬 프로그래밍 자습서\\n\\n『혼자 공부하는 파이썬』이 더욱 흥미있고 알찬 내용으로 개정되었습니다. 프로그래밍이 정말 처음인 입문자도 따라갈 수 있는 친절한 설명과 단계별 학습은 그대로! 혼자 공부하더라도 체계적으로 계획을 세워 학습할 수 있도록 ‘혼공 계획표’를 새롭게 추가했습니다. 또한 입문자가 자주 물어보는 질문과 오류 해결 방법을 적재적소에 배치하여 예상치 못한 문제에 부딪혀도 좌절하지 않고 끝까지 완독할 수 있도록 도와줍니다. 단순한 문법 암기와 코딩 따라하기에 지쳤다면, 새로운 혼공파와 함께 ‘누적 예제’와 ‘도전 문제’로 프로그래밍의 신세계를 경험해 보세요! 배운 내용을 씹고 뜯고 맛보고 즐기다 보면 응용력은 물론 알고리즘 사고력까지 키워 코딩 실력이 쑥쑥 성장할 것입니다.\\n\\n이 책은 독학으로 파이썬을 배우는 입문자가 ‘꼭 필요한 내용을 제대로 학습’할 수 있도록 구성했습니다. 뭘 모르는지조차 모르는 입문자의 막연한 마음에 십분 공감하여 과외 선생님이 알려주듯 친절하게, 핵심적인 내용만 콕콕 집어줍니다. 책의 첫 페이지를 펼쳐서 마지막 페이지를 덮을 때까지, 혼자서도 충분히 파이썬을 배울 수 있다는 자신감과 확신이 계속될 것입니다!\\n\\n베타리더와 함께 입문자에게 맞는 난이도, 분량, 학습 요소 등을 적극 반영했습니다. 어려운 용어와 개념은 한 번 더 풀어쓰고, 복잡한 설명은 눈에 잘 들어오는 그림으로 풀어냈습니다. ‘혼자 공부해 본’ 여러 입문자의 초심과 눈높이가 책 곳곳에 반영된 것이 이 책의 가장 큰 장점입니다.\"\n",
      "\t\t},\n",
      "\t\t{\n",
      "\t\t\t\"title\":\"혼자 만들면서 공부하는 파이썬 (37개 라이브러리와 API로 보고서, 차트, 게임, 맵, AI 챗봇 만들기|저자 직강 유튜브 강의, 오픈 채팅 제공)\",\n",
      "\t\t\t\"link\":\"https:\\/\\/search.shopping.naver.com\\/book\\/catalog\\/52859338841\",\n",
      "\t\t\t\"image\":\"https:\\/\\/shopping-phinf.pstatic.net\\/main_5285933\\/52859338841.20250209071357.jpg\",\n",
      "\t\t\t\"author\":\"문현일\",\n",
      "\t\t\t\"discount\":\"23400\",\n",
      "\t\t\t\"publisher\":\"한빛미디어\",\n",
      "\t\t\t\"pubdate\":\"20250214\",\n",
      "\t\t\t\"isbn\":\"9791169213271\",\n",
      "\t\t\t\"description\":\"“파이썬을 배워서 어디에 활용할 수 있을지 궁금했나요?”\\n나의 신용카드 내역 분석, 우리 아파트 실거래가 시각화해보기, 맛집 지도 웹 앱 만들기 등 \\n생활 속  15가지 파이썬 프로젝트를 직접 완성해 보며 재미있게 실전 경험 쌓기!\\n\\nQR 코드, 이미지 콜라주 등 일상과 가까운 생활형 프로젝트부터 부동산, 경제지표, 시가총액 같은 실용적인 데이터를 다루는 프로젝트, LLM, 멀티모달 AI와 TTS 등 최신 기술까지! 폭넓은 주제를 통해 흥미롭게 따라 해 보세요.\\n\\n●\\t 주식 & 경제 데이터 분석 - 시가총액, 기준금리, 주요 경제지표 데이터 분석 및 시각화하기\\n●\\t 부동산 실거래가 분석 - 지역별 단위면적당 아파트 매매 실거래가 평균 지도로 만들기\\n●\\t 멀티모달 AI & 챗봇 개발 - 생성형 AI와 챗봇을 활용한 실시간 영자 신문 스크레이핑\\n●\\t 웹 자동화 & 크롤링 - 연관 키워드 분석을 통한 연령별, 성별 쇼핑 트렌드 분석\\n●\\t 게임 & GUI 개발 - 슬라이딩 퍼즐, 영어 받아쓰기 앱으로 직접 만들어 보는 인터랙티브 프로젝트\"\n",
      "\t\t},\n",
      "\t\t{\n",
      "\t\t\t\"title\":\"Do it! 점프 투 파이썬 (중학생도 첫날부터 실습하는 초고속 입문서)\",\n",
      "\t\t\t\"link\":\"https:\\/\\/search.shopping.naver.com\\/book\\/catalog\\/40354085633\",\n",
      "\t\t\t\"image\":\"https:\\/\\/shopping-phinf.pstatic.net\\/main_4035408\\/40354085633.20230927071024.jpg\",\n",
      "\t\t\t\"author\":\"박응용\",\n",
      "\t\t\t\"discount\":\"19800\",\n",
      "\t\t\t\"publisher\":\"이지스퍼블리싱\",\n",
      "\t\t\t\"pubdate\":\"20230615\",\n",
      "\t\t\t\"isbn\":\"9791163034735\",\n",
      "\t\t\t\"description\":\"프로그래밍 분야 8년 연속 베스트셀러!\\n《Do it! 점프 투 파이썬》 전면 개정 2판 출시!\\n\\n중고등학생도, 비전공자도, 직장인도 프로그래밍에 눈뜨게 만든 바로 그 책이 전면 개정 2판으로 새롭게 태어났다! 챗GPT를 시작으로 펼쳐진 생성 AI 시대에 맞춰 설명과 예제를 다듬고, 최신 경향과 심화 내용을 보충했다. 또한 이번 개정 2판도 50만 코딩 유튜버인 조코딩과 협업을 통해 유튜브 동영상을 제공해 파이썬을 더 쉽게 공부할 수 있다.\\n\\n8년 연속 베스트셀러! 위키독스 누적 방문 300만! 독자의 입에서 입으로 전해진 추천과 수많은 대학 및 학원의 교재 채택을 통해 검증은 이미 끝났다. 코딩을 처음 배우는 중고등학생부터 코딩 소양을 기르려는 비전공자, 자기계발에 진심인 직장인까지! 이 책과 함께 파이썬 프로그래밍의 세계로 ‘점프’해 보자!\"\n",
      "\t\t},\n",
      "\t\t{\n",
      "\t\t\t\"title\":\"밑바닥부터 시작하는 딥러닝 1(리마스터판) (파이썬으로 익히는 딥러닝 이론과 구현)\",\n",
      "\t\t\t\"link\":\"https:\\/\\/search.shopping.naver.com\\/book\\/catalog\\/52615553184\",\n",
      "\t\t\t\"image\":\"https:\\/\\/shopping-phinf.pstatic.net\\/main_5261555\\/52615553184.20250123071242.jpg\",\n",
      "\t\t\t\"author\":\"사이토 고키\",\n",
      "\t\t\t\"discount\":\"23400\",\n",
      "\t\t\t\"publisher\":\"한빛미디어\",\n",
      "\t\t\t\"pubdate\":\"20250124\",\n",
      "\t\t\t\"isbn\":\"9791169213387\",\n",
      "\t\t\t\"description\":\"딥러닝 분야 부동의 베스트셀러!\\n머리로 이해하고 손으로 익히는 가장 쉬운 딥러닝 입문서\\n\\n이 책은 딥러닝의 핵심 개념을 ‘밑바닥부터’ 구현해보며 기초를 한 걸음씩 탄탄하게 다질 수 있도록 도와주는 친절한 안내서입니다. 라이브러리나 프레임워크에 의존하지 않고 딥러닝의 기본 개념부터 이미지 인식에 활용되는 합성곱 신경망(CNN)까지 딥러닝의 원리를 체계적으로 설명합니다. 또한 복잡한 개념은 계산 그래프를 활용해 시각적으로 전달하여 누구나 쉽게 이해할 수 있습니다. 이 책은 딥러닝에 첫발을 내딛는 입문자는 물론이고 기초를 다시금 다지고 싶은 개발자와 연구자에게도 훌륭한 길잡이가 되어줄 것입니다.\"\n",
      "\t\t},\n",
      "\t\t{\n",
      "\t\t\t\"title\":\"파이썬\",\n",
      "\t\t\t\"link\":\"https:\\/\\/search.shopping.naver.com\\/book\\/catalog\\/32460987987\",\n",
      "\t\t\t\"image\":\"https:\\/\\/shopping-phinf.pstatic.net\\/main_3246098\\/32460987987.20230207163755.jpg\",\n",
      "\t\t\t\"author\":\"홍의경\",\n",
      "\t\t\t\"discount\":\"30400\",\n",
      "\t\t\t\"publisher\":\"생능출판\",\n",
      "\t\t\t\"pubdate\":\"20220309\",\n",
      "\t\t\t\"isbn\":\"9788970506784\",\n",
      "\t\t\t\"description\":\"코딩 실력을 키우는 지름길은 실습이다.\\n\\n2008년 즈음에 검인정 중학교 교과서 정보1, 정보2, 정보3을 공저로 저술하였습니다. 그 당시에 8종류의 교과서가 검인정에 합격하였는데, 파이썬을 기반으로 하는 교과서가 2종류, C언어를 기반으로 하는 교과서가 2종류, 베이직을 기반으로 하는 교과서가 2종류, 스크래치를 기반으로 하는 교과서가 2종류였습니다.\\n\\n교육용 언어로 시작한 파이썬이 중학교 학생들이 비교적 쉽게 학습할 수 있는 프로그래밍 언어라고 생각했는데 10여년의 세월이 흐른 지금 파이썬이 활용되는 분야가 가히 폭발적으로 증가하였습니다. \\n\\n파이썬에 관한 쉽고 좋은 교재를 저술하기 위해서 인터넷에서 30,000페이지 이상의 자료를 찾아서 검토하였습니다. 어쩌면 파이썬이 첫 프로그래밍 언어일 본 교재의 독자들이 두려움 없이 파이썬을 기초부터 쉽게 공부하다가, 교재를 다 읽고 나면 “어느새 중급 수준에 도달했구나”라는 생각이 들도록  완성도 높은 교재를 목표로 하였습니다. \\n\\n입문자를 대상으로 하는 교재일수록 집필하는데 훨씬 더 많은 정성과 노력이 필요하다는 것을 잘 알고 있습니다. 개인적으로는 데이터베이스 전공교재를 저술할 때보다 몇 배 더 힘들었고, 공을 많이 들였습니다. \\n\\n원고를 버전 9까지 작성하는 동안 셀 수 없이 원고를 읽어보면서 꼭 필요하지 않은 문장은 삭제하고, 필요한 문장은 반드시 넣었습니다. 고등학교 검인정 교과서 1권, 중학교 검인정 교과서 3권, 데이터베이스 전공 교재 2권, 엑셀 교재 1권, 번역서 2권을 집필하면서 나름대로 한글을 정확하고 간결하게 표현하는데 자신이 있습니다.\"\n",
      "\t\t},\n",
      "\t\t{\n",
      "\t\t\t\"title\":\"CODING BASICS PYTHON (파이썬)\",\n",
      "\t\t\t\"link\":\"https:\\/\\/search.shopping.naver.com\\/book\\/catalog\\/32440944646\",\n",
      "\t\t\t\"image\":\"https:\\/\\/shopping-phinf.pstatic.net\\/main_3244094\\/32440944646.20230509164030.jpg\",\n",
      "\t\t\t\"author\":\"김상민^장성식^김일태\",\n",
      "\t\t\t\"discount\":\"18000\",\n",
      "\t\t\t\"publisher\":\"렉스미디어닷넷\",\n",
      "\t\t\t\"pubdate\":\"20220210\",\n",
      "\t\t\t\"isbn\":\"9788959604210\",\n",
      "\t\t\t\"description\":\"파이썬으로 다지는 프로그래밍의 기초\\n\\nㆍ 다양한 예제를 활용하여 초보자도 쉽게 프로그래밍의 기본을 익힐 수 있는 파이썬 입문서입니다.\\nㆍ 문법을 사전식으로 나열하지 않고 기능적인 프로그램을 하나씩 완성하면서 익힐 수 있게 구성했습니다.\\nㆍ 단계별로 완성하는 장별 예제 및 연습문제를 바탕으로 자신만의 프로그램을 완성할 수 있습니다.\"\n",
      "\t\t},\n",
      "\t\t{\n",
      "\t\t\t\"title\":\"파이썬\",\n",
      "\t\t\t\"link\":\"https:\\/\\/search.shopping.naver.com\\/book\\/catalog\\/32489150082\",\n",
      "\t\t\t\"image\":\"https:\\/\\/shopping-phinf.pstatic.net\\/main_3248915\\/32489150082.20230207165503.jpg\",\n",
      "\t\t\t\"author\":\"천인국\",\n",
      "\t\t\t\"discount\":\"10800\",\n",
      "\t\t\t\"publisher\":\"인피니티북스\",\n",
      "\t\t\t\"pubdate\":\"20170830\",\n",
      "\t\t\t\"isbn\":\"9791185578330\",\n",
      "\t\t\t\"description\":\"컴퓨팅 사고(Computational Thinking)는 자넷 윙 교수가 2006년에 컴퓨터 학술지에서 언급한 이후로 컴퓨터 교육 분야에서 상당한 이슈가 되고 있는 용어이다. 컴퓨팅 사고는 복잡한 문제를 분해하여 문제 안에 내재된 패턴을 찾고 추상화 단계를 거쳐서 문제를 해결하는 알고리즘을 작성하는 과정이다. 작성된 알고리즘은 사람이 수행하거나 컴퓨터를 이용하여 자동화될 수 있다. \\n이 책은 컴퓨팅 사고와 파이썬을 동시에 학습할 수 있도록 기획되었다. 파이썬은 컴퓨터를 전공하지 않은 학생들도 쉽게 사용할 수 있다는 큰 장점이 있다. 컴퓨팅 사고는 흥미로운 실습 예제가 많이 필요하다. 이 책에서는 최대한 많은 실습 예제를 간추려서 파이썬으로 실습할 수 있도록 하였다. 파이썬은 다양한 애니메이션이나 가상 실습을 만들 수 있는 최적의 도구이다. 학생들은 파이썬을 통하여 컴퓨터 프로그래밍의 기본적인 개념들과 컴퓨팅 사고에서 나타나는 다양한 실습을 수행할 수 있을 것이다.\"\n",
      "\t\t},\n",
      "\t\t{\n",
      "\t\t\t\"title\":\"파이썬 (제2판)\",\n",
      "\t\t\t\"link\":\"https:\\/\\/search.shopping.naver.com\\/book\\/catalog\\/32436240934\",\n",
      "\t\t\t\"image\":\"https:\\/\\/shopping-phinf.pstatic.net\\/main_3243624\\/32436240934.20230928092006.jpg\",\n",
      "\t\t\t\"author\":\"염기원^오지영\",\n",
      "\t\t\t\"discount\":\"16200\",\n",
      "\t\t\t\"publisher\":\"북두\",\n",
      "\t\t\t\"pubdate\":\"20220120\",\n",
      "\t\t\t\"isbn\":\"9791166750991\",\n",
      "\t\t\t\"description\":\"책의 전반부는 비전공자의 입장에서 비전공자를 위한 파이썬 프로그래밍의 기초적인 내용으로 구성되어 있다. 프로그래밍에 익숙하거나 파이썬 경험이 있는 독자들은 곧바로 책의 후반부를 공부하는 것을 권한다. 책의 전반부에서는 저자가 처음 컴퓨터 프로그래밍이라는 것을 배울 때 가장 어려워했던 변수와 메모리 관계, 특성에 대해서 상세하게 설명하면서 비전공자들이 쉽게 프로그래밍에 입문할 수 있도록 하였다. 대부분의 프로그래밍 교재와 다를바 없이, 파이썬으로 프로그램을 작성할 수 있도록 개발환경을 설치하는 과정과 사용 가능한 프로그래밍 툴에 대해서도 빠지지 않고 최대한 상세한 설명과 충분한 그림을 삽입하였다. 또한, 전반부의 뒷부분은 데이터 분석에 필요한 파이썬 프로그램 위주로 구성해서 앞부분의 기초 프로그래밍 지식을 바탕으로 본격적인 데이터 분석을 위한 토대를 마련할 수 있도록 구성하였다.\"\n",
      "\t\t},\n",
      "\t\t{\n",
      "\t\t\t\"title\":\"파이썬 (비전공자를위한 파이썬 기초 입문서)\",\n",
      "\t\t\t\"link\":\"https:\\/\\/search.shopping.naver.com\\/book\\/catalog\\/32436003648\",\n",
      "\t\t\t\"image\":\"https:\\/\\/shopping-phinf.pstatic.net\\/main_3243600\\/32436003648.20230920072841.jpg\",\n",
      "\t\t\t\"author\":\"김명호\",\n",
      "\t\t\t\"discount\":\"11400\",\n",
      "\t\t\t\"publisher\":\"에듀웨이\",\n",
      "\t\t\t\"pubdate\":\"20190525\",\n",
      "\t\t\t\"isbn\":\"9791186179369\",\n",
      "\t\t\t\"description\":\"막막했던 파이썬, 이제 한 권으로 기초를 배우는\\n파이썬 사용 설명서!\\n\\n전 세계적으로 유명한 구글(Google)이 자신의 많은 서비스를 파이썬으로 제공하고 있습니다. 이것은 구글의 뛰어난 서비스를 개인의 비즈니스에 쉽게 이용할 수 있다는 의미입니다.  이러한 발전에 맞춰 파이썬 문법의 기초를 쉽게 이해할 수 있도록 이 책에서는 친절한 도해와 함께 코딩 개념을 설명합니다. 파이썬을 처음 배우는 학생부터 비전공자, 코딩 실력을 높이려는 직장인까지 기본 문법부터 예제를 통한 활용 실력을 높여 파이썬 프로그래밍을 마스터할 수 있습니다. 가장 쉽고, 빠르게, 효율적인 파이썬 사용 설명서! ‘한 권으로 끝내는 파이썬’에서 찾아보세요.\"\n",
      "\t\t},\n",
      "\t\t{\n",
      "\t\t\t\"title\":\"파이썬\",\n",
      "\t\t\t\"link\":\"https:\\/\\/search.shopping.naver.com\\/book\\/catalog\\/32438172833\",\n",
      "\t\t\t\"image\":\"https:\\/\\/shopping-phinf.pstatic.net\\/main_3243817\\/32438172833.20230920072917.jpg\",\n",
      "\t\t\t\"author\":\"김영천\",\n",
      "\t\t\t\"discount\":\"23750\",\n",
      "\t\t\t\"publisher\":\"기한재\",\n",
      "\t\t\t\"pubdate\":\"20200225\",\n",
      "\t\t\t\"isbn\":\"9788970187990\",\n",
      "\t\t\t\"description\":\"▶ 이 책은 Python(파이썬)을 다룬 이론서입니다. Python(파이썬)의 기초적이고 전반적인 내용을 학습할 수 있습니다.\"\n",
      "\t\t}\n",
      "\t]\n",
      "}\n"
     ]
    }
   ],
   "execution_count": 7
  },
  {
   "metadata": {},
   "cell_type": "markdown",
   "source": "## 2. 상품 검색",
   "id": "536c2837a2d532cc"
  },
  {
   "metadata": {
    "ExecuteTime": {
     "end_time": "2025-06-08T11:29:03.247946Z",
     "start_time": "2025-06-08T11:29:03.037930Z"
    }
   },
   "cell_type": "code",
   "source": [
    "## 2. 예제 코드를 통한 실습\n",
    "# 네이버 검색 API 예제 - 블로그 검색\n",
    "import os\n",
    "import sys\n",
    "import urllib.request\n",
    "\n",
    "encText = urllib.parse.quote(\"몰스킨\")\n",
    "url = \"https://openapi.naver.com/v1/search/shop?query=\" + encText # JSON 결과\n",
    "# url = \"https://openapi.naver.com/v1/search/blog.xml?query=\" + encText # XML 결과\n",
    "\n",
    "request = urllib.request.Request(url)\n",
    "request.add_header(\"X-Naver-Client-Id\",client_id)\n",
    "request.add_header(\"X-Naver-Client-Secret\",client_secret)\n",
    "response = urllib.request.urlopen(request)\n",
    "rescode = response.getcode()\n",
    "\n",
    "if(rescode==200):\n",
    "    response_body = response.read()\n",
    "    print(response_body.decode('utf-8'))\n",
    "else:\n",
    "    print(\"Error Code:\" + rescode)"
   ],
   "id": "6a778dfcde3c0935",
   "outputs": [
    {
     "name": "stdout",
     "output_type": "stream",
     "text": [
      "{\n",
      "\t\"lastBuildDate\":\"Sun, 08 Jun 2025 20:29:03 +0900\",\n",
      "\t\"total\":32637,\n",
      "\t\"start\":1,\n",
      "\t\"display\":10,\n",
      "\t\"items\":[\n",
      "\t\t{\n",
      "\t\t\t\"title\":\"[<b>몰스킨<\\/b>] 2025년 클래식 다이어리 (12개월) (데일리, 위클리, 먼슬리)\",\n",
      "\t\t\t\"link\":\"http:\\/\\/www.moleskine.co.kr\\/index.html?branduid=2557327&ref=naver_open\",\n",
      "\t\t\t\"image\":\"https:\\/\\/shopping-phinf.pstatic.net\\/main_5006626\\/50066265686.jpg\",\n",
      "\t\t\t\"lprice\":\"16200\",\n",
      "\t\t\t\"hprice\":\"\",\n",
      "\t\t\t\"mallName\":\"몰스킨공식온라인스토어\",\n",
      "\t\t\t\"productId\":\"50066265686\",\n",
      "\t\t\t\"productType\":\"2\",\n",
      "\t\t\t\"brand\":\"몰스킨\",\n",
      "\t\t\t\"maker\":\"\",\n",
      "\t\t\t\"category1\":\"생활\\/건강\",\n",
      "\t\t\t\"category2\":\"문구\\/사무용품\",\n",
      "\t\t\t\"category3\":\"다이어리\\/플래너\",\n",
      "\t\t\t\"category4\":\"다이어리\"\n",
      "\t\t},\n",
      "\t\t{\n",
      "\t\t\t\"title\":\"<b>몰스킨<\\/b> 클래식 노트 소프트커버 포켓 블랙\",\n",
      "\t\t\t\"link\":\"https:\\/\\/smartstore.naver.com\\/main\\/products\\/712789629\",\n",
      "\t\t\t\"image\":\"https:\\/\\/shopping-phinf.pstatic.net\\/main_1130910\\/11309100678.3.jpg\",\n",
      "\t\t\t\"lprice\":\"30000\",\n",
      "\t\t\t\"hprice\":\"\",\n",
      "\t\t\t\"mallName\":\"몰스킨스토어\",\n",
      "\t\t\t\"productId\":\"11309100678\",\n",
      "\t\t\t\"productType\":\"2\",\n",
      "\t\t\t\"brand\":\"몰스킨\",\n",
      "\t\t\t\"maker\":\"몰스킨\",\n",
      "\t\t\t\"category1\":\"생활\\/건강\",\n",
      "\t\t\t\"category2\":\"문구\\/사무용품\",\n",
      "\t\t\t\"category3\":\"노트\\/수첩\",\n",
      "\t\t\t\"category4\":\"노트\"\n",
      "\t\t},\n",
      "\t\t{\n",
      "\t\t\t\"title\":\"<b>몰스킨<\\/b> 클래식노트 하드커버\",\n",
      "\t\t\t\"link\":\"https:\\/\\/search.shopping.naver.com\\/catalog\\/46221773618\",\n",
      "\t\t\t\"image\":\"https:\\/\\/shopping-phinf.pstatic.net\\/main_4622177\\/46221773618.20240306165408.jpg\",\n",
      "\t\t\t\"lprice\":\"32000\",\n",
      "\t\t\t\"hprice\":\"\",\n",
      "\t\t\t\"mallName\":\"네이버\",\n",
      "\t\t\t\"productId\":\"46221773618\",\n",
      "\t\t\t\"productType\":\"1\",\n",
      "\t\t\t\"brand\":\"몰스킨\",\n",
      "\t\t\t\"maker\":\"몰스킨\",\n",
      "\t\t\t\"category1\":\"생활\\/건강\",\n",
      "\t\t\t\"category2\":\"문구\\/사무용품\",\n",
      "\t\t\t\"category3\":\"노트\\/수첩\",\n",
      "\t\t\t\"category4\":\"노트\"\n",
      "\t\t},\n",
      "\t\t{\n",
      "\t\t\t\"title\":\"베트라 <b>몰스킨<\\/b> VETRA ,#5 Mens Jacket - Hydrone Moleskin\",\n",
      "\t\t\t\"link\":\"https:\\/\\/barbershop.co.kr\\/product\\/detail.html?product_no=4122&cate_no=157&display_group=1&cafe_mkt=naver_ks&mkt_in=Y&ghost_mall_id=naver&ref=naver_open\",\n",
      "\t\t\t\"image\":\"https:\\/\\/shopping-phinf.pstatic.net\\/main_5321277\\/53212771121.jpg\",\n",
      "\t\t\t\"lprice\":\"380000\",\n",
      "\t\t\t\"hprice\":\"\",\n",
      "\t\t\t\"mallName\":\"바버샵Barbershop\",\n",
      "\t\t\t\"productId\":\"53212771121\",\n",
      "\t\t\t\"productType\":\"2\",\n",
      "\t\t\t\"brand\":\"\",\n",
      "\t\t\t\"maker\":\"\",\n",
      "\t\t\t\"category1\":\"패션의류\",\n",
      "\t\t\t\"category2\":\"남성의류\",\n",
      "\t\t\t\"category3\":\"재킷\",\n",
      "\t\t\t\"category4\":\"\"\n",
      "\t\t},\n",
      "\t\t{\n",
      "\t\t\t\"title\":\"<b>몰스킨<\\/b> 2025 데일리 다이어리 소프트커버 P\",\n",
      "\t\t\t\"link\":\"https:\\/\\/search.shopping.naver.com\\/catalog\\/51017367696\",\n",
      "\t\t\t\"image\":\"https:\\/\\/shopping-phinf.pstatic.net\\/main_5101736\\/51017367696.20241030062351.jpg\",\n",
      "\t\t\t\"lprice\":\"18700\",\n",
      "\t\t\t\"hprice\":\"\",\n",
      "\t\t\t\"mallName\":\"네이버\",\n",
      "\t\t\t\"productId\":\"51017367696\",\n",
      "\t\t\t\"productType\":\"1\",\n",
      "\t\t\t\"brand\":\"몰스킨\",\n",
      "\t\t\t\"maker\":\"몰스킨\",\n",
      "\t\t\t\"category1\":\"생활\\/건강\",\n",
      "\t\t\t\"category2\":\"문구\\/사무용품\",\n",
      "\t\t\t\"category3\":\"다이어리\\/플래너\",\n",
      "\t\t\t\"category4\":\"다이어리\"\n",
      "\t\t},\n",
      "\t\t{\n",
      "\t\t\t\"title\":\"<b>몰스킨<\\/b> 까이에 포켓 블랙 (룰드, 스퀘어드)\",\n",
      "\t\t\t\"link\":\"https:\\/\\/smartstore.naver.com\\/main\\/products\\/2095512856\",\n",
      "\t\t\t\"image\":\"https:\\/\\/shopping-phinf.pstatic.net\\/main_1197568\\/11975685559.jpg\",\n",
      "\t\t\t\"lprice\":\"17000\",\n",
      "\t\t\t\"hprice\":\"\",\n",
      "\t\t\t\"mallName\":\"몰스킨스토어\",\n",
      "\t\t\t\"productId\":\"11975685559\",\n",
      "\t\t\t\"productType\":\"2\",\n",
      "\t\t\t\"brand\":\"몰스킨\",\n",
      "\t\t\t\"maker\":\"몰스킨\",\n",
      "\t\t\t\"category1\":\"생활\\/건강\",\n",
      "\t\t\t\"category2\":\"문구\\/사무용품\",\n",
      "\t\t\t\"category3\":\"노트\\/수첩\",\n",
      "\t\t\t\"category4\":\"노트\"\n",
      "\t\t},\n",
      "\t\t{\n",
      "\t\t\t\"title\":\"<b>몰스킨<\\/b> 년 클래식 위클리 다이어리 18개월 하드커버 라지 2025-26\",\n",
      "\t\t\t\"link\":\"https:\\/\\/search.shopping.naver.com\\/catalog\\/50082711385\",\n",
      "\t\t\t\"image\":\"https:\\/\\/shopping-phinf.pstatic.net\\/main_5008271\\/50082711385.20240831155254.jpg\",\n",
      "\t\t\t\"lprice\":\"22200\",\n",
      "\t\t\t\"hprice\":\"\",\n",
      "\t\t\t\"mallName\":\"네이버\",\n",
      "\t\t\t\"productId\":\"50082711385\",\n",
      "\t\t\t\"productType\":\"1\",\n",
      "\t\t\t\"brand\":\"몰스킨\",\n",
      "\t\t\t\"maker\":\"\",\n",
      "\t\t\t\"category1\":\"생활\\/건강\",\n",
      "\t\t\t\"category2\":\"문구\\/사무용품\",\n",
      "\t\t\t\"category3\":\"다이어리\\/플래너\",\n",
      "\t\t\t\"category4\":\"다이어리\"\n",
      "\t\t},\n",
      "\t\t{\n",
      "\t\t\t\"title\":\"<b>몰스킨<\\/b> 2026 위클리 18개월 다이어리 하드커버 P\",\n",
      "\t\t\t\"link\":\"https:\\/\\/smartstore.naver.com\\/main\\/products\\/11810940511\",\n",
      "\t\t\t\"image\":\"https:\\/\\/shopping-phinf.pstatic.net\\/main_8935545\\/89355451098.jpg\",\n",
      "\t\t\t\"lprice\":\"35000\",\n",
      "\t\t\t\"hprice\":\"\",\n",
      "\t\t\t\"mallName\":\"몰스킨스토어\",\n",
      "\t\t\t\"productId\":\"89355451098\",\n",
      "\t\t\t\"productType\":\"2\",\n",
      "\t\t\t\"brand\":\"몰스킨\",\n",
      "\t\t\t\"maker\":\"몰스킨\",\n",
      "\t\t\t\"category1\":\"생활\\/건강\",\n",
      "\t\t\t\"category2\":\"문구\\/사무용품\",\n",
      "\t\t\t\"category3\":\"다이어리\\/플래너\",\n",
      "\t\t\t\"category4\":\"다이어리\"\n",
      "\t\t},\n",
      "\t\t{\n",
      "\t\t\t\"title\":\"<b>몰스킨<\\/b> 클래식노트 소프트커버\",\n",
      "\t\t\t\"link\":\"https:\\/\\/search.shopping.naver.com\\/catalog\\/46242305618\",\n",
      "\t\t\t\"image\":\"https:\\/\\/shopping-phinf.pstatic.net\\/main_4624230\\/46242305618.20240307141647.jpg\",\n",
      "\t\t\t\"lprice\":\"30000\",\n",
      "\t\t\t\"hprice\":\"\",\n",
      "\t\t\t\"mallName\":\"네이버\",\n",
      "\t\t\t\"productId\":\"46242305618\",\n",
      "\t\t\t\"productType\":\"1\",\n",
      "\t\t\t\"brand\":\"몰스킨\",\n",
      "\t\t\t\"maker\":\"몰스킨\",\n",
      "\t\t\t\"category1\":\"생활\\/건강\",\n",
      "\t\t\t\"category2\":\"문구\\/사무용품\",\n",
      "\t\t\t\"category3\":\"노트\\/수첩\",\n",
      "\t\t\t\"category4\":\"노트\"\n",
      "\t\t},\n",
      "\t\t{\n",
      "\t\t\t\"title\":\"<b>몰스킨<\\/b> 2025 클래식 데일리 소프트커버 포켓 다이어리\",\n",
      "\t\t\t\"link\":\"https:\\/\\/search.shopping.naver.com\\/catalog\\/51051953764\",\n",
      "\t\t\t\"image\":\"https:\\/\\/shopping-phinf.pstatic.net\\/main_5105195\\/51051953764.20250322022740.jpg\",\n",
      "\t\t\t\"lprice\":\"14600\",\n",
      "\t\t\t\"hprice\":\"\",\n",
      "\t\t\t\"mallName\":\"네이버\",\n",
      "\t\t\t\"productId\":\"51051953764\",\n",
      "\t\t\t\"productType\":\"1\",\n",
      "\t\t\t\"brand\":\"몰스킨\",\n",
      "\t\t\t\"maker\":\"\",\n",
      "\t\t\t\"category1\":\"생활\\/건강\",\n",
      "\t\t\t\"category2\":\"문구\\/사무용품\",\n",
      "\t\t\t\"category3\":\"다이어리\\/플래너\",\n",
      "\t\t\t\"category4\":\"다이어리\"\n",
      "\t\t}\n",
      "\t]\n",
      "}\n"
     ]
    }
   ],
   "execution_count": 8
  },
  {
   "metadata": {},
   "cell_type": "markdown",
   "source": "### 1) gen_serach_url  : 검색 URL 생성 함수",
   "id": "8a1a1cdecf622071"
  },
  {
   "metadata": {
    "ExecuteTime": {
     "end_time": "2025-06-08T11:45:27.513914Z",
     "start_time": "2025-06-08T11:45:27.502917Z"
    }
   },
   "cell_type": "code",
   "source": [
    "def gen_serach_url(api_node,search_text,start_num,disp_num):\n",
    "    ### 검색 URL\n",
    "    base = \"https://openapi.naver.com/v1/search/\"\n",
    "    node = \"/\" + api_node + \".json\"\n",
    "\n",
    "    ### 검색어 추가\n",
    "    parma_query=\"?query=\" + urllib.parse.quote(search_text)\n",
    "\n",
    "    ### 번호 추가\n",
    "    param_start = \"&start=\" + str(start_num)\n",
    "    param_disp = \"&display=\" + str(disp_num)\n",
    "\n",
    "    return base + node + parma_query + param_start + param_disp"
   ],
   "id": "bc39a246cf0e9614",
   "outputs": [],
   "execution_count": 25
  },
  {
   "metadata": {
    "ExecuteTime": {
     "end_time": "2025-06-08T11:45:30.380879Z",
     "start_time": "2025-06-08T11:45:30.368881Z"
    }
   },
   "cell_type": "code",
   "source": "gen_serach_url(\"shop\",\"몰스킨\",10,3)",
   "id": "57939e8efe08961a",
   "outputs": [
    {
     "data": {
      "text/plain": [
       "'https://openapi.naver.com/v1/search//shop.json?query=%EB%AA%B0%EC%8A%A4%ED%82%A8&start=10&display=3'"
      ]
     },
     "execution_count": 26,
     "metadata": {},
     "output_type": "execute_result"
    }
   ],
   "execution_count": 26
  },
  {
   "metadata": {},
   "cell_type": "markdown",
   "source": [
    "### 2) get_result_one_page\n",
    "- 한 페이지의 검색 결과를 가져오는 함수"
   ],
   "id": "1c55576f13c946cf"
  },
  {
   "metadata": {
    "ExecuteTime": {
     "end_time": "2025-06-08T11:43:15.682121Z",
     "start_time": "2025-06-08T11:43:15.669528Z"
    }
   },
   "cell_type": "code",
   "source": [
    "import json\n",
    "import datetime\n",
    "\n",
    "def get_result_one_page(url):\n",
    "    ### 요청 생성\n",
    "    request = urllib.request.Request(url)\n",
    "    request.add_header(\"X-Naver-Client-Id\",client_id)\n",
    "    request.add_header(\"X-Naver-Client-Secret\",client_secret)\n",
    "\n",
    "    ### 응답 받기\n",
    "    response = urllib.request.urlopen(request)\n",
    "    print(\"[%s] URL 요청 성공\"% datetime.datetime.now())\n",
    "    return json.loads(response.read().decode('utf-8'))"
   ],
   "id": "939cb2c4983c4099",
   "outputs": [],
   "execution_count": 20
  },
  {
   "metadata": {
    "ExecuteTime": {
     "end_time": "2025-06-08T11:45:35.345669Z",
     "start_time": "2025-06-08T11:45:35.149633Z"
    }
   },
   "cell_type": "code",
   "source": [
    "url = gen_serach_url(\"shop\",\"몰스킨\",1,5)\n",
    "one_result = get_result_one_page(url)"
   ],
   "id": "a1f434e6d3877ffa",
   "outputs": [
    {
     "name": "stdout",
     "output_type": "stream",
     "text": [
      "[2025-06-08 20:45:35.338677] URL 요청 성공\n"
     ]
    }
   ],
   "execution_count": 27
  },
  {
   "metadata": {
    "ExecuteTime": {
     "end_time": "2025-06-08T11:45:38.043478Z",
     "start_time": "2025-06-08T11:45:38.017640Z"
    }
   },
   "cell_type": "code",
   "source": [
    "### 결과 보기 - 딕셔너리 + 리스트 형식임\n",
    "one_result"
   ],
   "id": "a5dd458d097915ed",
   "outputs": [
    {
     "data": {
      "text/plain": [
       "{'lastBuildDate': 'Sun, 08 Jun 2025 20:45:35 +0900',\n",
       " 'total': 32648,\n",
       " 'start': 1,\n",
       " 'display': 5,\n",
       " 'items': [{'title': '[<b>몰스킨</b>] 2025년 클래식 다이어리 (12개월) (데일리, 위클리, 먼슬리)',\n",
       "   'link': 'http://www.moleskine.co.kr/index.html?branduid=2557327&ref=naver_open',\n",
       "   'image': 'https://shopping-phinf.pstatic.net/main_5006626/50066265686.jpg',\n",
       "   'lprice': '16200',\n",
       "   'hprice': '',\n",
       "   'mallName': '몰스킨공식온라인스토어',\n",
       "   'productId': '50066265686',\n",
       "   'productType': '2',\n",
       "   'brand': '몰스킨',\n",
       "   'maker': '',\n",
       "   'category1': '생활/건강',\n",
       "   'category2': '문구/사무용품',\n",
       "   'category3': '다이어리/플래너',\n",
       "   'category4': '다이어리'},\n",
       "  {'title': '<b>몰스킨</b> 클래식 노트 소프트커버 포켓 블랙',\n",
       "   'link': 'https://smartstore.naver.com/main/products/712789629',\n",
       "   'image': 'https://shopping-phinf.pstatic.net/main_1130910/11309100678.3.jpg',\n",
       "   'lprice': '30000',\n",
       "   'hprice': '',\n",
       "   'mallName': '몰스킨스토어',\n",
       "   'productId': '11309100678',\n",
       "   'productType': '2',\n",
       "   'brand': '몰스킨',\n",
       "   'maker': '몰스킨',\n",
       "   'category1': '생활/건강',\n",
       "   'category2': '문구/사무용품',\n",
       "   'category3': '노트/수첩',\n",
       "   'category4': '노트'},\n",
       "  {'title': '<b>몰스킨</b> 클래식노트 하드커버',\n",
       "   'link': 'https://search.shopping.naver.com/catalog/46221773618',\n",
       "   'image': 'https://shopping-phinf.pstatic.net/main_4622177/46221773618.20240306165408.jpg',\n",
       "   'lprice': '32000',\n",
       "   'hprice': '',\n",
       "   'mallName': '네이버',\n",
       "   'productId': '46221773618',\n",
       "   'productType': '1',\n",
       "   'brand': '몰스킨',\n",
       "   'maker': '몰스킨',\n",
       "   'category1': '생활/건강',\n",
       "   'category2': '문구/사무용품',\n",
       "   'category3': '노트/수첩',\n",
       "   'category4': '노트'},\n",
       "  {'title': '베트라 <b>몰스킨</b> VETRA ,#5 Mens Jacket - Hydrone Moleskin',\n",
       "   'link': 'https://barbershop.co.kr/product/detail.html?product_no=4122&cate_no=157&display_group=1&cafe_mkt=naver_ks&mkt_in=Y&ghost_mall_id=naver&ref=naver_open',\n",
       "   'image': 'https://shopping-phinf.pstatic.net/main_5321277/53212771121.jpg',\n",
       "   'lprice': '380000',\n",
       "   'hprice': '',\n",
       "   'mallName': '바버샵Barbershop',\n",
       "   'productId': '53212771121',\n",
       "   'productType': '2',\n",
       "   'brand': '',\n",
       "   'maker': '',\n",
       "   'category1': '패션의류',\n",
       "   'category2': '남성의류',\n",
       "   'category3': '재킷',\n",
       "   'category4': ''},\n",
       "  {'title': '<b>몰스킨</b> 2025 데일리 다이어리 소프트커버 P',\n",
       "   'link': 'https://search.shopping.naver.com/catalog/51017367696',\n",
       "   'image': 'https://shopping-phinf.pstatic.net/main_5101736/51017367696.20241030062351.jpg',\n",
       "   'lprice': '18700',\n",
       "   'hprice': '',\n",
       "   'mallName': '네이버',\n",
       "   'productId': '51017367696',\n",
       "   'productType': '1',\n",
       "   'brand': '몰스킨',\n",
       "   'maker': '몰스킨',\n",
       "   'category1': '생활/건강',\n",
       "   'category2': '문구/사무용품',\n",
       "   'category3': '다이어리/플래너',\n",
       "   'category4': '다이어리'}]}"
      ]
     },
     "execution_count": 28,
     "metadata": {},
     "output_type": "execute_result"
    }
   ],
   "execution_count": 28
  },
  {
   "metadata": {
    "ExecuteTime": {
     "end_time": "2025-06-08T11:45:40.164293Z",
     "start_time": "2025-06-08T11:45:40.137568Z"
    }
   },
   "cell_type": "code",
   "source": "one_result[\"items\"][0]",
   "id": "3086afd50bc7f43c",
   "outputs": [
    {
     "data": {
      "text/plain": [
       "{'title': '[<b>몰스킨</b>] 2025년 클래식 다이어리 (12개월) (데일리, 위클리, 먼슬리)',\n",
       " 'link': 'http://www.moleskine.co.kr/index.html?branduid=2557327&ref=naver_open',\n",
       " 'image': 'https://shopping-phinf.pstatic.net/main_5006626/50066265686.jpg',\n",
       " 'lprice': '16200',\n",
       " 'hprice': '',\n",
       " 'mallName': '몰스킨공식온라인스토어',\n",
       " 'productId': '50066265686',\n",
       " 'productType': '2',\n",
       " 'brand': '몰스킨',\n",
       " 'maker': '',\n",
       " 'category1': '생활/건강',\n",
       " 'category2': '문구/사무용품',\n",
       " 'category3': '다이어리/플래너',\n",
       " 'category4': '다이어리'}"
      ]
     },
     "execution_count": 29,
     "metadata": {},
     "output_type": "execute_result"
    }
   ],
   "execution_count": 29
  },
  {
   "metadata": {
    "ExecuteTime": {
     "end_time": "2025-06-08T11:45:40.763189Z",
     "start_time": "2025-06-08T11:45:40.751679Z"
    }
   },
   "cell_type": "code",
   "source": "one_result[\"items\"][0][\"title\"]",
   "id": "f3b4158518bab4b4",
   "outputs": [
    {
     "data": {
      "text/plain": [
       "'[<b>몰스킨</b>] 2025년 클래식 다이어리 (12개월) (데일리, 위클리, 먼슬리)'"
      ]
     },
     "execution_count": 30,
     "metadata": {},
     "output_type": "execute_result"
    }
   ],
   "execution_count": 30
  },
  {
   "metadata": {},
   "cell_type": "markdown",
   "source": [
    "### 3) get_fields\n",
    "- 검색 결과를 데이터프레임으로 만듦"
   ],
   "id": "2f0a215cf589df02"
  },
  {
   "metadata": {
    "ExecuteTime": {
     "end_time": "2025-06-08T11:50:02.904316Z",
     "start_time": "2025-06-08T11:50:02.879593Z"
    }
   },
   "cell_type": "code",
   "source": [
    "import pandas as pd\n",
    "\n",
    "def get_fields(json_data):\n",
    "    ### 필요 데이터 리스트화\n",
    "    title = [each[\"title\"]for each in json_data[\"items\"]]\n",
    "    link = [each[\"link\"]for each in json_data[\"items\"]]\n",
    "    lprice = [each[\"lprice\"]for each in json_data[\"items\"]]\n",
    "    mall_Name = [each[\"mallName\"]for each in json_data[\"items\"]]\n",
    "\n",
    "    ### 데이터프레임 생성\n",
    "    result_pd = pd.DataFrame(\n",
    "        {\"title\": title,\n",
    "         \"link\": link,\n",
    "         \"lprice\": lprice,\n",
    "         \"mall\": mall_Name\n",
    "         },columns=[\"title\", \"lprice\", \"link\", \"mall\"]\n",
    "    )\n",
    "    return result_pd"
   ],
   "id": "c69b2df78ba872f",
   "outputs": [],
   "execution_count": 33
  },
  {
   "metadata": {
    "ExecuteTime": {
     "end_time": "2025-06-08T11:50:13.866984Z",
     "start_time": "2025-06-08T11:50:13.792999Z"
    }
   },
   "cell_type": "code",
   "source": "get_fields(one_result)",
   "id": "f6f2ce16275c95f1",
   "outputs": [
    {
     "data": {
      "text/plain": [
       "                                               title  lprice  \\\n",
       "0  [<b>몰스킨</b>] 2025년 클래식 다이어리 (12개월) (데일리, 위클리, ...   16200   \n",
       "1                      <b>몰스킨</b> 클래식 노트 소프트커버 포켓 블랙   30000   \n",
       "2                              <b>몰스킨</b> 클래식노트 하드커버   32000   \n",
       "3  베트라 <b>몰스킨</b> VETRA ,#5 Mens Jacket - Hydrone...  380000   \n",
       "4                   <b>몰스킨</b> 2025 데일리 다이어리 소프트커버 P   18700   \n",
       "\n",
       "                                                link           mall  \n",
       "0  http://www.moleskine.co.kr/index.html?branduid...    몰스킨공식온라인스토어  \n",
       "1  https://smartstore.naver.com/main/products/712...         몰스킨스토어  \n",
       "2  https://search.shopping.naver.com/catalog/4622...            네이버  \n",
       "3  https://barbershop.co.kr/product/detail.html?p...  바버샵Barbershop  \n",
       "4  https://search.shopping.naver.com/catalog/5101...            네이버  "
      ],
      "text/html": [
       "<div>\n",
       "<style scoped>\n",
       "    .dataframe tbody tr th:only-of-type {\n",
       "        vertical-align: middle;\n",
       "    }\n",
       "\n",
       "    .dataframe tbody tr th {\n",
       "        vertical-align: top;\n",
       "    }\n",
       "\n",
       "    .dataframe thead th {\n",
       "        text-align: right;\n",
       "    }\n",
       "</style>\n",
       "<table border=\"1\" class=\"dataframe\">\n",
       "  <thead>\n",
       "    <tr style=\"text-align: right;\">\n",
       "      <th></th>\n",
       "      <th>title</th>\n",
       "      <th>lprice</th>\n",
       "      <th>link</th>\n",
       "      <th>mall</th>\n",
       "    </tr>\n",
       "  </thead>\n",
       "  <tbody>\n",
       "    <tr>\n",
       "      <th>0</th>\n",
       "      <td>[&lt;b&gt;몰스킨&lt;/b&gt;] 2025년 클래식 다이어리 (12개월) (데일리, 위클리, ...</td>\n",
       "      <td>16200</td>\n",
       "      <td>http://www.moleskine.co.kr/index.html?branduid...</td>\n",
       "      <td>몰스킨공식온라인스토어</td>\n",
       "    </tr>\n",
       "    <tr>\n",
       "      <th>1</th>\n",
       "      <td>&lt;b&gt;몰스킨&lt;/b&gt; 클래식 노트 소프트커버 포켓 블랙</td>\n",
       "      <td>30000</td>\n",
       "      <td>https://smartstore.naver.com/main/products/712...</td>\n",
       "      <td>몰스킨스토어</td>\n",
       "    </tr>\n",
       "    <tr>\n",
       "      <th>2</th>\n",
       "      <td>&lt;b&gt;몰스킨&lt;/b&gt; 클래식노트 하드커버</td>\n",
       "      <td>32000</td>\n",
       "      <td>https://search.shopping.naver.com/catalog/4622...</td>\n",
       "      <td>네이버</td>\n",
       "    </tr>\n",
       "    <tr>\n",
       "      <th>3</th>\n",
       "      <td>베트라 &lt;b&gt;몰스킨&lt;/b&gt; VETRA ,#5 Mens Jacket - Hydrone...</td>\n",
       "      <td>380000</td>\n",
       "      <td>https://barbershop.co.kr/product/detail.html?p...</td>\n",
       "      <td>바버샵Barbershop</td>\n",
       "    </tr>\n",
       "    <tr>\n",
       "      <th>4</th>\n",
       "      <td>&lt;b&gt;몰스킨&lt;/b&gt; 2025 데일리 다이어리 소프트커버 P</td>\n",
       "      <td>18700</td>\n",
       "      <td>https://search.shopping.naver.com/catalog/5101...</td>\n",
       "      <td>네이버</td>\n",
       "    </tr>\n",
       "  </tbody>\n",
       "</table>\n",
       "</div>"
      ]
     },
     "execution_count": 34,
     "metadata": {},
     "output_type": "execute_result"
    }
   ],
   "execution_count": 34
  },
  {
   "metadata": {},
   "cell_type": "markdown",
   "source": [
    "### 4) delete_tag()\n",
    "- HTML 태그 제거 함수"
   ],
   "id": "3922d6252435c427"
  },
  {
   "metadata": {
    "ExecuteTime": {
     "end_time": "2025-06-08T11:51:31.807060Z",
     "start_time": "2025-06-08T11:51:31.791967Z"
    }
   },
   "cell_type": "code",
   "source": [
    "def delete_tag(input_str):\n",
    "    input_str = input_str.replace(\"<b>\", \"\")\n",
    "    input_str = input_str.replace(\"</b>\", \"\")\n",
    "    return input_str"
   ],
   "id": "4e02a3e42122cfeb",
   "outputs": [],
   "execution_count": 35
  },
  {
   "metadata": {
    "ExecuteTime": {
     "end_time": "2025-06-08T11:53:21.846820Z",
     "start_time": "2025-06-08T11:53:21.836277Z"
    }
   },
   "cell_type": "code",
   "source": [
    "import pandas as pd\n",
    "\n",
    "def get_fields(json_data):\n",
    "    ### 필요 데이터 리스트화\n",
    "    title = [delete_tag(each[\"title\"]) for each in json_data[\"items\"]]\n",
    "    link = [each[\"link\"]for each in json_data[\"items\"]]\n",
    "    lprice = [each[\"lprice\"]for each in json_data[\"items\"]]\n",
    "    mall_Name = [each[\"mallName\"]for each in json_data[\"items\"]]\n",
    "\n",
    "    ### 데이터프레임 생성\n",
    "    result_pd = pd.DataFrame(\n",
    "        {\"title\": title,\n",
    "         \"link\": link,\n",
    "         \"lprice\": lprice,\n",
    "         \"mall\": mall_Name\n",
    "         },columns=[\"title\", \"lprice\", \"link\", \"mall\"]\n",
    "    )\n",
    "    return result_pd"
   ],
   "id": "6bb2b2d2dfe137a9",
   "outputs": [],
   "execution_count": 38
  },
  {
   "metadata": {
    "ExecuteTime": {
     "end_time": "2025-06-08T11:53:22.956717Z",
     "start_time": "2025-06-08T11:53:22.929585Z"
    }
   },
   "cell_type": "code",
   "source": "get_fields(one_result)",
   "id": "f291f5a52c424b53",
   "outputs": [
    {
     "data": {
      "text/plain": [
       "                                              title  lprice  \\\n",
       "0       [몰스킨] 2025년 클래식 다이어리 (12개월) (데일리, 위클리, 먼슬리)   16200   \n",
       "1                            몰스킨 클래식 노트 소프트커버 포켓 블랙   30000   \n",
       "2                                    몰스킨 클래식노트 하드커버   32000   \n",
       "3  베트라 몰스킨 VETRA ,#5 Mens Jacket - Hydrone Moleskin  380000   \n",
       "4                         몰스킨 2025 데일리 다이어리 소프트커버 P   18700   \n",
       "\n",
       "                                                link           mall  \n",
       "0  http://www.moleskine.co.kr/index.html?branduid...    몰스킨공식온라인스토어  \n",
       "1  https://smartstore.naver.com/main/products/712...         몰스킨스토어  \n",
       "2  https://search.shopping.naver.com/catalog/4622...            네이버  \n",
       "3  https://barbershop.co.kr/product/detail.html?p...  바버샵Barbershop  \n",
       "4  https://search.shopping.naver.com/catalog/5101...            네이버  "
      ],
      "text/html": [
       "<div>\n",
       "<style scoped>\n",
       "    .dataframe tbody tr th:only-of-type {\n",
       "        vertical-align: middle;\n",
       "    }\n",
       "\n",
       "    .dataframe tbody tr th {\n",
       "        vertical-align: top;\n",
       "    }\n",
       "\n",
       "    .dataframe thead th {\n",
       "        text-align: right;\n",
       "    }\n",
       "</style>\n",
       "<table border=\"1\" class=\"dataframe\">\n",
       "  <thead>\n",
       "    <tr style=\"text-align: right;\">\n",
       "      <th></th>\n",
       "      <th>title</th>\n",
       "      <th>lprice</th>\n",
       "      <th>link</th>\n",
       "      <th>mall</th>\n",
       "    </tr>\n",
       "  </thead>\n",
       "  <tbody>\n",
       "    <tr>\n",
       "      <th>0</th>\n",
       "      <td>[몰스킨] 2025년 클래식 다이어리 (12개월) (데일리, 위클리, 먼슬리)</td>\n",
       "      <td>16200</td>\n",
       "      <td>http://www.moleskine.co.kr/index.html?branduid...</td>\n",
       "      <td>몰스킨공식온라인스토어</td>\n",
       "    </tr>\n",
       "    <tr>\n",
       "      <th>1</th>\n",
       "      <td>몰스킨 클래식 노트 소프트커버 포켓 블랙</td>\n",
       "      <td>30000</td>\n",
       "      <td>https://smartstore.naver.com/main/products/712...</td>\n",
       "      <td>몰스킨스토어</td>\n",
       "    </tr>\n",
       "    <tr>\n",
       "      <th>2</th>\n",
       "      <td>몰스킨 클래식노트 하드커버</td>\n",
       "      <td>32000</td>\n",
       "      <td>https://search.shopping.naver.com/catalog/4622...</td>\n",
       "      <td>네이버</td>\n",
       "    </tr>\n",
       "    <tr>\n",
       "      <th>3</th>\n",
       "      <td>베트라 몰스킨 VETRA ,#5 Mens Jacket - Hydrone Moleskin</td>\n",
       "      <td>380000</td>\n",
       "      <td>https://barbershop.co.kr/product/detail.html?p...</td>\n",
       "      <td>바버샵Barbershop</td>\n",
       "    </tr>\n",
       "    <tr>\n",
       "      <th>4</th>\n",
       "      <td>몰스킨 2025 데일리 다이어리 소프트커버 P</td>\n",
       "      <td>18700</td>\n",
       "      <td>https://search.shopping.naver.com/catalog/5101...</td>\n",
       "      <td>네이버</td>\n",
       "    </tr>\n",
       "  </tbody>\n",
       "</table>\n",
       "</div>"
      ]
     },
     "execution_count": 39,
     "metadata": {},
     "output_type": "execute_result"
    }
   ],
   "execution_count": 39
  },
  {
   "metadata": {
    "ExecuteTime": {
     "end_time": "2025-06-08T11:54:08.997186Z",
     "start_time": "2025-06-08T11:54:08.796728Z"
    }
   },
   "cell_type": "code",
   "source": [
    "url = gen_serach_url(\"shop\",\"몰스킨\",1,5)\n",
    "json_result = get_result_one_page(url)\n",
    "pd_result = get_fields(json_result)\n",
    "pd_result.head()"
   ],
   "id": "66ec1b80aac828d4",
   "outputs": [
    {
     "name": "stdout",
     "output_type": "stream",
     "text": [
      "[2025-06-08 20:54:08.979544] URL 요청 성공\n"
     ]
    },
    {
     "data": {
      "text/plain": [
       "                                              title  lprice  \\\n",
       "0       [몰스킨] 2025년 클래식 다이어리 (12개월) (데일리, 위클리, 먼슬리)   16200   \n",
       "1                            몰스킨 클래식 노트 소프트커버 포켓 블랙   30000   \n",
       "2                                    몰스킨 클래식노트 하드커버   32000   \n",
       "3  베트라 몰스킨 VETRA ,#5 Mens Jacket - Hydrone Moleskin  380000   \n",
       "4                         몰스킨 2025 데일리 다이어리 소프트커버 P   18700   \n",
       "\n",
       "                                                link           mall  \n",
       "0  http://www.moleskine.co.kr/index.html?branduid...    몰스킨공식온라인스토어  \n",
       "1  https://smartstore.naver.com/main/products/712...         몰스킨스토어  \n",
       "2  https://search.shopping.naver.com/catalog/4622...            네이버  \n",
       "3  https://barbershop.co.kr/product/detail.html?p...  바버샵Barbershop  \n",
       "4  https://search.shopping.naver.com/catalog/5101...            네이버  "
      ],
      "text/html": [
       "<div>\n",
       "<style scoped>\n",
       "    .dataframe tbody tr th:only-of-type {\n",
       "        vertical-align: middle;\n",
       "    }\n",
       "\n",
       "    .dataframe tbody tr th {\n",
       "        vertical-align: top;\n",
       "    }\n",
       "\n",
       "    .dataframe thead th {\n",
       "        text-align: right;\n",
       "    }\n",
       "</style>\n",
       "<table border=\"1\" class=\"dataframe\">\n",
       "  <thead>\n",
       "    <tr style=\"text-align: right;\">\n",
       "      <th></th>\n",
       "      <th>title</th>\n",
       "      <th>lprice</th>\n",
       "      <th>link</th>\n",
       "      <th>mall</th>\n",
       "    </tr>\n",
       "  </thead>\n",
       "  <tbody>\n",
       "    <tr>\n",
       "      <th>0</th>\n",
       "      <td>[몰스킨] 2025년 클래식 다이어리 (12개월) (데일리, 위클리, 먼슬리)</td>\n",
       "      <td>16200</td>\n",
       "      <td>http://www.moleskine.co.kr/index.html?branduid...</td>\n",
       "      <td>몰스킨공식온라인스토어</td>\n",
       "    </tr>\n",
       "    <tr>\n",
       "      <th>1</th>\n",
       "      <td>몰스킨 클래식 노트 소프트커버 포켓 블랙</td>\n",
       "      <td>30000</td>\n",
       "      <td>https://smartstore.naver.com/main/products/712...</td>\n",
       "      <td>몰스킨스토어</td>\n",
       "    </tr>\n",
       "    <tr>\n",
       "      <th>2</th>\n",
       "      <td>몰스킨 클래식노트 하드커버</td>\n",
       "      <td>32000</td>\n",
       "      <td>https://search.shopping.naver.com/catalog/4622...</td>\n",
       "      <td>네이버</td>\n",
       "    </tr>\n",
       "    <tr>\n",
       "      <th>3</th>\n",
       "      <td>베트라 몰스킨 VETRA ,#5 Mens Jacket - Hydrone Moleskin</td>\n",
       "      <td>380000</td>\n",
       "      <td>https://barbershop.co.kr/product/detail.html?p...</td>\n",
       "      <td>바버샵Barbershop</td>\n",
       "    </tr>\n",
       "    <tr>\n",
       "      <th>4</th>\n",
       "      <td>몰스킨 2025 데일리 다이어리 소프트커버 P</td>\n",
       "      <td>18700</td>\n",
       "      <td>https://search.shopping.naver.com/catalog/5101...</td>\n",
       "      <td>네이버</td>\n",
       "    </tr>\n",
       "  </tbody>\n",
       "</table>\n",
       "</div>"
      ]
     },
     "execution_count": 40,
     "metadata": {},
     "output_type": "execute_result"
    }
   ],
   "execution_count": 40
  },
  {
   "metadata": {},
   "cell_type": "markdown",
   "source": "### 5) actMain()\n",
   "id": "6174e13437780baf"
  },
  {
   "metadata": {
    "ExecuteTime": {
     "end_time": "2025-06-08T11:58:22.080942Z",
     "start_time": "2025-06-08T11:58:18.971188Z"
    }
   },
   "cell_type": "code",
   "source": [
    "result_mol=[]\n",
    "\n",
    "### 1000개까지 검색 결과를 가져오는 함수\n",
    "for i in range(1,1000,100):\n",
    "    url = gen_serach_url(\"shop\",\"몰스킨\",i,100)\n",
    "    json_result = get_result_one_page(url)\n",
    "    pd_result = get_fields(json_result)\n",
    "\n",
    "    result_mol.append(pd_result)\n",
    "\n",
    "result_mol = pd.concat(result_mol)"
   ],
   "id": "b995b1a357a30f81",
   "outputs": [
    {
     "name": "stdout",
     "output_type": "stream",
     "text": [
      "[2025-06-08 20:58:19.262108] URL 요청 성공\n",
      "[2025-06-08 20:58:19.527986] URL 요청 성공\n",
      "[2025-06-08 20:58:19.831359] URL 요청 성공\n",
      "[2025-06-08 20:58:20.142975] URL 요청 성공\n",
      "[2025-06-08 20:58:20.483404] URL 요청 성공\n",
      "[2025-06-08 20:58:20.827725] URL 요청 성공\n",
      "[2025-06-08 20:58:21.151511] URL 요청 성공\n",
      "[2025-06-08 20:58:21.457843] URL 요청 성공\n",
      "[2025-06-08 20:58:21.759969] URL 요청 성공\n",
      "[2025-06-08 20:58:22.056408] URL 요청 성공\n"
     ]
    }
   ],
   "execution_count": 49
  },
  {
   "metadata": {
    "ExecuteTime": {
     "end_time": "2025-06-08T11:58:24.797461Z",
     "start_time": "2025-06-08T11:58:24.786347Z"
    }
   },
   "cell_type": "code",
   "source": "result_mol.info()",
   "id": "1669e4120081609b",
   "outputs": [
    {
     "name": "stdout",
     "output_type": "stream",
     "text": [
      "<class 'pandas.core.frame.DataFrame'>\n",
      "Index: 1000 entries, 0 to 99\n",
      "Data columns (total 4 columns):\n",
      " #   Column  Non-Null Count  Dtype \n",
      "---  ------  --------------  ----- \n",
      " 0   title   1000 non-null   object\n",
      " 1   lprice  1000 non-null   object\n",
      " 2   link    1000 non-null   object\n",
      " 3   mall    1000 non-null   object\n",
      "dtypes: object(4)\n",
      "memory usage: 39.1+ KB\n"
     ]
    }
   ],
   "execution_count": 50
  },
  {
   "metadata": {
    "ExecuteTime": {
     "end_time": "2025-06-08T11:59:01.683524Z",
     "start_time": "2025-06-08T11:59:01.657217Z"
    }
   },
   "cell_type": "code",
   "source": [
    "### 인덱스 변경\n",
    "result_mol.reset_index(drop=True, inplace=True)\n",
    "result_mol.info()"
   ],
   "id": "1abbaf4b8b1fa226",
   "outputs": [
    {
     "name": "stdout",
     "output_type": "stream",
     "text": [
      "<class 'pandas.core.frame.DataFrame'>\n",
      "RangeIndex: 1000 entries, 0 to 999\n",
      "Data columns (total 4 columns):\n",
      " #   Column  Non-Null Count  Dtype \n",
      "---  ------  --------------  ----- \n",
      " 0   title   1000 non-null   object\n",
      " 1   lprice  1000 non-null   object\n",
      " 2   link    1000 non-null   object\n",
      " 3   mall    1000 non-null   object\n",
      "dtypes: object(4)\n",
      "memory usage: 31.4+ KB\n"
     ]
    }
   ],
   "execution_count": 51
  },
  {
   "metadata": {
    "ExecuteTime": {
     "end_time": "2025-06-08T12:00:18.153310Z",
     "start_time": "2025-06-08T12:00:18.126209Z"
    }
   },
   "cell_type": "code",
   "source": [
    "### 가격을 숫자로 변경\n",
    "result_mol[\"lprice\"] = result_mol[\"lprice\"].astype(\"float\")\n",
    "result_mol.info()"
   ],
   "id": "31e96363d5d745b",
   "outputs": [
    {
     "name": "stdout",
     "output_type": "stream",
     "text": [
      "<class 'pandas.core.frame.DataFrame'>\n",
      "RangeIndex: 1000 entries, 0 to 999\n",
      "Data columns (total 4 columns):\n",
      " #   Column  Non-Null Count  Dtype  \n",
      "---  ------  --------------  -----  \n",
      " 0   title   1000 non-null   object \n",
      " 1   lprice  1000 non-null   float64\n",
      " 2   link    1000 non-null   object \n",
      " 3   mall    1000 non-null   object \n",
      "dtypes: float64(1), object(3)\n",
      "memory usage: 31.4+ KB\n"
     ]
    }
   ],
   "execution_count": 53
  },
  {
   "metadata": {},
   "cell_type": "markdown",
   "source": [
    "### 6) 엑셀 저장\n",
    "- 저장함수가 save() > close()로 변경됨"
   ],
   "id": "3da334368e1d5d72"
  },
  {
   "metadata": {
    "ExecuteTime": {
     "end_time": "2025-06-08T12:07:55.312984Z",
     "start_time": "2025-06-08T12:07:55.071832Z"
    }
   },
   "cell_type": "code",
   "source": [
    "writer = pd.ExcelWriter(\"../../data/06.Naver_API/diary_in_naver_shop.xlsx\", engine=\"xlsxwriter\")\n",
    "result_mol.to_excel(writer, sheet_name=\"Sheet1\")\n",
    "\n",
    "### 작성 할 엑셀 파일 및 시트 설정\n",
    "workbook = writer.book\n",
    "worksheet = writer.sheets[\"Sheet1\"]\n",
    "\n",
    "### 엑셀 컬럼 너비 설정\n",
    "worksheet.set_column(\"A:A\", 4)\n",
    "worksheet.set_column(\"B:B\", 60)\n",
    "worksheet.set_column(\"C:C\", 10)\n",
    "worksheet.set_column(\"D:D\", 10)\n",
    "worksheet.set_column(\"E:E\", 50)\n",
    "worksheet.set_column(\"F:F\", 10)\n",
    "\n",
    "### 엑셀 조건부 서식 설정\n",
    "worksheet.conditional_format(\"C2:C1001\", {'type': '3_color_scale'})\n",
    "\n",
    "### 엑셀로 저장\n",
    "writer.close()"
   ],
   "id": "6581a67686041d45",
   "outputs": [],
   "execution_count": 56
  },
  {
   "metadata": {
    "ExecuteTime": {
     "end_time": "2025-06-08T12:12:09.082424Z",
     "start_time": "2025-06-08T12:12:07.448448Z"
    }
   },
   "cell_type": "code",
   "source": [
    "### 7) 시각화\n",
    "import set_matplotlib\n",
    "import matplotlib.pyplot as plt\n",
    "import seaborn as sns"
   ],
   "id": "23bab1b53fb80bb3",
   "outputs": [],
   "execution_count": 59
  },
  {
   "metadata": {
    "ExecuteTime": {
     "end_time": "2025-06-08T12:16:15.521092Z",
     "start_time": "2025-06-08T12:16:15.272029Z"
    }
   },
   "cell_type": "code",
   "source": [
    "plt.figure(figsize = (15,6))\n",
    "sns.countplot(\n",
    "    x=result_mol[\"mall\"],\n",
    "    hue=\"mall\",\n",
    "    data=result_mol,\n",
    "    palette=\"RdYlGn\",\n",
    "    order=result_mol[\"mall\"].value_counts().index\n",
    ")\n",
    "### 글씨 90도 돌리기\n",
    "plt.xticks(rotation=90)\n",
    "\n",
    "plt.show()"
   ],
   "id": "875c0cd172203938",
   "outputs": [
    {
     "data": {
      "text/plain": [
       "<Figure size 1500x600 with 1 Axes>"
      ],
      "image/png": "[encoded data removed]"
     },
     "metadata": {},
     "output_type": "display_data"
    }
   ],
   "execution_count": 63
  },
  {
   "metadata": {},
   "cell_type": "code",
   "outputs": [],
   "execution_count": null,
   "source": "",
   "id": "fe88981f963102c0"
  }
 ],
 "metadata": {
  "kernelspec": {
   "display_name": "Python 3",
   "language": "python",
   "name": "python3"
  },
  "language_info": {
   "codemirror_mode": {
    "name": "ipython",
    "version": 2
   },
   "file_extension": ".py",
   "mimetype": "text/x-python",
   "name": "python",
   "nbconvert_exporter": "python",
   "pygments_lexer": "ipython2",
   "version": "2.7.6"
  }
 },
 "nbformat": 4,
 "nbformat_minor": 5
}
