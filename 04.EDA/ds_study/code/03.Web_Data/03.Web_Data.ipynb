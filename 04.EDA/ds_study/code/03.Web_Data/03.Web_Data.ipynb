{
 "cells": [
  {
   "metadata": {},
   "cell_type": "markdown",
   "source": "# 03. Web Data",
   "id": "a4fa4307444bd58"
  },
  {
   "metadata": {},
   "cell_type": "markdown",
   "source": "## 1. BeautifulSoup for Web Data",
   "id": "9665a248481fb153"
  },
  {
   "metadata": {},
   "cell_type": "markdown",
   "source": "----",
   "id": "e9769469b9fab8b8"
  },
  {
   "metadata": {},
   "cell_type": "markdown",
   "source": [
    "### BeautifulSoup Basic\n",
    "#### 설치 방법\n",
    "```conda install -c anaconda beautifulsoup4```\n",
    "\n",
    "#### html 데이터 사용\n",
    "- 03.test_first.html\n",
    "\n",
    "#### BeautifulSoup 사용\n",
    "```from bs4 import BeautifulSoup```\n",
    "\n",
    "##### html 파일 읽기\n",
    "```open(\"파일경로\", \"모드\").read()```\n",
    "  - 모드 : r(읽기), w(쓰기), a(추가)"
   ],
   "id": "52e9fcf2157fcb07"
  },
  {
   "metadata": {
    "ExecuteTime": {
     "end_time": "2025-06-03T12:07:23.284720Z",
     "start_time": "2025-06-03T12:07:23.273168Z"
    }
   },
   "cell_type": "code",
   "source": "from bs4 import BeautifulSoup",
   "id": "4888f89e505929a0",
   "outputs": [],
   "execution_count": 3
  },
  {
   "metadata": {
    "ExecuteTime": {
     "end_time": "2025-06-03T12:10:52.160497Z",
     "start_time": "2025-06-03T12:10:52.148391Z"
    }
   },
   "cell_type": "code",
   "source": [
    "page = open(\"../../data/03.Web_Data/web_data.html\", \"r\", encoding=\"utf-8\").read()\n",
    "print(page)"
   ],
   "id": "e4e7178cb7a526b0",
   "outputs": [
    {
     "name": "stdout",
     "output_type": "stream",
     "text": [
      "<!DOCTYPE html>\n",
      "<html lang=\"en\">\n",
      "<head>\n",
      "    <meta charset=\"UTF-8\">\n",
      "    <title>Very Simple HTML Code by Normal Guy</title>\n",
      "</head>\n",
      "<body>\n",
      "    <div>\n",
      "        <p class=\"inner-text first-item\" id=\"frist\">\n",
      "            Just Normal One\n",
      "            <a href=\"https://github.com/instar94/mleng\" id=\"pw-line\">Normal Guy</a>\n",
      "        </p>\n",
      "        <p class=\"inner-text second-item\">\n",
      "            Just Normal Data Science\n",
      "            <a href=\"https://www.python.org\" id=\"py-link\">Python</a>\n",
      "        </p>\n",
      "        <p class=\"outer-text first-item\" id=\"second\">\n",
      "            <b>\n",
      "                Data Science is fun.\n",
      "            </b>\n",
      "        </p>\n",
      "        <p class=\"outer-text\">\n",
      "            <i>\n",
      "                All I need is Love.\n",
      "            </i>\n",
      "    </div>\n",
      "</body>\n",
      "</html>\n"
     ]
    }
   ],
   "execution_count": 8
  },
  {
   "metadata": {},
   "cell_type": "markdown",
   "source": [
    "#### BeautifulSoup 객체 생성\n",
    "```BeautifulSoup(html, \"엔진\")```\n",
    "- html.parser : HTML 파싱을 위한 기본 엔진 (파이썬)\n",
    "- lxml : HTML/XML 파싱을 위한 외부 엔진 (C언어로 작성되어 빠름)\n",
    "- html5lib : HTML5 파싱을 위한 외부 엔진 (파이썬으로 작성되어 느림)"
   ],
   "id": "8781569f68d9298c"
  },
  {
   "metadata": {
    "ExecuteTime": {
     "end_time": "2025-06-03T12:14:04.454284Z",
     "start_time": "2025-06-03T12:14:04.441751Z"
    }
   },
   "cell_type": "code",
   "source": "soup = BeautifulSoup(page, \"html.parser\")",
   "id": "be01a37534f244d3",
   "outputs": [],
   "execution_count": 9
  },
  {
   "metadata": {},
   "cell_type": "markdown",
   "source": "#### HTML 들여쓰기 보기",
   "id": "ff75065c2aa57d25"
  },
  {
   "metadata": {
    "ExecuteTime": {
     "end_time": "2025-06-03T12:14:36.332707Z",
     "start_time": "2025-06-03T12:14:36.320710Z"
    }
   },
   "cell_type": "code",
   "source": "print(soup.prettify())",
   "id": "acd4d1992c00cd59",
   "outputs": [
    {
     "name": "stdout",
     "output_type": "stream",
     "text": [
      "<!DOCTYPE html>\n",
      "<html lang=\"en\">\n",
      " <head>\n",
      "  <meta charset=\"utf-8\"/>\n",
      "  <title>\n",
      "   Very Simple HTML Code by Normal Guy\n",
      "  </title>\n",
      " </head>\n",
      " <body>\n",
      "  <div>\n",
      "   <p class=\"inner-text first-item\" id=\"frist\">\n",
      "    Just Normal One\n",
      "    <a href=\"https://github.com/instar94/mleng\" id=\"pw-line\">\n",
      "     Normal Guy\n",
      "    </a>\n",
      "   </p>\n",
      "   <p class=\"inner-text second-item\">\n",
      "    Just Normal Data Science\n",
      "    <a href=\"https://www.python.org\" id=\"py-link\">\n",
      "     Python\n",
      "    </a>\n",
      "   </p>\n",
      "   <p class=\"outer-text first-item\" id=\"second\">\n",
      "    <b>\n",
      "     Data Science is fun.\n",
      "    </b>\n",
      "   </p>\n",
      "   <p class=\"outer-text\">\n",
      "    <i>\n",
      "     All I need is Love.\n",
      "    </i>\n",
      "   </p>\n",
      "  </div>\n",
      " </body>\n",
      "</html>\n",
      "\n"
     ]
    }
   ],
   "execution_count": 10
  },
  {
   "metadata": {},
   "cell_type": "markdown",
   "source": "#### HTML 데이터 찾기",
   "id": "7b8e1dabd8bad360"
  },
  {
   "metadata": {},
   "cell_type": "markdown",
   "source": [
    "##### head\n",
    "- head 태그 찾기"
   ],
   "id": "80ee39ece7fe35a0"
  },
  {
   "metadata": {
    "ExecuteTime": {
     "end_time": "2025-06-03T12:15:36.051756Z",
     "start_time": "2025-06-03T12:15:36.034834Z"
    }
   },
   "cell_type": "code",
   "source": "soup.head",
   "id": "fec2d230dba5d96b",
   "outputs": [
    {
     "data": {
      "text/plain": [
       "<head>\n",
       "<meta charset=\"utf-8\"/>\n",
       "<title>Very Simple HTML Code by Normal Guy</title>\n",
       "</head>"
      ]
     },
     "execution_count": 12,
     "metadata": {},
     "output_type": "execute_result"
    }
   ],
   "execution_count": 12
  },
  {
   "metadata": {},
   "cell_type": "markdown",
   "source": [
    "##### body\n",
    "- body 태그 찾기"
   ],
   "id": "5e8e577d6c98161"
  },
  {
   "metadata": {
    "ExecuteTime": {
     "end_time": "2025-06-03T12:16:38.546222Z",
     "start_time": "2025-06-03T12:16:38.534745Z"
    }
   },
   "cell_type": "code",
   "source": "soup.body",
   "id": "eef02609526c8d44",
   "outputs": [
    {
     "data": {
      "text/plain": [
       "<body>\n",
       "<div>\n",
       "<p class=\"inner-text first-item\" id=\"frist\">\n",
       "            Just Normal One\n",
       "            <a href=\"https://github.com/instar94/mleng\" id=\"pw-line\">Normal Guy</a>\n",
       "</p>\n",
       "<p class=\"inner-text second-item\">\n",
       "            Just Normal Data Science\n",
       "            <a href=\"https://www.python.org\" id=\"py-link\">Python</a>\n",
       "</p>\n",
       "<p class=\"outer-text first-item\" id=\"second\">\n",
       "<b>\n",
       "                Data Science is fun.\n",
       "            </b>\n",
       "</p>\n",
       "<p class=\"outer-text\">\n",
       "<i>\n",
       "                All I need is Love.\n",
       "            </i>\n",
       "</p></div>\n",
       "</body>"
      ]
     },
     "execution_count": 13,
     "metadata": {},
     "output_type": "execute_result"
    }
   ],
   "execution_count": 13
  },
  {
   "metadata": {},
   "cell_type": "markdown",
   "source": [
    "#### p\n",
    "- p 태그 찾기m"
   ],
   "id": "71e40445282bde6f"
  },
  {
   "metadata": {
    "ExecuteTime": {
     "end_time": "2025-06-03T12:17:16.634390Z",
     "start_time": "2025-06-03T12:17:16.608878Z"
    }
   },
   "cell_type": "code",
   "source": "soup.p",
   "id": "7bd7cb08b86c5b10",
   "outputs": [
    {
     "data": {
      "text/plain": [
       "<p class=\"inner-text first-item\" id=\"frist\">\n",
       "            Just Normal One\n",
       "            <a href=\"https://github.com/instar94/mleng\" id=\"pw-line\">Normal Guy</a>\n",
       "</p>"
      ]
     },
     "execution_count": 14,
     "metadata": {},
     "output_type": "execute_result"
    }
   ],
   "execution_count": 14
  },
  {
   "metadata": {},
   "cell_type": "markdown",
   "source": [
    "#### find()\n",
    "- find() : 첫 번째로 찾은 태그를 반환"
   ],
   "id": "a7c50a83b51d7f56"
  },
  {
   "metadata": {
    "ExecuteTime": {
     "end_time": "2025-06-03T12:18:15.575649Z",
     "start_time": "2025-06-03T12:18:15.563652Z"
    }
   },
   "cell_type": "code",
   "source": "soup.find(\"p\")",
   "id": "8c26a126855292d6",
   "outputs": [
    {
     "data": {
      "text/plain": [
       "<p class=\"inner-text first-item\" id=\"frist\">\n",
       "            Just Normal One\n",
       "            <a href=\"https://github.com/instar94/mleng\" id=\"pw-line\">Normal Guy</a>\n",
       "</p>"
      ]
     },
     "execution_count": 15,
     "metadata": {},
     "output_type": "execute_result"
    }
   ],
   "execution_count": 15
  },
  {
   "metadata": {},
   "cell_type": "markdown",
   "source": [
    "#### find() 옵션\n",
    "- `class_` : 클래스 이름 특정하기\n",
    "  - 딕셔너리로 여러 클래스 이름 지정 가능"
   ],
   "id": "5844313215bfca81"
  },
  {
   "metadata": {
    "ExecuteTime": {
     "end_time": "2025-06-03T12:20:14.438672Z",
     "start_time": "2025-06-03T12:20:14.426065Z"
    }
   },
   "cell_type": "code",
   "source": "soup.find(\"p\", class_=\"inner-text first-item\")",
   "id": "687561312731ba70",
   "outputs": [
    {
     "data": {
      "text/plain": [
       "<p class=\"inner-text first-item\" id=\"frist\">\n",
       "            Just Normal One\n",
       "            <a href=\"https://github.com/instar94/mleng\" id=\"pw-line\">Normal Guy</a>\n",
       "</p>"
      ]
     },
     "execution_count": 18,
     "metadata": {},
     "output_type": "execute_result"
    }
   ],
   "execution_count": 18
  },
  {
   "metadata": {
    "ExecuteTime": {
     "end_time": "2025-06-03T12:22:47.654673Z",
     "start_time": "2025-06-03T12:22:47.644134Z"
    }
   },
   "cell_type": "code",
   "source": "soup.find(\"p\", {\"class\" : \"inner-text first-item\"})",
   "id": "5a3db11edd9dae5e",
   "outputs": [
    {
     "data": {
      "text/plain": [
       "<p class=\"inner-text first-item\" id=\"frist\">\n",
       "            Just Normal One\n",
       "            <a href=\"https://github.com/instar94/mleng\" id=\"pw-line\">Normal Guy</a>\n",
       "</p>"
      ]
     },
     "execution_count": 20,
     "metadata": {},
     "output_type": "execute_result"
    }
   ],
   "execution_count": 20
  },
  {
   "metadata": {},
   "cell_type": "markdown",
   "source": [
    "#### text\n",
    "- text : 태그 안의 텍스트 찾기\n",
    "- stript() : 텍스트의 앞뒤 공백 제거"
   ],
   "id": "17394966d5840777"
  },
  {
   "metadata": {
    "ExecuteTime": {
     "end_time": "2025-06-03T12:24:36.732109Z",
     "start_time": "2025-06-03T12:24:36.713568Z"
    }
   },
   "cell_type": "code",
   "source": "soup.find(\"p\", {\"class\" : \"outer-text first-item\"}).text.strip()",
   "id": "bd403b6979e6d83e",
   "outputs": [
    {
     "data": {
      "text/plain": [
       "'Data Science is fun.'"
      ]
     },
     "execution_count": 23,
     "metadata": {},
     "output_type": "execute_result"
    }
   ],
   "execution_count": 23
  },
  {
   "metadata": {},
   "cell_type": "markdown",
   "source": [
    "#### find 다중 조건\n",
    "- find : 여러 조건을 동시에 만족하는 태그 찾기\n",
    "- 딕셔너리 안에 조건을 추가"
   ],
   "id": "59a1687e13cc4645"
  },
  {
   "metadata": {
    "ExecuteTime": {
     "end_time": "2025-06-03T12:26:05.310286Z",
     "start_time": "2025-06-03T12:26:05.297414Z"
    }
   },
   "cell_type": "code",
   "source": "soup.find(\"p\", {\"class\" : \"inner-text first-item\" ,\"id\":\"frist\"})",
   "id": "bb8f567bc28a414",
   "outputs": [
    {
     "data": {
      "text/plain": [
       "<p class=\"inner-text first-item\" id=\"frist\">\n",
       "            Just Normal One\n",
       "            <a href=\"https://github.com/instar94/mleng\" id=\"pw-line\">Normal Guy</a>\n",
       "</p>"
      ]
     },
     "execution_count": 24,
     "metadata": {},
     "output_type": "execute_result"
    }
   ],
   "execution_count": 24
  },
  {
   "metadata": {},
   "cell_type": "markdown",
   "source": [
    "### find_all()\n",
    "- find_all() : 모든 태그를 리스트로 반환"
   ],
   "id": "f29270796245ed43"
  },
  {
   "metadata": {
    "ExecuteTime": {
     "end_time": "2025-06-03T12:28:16.710141Z",
     "start_time": "2025-06-03T12:28:16.698139Z"
    }
   },
   "cell_type": "code",
   "source": "soup.find_all()",
   "id": "2c0c9d75bb2f7b66",
   "outputs": [
    {
     "data": {
      "text/plain": [
       "[<html lang=\"en\">\n",
       " <head>\n",
       " <meta charset=\"utf-8\"/>\n",
       " <title>Very Simple HTML Code by Normal Guy</title>\n",
       " </head>\n",
       " <body>\n",
       " <div>\n",
       " <p class=\"inner-text first-item\" id=\"frist\">\n",
       "             Just Normal One\n",
       "             <a href=\"https://github.com/instar94/mleng\" id=\"pw-line\">Normal Guy</a>\n",
       " </p>\n",
       " <p class=\"inner-text second-item\">\n",
       "             Just Normal Data Science\n",
       "             <a href=\"https://www.python.org\" id=\"py-link\">Python</a>\n",
       " </p>\n",
       " <p class=\"outer-text first-item\" id=\"second\">\n",
       " <b>\n",
       "                 Data Science is fun.\n",
       "             </b>\n",
       " </p>\n",
       " <p class=\"outer-text\">\n",
       " <i>\n",
       "                 All I need is Love.\n",
       "             </i>\n",
       " </p></div>\n",
       " </body>\n",
       " </html>,\n",
       " <head>\n",
       " <meta charset=\"utf-8\"/>\n",
       " <title>Very Simple HTML Code by Normal Guy</title>\n",
       " </head>,\n",
       " <meta charset=\"utf-8\"/>,\n",
       " <title>Very Simple HTML Code by Normal Guy</title>,\n",
       " <body>\n",
       " <div>\n",
       " <p class=\"inner-text first-item\" id=\"frist\">\n",
       "             Just Normal One\n",
       "             <a href=\"https://github.com/instar94/mleng\" id=\"pw-line\">Normal Guy</a>\n",
       " </p>\n",
       " <p class=\"inner-text second-item\">\n",
       "             Just Normal Data Science\n",
       "             <a href=\"https://www.python.org\" id=\"py-link\">Python</a>\n",
       " </p>\n",
       " <p class=\"outer-text first-item\" id=\"second\">\n",
       " <b>\n",
       "                 Data Science is fun.\n",
       "             </b>\n",
       " </p>\n",
       " <p class=\"outer-text\">\n",
       " <i>\n",
       "                 All I need is Love.\n",
       "             </i>\n",
       " </p></div>\n",
       " </body>,\n",
       " <div>\n",
       " <p class=\"inner-text first-item\" id=\"frist\">\n",
       "             Just Normal One\n",
       "             <a href=\"https://github.com/instar94/mleng\" id=\"pw-line\">Normal Guy</a>\n",
       " </p>\n",
       " <p class=\"inner-text second-item\">\n",
       "             Just Normal Data Science\n",
       "             <a href=\"https://www.python.org\" id=\"py-link\">Python</a>\n",
       " </p>\n",
       " <p class=\"outer-text first-item\" id=\"second\">\n",
       " <b>\n",
       "                 Data Science is fun.\n",
       "             </b>\n",
       " </p>\n",
       " <p class=\"outer-text\">\n",
       " <i>\n",
       "                 All I need is Love.\n",
       "             </i>\n",
       " </p></div>,\n",
       " <p class=\"inner-text first-item\" id=\"frist\">\n",
       "             Just Normal One\n",
       "             <a href=\"https://github.com/instar94/mleng\" id=\"pw-line\">Normal Guy</a>\n",
       " </p>,\n",
       " <a href=\"https://github.com/instar94/mleng\" id=\"pw-line\">Normal Guy</a>,\n",
       " <p class=\"inner-text second-item\">\n",
       "             Just Normal Data Science\n",
       "             <a href=\"https://www.python.org\" id=\"py-link\">Python</a>\n",
       " </p>,\n",
       " <a href=\"https://www.python.org\" id=\"py-link\">Python</a>,\n",
       " <p class=\"outer-text first-item\" id=\"second\">\n",
       " <b>\n",
       "                 Data Science is fun.\n",
       "             </b>\n",
       " </p>,\n",
       " <b>\n",
       "                 Data Science is fun.\n",
       "             </b>,\n",
       " <p class=\"outer-text\">\n",
       " <i>\n",
       "                 All I need is Love.\n",
       "             </i>\n",
       " </p>,\n",
       " <i>\n",
       "                 All I need is Love.\n",
       "             </i>]"
      ]
     },
     "execution_count": 27,
     "metadata": {},
     "output_type": "execute_result"
    }
   ],
   "execution_count": 27
  },
  {
   "metadata": {},
   "cell_type": "markdown",
   "source": [
    "#### find_all() 옵션\n",
    "##### 특정 태그 찾기 find_all(\"태그이름\")"
   ],
   "id": "f01da1b3d45b2df8"
  },
  {
   "metadata": {
    "ExecuteTime": {
     "end_time": "2025-06-03T12:28:55.322162Z",
     "start_time": "2025-06-03T12:28:55.311162Z"
    }
   },
   "cell_type": "code",
   "source": "soup.find_all(\"p\")",
   "id": "677a53192705ba38",
   "outputs": [
    {
     "data": {
      "text/plain": [
       "[<p class=\"inner-text first-item\" id=\"frist\">\n",
       "             Just Normal One\n",
       "             <a href=\"https://github.com/instar94/mleng\" id=\"pw-line\">Normal Guy</a>\n",
       " </p>,\n",
       " <p class=\"inner-text second-item\">\n",
       "             Just Normal Data Science\n",
       "             <a href=\"https://www.python.org\" id=\"py-link\">Python</a>\n",
       " </p>,\n",
       " <p class=\"outer-text first-item\" id=\"second\">\n",
       " <b>\n",
       "                 Data Science is fun.\n",
       "             </b>\n",
       " </p>,\n",
       " <p class=\"outer-text\">\n",
       " <i>\n",
       "                 All I need is Love.\n",
       "             </i>\n",
       " </p>]"
      ]
     },
     "execution_count": 28,
     "metadata": {},
     "output_type": "execute_result"
    }
   ],
   "execution_count": 28
  },
  {
   "metadata": {
    "ExecuteTime": {
     "end_time": "2025-06-03T12:30:51.787382Z",
     "start_time": "2025-06-03T12:30:51.775174Z"
    }
   },
   "cell_type": "code",
   "source": "soup.find_all(\"p\", class_=\"outer-text\")",
   "id": "593710726d33da23",
   "outputs": [
    {
     "data": {
      "text/plain": [
       "[<p class=\"outer-text first-item\" id=\"second\">\n",
       " <b>\n",
       "                 Data Science is fun.\n",
       "             </b>\n",
       " </p>,\n",
       " <p class=\"outer-text\">\n",
       " <i>\n",
       "                 All I need is Love.\n",
       "             </i>\n",
       " </p>]"
      ]
     },
     "execution_count": 31,
     "metadata": {},
     "output_type": "execute_result"
    }
   ],
   "execution_count": 31
  },
  {
   "metadata": {},
   "cell_type": "markdown",
   "source": [
    "##### text를 보는 매서드\n",
    "- text : 태그 안의 텍스트 찾기\n",
    "- string : 태그 안의 텍스트를 리스트로 반환\n",
    "- get_text() : 태그 안의 텍스트를 문자열로 반환\n",
    "- 리스트 형식이기 때문에 요소를 지정"
   ],
   "id": "fa9fbb35c39ffffa"
  },
  {
   "metadata": {
    "ExecuteTime": {
     "end_time": "2025-06-03T12:32:06.969634Z",
     "start_time": "2025-06-03T12:32:06.942637Z"
    }
   },
   "cell_type": "code",
   "source": "soup.find_all(id=\"pw-line\")[0].text.strip()",
   "id": "56a38adda3159cb3",
   "outputs": [
    {
     "data": {
      "text/plain": [
       "'Normal Guy'"
      ]
     },
     "execution_count": 33,
     "metadata": {},
     "output_type": "execute_result"
    }
   ],
   "execution_count": 33
  },
  {
   "metadata": {},
   "cell_type": "markdown",
   "source": "##### 반복문을 이용해 p 태그 텍스트 속성만 출력",
   "id": "63ba0bc3892637cd"
  },
  {
   "metadata": {
    "ExecuteTime": {
     "end_time": "2025-06-03T12:36:40.807429Z",
     "start_time": "2025-06-03T12:36:40.785734Z"
    }
   },
   "cell_type": "code",
   "source": [
    "for p in soup.find_all(\"p\"):\n",
    "    print(\"=\" * 50)\n",
    "    print(p.text)"
   ],
   "id": "e7118ccc3dceffe1",
   "outputs": [
    {
     "name": "stdout",
     "output_type": "stream",
     "text": [
      "==================================================\n",
      "\n",
      "            Just Normal One\n",
      "            Normal Guy\n",
      "\n",
      "==================================================\n",
      "\n",
      "            Just Normal Data Science\n",
      "            Python\n",
      "\n",
      "==================================================\n",
      "\n",
      "\n",
      "                Data Science is fun.\n",
      "            \n",
      "\n",
      "==================================================\n",
      "\n",
      "\n",
      "                All I need is Love.\n",
      "            \n",
      "\n"
     ]
    }
   ],
   "execution_count": 39
  },
  {
   "metadata": {},
   "cell_type": "markdown",
   "source": [
    "#### 링크 추출\n",
    "- a 태그의 href 속성 추출\n",
    "- `get()` 메서드 사용\n",
    "- `links[1]['href']` : 두 번째 a 태그의 href 속성"
   ],
   "id": "74090e65030b656b"
  },
  {
   "metadata": {
    "ExecuteTime": {
     "end_time": "2025-06-03T12:43:17.000042Z",
     "start_time": "2025-06-03T12:43:16.992292Z"
    }
   },
   "cell_type": "code",
   "source": [
    "link = soup.find_all(\"a\")\n",
    "link[0].get(\"href\")\n",
    "link[1]['href']"
   ],
   "id": "2418661a0af5f60f",
   "outputs": [
    {
     "data": {
      "text/plain": [
       "'https://www.python.org'"
      ]
     },
     "execution_count": 47,
     "metadata": {},
     "output_type": "execute_result"
    }
   ],
   "execution_count": 47
  },
  {
   "metadata": {
    "ExecuteTime": {
     "end_time": "2025-06-03T12:43:25.035757Z",
     "start_time": "2025-06-03T12:43:25.023240Z"
    }
   },
   "cell_type": "code",
   "source": [
    "for  a in link :\n",
    "    # a[\"href\"] 도 동일\n",
    "    href = a.get(\"href\")\n",
    "    text = a.get_text()\n",
    "    print(text + \" > \" + href)"
   ],
   "id": "d4d76b24f92f80f2",
   "outputs": [
    {
     "name": "stdout",
     "output_type": "stream",
     "text": [
      "Normal Guy > https://github.com/instar94/mleng\n",
      "Python > https://www.python.org\n"
     ]
    }
   ],
   "execution_count": 48
  },
  {
   "metadata": {},
   "cell_type": "markdown",
   "source": "----",
   "id": "1e39e7c52769343c"
  }
 ],
 "metadata": {
  "kernelspec": {
   "display_name": "Python 3",
   "language": "python",
   "name": "python3"
  },
  "language_info": {
   "codemirror_mode": {
    "name": "ipython",
    "version": 2
   },
   "file_extension": ".py",
   "mimetype": "text/x-python",
   "name": "python",
   "nbconvert_exporter": "python",
   "pygments_lexer": "ipython2",
   "version": "2.7.6"
  }
 },
 "nbformat": 4,
 "nbformat_minor": 5
}
