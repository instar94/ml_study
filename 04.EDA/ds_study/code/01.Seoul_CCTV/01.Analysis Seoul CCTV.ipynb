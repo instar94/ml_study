{
 "cells": [
  {
   "cell_type": "markdown",
   "id": "45d7da06-aed9-4b91-86ac-dde526badd44",
   "metadata": {
    "id": "45d7da06-aed9-4b91-86ac-dde526badd44"
   },
   "source": [
    "# 01.Analysis Seoul CCTV\n",
    "## 1.데이터 읽기"
   ]
  },
  {
   "cell_type": "code",
   "id": "444c7990-22bb-4192-adcf-9b2bb1c854aa",
   "metadata": {
    "id": "444c7990-22bb-4192-adcf-9b2bb1c854aa",
    "ExecuteTime": {
     "end_time": "2025-05-26T12:55:49.004664Z",
     "start_time": "2025-05-26T12:55:48.995056Z"
    }
   },
   "source": [
    "### 데이터 분석을 위한 패키지 : Pandas\n",
    "import pandas as pd"
   ],
   "outputs": [],
   "execution_count": 139
  },
  {
   "cell_type": "code",
   "source": [
    "import socket\n",
    "\n",
    "# 현재 머신의 호스트네임 확인\n",
    "hostname = socket.gethostname()\n",
    "print(hostname)\n",
    "\n",
    "CCTV_Seoul=pd.DataFrame()\n",
    "pop_Seoul=pd.DataFrame()\n",
    "if \"Dongmin\" in hostname:\n",
    "    ### CSV 파일 읽기\n",
    "    CCTV_Seoul = pd.read_csv(\"../../data/01.Seoul_CCTV/01. Seoul_CCTV.csv\", encoding=\"UTF-8\")\n",
    "    pop_Seoul = pd.read_excel(\"../../data/01.Seoul_CCTV/01. Seoul_Population.xls\",header=2,usecols=\"B,D,G,J,N\")\n",
    "else:\n",
    "    CCTV_Seoul = pd.read_csv(\"/content/data/01. Seoul_CCTV.csv\", encoding=\"UTF-8\")\n",
    "    pop_Seoul = pd.read_excel(\"/content/data/01. Seoul_Population.xls\",header=2,usecols=\"B,D,G,J,N\")\n",
    "CCTV_Seoul.head()"
   ],
   "metadata": {
    "id": "AaCxK0BU3ZZZ",
    "outputId": "a5552098-cb70-4bcc-be63-00acd7e3207a",
    "colab": {
     "base_uri": "https://localhost:8080/",
     "height": 452
    },
    "ExecuteTime": {
     "end_time": "2025-05-26T12:55:49.113588Z",
     "start_time": "2025-05-26T12:55:49.070194Z"
    }
   },
   "id": "AaCxK0BU3ZZZ",
   "outputs": [
    {
     "name": "stdout",
     "output_type": "stream",
     "text": [
      "Dongmin\n"
     ]
    },
    {
     "data": {
      "text/plain": [
       "   기관명    소계  2013년도 이전  2014년  2015년  2016년\n",
       "0  강남구  3238       1292    430    584    932\n",
       "1  강동구  1010        379     99    155    377\n",
       "2  강북구   831        369    120    138    204\n",
       "3  강서구   911        388    258    184     81\n",
       "4  관악구  2109        846    260    390    613"
      ],
      "text/html": [
       "<div>\n",
       "<style scoped>\n",
       "    .dataframe tbody tr th:only-of-type {\n",
       "        vertical-align: middle;\n",
       "    }\n",
       "\n",
       "    .dataframe tbody tr th {\n",
       "        vertical-align: top;\n",
       "    }\n",
       "\n",
       "    .dataframe thead th {\n",
       "        text-align: right;\n",
       "    }\n",
       "</style>\n",
       "<table border=\"1\" class=\"dataframe\">\n",
       "  <thead>\n",
       "    <tr style=\"text-align: right;\">\n",
       "      <th></th>\n",
       "      <th>기관명</th>\n",
       "      <th>소계</th>\n",
       "      <th>2013년도 이전</th>\n",
       "      <th>2014년</th>\n",
       "      <th>2015년</th>\n",
       "      <th>2016년</th>\n",
       "    </tr>\n",
       "  </thead>\n",
       "  <tbody>\n",
       "    <tr>\n",
       "      <th>0</th>\n",
       "      <td>강남구</td>\n",
       "      <td>3238</td>\n",
       "      <td>1292</td>\n",
       "      <td>430</td>\n",
       "      <td>584</td>\n",
       "      <td>932</td>\n",
       "    </tr>\n",
       "    <tr>\n",
       "      <th>1</th>\n",
       "      <td>강동구</td>\n",
       "      <td>1010</td>\n",
       "      <td>379</td>\n",
       "      <td>99</td>\n",
       "      <td>155</td>\n",
       "      <td>377</td>\n",
       "    </tr>\n",
       "    <tr>\n",
       "      <th>2</th>\n",
       "      <td>강북구</td>\n",
       "      <td>831</td>\n",
       "      <td>369</td>\n",
       "      <td>120</td>\n",
       "      <td>138</td>\n",
       "      <td>204</td>\n",
       "    </tr>\n",
       "    <tr>\n",
       "      <th>3</th>\n",
       "      <td>강서구</td>\n",
       "      <td>911</td>\n",
       "      <td>388</td>\n",
       "      <td>258</td>\n",
       "      <td>184</td>\n",
       "      <td>81</td>\n",
       "    </tr>\n",
       "    <tr>\n",
       "      <th>4</th>\n",
       "      <td>관악구</td>\n",
       "      <td>2109</td>\n",
       "      <td>846</td>\n",
       "      <td>260</td>\n",
       "      <td>390</td>\n",
       "      <td>613</td>\n",
       "    </tr>\n",
       "  </tbody>\n",
       "</table>\n",
       "</div>"
      ]
     },
     "execution_count": 140,
     "metadata": {},
     "output_type": "execute_result"
    }
   ],
   "execution_count": 140
  },
  {
   "cell_type": "markdown",
   "id": "fa34aca5-bef6-48fe-8dd5-38dad58f980f",
   "metadata": {
    "id": "fa34aca5-bef6-48fe-8dd5-38dad58f980f"
   },
   "source": [
    "미설치 시 설치 방법\n",
    " !conda install -y pandas"
   ]
  },
  {
   "cell_type": "code",
   "id": "a0a0113b-a75b-4e40-b4c2-f755c92178a6",
   "metadata": {
    "id": "a0a0113b-a75b-4e40-b4c2-f755c92178a6",
    "ExecuteTime": {
     "end_time": "2025-05-26T12:55:49.345284Z",
     "start_time": "2025-05-26T12:55:49.332165Z"
    }
   },
   "source": [
    "### CSV 파일 읽기\n",
    "#CCTV_Seoul = pd.read_csv(\"../../data/01.Seoul_CCTV/01. Seoul_CCTV.csv\", encoding=\"UTF-8\")"
   ],
   "outputs": [],
   "execution_count": 141
  },
  {
   "cell_type": "code",
   "id": "212cc10c-c9f3-4996-aa52-798641b98fa5",
   "metadata": {
    "id": "212cc10c-c9f3-4996-aa52-798641b98fa5",
    "outputId": "75e31c5b-6cd7-48d2-f90c-83a857487412",
    "colab": {
     "base_uri": "https://localhost:8080/",
     "height": 434
    },
    "ExecuteTime": {
     "end_time": "2025-05-26T12:55:49.656577Z",
     "start_time": "2025-05-26T12:55:49.638580Z"
    }
   },
   "source": [
    "CCTV_Seoul.head()\n",
    "### 2행 만 읽기 CCTV_Seoul.head(2)"
   ],
   "outputs": [
    {
     "data": {
      "text/plain": [
       "   기관명    소계  2013년도 이전  2014년  2015년  2016년\n",
       "0  강남구  3238       1292    430    584    932\n",
       "1  강동구  1010        379     99    155    377\n",
       "2  강북구   831        369    120    138    204\n",
       "3  강서구   911        388    258    184     81\n",
       "4  관악구  2109        846    260    390    613"
      ],
      "text/html": [
       "<div>\n",
       "<style scoped>\n",
       "    .dataframe tbody tr th:only-of-type {\n",
       "        vertical-align: middle;\n",
       "    }\n",
       "\n",
       "    .dataframe tbody tr th {\n",
       "        vertical-align: top;\n",
       "    }\n",
       "\n",
       "    .dataframe thead th {\n",
       "        text-align: right;\n",
       "    }\n",
       "</style>\n",
       "<table border=\"1\" class=\"dataframe\">\n",
       "  <thead>\n",
       "    <tr style=\"text-align: right;\">\n",
       "      <th></th>\n",
       "      <th>기관명</th>\n",
       "      <th>소계</th>\n",
       "      <th>2013년도 이전</th>\n",
       "      <th>2014년</th>\n",
       "      <th>2015년</th>\n",
       "      <th>2016년</th>\n",
       "    </tr>\n",
       "  </thead>\n",
       "  <tbody>\n",
       "    <tr>\n",
       "      <th>0</th>\n",
       "      <td>강남구</td>\n",
       "      <td>3238</td>\n",
       "      <td>1292</td>\n",
       "      <td>430</td>\n",
       "      <td>584</td>\n",
       "      <td>932</td>\n",
       "    </tr>\n",
       "    <tr>\n",
       "      <th>1</th>\n",
       "      <td>강동구</td>\n",
       "      <td>1010</td>\n",
       "      <td>379</td>\n",
       "      <td>99</td>\n",
       "      <td>155</td>\n",
       "      <td>377</td>\n",
       "    </tr>\n",
       "    <tr>\n",
       "      <th>2</th>\n",
       "      <td>강북구</td>\n",
       "      <td>831</td>\n",
       "      <td>369</td>\n",
       "      <td>120</td>\n",
       "      <td>138</td>\n",
       "      <td>204</td>\n",
       "    </tr>\n",
       "    <tr>\n",
       "      <th>3</th>\n",
       "      <td>강서구</td>\n",
       "      <td>911</td>\n",
       "      <td>388</td>\n",
       "      <td>258</td>\n",
       "      <td>184</td>\n",
       "      <td>81</td>\n",
       "    </tr>\n",
       "    <tr>\n",
       "      <th>4</th>\n",
       "      <td>관악구</td>\n",
       "      <td>2109</td>\n",
       "      <td>846</td>\n",
       "      <td>260</td>\n",
       "      <td>390</td>\n",
       "      <td>613</td>\n",
       "    </tr>\n",
       "  </tbody>\n",
       "</table>\n",
       "</div>"
      ]
     },
     "execution_count": 142,
     "metadata": {},
     "output_type": "execute_result"
    }
   ],
   "execution_count": 142
  },
  {
   "cell_type": "code",
   "id": "5ce05284-25e1-4634-8f0e-d7107e336759",
   "metadata": {
    "id": "5ce05284-25e1-4634-8f0e-d7107e336759",
    "outputId": "24920282-0ff4-4fa5-cdb6-874232144af6",
    "colab": {
     "base_uri": "https://localhost:8080/",
     "height": 417
    },
    "ExecuteTime": {
     "end_time": "2025-05-26T12:55:49.939285Z",
     "start_time": "2025-05-26T12:55:49.927260Z"
    }
   },
   "source": [
    "### 끝에 줄만 읽기\n",
    "CCTV_Seoul.tail()"
   ],
   "outputs": [
    {
     "data": {
      "text/plain": [
       "    기관명    소계  2013년도 이전  2014년  2015년  2016년\n",
       "20  용산구  2096       1368    218    112    398\n",
       "21  은평구  2108       1138    224    278    468\n",
       "22  종로구  1619        464    314    211    630\n",
       "23   중구  1023        413    190     72    348\n",
       "24  중랑구   916        509    121    177    109"
      ],
      "text/html": [
       "<div>\n",
       "<style scoped>\n",
       "    .dataframe tbody tr th:only-of-type {\n",
       "        vertical-align: middle;\n",
       "    }\n",
       "\n",
       "    .dataframe tbody tr th {\n",
       "        vertical-align: top;\n",
       "    }\n",
       "\n",
       "    .dataframe thead th {\n",
       "        text-align: right;\n",
       "    }\n",
       "</style>\n",
       "<table border=\"1\" class=\"dataframe\">\n",
       "  <thead>\n",
       "    <tr style=\"text-align: right;\">\n",
       "      <th></th>\n",
       "      <th>기관명</th>\n",
       "      <th>소계</th>\n",
       "      <th>2013년도 이전</th>\n",
       "      <th>2014년</th>\n",
       "      <th>2015년</th>\n",
       "      <th>2016년</th>\n",
       "    </tr>\n",
       "  </thead>\n",
       "  <tbody>\n",
       "    <tr>\n",
       "      <th>20</th>\n",
       "      <td>용산구</td>\n",
       "      <td>2096</td>\n",
       "      <td>1368</td>\n",
       "      <td>218</td>\n",
       "      <td>112</td>\n",
       "      <td>398</td>\n",
       "    </tr>\n",
       "    <tr>\n",
       "      <th>21</th>\n",
       "      <td>은평구</td>\n",
       "      <td>2108</td>\n",
       "      <td>1138</td>\n",
       "      <td>224</td>\n",
       "      <td>278</td>\n",
       "      <td>468</td>\n",
       "    </tr>\n",
       "    <tr>\n",
       "      <th>22</th>\n",
       "      <td>종로구</td>\n",
       "      <td>1619</td>\n",
       "      <td>464</td>\n",
       "      <td>314</td>\n",
       "      <td>211</td>\n",
       "      <td>630</td>\n",
       "    </tr>\n",
       "    <tr>\n",
       "      <th>23</th>\n",
       "      <td>중구</td>\n",
       "      <td>1023</td>\n",
       "      <td>413</td>\n",
       "      <td>190</td>\n",
       "      <td>72</td>\n",
       "      <td>348</td>\n",
       "    </tr>\n",
       "    <tr>\n",
       "      <th>24</th>\n",
       "      <td>중랑구</td>\n",
       "      <td>916</td>\n",
       "      <td>509</td>\n",
       "      <td>121</td>\n",
       "      <td>177</td>\n",
       "      <td>109</td>\n",
       "    </tr>\n",
       "  </tbody>\n",
       "</table>\n",
       "</div>"
      ]
     },
     "execution_count": 143,
     "metadata": {},
     "output_type": "execute_result"
    }
   ],
   "execution_count": 143
  },
  {
   "cell_type": "code",
   "id": "bee3c2e0-335f-4840-a805-7e8ac3f0311b",
   "metadata": {
    "id": "bee3c2e0-335f-4840-a805-7e8ac3f0311b",
    "outputId": "3114f5d2-9756-48ab-a759-480542128c99",
    "colab": {
     "base_uri": "https://localhost:8080/"
    },
    "ExecuteTime": {
     "end_time": "2025-05-26T12:55:50.457512Z",
     "start_time": "2025-05-26T12:55:50.433046Z"
    }
   },
   "source": [
    "### 컬럼 명의 변경\n",
    "CCTV_Seoul.columns"
   ],
   "outputs": [
    {
     "data": {
      "text/plain": [
       "Index(['기관명', '소계', '2013년도 이전', '2014년', '2015년', '2016년'], dtype='object')"
      ]
     },
     "execution_count": 144,
     "metadata": {},
     "output_type": "execute_result"
    }
   ],
   "execution_count": 144
  },
  {
   "cell_type": "code",
   "id": "ecd9c3c6-2647-4a7d-8f5a-16ba8f84a9a0",
   "metadata": {
    "id": "ecd9c3c6-2647-4a7d-8f5a-16ba8f84a9a0",
    "outputId": "24239894-ff49-4253-873d-1821bdcf5dc4",
    "colab": {
     "base_uri": "https://localhost:8080/",
     "height": 35
    },
    "ExecuteTime": {
     "end_time": "2025-05-26T12:55:51.053026Z",
     "start_time": "2025-05-26T12:55:51.035707Z"
    }
   },
   "source": [
    "### 특정 컬럼 출력\n",
    "CCTV_Seoul.columns[0]"
   ],
   "outputs": [
    {
     "data": {
      "text/plain": [
       "'기관명'"
      ]
     },
     "execution_count": 145,
     "metadata": {},
     "output_type": "execute_result"
    }
   ],
   "execution_count": 145
  },
  {
   "cell_type": "code",
   "id": "df918783-7358-48c4-b1e9-ca58fd2aec71",
   "metadata": {
    "id": "df918783-7358-48c4-b1e9-ca58fd2aec71",
    "ExecuteTime": {
     "end_time": "2025-05-26T12:55:51.596350Z",
     "start_time": "2025-05-26T12:55:51.578364Z"
    }
   },
   "source": [
    "### 컬럼명 변경하기\n",
    "CCTV_Seoul.rename(columns={CCTV_Seoul.columns[0] : \"구별\"},inplace=True)"
   ],
   "outputs": [],
   "execution_count": 146
  },
  {
   "cell_type": "code",
   "id": "af593be5-c3b4-4ab9-822f-de93c8d09151",
   "metadata": {
    "id": "af593be5-c3b4-4ab9-822f-de93c8d09151",
    "outputId": "a44e5326-6b14-471c-b5f5-5dacd7b59934",
    "colab": {
     "base_uri": "https://localhost:8080/",
     "height": 434
    },
    "ExecuteTime": {
     "end_time": "2025-05-26T12:55:51.952839Z",
     "start_time": "2025-05-26T12:55:51.914091Z"
    }
   },
   "source": [
    "CCTV_Seoul.head()"
   ],
   "outputs": [
    {
     "data": {
      "text/plain": [
       "    구별    소계  2013년도 이전  2014년  2015년  2016년\n",
       "0  강남구  3238       1292    430    584    932\n",
       "1  강동구  1010        379     99    155    377\n",
       "2  강북구   831        369    120    138    204\n",
       "3  강서구   911        388    258    184     81\n",
       "4  관악구  2109        846    260    390    613"
      ],
      "text/html": [
       "<div>\n",
       "<style scoped>\n",
       "    .dataframe tbody tr th:only-of-type {\n",
       "        vertical-align: middle;\n",
       "    }\n",
       "\n",
       "    .dataframe tbody tr th {\n",
       "        vertical-align: top;\n",
       "    }\n",
       "\n",
       "    .dataframe thead th {\n",
       "        text-align: right;\n",
       "    }\n",
       "</style>\n",
       "<table border=\"1\" class=\"dataframe\">\n",
       "  <thead>\n",
       "    <tr style=\"text-align: right;\">\n",
       "      <th></th>\n",
       "      <th>구별</th>\n",
       "      <th>소계</th>\n",
       "      <th>2013년도 이전</th>\n",
       "      <th>2014년</th>\n",
       "      <th>2015년</th>\n",
       "      <th>2016년</th>\n",
       "    </tr>\n",
       "  </thead>\n",
       "  <tbody>\n",
       "    <tr>\n",
       "      <th>0</th>\n",
       "      <td>강남구</td>\n",
       "      <td>3238</td>\n",
       "      <td>1292</td>\n",
       "      <td>430</td>\n",
       "      <td>584</td>\n",
       "      <td>932</td>\n",
       "    </tr>\n",
       "    <tr>\n",
       "      <th>1</th>\n",
       "      <td>강동구</td>\n",
       "      <td>1010</td>\n",
       "      <td>379</td>\n",
       "      <td>99</td>\n",
       "      <td>155</td>\n",
       "      <td>377</td>\n",
       "    </tr>\n",
       "    <tr>\n",
       "      <th>2</th>\n",
       "      <td>강북구</td>\n",
       "      <td>831</td>\n",
       "      <td>369</td>\n",
       "      <td>120</td>\n",
       "      <td>138</td>\n",
       "      <td>204</td>\n",
       "    </tr>\n",
       "    <tr>\n",
       "      <th>3</th>\n",
       "      <td>강서구</td>\n",
       "      <td>911</td>\n",
       "      <td>388</td>\n",
       "      <td>258</td>\n",
       "      <td>184</td>\n",
       "      <td>81</td>\n",
       "    </tr>\n",
       "    <tr>\n",
       "      <th>4</th>\n",
       "      <td>관악구</td>\n",
       "      <td>2109</td>\n",
       "      <td>846</td>\n",
       "      <td>260</td>\n",
       "      <td>390</td>\n",
       "      <td>613</td>\n",
       "    </tr>\n",
       "  </tbody>\n",
       "</table>\n",
       "</div>"
      ]
     },
     "execution_count": 147,
     "metadata": {},
     "output_type": "execute_result"
    }
   ],
   "execution_count": 147
  },
  {
   "cell_type": "code",
   "id": "9ad6bfb6-ad2b-4489-9b24-1445444d659e",
   "metadata": {
    "id": "9ad6bfb6-ad2b-4489-9b24-1445444d659e",
    "outputId": "14ec549c-2eac-488e-d2c5-3125c7d3b248",
    "colab": {
     "base_uri": "https://localhost:8080/",
     "height": 399
    },
    "ExecuteTime": {
     "end_time": "2025-05-26T12:55:52.563727Z",
     "start_time": "2025-05-26T12:55:52.538727Z"
    }
   },
   "source": [
    "### 엑셀 파일 읽기\n",
    "pop_Seoul.head()"
   ],
   "outputs": [
    {
     "data": {
      "text/plain": [
       "   자치구         계      계.1     계.2  65세이상고령자\n",
       "0   합계  10124579  9857426  267153   1365126\n",
       "1  종로구    164257   154770    9487     26182\n",
       "2   중구    134593   125709    8884     21384\n",
       "3  용산구    244444   229161   15283     36882\n",
       "4  성동구    312711   304808    7903     41273"
      ],
      "text/html": [
       "<div>\n",
       "<style scoped>\n",
       "    .dataframe tbody tr th:only-of-type {\n",
       "        vertical-align: middle;\n",
       "    }\n",
       "\n",
       "    .dataframe tbody tr th {\n",
       "        vertical-align: top;\n",
       "    }\n",
       "\n",
       "    .dataframe thead th {\n",
       "        text-align: right;\n",
       "    }\n",
       "</style>\n",
       "<table border=\"1\" class=\"dataframe\">\n",
       "  <thead>\n",
       "    <tr style=\"text-align: right;\">\n",
       "      <th></th>\n",
       "      <th>자치구</th>\n",
       "      <th>계</th>\n",
       "      <th>계.1</th>\n",
       "      <th>계.2</th>\n",
       "      <th>65세이상고령자</th>\n",
       "    </tr>\n",
       "  </thead>\n",
       "  <tbody>\n",
       "    <tr>\n",
       "      <th>0</th>\n",
       "      <td>합계</td>\n",
       "      <td>10124579</td>\n",
       "      <td>9857426</td>\n",
       "      <td>267153</td>\n",
       "      <td>1365126</td>\n",
       "    </tr>\n",
       "    <tr>\n",
       "      <th>1</th>\n",
       "      <td>종로구</td>\n",
       "      <td>164257</td>\n",
       "      <td>154770</td>\n",
       "      <td>9487</td>\n",
       "      <td>26182</td>\n",
       "    </tr>\n",
       "    <tr>\n",
       "      <th>2</th>\n",
       "      <td>중구</td>\n",
       "      <td>134593</td>\n",
       "      <td>125709</td>\n",
       "      <td>8884</td>\n",
       "      <td>21384</td>\n",
       "    </tr>\n",
       "    <tr>\n",
       "      <th>3</th>\n",
       "      <td>용산구</td>\n",
       "      <td>244444</td>\n",
       "      <td>229161</td>\n",
       "      <td>15283</td>\n",
       "      <td>36882</td>\n",
       "    </tr>\n",
       "    <tr>\n",
       "      <th>4</th>\n",
       "      <td>성동구</td>\n",
       "      <td>312711</td>\n",
       "      <td>304808</td>\n",
       "      <td>7903</td>\n",
       "      <td>41273</td>\n",
       "    </tr>\n",
       "  </tbody>\n",
       "</table>\n",
       "</div>"
      ]
     },
     "execution_count": 148,
     "metadata": {},
     "output_type": "execute_result"
    }
   ],
   "execution_count": 148
  },
  {
   "cell_type": "code",
   "id": "d94dd209-5b90-4cda-a0b7-7c93b93b0d3c",
   "metadata": {
    "id": "d94dd209-5b90-4cda-a0b7-7c93b93b0d3c",
    "ExecuteTime": {
     "end_time": "2025-05-26T12:55:53.856578Z",
     "start_time": "2025-05-26T12:55:53.841416Z"
    }
   },
   "source": [
    "pop_Seoul.rename(columns={pop_Seoul.columns[0]:\"구별\"},inplace=True)\n",
    "pop_Seoul.rename(columns={pop_Seoul.columns[1]:\"인구수\"},inplace=True)\n",
    "pop_Seoul.rename(columns={pop_Seoul.columns[2]:\"한국인\"},inplace=True)\n",
    "pop_Seoul.rename(columns={pop_Seoul.columns[3]:\"외국인\"},inplace=True)\n",
    "pop_Seoul.rename(columns={pop_Seoul.columns[4]:\"고령자\"},inplace=True)"
   ],
   "outputs": [],
   "execution_count": 149
  },
  {
   "cell_type": "code",
   "id": "c673b575-53fc-4cdd-ae19-d3fc29c46b00",
   "metadata": {
    "id": "c673b575-53fc-4cdd-ae19-d3fc29c46b00",
    "outputId": "faca2de2-85e0-4dbe-82e2-bf83a8e59b77",
    "colab": {
     "base_uri": "https://localhost:8080/",
     "height": 382
    },
    "ExecuteTime": {
     "end_time": "2025-05-26T12:55:54.436818Z",
     "start_time": "2025-05-26T12:55:54.403405Z"
    }
   },
   "source": [
    "pop_Seoul.head()"
   ],
   "outputs": [
    {
     "data": {
      "text/plain": [
       "    구별       인구수      한국인     외국인      고령자\n",
       "0   합계  10124579  9857426  267153  1365126\n",
       "1  종로구    164257   154770    9487    26182\n",
       "2   중구    134593   125709    8884    21384\n",
       "3  용산구    244444   229161   15283    36882\n",
       "4  성동구    312711   304808    7903    41273"
      ],
      "text/html": [
       "<div>\n",
       "<style scoped>\n",
       "    .dataframe tbody tr th:only-of-type {\n",
       "        vertical-align: middle;\n",
       "    }\n",
       "\n",
       "    .dataframe tbody tr th {\n",
       "        vertical-align: top;\n",
       "    }\n",
       "\n",
       "    .dataframe thead th {\n",
       "        text-align: right;\n",
       "    }\n",
       "</style>\n",
       "<table border=\"1\" class=\"dataframe\">\n",
       "  <thead>\n",
       "    <tr style=\"text-align: right;\">\n",
       "      <th></th>\n",
       "      <th>구별</th>\n",
       "      <th>인구수</th>\n",
       "      <th>한국인</th>\n",
       "      <th>외국인</th>\n",
       "      <th>고령자</th>\n",
       "    </tr>\n",
       "  </thead>\n",
       "  <tbody>\n",
       "    <tr>\n",
       "      <th>0</th>\n",
       "      <td>합계</td>\n",
       "      <td>10124579</td>\n",
       "      <td>9857426</td>\n",
       "      <td>267153</td>\n",
       "      <td>1365126</td>\n",
       "    </tr>\n",
       "    <tr>\n",
       "      <th>1</th>\n",
       "      <td>종로구</td>\n",
       "      <td>164257</td>\n",
       "      <td>154770</td>\n",
       "      <td>9487</td>\n",
       "      <td>26182</td>\n",
       "    </tr>\n",
       "    <tr>\n",
       "      <th>2</th>\n",
       "      <td>중구</td>\n",
       "      <td>134593</td>\n",
       "      <td>125709</td>\n",
       "      <td>8884</td>\n",
       "      <td>21384</td>\n",
       "    </tr>\n",
       "    <tr>\n",
       "      <th>3</th>\n",
       "      <td>용산구</td>\n",
       "      <td>244444</td>\n",
       "      <td>229161</td>\n",
       "      <td>15283</td>\n",
       "      <td>36882</td>\n",
       "    </tr>\n",
       "    <tr>\n",
       "      <th>4</th>\n",
       "      <td>성동구</td>\n",
       "      <td>312711</td>\n",
       "      <td>304808</td>\n",
       "      <td>7903</td>\n",
       "      <td>41273</td>\n",
       "    </tr>\n",
       "  </tbody>\n",
       "</table>\n",
       "</div>"
      ]
     },
     "execution_count": 150,
     "metadata": {},
     "output_type": "execute_result"
    }
   ],
   "execution_count": 150
  },
  {
   "cell_type": "markdown",
   "id": "67b46932",
   "metadata": {
    "id": "67b46932"
   },
   "source": [
    "---"
   ]
  },
  {
   "cell_type": "markdown",
   "id": "c66b8c5a-72a6-4364-a948-baac6ade4b33",
   "metadata": {
    "id": "c66b8c5a-72a6-4364-a948-baac6ade4b33"
   },
   "source": [
    "# 2.Pandas의 기초\n",
    "- 파이썬에서 R만큼의 강력한 데이터 핸들링을제공하는 모듈\n",
    "- 단일 프로세스에서는 최대 효율\n",
    "- 코딩이 가능한 엑셀"
   ]
  },
  {
   "cell_type": "code",
   "id": "e213a426-0842-4b62-9473-b97b344b3d36",
   "metadata": {
    "id": "e213a426-0842-4b62-9473-b97b344b3d36",
    "ExecuteTime": {
     "end_time": "2025-05-26T12:55:54.907821Z",
     "start_time": "2025-05-26T12:55:54.896679Z"
    }
   },
   "source": [
    "import pandas as pd\n",
    "import numpy as np"
   ],
   "outputs": [],
   "execution_count": 151
  },
  {
   "cell_type": "markdown",
   "id": "72d094d8-2953-4258-8f6f-c080595271de",
   "metadata": {
    "id": "72d094d8-2953-4258-8f6f-c080595271de"
   },
   "source": [
    "- pandas는 통상적으로 pd\n",
    "- numpy는 통상적으로 np"
   ]
  },
  {
   "cell_type": "markdown",
   "id": "a7812615-754c-447a-8943-45cc6672cfb6",
   "metadata": {
    "id": "a7812615-754c-447a-8943-45cc6672cfb6"
   },
   "source": [
    "# Series\n",
    "- index 와 Value 로 이뤄짐\n",
    "- 한 가지 데이터 형만 가질 수 있음"
   ]
  },
  {
   "cell_type": "code",
   "id": "a250f9d3-82c4-4761-a0b0-e28d3b56febb",
   "metadata": {
    "id": "a250f9d3-82c4-4761-a0b0-e28d3b56febb",
    "outputId": "5052881e-066d-4ae3-cdb0-ba146200ae36",
    "colab": {
     "base_uri": "https://localhost:8080/",
     "height": 209
    },
    "ExecuteTime": {
     "end_time": "2025-05-26T12:55:55.407032Z",
     "start_time": "2025-05-26T12:55:55.388013Z"
    }
   },
   "source": [
    "pd.Series([1,2,3,4])"
   ],
   "outputs": [
    {
     "data": {
      "text/plain": [
       "0    1\n",
       "1    2\n",
       "2    3\n",
       "3    4\n",
       "dtype: int64"
      ]
     },
     "execution_count": 152,
     "metadata": {},
     "output_type": "execute_result"
    }
   ],
   "execution_count": 152
  },
  {
   "cell_type": "code",
   "id": "6a2bf8d6-661d-4bfb-8e0e-8947173e1b1c",
   "metadata": {
    "id": "6a2bf8d6-661d-4bfb-8e0e-8947173e1b1c",
    "outputId": "ae87fb66-bf7b-417a-c814-0a299e646ada",
    "colab": {
     "base_uri": "https://localhost:8080/",
     "height": 209
    },
    "ExecuteTime": {
     "end_time": "2025-05-26T12:55:56.141606Z",
     "start_time": "2025-05-26T12:55:56.103034Z"
    }
   },
   "source": [
    "pd.Series([1,2,3,4] , dtype=np.float64)"
   ],
   "outputs": [
    {
     "data": {
      "text/plain": [
       "0    1.0\n",
       "1    2.0\n",
       "2    3.0\n",
       "3    4.0\n",
       "dtype: float64"
      ]
     },
     "execution_count": 153,
     "metadata": {},
     "output_type": "execute_result"
    }
   ],
   "execution_count": 153
  },
  {
   "cell_type": "code",
   "id": "8ce16cf1-58e2-492d-af9f-daa56aa76f30",
   "metadata": {
    "id": "8ce16cf1-58e2-492d-af9f-daa56aa76f30",
    "outputId": "8adc51b5-2557-4620-dd70-694397cbf4e4",
    "colab": {
     "base_uri": "https://localhost:8080/",
     "height": 209
    },
    "ExecuteTime": {
     "end_time": "2025-05-26T12:55:57.144658Z",
     "start_time": "2025-05-26T12:55:57.121588Z"
    }
   },
   "source": [
    "### object : String과 같음\n",
    "pd.Series([1,2,3,4] , dtype=str)"
   ],
   "outputs": [
    {
     "data": {
      "text/plain": [
       "0    1\n",
       "1    2\n",
       "2    3\n",
       "3    4\n",
       "dtype: object"
      ]
     },
     "execution_count": 154,
     "metadata": {},
     "output_type": "execute_result"
    }
   ],
   "execution_count": 154
  },
  {
   "cell_type": "code",
   "id": "01460592-fdb5-4cc7-80a8-d86db042aaeb",
   "metadata": {
    "id": "01460592-fdb5-4cc7-80a8-d86db042aaeb",
    "outputId": "b393555e-004e-4c50-b589-e624018e567f",
    "colab": {
     "base_uri": "https://localhost:8080/",
     "height": 209
    },
    "ExecuteTime": {
     "end_time": "2025-05-26T12:55:57.843103Z",
     "start_time": "2025-05-26T12:55:57.817095Z"
    }
   },
   "source": [
    "### numpy로 선언\n",
    "pd.Series(np.array([1,2,3,4]))"
   ],
   "outputs": [
    {
     "data": {
      "text/plain": [
       "0    1\n",
       "1    2\n",
       "2    3\n",
       "3    4\n",
       "dtype: int32"
      ]
     },
     "execution_count": 155,
     "metadata": {},
     "output_type": "execute_result"
    }
   ],
   "execution_count": 155
  },
  {
   "cell_type": "code",
   "id": "35b87b69-b371-4ad7-a6e3-c9ead3db55cc",
   "metadata": {
    "id": "35b87b69-b371-4ad7-a6e3-c9ead3db55cc",
    "outputId": "3bb40377-6d5d-4445-da79-cbca7ce17900",
    "colab": {
     "base_uri": "https://localhost:8080/",
     "height": 115
    },
    "ExecuteTime": {
     "end_time": "2025-05-26T12:55:58.558031Z",
     "start_time": "2025-05-26T12:55:58.537831Z"
    }
   },
   "source": [
    "### 딕셔너리 선언\n",
    "pd.Series({\"Key\":\"Value\"})"
   ],
   "outputs": [
    {
     "data": {
      "text/plain": [
       "Key    Value\n",
       "dtype: object"
      ]
     },
     "execution_count": 156,
     "metadata": {},
     "output_type": "execute_result"
    }
   ],
   "execution_count": 156
  },
  {
   "cell_type": "code",
   "id": "9261888f-1c3b-41cf-885f-63aa075ab1b5",
   "metadata": {
    "id": "9261888f-1c3b-41cf-885f-63aa075ab1b5",
    "outputId": "ce55c7b7-74c3-4904-f31f-3628fb065cc8",
    "colab": {
     "base_uri": "https://localhost:8080/",
     "height": 241
    },
    "ExecuteTime": {
     "end_time": "2025-05-26T12:55:59.326883Z",
     "start_time": "2025-05-26T12:55:59.307980Z"
    }
   },
   "source": [
    "### 숫자와 문자열을 동시에 선언가능 - 결과값 : object\n",
    "data=pd.Series([1,2,3,4,\"5\"])\n",
    "data"
   ],
   "outputs": [
    {
     "data": {
      "text/plain": [
       "0    1\n",
       "1    2\n",
       "2    3\n",
       "3    4\n",
       "4    5\n",
       "dtype: object"
      ]
     },
     "execution_count": 157,
     "metadata": {},
     "output_type": "execute_result"
    }
   ],
   "execution_count": 157
  },
  {
   "cell_type": "code",
   "id": "fd265205-280a-437e-827c-19cdfbb921c1",
   "metadata": {
    "id": "fd265205-280a-437e-827c-19cdfbb921c1",
    "outputId": "f70bca5b-7811-4a7c-c8fd-8c1de6353474",
    "colab": {
     "base_uri": "https://localhost:8080/",
     "height": 209
    },
    "ExecuteTime": {
     "end_time": "2025-05-26T12:56:00.093150Z",
     "start_time": "2025-05-26T12:56:00.065217Z"
    }
   },
   "source": [
    "### 짝수만 찾기\n",
    "data=pd.Series([1,2,3,4])\n",
    "data%2"
   ],
   "outputs": [
    {
     "data": {
      "text/plain": [
       "0    1\n",
       "1    0\n",
       "2    1\n",
       "3    0\n",
       "dtype: int64"
      ]
     },
     "execution_count": 158,
     "metadata": {},
     "output_type": "execute_result"
    }
   ],
   "execution_count": 158
  },
  {
   "cell_type": "markdown",
   "id": "8e79dc7d-0769-4f15-94c3-39504c9243a1",
   "metadata": {
    "id": "8e79dc7d-0769-4f15-94c3-39504c9243a1"
   },
   "source": [
    "### 날짜데이터\n",
    "- 날짜 : 문자열로 선언\n",
    "- periods : 언제까지 할건지"
   ]
  },
  {
   "cell_type": "code",
   "id": "cd5ae4a7-4a07-439a-83b8-1a4381a82707",
   "metadata": {
    "id": "cd5ae4a7-4a07-439a-83b8-1a4381a82707",
    "outputId": "bb04595c-19c0-4673-fba3-db244ae934f4",
    "colab": {
     "base_uri": "https://localhost:8080/"
    },
    "ExecuteTime": {
     "end_time": "2025-05-26T12:56:00.825063Z",
     "start_time": "2025-05-26T12:56:00.797936Z"
    }
   },
   "source": [
    "pd.date_range(\"20250524\",periods=6)"
   ],
   "outputs": [
    {
     "data": {
      "text/plain": [
       "DatetimeIndex(['2025-05-24', '2025-05-25', '2025-05-26', '2025-05-27',\n",
       "               '2025-05-28', '2025-05-29'],\n",
       "              dtype='datetime64[ns]', freq='D')"
      ]
     },
     "execution_count": 159,
     "metadata": {},
     "output_type": "execute_result"
    }
   ],
   "execution_count": 159
  },
  {
   "cell_type": "markdown",
   "id": "2624b09b",
   "metadata": {
    "id": "2624b09b"
   },
   "source": [
    "---"
   ]
  },
  {
   "cell_type": "markdown",
   "id": "465f94e0",
   "metadata": {
    "id": "465f94e0"
   },
   "source": [
    "## DataFrame\n",
    "- pd.DataFrame()\n",
    "- index, value, column으로 이뤄짐"
   ]
  },
  {
   "cell_type": "code",
   "id": "7533fbfc",
   "metadata": {
    "id": "7533fbfc",
    "ExecuteTime": {
     "end_time": "2025-05-26T12:56:01.899364Z",
     "start_time": "2025-05-26T12:56:01.887437Z"
    }
   },
   "source": [
    "### 표준 정규분포에서 샘플링한 난수 생성\n",
    "data=np.random.randn(6,4)\n",
    "dates=pd.date_range(\"20250524\",periods=6)\n",
    "\n",
    "df=pd.DataFrame(data,index=dates,columns=[\"A\",\"B\",\"C\",\"D\"])"
   ],
   "outputs": [],
   "execution_count": 160
  },
  {
   "cell_type": "markdown",
   "id": "b0605c13",
   "metadata": {
    "id": "b0605c13"
   },
   "source": [
    "### 데이터 프레임 정보 탐색"
   ]
  },
  {
   "cell_type": "markdown",
   "id": "0d7c2567",
   "metadata": {
    "id": "0d7c2567"
   },
   "source": [
    "#### df.head()\n",
    "-  위쪽 데이터 출력"
   ]
  },
  {
   "cell_type": "code",
   "id": "f5821df3",
   "metadata": {
    "id": "f5821df3",
    "outputId": "719c128c-2df4-4961-e6c9-17195cb3f5ca",
    "colab": {
     "base_uri": "https://localhost:8080/",
     "height": 313
    },
    "ExecuteTime": {
     "end_time": "2025-05-26T12:56:02.448177Z",
     "start_time": "2025-05-26T12:56:02.411787Z"
    }
   },
   "source": [
    "df.head()"
   ],
   "outputs": [
    {
     "data": {
      "text/plain": [
       "                   A         B         C         D\n",
       "2025-05-24 -1.654357 -1.569196  0.376919 -0.051327\n",
       "2025-05-25 -0.185163  0.712927  0.338391 -1.489038\n",
       "2025-05-26  0.749253  0.560699  0.837121 -0.482783\n",
       "2025-05-27  0.977982 -0.721291 -0.999429  0.946648\n",
       "2025-05-28 -1.333202  0.109602 -2.434970 -0.491182"
      ],
      "text/html": [
       "<div>\n",
       "<style scoped>\n",
       "    .dataframe tbody tr th:only-of-type {\n",
       "        vertical-align: middle;\n",
       "    }\n",
       "\n",
       "    .dataframe tbody tr th {\n",
       "        vertical-align: top;\n",
       "    }\n",
       "\n",
       "    .dataframe thead th {\n",
       "        text-align: right;\n",
       "    }\n",
       "</style>\n",
       "<table border=\"1\" class=\"dataframe\">\n",
       "  <thead>\n",
       "    <tr style=\"text-align: right;\">\n",
       "      <th></th>\n",
       "      <th>A</th>\n",
       "      <th>B</th>\n",
       "      <th>C</th>\n",
       "      <th>D</th>\n",
       "    </tr>\n",
       "  </thead>\n",
       "  <tbody>\n",
       "    <tr>\n",
       "      <th>2025-05-24</th>\n",
       "      <td>-1.654357</td>\n",
       "      <td>-1.569196</td>\n",
       "      <td>0.376919</td>\n",
       "      <td>-0.051327</td>\n",
       "    </tr>\n",
       "    <tr>\n",
       "      <th>2025-05-25</th>\n",
       "      <td>-0.185163</td>\n",
       "      <td>0.712927</td>\n",
       "      <td>0.338391</td>\n",
       "      <td>-1.489038</td>\n",
       "    </tr>\n",
       "    <tr>\n",
       "      <th>2025-05-26</th>\n",
       "      <td>0.749253</td>\n",
       "      <td>0.560699</td>\n",
       "      <td>0.837121</td>\n",
       "      <td>-0.482783</td>\n",
       "    </tr>\n",
       "    <tr>\n",
       "      <th>2025-05-27</th>\n",
       "      <td>0.977982</td>\n",
       "      <td>-0.721291</td>\n",
       "      <td>-0.999429</td>\n",
       "      <td>0.946648</td>\n",
       "    </tr>\n",
       "    <tr>\n",
       "      <th>2025-05-28</th>\n",
       "      <td>-1.333202</td>\n",
       "      <td>0.109602</td>\n",
       "      <td>-2.434970</td>\n",
       "      <td>-0.491182</td>\n",
       "    </tr>\n",
       "  </tbody>\n",
       "</table>\n",
       "</div>"
      ]
     },
     "execution_count": 161,
     "metadata": {},
     "output_type": "execute_result"
    }
   ],
   "execution_count": 161
  },
  {
   "cell_type": "markdown",
   "id": "17c519a0",
   "metadata": {
    "id": "17c519a0"
   },
   "source": [
    "#### df.tail()\n",
    "-  아래쪽 데이터 출력"
   ]
  },
  {
   "cell_type": "code",
   "id": "7e681f50",
   "metadata": {
    "id": "7e681f50",
    "outputId": "6477bf32-e003-4e28-f1ca-47d0f9421f7b",
    "colab": {
     "base_uri": "https://localhost:8080/",
     "height": 313
    },
    "ExecuteTime": {
     "end_time": "2025-05-26T12:56:03.005776Z",
     "start_time": "2025-05-26T12:56:02.965118Z"
    }
   },
   "source": [
    "df.tail()"
   ],
   "outputs": [
    {
     "data": {
      "text/plain": [
       "                   A         B         C         D\n",
       "2025-05-25 -0.185163  0.712927  0.338391 -1.489038\n",
       "2025-05-26  0.749253  0.560699  0.837121 -0.482783\n",
       "2025-05-27  0.977982 -0.721291 -0.999429  0.946648\n",
       "2025-05-28 -1.333202  0.109602 -2.434970 -0.491182\n",
       "2025-05-29  0.789897 -0.723315 -0.500402 -1.269905"
      ],
      "text/html": [
       "<div>\n",
       "<style scoped>\n",
       "    .dataframe tbody tr th:only-of-type {\n",
       "        vertical-align: middle;\n",
       "    }\n",
       "\n",
       "    .dataframe tbody tr th {\n",
       "        vertical-align: top;\n",
       "    }\n",
       "\n",
       "    .dataframe thead th {\n",
       "        text-align: right;\n",
       "    }\n",
       "</style>\n",
       "<table border=\"1\" class=\"dataframe\">\n",
       "  <thead>\n",
       "    <tr style=\"text-align: right;\">\n",
       "      <th></th>\n",
       "      <th>A</th>\n",
       "      <th>B</th>\n",
       "      <th>C</th>\n",
       "      <th>D</th>\n",
       "    </tr>\n",
       "  </thead>\n",
       "  <tbody>\n",
       "    <tr>\n",
       "      <th>2025-05-25</th>\n",
       "      <td>-0.185163</td>\n",
       "      <td>0.712927</td>\n",
       "      <td>0.338391</td>\n",
       "      <td>-1.489038</td>\n",
       "    </tr>\n",
       "    <tr>\n",
       "      <th>2025-05-26</th>\n",
       "      <td>0.749253</td>\n",
       "      <td>0.560699</td>\n",
       "      <td>0.837121</td>\n",
       "      <td>-0.482783</td>\n",
       "    </tr>\n",
       "    <tr>\n",
       "      <th>2025-05-27</th>\n",
       "      <td>0.977982</td>\n",
       "      <td>-0.721291</td>\n",
       "      <td>-0.999429</td>\n",
       "      <td>0.946648</td>\n",
       "    </tr>\n",
       "    <tr>\n",
       "      <th>2025-05-28</th>\n",
       "      <td>-1.333202</td>\n",
       "      <td>0.109602</td>\n",
       "      <td>-2.434970</td>\n",
       "      <td>-0.491182</td>\n",
       "    </tr>\n",
       "    <tr>\n",
       "      <th>2025-05-29</th>\n",
       "      <td>0.789897</td>\n",
       "      <td>-0.723315</td>\n",
       "      <td>-0.500402</td>\n",
       "      <td>-1.269905</td>\n",
       "    </tr>\n",
       "  </tbody>\n",
       "</table>\n",
       "</div>"
      ]
     },
     "execution_count": 162,
     "metadata": {},
     "output_type": "execute_result"
    }
   ],
   "execution_count": 162
  },
  {
   "cell_type": "markdown",
   "id": "b9d69ca0",
   "metadata": {
    "id": "b9d69ca0"
   },
   "source": [
    "### df.index\n",
    "- 인덱스 출력"
   ]
  },
  {
   "cell_type": "code",
   "id": "8aeee164",
   "metadata": {
    "id": "8aeee164",
    "outputId": "1a3c7907-9704-4c8b-d2ed-14e637f703b8",
    "colab": {
     "base_uri": "https://localhost:8080/"
    },
    "ExecuteTime": {
     "end_time": "2025-05-26T12:56:04.080341Z",
     "start_time": "2025-05-26T12:56:04.063116Z"
    }
   },
   "source": [
    "df.index"
   ],
   "outputs": [
    {
     "data": {
      "text/plain": [
       "DatetimeIndex(['2025-05-24', '2025-05-25', '2025-05-26', '2025-05-27',\n",
       "               '2025-05-28', '2025-05-29'],\n",
       "              dtype='datetime64[ns]', freq='D')"
      ]
     },
     "execution_count": 163,
     "metadata": {},
     "output_type": "execute_result"
    }
   ],
   "execution_count": 163
  },
  {
   "cell_type": "markdown",
   "id": "cd69386e",
   "metadata": {
    "id": "cd69386e"
   },
   "source": [
    "### df.columns\n",
    "- 컬럼 출력"
   ]
  },
  {
   "cell_type": "code",
   "id": "1de04e37",
   "metadata": {
    "id": "1de04e37",
    "outputId": "5cece363-c2bf-409d-bb37-817764c2159c",
    "colab": {
     "base_uri": "https://localhost:8080/"
    },
    "ExecuteTime": {
     "end_time": "2025-05-26T12:56:04.706613Z",
     "start_time": "2025-05-26T12:56:04.696460Z"
    }
   },
   "source": [
    "df.columns"
   ],
   "outputs": [
    {
     "data": {
      "text/plain": [
       "Index(['A', 'B', 'C', 'D'], dtype='object')"
      ]
     },
     "execution_count": 164,
     "metadata": {},
     "output_type": "execute_result"
    }
   ],
   "execution_count": 164
  },
  {
   "cell_type": "markdown",
   "id": "0ce8a0e7",
   "metadata": {
    "id": "0ce8a0e7"
   },
   "source": [
    "### df.values\n",
    "- 값들 출력  "
   ]
  },
  {
   "cell_type": "code",
   "id": "4f2c1090",
   "metadata": {
    "id": "4f2c1090",
    "outputId": "d963884a-380f-4398-e209-d988ee57be1e",
    "colab": {
     "base_uri": "https://localhost:8080/"
    },
    "ExecuteTime": {
     "end_time": "2025-05-26T12:56:05.144871Z",
     "start_time": "2025-05-26T12:56:05.131005Z"
    }
   },
   "source": [
    "df.values"
   ],
   "outputs": [
    {
     "data": {
      "text/plain": [
       "array([[-1.6543575 , -1.56919592,  0.37691918, -0.0513275 ],\n",
       "       [-0.1851634 ,  0.71292683,  0.33839126, -1.4890379 ],\n",
       "       [ 0.74925265,  0.56069851,  0.8371214 , -0.48278319],\n",
       "       [ 0.97798176, -0.72129108, -0.9994291 ,  0.94664841],\n",
       "       [-1.33320177,  0.10960152, -2.43497046, -0.49118186],\n",
       "       [ 0.78989723, -0.7233151 , -0.50040187, -1.26990525]])"
      ]
     },
     "execution_count": 165,
     "metadata": {},
     "output_type": "execute_result"
    }
   ],
   "execution_count": 165
  },
  {
   "cell_type": "markdown",
   "id": "62aa22ee",
   "metadata": {
    "id": "62aa22ee"
   },
   "source": [
    "### df.info()\n",
    "- 데이터 프레임의 기본 정보 확인"
   ]
  },
  {
   "cell_type": "code",
   "id": "41d25ced",
   "metadata": {
    "id": "41d25ced",
    "outputId": "500735f0-4561-4b06-a9f3-682c4a8f694c",
    "colab": {
     "base_uri": "https://localhost:8080/"
    },
    "ExecuteTime": {
     "end_time": "2025-05-26T12:56:05.518800Z",
     "start_time": "2025-05-26T12:56:05.492764Z"
    }
   },
   "source": [
    "df.info()"
   ],
   "outputs": [
    {
     "name": "stdout",
     "output_type": "stream",
     "text": [
      "<class 'pandas.core.frame.DataFrame'>\n",
      "DatetimeIndex: 6 entries, 2025-05-24 to 2025-05-29\n",
      "Freq: D\n",
      "Data columns (total 4 columns):\n",
      " #   Column  Non-Null Count  Dtype  \n",
      "---  ------  --------------  -----  \n",
      " 0   A       6 non-null      float64\n",
      " 1   B       6 non-null      float64\n",
      " 2   C       6 non-null      float64\n",
      " 3   D       6 non-null      float64\n",
      "dtypes: float64(4)\n",
      "memory usage: 240.0 bytes\n"
     ]
    }
   ],
   "execution_count": 166
  },
  {
   "cell_type": "markdown",
   "id": "b360a72d",
   "metadata": {
    "id": "b360a72d"
   },
   "source": [
    "### df.describe()\n",
    "- 데이터 프레임의 기술 통계 정보를 확인 가능"
   ]
  },
  {
   "cell_type": "code",
   "id": "553e6309",
   "metadata": {
    "id": "553e6309",
    "outputId": "d5c5da39-9a03-41e1-81ce-c425a04b3fcf",
    "colab": {
     "base_uri": "https://localhost:8080/",
     "height": 320
    },
    "ExecuteTime": {
     "end_time": "2025-05-26T12:56:06.125984Z",
     "start_time": "2025-05-26T12:56:06.082511Z"
    }
   },
   "source": [
    "df.describe()"
   ],
   "outputs": [
    {
     "data": {
      "text/plain": [
       "              A         B         C         D\n",
       "count  6.000000  6.000000  6.000000  6.000000\n",
       "mean  -0.109265 -0.271763 -0.397062 -0.472931\n",
       "std    1.150543  0.882876  1.199145  0.878752\n",
       "min   -1.654357 -1.569196 -2.434970 -1.489038\n",
       "25%   -1.046192 -0.722809 -0.874672 -1.075224\n",
       "50%    0.282045 -0.305845 -0.081005 -0.486983\n",
       "75%    0.779736  0.447924  0.367287 -0.159191\n",
       "max    0.977982  0.712927  0.837121  0.946648"
      ],
      "text/html": [
       "<div>\n",
       "<style scoped>\n",
       "    .dataframe tbody tr th:only-of-type {\n",
       "        vertical-align: middle;\n",
       "    }\n",
       "\n",
       "    .dataframe tbody tr th {\n",
       "        vertical-align: top;\n",
       "    }\n",
       "\n",
       "    .dataframe thead th {\n",
       "        text-align: right;\n",
       "    }\n",
       "</style>\n",
       "<table border=\"1\" class=\"dataframe\">\n",
       "  <thead>\n",
       "    <tr style=\"text-align: right;\">\n",
       "      <th></th>\n",
       "      <th>A</th>\n",
       "      <th>B</th>\n",
       "      <th>C</th>\n",
       "      <th>D</th>\n",
       "    </tr>\n",
       "  </thead>\n",
       "  <tbody>\n",
       "    <tr>\n",
       "      <th>count</th>\n",
       "      <td>6.000000</td>\n",
       "      <td>6.000000</td>\n",
       "      <td>6.000000</td>\n",
       "      <td>6.000000</td>\n",
       "    </tr>\n",
       "    <tr>\n",
       "      <th>mean</th>\n",
       "      <td>-0.109265</td>\n",
       "      <td>-0.271763</td>\n",
       "      <td>-0.397062</td>\n",
       "      <td>-0.472931</td>\n",
       "    </tr>\n",
       "    <tr>\n",
       "      <th>std</th>\n",
       "      <td>1.150543</td>\n",
       "      <td>0.882876</td>\n",
       "      <td>1.199145</td>\n",
       "      <td>0.878752</td>\n",
       "    </tr>\n",
       "    <tr>\n",
       "      <th>min</th>\n",
       "      <td>-1.654357</td>\n",
       "      <td>-1.569196</td>\n",
       "      <td>-2.434970</td>\n",
       "      <td>-1.489038</td>\n",
       "    </tr>\n",
       "    <tr>\n",
       "      <th>25%</th>\n",
       "      <td>-1.046192</td>\n",
       "      <td>-0.722809</td>\n",
       "      <td>-0.874672</td>\n",
       "      <td>-1.075224</td>\n",
       "    </tr>\n",
       "    <tr>\n",
       "      <th>50%</th>\n",
       "      <td>0.282045</td>\n",
       "      <td>-0.305845</td>\n",
       "      <td>-0.081005</td>\n",
       "      <td>-0.486983</td>\n",
       "    </tr>\n",
       "    <tr>\n",
       "      <th>75%</th>\n",
       "      <td>0.779736</td>\n",
       "      <td>0.447924</td>\n",
       "      <td>0.367287</td>\n",
       "      <td>-0.159191</td>\n",
       "    </tr>\n",
       "    <tr>\n",
       "      <th>max</th>\n",
       "      <td>0.977982</td>\n",
       "      <td>0.712927</td>\n",
       "      <td>0.837121</td>\n",
       "      <td>0.946648</td>\n",
       "    </tr>\n",
       "  </tbody>\n",
       "</table>\n",
       "</div>"
      ]
     },
     "execution_count": 167,
     "metadata": {},
     "output_type": "execute_result"
    }
   ],
   "execution_count": 167
  },
  {
   "cell_type": "markdown",
   "id": "d74e6b3a",
   "metadata": {
    "id": "d74e6b3a"
   },
   "source": [
    "### df.sort_values()\n",
    "- 데이터 정렬\n",
    "- 특정 컬럼을 기준으로 데이터를 정렬함"
   ]
  },
  {
   "cell_type": "code",
   "id": "073e673a",
   "metadata": {
    "id": "073e673a",
    "outputId": "b7a796b8-0ea3-478f-f5a1-f67eae70a328",
    "colab": {
     "base_uri": "https://localhost:8080/",
     "height": 361
    },
    "ExecuteTime": {
     "end_time": "2025-05-26T12:56:06.470346Z",
     "start_time": "2025-05-26T12:56:06.445130Z"
    }
   },
   "source": [
    "df"
   ],
   "outputs": [
    {
     "data": {
      "text/plain": [
       "                   A         B         C         D\n",
       "2025-05-24 -1.654357 -1.569196  0.376919 -0.051327\n",
       "2025-05-25 -0.185163  0.712927  0.338391 -1.489038\n",
       "2025-05-26  0.749253  0.560699  0.837121 -0.482783\n",
       "2025-05-27  0.977982 -0.721291 -0.999429  0.946648\n",
       "2025-05-28 -1.333202  0.109602 -2.434970 -0.491182\n",
       "2025-05-29  0.789897 -0.723315 -0.500402 -1.269905"
      ],
      "text/html": [
       "<div>\n",
       "<style scoped>\n",
       "    .dataframe tbody tr th:only-of-type {\n",
       "        vertical-align: middle;\n",
       "    }\n",
       "\n",
       "    .dataframe tbody tr th {\n",
       "        vertical-align: top;\n",
       "    }\n",
       "\n",
       "    .dataframe thead th {\n",
       "        text-align: right;\n",
       "    }\n",
       "</style>\n",
       "<table border=\"1\" class=\"dataframe\">\n",
       "  <thead>\n",
       "    <tr style=\"text-align: right;\">\n",
       "      <th></th>\n",
       "      <th>A</th>\n",
       "      <th>B</th>\n",
       "      <th>C</th>\n",
       "      <th>D</th>\n",
       "    </tr>\n",
       "  </thead>\n",
       "  <tbody>\n",
       "    <tr>\n",
       "      <th>2025-05-24</th>\n",
       "      <td>-1.654357</td>\n",
       "      <td>-1.569196</td>\n",
       "      <td>0.376919</td>\n",
       "      <td>-0.051327</td>\n",
       "    </tr>\n",
       "    <tr>\n",
       "      <th>2025-05-25</th>\n",
       "      <td>-0.185163</td>\n",
       "      <td>0.712927</td>\n",
       "      <td>0.338391</td>\n",
       "      <td>-1.489038</td>\n",
       "    </tr>\n",
       "    <tr>\n",
       "      <th>2025-05-26</th>\n",
       "      <td>0.749253</td>\n",
       "      <td>0.560699</td>\n",
       "      <td>0.837121</td>\n",
       "      <td>-0.482783</td>\n",
       "    </tr>\n",
       "    <tr>\n",
       "      <th>2025-05-27</th>\n",
       "      <td>0.977982</td>\n",
       "      <td>-0.721291</td>\n",
       "      <td>-0.999429</td>\n",
       "      <td>0.946648</td>\n",
       "    </tr>\n",
       "    <tr>\n",
       "      <th>2025-05-28</th>\n",
       "      <td>-1.333202</td>\n",
       "      <td>0.109602</td>\n",
       "      <td>-2.434970</td>\n",
       "      <td>-0.491182</td>\n",
       "    </tr>\n",
       "    <tr>\n",
       "      <th>2025-05-29</th>\n",
       "      <td>0.789897</td>\n",
       "      <td>-0.723315</td>\n",
       "      <td>-0.500402</td>\n",
       "      <td>-1.269905</td>\n",
       "    </tr>\n",
       "  </tbody>\n",
       "</table>\n",
       "</div>"
      ]
     },
     "execution_count": 168,
     "metadata": {},
     "output_type": "execute_result"
    }
   ],
   "execution_count": 168
  },
  {
   "cell_type": "code",
   "id": "a6ca1529",
   "metadata": {
    "id": "a6ca1529",
    "outputId": "c3af49d5-8d78-4b33-93b0-6e7d2422c064",
    "colab": {
     "base_uri": "https://localhost:8080/",
     "height": 361
    },
    "ExecuteTime": {
     "end_time": "2025-05-26T12:56:07.172047Z",
     "start_time": "2025-05-26T12:56:07.132268Z"
    }
   },
   "source": [
    "df.sort_values(by=\"B\")"
   ],
   "outputs": [
    {
     "data": {
      "text/plain": [
       "                   A         B         C         D\n",
       "2025-05-24 -1.654357 -1.569196  0.376919 -0.051327\n",
       "2025-05-29  0.789897 -0.723315 -0.500402 -1.269905\n",
       "2025-05-27  0.977982 -0.721291 -0.999429  0.946648\n",
       "2025-05-28 -1.333202  0.109602 -2.434970 -0.491182\n",
       "2025-05-26  0.749253  0.560699  0.837121 -0.482783\n",
       "2025-05-25 -0.185163  0.712927  0.338391 -1.489038"
      ],
      "text/html": [
       "<div>\n",
       "<style scoped>\n",
       "    .dataframe tbody tr th:only-of-type {\n",
       "        vertical-align: middle;\n",
       "    }\n",
       "\n",
       "    .dataframe tbody tr th {\n",
       "        vertical-align: top;\n",
       "    }\n",
       "\n",
       "    .dataframe thead th {\n",
       "        text-align: right;\n",
       "    }\n",
       "</style>\n",
       "<table border=\"1\" class=\"dataframe\">\n",
       "  <thead>\n",
       "    <tr style=\"text-align: right;\">\n",
       "      <th></th>\n",
       "      <th>A</th>\n",
       "      <th>B</th>\n",
       "      <th>C</th>\n",
       "      <th>D</th>\n",
       "    </tr>\n",
       "  </thead>\n",
       "  <tbody>\n",
       "    <tr>\n",
       "      <th>2025-05-24</th>\n",
       "      <td>-1.654357</td>\n",
       "      <td>-1.569196</td>\n",
       "      <td>0.376919</td>\n",
       "      <td>-0.051327</td>\n",
       "    </tr>\n",
       "    <tr>\n",
       "      <th>2025-05-29</th>\n",
       "      <td>0.789897</td>\n",
       "      <td>-0.723315</td>\n",
       "      <td>-0.500402</td>\n",
       "      <td>-1.269905</td>\n",
       "    </tr>\n",
       "    <tr>\n",
       "      <th>2025-05-27</th>\n",
       "      <td>0.977982</td>\n",
       "      <td>-0.721291</td>\n",
       "      <td>-0.999429</td>\n",
       "      <td>0.946648</td>\n",
       "    </tr>\n",
       "    <tr>\n",
       "      <th>2025-05-28</th>\n",
       "      <td>-1.333202</td>\n",
       "      <td>0.109602</td>\n",
       "      <td>-2.434970</td>\n",
       "      <td>-0.491182</td>\n",
       "    </tr>\n",
       "    <tr>\n",
       "      <th>2025-05-26</th>\n",
       "      <td>0.749253</td>\n",
       "      <td>0.560699</td>\n",
       "      <td>0.837121</td>\n",
       "      <td>-0.482783</td>\n",
       "    </tr>\n",
       "    <tr>\n",
       "      <th>2025-05-25</th>\n",
       "      <td>-0.185163</td>\n",
       "      <td>0.712927</td>\n",
       "      <td>0.338391</td>\n",
       "      <td>-1.489038</td>\n",
       "    </tr>\n",
       "  </tbody>\n",
       "</table>\n",
       "</div>"
      ]
     },
     "execution_count": 169,
     "metadata": {},
     "output_type": "execute_result"
    }
   ],
   "execution_count": 169
  },
  {
   "cell_type": "markdown",
   "id": "c4ad775a",
   "metadata": {
    "id": "c4ad775a"
   },
   "source": [
    "##### ascending=False\n",
    "- 내림차순  하는 옵션"
   ]
  },
  {
   "cell_type": "code",
   "id": "67e43110",
   "metadata": {
    "id": "67e43110",
    "outputId": "70f3e163-c877-4582-97c8-6590cd790877",
    "colab": {
     "base_uri": "https://localhost:8080/",
     "height": 361
    },
    "ExecuteTime": {
     "end_time": "2025-05-26T12:56:08.212290Z",
     "start_time": "2025-05-26T12:56:08.173686Z"
    }
   },
   "source": [
    "df.sort_values(by=\"B\",ascending=False)"
   ],
   "outputs": [
    {
     "data": {
      "text/plain": [
       "                   A         B         C         D\n",
       "2025-05-25 -0.185163  0.712927  0.338391 -1.489038\n",
       "2025-05-26  0.749253  0.560699  0.837121 -0.482783\n",
       "2025-05-28 -1.333202  0.109602 -2.434970 -0.491182\n",
       "2025-05-27  0.977982 -0.721291 -0.999429  0.946648\n",
       "2025-05-29  0.789897 -0.723315 -0.500402 -1.269905\n",
       "2025-05-24 -1.654357 -1.569196  0.376919 -0.051327"
      ],
      "text/html": [
       "<div>\n",
       "<style scoped>\n",
       "    .dataframe tbody tr th:only-of-type {\n",
       "        vertical-align: middle;\n",
       "    }\n",
       "\n",
       "    .dataframe tbody tr th {\n",
       "        vertical-align: top;\n",
       "    }\n",
       "\n",
       "    .dataframe thead th {\n",
       "        text-align: right;\n",
       "    }\n",
       "</style>\n",
       "<table border=\"1\" class=\"dataframe\">\n",
       "  <thead>\n",
       "    <tr style=\"text-align: right;\">\n",
       "      <th></th>\n",
       "      <th>A</th>\n",
       "      <th>B</th>\n",
       "      <th>C</th>\n",
       "      <th>D</th>\n",
       "    </tr>\n",
       "  </thead>\n",
       "  <tbody>\n",
       "    <tr>\n",
       "      <th>2025-05-25</th>\n",
       "      <td>-0.185163</td>\n",
       "      <td>0.712927</td>\n",
       "      <td>0.338391</td>\n",
       "      <td>-1.489038</td>\n",
       "    </tr>\n",
       "    <tr>\n",
       "      <th>2025-05-26</th>\n",
       "      <td>0.749253</td>\n",
       "      <td>0.560699</td>\n",
       "      <td>0.837121</td>\n",
       "      <td>-0.482783</td>\n",
       "    </tr>\n",
       "    <tr>\n",
       "      <th>2025-05-28</th>\n",
       "      <td>-1.333202</td>\n",
       "      <td>0.109602</td>\n",
       "      <td>-2.434970</td>\n",
       "      <td>-0.491182</td>\n",
       "    </tr>\n",
       "    <tr>\n",
       "      <th>2025-05-27</th>\n",
       "      <td>0.977982</td>\n",
       "      <td>-0.721291</td>\n",
       "      <td>-0.999429</td>\n",
       "      <td>0.946648</td>\n",
       "    </tr>\n",
       "    <tr>\n",
       "      <th>2025-05-29</th>\n",
       "      <td>0.789897</td>\n",
       "      <td>-0.723315</td>\n",
       "      <td>-0.500402</td>\n",
       "      <td>-1.269905</td>\n",
       "    </tr>\n",
       "    <tr>\n",
       "      <th>2025-05-24</th>\n",
       "      <td>-1.654357</td>\n",
       "      <td>-1.569196</td>\n",
       "      <td>0.376919</td>\n",
       "      <td>-0.051327</td>\n",
       "    </tr>\n",
       "  </tbody>\n",
       "</table>\n",
       "</div>"
      ]
     },
     "execution_count": 170,
     "metadata": {},
     "output_type": "execute_result"
    }
   ],
   "execution_count": 170
  },
  {
   "cell_type": "markdown",
   "id": "e83cd11d",
   "metadata": {
    "id": "e83cd11d"
   },
   "source": [
    "##### inplace=True\n",
    "  정렬 저장하기  "
   ]
  },
  {
   "cell_type": "code",
   "id": "3410c7cf",
   "metadata": {
    "id": "3410c7cf",
    "ExecuteTime": {
     "end_time": "2025-05-26T12:56:08.848368Z",
     "start_time": "2025-05-26T12:56:08.833607Z"
    }
   },
   "source": [
    "df.sort_values(by=\"B\",ascending=False,inplace=True)"
   ],
   "outputs": [],
   "execution_count": 171
  },
  {
   "cell_type": "markdown",
   "id": "0560771f",
   "metadata": {
    "id": "0560771f"
   },
   "source": [
    "### 데이터 선택"
   ]
  },
  {
   "cell_type": "markdown",
   "id": "7ebffa0e",
   "metadata": {
    "id": "7ebffa0e"
   },
   "source": [
    "#### df[<컬럼명>]\n",
    "- 특정 컬럼 선택\n",
    "- 시리즈 타입을 리턴함"
   ]
  },
  {
   "cell_type": "code",
   "id": "260086f4",
   "metadata": {
    "id": "260086f4",
    "outputId": "f4de2f29-f59b-4528-ed04-f3998618ca03",
    "colab": {
     "base_uri": "https://localhost:8080/",
     "height": 272
    },
    "ExecuteTime": {
     "end_time": "2025-05-26T12:56:09.408259Z",
     "start_time": "2025-05-26T12:56:09.388458Z"
    }
   },
   "source": [
    "df[\"A\"]"
   ],
   "outputs": [
    {
     "data": {
      "text/plain": [
       "2025-05-25   -0.185163\n",
       "2025-05-26    0.749253\n",
       "2025-05-28   -1.333202\n",
       "2025-05-27    0.977982\n",
       "2025-05-29    0.789897\n",
       "2025-05-24   -1.654357\n",
       "Name: A, dtype: float64"
      ]
     },
     "execution_count": 172,
     "metadata": {},
     "output_type": "execute_result"
    }
   ],
   "execution_count": 172
  },
  {
   "cell_type": "markdown",
   "id": "a5050a9f",
   "metadata": {
    "id": "a5050a9f"
   },
   "source": [
    "- 컬럼명이 알파벳인 경우 대괄화 없이 가능"
   ]
  },
  {
   "cell_type": "code",
   "id": "c4d654f1",
   "metadata": {
    "id": "c4d654f1",
    "outputId": "66e1debf-c9b9-4e91-f8a3-a9e397039fd9",
    "colab": {
     "base_uri": "https://localhost:8080/",
     "height": 272
    },
    "ExecuteTime": {
     "end_time": "2025-05-26T12:56:10.015600Z",
     "start_time": "2025-05-26T12:56:10.001966Z"
    }
   },
   "source": [
    "df.A"
   ],
   "outputs": [
    {
     "data": {
      "text/plain": [
       "2025-05-25   -0.185163\n",
       "2025-05-26    0.749253\n",
       "2025-05-28   -1.333202\n",
       "2025-05-27    0.977982\n",
       "2025-05-29    0.789897\n",
       "2025-05-24   -1.654357\n",
       "Name: A, dtype: float64"
      ]
     },
     "execution_count": 173,
     "metadata": {},
     "output_type": "execute_result"
    }
   ],
   "execution_count": 173
  },
  {
   "cell_type": "markdown",
   "id": "848144a5",
   "metadata": {
    "id": "848144a5"
   },
   "source": [
    "#### df[<컬럼1>,<컬럼2>]\n",
    "  - 복수의 컬럼 선택"
   ]
  },
  {
   "cell_type": "code",
   "id": "3b0180f4",
   "metadata": {
    "id": "3b0180f4",
    "outputId": "9576a684-a180-4282-c9be-68b46b14db29",
    "colab": {
     "base_uri": "https://localhost:8080/",
     "height": 237
    },
    "ExecuteTime": {
     "end_time": "2025-05-26T12:56:10.310838Z",
     "start_time": "2025-05-26T12:56:10.283350Z"
    }
   },
   "source": [
    "df[[\"A\",\"B\"]]"
   ],
   "outputs": [
    {
     "data": {
      "text/plain": [
       "                   A         B\n",
       "2025-05-25 -0.185163  0.712927\n",
       "2025-05-26  0.749253  0.560699\n",
       "2025-05-28 -1.333202  0.109602\n",
       "2025-05-27  0.977982 -0.721291\n",
       "2025-05-29  0.789897 -0.723315\n",
       "2025-05-24 -1.654357 -1.569196"
      ],
      "text/html": [
       "<div>\n",
       "<style scoped>\n",
       "    .dataframe tbody tr th:only-of-type {\n",
       "        vertical-align: middle;\n",
       "    }\n",
       "\n",
       "    .dataframe tbody tr th {\n",
       "        vertical-align: top;\n",
       "    }\n",
       "\n",
       "    .dataframe thead th {\n",
       "        text-align: right;\n",
       "    }\n",
       "</style>\n",
       "<table border=\"1\" class=\"dataframe\">\n",
       "  <thead>\n",
       "    <tr style=\"text-align: right;\">\n",
       "      <th></th>\n",
       "      <th>A</th>\n",
       "      <th>B</th>\n",
       "    </tr>\n",
       "  </thead>\n",
       "  <tbody>\n",
       "    <tr>\n",
       "      <th>2025-05-25</th>\n",
       "      <td>-0.185163</td>\n",
       "      <td>0.712927</td>\n",
       "    </tr>\n",
       "    <tr>\n",
       "      <th>2025-05-26</th>\n",
       "      <td>0.749253</td>\n",
       "      <td>0.560699</td>\n",
       "    </tr>\n",
       "    <tr>\n",
       "      <th>2025-05-28</th>\n",
       "      <td>-1.333202</td>\n",
       "      <td>0.109602</td>\n",
       "    </tr>\n",
       "    <tr>\n",
       "      <th>2025-05-27</th>\n",
       "      <td>0.977982</td>\n",
       "      <td>-0.721291</td>\n",
       "    </tr>\n",
       "    <tr>\n",
       "      <th>2025-05-29</th>\n",
       "      <td>0.789897</td>\n",
       "      <td>-0.723315</td>\n",
       "    </tr>\n",
       "    <tr>\n",
       "      <th>2025-05-24</th>\n",
       "      <td>-1.654357</td>\n",
       "      <td>-1.569196</td>\n",
       "    </tr>\n",
       "  </tbody>\n",
       "</table>\n",
       "</div>"
      ]
     },
     "execution_count": 174,
     "metadata": {},
     "output_type": "execute_result"
    }
   ],
   "execution_count": 174
  },
  {
   "cell_type": "markdown",
   "id": "a399ff82",
   "metadata": {
    "id": "a399ff82"
   },
   "source": [
    "#### df[n:m]\n",
    "- n부터 m-1까지 슬라이싱"
   ]
  },
  {
   "cell_type": "code",
   "id": "b2d324a5",
   "metadata": {
    "id": "b2d324a5",
    "outputId": "4cc4ac0f-2e36-4ba3-b2ad-3a4272c2121e",
    "colab": {
     "base_uri": "https://localhost:8080/",
     "height": 215
    },
    "ExecuteTime": {
     "end_time": "2025-05-26T12:56:10.920063Z",
     "start_time": "2025-05-26T12:56:10.900547Z"
    }
   },
   "source": [
    "df[0:3]"
   ],
   "outputs": [
    {
     "data": {
      "text/plain": [
       "                   A         B         C         D\n",
       "2025-05-25 -0.185163  0.712927  0.338391 -1.489038\n",
       "2025-05-26  0.749253  0.560699  0.837121 -0.482783\n",
       "2025-05-28 -1.333202  0.109602 -2.434970 -0.491182"
      ],
      "text/html": [
       "<div>\n",
       "<style scoped>\n",
       "    .dataframe tbody tr th:only-of-type {\n",
       "        vertical-align: middle;\n",
       "    }\n",
       "\n",
       "    .dataframe tbody tr th {\n",
       "        vertical-align: top;\n",
       "    }\n",
       "\n",
       "    .dataframe thead th {\n",
       "        text-align: right;\n",
       "    }\n",
       "</style>\n",
       "<table border=\"1\" class=\"dataframe\">\n",
       "  <thead>\n",
       "    <tr style=\"text-align: right;\">\n",
       "      <th></th>\n",
       "      <th>A</th>\n",
       "      <th>B</th>\n",
       "      <th>C</th>\n",
       "      <th>D</th>\n",
       "    </tr>\n",
       "  </thead>\n",
       "  <tbody>\n",
       "    <tr>\n",
       "      <th>2025-05-25</th>\n",
       "      <td>-0.185163</td>\n",
       "      <td>0.712927</td>\n",
       "      <td>0.338391</td>\n",
       "      <td>-1.489038</td>\n",
       "    </tr>\n",
       "    <tr>\n",
       "      <th>2025-05-26</th>\n",
       "      <td>0.749253</td>\n",
       "      <td>0.560699</td>\n",
       "      <td>0.837121</td>\n",
       "      <td>-0.482783</td>\n",
       "    </tr>\n",
       "    <tr>\n",
       "      <th>2025-05-28</th>\n",
       "      <td>-1.333202</td>\n",
       "      <td>0.109602</td>\n",
       "      <td>-2.434970</td>\n",
       "      <td>-0.491182</td>\n",
       "    </tr>\n",
       "  </tbody>\n",
       "</table>\n",
       "</div>"
      ]
     },
     "execution_count": 175,
     "metadata": {},
     "output_type": "execute_result"
    }
   ],
   "execution_count": 175
  },
  {
   "cell_type": "markdown",
   "id": "1b4caef5",
   "metadata": {
    "id": "1b4caef5"
   },
   "source": [
    "#### df[<컬럼명1>:<컬럼명2>]\n",
    "- 컬럼명 1 부터 컬럼명 2까지 (포함)"
   ]
  },
  {
   "cell_type": "code",
   "id": "9b4b5a05",
   "metadata": {
    "id": "9b4b5a05",
    "outputId": "024dc144-e109-433f-aa5f-1fac2cf47e70",
    "colab": {
     "base_uri": "https://localhost:8080/",
     "height": 313
    },
    "ExecuteTime": {
     "end_time": "2025-05-26T12:56:11.837055Z",
     "start_time": "2025-05-26T12:56:11.810985Z"
    }
   },
   "source": [
    "df[\"2025-05-25\":]"
   ],
   "outputs": [
    {
     "data": {
      "text/plain": [
       "                   A         B         C         D\n",
       "2025-05-25 -0.185163  0.712927  0.338391 -1.489038\n",
       "2025-05-26  0.749253  0.560699  0.837121 -0.482783\n",
       "2025-05-28 -1.333202  0.109602 -2.434970 -0.491182\n",
       "2025-05-27  0.977982 -0.721291 -0.999429  0.946648\n",
       "2025-05-29  0.789897 -0.723315 -0.500402 -1.269905"
      ],
      "text/html": [
       "<div>\n",
       "<style scoped>\n",
       "    .dataframe tbody tr th:only-of-type {\n",
       "        vertical-align: middle;\n",
       "    }\n",
       "\n",
       "    .dataframe tbody tr th {\n",
       "        vertical-align: top;\n",
       "    }\n",
       "\n",
       "    .dataframe thead th {\n",
       "        text-align: right;\n",
       "    }\n",
       "</style>\n",
       "<table border=\"1\" class=\"dataframe\">\n",
       "  <thead>\n",
       "    <tr style=\"text-align: right;\">\n",
       "      <th></th>\n",
       "      <th>A</th>\n",
       "      <th>B</th>\n",
       "      <th>C</th>\n",
       "      <th>D</th>\n",
       "    </tr>\n",
       "  </thead>\n",
       "  <tbody>\n",
       "    <tr>\n",
       "      <th>2025-05-25</th>\n",
       "      <td>-0.185163</td>\n",
       "      <td>0.712927</td>\n",
       "      <td>0.338391</td>\n",
       "      <td>-1.489038</td>\n",
       "    </tr>\n",
       "    <tr>\n",
       "      <th>2025-05-26</th>\n",
       "      <td>0.749253</td>\n",
       "      <td>0.560699</td>\n",
       "      <td>0.837121</td>\n",
       "      <td>-0.482783</td>\n",
       "    </tr>\n",
       "    <tr>\n",
       "      <th>2025-05-28</th>\n",
       "      <td>-1.333202</td>\n",
       "      <td>0.109602</td>\n",
       "      <td>-2.434970</td>\n",
       "      <td>-0.491182</td>\n",
       "    </tr>\n",
       "    <tr>\n",
       "      <th>2025-05-27</th>\n",
       "      <td>0.977982</td>\n",
       "      <td>-0.721291</td>\n",
       "      <td>-0.999429</td>\n",
       "      <td>0.946648</td>\n",
       "    </tr>\n",
       "    <tr>\n",
       "      <th>2025-05-29</th>\n",
       "      <td>0.789897</td>\n",
       "      <td>-0.723315</td>\n",
       "      <td>-0.500402</td>\n",
       "      <td>-1.269905</td>\n",
       "    </tr>\n",
       "  </tbody>\n",
       "</table>\n",
       "</div>"
      ]
     },
     "execution_count": 176,
     "metadata": {},
     "output_type": "execute_result"
    }
   ],
   "execution_count": 176
  },
  {
   "cell_type": "markdown",
   "id": "0e644972",
   "metadata": {
    "id": "0e644972"
   },
   "source": [
    "#### loc\n",
    "- 인덱스 이름으로 특정 행과 열을 선택"
   ]
  },
  {
   "cell_type": "code",
   "id": "cc40d049",
   "metadata": {
    "id": "cc40d049",
    "outputId": "243f8241-4901-459d-8d45-f0eafad58019",
    "colab": {
     "base_uri": "https://localhost:8080/",
     "height": 237
    },
    "ExecuteTime": {
     "end_time": "2025-05-26T12:56:12.402132Z",
     "start_time": "2025-05-26T12:56:12.379639Z"
    }
   },
   "source": [
    "df.loc[:,[\"A\",\"B\"]]"
   ],
   "outputs": [
    {
     "data": {
      "text/plain": [
       "                   A         B\n",
       "2025-05-25 -0.185163  0.712927\n",
       "2025-05-26  0.749253  0.560699\n",
       "2025-05-28 -1.333202  0.109602\n",
       "2025-05-27  0.977982 -0.721291\n",
       "2025-05-29  0.789897 -0.723315\n",
       "2025-05-24 -1.654357 -1.569196"
      ],
      "text/html": [
       "<div>\n",
       "<style scoped>\n",
       "    .dataframe tbody tr th:only-of-type {\n",
       "        vertical-align: middle;\n",
       "    }\n",
       "\n",
       "    .dataframe tbody tr th {\n",
       "        vertical-align: top;\n",
       "    }\n",
       "\n",
       "    .dataframe thead th {\n",
       "        text-align: right;\n",
       "    }\n",
       "</style>\n",
       "<table border=\"1\" class=\"dataframe\">\n",
       "  <thead>\n",
       "    <tr style=\"text-align: right;\">\n",
       "      <th></th>\n",
       "      <th>A</th>\n",
       "      <th>B</th>\n",
       "    </tr>\n",
       "  </thead>\n",
       "  <tbody>\n",
       "    <tr>\n",
       "      <th>2025-05-25</th>\n",
       "      <td>-0.185163</td>\n",
       "      <td>0.712927</td>\n",
       "    </tr>\n",
       "    <tr>\n",
       "      <th>2025-05-26</th>\n",
       "      <td>0.749253</td>\n",
       "      <td>0.560699</td>\n",
       "    </tr>\n",
       "    <tr>\n",
       "      <th>2025-05-28</th>\n",
       "      <td>-1.333202</td>\n",
       "      <td>0.109602</td>\n",
       "    </tr>\n",
       "    <tr>\n",
       "      <th>2025-05-27</th>\n",
       "      <td>0.977982</td>\n",
       "      <td>-0.721291</td>\n",
       "    </tr>\n",
       "    <tr>\n",
       "      <th>2025-05-29</th>\n",
       "      <td>0.789897</td>\n",
       "      <td>-0.723315</td>\n",
       "    </tr>\n",
       "    <tr>\n",
       "      <th>2025-05-24</th>\n",
       "      <td>-1.654357</td>\n",
       "      <td>-1.569196</td>\n",
       "    </tr>\n",
       "  </tbody>\n",
       "</table>\n",
       "</div>"
      ]
     },
     "execution_count": 177,
     "metadata": {},
     "output_type": "execute_result"
    }
   ],
   "execution_count": 177
  },
  {
   "cell_type": "markdown",
   "source": [
    "df.loc[\"2025-05-25\":\"2025-05-28\",:]"
   ],
   "metadata": {
    "id": "ef77fc71"
   },
   "id": "ef77fc71"
  },
  {
   "cell_type": "code",
   "id": "08ca1f0a",
   "metadata": {
    "id": "08ca1f0a",
    "outputId": "3490829a-25f7-4871-fc18-fa171d4e2df3",
    "colab": {
     "base_uri": "https://localhost:8080/",
     "height": 313
    },
    "ExecuteTime": {
     "end_time": "2025-05-26T12:56:12.964593Z",
     "start_time": "2025-05-26T12:56:12.940880Z"
    }
   },
   "source": [
    "df.loc[\"2025-05-25\":,\"A\":\"D\"]"
   ],
   "outputs": [
    {
     "data": {
      "text/plain": [
       "                   A         B         C         D\n",
       "2025-05-25 -0.185163  0.712927  0.338391 -1.489038\n",
       "2025-05-26  0.749253  0.560699  0.837121 -0.482783\n",
       "2025-05-28 -1.333202  0.109602 -2.434970 -0.491182\n",
       "2025-05-27  0.977982 -0.721291 -0.999429  0.946648\n",
       "2025-05-29  0.789897 -0.723315 -0.500402 -1.269905"
      ],
      "text/html": [
       "<div>\n",
       "<style scoped>\n",
       "    .dataframe tbody tr th:only-of-type {\n",
       "        vertical-align: middle;\n",
       "    }\n",
       "\n",
       "    .dataframe tbody tr th {\n",
       "        vertical-align: top;\n",
       "    }\n",
       "\n",
       "    .dataframe thead th {\n",
       "        text-align: right;\n",
       "    }\n",
       "</style>\n",
       "<table border=\"1\" class=\"dataframe\">\n",
       "  <thead>\n",
       "    <tr style=\"text-align: right;\">\n",
       "      <th></th>\n",
       "      <th>A</th>\n",
       "      <th>B</th>\n",
       "      <th>C</th>\n",
       "      <th>D</th>\n",
       "    </tr>\n",
       "  </thead>\n",
       "  <tbody>\n",
       "    <tr>\n",
       "      <th>2025-05-25</th>\n",
       "      <td>-0.185163</td>\n",
       "      <td>0.712927</td>\n",
       "      <td>0.338391</td>\n",
       "      <td>-1.489038</td>\n",
       "    </tr>\n",
       "    <tr>\n",
       "      <th>2025-05-26</th>\n",
       "      <td>0.749253</td>\n",
       "      <td>0.560699</td>\n",
       "      <td>0.837121</td>\n",
       "      <td>-0.482783</td>\n",
       "    </tr>\n",
       "    <tr>\n",
       "      <th>2025-05-28</th>\n",
       "      <td>-1.333202</td>\n",
       "      <td>0.109602</td>\n",
       "      <td>-2.434970</td>\n",
       "      <td>-0.491182</td>\n",
       "    </tr>\n",
       "    <tr>\n",
       "      <th>2025-05-27</th>\n",
       "      <td>0.977982</td>\n",
       "      <td>-0.721291</td>\n",
       "      <td>-0.999429</td>\n",
       "      <td>0.946648</td>\n",
       "    </tr>\n",
       "    <tr>\n",
       "      <th>2025-05-29</th>\n",
       "      <td>0.789897</td>\n",
       "      <td>-0.723315</td>\n",
       "      <td>-0.500402</td>\n",
       "      <td>-1.269905</td>\n",
       "    </tr>\n",
       "  </tbody>\n",
       "</table>\n",
       "</div>"
      ]
     },
     "execution_count": 178,
     "metadata": {},
     "output_type": "execute_result"
    }
   ],
   "execution_count": 178
  },
  {
   "cell_type": "markdown",
   "id": "0239f03e",
   "metadata": {
    "id": "0239f03e"
   },
   "source": [
    "### iloc\n",
    "- 컴퓨터가 인식하는 인덱스 값으로 선택\n",
    "- 0,1,2,3,4 등으로  선택함"
   ]
  },
  {
   "cell_type": "code",
   "id": "aae75d8d",
   "metadata": {
    "id": "aae75d8d",
    "outputId": "53c12d69-bef2-4d69-a26d-eeb9a37e1340",
    "colab": {
     "base_uri": "https://localhost:8080/",
     "height": 209
    },
    "ExecuteTime": {
     "end_time": "2025-05-26T12:56:13.651178Z",
     "start_time": "2025-05-26T12:56:13.630700Z"
    }
   },
   "source": [
    "df.iloc[3]"
   ],
   "outputs": [
    {
     "data": {
      "text/plain": [
       "A    0.977982\n",
       "B   -0.721291\n",
       "C   -0.999429\n",
       "D    0.946648\n",
       "Name: 2025-05-27 00:00:00, dtype: float64"
      ]
     },
     "execution_count": 179,
     "metadata": {},
     "output_type": "execute_result"
    }
   ],
   "execution_count": 179
  },
  {
   "cell_type": "code",
   "id": "653506ce",
   "metadata": {
    "id": "653506ce",
    "outputId": "649321f1-de61-4555-9c59-4873a5666651",
    "colab": {
     "base_uri": "https://localhost:8080/"
    },
    "ExecuteTime": {
     "end_time": "2025-05-26T12:56:14.850724Z",
     "start_time": "2025-05-26T12:56:14.835262Z"
    }
   },
   "source": [
    "df.iloc[3,2]"
   ],
   "outputs": [
    {
     "data": {
      "text/plain": [
       "-0.9994291008781145"
      ]
     },
     "execution_count": 180,
     "metadata": {},
     "output_type": "execute_result"
    }
   ],
   "execution_count": 180
  },
  {
   "cell_type": "code",
   "id": "c78d8186",
   "metadata": {
    "id": "c78d8186",
    "outputId": "a88d367d-0c2b-4822-8481-a78b3588a139",
    "colab": {
     "base_uri": "https://localhost:8080/",
     "height": 112
    },
    "ExecuteTime": {
     "end_time": "2025-05-26T12:56:15.988716Z",
     "start_time": "2025-05-26T12:56:15.954720Z"
    }
   },
   "source": [
    "df.iloc[3:5,0:2]"
   ],
   "outputs": [
    {
     "data": {
      "text/plain": [
       "                   A         B\n",
       "2025-05-27  0.977982 -0.721291\n",
       "2025-05-29  0.789897 -0.723315"
      ],
      "text/html": [
       "<div>\n",
       "<style scoped>\n",
       "    .dataframe tbody tr th:only-of-type {\n",
       "        vertical-align: middle;\n",
       "    }\n",
       "\n",
       "    .dataframe tbody tr th {\n",
       "        vertical-align: top;\n",
       "    }\n",
       "\n",
       "    .dataframe thead th {\n",
       "        text-align: right;\n",
       "    }\n",
       "</style>\n",
       "<table border=\"1\" class=\"dataframe\">\n",
       "  <thead>\n",
       "    <tr style=\"text-align: right;\">\n",
       "      <th></th>\n",
       "      <th>A</th>\n",
       "      <th>B</th>\n",
       "    </tr>\n",
       "  </thead>\n",
       "  <tbody>\n",
       "    <tr>\n",
       "      <th>2025-05-27</th>\n",
       "      <td>0.977982</td>\n",
       "      <td>-0.721291</td>\n",
       "    </tr>\n",
       "    <tr>\n",
       "      <th>2025-05-29</th>\n",
       "      <td>0.789897</td>\n",
       "      <td>-0.723315</td>\n",
       "    </tr>\n",
       "  </tbody>\n",
       "</table>\n",
       "</div>"
      ]
     },
     "execution_count": 181,
     "metadata": {},
     "output_type": "execute_result"
    }
   ],
   "execution_count": 181
  },
  {
   "cell_type": "markdown",
   "id": "c4145ecd",
   "metadata": {
    "id": "c4145ecd"
   },
   "source": [
    "##### 특정 컬럼만 선택하기"
   ]
  },
  {
   "cell_type": "code",
   "id": "f9118326",
   "metadata": {
    "id": "f9118326",
    "outputId": "c2f057a2-4ac0-41dd-8ade-bc4cab11ff6d",
    "colab": {
     "base_uri": "https://localhost:8080/",
     "height": 143
    },
    "ExecuteTime": {
     "end_time": "2025-05-26T12:56:16.831448Z",
     "start_time": "2025-05-26T12:56:16.793916Z"
    }
   },
   "source": [
    "df.iloc[[1,2,4],[0.,2]]"
   ],
   "outputs": [
    {
     "data": {
      "text/plain": [
       "                   A         C\n",
       "2025-05-26  0.749253  0.837121\n",
       "2025-05-28 -1.333202 -2.434970\n",
       "2025-05-29  0.789897 -0.500402"
      ],
      "text/html": [
       "<div>\n",
       "<style scoped>\n",
       "    .dataframe tbody tr th:only-of-type {\n",
       "        vertical-align: middle;\n",
       "    }\n",
       "\n",
       "    .dataframe tbody tr th {\n",
       "        vertical-align: top;\n",
       "    }\n",
       "\n",
       "    .dataframe thead th {\n",
       "        text-align: right;\n",
       "    }\n",
       "</style>\n",
       "<table border=\"1\" class=\"dataframe\">\n",
       "  <thead>\n",
       "    <tr style=\"text-align: right;\">\n",
       "      <th></th>\n",
       "      <th>A</th>\n",
       "      <th>C</th>\n",
       "    </tr>\n",
       "  </thead>\n",
       "  <tbody>\n",
       "    <tr>\n",
       "      <th>2025-05-26</th>\n",
       "      <td>0.749253</td>\n",
       "      <td>0.837121</td>\n",
       "    </tr>\n",
       "    <tr>\n",
       "      <th>2025-05-28</th>\n",
       "      <td>-1.333202</td>\n",
       "      <td>-2.434970</td>\n",
       "    </tr>\n",
       "    <tr>\n",
       "      <th>2025-05-29</th>\n",
       "      <td>0.789897</td>\n",
       "      <td>-0.500402</td>\n",
       "    </tr>\n",
       "  </tbody>\n",
       "</table>\n",
       "</div>"
      ]
     },
     "execution_count": 182,
     "metadata": {},
     "output_type": "execute_result"
    }
   ],
   "execution_count": 182
  },
  {
   "cell_type": "code",
   "id": "1bface04",
   "metadata": {
    "id": "1bface04",
    "outputId": "7a9d5370-10f0-40ff-a9f5-19af94fe57da",
    "colab": {
     "base_uri": "https://localhost:8080/",
     "height": 237
    },
    "ExecuteTime": {
     "end_time": "2025-05-26T12:56:18.026637Z",
     "start_time": "2025-05-26T12:56:17.990212Z"
    }
   },
   "source": [
    "df.iloc[:,1:3]"
   ],
   "outputs": [
    {
     "data": {
      "text/plain": [
       "                   B         C\n",
       "2025-05-25  0.712927  0.338391\n",
       "2025-05-26  0.560699  0.837121\n",
       "2025-05-28  0.109602 -2.434970\n",
       "2025-05-27 -0.721291 -0.999429\n",
       "2025-05-29 -0.723315 -0.500402\n",
       "2025-05-24 -1.569196  0.376919"
      ],
      "text/html": [
       "<div>\n",
       "<style scoped>\n",
       "    .dataframe tbody tr th:only-of-type {\n",
       "        vertical-align: middle;\n",
       "    }\n",
       "\n",
       "    .dataframe tbody tr th {\n",
       "        vertical-align: top;\n",
       "    }\n",
       "\n",
       "    .dataframe thead th {\n",
       "        text-align: right;\n",
       "    }\n",
       "</style>\n",
       "<table border=\"1\" class=\"dataframe\">\n",
       "  <thead>\n",
       "    <tr style=\"text-align: right;\">\n",
       "      <th></th>\n",
       "      <th>B</th>\n",
       "      <th>C</th>\n",
       "    </tr>\n",
       "  </thead>\n",
       "  <tbody>\n",
       "    <tr>\n",
       "      <th>2025-05-25</th>\n",
       "      <td>0.712927</td>\n",
       "      <td>0.338391</td>\n",
       "    </tr>\n",
       "    <tr>\n",
       "      <th>2025-05-26</th>\n",
       "      <td>0.560699</td>\n",
       "      <td>0.837121</td>\n",
       "    </tr>\n",
       "    <tr>\n",
       "      <th>2025-05-28</th>\n",
       "      <td>0.109602</td>\n",
       "      <td>-2.434970</td>\n",
       "    </tr>\n",
       "    <tr>\n",
       "      <th>2025-05-27</th>\n",
       "      <td>-0.721291</td>\n",
       "      <td>-0.999429</td>\n",
       "    </tr>\n",
       "    <tr>\n",
       "      <th>2025-05-29</th>\n",
       "      <td>-0.723315</td>\n",
       "      <td>-0.500402</td>\n",
       "    </tr>\n",
       "    <tr>\n",
       "      <th>2025-05-24</th>\n",
       "      <td>-1.569196</td>\n",
       "      <td>0.376919</td>\n",
       "    </tr>\n",
       "  </tbody>\n",
       "</table>\n",
       "</div>"
      ]
     },
     "execution_count": 183,
     "metadata": {},
     "output_type": "execute_result"
    }
   ],
   "execution_count": 183
  },
  {
   "cell_type": "markdown",
   "id": "b3273fcf",
   "metadata": {
    "id": "b3273fcf"
   },
   "source": [
    "#### 조건 부여 (Condition)"
   ]
  },
  {
   "cell_type": "markdown",
   "id": "3ba4a343",
   "metadata": {
    "id": "3ba4a343"
   },
   "source": [
    "-  0보다 큰 숫자만 선택\n",
    "-  NaN : Not a Number : 숫자가 없음"
   ]
  },
  {
   "cell_type": "code",
   "id": "87c21673",
   "metadata": {
    "id": "87c21673",
    "outputId": "45f37da0-bf5b-4147-8fa6-6ee93eb6f1ed",
    "colab": {
     "base_uri": "https://localhost:8080/",
     "height": 272
    },
    "ExecuteTime": {
     "end_time": "2025-05-26T12:56:19.023738Z",
     "start_time": "2025-05-26T12:56:19.002093Z"
    }
   },
   "source": [
    "df[\"A\"]>0"
   ],
   "outputs": [
    {
     "data": {
      "text/plain": [
       "2025-05-25    False\n",
       "2025-05-26     True\n",
       "2025-05-28    False\n",
       "2025-05-27     True\n",
       "2025-05-29     True\n",
       "2025-05-24    False\n",
       "Name: A, dtype: bool"
      ]
     },
     "execution_count": 184,
     "metadata": {},
     "output_type": "execute_result"
    }
   ],
   "execution_count": 184
  },
  {
   "cell_type": "code",
   "id": "5da28a0f",
   "metadata": {
    "id": "5da28a0f",
    "outputId": "59a52283-819c-4a64-f45c-ae54b3e4e9b8",
    "colab": {
     "base_uri": "https://localhost:8080/",
     "height": 215
    },
    "ExecuteTime": {
     "end_time": "2025-05-26T12:56:19.929361Z",
     "start_time": "2025-05-26T12:56:19.907203Z"
    }
   },
   "source": [
    "df[df[\"A\"]>0]"
   ],
   "outputs": [
    {
     "data": {
      "text/plain": [
       "                   A         B         C         D\n",
       "2025-05-26  0.749253  0.560699  0.837121 -0.482783\n",
       "2025-05-27  0.977982 -0.721291 -0.999429  0.946648\n",
       "2025-05-29  0.789897 -0.723315 -0.500402 -1.269905"
      ],
      "text/html": [
       "<div>\n",
       "<style scoped>\n",
       "    .dataframe tbody tr th:only-of-type {\n",
       "        vertical-align: middle;\n",
       "    }\n",
       "\n",
       "    .dataframe tbody tr th {\n",
       "        vertical-align: top;\n",
       "    }\n",
       "\n",
       "    .dataframe thead th {\n",
       "        text-align: right;\n",
       "    }\n",
       "</style>\n",
       "<table border=\"1\" class=\"dataframe\">\n",
       "  <thead>\n",
       "    <tr style=\"text-align: right;\">\n",
       "      <th></th>\n",
       "      <th>A</th>\n",
       "      <th>B</th>\n",
       "      <th>C</th>\n",
       "      <th>D</th>\n",
       "    </tr>\n",
       "  </thead>\n",
       "  <tbody>\n",
       "    <tr>\n",
       "      <th>2025-05-26</th>\n",
       "      <td>0.749253</td>\n",
       "      <td>0.560699</td>\n",
       "      <td>0.837121</td>\n",
       "      <td>-0.482783</td>\n",
       "    </tr>\n",
       "    <tr>\n",
       "      <th>2025-05-27</th>\n",
       "      <td>0.977982</td>\n",
       "      <td>-0.721291</td>\n",
       "      <td>-0.999429</td>\n",
       "      <td>0.946648</td>\n",
       "    </tr>\n",
       "    <tr>\n",
       "      <th>2025-05-29</th>\n",
       "      <td>0.789897</td>\n",
       "      <td>-0.723315</td>\n",
       "      <td>-0.500402</td>\n",
       "      <td>-1.269905</td>\n",
       "    </tr>\n",
       "  </tbody>\n",
       "</table>\n",
       "</div>"
      ]
     },
     "execution_count": 185,
     "metadata": {},
     "output_type": "execute_result"
    }
   ],
   "execution_count": 185
  },
  {
   "cell_type": "code",
   "id": "e828eba4",
   "metadata": {
    "id": "e828eba4",
    "outputId": "6144f9ae-a55b-4570-ab68-3bc317e095e8",
    "colab": {
     "base_uri": "https://localhost:8080/",
     "height": 361
    },
    "ExecuteTime": {
     "end_time": "2025-05-26T12:56:20.740807Z",
     "start_time": "2025-05-26T12:56:20.699270Z"
    }
   },
   "source": [
    "df[df>0]"
   ],
   "outputs": [
    {
     "data": {
      "text/plain": [
       "                   A         B         C         D\n",
       "2025-05-25       NaN  0.712927  0.338391       NaN\n",
       "2025-05-26  0.749253  0.560699  0.837121       NaN\n",
       "2025-05-28       NaN  0.109602       NaN       NaN\n",
       "2025-05-27  0.977982       NaN       NaN  0.946648\n",
       "2025-05-29  0.789897       NaN       NaN       NaN\n",
       "2025-05-24       NaN       NaN  0.376919       NaN"
      ],
      "text/html": [
       "<div>\n",
       "<style scoped>\n",
       "    .dataframe tbody tr th:only-of-type {\n",
       "        vertical-align: middle;\n",
       "    }\n",
       "\n",
       "    .dataframe tbody tr th {\n",
       "        vertical-align: top;\n",
       "    }\n",
       "\n",
       "    .dataframe thead th {\n",
       "        text-align: right;\n",
       "    }\n",
       "</style>\n",
       "<table border=\"1\" class=\"dataframe\">\n",
       "  <thead>\n",
       "    <tr style=\"text-align: right;\">\n",
       "      <th></th>\n",
       "      <th>A</th>\n",
       "      <th>B</th>\n",
       "      <th>C</th>\n",
       "      <th>D</th>\n",
       "    </tr>\n",
       "  </thead>\n",
       "  <tbody>\n",
       "    <tr>\n",
       "      <th>2025-05-25</th>\n",
       "      <td>NaN</td>\n",
       "      <td>0.712927</td>\n",
       "      <td>0.338391</td>\n",
       "      <td>NaN</td>\n",
       "    </tr>\n",
       "    <tr>\n",
       "      <th>2025-05-26</th>\n",
       "      <td>0.749253</td>\n",
       "      <td>0.560699</td>\n",
       "      <td>0.837121</td>\n",
       "      <td>NaN</td>\n",
       "    </tr>\n",
       "    <tr>\n",
       "      <th>2025-05-28</th>\n",
       "      <td>NaN</td>\n",
       "      <td>0.109602</td>\n",
       "      <td>NaN</td>\n",
       "      <td>NaN</td>\n",
       "    </tr>\n",
       "    <tr>\n",
       "      <th>2025-05-27</th>\n",
       "      <td>0.977982</td>\n",
       "      <td>NaN</td>\n",
       "      <td>NaN</td>\n",
       "      <td>0.946648</td>\n",
       "    </tr>\n",
       "    <tr>\n",
       "      <th>2025-05-29</th>\n",
       "      <td>0.789897</td>\n",
       "      <td>NaN</td>\n",
       "      <td>NaN</td>\n",
       "      <td>NaN</td>\n",
       "    </tr>\n",
       "    <tr>\n",
       "      <th>2025-05-24</th>\n",
       "      <td>NaN</td>\n",
       "      <td>NaN</td>\n",
       "      <td>0.376919</td>\n",
       "      <td>NaN</td>\n",
       "    </tr>\n",
       "  </tbody>\n",
       "</table>\n",
       "</div>"
      ]
     },
     "execution_count": 186,
     "metadata": {},
     "output_type": "execute_result"
    }
   ],
   "execution_count": 186
  },
  {
   "cell_type": "markdown",
   "id": "1682aae3",
   "metadata": {
    "id": "1682aae3"
   },
   "source": [
    "### 컬럼 추가\n",
    "#### df[\"컬럼명\"]=[<컬럼내용>]\n",
    "- 기존 컬럼이 없을 시 추가\n",
    "- 기존 컬럼이 있을 시 업데이트"
   ]
  },
  {
   "cell_type": "code",
   "id": "ee042776",
   "metadata": {
    "id": "ee042776",
    "outputId": "9eb6a295-fe90-4267-d940-48ca7d1c3a8d",
    "colab": {
     "base_uri": "https://localhost:8080/",
     "height": 361
    },
    "ExecuteTime": {
     "end_time": "2025-05-26T12:56:21.840599Z",
     "start_time": "2025-05-26T12:56:21.801555Z"
    }
   },
   "source": [
    "df[\"E\"]=[\"1\",\"2\",\"3\",\"4\",\"4\",\"5\"]\n",
    "df"
   ],
   "outputs": [
    {
     "data": {
      "text/plain": [
       "                   A         B         C         D  E\n",
       "2025-05-25 -0.185163  0.712927  0.338391 -1.489038  1\n",
       "2025-05-26  0.749253  0.560699  0.837121 -0.482783  2\n",
       "2025-05-28 -1.333202  0.109602 -2.434970 -0.491182  3\n",
       "2025-05-27  0.977982 -0.721291 -0.999429  0.946648  4\n",
       "2025-05-29  0.789897 -0.723315 -0.500402 -1.269905  4\n",
       "2025-05-24 -1.654357 -1.569196  0.376919 -0.051327  5"
      ],
      "text/html": [
       "<div>\n",
       "<style scoped>\n",
       "    .dataframe tbody tr th:only-of-type {\n",
       "        vertical-align: middle;\n",
       "    }\n",
       "\n",
       "    .dataframe tbody tr th {\n",
       "        vertical-align: top;\n",
       "    }\n",
       "\n",
       "    .dataframe thead th {\n",
       "        text-align: right;\n",
       "    }\n",
       "</style>\n",
       "<table border=\"1\" class=\"dataframe\">\n",
       "  <thead>\n",
       "    <tr style=\"text-align: right;\">\n",
       "      <th></th>\n",
       "      <th>A</th>\n",
       "      <th>B</th>\n",
       "      <th>C</th>\n",
       "      <th>D</th>\n",
       "      <th>E</th>\n",
       "    </tr>\n",
       "  </thead>\n",
       "  <tbody>\n",
       "    <tr>\n",
       "      <th>2025-05-25</th>\n",
       "      <td>-0.185163</td>\n",
       "      <td>0.712927</td>\n",
       "      <td>0.338391</td>\n",
       "      <td>-1.489038</td>\n",
       "      <td>1</td>\n",
       "    </tr>\n",
       "    <tr>\n",
       "      <th>2025-05-26</th>\n",
       "      <td>0.749253</td>\n",
       "      <td>0.560699</td>\n",
       "      <td>0.837121</td>\n",
       "      <td>-0.482783</td>\n",
       "      <td>2</td>\n",
       "    </tr>\n",
       "    <tr>\n",
       "      <th>2025-05-28</th>\n",
       "      <td>-1.333202</td>\n",
       "      <td>0.109602</td>\n",
       "      <td>-2.434970</td>\n",
       "      <td>-0.491182</td>\n",
       "      <td>3</td>\n",
       "    </tr>\n",
       "    <tr>\n",
       "      <th>2025-05-27</th>\n",
       "      <td>0.977982</td>\n",
       "      <td>-0.721291</td>\n",
       "      <td>-0.999429</td>\n",
       "      <td>0.946648</td>\n",
       "      <td>4</td>\n",
       "    </tr>\n",
       "    <tr>\n",
       "      <th>2025-05-29</th>\n",
       "      <td>0.789897</td>\n",
       "      <td>-0.723315</td>\n",
       "      <td>-0.500402</td>\n",
       "      <td>-1.269905</td>\n",
       "      <td>4</td>\n",
       "    </tr>\n",
       "    <tr>\n",
       "      <th>2025-05-24</th>\n",
       "      <td>-1.654357</td>\n",
       "      <td>-1.569196</td>\n",
       "      <td>0.376919</td>\n",
       "      <td>-0.051327</td>\n",
       "      <td>5</td>\n",
       "    </tr>\n",
       "  </tbody>\n",
       "</table>\n",
       "</div>"
      ]
     },
     "execution_count": 187,
     "metadata": {},
     "output_type": "execute_result"
    }
   ],
   "execution_count": 187
  },
  {
   "cell_type": "markdown",
   "id": "8fa2a1dd",
   "metadata": {
    "id": "8fa2a1dd"
   },
   "source": [
    "#### isin()\n",
    "- 특정 요소가 있는지 확인\n",
    "- bool로 리턴함"
   ]
  },
  {
   "cell_type": "code",
   "id": "bff43362",
   "metadata": {
    "id": "bff43362",
    "outputId": "796bc2de-2ce9-4e47-b619-c0fc3e41e7c1",
    "colab": {
     "base_uri": "https://localhost:8080/",
     "height": 272
    },
    "ExecuteTime": {
     "end_time": "2025-05-26T12:56:23.187304Z",
     "start_time": "2025-05-26T12:56:23.146278Z"
    }
   },
   "source": [
    "df[\"E\"].isin([\"1\",\"4\"])"
   ],
   "outputs": [
    {
     "data": {
      "text/plain": [
       "2025-05-25     True\n",
       "2025-05-26    False\n",
       "2025-05-28    False\n",
       "2025-05-27     True\n",
       "2025-05-29     True\n",
       "2025-05-24    False\n",
       "Name: E, dtype: bool"
      ]
     },
     "execution_count": 188,
     "metadata": {},
     "output_type": "execute_result"
    }
   ],
   "execution_count": 188
  },
  {
   "cell_type": "markdown",
   "id": "0f371ee8",
   "metadata": {
    "id": "0f371ee8"
   },
   "source": [
    "- 실제로 존재하는 값만 출력하기"
   ]
  },
  {
   "cell_type": "code",
   "id": "16b30bba",
   "metadata": {
    "id": "16b30bba",
    "outputId": "cddcfb83-addd-4062-d61b-5d6de8655545",
    "colab": {
     "base_uri": "https://localhost:8080/",
     "height": 215
    },
    "ExecuteTime": {
     "end_time": "2025-05-26T12:56:24.478844Z",
     "start_time": "2025-05-26T12:56:24.443744Z"
    }
   },
   "source": [
    "df[df[\"E\"].isin([\"1\",\"4\"])]"
   ],
   "outputs": [
    {
     "data": {
      "text/plain": [
       "                   A         B         C         D  E\n",
       "2025-05-25 -0.185163  0.712927  0.338391 -1.489038  1\n",
       "2025-05-27  0.977982 -0.721291 -0.999429  0.946648  4\n",
       "2025-05-29  0.789897 -0.723315 -0.500402 -1.269905  4"
      ],
      "text/html": [
       "<div>\n",
       "<style scoped>\n",
       "    .dataframe tbody tr th:only-of-type {\n",
       "        vertical-align: middle;\n",
       "    }\n",
       "\n",
       "    .dataframe tbody tr th {\n",
       "        vertical-align: top;\n",
       "    }\n",
       "\n",
       "    .dataframe thead th {\n",
       "        text-align: right;\n",
       "    }\n",
       "</style>\n",
       "<table border=\"1\" class=\"dataframe\">\n",
       "  <thead>\n",
       "    <tr style=\"text-align: right;\">\n",
       "      <th></th>\n",
       "      <th>A</th>\n",
       "      <th>B</th>\n",
       "      <th>C</th>\n",
       "      <th>D</th>\n",
       "      <th>E</th>\n",
       "    </tr>\n",
       "  </thead>\n",
       "  <tbody>\n",
       "    <tr>\n",
       "      <th>2025-05-25</th>\n",
       "      <td>-0.185163</td>\n",
       "      <td>0.712927</td>\n",
       "      <td>0.338391</td>\n",
       "      <td>-1.489038</td>\n",
       "      <td>1</td>\n",
       "    </tr>\n",
       "    <tr>\n",
       "      <th>2025-05-27</th>\n",
       "      <td>0.977982</td>\n",
       "      <td>-0.721291</td>\n",
       "      <td>-0.999429</td>\n",
       "      <td>0.946648</td>\n",
       "      <td>4</td>\n",
       "    </tr>\n",
       "    <tr>\n",
       "      <th>2025-05-29</th>\n",
       "      <td>0.789897</td>\n",
       "      <td>-0.723315</td>\n",
       "      <td>-0.500402</td>\n",
       "      <td>-1.269905</td>\n",
       "      <td>4</td>\n",
       "    </tr>\n",
       "  </tbody>\n",
       "</table>\n",
       "</div>"
      ]
     },
     "execution_count": 189,
     "metadata": {},
     "output_type": "execute_result"
    }
   ],
   "execution_count": 189
  },
  {
   "cell_type": "markdown",
   "id": "546261e2",
   "metadata": {
    "id": "546261e2"
   },
   "source": [
    "### 특정 컬럼 제거\n",
    "- del\n",
    "- drop"
   ]
  },
  {
   "cell_type": "code",
   "id": "da828865",
   "metadata": {
    "id": "da828865",
    "outputId": "b0ad54bd-85a5-4981-ac06-e6d5b548eb87",
    "colab": {
     "base_uri": "https://localhost:8080/",
     "height": 361
    },
    "ExecuteTime": {
     "end_time": "2025-05-26T12:56:25.335200Z",
     "start_time": "2025-05-26T12:56:25.299067Z"
    }
   },
   "source": [
    "del df[\"E\"]\n",
    "df"
   ],
   "outputs": [
    {
     "data": {
      "text/plain": [
       "                   A         B         C         D\n",
       "2025-05-25 -0.185163  0.712927  0.338391 -1.489038\n",
       "2025-05-26  0.749253  0.560699  0.837121 -0.482783\n",
       "2025-05-28 -1.333202  0.109602 -2.434970 -0.491182\n",
       "2025-05-27  0.977982 -0.721291 -0.999429  0.946648\n",
       "2025-05-29  0.789897 -0.723315 -0.500402 -1.269905\n",
       "2025-05-24 -1.654357 -1.569196  0.376919 -0.051327"
      ],
      "text/html": [
       "<div>\n",
       "<style scoped>\n",
       "    .dataframe tbody tr th:only-of-type {\n",
       "        vertical-align: middle;\n",
       "    }\n",
       "\n",
       "    .dataframe tbody tr th {\n",
       "        vertical-align: top;\n",
       "    }\n",
       "\n",
       "    .dataframe thead th {\n",
       "        text-align: right;\n",
       "    }\n",
       "</style>\n",
       "<table border=\"1\" class=\"dataframe\">\n",
       "  <thead>\n",
       "    <tr style=\"text-align: right;\">\n",
       "      <th></th>\n",
       "      <th>A</th>\n",
       "      <th>B</th>\n",
       "      <th>C</th>\n",
       "      <th>D</th>\n",
       "    </tr>\n",
       "  </thead>\n",
       "  <tbody>\n",
       "    <tr>\n",
       "      <th>2025-05-25</th>\n",
       "      <td>-0.185163</td>\n",
       "      <td>0.712927</td>\n",
       "      <td>0.338391</td>\n",
       "      <td>-1.489038</td>\n",
       "    </tr>\n",
       "    <tr>\n",
       "      <th>2025-05-26</th>\n",
       "      <td>0.749253</td>\n",
       "      <td>0.560699</td>\n",
       "      <td>0.837121</td>\n",
       "      <td>-0.482783</td>\n",
       "    </tr>\n",
       "    <tr>\n",
       "      <th>2025-05-28</th>\n",
       "      <td>-1.333202</td>\n",
       "      <td>0.109602</td>\n",
       "      <td>-2.434970</td>\n",
       "      <td>-0.491182</td>\n",
       "    </tr>\n",
       "    <tr>\n",
       "      <th>2025-05-27</th>\n",
       "      <td>0.977982</td>\n",
       "      <td>-0.721291</td>\n",
       "      <td>-0.999429</td>\n",
       "      <td>0.946648</td>\n",
       "    </tr>\n",
       "    <tr>\n",
       "      <th>2025-05-29</th>\n",
       "      <td>0.789897</td>\n",
       "      <td>-0.723315</td>\n",
       "      <td>-0.500402</td>\n",
       "      <td>-1.269905</td>\n",
       "    </tr>\n",
       "    <tr>\n",
       "      <th>2025-05-24</th>\n",
       "      <td>-1.654357</td>\n",
       "      <td>-1.569196</td>\n",
       "      <td>0.376919</td>\n",
       "      <td>-0.051327</td>\n",
       "    </tr>\n",
       "  </tbody>\n",
       "</table>\n",
       "</div>"
      ]
     },
     "execution_count": 190,
     "metadata": {},
     "output_type": "execute_result"
    }
   ],
   "execution_count": 190
  },
  {
   "cell_type": "markdown",
   "id": "5ffb9407",
   "metadata": {
    "id": "5ffb9407"
   },
   "source": [
    "#### drop\n",
    "- axis 옵션을 통해서 어떤걸 삭제 할지 바꿈\n",
    "- axis = 0 : 가로\n",
    "- axis = 1 : 세로"
   ]
  },
  {
   "cell_type": "code",
   "id": "70b13622",
   "metadata": {
    "id": "70b13622",
    "outputId": "2db20729-97c4-40fd-c354-da8c71acc2e5",
    "colab": {
     "base_uri": "https://localhost:8080/",
     "height": 361
    },
    "ExecuteTime": {
     "end_time": "2025-05-26T12:56:26.067100Z",
     "start_time": "2025-05-26T12:56:26.026634Z"
    }
   },
   "source": [
    "df.drop([\"D\"] , axis=1)"
   ],
   "outputs": [
    {
     "data": {
      "text/plain": [
       "                   A         B         C\n",
       "2025-05-25 -0.185163  0.712927  0.338391\n",
       "2025-05-26  0.749253  0.560699  0.837121\n",
       "2025-05-28 -1.333202  0.109602 -2.434970\n",
       "2025-05-27  0.977982 -0.721291 -0.999429\n",
       "2025-05-29  0.789897 -0.723315 -0.500402\n",
       "2025-05-24 -1.654357 -1.569196  0.376919"
      ],
      "text/html": [
       "<div>\n",
       "<style scoped>\n",
       "    .dataframe tbody tr th:only-of-type {\n",
       "        vertical-align: middle;\n",
       "    }\n",
       "\n",
       "    .dataframe tbody tr th {\n",
       "        vertical-align: top;\n",
       "    }\n",
       "\n",
       "    .dataframe thead th {\n",
       "        text-align: right;\n",
       "    }\n",
       "</style>\n",
       "<table border=\"1\" class=\"dataframe\">\n",
       "  <thead>\n",
       "    <tr style=\"text-align: right;\">\n",
       "      <th></th>\n",
       "      <th>A</th>\n",
       "      <th>B</th>\n",
       "      <th>C</th>\n",
       "    </tr>\n",
       "  </thead>\n",
       "  <tbody>\n",
       "    <tr>\n",
       "      <th>2025-05-25</th>\n",
       "      <td>-0.185163</td>\n",
       "      <td>0.712927</td>\n",
       "      <td>0.338391</td>\n",
       "    </tr>\n",
       "    <tr>\n",
       "      <th>2025-05-26</th>\n",
       "      <td>0.749253</td>\n",
       "      <td>0.560699</td>\n",
       "      <td>0.837121</td>\n",
       "    </tr>\n",
       "    <tr>\n",
       "      <th>2025-05-28</th>\n",
       "      <td>-1.333202</td>\n",
       "      <td>0.109602</td>\n",
       "      <td>-2.434970</td>\n",
       "    </tr>\n",
       "    <tr>\n",
       "      <th>2025-05-27</th>\n",
       "      <td>0.977982</td>\n",
       "      <td>-0.721291</td>\n",
       "      <td>-0.999429</td>\n",
       "    </tr>\n",
       "    <tr>\n",
       "      <th>2025-05-29</th>\n",
       "      <td>0.789897</td>\n",
       "      <td>-0.723315</td>\n",
       "      <td>-0.500402</td>\n",
       "    </tr>\n",
       "    <tr>\n",
       "      <th>2025-05-24</th>\n",
       "      <td>-1.654357</td>\n",
       "      <td>-1.569196</td>\n",
       "      <td>0.376919</td>\n",
       "    </tr>\n",
       "  </tbody>\n",
       "</table>\n",
       "</div>"
      ]
     },
     "execution_count": 191,
     "metadata": {},
     "output_type": "execute_result"
    }
   ],
   "execution_count": 191
  },
  {
   "cell_type": "code",
   "id": "a82fa948",
   "metadata": {
    "id": "a82fa948",
    "outputId": "291caec9-bbdc-4bf5-c0cc-39b128bab7c7",
    "colab": {
     "base_uri": "https://localhost:8080/",
     "height": 313
    },
    "ExecuteTime": {
     "end_time": "2025-05-26T12:56:26.848619Z",
     "start_time": "2025-05-26T12:56:26.809704Z"
    }
   },
   "source": [
    "df.drop([\"2025-05-24\"] , axis=0)"
   ],
   "outputs": [
    {
     "data": {
      "text/plain": [
       "                   A         B         C         D\n",
       "2025-05-25 -0.185163  0.712927  0.338391 -1.489038\n",
       "2025-05-26  0.749253  0.560699  0.837121 -0.482783\n",
       "2025-05-28 -1.333202  0.109602 -2.434970 -0.491182\n",
       "2025-05-27  0.977982 -0.721291 -0.999429  0.946648\n",
       "2025-05-29  0.789897 -0.723315 -0.500402 -1.269905"
      ],
      "text/html": [
       "<div>\n",
       "<style scoped>\n",
       "    .dataframe tbody tr th:only-of-type {\n",
       "        vertical-align: middle;\n",
       "    }\n",
       "\n",
       "    .dataframe tbody tr th {\n",
       "        vertical-align: top;\n",
       "    }\n",
       "\n",
       "    .dataframe thead th {\n",
       "        text-align: right;\n",
       "    }\n",
       "</style>\n",
       "<table border=\"1\" class=\"dataframe\">\n",
       "  <thead>\n",
       "    <tr style=\"text-align: right;\">\n",
       "      <th></th>\n",
       "      <th>A</th>\n",
       "      <th>B</th>\n",
       "      <th>C</th>\n",
       "      <th>D</th>\n",
       "    </tr>\n",
       "  </thead>\n",
       "  <tbody>\n",
       "    <tr>\n",
       "      <th>2025-05-25</th>\n",
       "      <td>-0.185163</td>\n",
       "      <td>0.712927</td>\n",
       "      <td>0.338391</td>\n",
       "      <td>-1.489038</td>\n",
       "    </tr>\n",
       "    <tr>\n",
       "      <th>2025-05-26</th>\n",
       "      <td>0.749253</td>\n",
       "      <td>0.560699</td>\n",
       "      <td>0.837121</td>\n",
       "      <td>-0.482783</td>\n",
       "    </tr>\n",
       "    <tr>\n",
       "      <th>2025-05-28</th>\n",
       "      <td>-1.333202</td>\n",
       "      <td>0.109602</td>\n",
       "      <td>-2.434970</td>\n",
       "      <td>-0.491182</td>\n",
       "    </tr>\n",
       "    <tr>\n",
       "      <th>2025-05-27</th>\n",
       "      <td>0.977982</td>\n",
       "      <td>-0.721291</td>\n",
       "      <td>-0.999429</td>\n",
       "      <td>0.946648</td>\n",
       "    </tr>\n",
       "    <tr>\n",
       "      <th>2025-05-29</th>\n",
       "      <td>0.789897</td>\n",
       "      <td>-0.723315</td>\n",
       "      <td>-0.500402</td>\n",
       "      <td>-1.269905</td>\n",
       "    </tr>\n",
       "  </tbody>\n",
       "</table>\n",
       "</div>"
      ]
     },
     "execution_count": 192,
     "metadata": {},
     "output_type": "execute_result"
    }
   ],
   "execution_count": 192
  },
  {
   "cell_type": "markdown",
   "id": "7cfa20c6",
   "metadata": {
    "id": "7cfa20c6"
   },
   "source": [
    "a"
   ]
  },
  {
   "cell_type": "code",
   "id": "cc3dff89",
   "metadata": {
    "id": "cc3dff89",
    "outputId": "3bad20c4-d0d8-4ac1-e27e-b38d7ad3f4a7",
    "colab": {
     "base_uri": "https://localhost:8080/"
    },
    "ExecuteTime": {
     "end_time": "2025-05-26T12:56:27.709637Z",
     "start_time": "2025-05-26T12:56:27.665852Z"
    }
   },
   "source": [
    "df[\"A\"].apply(\"sum\")"
   ],
   "outputs": [
    {
     "data": {
      "text/plain": [
       "-0.655591026954434"
      ]
     },
     "execution_count": 193,
     "metadata": {},
     "output_type": "execute_result"
    }
   ],
   "execution_count": 193
  },
  {
   "cell_type": "code",
   "id": "879f0005",
   "metadata": {
    "id": "879f0005",
    "outputId": "659fac27-bc37-4405-933e-fb61931fd386",
    "colab": {
     "base_uri": "https://localhost:8080/",
     "height": 147
    },
    "ExecuteTime": {
     "end_time": "2025-05-26T12:56:28.895096Z",
     "start_time": "2025-05-26T12:56:28.876961Z"
    }
   },
   "source": [
    "df[[\"A\",\"D\"]].apply(\"sum\")"
   ],
   "outputs": [
    {
     "data": {
      "text/plain": [
       "A   -0.655591\n",
       "D   -2.837587\n",
       "dtype: float64"
      ]
     },
     "execution_count": 194,
     "metadata": {},
     "output_type": "execute_result"
    }
   ],
   "execution_count": 194
  },
  {
   "cell_type": "code",
   "id": "9ffc58d0",
   "metadata": {
    "id": "9ffc58d0",
    "outputId": "5dcbce88-81ff-473f-a38f-47124a7f000c",
    "colab": {
     "base_uri": "https://localhost:8080/",
     "height": 272
    },
    "ExecuteTime": {
     "end_time": "2025-05-26T12:56:29.506462Z",
     "start_time": "2025-05-26T12:56:29.478206Z"
    }
   },
   "source": [
    "df[\"A\"].apply(np.cumsum)"
   ],
   "outputs": [
    {
     "data": {
      "text/plain": [
       "2025-05-25    [-0.18516340261477457]\n",
       "2025-05-26      [0.7492526549797565]\n",
       "2025-05-28      [-1.333201771881207]\n",
       "2025-05-27      [0.9779817620419685]\n",
       "2025-05-29      [0.7898972274757149]\n",
       "2025-05-24     [-1.6543574969558923]\n",
       "Name: A, dtype: object"
      ]
     },
     "execution_count": 195,
     "metadata": {},
     "output_type": "execute_result"
    }
   ],
   "execution_count": 195
  },
  {
   "cell_type": "markdown",
   "id": "87b17b8e",
   "metadata": {
    "id": "87b17b8e"
   },
   "source": [
    "#### 양수/음수 확인 함수 만들기"
   ]
  },
  {
   "cell_type": "code",
   "id": "82450122",
   "metadata": {
    "id": "82450122",
    "ExecuteTime": {
     "end_time": "2025-05-26T12:56:30.069144Z",
     "start_time": "2025-05-26T12:56:30.058142Z"
    }
   },
   "source": [
    "def plusMinus(num):\n",
    "    return \"plus\" if num > 0 else \"minus\""
   ],
   "outputs": [],
   "execution_count": 196
  },
  {
   "cell_type": "code",
   "id": "98ee202e",
   "metadata": {
    "id": "98ee202e",
    "outputId": "a2fe0d02-0c9d-4b2e-b44c-4d9abab5230d",
    "colab": {
     "base_uri": "https://localhost:8080/",
     "height": 272
    },
    "ExecuteTime": {
     "end_time": "2025-05-26T12:56:30.786461Z",
     "start_time": "2025-05-26T12:56:30.760337Z"
    }
   },
   "source": [
    "df[\"A\"].apply(plusMinus)"
   ],
   "outputs": [
    {
     "data": {
      "text/plain": [
       "2025-05-25    minus\n",
       "2025-05-26     plus\n",
       "2025-05-28    minus\n",
       "2025-05-27     plus\n",
       "2025-05-29     plus\n",
       "2025-05-24    minus\n",
       "Name: A, dtype: object"
      ]
     },
     "execution_count": 197,
     "metadata": {},
     "output_type": "execute_result"
    }
   ],
   "execution_count": 197
  },
  {
   "cell_type": "code",
   "id": "ca745a0d",
   "metadata": {
    "id": "ca745a0d",
    "outputId": "97ad81cc-4047-4720-8181-53918ba4c795",
    "colab": {
     "base_uri": "https://localhost:8080/",
     "height": 272
    },
    "ExecuteTime": {
     "end_time": "2025-05-26T12:56:31.268999Z",
     "start_time": "2025-05-26T12:56:31.245442Z"
    }
   },
   "source": [
    "df[\"A\"].apply(lambda num : \"plus\" if num>0 else \"minus\")"
   ],
   "outputs": [
    {
     "data": {
      "text/plain": [
       "2025-05-25    minus\n",
       "2025-05-26     plus\n",
       "2025-05-28    minus\n",
       "2025-05-27     plus\n",
       "2025-05-29     plus\n",
       "2025-05-24    minus\n",
       "Name: A, dtype: object"
      ]
     },
     "execution_count": 198,
     "metadata": {},
     "output_type": "execute_result"
    }
   ],
   "execution_count": 198
  },
  {
   "cell_type": "markdown",
   "id": "13e76586",
   "metadata": {
    "id": "13e76586"
   },
   "source": [
    "# 3. CCTV 데이터 둘러보기\n",
    "3-1) 데이터 특징 확인\n",
    "- tail : 데이터 끝 쪽 볼 수 있음\n",
    "  - 마지막 줄 인덱스 > 24\n",
    "  - 총 데이터 25개"
   ]
  },
  {
   "cell_type": "code",
   "id": "74ea0b35",
   "metadata": {
    "id": "74ea0b35",
    "outputId": "27dc2e3a-c012-4845-b0ed-25d31037b7be",
    "colab": {
     "base_uri": "https://localhost:8080/",
     "height": 434
    },
    "ExecuteTime": {
     "end_time": "2025-05-26T12:56:31.972123Z",
     "start_time": "2025-05-26T12:56:31.952597Z"
    }
   },
   "source": [
    "CCTV_Seoul.head()"
   ],
   "outputs": [
    {
     "data": {
      "text/plain": [
       "    구별    소계  2013년도 이전  2014년  2015년  2016년\n",
       "0  강남구  3238       1292    430    584    932\n",
       "1  강동구  1010        379     99    155    377\n",
       "2  강북구   831        369    120    138    204\n",
       "3  강서구   911        388    258    184     81\n",
       "4  관악구  2109        846    260    390    613"
      ],
      "text/html": [
       "<div>\n",
       "<style scoped>\n",
       "    .dataframe tbody tr th:only-of-type {\n",
       "        vertical-align: middle;\n",
       "    }\n",
       "\n",
       "    .dataframe tbody tr th {\n",
       "        vertical-align: top;\n",
       "    }\n",
       "\n",
       "    .dataframe thead th {\n",
       "        text-align: right;\n",
       "    }\n",
       "</style>\n",
       "<table border=\"1\" class=\"dataframe\">\n",
       "  <thead>\n",
       "    <tr style=\"text-align: right;\">\n",
       "      <th></th>\n",
       "      <th>구별</th>\n",
       "      <th>소계</th>\n",
       "      <th>2013년도 이전</th>\n",
       "      <th>2014년</th>\n",
       "      <th>2015년</th>\n",
       "      <th>2016년</th>\n",
       "    </tr>\n",
       "  </thead>\n",
       "  <tbody>\n",
       "    <tr>\n",
       "      <th>0</th>\n",
       "      <td>강남구</td>\n",
       "      <td>3238</td>\n",
       "      <td>1292</td>\n",
       "      <td>430</td>\n",
       "      <td>584</td>\n",
       "      <td>932</td>\n",
       "    </tr>\n",
       "    <tr>\n",
       "      <th>1</th>\n",
       "      <td>강동구</td>\n",
       "      <td>1010</td>\n",
       "      <td>379</td>\n",
       "      <td>99</td>\n",
       "      <td>155</td>\n",
       "      <td>377</td>\n",
       "    </tr>\n",
       "    <tr>\n",
       "      <th>2</th>\n",
       "      <td>강북구</td>\n",
       "      <td>831</td>\n",
       "      <td>369</td>\n",
       "      <td>120</td>\n",
       "      <td>138</td>\n",
       "      <td>204</td>\n",
       "    </tr>\n",
       "    <tr>\n",
       "      <th>3</th>\n",
       "      <td>강서구</td>\n",
       "      <td>911</td>\n",
       "      <td>388</td>\n",
       "      <td>258</td>\n",
       "      <td>184</td>\n",
       "      <td>81</td>\n",
       "    </tr>\n",
       "    <tr>\n",
       "      <th>4</th>\n",
       "      <td>관악구</td>\n",
       "      <td>2109</td>\n",
       "      <td>846</td>\n",
       "      <td>260</td>\n",
       "      <td>390</td>\n",
       "      <td>613</td>\n",
       "    </tr>\n",
       "  </tbody>\n",
       "</table>\n",
       "</div>"
      ]
     },
     "execution_count": 199,
     "metadata": {},
     "output_type": "execute_result"
    }
   ],
   "execution_count": 199
  },
  {
   "cell_type": "code",
   "id": "fcc45bdb",
   "metadata": {
    "id": "fcc45bdb",
    "outputId": "f153da8e-b235-4555-b949-34155efe690f",
    "colab": {
     "base_uri": "https://localhost:8080/",
     "height": 417
    },
    "ExecuteTime": {
     "end_time": "2025-05-26T12:56:32.553221Z",
     "start_time": "2025-05-26T12:56:32.525310Z"
    }
   },
   "source": [
    "CCTV_Seoul.tail()"
   ],
   "outputs": [
    {
     "data": {
      "text/plain": [
       "     구별    소계  2013년도 이전  2014년  2015년  2016년\n",
       "20  용산구  2096       1368    218    112    398\n",
       "21  은평구  2108       1138    224    278    468\n",
       "22  종로구  1619        464    314    211    630\n",
       "23   중구  1023        413    190     72    348\n",
       "24  중랑구   916        509    121    177    109"
      ],
      "text/html": [
       "<div>\n",
       "<style scoped>\n",
       "    .dataframe tbody tr th:only-of-type {\n",
       "        vertical-align: middle;\n",
       "    }\n",
       "\n",
       "    .dataframe tbody tr th {\n",
       "        vertical-align: top;\n",
       "    }\n",
       "\n",
       "    .dataframe thead th {\n",
       "        text-align: right;\n",
       "    }\n",
       "</style>\n",
       "<table border=\"1\" class=\"dataframe\">\n",
       "  <thead>\n",
       "    <tr style=\"text-align: right;\">\n",
       "      <th></th>\n",
       "      <th>구별</th>\n",
       "      <th>소계</th>\n",
       "      <th>2013년도 이전</th>\n",
       "      <th>2014년</th>\n",
       "      <th>2015년</th>\n",
       "      <th>2016년</th>\n",
       "    </tr>\n",
       "  </thead>\n",
       "  <tbody>\n",
       "    <tr>\n",
       "      <th>20</th>\n",
       "      <td>용산구</td>\n",
       "      <td>2096</td>\n",
       "      <td>1368</td>\n",
       "      <td>218</td>\n",
       "      <td>112</td>\n",
       "      <td>398</td>\n",
       "    </tr>\n",
       "    <tr>\n",
       "      <th>21</th>\n",
       "      <td>은평구</td>\n",
       "      <td>2108</td>\n",
       "      <td>1138</td>\n",
       "      <td>224</td>\n",
       "      <td>278</td>\n",
       "      <td>468</td>\n",
       "    </tr>\n",
       "    <tr>\n",
       "      <th>22</th>\n",
       "      <td>종로구</td>\n",
       "      <td>1619</td>\n",
       "      <td>464</td>\n",
       "      <td>314</td>\n",
       "      <td>211</td>\n",
       "      <td>630</td>\n",
       "    </tr>\n",
       "    <tr>\n",
       "      <th>23</th>\n",
       "      <td>중구</td>\n",
       "      <td>1023</td>\n",
       "      <td>413</td>\n",
       "      <td>190</td>\n",
       "      <td>72</td>\n",
       "      <td>348</td>\n",
       "    </tr>\n",
       "    <tr>\n",
       "      <th>24</th>\n",
       "      <td>중랑구</td>\n",
       "      <td>916</td>\n",
       "      <td>509</td>\n",
       "      <td>121</td>\n",
       "      <td>177</td>\n",
       "      <td>109</td>\n",
       "    </tr>\n",
       "  </tbody>\n",
       "</table>\n",
       "</div>"
      ]
     },
     "execution_count": 200,
     "metadata": {},
     "output_type": "execute_result"
    }
   ],
   "execution_count": 200
  },
  {
   "cell_type": "markdown",
   "id": "3c84831d",
   "metadata": {
    "id": "3c84831d"
   },
   "source": [
    "## 3-2) sort\n",
    "- 특정 값을 자세하기 볼 수 있음\n",
    "- 소계가 적은 순으로 보기"
   ]
  },
  {
   "cell_type": "code",
   "id": "095ab913",
   "metadata": {
    "id": "095ab913",
    "outputId": "72004128-9121-4e23-b341-843b570744fb",
    "colab": {
     "base_uri": "https://localhost:8080/",
     "height": 434
    },
    "ExecuteTime": {
     "end_time": "2025-05-26T12:56:33.144606Z",
     "start_time": "2025-05-26T12:56:33.116508Z"
    }
   },
   "source": [
    "CCTV_Seoul.sort_values(by=\"소계\",ascending=True).head(5)"
   ],
   "outputs": [
    {
     "data": {
      "text/plain": [
       "     구별   소계  2013년도 이전  2014년  2015년  2016년\n",
       "9   도봉구  825        238    159     42    386\n",
       "2   강북구  831        369    120    138    204\n",
       "5   광진구  878        573     78     53    174\n",
       "3   강서구  911        388    258    184     81\n",
       "24  중랑구  916        509    121    177    109"
      ],
      "text/html": [
       "<div>\n",
       "<style scoped>\n",
       "    .dataframe tbody tr th:only-of-type {\n",
       "        vertical-align: middle;\n",
       "    }\n",
       "\n",
       "    .dataframe tbody tr th {\n",
       "        vertical-align: top;\n",
       "    }\n",
       "\n",
       "    .dataframe thead th {\n",
       "        text-align: right;\n",
       "    }\n",
       "</style>\n",
       "<table border=\"1\" class=\"dataframe\">\n",
       "  <thead>\n",
       "    <tr style=\"text-align: right;\">\n",
       "      <th></th>\n",
       "      <th>구별</th>\n",
       "      <th>소계</th>\n",
       "      <th>2013년도 이전</th>\n",
       "      <th>2014년</th>\n",
       "      <th>2015년</th>\n",
       "      <th>2016년</th>\n",
       "    </tr>\n",
       "  </thead>\n",
       "  <tbody>\n",
       "    <tr>\n",
       "      <th>9</th>\n",
       "      <td>도봉구</td>\n",
       "      <td>825</td>\n",
       "      <td>238</td>\n",
       "      <td>159</td>\n",
       "      <td>42</td>\n",
       "      <td>386</td>\n",
       "    </tr>\n",
       "    <tr>\n",
       "      <th>2</th>\n",
       "      <td>강북구</td>\n",
       "      <td>831</td>\n",
       "      <td>369</td>\n",
       "      <td>120</td>\n",
       "      <td>138</td>\n",
       "      <td>204</td>\n",
       "    </tr>\n",
       "    <tr>\n",
       "      <th>5</th>\n",
       "      <td>광진구</td>\n",
       "      <td>878</td>\n",
       "      <td>573</td>\n",
       "      <td>78</td>\n",
       "      <td>53</td>\n",
       "      <td>174</td>\n",
       "    </tr>\n",
       "    <tr>\n",
       "      <th>3</th>\n",
       "      <td>강서구</td>\n",
       "      <td>911</td>\n",
       "      <td>388</td>\n",
       "      <td>258</td>\n",
       "      <td>184</td>\n",
       "      <td>81</td>\n",
       "    </tr>\n",
       "    <tr>\n",
       "      <th>24</th>\n",
       "      <td>중랑구</td>\n",
       "      <td>916</td>\n",
       "      <td>509</td>\n",
       "      <td>121</td>\n",
       "      <td>177</td>\n",
       "      <td>109</td>\n",
       "    </tr>\n",
       "  </tbody>\n",
       "</table>\n",
       "</div>"
      ]
     },
     "execution_count": 201,
     "metadata": {},
     "output_type": "execute_result"
    }
   ],
   "execution_count": 201
  },
  {
   "cell_type": "markdown",
   "id": "4b519476",
   "metadata": {
    "id": "4b519476"
   },
   "source": [
    "- 내림차순으로 출력해서 많은 순으로 보기"
   ]
  },
  {
   "cell_type": "code",
   "id": "4c69c7ed",
   "metadata": {
    "id": "4c69c7ed",
    "outputId": "b45393b8-3332-42d9-9338-5696e58dace2",
    "colab": {
     "base_uri": "https://localhost:8080/",
     "height": 434
    },
    "ExecuteTime": {
     "end_time": "2025-05-26T12:56:34.018682Z",
     "start_time": "2025-05-26T12:56:33.995594Z"
    }
   },
   "source": [
    "CCTV_Seoul.sort_values(by=\"소계\",ascending=False).head(5)"
   ],
   "outputs": [
    {
     "data": {
      "text/plain": [
       "     구별    소계  2013년도 이전  2014년  2015년  2016년\n",
       "0   강남구  3238       1292    430    584    932\n",
       "18  양천구  2482       1843    142     30    467\n",
       "14  서초구  2297       1406    157    336    398\n",
       "4   관악구  2109        846    260    390    613\n",
       "21  은평구  2108       1138    224    278    468"
      ],
      "text/html": [
       "<div>\n",
       "<style scoped>\n",
       "    .dataframe tbody tr th:only-of-type {\n",
       "        vertical-align: middle;\n",
       "    }\n",
       "\n",
       "    .dataframe tbody tr th {\n",
       "        vertical-align: top;\n",
       "    }\n",
       "\n",
       "    .dataframe thead th {\n",
       "        text-align: right;\n",
       "    }\n",
       "</style>\n",
       "<table border=\"1\" class=\"dataframe\">\n",
       "  <thead>\n",
       "    <tr style=\"text-align: right;\">\n",
       "      <th></th>\n",
       "      <th>구별</th>\n",
       "      <th>소계</th>\n",
       "      <th>2013년도 이전</th>\n",
       "      <th>2014년</th>\n",
       "      <th>2015년</th>\n",
       "      <th>2016년</th>\n",
       "    </tr>\n",
       "  </thead>\n",
       "  <tbody>\n",
       "    <tr>\n",
       "      <th>0</th>\n",
       "      <td>강남구</td>\n",
       "      <td>3238</td>\n",
       "      <td>1292</td>\n",
       "      <td>430</td>\n",
       "      <td>584</td>\n",
       "      <td>932</td>\n",
       "    </tr>\n",
       "    <tr>\n",
       "      <th>18</th>\n",
       "      <td>양천구</td>\n",
       "      <td>2482</td>\n",
       "      <td>1843</td>\n",
       "      <td>142</td>\n",
       "      <td>30</td>\n",
       "      <td>467</td>\n",
       "    </tr>\n",
       "    <tr>\n",
       "      <th>14</th>\n",
       "      <td>서초구</td>\n",
       "      <td>2297</td>\n",
       "      <td>1406</td>\n",
       "      <td>157</td>\n",
       "      <td>336</td>\n",
       "      <td>398</td>\n",
       "    </tr>\n",
       "    <tr>\n",
       "      <th>4</th>\n",
       "      <td>관악구</td>\n",
       "      <td>2109</td>\n",
       "      <td>846</td>\n",
       "      <td>260</td>\n",
       "      <td>390</td>\n",
       "      <td>613</td>\n",
       "    </tr>\n",
       "    <tr>\n",
       "      <th>21</th>\n",
       "      <td>은평구</td>\n",
       "      <td>2108</td>\n",
       "      <td>1138</td>\n",
       "      <td>224</td>\n",
       "      <td>278</td>\n",
       "      <td>468</td>\n",
       "    </tr>\n",
       "  </tbody>\n",
       "</table>\n",
       "</div>"
      ]
     },
     "execution_count": 202,
     "metadata": {},
     "output_type": "execute_result"
    }
   ],
   "execution_count": 202
  },
  {
   "cell_type": "markdown",
   "id": "c8d7ef1b",
   "metadata": {
    "id": "c8d7ef1b"
   },
   "source": [
    "## 3-3) 데이터의 추가\n",
    "- 필요한 데이터는 새롭게 추가함\n",
    "- 해당 컬럼이 없으면 추가 / 있으면 업데이트\n",
    "    - 최근 증가율 : 최근 몇 년간 시리즈를 합함"
   ]
  },
  {
   "cell_type": "code",
   "id": "1e97b747",
   "metadata": {
    "id": "1e97b747",
    "outputId": "efb1200a-4f51-441c-ccb9-2960d53d53db",
    "colab": {
     "base_uri": "https://localhost:8080/",
     "height": 434
    },
    "ExecuteTime": {
     "end_time": "2025-05-26T12:56:34.999405Z",
     "start_time": "2025-05-26T12:56:34.977426Z"
    }
   },
   "source": [
    "CCTV_Seoul[\"최근증가율\"]=(\n",
    "    (CCTV_Seoul[\"2016년\"]+CCTV_Seoul[\"2015년\"]+CCTV_Seoul[\"2014년\"])/CCTV_Seoul[\"2013년도 이전\"]*100\n",
    ")\n",
    "CCTV_Seoul.sort_values(by=\"최근증가율\",ascending=False).head()"
   ],
   "outputs": [
    {
     "data": {
      "text/plain": [
       "     구별    소계  2013년도 이전  2014년  2015년  2016년       최근증가율\n",
       "22  종로구  1619        464    314    211    630  248.922414\n",
       "9   도봉구   825        238    159     42    386  246.638655\n",
       "12  마포구   980        314    118    169    379  212.101911\n",
       "8   노원구  1566        542     57    451    516  188.929889\n",
       "1   강동구  1010        379     99    155    377  166.490765"
      ],
      "text/html": [
       "<div>\n",
       "<style scoped>\n",
       "    .dataframe tbody tr th:only-of-type {\n",
       "        vertical-align: middle;\n",
       "    }\n",
       "\n",
       "    .dataframe tbody tr th {\n",
       "        vertical-align: top;\n",
       "    }\n",
       "\n",
       "    .dataframe thead th {\n",
       "        text-align: right;\n",
       "    }\n",
       "</style>\n",
       "<table border=\"1\" class=\"dataframe\">\n",
       "  <thead>\n",
       "    <tr style=\"text-align: right;\">\n",
       "      <th></th>\n",
       "      <th>구별</th>\n",
       "      <th>소계</th>\n",
       "      <th>2013년도 이전</th>\n",
       "      <th>2014년</th>\n",
       "      <th>2015년</th>\n",
       "      <th>2016년</th>\n",
       "      <th>최근증가율</th>\n",
       "    </tr>\n",
       "  </thead>\n",
       "  <tbody>\n",
       "    <tr>\n",
       "      <th>22</th>\n",
       "      <td>종로구</td>\n",
       "      <td>1619</td>\n",
       "      <td>464</td>\n",
       "      <td>314</td>\n",
       "      <td>211</td>\n",
       "      <td>630</td>\n",
       "      <td>248.922414</td>\n",
       "    </tr>\n",
       "    <tr>\n",
       "      <th>9</th>\n",
       "      <td>도봉구</td>\n",
       "      <td>825</td>\n",
       "      <td>238</td>\n",
       "      <td>159</td>\n",
       "      <td>42</td>\n",
       "      <td>386</td>\n",
       "      <td>246.638655</td>\n",
       "    </tr>\n",
       "    <tr>\n",
       "      <th>12</th>\n",
       "      <td>마포구</td>\n",
       "      <td>980</td>\n",
       "      <td>314</td>\n",
       "      <td>118</td>\n",
       "      <td>169</td>\n",
       "      <td>379</td>\n",
       "      <td>212.101911</td>\n",
       "    </tr>\n",
       "    <tr>\n",
       "      <th>8</th>\n",
       "      <td>노원구</td>\n",
       "      <td>1566</td>\n",
       "      <td>542</td>\n",
       "      <td>57</td>\n",
       "      <td>451</td>\n",
       "      <td>516</td>\n",
       "      <td>188.929889</td>\n",
       "    </tr>\n",
       "    <tr>\n",
       "      <th>1</th>\n",
       "      <td>강동구</td>\n",
       "      <td>1010</td>\n",
       "      <td>379</td>\n",
       "      <td>99</td>\n",
       "      <td>155</td>\n",
       "      <td>377</td>\n",
       "      <td>166.490765</td>\n",
       "    </tr>\n",
       "  </tbody>\n",
       "</table>\n",
       "</div>"
      ]
     },
     "execution_count": 203,
     "metadata": {},
     "output_type": "execute_result"
    }
   ],
   "execution_count": 203
  },
  {
   "cell_type": "markdown",
   "id": "a5c2a04d",
   "metadata": {
    "id": "a5c2a04d"
   },
   "source": [
    "# 4. 인구현황 데이터 보기\n",
    "- 필요 없는 데이터 삭제\n",
    "- 합계 데이터는 필요 없으므로 삭제"
   ]
  },
  {
   "cell_type": "code",
   "id": "fb41708a",
   "metadata": {
    "id": "fb41708a",
    "outputId": "01e18618-2434-434a-a7a9-08569098cb8a",
    "colab": {
     "base_uri": "https://localhost:8080/",
     "height": 382
    },
    "ExecuteTime": {
     "end_time": "2025-05-26T12:56:35.660825Z",
     "start_time": "2025-05-26T12:56:35.631478Z"
    }
   },
   "source": [
    "pop_Seoul.head()"
   ],
   "outputs": [
    {
     "data": {
      "text/plain": [
       "    구별       인구수      한국인     외국인      고령자\n",
       "0   합계  10124579  9857426  267153  1365126\n",
       "1  종로구    164257   154770    9487    26182\n",
       "2   중구    134593   125709    8884    21384\n",
       "3  용산구    244444   229161   15283    36882\n",
       "4  성동구    312711   304808    7903    41273"
      ],
      "text/html": [
       "<div>\n",
       "<style scoped>\n",
       "    .dataframe tbody tr th:only-of-type {\n",
       "        vertical-align: middle;\n",
       "    }\n",
       "\n",
       "    .dataframe tbody tr th {\n",
       "        vertical-align: top;\n",
       "    }\n",
       "\n",
       "    .dataframe thead th {\n",
       "        text-align: right;\n",
       "    }\n",
       "</style>\n",
       "<table border=\"1\" class=\"dataframe\">\n",
       "  <thead>\n",
       "    <tr style=\"text-align: right;\">\n",
       "      <th></th>\n",
       "      <th>구별</th>\n",
       "      <th>인구수</th>\n",
       "      <th>한국인</th>\n",
       "      <th>외국인</th>\n",
       "      <th>고령자</th>\n",
       "    </tr>\n",
       "  </thead>\n",
       "  <tbody>\n",
       "    <tr>\n",
       "      <th>0</th>\n",
       "      <td>합계</td>\n",
       "      <td>10124579</td>\n",
       "      <td>9857426</td>\n",
       "      <td>267153</td>\n",
       "      <td>1365126</td>\n",
       "    </tr>\n",
       "    <tr>\n",
       "      <th>1</th>\n",
       "      <td>종로구</td>\n",
       "      <td>164257</td>\n",
       "      <td>154770</td>\n",
       "      <td>9487</td>\n",
       "      <td>26182</td>\n",
       "    </tr>\n",
       "    <tr>\n",
       "      <th>2</th>\n",
       "      <td>중구</td>\n",
       "      <td>134593</td>\n",
       "      <td>125709</td>\n",
       "      <td>8884</td>\n",
       "      <td>21384</td>\n",
       "    </tr>\n",
       "    <tr>\n",
       "      <th>3</th>\n",
       "      <td>용산구</td>\n",
       "      <td>244444</td>\n",
       "      <td>229161</td>\n",
       "      <td>15283</td>\n",
       "      <td>36882</td>\n",
       "    </tr>\n",
       "    <tr>\n",
       "      <th>4</th>\n",
       "      <td>성동구</td>\n",
       "      <td>312711</td>\n",
       "      <td>304808</td>\n",
       "      <td>7903</td>\n",
       "      <td>41273</td>\n",
       "    </tr>\n",
       "  </tbody>\n",
       "</table>\n",
       "</div>"
      ]
     },
     "execution_count": 204,
     "metadata": {},
     "output_type": "execute_result"
    }
   ],
   "execution_count": 204
  },
  {
   "cell_type": "code",
   "id": "16a4e069",
   "metadata": {
    "id": "16a4e069",
    "outputId": "9219bd6f-1b44-4bf0-d44c-232aec7ac1b8",
    "colab": {
     "base_uri": "https://localhost:8080/",
     "height": 417
    },
    "ExecuteTime": {
     "end_time": "2025-05-26T12:56:36.221999Z",
     "start_time": "2025-05-26T12:56:36.192648Z"
    }
   },
   "source": [
    "pop_Seoul.tail()"
   ],
   "outputs": [
    {
     "data": {
      "text/plain": [
       "     구별     인구수     한국인    외국인    고령자\n",
       "21  관악구  520929  503297  17632  70046\n",
       "22  서초구  445401  441102   4299  53205\n",
       "23  강남구  561052  556164   4888  65060\n",
       "24  송파구  671173  664496   6677  76582\n",
       "25  강동구  440359  436223   4136  56161"
      ],
      "text/html": [
       "<div>\n",
       "<style scoped>\n",
       "    .dataframe tbody tr th:only-of-type {\n",
       "        vertical-align: middle;\n",
       "    }\n",
       "\n",
       "    .dataframe tbody tr th {\n",
       "        vertical-align: top;\n",
       "    }\n",
       "\n",
       "    .dataframe thead th {\n",
       "        text-align: right;\n",
       "    }\n",
       "</style>\n",
       "<table border=\"1\" class=\"dataframe\">\n",
       "  <thead>\n",
       "    <tr style=\"text-align: right;\">\n",
       "      <th></th>\n",
       "      <th>구별</th>\n",
       "      <th>인구수</th>\n",
       "      <th>한국인</th>\n",
       "      <th>외국인</th>\n",
       "      <th>고령자</th>\n",
       "    </tr>\n",
       "  </thead>\n",
       "  <tbody>\n",
       "    <tr>\n",
       "      <th>21</th>\n",
       "      <td>관악구</td>\n",
       "      <td>520929</td>\n",
       "      <td>503297</td>\n",
       "      <td>17632</td>\n",
       "      <td>70046</td>\n",
       "    </tr>\n",
       "    <tr>\n",
       "      <th>22</th>\n",
       "      <td>서초구</td>\n",
       "      <td>445401</td>\n",
       "      <td>441102</td>\n",
       "      <td>4299</td>\n",
       "      <td>53205</td>\n",
       "    </tr>\n",
       "    <tr>\n",
       "      <th>23</th>\n",
       "      <td>강남구</td>\n",
       "      <td>561052</td>\n",
       "      <td>556164</td>\n",
       "      <td>4888</td>\n",
       "      <td>65060</td>\n",
       "    </tr>\n",
       "    <tr>\n",
       "      <th>24</th>\n",
       "      <td>송파구</td>\n",
       "      <td>671173</td>\n",
       "      <td>664496</td>\n",
       "      <td>6677</td>\n",
       "      <td>76582</td>\n",
       "    </tr>\n",
       "    <tr>\n",
       "      <th>25</th>\n",
       "      <td>강동구</td>\n",
       "      <td>440359</td>\n",
       "      <td>436223</td>\n",
       "      <td>4136</td>\n",
       "      <td>56161</td>\n",
       "    </tr>\n",
       "  </tbody>\n",
       "</table>\n",
       "</div>"
      ]
     },
     "execution_count": 205,
     "metadata": {},
     "output_type": "execute_result"
    }
   ],
   "execution_count": 205
  },
  {
   "cell_type": "code",
   "id": "6c8749b3",
   "metadata": {
    "id": "6c8749b3",
    "outputId": "fd984d41-6844-4003-9660-8c2b77a357a6",
    "colab": {
     "base_uri": "https://localhost:8080/",
     "height": 379
    },
    "ExecuteTime": {
     "end_time": "2025-05-26T12:56:36.955988Z",
     "start_time": "2025-05-26T12:56:36.933350Z"
    }
   },
   "source": [
    "pop_Seoul.drop([0],axis=0 , inplace=True)\n",
    "pop_Seoul.head()"
   ],
   "outputs": [
    {
     "data": {
      "text/plain": [
       "    구별     인구수     한국인    외국인    고령자\n",
       "1  종로구  164257  154770   9487  26182\n",
       "2   중구  134593  125709   8884  21384\n",
       "3  용산구  244444  229161  15283  36882\n",
       "4  성동구  312711  304808   7903  41273\n",
       "5  광진구  372298  357703  14595  43953"
      ],
      "text/html": [
       "<div>\n",
       "<style scoped>\n",
       "    .dataframe tbody tr th:only-of-type {\n",
       "        vertical-align: middle;\n",
       "    }\n",
       "\n",
       "    .dataframe tbody tr th {\n",
       "        vertical-align: top;\n",
       "    }\n",
       "\n",
       "    .dataframe thead th {\n",
       "        text-align: right;\n",
       "    }\n",
       "</style>\n",
       "<table border=\"1\" class=\"dataframe\">\n",
       "  <thead>\n",
       "    <tr style=\"text-align: right;\">\n",
       "      <th></th>\n",
       "      <th>구별</th>\n",
       "      <th>인구수</th>\n",
       "      <th>한국인</th>\n",
       "      <th>외국인</th>\n",
       "      <th>고령자</th>\n",
       "    </tr>\n",
       "  </thead>\n",
       "  <tbody>\n",
       "    <tr>\n",
       "      <th>1</th>\n",
       "      <td>종로구</td>\n",
       "      <td>164257</td>\n",
       "      <td>154770</td>\n",
       "      <td>9487</td>\n",
       "      <td>26182</td>\n",
       "    </tr>\n",
       "    <tr>\n",
       "      <th>2</th>\n",
       "      <td>중구</td>\n",
       "      <td>134593</td>\n",
       "      <td>125709</td>\n",
       "      <td>8884</td>\n",
       "      <td>21384</td>\n",
       "    </tr>\n",
       "    <tr>\n",
       "      <th>3</th>\n",
       "      <td>용산구</td>\n",
       "      <td>244444</td>\n",
       "      <td>229161</td>\n",
       "      <td>15283</td>\n",
       "      <td>36882</td>\n",
       "    </tr>\n",
       "    <tr>\n",
       "      <th>4</th>\n",
       "      <td>성동구</td>\n",
       "      <td>312711</td>\n",
       "      <td>304808</td>\n",
       "      <td>7903</td>\n",
       "      <td>41273</td>\n",
       "    </tr>\n",
       "    <tr>\n",
       "      <th>5</th>\n",
       "      <td>광진구</td>\n",
       "      <td>372298</td>\n",
       "      <td>357703</td>\n",
       "      <td>14595</td>\n",
       "      <td>43953</td>\n",
       "    </tr>\n",
       "  </tbody>\n",
       "</table>\n",
       "</div>"
      ]
     },
     "execution_count": 206,
     "metadata": {},
     "output_type": "execute_result"
    }
   ],
   "execution_count": 206
  },
  {
   "cell_type": "markdown",
   "id": "6d15469e",
   "metadata": {
    "id": "6d15469e"
   },
   "source": [
    "- unique() : dedup함"
   ]
  },
  {
   "cell_type": "code",
   "id": "75052d2b",
   "metadata": {
    "id": "75052d2b",
    "outputId": "50a73ecd-0c65-44c1-fd89-63a41a750cea",
    "colab": {
     "base_uri": "https://localhost:8080/"
    },
    "ExecuteTime": {
     "end_time": "2025-05-26T12:56:37.669132Z",
     "start_time": "2025-05-26T12:56:37.649089Z"
    }
   },
   "source": [
    "pop_Seoul[\"구별\"].unique()"
   ],
   "outputs": [
    {
     "data": {
      "text/plain": [
       "array(['종로구', '중구', '용산구', '성동구', '광진구', '동대문구', '중랑구', '성북구', '강북구',\n",
       "       '도봉구', '노원구', '은평구', '서대문구', '마포구', '양천구', '강서구', '구로구', '금천구',\n",
       "       '영등포구', '동작구', '관악구', '서초구', '강남구', '송파구', '강동구'], dtype=object)"
      ]
     },
     "execution_count": 207,
     "metadata": {},
     "output_type": "execute_result"
    }
   ],
   "execution_count": 207
  },
  {
   "cell_type": "code",
   "id": "a5330934",
   "metadata": {
    "id": "a5330934",
    "outputId": "5af78972-f0c1-480b-8efe-a8ae97e29b69",
    "colab": {
     "base_uri": "https://localhost:8080/"
    },
    "ExecuteTime": {
     "end_time": "2025-05-26T12:56:39.068121Z",
     "start_time": "2025-05-26T12:56:39.055378Z"
    }
   },
   "source": [
    "len(pop_Seoul[\"구별\"].unique())"
   ],
   "outputs": [
    {
     "data": {
      "text/plain": [
       "25"
      ]
     },
     "execution_count": 208,
     "metadata": {},
     "output_type": "execute_result"
    }
   ],
   "execution_count": 208
  },
  {
   "cell_type": "markdown",
   "id": "fcd72397",
   "metadata": {
    "id": "fcd72397"
   },
   "source": [
    "- 외국인 비율 / 고령자 비율"
   ]
  },
  {
   "cell_type": "code",
   "id": "6f4be0c9",
   "metadata": {
    "id": "6f4be0c9",
    "outputId": "999076e9-dc5d-46b4-bee5-00ddbded948c",
    "colab": {
     "base_uri": "https://localhost:8080/",
     "height": 399
    },
    "ExecuteTime": {
     "end_time": "2025-05-26T12:56:40.171773Z",
     "start_time": "2025-05-26T12:56:40.121592Z"
    }
   },
   "source": [
    "pop_Seoul[\"외국인비율\"]=pop_Seoul[\"외국인\"]/pop_Seoul[\"인구수\"] * 100\n",
    "pop_Seoul[\"고령자비율\"]=pop_Seoul[\"고령자\"]/pop_Seoul[\"인구수\"] * 100\n",
    "pop_Seoul.head()"
   ],
   "outputs": [
    {
     "data": {
      "text/plain": [
       "    구별     인구수     한국인    외국인    고령자     외국인비율      고령자비율\n",
       "1  종로구  164257  154770   9487  26182  5.775705  15.939656\n",
       "2   중구  134593  125709   8884  21384  6.600640  15.887899\n",
       "3  용산구  244444  229161  15283  36882  6.252148  15.088118\n",
       "4  성동구  312711  304808   7903  41273  2.527254  13.198448\n",
       "5  광진구  372298  357703  14595  43953  3.920247  11.805865"
      ],
      "text/html": [
       "<div>\n",
       "<style scoped>\n",
       "    .dataframe tbody tr th:only-of-type {\n",
       "        vertical-align: middle;\n",
       "    }\n",
       "\n",
       "    .dataframe tbody tr th {\n",
       "        vertical-align: top;\n",
       "    }\n",
       "\n",
       "    .dataframe thead th {\n",
       "        text-align: right;\n",
       "    }\n",
       "</style>\n",
       "<table border=\"1\" class=\"dataframe\">\n",
       "  <thead>\n",
       "    <tr style=\"text-align: right;\">\n",
       "      <th></th>\n",
       "      <th>구별</th>\n",
       "      <th>인구수</th>\n",
       "      <th>한국인</th>\n",
       "      <th>외국인</th>\n",
       "      <th>고령자</th>\n",
       "      <th>외국인비율</th>\n",
       "      <th>고령자비율</th>\n",
       "    </tr>\n",
       "  </thead>\n",
       "  <tbody>\n",
       "    <tr>\n",
       "      <th>1</th>\n",
       "      <td>종로구</td>\n",
       "      <td>164257</td>\n",
       "      <td>154770</td>\n",
       "      <td>9487</td>\n",
       "      <td>26182</td>\n",
       "      <td>5.775705</td>\n",
       "      <td>15.939656</td>\n",
       "    </tr>\n",
       "    <tr>\n",
       "      <th>2</th>\n",
       "      <td>중구</td>\n",
       "      <td>134593</td>\n",
       "      <td>125709</td>\n",
       "      <td>8884</td>\n",
       "      <td>21384</td>\n",
       "      <td>6.600640</td>\n",
       "      <td>15.887899</td>\n",
       "    </tr>\n",
       "    <tr>\n",
       "      <th>3</th>\n",
       "      <td>용산구</td>\n",
       "      <td>244444</td>\n",
       "      <td>229161</td>\n",
       "      <td>15283</td>\n",
       "      <td>36882</td>\n",
       "      <td>6.252148</td>\n",
       "      <td>15.088118</td>\n",
       "    </tr>\n",
       "    <tr>\n",
       "      <th>4</th>\n",
       "      <td>성동구</td>\n",
       "      <td>312711</td>\n",
       "      <td>304808</td>\n",
       "      <td>7903</td>\n",
       "      <td>41273</td>\n",
       "      <td>2.527254</td>\n",
       "      <td>13.198448</td>\n",
       "    </tr>\n",
       "    <tr>\n",
       "      <th>5</th>\n",
       "      <td>광진구</td>\n",
       "      <td>372298</td>\n",
       "      <td>357703</td>\n",
       "      <td>14595</td>\n",
       "      <td>43953</td>\n",
       "      <td>3.920247</td>\n",
       "      <td>11.805865</td>\n",
       "    </tr>\n",
       "  </tbody>\n",
       "</table>\n",
       "</div>"
      ]
     },
     "execution_count": 209,
     "metadata": {},
     "output_type": "execute_result"
    }
   ],
   "execution_count": 209
  },
  {
   "cell_type": "code",
   "id": "9f3e1870",
   "metadata": {
    "id": "9f3e1870",
    "outputId": "0882d473-a68c-4917-fee2-21772fb3b1e3",
    "colab": {
     "base_uri": "https://localhost:8080/",
     "height": 417
    },
    "ExecuteTime": {
     "end_time": "2025-05-26T12:56:40.793167Z",
     "start_time": "2025-05-26T12:56:40.754228Z"
    }
   },
   "source": [
    "pop_Seoul.sort_values(by=\"인구수\",ascending=False).head()"
   ],
   "outputs": [
    {
     "data": {
      "text/plain": [
       "     구별     인구수     한국인    외국인    고령자     외국인비율      고령자비율\n",
       "24  송파구  671173  664496   6677  76582  0.994825  11.410173\n",
       "16  강서구  608255  601691   6564  76032  1.079153  12.500021\n",
       "23  강남구  561052  556164   4888  65060  0.871220  11.596073\n",
       "11  노원구  558075  554403   3672  74243  0.657976  13.303409\n",
       "21  관악구  520929  503297  17632  70046  3.384722  13.446362"
      ],
      "text/html": [
       "<div>\n",
       "<style scoped>\n",
       "    .dataframe tbody tr th:only-of-type {\n",
       "        vertical-align: middle;\n",
       "    }\n",
       "\n",
       "    .dataframe tbody tr th {\n",
       "        vertical-align: top;\n",
       "    }\n",
       "\n",
       "    .dataframe thead th {\n",
       "        text-align: right;\n",
       "    }\n",
       "</style>\n",
       "<table border=\"1\" class=\"dataframe\">\n",
       "  <thead>\n",
       "    <tr style=\"text-align: right;\">\n",
       "      <th></th>\n",
       "      <th>구별</th>\n",
       "      <th>인구수</th>\n",
       "      <th>한국인</th>\n",
       "      <th>외국인</th>\n",
       "      <th>고령자</th>\n",
       "      <th>외국인비율</th>\n",
       "      <th>고령자비율</th>\n",
       "    </tr>\n",
       "  </thead>\n",
       "  <tbody>\n",
       "    <tr>\n",
       "      <th>24</th>\n",
       "      <td>송파구</td>\n",
       "      <td>671173</td>\n",
       "      <td>664496</td>\n",
       "      <td>6677</td>\n",
       "      <td>76582</td>\n",
       "      <td>0.994825</td>\n",
       "      <td>11.410173</td>\n",
       "    </tr>\n",
       "    <tr>\n",
       "      <th>16</th>\n",
       "      <td>강서구</td>\n",
       "      <td>608255</td>\n",
       "      <td>601691</td>\n",
       "      <td>6564</td>\n",
       "      <td>76032</td>\n",
       "      <td>1.079153</td>\n",
       "      <td>12.500021</td>\n",
       "    </tr>\n",
       "    <tr>\n",
       "      <th>23</th>\n",
       "      <td>강남구</td>\n",
       "      <td>561052</td>\n",
       "      <td>556164</td>\n",
       "      <td>4888</td>\n",
       "      <td>65060</td>\n",
       "      <td>0.871220</td>\n",
       "      <td>11.596073</td>\n",
       "    </tr>\n",
       "    <tr>\n",
       "      <th>11</th>\n",
       "      <td>노원구</td>\n",
       "      <td>558075</td>\n",
       "      <td>554403</td>\n",
       "      <td>3672</td>\n",
       "      <td>74243</td>\n",
       "      <td>0.657976</td>\n",
       "      <td>13.303409</td>\n",
       "    </tr>\n",
       "    <tr>\n",
       "      <th>21</th>\n",
       "      <td>관악구</td>\n",
       "      <td>520929</td>\n",
       "      <td>503297</td>\n",
       "      <td>17632</td>\n",
       "      <td>70046</td>\n",
       "      <td>3.384722</td>\n",
       "      <td>13.446362</td>\n",
       "    </tr>\n",
       "  </tbody>\n",
       "</table>\n",
       "</div>"
      ]
     },
     "execution_count": 210,
     "metadata": {},
     "output_type": "execute_result"
    }
   ],
   "execution_count": 210
  },
  {
   "cell_type": "code",
   "id": "7848e2f0",
   "metadata": {
    "id": "7848e2f0",
    "outputId": "b4f3e3d6-75b7-446a-c7d3-2d0fd2617c28",
    "colab": {
     "base_uri": "https://localhost:8080/",
     "height": 417
    },
    "ExecuteTime": {
     "end_time": "2025-05-26T12:56:41.919481Z",
     "start_time": "2025-05-26T12:56:41.876842Z"
    }
   },
   "source": [
    "pop_Seoul.sort_values(by=\"외국인비율\",ascending=False).head()"
   ],
   "outputs": [
    {
     "data": {
      "text/plain": [
       "      구별     인구수     한국인    외국인    고령자     외국인비율      고령자비율\n",
       "19  영등포구  402024  368550  33474  53981  8.326369  13.427308\n",
       "18   금천구  253491  235154  18337  34170  7.233787  13.479769\n",
       "17   구로구  441559  410742  30817  58794  6.979135  13.315095\n",
       "2     중구  134593  125709   8884  21384  6.600640  15.887899\n",
       "3    용산구  244444  229161  15283  36882  6.252148  15.088118"
      ],
      "text/html": [
       "<div>\n",
       "<style scoped>\n",
       "    .dataframe tbody tr th:only-of-type {\n",
       "        vertical-align: middle;\n",
       "    }\n",
       "\n",
       "    .dataframe tbody tr th {\n",
       "        vertical-align: top;\n",
       "    }\n",
       "\n",
       "    .dataframe thead th {\n",
       "        text-align: right;\n",
       "    }\n",
       "</style>\n",
       "<table border=\"1\" class=\"dataframe\">\n",
       "  <thead>\n",
       "    <tr style=\"text-align: right;\">\n",
       "      <th></th>\n",
       "      <th>구별</th>\n",
       "      <th>인구수</th>\n",
       "      <th>한국인</th>\n",
       "      <th>외국인</th>\n",
       "      <th>고령자</th>\n",
       "      <th>외국인비율</th>\n",
       "      <th>고령자비율</th>\n",
       "    </tr>\n",
       "  </thead>\n",
       "  <tbody>\n",
       "    <tr>\n",
       "      <th>19</th>\n",
       "      <td>영등포구</td>\n",
       "      <td>402024</td>\n",
       "      <td>368550</td>\n",
       "      <td>33474</td>\n",
       "      <td>53981</td>\n",
       "      <td>8.326369</td>\n",
       "      <td>13.427308</td>\n",
       "    </tr>\n",
       "    <tr>\n",
       "      <th>18</th>\n",
       "      <td>금천구</td>\n",
       "      <td>253491</td>\n",
       "      <td>235154</td>\n",
       "      <td>18337</td>\n",
       "      <td>34170</td>\n",
       "      <td>7.233787</td>\n",
       "      <td>13.479769</td>\n",
       "    </tr>\n",
       "    <tr>\n",
       "      <th>17</th>\n",
       "      <td>구로구</td>\n",
       "      <td>441559</td>\n",
       "      <td>410742</td>\n",
       "      <td>30817</td>\n",
       "      <td>58794</td>\n",
       "      <td>6.979135</td>\n",
       "      <td>13.315095</td>\n",
       "    </tr>\n",
       "    <tr>\n",
       "      <th>2</th>\n",
       "      <td>중구</td>\n",
       "      <td>134593</td>\n",
       "      <td>125709</td>\n",
       "      <td>8884</td>\n",
       "      <td>21384</td>\n",
       "      <td>6.600640</td>\n",
       "      <td>15.887899</td>\n",
       "    </tr>\n",
       "    <tr>\n",
       "      <th>3</th>\n",
       "      <td>용산구</td>\n",
       "      <td>244444</td>\n",
       "      <td>229161</td>\n",
       "      <td>15283</td>\n",
       "      <td>36882</td>\n",
       "      <td>6.252148</td>\n",
       "      <td>15.088118</td>\n",
       "    </tr>\n",
       "  </tbody>\n",
       "</table>\n",
       "</div>"
      ]
     },
     "execution_count": 211,
     "metadata": {},
     "output_type": "execute_result"
    }
   ],
   "execution_count": 211
  },
  {
   "cell_type": "code",
   "id": "0667e618",
   "metadata": {
    "id": "0667e618",
    "outputId": "e81fe3c0-97dd-4d26-f159-054f22ee4cea",
    "colab": {
     "base_uri": "https://localhost:8080/",
     "height": 417
    },
    "ExecuteTime": {
     "end_time": "2025-05-26T12:56:44.264850Z",
     "start_time": "2025-05-26T12:56:44.213969Z"
    }
   },
   "source": [
    "pop_Seoul.sort_values(by=\"고령자비율\",ascending=False).head()"
   ],
   "outputs": [
    {
     "data": {
      "text/plain": [
       "      구별     인구수     한국인    외국인    고령자     외국인비율      고령자비율\n",
       "9    강북구  328002  324479   3523  56530  1.074079  17.234651\n",
       "1    종로구  164257  154770   9487  26182  5.775705  15.939656\n",
       "2     중구  134593  125709   8884  21384  6.600640  15.887899\n",
       "10   도봉구  346234  344166   2068  53488  0.597284  15.448512\n",
       "6   동대문구  366011  350647  15364  55718  4.197688  15.223040"
      ],
      "text/html": [
       "<div>\n",
       "<style scoped>\n",
       "    .dataframe tbody tr th:only-of-type {\n",
       "        vertical-align: middle;\n",
       "    }\n",
       "\n",
       "    .dataframe tbody tr th {\n",
       "        vertical-align: top;\n",
       "    }\n",
       "\n",
       "    .dataframe thead th {\n",
       "        text-align: right;\n",
       "    }\n",
       "</style>\n",
       "<table border=\"1\" class=\"dataframe\">\n",
       "  <thead>\n",
       "    <tr style=\"text-align: right;\">\n",
       "      <th></th>\n",
       "      <th>구별</th>\n",
       "      <th>인구수</th>\n",
       "      <th>한국인</th>\n",
       "      <th>외국인</th>\n",
       "      <th>고령자</th>\n",
       "      <th>외국인비율</th>\n",
       "      <th>고령자비율</th>\n",
       "    </tr>\n",
       "  </thead>\n",
       "  <tbody>\n",
       "    <tr>\n",
       "      <th>9</th>\n",
       "      <td>강북구</td>\n",
       "      <td>328002</td>\n",
       "      <td>324479</td>\n",
       "      <td>3523</td>\n",
       "      <td>56530</td>\n",
       "      <td>1.074079</td>\n",
       "      <td>17.234651</td>\n",
       "    </tr>\n",
       "    <tr>\n",
       "      <th>1</th>\n",
       "      <td>종로구</td>\n",
       "      <td>164257</td>\n",
       "      <td>154770</td>\n",
       "      <td>9487</td>\n",
       "      <td>26182</td>\n",
       "      <td>5.775705</td>\n",
       "      <td>15.939656</td>\n",
       "    </tr>\n",
       "    <tr>\n",
       "      <th>2</th>\n",
       "      <td>중구</td>\n",
       "      <td>134593</td>\n",
       "      <td>125709</td>\n",
       "      <td>8884</td>\n",
       "      <td>21384</td>\n",
       "      <td>6.600640</td>\n",
       "      <td>15.887899</td>\n",
       "    </tr>\n",
       "    <tr>\n",
       "      <th>10</th>\n",
       "      <td>도봉구</td>\n",
       "      <td>346234</td>\n",
       "      <td>344166</td>\n",
       "      <td>2068</td>\n",
       "      <td>53488</td>\n",
       "      <td>0.597284</td>\n",
       "      <td>15.448512</td>\n",
       "    </tr>\n",
       "    <tr>\n",
       "      <th>6</th>\n",
       "      <td>동대문구</td>\n",
       "      <td>366011</td>\n",
       "      <td>350647</td>\n",
       "      <td>15364</td>\n",
       "      <td>55718</td>\n",
       "      <td>4.197688</td>\n",
       "      <td>15.223040</td>\n",
       "    </tr>\n",
       "  </tbody>\n",
       "</table>\n",
       "</div>"
      ]
     },
     "execution_count": 212,
     "metadata": {},
     "output_type": "execute_result"
    }
   ],
   "execution_count": 212
  },
  {
   "cell_type": "markdown",
   "id": "c61825ea",
   "metadata": {
    "id": "c61825ea"
   },
   "source": [
    "----"
   ]
  },
  {
   "cell_type": "markdown",
   "id": "cb8a06d1",
   "metadata": {
    "id": "cb8a06d1"
   },
   "source": [
    "# 5. 두 데이터 합치기"
   ]
  },
  {
   "cell_type": "markdown",
   "id": "109a5ade",
   "metadata": {
    "id": "109a5ade"
   },
   "source": [
    "## 1) Pandas 에서 데이터프레임을 병합하는 방법\n",
    "- pd.concat()\n",
    "- pd.merge()\n",
    "- pd.join"
   ]
  },
  {
   "cell_type": "markdown",
   "id": "4b57aef1",
   "metadata": {
    "id": "4b57aef1"
   },
   "source": [
    "### pd.merge()\n",
    "- left\n",
    "- right\n",
    "- key\n",
    "- how"
   ]
  },
  {
   "cell_type": "markdown",
   "id": "c1cede24",
   "metadata": {
    "id": "c1cede24"
   },
   "source": [
    "#### 데이터 프레임 생성 방법\n",
    "- 딕셔너리 안의 리스트 생성 방버"
   ]
  },
  {
   "cell_type": "code",
   "id": "6a2d9776",
   "metadata": {
    "id": "6a2d9776",
    "outputId": "d12d8a47-a8f9-4c8d-9a96-ca0b2913f104",
    "colab": {
     "base_uri": "https://localhost:8080/",
     "height": 175
    },
    "ExecuteTime": {
     "end_time": "2025-05-26T12:56:45.493302Z",
     "start_time": "2025-05-26T12:56:45.456648Z"
    }
   },
   "source": [
    "left=pd.DataFrame({\n",
    "    \"key\" : [\"K0\",\"K4\",\"K2\",\"K3\"],\n",
    "             \"A\" : [\"A0\",\"A1\",\"A2\",\"A3\"],\n",
    "             \"B\" :[\"B0\",\"B1\",\"B2\",\"B3\"]\n",
    "})\n",
    "left"
   ],
   "outputs": [
    {
     "data": {
      "text/plain": [
       "  key   A   B\n",
       "0  K0  A0  B0\n",
       "1  K4  A1  B1\n",
       "2  K2  A2  B2\n",
       "3  K3  A3  B3"
      ],
      "text/html": [
       "<div>\n",
       "<style scoped>\n",
       "    .dataframe tbody tr th:only-of-type {\n",
       "        vertical-align: middle;\n",
       "    }\n",
       "\n",
       "    .dataframe tbody tr th {\n",
       "        vertical-align: top;\n",
       "    }\n",
       "\n",
       "    .dataframe thead th {\n",
       "        text-align: right;\n",
       "    }\n",
       "</style>\n",
       "<table border=\"1\" class=\"dataframe\">\n",
       "  <thead>\n",
       "    <tr style=\"text-align: right;\">\n",
       "      <th></th>\n",
       "      <th>key</th>\n",
       "      <th>A</th>\n",
       "      <th>B</th>\n",
       "    </tr>\n",
       "  </thead>\n",
       "  <tbody>\n",
       "    <tr>\n",
       "      <th>0</th>\n",
       "      <td>K0</td>\n",
       "      <td>A0</td>\n",
       "      <td>B0</td>\n",
       "    </tr>\n",
       "    <tr>\n",
       "      <th>1</th>\n",
       "      <td>K4</td>\n",
       "      <td>A1</td>\n",
       "      <td>B1</td>\n",
       "    </tr>\n",
       "    <tr>\n",
       "      <th>2</th>\n",
       "      <td>K2</td>\n",
       "      <td>A2</td>\n",
       "      <td>B2</td>\n",
       "    </tr>\n",
       "    <tr>\n",
       "      <th>3</th>\n",
       "      <td>K3</td>\n",
       "      <td>A3</td>\n",
       "      <td>B3</td>\n",
       "    </tr>\n",
       "  </tbody>\n",
       "</table>\n",
       "</div>"
      ]
     },
     "execution_count": 213,
     "metadata": {},
     "output_type": "execute_result"
    }
   ],
   "execution_count": 213
  },
  {
   "cell_type": "markdown",
   "id": "1e1c675a",
   "metadata": {
    "id": "1e1c675a"
   },
   "source": [
    "- 리스트 안의 딕셔너리 형태"
   ]
  },
  {
   "cell_type": "code",
   "id": "3e12a206",
   "metadata": {
    "id": "3e12a206",
    "outputId": "ab97e456-d100-42d8-f45c-c0378c424aab",
    "colab": {
     "base_uri": "https://localhost:8080/",
     "height": 175
    },
    "ExecuteTime": {
     "end_time": "2025-05-26T12:56:46.163155Z",
     "start_time": "2025-05-26T12:56:46.138949Z"
    }
   },
   "source": [
    "right=pd.DataFrame([\n",
    "    {\"key\":\"K0\",\"C\":\"C0\",\"D\":\"D0\"},\n",
    "    {\"key\":\"K1\",\"C\":\"C1\",\"D\":\"D1\"},\n",
    "    {\"key\":\"K2\",\"C\":\"C2\",\"D\":\"D2\"},\n",
    "    {\"key\":\"K3\",\"C\":\"C3\",\"D\":\"D3\"}\n",
    "])\n",
    "right"
   ],
   "outputs": [
    {
     "data": {
      "text/plain": [
       "  key   C   D\n",
       "0  K0  C0  D0\n",
       "1  K1  C1  D1\n",
       "2  K2  C2  D2\n",
       "3  K3  C3  D3"
      ],
      "text/html": [
       "<div>\n",
       "<style scoped>\n",
       "    .dataframe tbody tr th:only-of-type {\n",
       "        vertical-align: middle;\n",
       "    }\n",
       "\n",
       "    .dataframe tbody tr th {\n",
       "        vertical-align: top;\n",
       "    }\n",
       "\n",
       "    .dataframe thead th {\n",
       "        text-align: right;\n",
       "    }\n",
       "</style>\n",
       "<table border=\"1\" class=\"dataframe\">\n",
       "  <thead>\n",
       "    <tr style=\"text-align: right;\">\n",
       "      <th></th>\n",
       "      <th>key</th>\n",
       "      <th>C</th>\n",
       "      <th>D</th>\n",
       "    </tr>\n",
       "  </thead>\n",
       "  <tbody>\n",
       "    <tr>\n",
       "      <th>0</th>\n",
       "      <td>K0</td>\n",
       "      <td>C0</td>\n",
       "      <td>D0</td>\n",
       "    </tr>\n",
       "    <tr>\n",
       "      <th>1</th>\n",
       "      <td>K1</td>\n",
       "      <td>C1</td>\n",
       "      <td>D1</td>\n",
       "    </tr>\n",
       "    <tr>\n",
       "      <th>2</th>\n",
       "      <td>K2</td>\n",
       "      <td>C2</td>\n",
       "      <td>D2</td>\n",
       "    </tr>\n",
       "    <tr>\n",
       "      <th>3</th>\n",
       "      <td>K3</td>\n",
       "      <td>C3</td>\n",
       "      <td>D3</td>\n",
       "    </tr>\n",
       "  </tbody>\n",
       "</table>\n",
       "</div>"
      ]
     },
     "execution_count": 214,
     "metadata": {},
     "output_type": "execute_result"
    }
   ],
   "execution_count": 214
  },
  {
   "cell_type": "markdown",
   "id": "e2db25e7",
   "metadata": {
    "id": "e2db25e7"
   },
   "source": [
    "### pd.merge()\n",
    "- 두 데이터 프레임을 컬럼이나 인덱스를 기준으로 병합하는 방법\n",
    "- 키(key) : 기준이 되는 컬럼\n",
    "- 기준이 되는 키 값은 두 데이터 프레임에 포함되어 있어야함\n",
    "- on : 키를 기준으로 함\n",
    "- 병합되는 키가 없으면 데이터가 나오지 않음"
   ]
  },
  {
   "cell_type": "code",
   "id": "f0ad06aa",
   "metadata": {
    "id": "f0ad06aa",
    "outputId": "e0b8f93f-929e-457c-c389-ac863365b51a",
    "colab": {
     "base_uri": "https://localhost:8080/",
     "height": 143
    },
    "ExecuteTime": {
     "end_time": "2025-05-26T12:56:47.129129Z",
     "start_time": "2025-05-26T12:56:47.093243Z"
    }
   },
   "source": [
    "pd.merge(left,right,on=\"key\")"
   ],
   "outputs": [
    {
     "data": {
      "text/plain": [
       "  key   A   B   C   D\n",
       "0  K0  A0  B0  C0  D0\n",
       "1  K2  A2  B2  C2  D2\n",
       "2  K3  A3  B3  C3  D3"
      ],
      "text/html": [
       "<div>\n",
       "<style scoped>\n",
       "    .dataframe tbody tr th:only-of-type {\n",
       "        vertical-align: middle;\n",
       "    }\n",
       "\n",
       "    .dataframe tbody tr th {\n",
       "        vertical-align: top;\n",
       "    }\n",
       "\n",
       "    .dataframe thead th {\n",
       "        text-align: right;\n",
       "    }\n",
       "</style>\n",
       "<table border=\"1\" class=\"dataframe\">\n",
       "  <thead>\n",
       "    <tr style=\"text-align: right;\">\n",
       "      <th></th>\n",
       "      <th>key</th>\n",
       "      <th>A</th>\n",
       "      <th>B</th>\n",
       "      <th>C</th>\n",
       "      <th>D</th>\n",
       "    </tr>\n",
       "  </thead>\n",
       "  <tbody>\n",
       "    <tr>\n",
       "      <th>0</th>\n",
       "      <td>K0</td>\n",
       "      <td>A0</td>\n",
       "      <td>B0</td>\n",
       "      <td>C0</td>\n",
       "      <td>D0</td>\n",
       "    </tr>\n",
       "    <tr>\n",
       "      <th>1</th>\n",
       "      <td>K2</td>\n",
       "      <td>A2</td>\n",
       "      <td>B2</td>\n",
       "      <td>C2</td>\n",
       "      <td>D2</td>\n",
       "    </tr>\n",
       "    <tr>\n",
       "      <th>2</th>\n",
       "      <td>K3</td>\n",
       "      <td>A3</td>\n",
       "      <td>B3</td>\n",
       "      <td>C3</td>\n",
       "      <td>D3</td>\n",
       "    </tr>\n",
       "  </tbody>\n",
       "</table>\n",
       "</div>"
      ]
     },
     "execution_count": 215,
     "metadata": {},
     "output_type": "execute_result"
    }
   ],
   "execution_count": 215
  },
  {
   "cell_type": "markdown",
   "id": "d11e560b",
   "metadata": {
    "id": "d11e560b"
   },
   "source": [
    "#### how 옵션\n",
    "- 어떤 데이터프레임을 기준으로 병합되는지\n",
    "- 다른 데이터프레임에 해당 키가 없으면 NaN"
   ]
  },
  {
   "cell_type": "code",
   "id": "07984fd6",
   "metadata": {
    "id": "07984fd6",
    "outputId": "9a1da890-0ba8-4266-9c76-da02430c9bef",
    "colab": {
     "base_uri": "https://localhost:8080/",
     "height": 175
    },
    "ExecuteTime": {
     "end_time": "2025-05-26T12:56:48.018936Z",
     "start_time": "2025-05-26T12:56:47.977497Z"
    }
   },
   "source": [
    "pd.merge(left,right,how=\"left\",on=\"key\")"
   ],
   "outputs": [
    {
     "data": {
      "text/plain": [
       "  key   A   B    C    D\n",
       "0  K0  A0  B0   C0   D0\n",
       "1  K4  A1  B1  NaN  NaN\n",
       "2  K2  A2  B2   C2   D2\n",
       "3  K3  A3  B3   C3   D3"
      ],
      "text/html": [
       "<div>\n",
       "<style scoped>\n",
       "    .dataframe tbody tr th:only-of-type {\n",
       "        vertical-align: middle;\n",
       "    }\n",
       "\n",
       "    .dataframe tbody tr th {\n",
       "        vertical-align: top;\n",
       "    }\n",
       "\n",
       "    .dataframe thead th {\n",
       "        text-align: right;\n",
       "    }\n",
       "</style>\n",
       "<table border=\"1\" class=\"dataframe\">\n",
       "  <thead>\n",
       "    <tr style=\"text-align: right;\">\n",
       "      <th></th>\n",
       "      <th>key</th>\n",
       "      <th>A</th>\n",
       "      <th>B</th>\n",
       "      <th>C</th>\n",
       "      <th>D</th>\n",
       "    </tr>\n",
       "  </thead>\n",
       "  <tbody>\n",
       "    <tr>\n",
       "      <th>0</th>\n",
       "      <td>K0</td>\n",
       "      <td>A0</td>\n",
       "      <td>B0</td>\n",
       "      <td>C0</td>\n",
       "      <td>D0</td>\n",
       "    </tr>\n",
       "    <tr>\n",
       "      <th>1</th>\n",
       "      <td>K4</td>\n",
       "      <td>A1</td>\n",
       "      <td>B1</td>\n",
       "      <td>NaN</td>\n",
       "      <td>NaN</td>\n",
       "    </tr>\n",
       "    <tr>\n",
       "      <th>2</th>\n",
       "      <td>K2</td>\n",
       "      <td>A2</td>\n",
       "      <td>B2</td>\n",
       "      <td>C2</td>\n",
       "      <td>D2</td>\n",
       "    </tr>\n",
       "    <tr>\n",
       "      <th>3</th>\n",
       "      <td>K3</td>\n",
       "      <td>A3</td>\n",
       "      <td>B3</td>\n",
       "      <td>C3</td>\n",
       "      <td>D3</td>\n",
       "    </tr>\n",
       "  </tbody>\n",
       "</table>\n",
       "</div>"
      ]
     },
     "execution_count": 216,
     "metadata": {},
     "output_type": "execute_result"
    }
   ],
   "execution_count": 216
  },
  {
   "cell_type": "code",
   "id": "8b704a5f",
   "metadata": {
    "id": "8b704a5f",
    "outputId": "26548e37-e925-4465-96f4-ddf6b8d2dd3b",
    "colab": {
     "base_uri": "https://localhost:8080/",
     "height": 175
    },
    "ExecuteTime": {
     "end_time": "2025-05-26T12:56:49.221888Z",
     "start_time": "2025-05-26T12:56:49.183212Z"
    }
   },
   "source": [
    "pd.merge(left,right,how=\"right\",on=\"key\")"
   ],
   "outputs": [
    {
     "data": {
      "text/plain": [
       "  key    A    B   C   D\n",
       "0  K0   A0   B0  C0  D0\n",
       "1  K1  NaN  NaN  C1  D1\n",
       "2  K2   A2   B2  C2  D2\n",
       "3  K3   A3   B3  C3  D3"
      ],
      "text/html": [
       "<div>\n",
       "<style scoped>\n",
       "    .dataframe tbody tr th:only-of-type {\n",
       "        vertical-align: middle;\n",
       "    }\n",
       "\n",
       "    .dataframe tbody tr th {\n",
       "        vertical-align: top;\n",
       "    }\n",
       "\n",
       "    .dataframe thead th {\n",
       "        text-align: right;\n",
       "    }\n",
       "</style>\n",
       "<table border=\"1\" class=\"dataframe\">\n",
       "  <thead>\n",
       "    <tr style=\"text-align: right;\">\n",
       "      <th></th>\n",
       "      <th>key</th>\n",
       "      <th>A</th>\n",
       "      <th>B</th>\n",
       "      <th>C</th>\n",
       "      <th>D</th>\n",
       "    </tr>\n",
       "  </thead>\n",
       "  <tbody>\n",
       "    <tr>\n",
       "      <th>0</th>\n",
       "      <td>K0</td>\n",
       "      <td>A0</td>\n",
       "      <td>B0</td>\n",
       "      <td>C0</td>\n",
       "      <td>D0</td>\n",
       "    </tr>\n",
       "    <tr>\n",
       "      <th>1</th>\n",
       "      <td>K1</td>\n",
       "      <td>NaN</td>\n",
       "      <td>NaN</td>\n",
       "      <td>C1</td>\n",
       "      <td>D1</td>\n",
       "    </tr>\n",
       "    <tr>\n",
       "      <th>2</th>\n",
       "      <td>K2</td>\n",
       "      <td>A2</td>\n",
       "      <td>B2</td>\n",
       "      <td>C2</td>\n",
       "      <td>D2</td>\n",
       "    </tr>\n",
       "    <tr>\n",
       "      <th>3</th>\n",
       "      <td>K3</td>\n",
       "      <td>A3</td>\n",
       "      <td>B3</td>\n",
       "      <td>C3</td>\n",
       "      <td>D3</td>\n",
       "    </tr>\n",
       "  </tbody>\n",
       "</table>\n",
       "</div>"
      ]
     },
     "execution_count": 217,
     "metadata": {},
     "output_type": "execute_result"
    }
   ],
   "execution_count": 217
  },
  {
   "cell_type": "markdown",
   "id": "96b1fb4e",
   "metadata": {
    "id": "96b1fb4e"
   },
   "source": [
    "#### how=outer\n",
    "- 일반적으로 how의 옵션은 inner (교집합)\n",
    "- outer 옵션으로 하면 합집합으로 합쳐짐\n",
    "- 각자의 데이터에 없어도 만들어짐\n",
    "- 없는 데이터는 NaN"
   ]
  },
  {
   "cell_type": "code",
   "id": "63798288",
   "metadata": {
    "id": "63798288",
    "outputId": "4e28dba2-a1f5-4613-b43c-b6b2a780a4e8",
    "colab": {
     "base_uri": "https://localhost:8080/",
     "height": 206
    },
    "ExecuteTime": {
     "end_time": "2025-05-26T12:56:50.110852Z",
     "start_time": "2025-05-26T12:56:50.078571Z"
    }
   },
   "source": [
    "pd.merge(left,right,how=\"outer\",on=\"key\")"
   ],
   "outputs": [
    {
     "data": {
      "text/plain": [
       "  key    A    B    C    D\n",
       "0  K0   A0   B0   C0   D0\n",
       "1  K4   A1   B1  NaN  NaN\n",
       "2  K2   A2   B2   C2   D2\n",
       "3  K3   A3   B3   C3   D3\n",
       "4  K1  NaN  NaN   C1   D1"
      ],
      "text/html": [
       "<div>\n",
       "<style scoped>\n",
       "    .dataframe tbody tr th:only-of-type {\n",
       "        vertical-align: middle;\n",
       "    }\n",
       "\n",
       "    .dataframe tbody tr th {\n",
       "        vertical-align: top;\n",
       "    }\n",
       "\n",
       "    .dataframe thead th {\n",
       "        text-align: right;\n",
       "    }\n",
       "</style>\n",
       "<table border=\"1\" class=\"dataframe\">\n",
       "  <thead>\n",
       "    <tr style=\"text-align: right;\">\n",
       "      <th></th>\n",
       "      <th>key</th>\n",
       "      <th>A</th>\n",
       "      <th>B</th>\n",
       "      <th>C</th>\n",
       "      <th>D</th>\n",
       "    </tr>\n",
       "  </thead>\n",
       "  <tbody>\n",
       "    <tr>\n",
       "      <th>0</th>\n",
       "      <td>K0</td>\n",
       "      <td>A0</td>\n",
       "      <td>B0</td>\n",
       "      <td>C0</td>\n",
       "      <td>D0</td>\n",
       "    </tr>\n",
       "    <tr>\n",
       "      <th>1</th>\n",
       "      <td>K4</td>\n",
       "      <td>A1</td>\n",
       "      <td>B1</td>\n",
       "      <td>NaN</td>\n",
       "      <td>NaN</td>\n",
       "    </tr>\n",
       "    <tr>\n",
       "      <th>2</th>\n",
       "      <td>K2</td>\n",
       "      <td>A2</td>\n",
       "      <td>B2</td>\n",
       "      <td>C2</td>\n",
       "      <td>D2</td>\n",
       "    </tr>\n",
       "    <tr>\n",
       "      <th>3</th>\n",
       "      <td>K3</td>\n",
       "      <td>A3</td>\n",
       "      <td>B3</td>\n",
       "      <td>C3</td>\n",
       "      <td>D3</td>\n",
       "    </tr>\n",
       "    <tr>\n",
       "      <th>4</th>\n",
       "      <td>K1</td>\n",
       "      <td>NaN</td>\n",
       "      <td>NaN</td>\n",
       "      <td>C1</td>\n",
       "      <td>D1</td>\n",
       "    </tr>\n",
       "  </tbody>\n",
       "</table>\n",
       "</div>"
      ]
     },
     "execution_count": 218,
     "metadata": {},
     "output_type": "execute_result"
    }
   ],
   "execution_count": 218
  },
  {
   "cell_type": "code",
   "id": "0d3fb9f7",
   "metadata": {
    "id": "0d3fb9f7",
    "ExecuteTime": {
     "end_time": "2025-05-26T12:56:51.187515Z",
     "start_time": "2025-05-26T12:56:51.162794Z"
    }
   },
   "source": [
    "## CCTV 데이터와 인구수 데이터를 병합"
   ],
   "outputs": [],
   "execution_count": 219
  },
  {
   "cell_type": "code",
   "id": "0bbdd03d",
   "metadata": {
    "id": "0bbdd03d",
    "outputId": "38b59a39-d9f0-4bdb-96af-dc6cbdd2719e",
    "colab": {
     "base_uri": "https://localhost:8080/",
     "height": 170
    },
    "ExecuteTime": {
     "end_time": "2025-05-26T12:56:51.907597Z",
     "start_time": "2025-05-26T12:56:51.882603Z"
    }
   },
   "source": [
    "CCTV_Seoul.head(1)"
   ],
   "outputs": [
    {
     "data": {
      "text/plain": [
       "    구별    소계  2013년도 이전  2014년  2015년  2016년       최근증가율\n",
       "0  강남구  3238       1292    430    584    932  150.619195"
      ],
      "text/html": [
       "<div>\n",
       "<style scoped>\n",
       "    .dataframe tbody tr th:only-of-type {\n",
       "        vertical-align: middle;\n",
       "    }\n",
       "\n",
       "    .dataframe tbody tr th {\n",
       "        vertical-align: top;\n",
       "    }\n",
       "\n",
       "    .dataframe thead th {\n",
       "        text-align: right;\n",
       "    }\n",
       "</style>\n",
       "<table border=\"1\" class=\"dataframe\">\n",
       "  <thead>\n",
       "    <tr style=\"text-align: right;\">\n",
       "      <th></th>\n",
       "      <th>구별</th>\n",
       "      <th>소계</th>\n",
       "      <th>2013년도 이전</th>\n",
       "      <th>2014년</th>\n",
       "      <th>2015년</th>\n",
       "      <th>2016년</th>\n",
       "      <th>최근증가율</th>\n",
       "    </tr>\n",
       "  </thead>\n",
       "  <tbody>\n",
       "    <tr>\n",
       "      <th>0</th>\n",
       "      <td>강남구</td>\n",
       "      <td>3238</td>\n",
       "      <td>1292</td>\n",
       "      <td>430</td>\n",
       "      <td>584</td>\n",
       "      <td>932</td>\n",
       "      <td>150.619195</td>\n",
       "    </tr>\n",
       "  </tbody>\n",
       "</table>\n",
       "</div>"
      ]
     },
     "execution_count": 220,
     "metadata": {},
     "output_type": "execute_result"
    }
   ],
   "execution_count": 220
  },
  {
   "cell_type": "code",
   "id": "bf9faf27",
   "metadata": {
    "id": "bf9faf27",
    "outputId": "5de4e5c5-43a5-4087-f488-8d19da206f8a",
    "colab": {
     "base_uri": "https://localhost:8080/",
     "height": 153
    },
    "ExecuteTime": {
     "end_time": "2025-05-26T12:56:52.331436Z",
     "start_time": "2025-05-26T12:56:52.309577Z"
    }
   },
   "source": [
    "pop_Seoul.head(1)"
   ],
   "outputs": [
    {
     "data": {
      "text/plain": [
       "    구별     인구수     한국인   외국인    고령자     외국인비율      고령자비율\n",
       "1  종로구  164257  154770  9487  26182  5.775705  15.939656"
      ],
      "text/html": [
       "<div>\n",
       "<style scoped>\n",
       "    .dataframe tbody tr th:only-of-type {\n",
       "        vertical-align: middle;\n",
       "    }\n",
       "\n",
       "    .dataframe tbody tr th {\n",
       "        vertical-align: top;\n",
       "    }\n",
       "\n",
       "    .dataframe thead th {\n",
       "        text-align: right;\n",
       "    }\n",
       "</style>\n",
       "<table border=\"1\" class=\"dataframe\">\n",
       "  <thead>\n",
       "    <tr style=\"text-align: right;\">\n",
       "      <th></th>\n",
       "      <th>구별</th>\n",
       "      <th>인구수</th>\n",
       "      <th>한국인</th>\n",
       "      <th>외국인</th>\n",
       "      <th>고령자</th>\n",
       "      <th>외국인비율</th>\n",
       "      <th>고령자비율</th>\n",
       "    </tr>\n",
       "  </thead>\n",
       "  <tbody>\n",
       "    <tr>\n",
       "      <th>1</th>\n",
       "      <td>종로구</td>\n",
       "      <td>164257</td>\n",
       "      <td>154770</td>\n",
       "      <td>9487</td>\n",
       "      <td>26182</td>\n",
       "      <td>5.775705</td>\n",
       "      <td>15.939656</td>\n",
       "    </tr>\n",
       "  </tbody>\n",
       "</table>\n",
       "</div>"
      ]
     },
     "execution_count": 221,
     "metadata": {},
     "output_type": "execute_result"
    }
   ],
   "execution_count": 221
  },
  {
   "cell_type": "code",
   "id": "c8905c7d",
   "metadata": {
    "id": "c8905c7d",
    "outputId": "bb2d6f07-1a10-4a2f-ed6b-197f6a2f4a5d",
    "colab": {
     "base_uri": "https://localhost:8080/",
     "height": 434
    },
    "ExecuteTime": {
     "end_time": "2025-05-26T12:56:53.094394Z",
     "start_time": "2025-05-26T12:56:53.045706Z"
    }
   },
   "source": [
    "data_result=pd.merge(CCTV_Seoul,pop_Seoul,on=\"구별\")\n",
    "data_result.head()"
   ],
   "outputs": [
    {
     "data": {
      "text/plain": [
       "    구별    소계  2013년도 이전  2014년  2015년  2016년       최근증가율     인구수     한국인  \\\n",
       "0  강남구  3238       1292    430    584    932  150.619195  561052  556164   \n",
       "1  강동구  1010        379     99    155    377  166.490765  440359  436223   \n",
       "2  강북구   831        369    120    138    204  125.203252  328002  324479   \n",
       "3  강서구   911        388    258    184     81  134.793814  608255  601691   \n",
       "4  관악구  2109        846    260    390    613  149.290780  520929  503297   \n",
       "\n",
       "     외국인    고령자     외국인비율      고령자비율  \n",
       "0   4888  65060  0.871220  11.596073  \n",
       "1   4136  56161  0.939234  12.753458  \n",
       "2   3523  56530  1.074079  17.234651  \n",
       "3   6564  76032  1.079153  12.500021  \n",
       "4  17632  70046  3.384722  13.446362  "
      ],
      "text/html": [
       "<div>\n",
       "<style scoped>\n",
       "    .dataframe tbody tr th:only-of-type {\n",
       "        vertical-align: middle;\n",
       "    }\n",
       "\n",
       "    .dataframe tbody tr th {\n",
       "        vertical-align: top;\n",
       "    }\n",
       "\n",
       "    .dataframe thead th {\n",
       "        text-align: right;\n",
       "    }\n",
       "</style>\n",
       "<table border=\"1\" class=\"dataframe\">\n",
       "  <thead>\n",
       "    <tr style=\"text-align: right;\">\n",
       "      <th></th>\n",
       "      <th>구별</th>\n",
       "      <th>소계</th>\n",
       "      <th>2013년도 이전</th>\n",
       "      <th>2014년</th>\n",
       "      <th>2015년</th>\n",
       "      <th>2016년</th>\n",
       "      <th>최근증가율</th>\n",
       "      <th>인구수</th>\n",
       "      <th>한국인</th>\n",
       "      <th>외국인</th>\n",
       "      <th>고령자</th>\n",
       "      <th>외국인비율</th>\n",
       "      <th>고령자비율</th>\n",
       "    </tr>\n",
       "  </thead>\n",
       "  <tbody>\n",
       "    <tr>\n",
       "      <th>0</th>\n",
       "      <td>강남구</td>\n",
       "      <td>3238</td>\n",
       "      <td>1292</td>\n",
       "      <td>430</td>\n",
       "      <td>584</td>\n",
       "      <td>932</td>\n",
       "      <td>150.619195</td>\n",
       "      <td>561052</td>\n",
       "      <td>556164</td>\n",
       "      <td>4888</td>\n",
       "      <td>65060</td>\n",
       "      <td>0.871220</td>\n",
       "      <td>11.596073</td>\n",
       "    </tr>\n",
       "    <tr>\n",
       "      <th>1</th>\n",
       "      <td>강동구</td>\n",
       "      <td>1010</td>\n",
       "      <td>379</td>\n",
       "      <td>99</td>\n",
       "      <td>155</td>\n",
       "      <td>377</td>\n",
       "      <td>166.490765</td>\n",
       "      <td>440359</td>\n",
       "      <td>436223</td>\n",
       "      <td>4136</td>\n",
       "      <td>56161</td>\n",
       "      <td>0.939234</td>\n",
       "      <td>12.753458</td>\n",
       "    </tr>\n",
       "    <tr>\n",
       "      <th>2</th>\n",
       "      <td>강북구</td>\n",
       "      <td>831</td>\n",
       "      <td>369</td>\n",
       "      <td>120</td>\n",
       "      <td>138</td>\n",
       "      <td>204</td>\n",
       "      <td>125.203252</td>\n",
       "      <td>328002</td>\n",
       "      <td>324479</td>\n",
       "      <td>3523</td>\n",
       "      <td>56530</td>\n",
       "      <td>1.074079</td>\n",
       "      <td>17.234651</td>\n",
       "    </tr>\n",
       "    <tr>\n",
       "      <th>3</th>\n",
       "      <td>강서구</td>\n",
       "      <td>911</td>\n",
       "      <td>388</td>\n",
       "      <td>258</td>\n",
       "      <td>184</td>\n",
       "      <td>81</td>\n",
       "      <td>134.793814</td>\n",
       "      <td>608255</td>\n",
       "      <td>601691</td>\n",
       "      <td>6564</td>\n",
       "      <td>76032</td>\n",
       "      <td>1.079153</td>\n",
       "      <td>12.500021</td>\n",
       "    </tr>\n",
       "    <tr>\n",
       "      <th>4</th>\n",
       "      <td>관악구</td>\n",
       "      <td>2109</td>\n",
       "      <td>846</td>\n",
       "      <td>260</td>\n",
       "      <td>390</td>\n",
       "      <td>613</td>\n",
       "      <td>149.290780</td>\n",
       "      <td>520929</td>\n",
       "      <td>503297</td>\n",
       "      <td>17632</td>\n",
       "      <td>70046</td>\n",
       "      <td>3.384722</td>\n",
       "      <td>13.446362</td>\n",
       "    </tr>\n",
       "  </tbody>\n",
       "</table>\n",
       "</div>"
      ]
     },
     "execution_count": 222,
     "metadata": {},
     "output_type": "execute_result"
    }
   ],
   "execution_count": 222
  },
  {
   "cell_type": "code",
   "id": "46894903",
   "metadata": {
    "id": "46894903",
    "ExecuteTime": {
     "end_time": "2025-05-26T12:56:53.703830Z",
     "start_time": "2025-05-26T12:56:53.690866Z"
    }
   },
   "source": [
    "#### 연도별 데이터 컬럼 삭제"
   ],
   "outputs": [],
   "execution_count": 223
  },
  {
   "cell_type": "code",
   "id": "84834cf1",
   "metadata": {
    "id": "84834cf1",
    "outputId": "fadb0e26-3f60-4150-b97a-ae8670bf641b",
    "colab": {
     "base_uri": "https://localhost:8080/",
     "height": 417
    },
    "ExecuteTime": {
     "end_time": "2025-05-26T12:56:54.143901Z",
     "start_time": "2025-05-26T12:56:54.119538Z"
    }
   },
   "source": [
    "del data_result[\"2013년도 이전\"]\n",
    "del data_result[\"2014년\"]\n",
    "data_result.drop([\"2015년\",\"2016년\"],axis=1,inplace=True)\n",
    "data_result.head()"
   ],
   "outputs": [
    {
     "data": {
      "text/plain": [
       "    구별    소계       최근증가율     인구수     한국인    외국인    고령자     외국인비율      고령자비율\n",
       "0  강남구  3238  150.619195  561052  556164   4888  65060  0.871220  11.596073\n",
       "1  강동구  1010  166.490765  440359  436223   4136  56161  0.939234  12.753458\n",
       "2  강북구   831  125.203252  328002  324479   3523  56530  1.074079  17.234651\n",
       "3  강서구   911  134.793814  608255  601691   6564  76032  1.079153  12.500021\n",
       "4  관악구  2109  149.290780  520929  503297  17632  70046  3.384722  13.446362"
      ],
      "text/html": [
       "<div>\n",
       "<style scoped>\n",
       "    .dataframe tbody tr th:only-of-type {\n",
       "        vertical-align: middle;\n",
       "    }\n",
       "\n",
       "    .dataframe tbody tr th {\n",
       "        vertical-align: top;\n",
       "    }\n",
       "\n",
       "    .dataframe thead th {\n",
       "        text-align: right;\n",
       "    }\n",
       "</style>\n",
       "<table border=\"1\" class=\"dataframe\">\n",
       "  <thead>\n",
       "    <tr style=\"text-align: right;\">\n",
       "      <th></th>\n",
       "      <th>구별</th>\n",
       "      <th>소계</th>\n",
       "      <th>최근증가율</th>\n",
       "      <th>인구수</th>\n",
       "      <th>한국인</th>\n",
       "      <th>외국인</th>\n",
       "      <th>고령자</th>\n",
       "      <th>외국인비율</th>\n",
       "      <th>고령자비율</th>\n",
       "    </tr>\n",
       "  </thead>\n",
       "  <tbody>\n",
       "    <tr>\n",
       "      <th>0</th>\n",
       "      <td>강남구</td>\n",
       "      <td>3238</td>\n",
       "      <td>150.619195</td>\n",
       "      <td>561052</td>\n",
       "      <td>556164</td>\n",
       "      <td>4888</td>\n",
       "      <td>65060</td>\n",
       "      <td>0.871220</td>\n",
       "      <td>11.596073</td>\n",
       "    </tr>\n",
       "    <tr>\n",
       "      <th>1</th>\n",
       "      <td>강동구</td>\n",
       "      <td>1010</td>\n",
       "      <td>166.490765</td>\n",
       "      <td>440359</td>\n",
       "      <td>436223</td>\n",
       "      <td>4136</td>\n",
       "      <td>56161</td>\n",
       "      <td>0.939234</td>\n",
       "      <td>12.753458</td>\n",
       "    </tr>\n",
       "    <tr>\n",
       "      <th>2</th>\n",
       "      <td>강북구</td>\n",
       "      <td>831</td>\n",
       "      <td>125.203252</td>\n",
       "      <td>328002</td>\n",
       "      <td>324479</td>\n",
       "      <td>3523</td>\n",
       "      <td>56530</td>\n",
       "      <td>1.074079</td>\n",
       "      <td>17.234651</td>\n",
       "    </tr>\n",
       "    <tr>\n",
       "      <th>3</th>\n",
       "      <td>강서구</td>\n",
       "      <td>911</td>\n",
       "      <td>134.793814</td>\n",
       "      <td>608255</td>\n",
       "      <td>601691</td>\n",
       "      <td>6564</td>\n",
       "      <td>76032</td>\n",
       "      <td>1.079153</td>\n",
       "      <td>12.500021</td>\n",
       "    </tr>\n",
       "    <tr>\n",
       "      <th>4</th>\n",
       "      <td>관악구</td>\n",
       "      <td>2109</td>\n",
       "      <td>149.290780</td>\n",
       "      <td>520929</td>\n",
       "      <td>503297</td>\n",
       "      <td>17632</td>\n",
       "      <td>70046</td>\n",
       "      <td>3.384722</td>\n",
       "      <td>13.446362</td>\n",
       "    </tr>\n",
       "  </tbody>\n",
       "</table>\n",
       "</div>"
      ]
     },
     "execution_count": 224,
     "metadata": {},
     "output_type": "execute_result"
    }
   ],
   "execution_count": 224
  },
  {
   "cell_type": "markdown",
   "id": "bf50e0aa",
   "metadata": {
    "id": "bf50e0aa"
   },
   "source": [
    "#### 인덱스 변경\n",
    "- set .index()\n",
    "- 선택한 컬럼을 데이터 프레임의 인덱스로 변경"
   ]
  },
  {
   "cell_type": "code",
   "id": "bf84e439",
   "metadata": {
    "id": "bf84e439",
    "outputId": "a4c292a6-b1bb-4237-d816-9d08b9408847",
    "colab": {
     "base_uri": "https://localhost:8080/",
     "height": 466
    },
    "ExecuteTime": {
     "end_time": "2025-05-26T12:56:54.516593Z",
     "start_time": "2025-05-26T12:56:54.493280Z"
    }
   },
   "source": [
    "data_result.set_index(\"구별\",inplace=True)\n",
    "data_result.head()"
   ],
   "outputs": [
    {
     "data": {
      "text/plain": [
       "       소계       최근증가율     인구수     한국인    외국인    고령자     외국인비율      고령자비율\n",
       "구별                                                                      \n",
       "강남구  3238  150.619195  561052  556164   4888  65060  0.871220  11.596073\n",
       "강동구  1010  166.490765  440359  436223   4136  56161  0.939234  12.753458\n",
       "강북구   831  125.203252  328002  324479   3523  56530  1.074079  17.234651\n",
       "강서구   911  134.793814  608255  601691   6564  76032  1.079153  12.500021\n",
       "관악구  2109  149.290780  520929  503297  17632  70046  3.384722  13.446362"
      ],
      "text/html": [
       "<div>\n",
       "<style scoped>\n",
       "    .dataframe tbody tr th:only-of-type {\n",
       "        vertical-align: middle;\n",
       "    }\n",
       "\n",
       "    .dataframe tbody tr th {\n",
       "        vertical-align: top;\n",
       "    }\n",
       "\n",
       "    .dataframe thead th {\n",
       "        text-align: right;\n",
       "    }\n",
       "</style>\n",
       "<table border=\"1\" class=\"dataframe\">\n",
       "  <thead>\n",
       "    <tr style=\"text-align: right;\">\n",
       "      <th></th>\n",
       "      <th>소계</th>\n",
       "      <th>최근증가율</th>\n",
       "      <th>인구수</th>\n",
       "      <th>한국인</th>\n",
       "      <th>외국인</th>\n",
       "      <th>고령자</th>\n",
       "      <th>외국인비율</th>\n",
       "      <th>고령자비율</th>\n",
       "    </tr>\n",
       "    <tr>\n",
       "      <th>구별</th>\n",
       "      <th></th>\n",
       "      <th></th>\n",
       "      <th></th>\n",
       "      <th></th>\n",
       "      <th></th>\n",
       "      <th></th>\n",
       "      <th></th>\n",
       "      <th></th>\n",
       "    </tr>\n",
       "  </thead>\n",
       "  <tbody>\n",
       "    <tr>\n",
       "      <th>강남구</th>\n",
       "      <td>3238</td>\n",
       "      <td>150.619195</td>\n",
       "      <td>561052</td>\n",
       "      <td>556164</td>\n",
       "      <td>4888</td>\n",
       "      <td>65060</td>\n",
       "      <td>0.871220</td>\n",
       "      <td>11.596073</td>\n",
       "    </tr>\n",
       "    <tr>\n",
       "      <th>강동구</th>\n",
       "      <td>1010</td>\n",
       "      <td>166.490765</td>\n",
       "      <td>440359</td>\n",
       "      <td>436223</td>\n",
       "      <td>4136</td>\n",
       "      <td>56161</td>\n",
       "      <td>0.939234</td>\n",
       "      <td>12.753458</td>\n",
       "    </tr>\n",
       "    <tr>\n",
       "      <th>강북구</th>\n",
       "      <td>831</td>\n",
       "      <td>125.203252</td>\n",
       "      <td>328002</td>\n",
       "      <td>324479</td>\n",
       "      <td>3523</td>\n",
       "      <td>56530</td>\n",
       "      <td>1.074079</td>\n",
       "      <td>17.234651</td>\n",
       "    </tr>\n",
       "    <tr>\n",
       "      <th>강서구</th>\n",
       "      <td>911</td>\n",
       "      <td>134.793814</td>\n",
       "      <td>608255</td>\n",
       "      <td>601691</td>\n",
       "      <td>6564</td>\n",
       "      <td>76032</td>\n",
       "      <td>1.079153</td>\n",
       "      <td>12.500021</td>\n",
       "    </tr>\n",
       "    <tr>\n",
       "      <th>관악구</th>\n",
       "      <td>2109</td>\n",
       "      <td>149.290780</td>\n",
       "      <td>520929</td>\n",
       "      <td>503297</td>\n",
       "      <td>17632</td>\n",
       "      <td>70046</td>\n",
       "      <td>3.384722</td>\n",
       "      <td>13.446362</td>\n",
       "    </tr>\n",
       "  </tbody>\n",
       "</table>\n",
       "</div>"
      ]
     },
     "execution_count": 225,
     "metadata": {},
     "output_type": "execute_result"
    }
   ],
   "execution_count": 225
  },
  {
   "cell_type": "markdown",
   "id": "15e851c6",
   "metadata": {
    "id": "15e851c6"
   },
   "source": [
    "#### 상관관계 계수 파악\n",
    "- corr()\n",
    "- 상관관계가 0.2이상인 데이터를 비교\n",
    "- 숫자여야 비교 가능"
   ]
  },
  {
   "cell_type": "code",
   "id": "10f2329e",
   "metadata": {
    "id": "10f2329e",
    "outputId": "8f2ad77d-2011-41da-a374-fbe292320f5e",
    "colab": {
     "base_uri": "https://localhost:8080/",
     "height": 684
    },
    "ExecuteTime": {
     "end_time": "2025-05-26T12:56:55.142116Z",
     "start_time": "2025-05-26T12:56:55.110446Z"
    }
   },
   "source": [
    "data_result.corr()"
   ],
   "outputs": [
    {
     "data": {
      "text/plain": [
       "             소계     최근증가율       인구수       한국인       외국인       고령자     외국인비율  \\\n",
       "소계     1.000000 -0.264378  0.232555  0.227852  0.030421  0.163905 -0.045956   \n",
       "최근증가율 -0.264378  1.000000 -0.097165 -0.086341 -0.156421 -0.072251 -0.047102   \n",
       "인구수    0.232555 -0.097165  1.000000  0.998151 -0.167243  0.936737 -0.601076   \n",
       "한국인    0.227852 -0.086341  0.998151  1.000000 -0.226853  0.936155 -0.645463   \n",
       "외국인    0.030421 -0.156421 -0.167243 -0.226853  1.000000 -0.175318  0.838612   \n",
       "고령자    0.163905 -0.072251  0.936737  0.936155 -0.175318  1.000000 -0.620300   \n",
       "외국인비율 -0.045956 -0.047102 -0.601076 -0.645463  0.838612 -0.620300  1.000000   \n",
       "고령자비율 -0.267841  0.190396 -0.637414 -0.628360 -0.021147 -0.348840  0.242816   \n",
       "\n",
       "          고령자비율  \n",
       "소계    -0.267841  \n",
       "최근증가율  0.190396  \n",
       "인구수   -0.637414  \n",
       "한국인   -0.628360  \n",
       "외국인   -0.021147  \n",
       "고령자   -0.348840  \n",
       "외국인비율  0.242816  \n",
       "고령자비율  1.000000  "
      ],
      "text/html": [
       "<div>\n",
       "<style scoped>\n",
       "    .dataframe tbody tr th:only-of-type {\n",
       "        vertical-align: middle;\n",
       "    }\n",
       "\n",
       "    .dataframe tbody tr th {\n",
       "        vertical-align: top;\n",
       "    }\n",
       "\n",
       "    .dataframe thead th {\n",
       "        text-align: right;\n",
       "    }\n",
       "</style>\n",
       "<table border=\"1\" class=\"dataframe\">\n",
       "  <thead>\n",
       "    <tr style=\"text-align: right;\">\n",
       "      <th></th>\n",
       "      <th>소계</th>\n",
       "      <th>최근증가율</th>\n",
       "      <th>인구수</th>\n",
       "      <th>한국인</th>\n",
       "      <th>외국인</th>\n",
       "      <th>고령자</th>\n",
       "      <th>외국인비율</th>\n",
       "      <th>고령자비율</th>\n",
       "    </tr>\n",
       "  </thead>\n",
       "  <tbody>\n",
       "    <tr>\n",
       "      <th>소계</th>\n",
       "      <td>1.000000</td>\n",
       "      <td>-0.264378</td>\n",
       "      <td>0.232555</td>\n",
       "      <td>0.227852</td>\n",
       "      <td>0.030421</td>\n",
       "      <td>0.163905</td>\n",
       "      <td>-0.045956</td>\n",
       "      <td>-0.267841</td>\n",
       "    </tr>\n",
       "    <tr>\n",
       "      <th>최근증가율</th>\n",
       "      <td>-0.264378</td>\n",
       "      <td>1.000000</td>\n",
       "      <td>-0.097165</td>\n",
       "      <td>-0.086341</td>\n",
       "      <td>-0.156421</td>\n",
       "      <td>-0.072251</td>\n",
       "      <td>-0.047102</td>\n",
       "      <td>0.190396</td>\n",
       "    </tr>\n",
       "    <tr>\n",
       "      <th>인구수</th>\n",
       "      <td>0.232555</td>\n",
       "      <td>-0.097165</td>\n",
       "      <td>1.000000</td>\n",
       "      <td>0.998151</td>\n",
       "      <td>-0.167243</td>\n",
       "      <td>0.936737</td>\n",
       "      <td>-0.601076</td>\n",
       "      <td>-0.637414</td>\n",
       "    </tr>\n",
       "    <tr>\n",
       "      <th>한국인</th>\n",
       "      <td>0.227852</td>\n",
       "      <td>-0.086341</td>\n",
       "      <td>0.998151</td>\n",
       "      <td>1.000000</td>\n",
       "      <td>-0.226853</td>\n",
       "      <td>0.936155</td>\n",
       "      <td>-0.645463</td>\n",
       "      <td>-0.628360</td>\n",
       "    </tr>\n",
       "    <tr>\n",
       "      <th>외국인</th>\n",
       "      <td>0.030421</td>\n",
       "      <td>-0.156421</td>\n",
       "      <td>-0.167243</td>\n",
       "      <td>-0.226853</td>\n",
       "      <td>1.000000</td>\n",
       "      <td>-0.175318</td>\n",
       "      <td>0.838612</td>\n",
       "      <td>-0.021147</td>\n",
       "    </tr>\n",
       "    <tr>\n",
       "      <th>고령자</th>\n",
       "      <td>0.163905</td>\n",
       "      <td>-0.072251</td>\n",
       "      <td>0.936737</td>\n",
       "      <td>0.936155</td>\n",
       "      <td>-0.175318</td>\n",
       "      <td>1.000000</td>\n",
       "      <td>-0.620300</td>\n",
       "      <td>-0.348840</td>\n",
       "    </tr>\n",
       "    <tr>\n",
       "      <th>외국인비율</th>\n",
       "      <td>-0.045956</td>\n",
       "      <td>-0.047102</td>\n",
       "      <td>-0.601076</td>\n",
       "      <td>-0.645463</td>\n",
       "      <td>0.838612</td>\n",
       "      <td>-0.620300</td>\n",
       "      <td>1.000000</td>\n",
       "      <td>0.242816</td>\n",
       "    </tr>\n",
       "    <tr>\n",
       "      <th>고령자비율</th>\n",
       "      <td>-0.267841</td>\n",
       "      <td>0.190396</td>\n",
       "      <td>-0.637414</td>\n",
       "      <td>-0.628360</td>\n",
       "      <td>-0.021147</td>\n",
       "      <td>-0.348840</td>\n",
       "      <td>0.242816</td>\n",
       "      <td>1.000000</td>\n",
       "    </tr>\n",
       "  </tbody>\n",
       "</table>\n",
       "</div>"
      ]
     },
     "execution_count": 226,
     "metadata": {},
     "output_type": "execute_result"
    }
   ],
   "execution_count": 226
  },
  {
   "cell_type": "code",
   "id": "fad7a6b4",
   "metadata": {
    "id": "fad7a6b4",
    "outputId": "4ed3dc5a-8acc-4368-d007-72507e8b35a2",
    "colab": {
     "base_uri": "https://localhost:8080/"
    },
    "ExecuteTime": {
     "end_time": "2025-05-26T12:56:55.952075Z",
     "start_time": "2025-05-26T12:56:55.916326Z"
    }
   },
   "source": [
    "data_result.info()"
   ],
   "outputs": [
    {
     "name": "stdout",
     "output_type": "stream",
     "text": [
      "<class 'pandas.core.frame.DataFrame'>\n",
      "Index: 25 entries, 강남구 to 중랑구\n",
      "Data columns (total 8 columns):\n",
      " #   Column  Non-Null Count  Dtype  \n",
      "---  ------  --------------  -----  \n",
      " 0   소계      25 non-null     int64  \n",
      " 1   최근증가율   25 non-null     float64\n",
      " 2   인구수     25 non-null     int64  \n",
      " 3   한국인     25 non-null     int64  \n",
      " 4   외국인     25 non-null     int64  \n",
      " 5   고령자     25 non-null     int64  \n",
      " 6   외국인비율   25 non-null     float64\n",
      " 7   고령자비율   25 non-null     float64\n",
      "dtypes: float64(3), int64(5)\n",
      "memory usage: 1.8+ KB\n"
     ]
    }
   ],
   "execution_count": 227
  },
  {
   "cell_type": "markdown",
   "id": "d32c946c",
   "metadata": {
    "id": "d32c946c"
   },
   "source": [
    "- CCTV 비율이 어느정도인지 확인"
   ]
  },
  {
   "cell_type": "code",
   "id": "a1af9332",
   "metadata": {
    "id": "a1af9332",
    "outputId": "37d88fc6-bfac-4d1f-8c1f-63b88ad530b6",
    "colab": {
     "base_uri": "https://localhost:8080/",
     "height": 466
    },
    "ExecuteTime": {
     "end_time": "2025-05-26T12:56:56.947038Z",
     "start_time": "2025-05-26T12:56:56.912446Z"
    }
   },
   "source": [
    "data_result[\"CCTV비율\"]=data_result[\"소계\"]/data_result[\"인구수\"]*100\n",
    "data_result.head()"
   ],
   "outputs": [
    {
     "data": {
      "text/plain": [
       "       소계       최근증가율     인구수     한국인    외국인    고령자     외국인비율      고령자비율  \\\n",
       "구별                                                                         \n",
       "강남구  3238  150.619195  561052  556164   4888  65060  0.871220  11.596073   \n",
       "강동구  1010  166.490765  440359  436223   4136  56161  0.939234  12.753458   \n",
       "강북구   831  125.203252  328002  324479   3523  56530  1.074079  17.234651   \n",
       "강서구   911  134.793814  608255  601691   6564  76032  1.079153  12.500021   \n",
       "관악구  2109  149.290780  520929  503297  17632  70046  3.384722  13.446362   \n",
       "\n",
       "       CCTV비율  \n",
       "구별             \n",
       "강남구  0.577130  \n",
       "강동구  0.229358  \n",
       "강북구  0.253352  \n",
       "강서구  0.149773  \n",
       "관악구  0.404854  "
      ],
      "text/html": [
       "<div>\n",
       "<style scoped>\n",
       "    .dataframe tbody tr th:only-of-type {\n",
       "        vertical-align: middle;\n",
       "    }\n",
       "\n",
       "    .dataframe tbody tr th {\n",
       "        vertical-align: top;\n",
       "    }\n",
       "\n",
       "    .dataframe thead th {\n",
       "        text-align: right;\n",
       "    }\n",
       "</style>\n",
       "<table border=\"1\" class=\"dataframe\">\n",
       "  <thead>\n",
       "    <tr style=\"text-align: right;\">\n",
       "      <th></th>\n",
       "      <th>소계</th>\n",
       "      <th>최근증가율</th>\n",
       "      <th>인구수</th>\n",
       "      <th>한국인</th>\n",
       "      <th>외국인</th>\n",
       "      <th>고령자</th>\n",
       "      <th>외국인비율</th>\n",
       "      <th>고령자비율</th>\n",
       "      <th>CCTV비율</th>\n",
       "    </tr>\n",
       "    <tr>\n",
       "      <th>구별</th>\n",
       "      <th></th>\n",
       "      <th></th>\n",
       "      <th></th>\n",
       "      <th></th>\n",
       "      <th></th>\n",
       "      <th></th>\n",
       "      <th></th>\n",
       "      <th></th>\n",
       "      <th></th>\n",
       "    </tr>\n",
       "  </thead>\n",
       "  <tbody>\n",
       "    <tr>\n",
       "      <th>강남구</th>\n",
       "      <td>3238</td>\n",
       "      <td>150.619195</td>\n",
       "      <td>561052</td>\n",
       "      <td>556164</td>\n",
       "      <td>4888</td>\n",
       "      <td>65060</td>\n",
       "      <td>0.871220</td>\n",
       "      <td>11.596073</td>\n",
       "      <td>0.577130</td>\n",
       "    </tr>\n",
       "    <tr>\n",
       "      <th>강동구</th>\n",
       "      <td>1010</td>\n",
       "      <td>166.490765</td>\n",
       "      <td>440359</td>\n",
       "      <td>436223</td>\n",
       "      <td>4136</td>\n",
       "      <td>56161</td>\n",
       "      <td>0.939234</td>\n",
       "      <td>12.753458</td>\n",
       "      <td>0.229358</td>\n",
       "    </tr>\n",
       "    <tr>\n",
       "      <th>강북구</th>\n",
       "      <td>831</td>\n",
       "      <td>125.203252</td>\n",
       "      <td>328002</td>\n",
       "      <td>324479</td>\n",
       "      <td>3523</td>\n",
       "      <td>56530</td>\n",
       "      <td>1.074079</td>\n",
       "      <td>17.234651</td>\n",
       "      <td>0.253352</td>\n",
       "    </tr>\n",
       "    <tr>\n",
       "      <th>강서구</th>\n",
       "      <td>911</td>\n",
       "      <td>134.793814</td>\n",
       "      <td>608255</td>\n",
       "      <td>601691</td>\n",
       "      <td>6564</td>\n",
       "      <td>76032</td>\n",
       "      <td>1.079153</td>\n",
       "      <td>12.500021</td>\n",
       "      <td>0.149773</td>\n",
       "    </tr>\n",
       "    <tr>\n",
       "      <th>관악구</th>\n",
       "      <td>2109</td>\n",
       "      <td>149.290780</td>\n",
       "      <td>520929</td>\n",
       "      <td>503297</td>\n",
       "      <td>17632</td>\n",
       "      <td>70046</td>\n",
       "      <td>3.384722</td>\n",
       "      <td>13.446362</td>\n",
       "      <td>0.404854</td>\n",
       "    </tr>\n",
       "  </tbody>\n",
       "</table>\n",
       "</div>"
      ]
     },
     "execution_count": 228,
     "metadata": {},
     "output_type": "execute_result"
    }
   ],
   "execution_count": 228
  },
  {
   "cell_type": "markdown",
   "id": "1325ec12",
   "metadata": {
    "id": "1325ec12"
   },
   "source": [
    "- CCTV 비율이 높은 5개 구 보기"
   ]
  },
  {
   "cell_type": "code",
   "id": "3d00c634",
   "metadata": {
    "id": "3d00c634",
    "outputId": "fa10b197-0a08-4674-ef28-fcdbe623b6ff",
    "colab": {
     "base_uri": "https://localhost:8080/",
     "height": 448
    },
    "ExecuteTime": {
     "end_time": "2025-05-26T12:56:57.370603Z",
     "start_time": "2025-05-26T12:56:57.342554Z"
    }
   },
   "source": [
    "data_result.sort_values(by=\"CCTV비율\",ascending=False).head()"
   ],
   "outputs": [
    {
     "data": {
      "text/plain": [
       "       소계       최근증가율     인구수     한국인    외국인    고령자     외국인비율      고령자비율  \\\n",
       "구별                                                                         \n",
       "종로구  1619  248.922414  164257  154770   9487  26182  5.775705  15.939656   \n",
       "용산구  2096   53.216374  244444  229161  15283  36882  6.252148  15.088118   \n",
       "중구   1023  147.699758  134593  125709   8884  21384  6.600640  15.887899   \n",
       "강남구  3238  150.619195  561052  556164   4888  65060  0.871220  11.596073   \n",
       "금천구  1348  100.000000  253491  235154  18337  34170  7.233787  13.479769   \n",
       "\n",
       "       CCTV비율  \n",
       "구별             \n",
       "종로구  0.985651  \n",
       "용산구  0.857456  \n",
       "중구   0.760069  \n",
       "강남구  0.577130  \n",
       "금천구  0.531774  "
      ],
      "text/html": [
       "<div>\n",
       "<style scoped>\n",
       "    .dataframe tbody tr th:only-of-type {\n",
       "        vertical-align: middle;\n",
       "    }\n",
       "\n",
       "    .dataframe tbody tr th {\n",
       "        vertical-align: top;\n",
       "    }\n",
       "\n",
       "    .dataframe thead th {\n",
       "        text-align: right;\n",
       "    }\n",
       "</style>\n",
       "<table border=\"1\" class=\"dataframe\">\n",
       "  <thead>\n",
       "    <tr style=\"text-align: right;\">\n",
       "      <th></th>\n",
       "      <th>소계</th>\n",
       "      <th>최근증가율</th>\n",
       "      <th>인구수</th>\n",
       "      <th>한국인</th>\n",
       "      <th>외국인</th>\n",
       "      <th>고령자</th>\n",
       "      <th>외국인비율</th>\n",
       "      <th>고령자비율</th>\n",
       "      <th>CCTV비율</th>\n",
       "    </tr>\n",
       "    <tr>\n",
       "      <th>구별</th>\n",
       "      <th></th>\n",
       "      <th></th>\n",
       "      <th></th>\n",
       "      <th></th>\n",
       "      <th></th>\n",
       "      <th></th>\n",
       "      <th></th>\n",
       "      <th></th>\n",
       "      <th></th>\n",
       "    </tr>\n",
       "  </thead>\n",
       "  <tbody>\n",
       "    <tr>\n",
       "      <th>종로구</th>\n",
       "      <td>1619</td>\n",
       "      <td>248.922414</td>\n",
       "      <td>164257</td>\n",
       "      <td>154770</td>\n",
       "      <td>9487</td>\n",
       "      <td>26182</td>\n",
       "      <td>5.775705</td>\n",
       "      <td>15.939656</td>\n",
       "      <td>0.985651</td>\n",
       "    </tr>\n",
       "    <tr>\n",
       "      <th>용산구</th>\n",
       "      <td>2096</td>\n",
       "      <td>53.216374</td>\n",
       "      <td>244444</td>\n",
       "      <td>229161</td>\n",
       "      <td>15283</td>\n",
       "      <td>36882</td>\n",
       "      <td>6.252148</td>\n",
       "      <td>15.088118</td>\n",
       "      <td>0.857456</td>\n",
       "    </tr>\n",
       "    <tr>\n",
       "      <th>중구</th>\n",
       "      <td>1023</td>\n",
       "      <td>147.699758</td>\n",
       "      <td>134593</td>\n",
       "      <td>125709</td>\n",
       "      <td>8884</td>\n",
       "      <td>21384</td>\n",
       "      <td>6.600640</td>\n",
       "      <td>15.887899</td>\n",
       "      <td>0.760069</td>\n",
       "    </tr>\n",
       "    <tr>\n",
       "      <th>강남구</th>\n",
       "      <td>3238</td>\n",
       "      <td>150.619195</td>\n",
       "      <td>561052</td>\n",
       "      <td>556164</td>\n",
       "      <td>4888</td>\n",
       "      <td>65060</td>\n",
       "      <td>0.871220</td>\n",
       "      <td>11.596073</td>\n",
       "      <td>0.577130</td>\n",
       "    </tr>\n",
       "    <tr>\n",
       "      <th>금천구</th>\n",
       "      <td>1348</td>\n",
       "      <td>100.000000</td>\n",
       "      <td>253491</td>\n",
       "      <td>235154</td>\n",
       "      <td>18337</td>\n",
       "      <td>34170</td>\n",
       "      <td>7.233787</td>\n",
       "      <td>13.479769</td>\n",
       "      <td>0.531774</td>\n",
       "    </tr>\n",
       "  </tbody>\n",
       "</table>\n",
       "</div>"
      ]
     },
     "execution_count": 229,
     "metadata": {},
     "output_type": "execute_result"
    }
   ],
   "execution_count": 229
  },
  {
   "cell_type": "markdown",
   "id": "4e10d538",
   "metadata": {
    "id": "4e10d538"
   },
   "source": [
    "----"
   ]
  },
  {
   "cell_type": "markdown",
   "id": "28822d80",
   "metadata": {
    "id": "28822d80"
   },
   "source": [
    "# matplotlib 기초"
   ]
  },
  {
   "cell_type": "markdown",
   "id": "cf5ce59f",
   "metadata": {
    "id": "cf5ce59f"
   },
   "source": [
    "## 한국어 설정"
   ]
  },
  {
   "cell_type": "code",
   "source": [
    "#!apt-get install fonts-nanum*\n",
    "#!rm -rf ~/.cache/matplotlib/*"
   ],
   "metadata": {
    "id": "fzk66ZXT-mbf",
    "ExecuteTime": {
     "end_time": "2025-05-26T12:56:57.852862Z",
     "start_time": "2025-05-26T12:56:57.833956Z"
    }
   },
   "id": "fzk66ZXT-mbf",
   "outputs": [],
   "execution_count": 230
  },
  {
   "cell_type": "code",
   "id": "88b399ea",
   "metadata": {
    "id": "88b399ea",
    "ExecuteTime": {
     "end_time": "2025-05-26T12:56:58.443245Z",
     "start_time": "2025-05-26T12:56:58.433013Z"
    }
   },
   "source": [
    "import matplotlib.pyplot as plt\n",
    "from  matplotlib import rc\n",
    "\n",
    "path=\"/usr/share/fonts/truetype/nanum/NanumGothic.ttf\"\n",
    "\n",
    "if \"Dongmin\" in hostname:\n",
    "    rc(\"font\",family=\"Malgun Gothic\")\n",
    "else:\n",
    "    rc(\"font\", family='NanumBarunGothic')\n",
    "%matplotlib inline\n",
    "#get_ipython().run_line_magic(\"matplolib\",\"inline\")"
   ],
   "outputs": [],
   "execution_count": 231
  },
  {
   "cell_type": "markdown",
   "id": "c41fc826",
   "metadata": {
    "id": "c41fc826"
   },
   "source": [
    "## 그래프 선언\n",
    "- 그래프 선언 : plt.plot(x데이터,y데이터)\n",
    "- 그래프 사이즈 : plt.figure(figsize=x축,y축)\n",
    "- 그래프 보기 : plt.show()"
   ]
  },
  {
   "cell_type": "markdown",
   "id": "8dcee8dc",
   "metadata": {
    "id": "8dcee8dc"
   },
   "source": [
    "### matplotlib 그래프의 기본 형태\n",
    "````\n",
    "plt.figure(figsize=(10,6))\n",
    "plt.plot(x,y)\n",
    "plt.show()\n",
    "````"
   ]
  },
  {
   "cell_type": "code",
   "id": "ee0c6d4c",
   "metadata": {
    "id": "ee0c6d4c",
    "outputId": "fe568000-f44b-4d35-fb16-c7ef39f716c8",
    "colab": {
     "base_uri": "https://localhost:8080/",
     "height": 273
    },
    "ExecuteTime": {
     "end_time": "2025-05-26T12:56:59.037159Z",
     "start_time": "2025-05-26T12:56:58.671113Z"
    }
   },
   "source": [
    "plt.figure(figsize=(10,6))\n",
    "plt.plot([0,1,2,3,4,5,6,7,8,9],[1,1,2,3,4,2,3,5,-1,-3])\n",
    "plt.show()"
   ],
   "outputs": [
    {
     "data": {
      "text/plain": [
       "<Figure size 1000x600 with 1 Axes>"
      ],
      "image/png": "[encoded data removed]"
     },
     "metadata": {},
     "output_type": "display_data"
    }
   ],
   "execution_count": 232
  },
  {
   "cell_type": "markdown",
   "id": "b4f90af4",
   "metadata": {
    "id": "b4f90af4"
   },
   "source": [
    "### 그래프 커스터마이징"
   ]
  },
  {
   "cell_type": "markdown",
   "id": "dac8573f",
   "metadata": {
    "id": "dac8573f"
   },
   "source": [
    "#### Numpy를 이용한 삼각함수 그리기\n",
    "- np.arange(a,b,s) : a부터 b까지의 s의 간격\n",
    "- np.sin(value)"
   ]
  },
  {
   "cell_type": "code",
   "id": "0d6361e7",
   "metadata": {
    "id": "0d6361e7",
    "ExecuteTime": {
     "end_time": "2025-05-26T12:56:59.567511Z",
     "start_time": "2025-05-26T12:56:59.559584Z"
    }
   },
   "source": [
    "import numpy as np\n",
    "t=np.arange(0,12,0.01)\n",
    "y = np.sin(t)"
   ],
   "outputs": [],
   "execution_count": 233
  },
  {
   "cell_type": "code",
   "id": "cedf8ffa",
   "metadata": {
    "id": "cedf8ffa",
    "outputId": "99a60c78-a3d8-4f7e-e29a-acd8eb232a02",
    "colab": {
     "base_uri": "https://localhost:8080/",
     "height": 213
    },
    "ExecuteTime": {
     "end_time": "2025-05-26T12:57:00.241152Z",
     "start_time": "2025-05-26T12:56:59.931Z"
    }
   },
   "source": [
    "plt.figure(figsize=(10,6))\n",
    "plt.plot(t,np.sin(t))\n",
    "plt.plot(t,np.cos(t))\n",
    "plt.show()"
   ],
   "outputs": [
    {
     "data": {
      "text/plain": [
       "<Figure size 1000x600 with 1 Axes>"
      ],
      "image/png": "[encoded data removed]"
     },
     "metadata": {},
     "output_type": "display_data"
    }
   ],
   "execution_count": 234
  },
  {
   "cell_type": "markdown",
   "id": "2ad244b8",
   "metadata": {
    "id": "2ad244b8"
   },
   "source": [
    "1. 격자 무늬 추가\n",
    "2. 그래프 제목\n",
    "3. x축 y 축 제목추가\n",
    "4. 범례 추가"
   ]
  },
  {
   "cell_type": "code",
   "id": "7c5c3b4a",
   "metadata": {
    "id": "7c5c3b4a",
    "outputId": "0dc499cc-3867-4a27-e4b4-5cdaffc2de4c",
    "colab": {
     "base_uri": "https://localhost:8080/",
     "height": 224
    },
    "ExecuteTime": {
     "end_time": "2025-05-26T12:57:01.235957Z",
     "start_time": "2025-05-26T12:57:00.556546Z"
    }
   },
   "source": [
    "plt.figure(figsize=(10,6))\n",
    "plt.plot(t,np.sin(t), label=\"sin\")\n",
    "plt.plot(t,np.cos(t), label=\"cos\")\n",
    "\n",
    "plt.grid(True)\n",
    "plt.title(\"Example of sinewave\")\n",
    "plt.xlabel(\"time\")\n",
    "plt.ylabel(\"Amlitute\")\n",
    "#plt.legend(labels=[\"sin\",\"cos\"])\n",
    "#plt.legend(loc=\"upper right\")\n",
    "plt.legend(loc=2)\n",
    "plt.show()"
   ],
   "outputs": [
    {
     "data": {
      "text/plain": [
       "<Figure size 1000x600 with 1 Axes>"
      ],
      "image/png": "[encoded data removed]"
     },
     "metadata": {},
     "output_type": "display_data"
    }
   ],
   "execution_count": 235
  },
  {
   "cell_type": "code",
   "id": "ae4abec8",
   "metadata": {
    "id": "ae4abec8",
    "ExecuteTime": {
     "end_time": "2025-05-26T12:57:01.453971Z",
     "start_time": "2025-05-26T12:57:01.428362Z"
    }
   },
   "source": [
    "def drawGraph():\n",
    "    plt.figure(figsize=(10,6))\n",
    "    plt.plot(t,np.sin(t), label=\"sin\")\n",
    "    plt.plot(t,np.cos(t), label=\"cos\")\n",
    "\n",
    "    plt.grid(True)\n",
    "    plt.title(\"Example of sinewave\")\n",
    "    plt.xlabel(\"time\")\n",
    "    plt.ylabel(\"Amlitute\")\n",
    "    #plt.legend(labels=[\"sin\",\"cos\"])\n",
    "    #plt.legend(loc=\"upper right\")\n",
    "    plt.legend(loc=2)\n",
    "    plt.show()"
   ],
   "outputs": [],
   "execution_count": 236
  },
  {
   "cell_type": "markdown",
   "id": "38e34d6a",
   "metadata": {
    "id": "38e34d6a"
   },
   "source": [
    "### 그래프 모양 커스텀\n",
    "- `--` : 점표 표시"
   ]
  },
  {
   "cell_type": "code",
   "id": "4d66baea",
   "metadata": {
    "id": "4d66baea",
    "outputId": "e69743c3-75d6-4634-c001-f2fd8096b56a",
    "colab": {
     "base_uri": "https://localhost:8080/"
    },
    "ExecuteTime": {
     "end_time": "2025-05-26T12:57:01.560664Z",
     "start_time": "2025-05-26T12:57:01.535825Z"
    }
   },
   "source": [
    "t=np.arange(0,5,0.5)\n",
    "t"
   ],
   "outputs": [
    {
     "data": {
      "text/plain": [
       "array([0. , 0.5, 1. , 1.5, 2. , 2.5, 3. , 3.5, 4. , 4.5])"
      ]
     },
     "execution_count": 237,
     "metadata": {},
     "output_type": "execute_result"
    }
   ],
   "execution_count": 237
  },
  {
   "cell_type": "code",
   "id": "1b772d7f",
   "metadata": {
    "id": "1b772d7f",
    "outputId": "4a615a84-5657-404a-93b0-d4dd822930b6",
    "colab": {
     "base_uri": "https://localhost:8080/",
     "height": 217
    },
    "ExecuteTime": {
     "end_time": "2025-05-26T12:57:02.030065Z",
     "start_time": "2025-05-26T12:57:01.756518Z"
    }
   },
   "source": [
    "plt.figure(figsize=(10,6))\n",
    "plt.plot(t,t,\"r--\")\n",
    "plt.plot(t,t **2, \"bs\")\n",
    "plt.plot(t, t **3, \"g\")\n",
    "plt.show()"
   ],
   "outputs": [
    {
     "data": {
      "text/plain": [
       "<Figure size 1000x600 with 1 Axes>"
      ],
      "image/png": "[encoded data removed]"
     },
     "metadata": {},
     "output_type": "display_data"
    }
   ],
   "execution_count": 238
  },
  {
   "cell_type": "code",
   "id": "5d957bf7",
   "metadata": {
    "id": "5d957bf7",
    "ExecuteTime": {
     "end_time": "2025-05-26T12:57:02.282447Z",
     "start_time": "2025-05-26T12:57:02.272448Z"
    }
   },
   "source": [
    "t=list(range(0,7))\n",
    "y=[1,4,5,8,9,5,3]"
   ],
   "outputs": [],
   "execution_count": 239
  },
  {
   "cell_type": "code",
   "id": "72a789a2",
   "metadata": {
    "id": "72a789a2",
    "outputId": "f2428fe8-85c6-4590-c1bc-98a947c793aa",
    "colab": {
     "base_uri": "https://localhost:8080/",
     "height": 219
    },
    "ExecuteTime": {
     "end_time": "2025-05-26T12:57:02.845906Z",
     "start_time": "2025-05-26T12:57:02.348707Z"
    }
   },
   "source": [
    "plt.figure(figsize=(10,6))\n",
    "plt.plot(\n",
    "    t,\n",
    "    y,\n",
    "    color=\"green\", #\"red\" \"blue\"\n",
    "    linestyle=\"dashed\",\n",
    "    marker=\"o\",\n",
    "    markerfacecolor=\"blue\",\n",
    "    markersize=15\n",
    ")\n",
    "\n",
    "plt.xlim([-0.5,6.5])\n",
    "plt.ylim([0.5,9.5])\n",
    "plt.show()"
   ],
   "outputs": [
    {
     "data": {
      "text/plain": [
       "<Figure size 1000x600 with 1 Axes>"
      ],
      "image/png": "[encoded data removed]"
     },
     "metadata": {},
     "output_type": "display_data"
    }
   ],
   "execution_count": 240
  },
  {
   "cell_type": "code",
   "id": "bce86c2b",
   "metadata": {
    "id": "bce86c2b",
    "ExecuteTime": {
     "end_time": "2025-05-26T12:57:02.999881Z",
     "start_time": "2025-05-26T12:57:02.979289Z"
    }
   },
   "source": [
    "def drawGraph2():\n",
    "    plt.figure(figsize=(10,6))\n",
    "    plt.plot(\n",
    "        t,\n",
    "        y,\n",
    "        color=\"green\", #\"red\" \"blue\"\n",
    "        linestyle=\"dashed\",\n",
    "        marker=\"o\",\n",
    "        markerfacecolor=\"blue\",\n",
    "        markersize=15\n",
    "    )\n",
    "\n",
    "    plt.xlim([-0.5,6.5])\n",
    "    plt.ylim([0.5,9.5])\n",
    "    plt.show()"
   ],
   "outputs": [],
   "execution_count": 241
  },
  {
   "cell_type": "code",
   "id": "6c2969c6",
   "metadata": {
    "id": "6c2969c6",
    "outputId": "4f52c808-0065-4e54-c8cc-acf07680b1dc",
    "colab": {
     "base_uri": "https://localhost:8080/",
     "height": 219
    },
    "ExecuteTime": {
     "end_time": "2025-05-26T12:57:03.516480Z",
     "start_time": "2025-05-26T12:57:03.097291Z"
    }
   },
   "source": [
    "drawGraph2()"
   ],
   "outputs": [
    {
     "data": {
      "text/plain": [
       "<Figure size 1000x600 with 1 Axes>"
      ],
      "image/png": "[encoded data removed]"
     },
     "metadata": {},
     "output_type": "display_data"
    }
   ],
   "execution_count": 242
  },
  {
   "cell_type": "markdown",
   "id": "8e0332d4",
   "metadata": {
    "id": "8e0332d4"
   },
   "source": [
    "### scatter (점포도)"
   ]
  },
  {
   "cell_type": "code",
   "id": "73ebb09d",
   "metadata": {
    "id": "73ebb09d",
    "ExecuteTime": {
     "end_time": "2025-05-26T12:57:03.640220Z",
     "start_time": "2025-05-26T12:57:03.629775Z"
    }
   },
   "source": [
    "t = np.array(range(0,10))\n",
    "y= np.array([9,8,7,9,8,3,2,4,3,4])"
   ],
   "outputs": [],
   "execution_count": 243
  },
  {
   "cell_type": "code",
   "id": "379215cf",
   "metadata": {
    "id": "379215cf",
    "outputId": "5aa33c40-1f8a-4805-cdca-6e7871af37ce",
    "colab": {
     "base_uri": "https://localhost:8080/",
     "height": 219
    },
    "ExecuteTime": {
     "end_time": "2025-05-26T12:57:04.016339Z",
     "start_time": "2025-05-26T12:57:03.709848Z"
    }
   },
   "source": [
    "def drawGraph3():\n",
    "    plt.figure(figsize=(10,6))\n",
    "    plt.scatter(t,y)\n",
    "    plt.show()\n",
    "\n",
    "drawGraph3()"
   ],
   "outputs": [
    {
     "data": {
      "text/plain": [
       "<Figure size 1000x600 with 1 Axes>"
      ],
      "image/png": "[encoded data removed]"
     },
     "metadata": {},
     "output_type": "display_data"
    }
   ],
   "execution_count": 244
  },
  {
   "cell_type": "code",
   "id": "76f2ee90",
   "metadata": {
    "id": "76f2ee90",
    "outputId": "0af3e5d8-3c2a-44bb-ac76-933a197763ae",
    "colab": {
     "base_uri": "https://localhost:8080/",
     "height": 135
    },
    "ExecuteTime": {
     "end_time": "2025-05-26T12:57:04.542618Z",
     "start_time": "2025-05-26T12:57:04.113082Z"
    }
   },
   "source": [
    "colormap=t\n",
    "def drawGraph3():\n",
    "    plt.figure(figsize=(20,6))\n",
    "    plt.scatter(t,y,s=50,c=colormap,marker=\">\")\n",
    "    plt.colorbar()\n",
    "    plt.show()\n",
    "\n",
    "drawGraph3()"
   ],
   "outputs": [
    {
     "data": {
      "text/plain": [
       "<Figure size 2000x600 with 2 Axes>"
      ],
      "image/png": "[encoded data removed]"
     },
     "metadata": {},
     "output_type": "display_data"
    }
   ],
   "execution_count": 245
  },
  {
   "cell_type": "markdown",
   "id": "965b97a4",
   "metadata": {
    "id": "965b97a4"
   },
   "source": [
    "### pandas에서도 plot 하기\n",
    "- matplotlib을 가져와 사용함"
   ]
  },
  {
   "cell_type": "code",
   "id": "61242359",
   "metadata": {
    "id": "61242359",
    "outputId": "1fe96e8d-8a80-4baa-9159-bbee04fa55fa",
    "colab": {
     "base_uri": "https://localhost:8080/",
     "height": 466
    },
    "ExecuteTime": {
     "end_time": "2025-05-26T12:57:04.760856Z",
     "start_time": "2025-05-26T12:57:04.730142Z"
    }
   },
   "source": [
    "data_result.head()"
   ],
   "outputs": [
    {
     "data": {
      "text/plain": [
       "       소계       최근증가율     인구수     한국인    외국인    고령자     외국인비율      고령자비율  \\\n",
       "구별                                                                         \n",
       "강남구  3238  150.619195  561052  556164   4888  65060  0.871220  11.596073   \n",
       "강동구  1010  166.490765  440359  436223   4136  56161  0.939234  12.753458   \n",
       "강북구   831  125.203252  328002  324479   3523  56530  1.074079  17.234651   \n",
       "강서구   911  134.793814  608255  601691   6564  76032  1.079153  12.500021   \n",
       "관악구  2109  149.290780  520929  503297  17632  70046  3.384722  13.446362   \n",
       "\n",
       "       CCTV비율  \n",
       "구별             \n",
       "강남구  0.577130  \n",
       "강동구  0.229358  \n",
       "강북구  0.253352  \n",
       "강서구  0.149773  \n",
       "관악구  0.404854  "
      ],
      "text/html": [
       "<div>\n",
       "<style scoped>\n",
       "    .dataframe tbody tr th:only-of-type {\n",
       "        vertical-align: middle;\n",
       "    }\n",
       "\n",
       "    .dataframe tbody tr th {\n",
       "        vertical-align: top;\n",
       "    }\n",
       "\n",
       "    .dataframe thead th {\n",
       "        text-align: right;\n",
       "    }\n",
       "</style>\n",
       "<table border=\"1\" class=\"dataframe\">\n",
       "  <thead>\n",
       "    <tr style=\"text-align: right;\">\n",
       "      <th></th>\n",
       "      <th>소계</th>\n",
       "      <th>최근증가율</th>\n",
       "      <th>인구수</th>\n",
       "      <th>한국인</th>\n",
       "      <th>외국인</th>\n",
       "      <th>고령자</th>\n",
       "      <th>외국인비율</th>\n",
       "      <th>고령자비율</th>\n",
       "      <th>CCTV비율</th>\n",
       "    </tr>\n",
       "    <tr>\n",
       "      <th>구별</th>\n",
       "      <th></th>\n",
       "      <th></th>\n",
       "      <th></th>\n",
       "      <th></th>\n",
       "      <th></th>\n",
       "      <th></th>\n",
       "      <th></th>\n",
       "      <th></th>\n",
       "      <th></th>\n",
       "    </tr>\n",
       "  </thead>\n",
       "  <tbody>\n",
       "    <tr>\n",
       "      <th>강남구</th>\n",
       "      <td>3238</td>\n",
       "      <td>150.619195</td>\n",
       "      <td>561052</td>\n",
       "      <td>556164</td>\n",
       "      <td>4888</td>\n",
       "      <td>65060</td>\n",
       "      <td>0.871220</td>\n",
       "      <td>11.596073</td>\n",
       "      <td>0.577130</td>\n",
       "    </tr>\n",
       "    <tr>\n",
       "      <th>강동구</th>\n",
       "      <td>1010</td>\n",
       "      <td>166.490765</td>\n",
       "      <td>440359</td>\n",
       "      <td>436223</td>\n",
       "      <td>4136</td>\n",
       "      <td>56161</td>\n",
       "      <td>0.939234</td>\n",
       "      <td>12.753458</td>\n",
       "      <td>0.229358</td>\n",
       "    </tr>\n",
       "    <tr>\n",
       "      <th>강북구</th>\n",
       "      <td>831</td>\n",
       "      <td>125.203252</td>\n",
       "      <td>328002</td>\n",
       "      <td>324479</td>\n",
       "      <td>3523</td>\n",
       "      <td>56530</td>\n",
       "      <td>1.074079</td>\n",
       "      <td>17.234651</td>\n",
       "      <td>0.253352</td>\n",
       "    </tr>\n",
       "    <tr>\n",
       "      <th>강서구</th>\n",
       "      <td>911</td>\n",
       "      <td>134.793814</td>\n",
       "      <td>608255</td>\n",
       "      <td>601691</td>\n",
       "      <td>6564</td>\n",
       "      <td>76032</td>\n",
       "      <td>1.079153</td>\n",
       "      <td>12.500021</td>\n",
       "      <td>0.149773</td>\n",
       "    </tr>\n",
       "    <tr>\n",
       "      <th>관악구</th>\n",
       "      <td>2109</td>\n",
       "      <td>149.290780</td>\n",
       "      <td>520929</td>\n",
       "      <td>503297</td>\n",
       "      <td>17632</td>\n",
       "      <td>70046</td>\n",
       "      <td>3.384722</td>\n",
       "      <td>13.446362</td>\n",
       "      <td>0.404854</td>\n",
       "    </tr>\n",
       "  </tbody>\n",
       "</table>\n",
       "</div>"
      ]
     },
     "execution_count": 246,
     "metadata": {},
     "output_type": "execute_result"
    }
   ],
   "execution_count": 246
  },
  {
   "cell_type": "code",
   "id": "2c366969",
   "metadata": {
    "id": "2c366969",
    "outputId": "184a2f72-5f98-462e-d641-68e7a0050f6b",
    "colab": {
     "base_uri": "https://localhost:8080/",
     "height": 248
    },
    "ExecuteTime": {
     "end_time": "2025-05-26T12:57:05.730282Z",
     "start_time": "2025-05-26T12:57:05.037387Z"
    }
   },
   "source": [
    "data_result[\"인구수\"].plot(kind=\"bar\",figsize=(16,10))"
   ],
   "outputs": [
    {
     "data": {
      "text/plain": [
       "<Axes: xlabel='구별'>"
      ]
     },
     "execution_count": 247,
     "metadata": {},
     "output_type": "execute_result"
    },
    {
     "data": {
      "text/plain": [
       "<Figure size 1600x1000 with 1 Axes>"
      ],
      "image/png": "[encoded data removed]"
     },
     "metadata": {},
     "output_type": "display_data"
    }
   ],
   "execution_count": 247
  },
  {
   "cell_type": "code",
   "id": "44d36f82",
   "metadata": {
    "id": "44d36f82",
    "outputId": "06ae72eb-25ea-4952-d8db-e69a9471a68b",
    "colab": {
     "base_uri": "https://localhost:8080/",
     "height": 229
    },
    "ExecuteTime": {
     "end_time": "2025-05-26T12:57:07.309176Z",
     "start_time": "2025-05-26T12:57:06.211349Z"
    }
   },
   "source": [
    "data_result[\"인구수\"].plot(kind=\"barh\",figsize=(16,10))"
   ],
   "outputs": [
    {
     "data": {
      "text/plain": [
       "<Axes: ylabel='구별'>"
      ]
     },
     "execution_count": 248,
     "metadata": {},
     "output_type": "execute_result"
    },
    {
     "data": {
      "text/plain": [
       "<Figure size 1600x1000 with 1 Axes>"
      ],
      "image/png": "[encoded data removed]"
     },
     "metadata": {},
     "output_type": "display_data"
    }
   ],
   "execution_count": 248
  },
  {
   "cell_type": "markdown",
   "source": [
    "\n",
    "## CCTV 데이터 그래프 표현"
   ],
   "metadata": {
    "id": "QTfjCcsYCFto"
   },
   "id": "QTfjCcsYCFto"
  },
  {
   "cell_type": "markdown",
   "source": [
    "#### 마이너스 부호 때문에  한글이 깨지는 것을 방지 하기 위한 설정\n",
    "plt.rcParams[\"axes.unicode_minus\"]=False"
   ],
   "metadata": {
    "id": "1df7fbb3"
   },
   "id": "1df7fbb3"
  },
  {
   "cell_type": "code",
   "source": [
    "plt.rcParams[\"axes.unicode_minus\"]=False"
   ],
   "metadata": {
    "id": "kkyXXQGSC0FH",
    "ExecuteTime": {
     "end_time": "2025-05-26T12:57:07.699621Z",
     "start_time": "2025-05-26T12:57:07.689160Z"
    }
   },
   "id": "kkyXXQGSC0FH",
   "outputs": [],
   "execution_count": 249
  },
  {
   "cell_type": "code",
   "source": [
    "data_result.head()"
   ],
   "metadata": {
    "id": "7sfuwCcWDDA4",
    "outputId": "90945be3-996f-416d-d221-13272448bace",
    "colab": {
     "base_uri": "https://localhost:8080/",
     "height": 466
    },
    "ExecuteTime": {
     "end_time": "2025-05-26T12:57:07.993438Z",
     "start_time": "2025-05-26T12:57:07.959375Z"
    }
   },
   "id": "7sfuwCcWDDA4",
   "outputs": [
    {
     "data": {
      "text/plain": [
       "       소계       최근증가율     인구수     한국인    외국인    고령자     외국인비율      고령자비율  \\\n",
       "구별                                                                         \n",
       "강남구  3238  150.619195  561052  556164   4888  65060  0.871220  11.596073   \n",
       "강동구  1010  166.490765  440359  436223   4136  56161  0.939234  12.753458   \n",
       "강북구   831  125.203252  328002  324479   3523  56530  1.074079  17.234651   \n",
       "강서구   911  134.793814  608255  601691   6564  76032  1.079153  12.500021   \n",
       "관악구  2109  149.290780  520929  503297  17632  70046  3.384722  13.446362   \n",
       "\n",
       "       CCTV비율  \n",
       "구별             \n",
       "강남구  0.577130  \n",
       "강동구  0.229358  \n",
       "강북구  0.253352  \n",
       "강서구  0.149773  \n",
       "관악구  0.404854  "
      ],
      "text/html": [
       "<div>\n",
       "<style scoped>\n",
       "    .dataframe tbody tr th:only-of-type {\n",
       "        vertical-align: middle;\n",
       "    }\n",
       "\n",
       "    .dataframe tbody tr th {\n",
       "        vertical-align: top;\n",
       "    }\n",
       "\n",
       "    .dataframe thead th {\n",
       "        text-align: right;\n",
       "    }\n",
       "</style>\n",
       "<table border=\"1\" class=\"dataframe\">\n",
       "  <thead>\n",
       "    <tr style=\"text-align: right;\">\n",
       "      <th></th>\n",
       "      <th>소계</th>\n",
       "      <th>최근증가율</th>\n",
       "      <th>인구수</th>\n",
       "      <th>한국인</th>\n",
       "      <th>외국인</th>\n",
       "      <th>고령자</th>\n",
       "      <th>외국인비율</th>\n",
       "      <th>고령자비율</th>\n",
       "      <th>CCTV비율</th>\n",
       "    </tr>\n",
       "    <tr>\n",
       "      <th>구별</th>\n",
       "      <th></th>\n",
       "      <th></th>\n",
       "      <th></th>\n",
       "      <th></th>\n",
       "      <th></th>\n",
       "      <th></th>\n",
       "      <th></th>\n",
       "      <th></th>\n",
       "      <th></th>\n",
       "    </tr>\n",
       "  </thead>\n",
       "  <tbody>\n",
       "    <tr>\n",
       "      <th>강남구</th>\n",
       "      <td>3238</td>\n",
       "      <td>150.619195</td>\n",
       "      <td>561052</td>\n",
       "      <td>556164</td>\n",
       "      <td>4888</td>\n",
       "      <td>65060</td>\n",
       "      <td>0.871220</td>\n",
       "      <td>11.596073</td>\n",
       "      <td>0.577130</td>\n",
       "    </tr>\n",
       "    <tr>\n",
       "      <th>강동구</th>\n",
       "      <td>1010</td>\n",
       "      <td>166.490765</td>\n",
       "      <td>440359</td>\n",
       "      <td>436223</td>\n",
       "      <td>4136</td>\n",
       "      <td>56161</td>\n",
       "      <td>0.939234</td>\n",
       "      <td>12.753458</td>\n",
       "      <td>0.229358</td>\n",
       "    </tr>\n",
       "    <tr>\n",
       "      <th>강북구</th>\n",
       "      <td>831</td>\n",
       "      <td>125.203252</td>\n",
       "      <td>328002</td>\n",
       "      <td>324479</td>\n",
       "      <td>3523</td>\n",
       "      <td>56530</td>\n",
       "      <td>1.074079</td>\n",
       "      <td>17.234651</td>\n",
       "      <td>0.253352</td>\n",
       "    </tr>\n",
       "    <tr>\n",
       "      <th>강서구</th>\n",
       "      <td>911</td>\n",
       "      <td>134.793814</td>\n",
       "      <td>608255</td>\n",
       "      <td>601691</td>\n",
       "      <td>6564</td>\n",
       "      <td>76032</td>\n",
       "      <td>1.079153</td>\n",
       "      <td>12.500021</td>\n",
       "      <td>0.149773</td>\n",
       "    </tr>\n",
       "    <tr>\n",
       "      <th>관악구</th>\n",
       "      <td>2109</td>\n",
       "      <td>149.290780</td>\n",
       "      <td>520929</td>\n",
       "      <td>503297</td>\n",
       "      <td>17632</td>\n",
       "      <td>70046</td>\n",
       "      <td>3.384722</td>\n",
       "      <td>13.446362</td>\n",
       "      <td>0.404854</td>\n",
       "    </tr>\n",
       "  </tbody>\n",
       "</table>\n",
       "</div>"
      ]
     },
     "execution_count": 250,
     "metadata": {},
     "output_type": "execute_result"
    }
   ],
   "execution_count": 250
  },
  {
   "cell_type": "markdown",
   "source": [
    "### 소계 컬럼의 시각화 - 막대그래프"
   ],
   "metadata": {
    "id": "sWGaeIlDDH4S"
   },
   "id": "sWGaeIlDDH4S"
  },
  {
   "cell_type": "code",
   "source": [
    "data_result[\"소계\"].plot(kind=\"barh\",grid=True,figsize=(10,10));"
   ],
   "metadata": {
    "id": "2e6-izqeDPbY",
    "outputId": "5a0fc0d3-8674-40de-8b9d-618c2d4c0f06",
    "colab": {
     "base_uri": "https://localhost:8080/",
     "height": 319
    },
    "ExecuteTime": {
     "end_time": "2025-05-26T12:57:09.027771Z",
     "start_time": "2025-05-26T12:57:08.265341Z"
    }
   },
   "id": "2e6-izqeDPbY",
   "outputs": [
    {
     "data": {
      "text/plain": [
       "<Figure size 1000x1000 with 1 Axes>"
      ],
      "image/png": "[encoded data removed]"
     },
     "metadata": {},
     "output_type": "display_data"
    }
   ],
   "execution_count": 251
  },
  {
   "cell_type": "markdown",
   "source": [
    "#### 데이터를 정렬 후 시각화"
   ],
   "metadata": {
    "id": "9JxtyKJTDjni"
   },
   "id": "9JxtyKJTDjni"
  },
  {
   "cell_type": "code",
   "source": [
    "def drawGraph():\n",
    "    data_result[\"소계\"].sort_values().plot(kind=\"barh\",grid=True,figsize=(10,10),title=\"CCTV가 가장 많은 지역구\");\n",
    "drawGraph()"
   ],
   "metadata": {
    "id": "65R3uhItDrit",
    "outputId": "cce5cc14-ce01-4367-cbf5-1e5aa32b8b09",
    "colab": {
     "base_uri": "https://localhost:8080/",
     "height": 327
    },
    "ExecuteTime": {
     "end_time": "2025-05-26T12:57:10.375452Z",
     "start_time": "2025-05-26T12:57:09.201511Z"
    }
   },
   "id": "65R3uhItDrit",
   "outputs": [
    {
     "data": {
      "text/plain": [
       "<Figure size 1000x1000 with 1 Axes>"
      ],
      "image/png": "[encoded data removed]"
     },
     "metadata": {},
     "output_type": "display_data"
    }
   ],
   "execution_count": 252
  },
  {
   "cell_type": "markdown",
   "source": [
    "#### CCTV 비율 시각화"
   ],
   "metadata": {
    "id": "m_di3uUiD4e2"
   },
   "id": "m_di3uUiD4e2"
  },
  {
   "cell_type": "code",
   "source": [
    "def drawGraph():\n",
    "    data_result[\"CCTV비율\"].sort_values().plot(kind=\"barh\",grid=True,figsize=(10,10),title=\"CCTV가 가장 많은 지역구\");\n",
    "drawGraph()"
   ],
   "metadata": {
    "id": "4YsCXHbZD6SP",
    "outputId": "b855b445-7f5a-4646-f584-a7a78e68056b",
    "colab": {
     "base_uri": "https://localhost:8080/",
     "height": 327
    },
    "ExecuteTime": {
     "end_time": "2025-05-26T12:57:11.617702Z",
     "start_time": "2025-05-26T12:57:10.472452Z"
    }
   },
   "id": "4YsCXHbZD6SP",
   "outputs": [
    {
     "data": {
      "text/plain": [
       "<Figure size 1000x1000 with 1 Axes>"
      ],
      "image/png": "[encoded data removed]"
     },
     "metadata": {},
     "output_type": "display_data"
    }
   ],
   "execution_count": 253
  },
  {
   "cell_type": "markdown",
   "source": [
    "---"
   ],
   "metadata": {
    "id": "dpqhrf4VEu7D"
   },
   "id": "dpqhrf4VEu7D"
  },
  {
   "cell_type": "markdown",
   "source": [
    "# 6.데이터의 경향성 파악하기"
   ],
   "metadata": {
    "id": "gWcwIusREzab"
   },
   "id": "gWcwIusREzab"
  },
  {
   "cell_type": "markdown",
   "source": [
    "## 점포도 및 선형회귀\n",
    "- 선형 회귀를 통해 데이터의 경향성을 보여줄 수 있음"
   ],
   "metadata": {
    "id": "KhNbCz6FE24V"
   },
   "id": "KhNbCz6FE24V"
  },
  {
   "cell_type": "markdown",
   "source": [
    "- 인구수와 소계 컬럼으로 scatter plot 그리기"
   ],
   "metadata": {
    "id": "3FsMgSeOE3qU"
   },
   "id": "3FsMgSeOE3qU"
  },
  {
   "cell_type": "code",
   "source": [
    "def drawGraph():\n",
    "    plt.figure(figsize=(10,10))\n",
    "    plt.scatter(data_result[\"인구수\"],data_result[\"소계\"],s=50)\n",
    "    plt.xlabel(\"인구수\")\n",
    "    plt.ylabel(\"CCTV\")\n",
    "    plt.grid(True)\n",
    "    plt.show()\n",
    "drawGraph()"
   ],
   "metadata": {
    "id": "Jcq2JvCUE35C",
    "outputId": "351e7e25-e0aa-42cc-ca26-624f98237201",
    "colab": {
     "base_uri": "https://localhost:8080/",
     "height": 332
    },
    "ExecuteTime": {
     "end_time": "2025-05-26T12:57:11.882585Z",
     "start_time": "2025-05-26T12:57:11.698454Z"
    }
   },
   "id": "Jcq2JvCUE35C",
   "outputs": [
    {
     "data": {
      "text/plain": [
       "<Figure size 1000x1000 with 1 Axes>"
      ],
      "image/png": "[encoded data removed]"
     },
     "metadata": {},
     "output_type": "display_data"
    }
   ],
   "execution_count": 254
  },
  {
   "cell_type": "markdown",
   "source": [
    "## Numpuy를 이용한 선형회귀선 만들기\n",
    "- np.polyfit() : 직선을 구성하기 위한 계산\n",
    "- np.ploy1d() : polyfit으로 찾은 계소로 파이썬에서 사용 할 수 있는 함수로 만들어주는 기능"
   ],
   "metadata": {
    "id": "ZFqkgxTzE4Hb"
   },
   "id": "ZFqkgxTzE4Hb"
  },
  {
   "cell_type": "code",
   "source": [
    "import numpy as np"
   ],
   "metadata": {
    "id": "0bXBDuyVE4S0",
    "ExecuteTime": {
     "end_time": "2025-05-26T12:57:11.959734Z",
     "start_time": "2025-05-26T12:57:11.948003Z"
    }
   },
   "id": "0bXBDuyVE4S0",
   "outputs": [],
   "execution_count": 255
  },
  {
   "cell_type": "markdown",
   "source": [
    "- 선형회귀 직선 생성"
   ],
   "metadata": {
    "id": "Yg6df5thJG0f"
   },
   "id": "Yg6df5thJG0f"
  },
  {
   "cell_type": "code",
   "source": [
    "fp1 = np.polyfit(data_result[\"인구수\"],data_result[\"소계\"],1)\n",
    "fp1"
   ],
   "metadata": {
    "id": "w0wvL4jAE4eR",
    "outputId": "c80a746d-8b52-40f1-e1d6-4ab6ea42e670",
    "colab": {
     "base_uri": "https://localhost:8080/"
    },
    "ExecuteTime": {
     "end_time": "2025-05-26T12:57:12.083471Z",
     "start_time": "2025-05-26T12:57:12.060674Z"
    }
   },
   "id": "w0wvL4jAE4eR",
   "outputs": [
    {
     "data": {
      "text/plain": [
       "array([1.11155868e-03, 1.06515745e+03])"
      ]
     },
     "execution_count": 256,
     "metadata": {},
     "output_type": "execute_result"
    }
   ],
   "execution_count": 256
  },
  {
   "cell_type": "markdown",
   "source": [
    "- 파이썬으로 사용 할 수 있는 것으로 바꾸"
   ],
   "metadata": {
    "id": "P0A5pPH1JWQh"
   },
   "id": "P0A5pPH1JWQh"
  },
  {
   "cell_type": "code",
   "source": [
    "f1=np.poly1d(fp1)\n",
    "f1"
   ],
   "metadata": {
    "id": "Kjn7HoydJL0Q",
    "outputId": "3e01b2f4-53c9-4400-8d10-84618eb1fb7d",
    "colab": {
     "base_uri": "https://localhost:8080/"
    },
    "ExecuteTime": {
     "end_time": "2025-05-26T12:57:12.348381Z",
     "start_time": "2025-05-26T12:57:12.338378Z"
    }
   },
   "id": "Kjn7HoydJL0Q",
   "outputs": [
    {
     "data": {
      "text/plain": [
       "poly1d([1.11155868e-03, 1.06515745e+03])"
      ]
     },
     "execution_count": 257,
     "metadata": {},
     "output_type": "execute_result"
    }
   ],
   "execution_count": 257
  },
  {
   "cell_type": "markdown",
   "source": [
    "- 인구 40만명인 구에서 서울시 전체 경향에 맞는 CCTV 수"
   ],
   "metadata": {
    "id": "t1wRMIzjJMO6"
   },
   "id": "t1wRMIzjJMO6"
  },
  {
   "cell_type": "code",
   "source": [
    "print(round(f1(400000),1),\"대\")"
   ],
   "metadata": {
    "id": "ASyTPWDVJMdc",
    "outputId": "264e3256-9e3d-45d2-f9a4-6ded4c693b3a",
    "colab": {
     "base_uri": "https://localhost:8080/"
    },
    "ExecuteTime": {
     "end_time": "2025-05-26T12:57:12.629355Z",
     "start_time": "2025-05-26T12:57:12.618888Z"
    }
   },
   "id": "ASyTPWDVJMdc",
   "outputs": [
    {
     "name": "stdout",
     "output_type": "stream",
     "text": [
      "1509.8 대\n"
     ]
    }
   ],
   "execution_count": 258
  },
  {
   "cell_type": "markdown",
   "source": [
    "- 경향선을 그리기 위한 x 데이터 생성\n",
    "- np.linespace(a,b,n) : a부터 b까지의 n개의 등간격 데이터 생성"
   ],
   "metadata": {
    "id": "xFon-paNJMqu"
   },
   "id": "xFon-paNJMqu"
  },
  {
   "cell_type": "code",
   "source": [
    "fx=np.linspace(100000,700000,100)"
   ],
   "metadata": {
    "id": "clt049cdKas7",
    "ExecuteTime": {
     "end_time": "2025-05-26T12:57:12.847425Z",
     "start_time": "2025-05-26T12:57:12.829423Z"
    }
   },
   "id": "clt049cdKas7",
   "outputs": [],
   "execution_count": 259
  },
  {
   "cell_type": "code",
   "source": [
    "def drawGraph():\n",
    "    plt.figure(figsize=(10,10))\n",
    "    plt.scatter(data_result[\"인구수\"],data_result[\"소계\"],s=50)\n",
    "    plt.xlabel(\"인구수\")\n",
    "    plt.ylabel(\"CCTV\")\n",
    "    plt.grid(True)\n",
    "    ### 선형 회귀 추가\n",
    "    plt.plot(fx,f1(fx),ls=\"dashed\",lw=3,color=\"r\")\n",
    "    plt.show()\n",
    "drawGraph()"
   ],
   "metadata": {
    "id": "v0obgoZ8JM28",
    "outputId": "ccbd4a45-6987-465b-d75a-f95712028290",
    "colab": {
     "base_uri": "https://localhost:8080/",
     "height": 332
    },
    "ExecuteTime": {
     "end_time": "2025-05-26T12:57:13.174382Z",
     "start_time": "2025-05-26T12:57:12.926946Z"
    }
   },
   "id": "v0obgoZ8JM28",
   "outputs": [
    {
     "data": {
      "text/plain": [
       "<Figure size 1000x1000 with 1 Axes>"
      ],
      "image/png": "[encoded data removed]"
     },
     "metadata": {},
     "output_type": "display_data"
    }
   ],
   "execution_count": 260
  },
  {
   "cell_type": "markdown",
   "source": [
    "# 7. 강조하고 싶은 데이터 시각화\n",
    "- 경향과의 오차 추가\n",
    "- 경향은 f1함수에 해당 인구를 입력\n",
    "- f1(data_result[\"인구수\"])"
   ],
   "metadata": {
    "id": "LmSudNxOJNCr"
   },
   "id": "LmSudNxOJNCr"
  },
  {
   "cell_type": "code",
   "source": [
    "### 오차 컬럼\n",
    "data_result[\"오차\"] = data_result[\"소계\"]-f1(data_result[\"인구수\"])\n",
    "data_result.head()"
   ],
   "metadata": {
    "id": "x6i_4v2lLCCU",
    "outputId": "8f99ce41-c0a6-4cc4-e69c-7fb5ce13c509",
    "colab": {
     "base_uri": "https://localhost:8080/",
     "height": 466
    },
    "ExecuteTime": {
     "end_time": "2025-05-26T12:57:13.252222Z",
     "start_time": "2025-05-26T12:57:13.224458Z"
    }
   },
   "id": "x6i_4v2lLCCU",
   "outputs": [
    {
     "data": {
      "text/plain": [
       "       소계       최근증가율     인구수     한국인    외국인    고령자     외국인비율      고령자비율  \\\n",
       "구별                                                                         \n",
       "강남구  3238  150.619195  561052  556164   4888  65060  0.871220  11.596073   \n",
       "강동구  1010  166.490765  440359  436223   4136  56161  0.939234  12.753458   \n",
       "강북구   831  125.203252  328002  324479   3523  56530  1.074079  17.234651   \n",
       "강서구   911  134.793814  608255  601691   6564  76032  1.079153  12.500021   \n",
       "관악구  2109  149.290780  520929  503297  17632  70046  3.384722  13.446362   \n",
       "\n",
       "       CCTV비율           오차  \n",
       "구별                          \n",
       "강남구  0.577130  1549.200326  \n",
       "강동구  0.229358  -544.642322  \n",
       "강북구  0.253352  -598.750923  \n",
       "강서구  0.149773  -830.268578  \n",
       "관악구  0.404854   464.799395  "
      ],
      "text/html": [
       "<div>\n",
       "<style scoped>\n",
       "    .dataframe tbody tr th:only-of-type {\n",
       "        vertical-align: middle;\n",
       "    }\n",
       "\n",
       "    .dataframe tbody tr th {\n",
       "        vertical-align: top;\n",
       "    }\n",
       "\n",
       "    .dataframe thead th {\n",
       "        text-align: right;\n",
       "    }\n",
       "</style>\n",
       "<table border=\"1\" class=\"dataframe\">\n",
       "  <thead>\n",
       "    <tr style=\"text-align: right;\">\n",
       "      <th></th>\n",
       "      <th>소계</th>\n",
       "      <th>최근증가율</th>\n",
       "      <th>인구수</th>\n",
       "      <th>한국인</th>\n",
       "      <th>외국인</th>\n",
       "      <th>고령자</th>\n",
       "      <th>외국인비율</th>\n",
       "      <th>고령자비율</th>\n",
       "      <th>CCTV비율</th>\n",
       "      <th>오차</th>\n",
       "    </tr>\n",
       "    <tr>\n",
       "      <th>구별</th>\n",
       "      <th></th>\n",
       "      <th></th>\n",
       "      <th></th>\n",
       "      <th></th>\n",
       "      <th></th>\n",
       "      <th></th>\n",
       "      <th></th>\n",
       "      <th></th>\n",
       "      <th></th>\n",
       "      <th></th>\n",
       "    </tr>\n",
       "  </thead>\n",
       "  <tbody>\n",
       "    <tr>\n",
       "      <th>강남구</th>\n",
       "      <td>3238</td>\n",
       "      <td>150.619195</td>\n",
       "      <td>561052</td>\n",
       "      <td>556164</td>\n",
       "      <td>4888</td>\n",
       "      <td>65060</td>\n",
       "      <td>0.871220</td>\n",
       "      <td>11.596073</td>\n",
       "      <td>0.577130</td>\n",
       "      <td>1549.200326</td>\n",
       "    </tr>\n",
       "    <tr>\n",
       "      <th>강동구</th>\n",
       "      <td>1010</td>\n",
       "      <td>166.490765</td>\n",
       "      <td>440359</td>\n",
       "      <td>436223</td>\n",
       "      <td>4136</td>\n",
       "      <td>56161</td>\n",
       "      <td>0.939234</td>\n",
       "      <td>12.753458</td>\n",
       "      <td>0.229358</td>\n",
       "      <td>-544.642322</td>\n",
       "    </tr>\n",
       "    <tr>\n",
       "      <th>강북구</th>\n",
       "      <td>831</td>\n",
       "      <td>125.203252</td>\n",
       "      <td>328002</td>\n",
       "      <td>324479</td>\n",
       "      <td>3523</td>\n",
       "      <td>56530</td>\n",
       "      <td>1.074079</td>\n",
       "      <td>17.234651</td>\n",
       "      <td>0.253352</td>\n",
       "      <td>-598.750923</td>\n",
       "    </tr>\n",
       "    <tr>\n",
       "      <th>강서구</th>\n",
       "      <td>911</td>\n",
       "      <td>134.793814</td>\n",
       "      <td>608255</td>\n",
       "      <td>601691</td>\n",
       "      <td>6564</td>\n",
       "      <td>76032</td>\n",
       "      <td>1.079153</td>\n",
       "      <td>12.500021</td>\n",
       "      <td>0.149773</td>\n",
       "      <td>-830.268578</td>\n",
       "    </tr>\n",
       "    <tr>\n",
       "      <th>관악구</th>\n",
       "      <td>2109</td>\n",
       "      <td>149.290780</td>\n",
       "      <td>520929</td>\n",
       "      <td>503297</td>\n",
       "      <td>17632</td>\n",
       "      <td>70046</td>\n",
       "      <td>3.384722</td>\n",
       "      <td>13.446362</td>\n",
       "      <td>0.404854</td>\n",
       "      <td>464.799395</td>\n",
       "    </tr>\n",
       "  </tbody>\n",
       "</table>\n",
       "</div>"
      ]
     },
     "execution_count": 261,
     "metadata": {},
     "output_type": "execute_result"
    }
   ],
   "execution_count": 261
  },
  {
   "cell_type": "markdown",
   "source": [
    "- 경향과 비교하여 데이터 오차가 많이 나는 데이터 계산"
   ],
   "metadata": {
    "id": "hDD3FACTLCYr"
   },
   "id": "hDD3FACTLCYr"
  },
  {
   "cell_type": "code",
   "source": [
    "df_sort_f = data_result.sort_values(by=\"오차\",ascending=False)\n",
    "df_sort_t = data_result.sort_values(by=\"오차\",ascending=True)"
   ],
   "metadata": {
    "id": "sESJK5_pLCnI",
    "ExecuteTime": {
     "end_time": "2025-05-26T12:57:13.392706Z",
     "start_time": "2025-05-26T12:57:13.380149Z"
    }
   },
   "id": "sESJK5_pLCnI",
   "outputs": [],
   "execution_count": 262
  },
  {
   "cell_type": "code",
   "source": [
    "### CCTV가 많은 지역구\n",
    "df_sort_f.head()"
   ],
   "metadata": {
    "id": "8hD-P_R1LC-6",
    "outputId": "c7444147-7ead-4b0e-8694-1896815752e5",
    "colab": {
     "base_uri": "https://localhost:8080/",
     "height": 466
    },
    "ExecuteTime": {
     "end_time": "2025-05-26T12:57:13.684180Z",
     "start_time": "2025-05-26T12:57:13.656305Z"
    }
   },
   "id": "8hD-P_R1LC-6",
   "outputs": [
    {
     "data": {
      "text/plain": [
       "       소계       최근증가율     인구수     한국인    외국인    고령자     외국인비율      고령자비율  \\\n",
       "구별                                                                         \n",
       "강남구  3238  150.619195  561052  556164   4888  65060  0.871220  11.596073   \n",
       "양천구  2482   34.671731  475018  471154   3864  55234  0.813443  11.627770   \n",
       "용산구  2096   53.216374  244444  229161  15283  36882  6.252148  15.088118   \n",
       "서초구  2297   63.371266  445401  441102   4299  53205  0.965198  11.945415   \n",
       "은평구  2108   85.237258  491202  486794   4408  74559  0.897390  15.178888   \n",
       "\n",
       "       CCTV비율           오차  \n",
       "구별                          \n",
       "강남구  0.577130  1549.200326  \n",
       "양천구  0.522507   888.832166  \n",
       "용산구  0.857456   759.128697  \n",
       "서초구  0.515715   736.753199  \n",
       "은평구  0.429151   496.842700  "
      ],
      "text/html": [
       "<div>\n",
       "<style scoped>\n",
       "    .dataframe tbody tr th:only-of-type {\n",
       "        vertical-align: middle;\n",
       "    }\n",
       "\n",
       "    .dataframe tbody tr th {\n",
       "        vertical-align: top;\n",
       "    }\n",
       "\n",
       "    .dataframe thead th {\n",
       "        text-align: right;\n",
       "    }\n",
       "</style>\n",
       "<table border=\"1\" class=\"dataframe\">\n",
       "  <thead>\n",
       "    <tr style=\"text-align: right;\">\n",
       "      <th></th>\n",
       "      <th>소계</th>\n",
       "      <th>최근증가율</th>\n",
       "      <th>인구수</th>\n",
       "      <th>한국인</th>\n",
       "      <th>외국인</th>\n",
       "      <th>고령자</th>\n",
       "      <th>외국인비율</th>\n",
       "      <th>고령자비율</th>\n",
       "      <th>CCTV비율</th>\n",
       "      <th>오차</th>\n",
       "    </tr>\n",
       "    <tr>\n",
       "      <th>구별</th>\n",
       "      <th></th>\n",
       "      <th></th>\n",
       "      <th></th>\n",
       "      <th></th>\n",
       "      <th></th>\n",
       "      <th></th>\n",
       "      <th></th>\n",
       "      <th></th>\n",
       "      <th></th>\n",
       "      <th></th>\n",
       "    </tr>\n",
       "  </thead>\n",
       "  <tbody>\n",
       "    <tr>\n",
       "      <th>강남구</th>\n",
       "      <td>3238</td>\n",
       "      <td>150.619195</td>\n",
       "      <td>561052</td>\n",
       "      <td>556164</td>\n",
       "      <td>4888</td>\n",
       "      <td>65060</td>\n",
       "      <td>0.871220</td>\n",
       "      <td>11.596073</td>\n",
       "      <td>0.577130</td>\n",
       "      <td>1549.200326</td>\n",
       "    </tr>\n",
       "    <tr>\n",
       "      <th>양천구</th>\n",
       "      <td>2482</td>\n",
       "      <td>34.671731</td>\n",
       "      <td>475018</td>\n",
       "      <td>471154</td>\n",
       "      <td>3864</td>\n",
       "      <td>55234</td>\n",
       "      <td>0.813443</td>\n",
       "      <td>11.627770</td>\n",
       "      <td>0.522507</td>\n",
       "      <td>888.832166</td>\n",
       "    </tr>\n",
       "    <tr>\n",
       "      <th>용산구</th>\n",
       "      <td>2096</td>\n",
       "      <td>53.216374</td>\n",
       "      <td>244444</td>\n",
       "      <td>229161</td>\n",
       "      <td>15283</td>\n",
       "      <td>36882</td>\n",
       "      <td>6.252148</td>\n",
       "      <td>15.088118</td>\n",
       "      <td>0.857456</td>\n",
       "      <td>759.128697</td>\n",
       "    </tr>\n",
       "    <tr>\n",
       "      <th>서초구</th>\n",
       "      <td>2297</td>\n",
       "      <td>63.371266</td>\n",
       "      <td>445401</td>\n",
       "      <td>441102</td>\n",
       "      <td>4299</td>\n",
       "      <td>53205</td>\n",
       "      <td>0.965198</td>\n",
       "      <td>11.945415</td>\n",
       "      <td>0.515715</td>\n",
       "      <td>736.753199</td>\n",
       "    </tr>\n",
       "    <tr>\n",
       "      <th>은평구</th>\n",
       "      <td>2108</td>\n",
       "      <td>85.237258</td>\n",
       "      <td>491202</td>\n",
       "      <td>486794</td>\n",
       "      <td>4408</td>\n",
       "      <td>74559</td>\n",
       "      <td>0.897390</td>\n",
       "      <td>15.178888</td>\n",
       "      <td>0.429151</td>\n",
       "      <td>496.842700</td>\n",
       "    </tr>\n",
       "  </tbody>\n",
       "</table>\n",
       "</div>"
      ]
     },
     "execution_count": 263,
     "metadata": {},
     "output_type": "execute_result"
    }
   ],
   "execution_count": 263
  },
  {
   "cell_type": "code",
   "source": [
    "### CCTV가 적은 구\n",
    "df_sort_t.head()"
   ],
   "metadata": {
    "id": "hWaVRHmyMoLW",
    "outputId": "b0987343-6044-41d1-bfbc-fdfe1a124664",
    "colab": {
     "base_uri": "https://localhost:8080/",
     "height": 466
    },
    "ExecuteTime": {
     "end_time": "2025-05-26T12:57:14.339117Z",
     "start_time": "2025-05-26T12:57:14.309526Z"
    }
   },
   "id": "hWaVRHmyMoLW",
   "outputs": [
    {
     "data": {
      "text/plain": [
       "       소계       최근증가율     인구수     한국인    외국인    고령자     외국인비율      고령자비율  \\\n",
       "구별                                                                         \n",
       "강서구   911  134.793814  608255  601691   6564  76032  1.079153  12.500021   \n",
       "송파구  1081  104.347826  671173  664496   6677  76582  0.994825  11.410173   \n",
       "도봉구   825  246.638655  346234  344166   2068  53488  0.597284  15.448512   \n",
       "중랑구   916   79.960707  412780  408226   4554  59262  1.103251  14.356800   \n",
       "광진구   878   53.228621  372298  357703  14595  43953  3.920247  11.805865   \n",
       "\n",
       "       CCTV비율          오차  \n",
       "구별                         \n",
       "강서구  0.149773 -830.268578  \n",
       "송파구  0.161061 -730.205628  \n",
       "도봉구  0.238278 -625.016861  \n",
       "중랑구  0.221910 -607.986645  \n",
       "광진구  0.235833 -600.988527  "
      ],
      "text/html": [
       "<div>\n",
       "<style scoped>\n",
       "    .dataframe tbody tr th:only-of-type {\n",
       "        vertical-align: middle;\n",
       "    }\n",
       "\n",
       "    .dataframe tbody tr th {\n",
       "        vertical-align: top;\n",
       "    }\n",
       "\n",
       "    .dataframe thead th {\n",
       "        text-align: right;\n",
       "    }\n",
       "</style>\n",
       "<table border=\"1\" class=\"dataframe\">\n",
       "  <thead>\n",
       "    <tr style=\"text-align: right;\">\n",
       "      <th></th>\n",
       "      <th>소계</th>\n",
       "      <th>최근증가율</th>\n",
       "      <th>인구수</th>\n",
       "      <th>한국인</th>\n",
       "      <th>외국인</th>\n",
       "      <th>고령자</th>\n",
       "      <th>외국인비율</th>\n",
       "      <th>고령자비율</th>\n",
       "      <th>CCTV비율</th>\n",
       "      <th>오차</th>\n",
       "    </tr>\n",
       "    <tr>\n",
       "      <th>구별</th>\n",
       "      <th></th>\n",
       "      <th></th>\n",
       "      <th></th>\n",
       "      <th></th>\n",
       "      <th></th>\n",
       "      <th></th>\n",
       "      <th></th>\n",
       "      <th></th>\n",
       "      <th></th>\n",
       "      <th></th>\n",
       "    </tr>\n",
       "  </thead>\n",
       "  <tbody>\n",
       "    <tr>\n",
       "      <th>강서구</th>\n",
       "      <td>911</td>\n",
       "      <td>134.793814</td>\n",
       "      <td>608255</td>\n",
       "      <td>601691</td>\n",
       "      <td>6564</td>\n",
       "      <td>76032</td>\n",
       "      <td>1.079153</td>\n",
       "      <td>12.500021</td>\n",
       "      <td>0.149773</td>\n",
       "      <td>-830.268578</td>\n",
       "    </tr>\n",
       "    <tr>\n",
       "      <th>송파구</th>\n",
       "      <td>1081</td>\n",
       "      <td>104.347826</td>\n",
       "      <td>671173</td>\n",
       "      <td>664496</td>\n",
       "      <td>6677</td>\n",
       "      <td>76582</td>\n",
       "      <td>0.994825</td>\n",
       "      <td>11.410173</td>\n",
       "      <td>0.161061</td>\n",
       "      <td>-730.205628</td>\n",
       "    </tr>\n",
       "    <tr>\n",
       "      <th>도봉구</th>\n",
       "      <td>825</td>\n",
       "      <td>246.638655</td>\n",
       "      <td>346234</td>\n",
       "      <td>344166</td>\n",
       "      <td>2068</td>\n",
       "      <td>53488</td>\n",
       "      <td>0.597284</td>\n",
       "      <td>15.448512</td>\n",
       "      <td>0.238278</td>\n",
       "      <td>-625.016861</td>\n",
       "    </tr>\n",
       "    <tr>\n",
       "      <th>중랑구</th>\n",
       "      <td>916</td>\n",
       "      <td>79.960707</td>\n",
       "      <td>412780</td>\n",
       "      <td>408226</td>\n",
       "      <td>4554</td>\n",
       "      <td>59262</td>\n",
       "      <td>1.103251</td>\n",
       "      <td>14.356800</td>\n",
       "      <td>0.221910</td>\n",
       "      <td>-607.986645</td>\n",
       "    </tr>\n",
       "    <tr>\n",
       "      <th>광진구</th>\n",
       "      <td>878</td>\n",
       "      <td>53.228621</td>\n",
       "      <td>372298</td>\n",
       "      <td>357703</td>\n",
       "      <td>14595</td>\n",
       "      <td>43953</td>\n",
       "      <td>3.920247</td>\n",
       "      <td>11.805865</td>\n",
       "      <td>0.235833</td>\n",
       "      <td>-600.988527</td>\n",
       "    </tr>\n",
       "  </tbody>\n",
       "</table>\n",
       "</div>"
      ]
     },
     "execution_count": 264,
     "metadata": {},
     "output_type": "execute_result"
    }
   ],
   "execution_count": 264
  },
  {
   "cell_type": "markdown",
   "source": [
    "### 경향에 따른 색깔 구분 및 이름 추가"
   ],
   "metadata": {
    "id": "RikfUthPLDKe"
   },
   "id": "RikfUthPLDKe"
  },
  {
   "cell_type": "code",
   "source": [
    "### 컬러맵을 추가 하기 위한 서브 패키지 추가\n",
    "from matplotlib.colors import ListedColormap\n",
    "\n",
    "### colormap 사용자 정의\n",
    "color_step=(\"#e74c3c\",\"#2ecc71\",\"#95a9a6\",\"#2ecc71\",\"#3498db\",\"#3489db\")\n",
    "my_cmap=ListedColormap(color_step)"
   ],
   "metadata": {
    "id": "J4jxur57LDWI",
    "ExecuteTime": {
     "end_time": "2025-05-26T12:57:15.053715Z",
     "start_time": "2025-05-26T12:57:15.044121Z"
    }
   },
   "id": "J4jxur57LDWI",
   "outputs": [],
   "execution_count": 265
  },
  {
   "cell_type": "markdown",
   "source": [
    "- 점포도에 색상 추가\n",
    "  - 색상 추가 기준 : c\n",
    "  - 색상 컬러맵 : cmap\n",
    "- 컬러바 추가 : plt.colorbar()\n",
    "- 특정 점에 텍스트 찍기\n",
    "  - plt.text(x축,y축,텍스트,fontsize=폰트크기)\n",
    "    - x축과 y축에 `*1.02`등을 곱하여 간격을 조정 할 수 있음"
   ],
   "metadata": {
    "id": "GiT7bgw7Pt06"
   },
   "id": "GiT7bgw7Pt06"
  },
  {
   "cell_type": "code",
   "source": [
    "def drawGraph():\n",
    "    plt.figure(figsize=(10,10))\n",
    "    ### c=색상 기준 데이터 cmap = 컬러맵\n",
    "    plt.scatter(data_result[\"인구수\"],data_result[\"소계\"],s=50,c=data_result[\"오차\"],cmap=my_cmap)\n",
    "    ### 컬러바 추가\n",
    "    plt.colorbar()\n",
    "    ### 오차 계산 하기\n",
    "    for i in range(5):\n",
    "        plt.text(\n",
    "            df_sort_f[\"인구수\"][i] *1.02,\n",
    "            df_sort_f[\"소계\"][i]*0.98,\n",
    "            df_sort_f.index[i],\n",
    "            fontsize=15\n",
    "            )\n",
    "    for i in range(5):\n",
    "        plt.text(\n",
    "            df_sort_t[\"인구수\"][i] *1.02,\n",
    "            df_sort_t[\"소계\"][i]*0.98,\n",
    "            df_sort_t.index[i],\n",
    "            fontsize=15\n",
    "            )\n",
    "\n",
    "\n",
    "    plt.xlabel(\"인구수\")\n",
    "    plt.ylabel(\"CCTV\")\n",
    "    plt.grid(True)\n",
    "    ### 선형 회귀 추가\n",
    "    plt.plot(fx,f1(fx),ls=\"dashed\",lw=3,color=\"r\")\n",
    "    plt.show()\n",
    "drawGraph()"
   ],
   "metadata": {
    "id": "n4chy7BTNuP6",
    "outputId": "1728d3ac-b67f-4925-dbd5-0c18fd8f7b4c",
    "colab": {
     "base_uri": "https://localhost:8080/",
     "height": 505
    },
    "ExecuteTime": {
     "end_time": "2025-05-26T12:58:36.369766Z",
     "start_time": "2025-05-26T12:58:35.304593Z"
    }
   },
   "id": "n4chy7BTNuP6",
   "outputs": [
    {
     "data": {
      "text/plain": [
       "<Figure size 1000x1000 with 2 Axes>"
      ],
      "image/png": "[encoded data removed]"
     },
     "metadata": {},
     "output_type": "display_data"
    }
   ],
   "execution_count": 271
  },
  {
   "cell_type": "markdown",
   "source": [
    "데이터 저장하기"
   ],
   "metadata": {
    "id": "3JXADCozLDi2"
   },
   "id": "3JXADCozLDi2"
  },
  {
   "cell_type": "code",
   "source": [
    "if \"Dongmin\" in hostname:\n",
    "    data_result.to_csv(\"../../data/01.Seoul_CCTV/01.result.csv\",sep=\",\",encoding=\"UTF-8\")\n",
    "else:\n",
    "    data_result.to_csv(\"/content/data/01.result.csv\",sep=\",\",encoding=\"UTF-8\")"
   ],
   "metadata": {
    "id": "efVuO9kHLDun",
    "ExecuteTime": {
     "end_time": "2025-05-26T12:57:17.226838Z",
     "start_time": "2025-05-26T12:57:17.203649Z"
    }
   },
   "id": "efVuO9kHLDun",
   "outputs": [],
   "execution_count": 267
  }
 ],
 "metadata": {
  "colab": {
   "provenance": []
  },
  "kernelspec": {
   "display_name": "ds_study",
   "language": "python",
   "name": "python3"
  },
  "language_info": {
   "codemirror_mode": {
    "name": "ipython",
    "version": 3
   },
   "file_extension": ".py",
   "mimetype": "text/x-python",
   "name": "python",
   "nbconvert_exporter": "python",
   "pygments_lexer": "ipython3",
   "version": "3.8.20"
  }
 },
 "nbformat": 4,
 "nbformat_minor": 5
}
