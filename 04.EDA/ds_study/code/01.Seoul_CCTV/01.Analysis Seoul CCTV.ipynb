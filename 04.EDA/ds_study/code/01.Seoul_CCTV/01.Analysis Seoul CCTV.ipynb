{
 "cells": [
  {
   "cell_type": "markdown",
   "id": "45d7da06-aed9-4b91-86ac-dde526badd44",
   "metadata": {},
   "source": [
    "# 01, Analysis Seoul CCTV"
   ]
  },
  {
   "cell_type": "code",
   "execution_count": 1,
   "id": "444c7990-22bb-4192-adcf-9b2bb1c854aa",
   "metadata": {},
   "outputs": [],
   "source": [
    "### 데이터 분석을 위한 패키지 : Pandas \n",
    "import pandas as pd"
   ]
  },
  {
   "cell_type": "markdown",
   "id": "fa34aca5-bef6-48fe-8dd5-38dad58f980f",
   "metadata": {},
   "source": [
    "### 미설치 시 설치 방법 \n",
    " !conda install -y pandas"
   ]
  },
  {
   "cell_type": "code",
   "execution_count": 2,
   "id": "a0a0113b-a75b-4e40-b4c2-f755c92178a6",
   "metadata": {},
   "outputs": [],
   "source": [
    "### CSV 파일 읽기\n",
    "CCTV_Seoul = pd.read_csv(\"../../data/01.Seoul_CCTV/01. Seoul_CCTV.csv\", encoding=\"UTF-8\")"
   ]
  },
  {
   "cell_type": "code",
   "execution_count": 3,
   "id": "212cc10c-c9f3-4996-aa52-798641b98fa5",
   "metadata": {},
   "outputs": [
    {
     "data": {
      "text/html": [
       "<div>\n",
       "<style scoped>\n",
       "    .dataframe tbody tr th:only-of-type {\n",
       "        vertical-align: middle;\n",
       "    }\n",
       "\n",
       "    .dataframe tbody tr th {\n",
       "        vertical-align: top;\n",
       "    }\n",
       "\n",
       "    .dataframe thead th {\n",
       "        text-align: right;\n",
       "    }\n",
       "</style>\n",
       "<table border=\"1\" class=\"dataframe\">\n",
       "  <thead>\n",
       "    <tr style=\"text-align: right;\">\n",
       "      <th></th>\n",
       "      <th>기관명</th>\n",
       "      <th>소계</th>\n",
       "      <th>2013년도 이전</th>\n",
       "      <th>2014년</th>\n",
       "      <th>2015년</th>\n",
       "      <th>2016년</th>\n",
       "    </tr>\n",
       "  </thead>\n",
       "  <tbody>\n",
       "    <tr>\n",
       "      <th>0</th>\n",
       "      <td>강남구</td>\n",
       "      <td>3238</td>\n",
       "      <td>1292</td>\n",
       "      <td>430</td>\n",
       "      <td>584</td>\n",
       "      <td>932</td>\n",
       "    </tr>\n",
       "    <tr>\n",
       "      <th>1</th>\n",
       "      <td>강동구</td>\n",
       "      <td>1010</td>\n",
       "      <td>379</td>\n",
       "      <td>99</td>\n",
       "      <td>155</td>\n",
       "      <td>377</td>\n",
       "    </tr>\n",
       "    <tr>\n",
       "      <th>2</th>\n",
       "      <td>강북구</td>\n",
       "      <td>831</td>\n",
       "      <td>369</td>\n",
       "      <td>120</td>\n",
       "      <td>138</td>\n",
       "      <td>204</td>\n",
       "    </tr>\n",
       "    <tr>\n",
       "      <th>3</th>\n",
       "      <td>강서구</td>\n",
       "      <td>911</td>\n",
       "      <td>388</td>\n",
       "      <td>258</td>\n",
       "      <td>184</td>\n",
       "      <td>81</td>\n",
       "    </tr>\n",
       "    <tr>\n",
       "      <th>4</th>\n",
       "      <td>관악구</td>\n",
       "      <td>2109</td>\n",
       "      <td>846</td>\n",
       "      <td>260</td>\n",
       "      <td>390</td>\n",
       "      <td>613</td>\n",
       "    </tr>\n",
       "  </tbody>\n",
       "</table>\n",
       "</div>"
      ],
      "text/plain": [
       "   기관명    소계  2013년도 이전  2014년  2015년  2016년\n",
       "0  강남구  3238       1292    430    584    932\n",
       "1  강동구  1010        379     99    155    377\n",
       "2  강북구   831        369    120    138    204\n",
       "3  강서구   911        388    258    184     81\n",
       "4  관악구  2109        846    260    390    613"
      ]
     },
     "execution_count": 3,
     "metadata": {},
     "output_type": "execute_result"
    }
   ],
   "source": [
    "CCTV_Seoul.head()\n",
    "### 2행 만 읽기 CCTV_Seoul.head(2) "
   ]
  },
  {
   "cell_type": "code",
   "execution_count": 4,
   "id": "5ce05284-25e1-4634-8f0e-d7107e336759",
   "metadata": {},
   "outputs": [
    {
     "data": {
      "text/html": [
       "<div>\n",
       "<style scoped>\n",
       "    .dataframe tbody tr th:only-of-type {\n",
       "        vertical-align: middle;\n",
       "    }\n",
       "\n",
       "    .dataframe tbody tr th {\n",
       "        vertical-align: top;\n",
       "    }\n",
       "\n",
       "    .dataframe thead th {\n",
       "        text-align: right;\n",
       "    }\n",
       "</style>\n",
       "<table border=\"1\" class=\"dataframe\">\n",
       "  <thead>\n",
       "    <tr style=\"text-align: right;\">\n",
       "      <th></th>\n",
       "      <th>기관명</th>\n",
       "      <th>소계</th>\n",
       "      <th>2013년도 이전</th>\n",
       "      <th>2014년</th>\n",
       "      <th>2015년</th>\n",
       "      <th>2016년</th>\n",
       "    </tr>\n",
       "  </thead>\n",
       "  <tbody>\n",
       "    <tr>\n",
       "      <th>20</th>\n",
       "      <td>용산구</td>\n",
       "      <td>2096</td>\n",
       "      <td>1368</td>\n",
       "      <td>218</td>\n",
       "      <td>112</td>\n",
       "      <td>398</td>\n",
       "    </tr>\n",
       "    <tr>\n",
       "      <th>21</th>\n",
       "      <td>은평구</td>\n",
       "      <td>2108</td>\n",
       "      <td>1138</td>\n",
       "      <td>224</td>\n",
       "      <td>278</td>\n",
       "      <td>468</td>\n",
       "    </tr>\n",
       "    <tr>\n",
       "      <th>22</th>\n",
       "      <td>종로구</td>\n",
       "      <td>1619</td>\n",
       "      <td>464</td>\n",
       "      <td>314</td>\n",
       "      <td>211</td>\n",
       "      <td>630</td>\n",
       "    </tr>\n",
       "    <tr>\n",
       "      <th>23</th>\n",
       "      <td>중구</td>\n",
       "      <td>1023</td>\n",
       "      <td>413</td>\n",
       "      <td>190</td>\n",
       "      <td>72</td>\n",
       "      <td>348</td>\n",
       "    </tr>\n",
       "    <tr>\n",
       "      <th>24</th>\n",
       "      <td>중랑구</td>\n",
       "      <td>916</td>\n",
       "      <td>509</td>\n",
       "      <td>121</td>\n",
       "      <td>177</td>\n",
       "      <td>109</td>\n",
       "    </tr>\n",
       "  </tbody>\n",
       "</table>\n",
       "</div>"
      ],
      "text/plain": [
       "    기관명    소계  2013년도 이전  2014년  2015년  2016년\n",
       "20  용산구  2096       1368    218    112    398\n",
       "21  은평구  2108       1138    224    278    468\n",
       "22  종로구  1619        464    314    211    630\n",
       "23   중구  1023        413    190     72    348\n",
       "24  중랑구   916        509    121    177    109"
      ]
     },
     "execution_count": 4,
     "metadata": {},
     "output_type": "execute_result"
    }
   ],
   "source": [
    "### 끝에 줄만 읽기\n",
    "CCTV_Seoul.tail()"
   ]
  },
  {
   "cell_type": "code",
   "execution_count": 5,
   "id": "bee3c2e0-335f-4840-a805-7e8ac3f0311b",
   "metadata": {},
   "outputs": [
    {
     "data": {
      "text/plain": [
       "Index(['기관명', '소계', '2013년도 이전', '2014년', '2015년', '2016년'], dtype='object')"
      ]
     },
     "execution_count": 5,
     "metadata": {},
     "output_type": "execute_result"
    }
   ],
   "source": [
    "### 컬럼 명의 변경 \n",
    "CCTV_Seoul.columns"
   ]
  },
  {
   "cell_type": "code",
   "execution_count": 6,
   "id": "ecd9c3c6-2647-4a7d-8f5a-16ba8f84a9a0",
   "metadata": {},
   "outputs": [
    {
     "data": {
      "text/plain": [
       "'기관명'"
      ]
     },
     "execution_count": 6,
     "metadata": {},
     "output_type": "execute_result"
    }
   ],
   "source": [
    "### 특정 컬럼 출력 \n",
    "CCTV_Seoul.columns[0]"
   ]
  },
  {
   "cell_type": "code",
   "execution_count": 7,
   "id": "df918783-7358-48c4-b1e9-ca58fd2aec71",
   "metadata": {},
   "outputs": [],
   "source": [
    "### 컬럼명 변경하기 \n",
    "CCTV_Seoul.rename(columns={CCTV_Seoul.columns[0] : \"구별\"},inplace=True)"
   ]
  },
  {
   "cell_type": "code",
   "execution_count": 8,
   "id": "af593be5-c3b4-4ab9-822f-de93c8d09151",
   "metadata": {},
   "outputs": [
    {
     "data": {
      "text/html": [
       "<div>\n",
       "<style scoped>\n",
       "    .dataframe tbody tr th:only-of-type {\n",
       "        vertical-align: middle;\n",
       "    }\n",
       "\n",
       "    .dataframe tbody tr th {\n",
       "        vertical-align: top;\n",
       "    }\n",
       "\n",
       "    .dataframe thead th {\n",
       "        text-align: right;\n",
       "    }\n",
       "</style>\n",
       "<table border=\"1\" class=\"dataframe\">\n",
       "  <thead>\n",
       "    <tr style=\"text-align: right;\">\n",
       "      <th></th>\n",
       "      <th>구별</th>\n",
       "      <th>소계</th>\n",
       "      <th>2013년도 이전</th>\n",
       "      <th>2014년</th>\n",
       "      <th>2015년</th>\n",
       "      <th>2016년</th>\n",
       "    </tr>\n",
       "  </thead>\n",
       "  <tbody>\n",
       "    <tr>\n",
       "      <th>0</th>\n",
       "      <td>강남구</td>\n",
       "      <td>3238</td>\n",
       "      <td>1292</td>\n",
       "      <td>430</td>\n",
       "      <td>584</td>\n",
       "      <td>932</td>\n",
       "    </tr>\n",
       "    <tr>\n",
       "      <th>1</th>\n",
       "      <td>강동구</td>\n",
       "      <td>1010</td>\n",
       "      <td>379</td>\n",
       "      <td>99</td>\n",
       "      <td>155</td>\n",
       "      <td>377</td>\n",
       "    </tr>\n",
       "    <tr>\n",
       "      <th>2</th>\n",
       "      <td>강북구</td>\n",
       "      <td>831</td>\n",
       "      <td>369</td>\n",
       "      <td>120</td>\n",
       "      <td>138</td>\n",
       "      <td>204</td>\n",
       "    </tr>\n",
       "    <tr>\n",
       "      <th>3</th>\n",
       "      <td>강서구</td>\n",
       "      <td>911</td>\n",
       "      <td>388</td>\n",
       "      <td>258</td>\n",
       "      <td>184</td>\n",
       "      <td>81</td>\n",
       "    </tr>\n",
       "    <tr>\n",
       "      <th>4</th>\n",
       "      <td>관악구</td>\n",
       "      <td>2109</td>\n",
       "      <td>846</td>\n",
       "      <td>260</td>\n",
       "      <td>390</td>\n",
       "      <td>613</td>\n",
       "    </tr>\n",
       "  </tbody>\n",
       "</table>\n",
       "</div>"
      ],
      "text/plain": [
       "    구별    소계  2013년도 이전  2014년  2015년  2016년\n",
       "0  강남구  3238       1292    430    584    932\n",
       "1  강동구  1010        379     99    155    377\n",
       "2  강북구   831        369    120    138    204\n",
       "3  강서구   911        388    258    184     81\n",
       "4  관악구  2109        846    260    390    613"
      ]
     },
     "execution_count": 8,
     "metadata": {},
     "output_type": "execute_result"
    }
   ],
   "source": [
    "CCTV_Seoul.head()"
   ]
  },
  {
   "cell_type": "code",
   "execution_count": 9,
   "id": "9ad6bfb6-ad2b-4489-9b24-1445444d659e",
   "metadata": {},
   "outputs": [
    {
     "data": {
      "text/html": [
       "<div>\n",
       "<style scoped>\n",
       "    .dataframe tbody tr th:only-of-type {\n",
       "        vertical-align: middle;\n",
       "    }\n",
       "\n",
       "    .dataframe tbody tr th {\n",
       "        vertical-align: top;\n",
       "    }\n",
       "\n",
       "    .dataframe thead th {\n",
       "        text-align: right;\n",
       "    }\n",
       "</style>\n",
       "<table border=\"1\" class=\"dataframe\">\n",
       "  <thead>\n",
       "    <tr style=\"text-align: right;\">\n",
       "      <th></th>\n",
       "      <th>자치구</th>\n",
       "      <th>계</th>\n",
       "      <th>계.1</th>\n",
       "      <th>계.2</th>\n",
       "      <th>65세이상고령자</th>\n",
       "    </tr>\n",
       "  </thead>\n",
       "  <tbody>\n",
       "    <tr>\n",
       "      <th>0</th>\n",
       "      <td>합계</td>\n",
       "      <td>10124579</td>\n",
       "      <td>9857426</td>\n",
       "      <td>267153</td>\n",
       "      <td>1365126</td>\n",
       "    </tr>\n",
       "    <tr>\n",
       "      <th>1</th>\n",
       "      <td>종로구</td>\n",
       "      <td>164257</td>\n",
       "      <td>154770</td>\n",
       "      <td>9487</td>\n",
       "      <td>26182</td>\n",
       "    </tr>\n",
       "    <tr>\n",
       "      <th>2</th>\n",
       "      <td>중구</td>\n",
       "      <td>134593</td>\n",
       "      <td>125709</td>\n",
       "      <td>8884</td>\n",
       "      <td>21384</td>\n",
       "    </tr>\n",
       "    <tr>\n",
       "      <th>3</th>\n",
       "      <td>용산구</td>\n",
       "      <td>244444</td>\n",
       "      <td>229161</td>\n",
       "      <td>15283</td>\n",
       "      <td>36882</td>\n",
       "    </tr>\n",
       "    <tr>\n",
       "      <th>4</th>\n",
       "      <td>성동구</td>\n",
       "      <td>312711</td>\n",
       "      <td>304808</td>\n",
       "      <td>7903</td>\n",
       "      <td>41273</td>\n",
       "    </tr>\n",
       "  </tbody>\n",
       "</table>\n",
       "</div>"
      ],
      "text/plain": [
       "   자치구         계      계.1     계.2  65세이상고령자\n",
       "0   합계  10124579  9857426  267153   1365126\n",
       "1  종로구    164257   154770    9487     26182\n",
       "2   중구    134593   125709    8884     21384\n",
       "3  용산구    244444   229161   15283     36882\n",
       "4  성동구    312711   304808    7903     41273"
      ]
     },
     "execution_count": 9,
     "metadata": {},
     "output_type": "execute_result"
    }
   ],
   "source": [
    "### 엑셀 파일 읽기\n",
    "pop_Seoul = pd.read_excel(\"../../data/01.Seoul_CCTV/01. Seoul_Population.xls\",header=2,usecols=\"B,D,G,J,N\")\n",
    "pop_Seoul.head()"
   ]
  },
  {
   "cell_type": "code",
   "execution_count": 10,
   "id": "d94dd209-5b90-4cda-a0b7-7c93b93b0d3c",
   "metadata": {},
   "outputs": [],
   "source": [
    "pop_Seoul.rename({pop_Seoul.columns[0]:\"구별\"},inplace=True)"
   ]
  },
  {
   "cell_type": "code",
   "execution_count": 11,
   "id": "c673b575-53fc-4cdd-ae19-d3fc29c46b00",
   "metadata": {},
   "outputs": [
    {
     "data": {
      "text/html": [
       "<div>\n",
       "<style scoped>\n",
       "    .dataframe tbody tr th:only-of-type {\n",
       "        vertical-align: middle;\n",
       "    }\n",
       "\n",
       "    .dataframe tbody tr th {\n",
       "        vertical-align: top;\n",
       "    }\n",
       "\n",
       "    .dataframe thead th {\n",
       "        text-align: right;\n",
       "    }\n",
       "</style>\n",
       "<table border=\"1\" class=\"dataframe\">\n",
       "  <thead>\n",
       "    <tr style=\"text-align: right;\">\n",
       "      <th></th>\n",
       "      <th>자치구</th>\n",
       "      <th>계</th>\n",
       "      <th>계.1</th>\n",
       "      <th>계.2</th>\n",
       "      <th>65세이상고령자</th>\n",
       "    </tr>\n",
       "  </thead>\n",
       "  <tbody>\n",
       "    <tr>\n",
       "      <th>0</th>\n",
       "      <td>합계</td>\n",
       "      <td>10124579</td>\n",
       "      <td>9857426</td>\n",
       "      <td>267153</td>\n",
       "      <td>1365126</td>\n",
       "    </tr>\n",
       "    <tr>\n",
       "      <th>1</th>\n",
       "      <td>종로구</td>\n",
       "      <td>164257</td>\n",
       "      <td>154770</td>\n",
       "      <td>9487</td>\n",
       "      <td>26182</td>\n",
       "    </tr>\n",
       "    <tr>\n",
       "      <th>2</th>\n",
       "      <td>중구</td>\n",
       "      <td>134593</td>\n",
       "      <td>125709</td>\n",
       "      <td>8884</td>\n",
       "      <td>21384</td>\n",
       "    </tr>\n",
       "    <tr>\n",
       "      <th>3</th>\n",
       "      <td>용산구</td>\n",
       "      <td>244444</td>\n",
       "      <td>229161</td>\n",
       "      <td>15283</td>\n",
       "      <td>36882</td>\n",
       "    </tr>\n",
       "    <tr>\n",
       "      <th>4</th>\n",
       "      <td>성동구</td>\n",
       "      <td>312711</td>\n",
       "      <td>304808</td>\n",
       "      <td>7903</td>\n",
       "      <td>41273</td>\n",
       "    </tr>\n",
       "  </tbody>\n",
       "</table>\n",
       "</div>"
      ],
      "text/plain": [
       "   자치구         계      계.1     계.2  65세이상고령자\n",
       "0   합계  10124579  9857426  267153   1365126\n",
       "1  종로구    164257   154770    9487     26182\n",
       "2   중구    134593   125709    8884     21384\n",
       "3  용산구    244444   229161   15283     36882\n",
       "4  성동구    312711   304808    7903     41273"
      ]
     },
     "execution_count": 11,
     "metadata": {},
     "output_type": "execute_result"
    }
   ],
   "source": [
    "pop_Seoul.head()"
   ]
  },
  {
   "cell_type": "markdown",
   "id": "c66b8c5a-72a6-4364-a948-baac6ade4b33",
   "metadata": {},
   "source": [
    "# Pandas의 기초\n",
    "- 파이썬에서 R만큼의 강력한 데이터 핸들링을제공하는 모듈\n",
    "- 단일 프로세스에서는 최대 효율\n",
    "- 코딩이 가능한 엑셀"
   ]
  },
  {
   "cell_type": "code",
   "execution_count": 12,
   "id": "e213a426-0842-4b62-9473-b97b344b3d36",
   "metadata": {},
   "outputs": [],
   "source": [
    "import pandas as pd\n",
    "import numpy as np"
   ]
  },
  {
   "cell_type": "markdown",
   "id": "72d094d8-2953-4258-8f6f-c080595271de",
   "metadata": {},
   "source": [
    "- pandas는 통상적으로 pd \n",
    "- numpy는 통상적으로 np"
   ]
  },
  {
   "cell_type": "markdown",
   "id": "a7812615-754c-447a-8943-45cc6672cfb6",
   "metadata": {},
   "source": [
    "# Series\n",
    "- index 와 Value 로 이뤄짐\n",
    "- 한 가지 데이터 형만 가질 수 있음 "
   ]
  },
  {
   "cell_type": "code",
   "execution_count": 2,
   "id": "a250f9d3-82c4-4761-a0b0-e28d3b56febb",
   "metadata": {},
   "outputs": [
    {
     "data": {
      "text/plain": [
       "0    1\n",
       "1    2\n",
       "2    3\n",
       "3    4\n",
       "dtype: int64"
      ]
     },
     "execution_count": 2,
     "metadata": {},
     "output_type": "execute_result"
    }
   ],
   "source": [
    "pd.Series([1,2,3,4])"
   ]
  },
  {
   "cell_type": "code",
   "execution_count": 8,
   "id": "6a2bf8d6-661d-4bfb-8e0e-8947173e1b1c",
   "metadata": {},
   "outputs": [
    {
     "data": {
      "text/plain": [
       "0    1.0\n",
       "1    2.0\n",
       "2    3.0\n",
       "3    4.0\n",
       "dtype: float64"
      ]
     },
     "execution_count": 8,
     "metadata": {},
     "output_type": "execute_result"
    }
   ],
   "source": [
    "pd.Series([1,2,3,4] , dtype=np.float64)"
   ]
  },
  {
   "cell_type": "code",
   "execution_count": 10,
   "id": "8ce16cf1-58e2-492d-af9f-daa56aa76f30",
   "metadata": {},
   "outputs": [
    {
     "data": {
      "text/plain": [
       "0    1\n",
       "1    2\n",
       "2    3\n",
       "3    4\n",
       "dtype: object"
      ]
     },
     "execution_count": 10,
     "metadata": {},
     "output_type": "execute_result"
    }
   ],
   "source": [
    "### object : String과 같음\n",
    "pd.Series([1,2,3,4] , dtype=str)"
   ]
  },
  {
   "cell_type": "code",
   "execution_count": 12,
   "id": "01460592-fdb5-4cc7-80a8-d86db042aaeb",
   "metadata": {},
   "outputs": [
    {
     "data": {
      "text/plain": [
       "0    1\n",
       "1    2\n",
       "2    3\n",
       "3    4\n",
       "dtype: int32"
      ]
     },
     "execution_count": 12,
     "metadata": {},
     "output_type": "execute_result"
    }
   ],
   "source": [
    "### numpy로 선언\n",
    "pd.Series(np.array([1,2,3,4]))"
   ]
  },
  {
   "cell_type": "code",
   "execution_count": 14,
   "id": "35b87b69-b371-4ad7-a6e3-c9ead3db55cc",
   "metadata": {},
   "outputs": [
    {
     "data": {
      "text/plain": [
       "Key    Value\n",
       "dtype: object"
      ]
     },
     "execution_count": 14,
     "metadata": {},
     "output_type": "execute_result"
    }
   ],
   "source": [
    "### 딕셔너리 선언 \n",
    "pd.Series({\"Key\":\"Value\"})"
   ]
  },
  {
   "cell_type": "code",
   "execution_count": 18,
   "id": "9261888f-1c3b-41cf-885f-63aa075ab1b5",
   "metadata": {},
   "outputs": [
    {
     "data": {
      "text/plain": [
       "0    1\n",
       "1    2\n",
       "2    3\n",
       "3    4\n",
       "4    5\n",
       "dtype: object"
      ]
     },
     "execution_count": 18,
     "metadata": {},
     "output_type": "execute_result"
    }
   ],
   "source": [
    "### 숫자와 문자열을 동시에 선언가능 - 결과값 : object \n",
    "data=pd.Series([1,2,3,4,\"5\"])\n",
    "data"
   ]
  },
  {
   "cell_type": "code",
   "execution_count": 20,
   "id": "fd265205-280a-437e-827c-19cdfbb921c1",
   "metadata": {},
   "outputs": [
    {
     "data": {
      "text/plain": [
       "0    1\n",
       "1    0\n",
       "2    1\n",
       "3    0\n",
       "dtype: int64"
      ]
     },
     "execution_count": 20,
     "metadata": {},
     "output_type": "execute_result"
    }
   ],
   "source": [
    "### 짝수만 찾기 \n",
    "data=pd.Series([1,2,3,4])\n",
    "data%2"
   ]
  },
  {
   "cell_type": "markdown",
   "id": "8e79dc7d-0769-4f15-94c3-39504c9243a1",
   "metadata": {},
   "source": [
    "### 날짜데이터 \n",
    "- 날짜 : 문자열로 선언\n",
    "- periods : 언제까지 할건지"
   ]
  },
  {
   "cell_type": "code",
   "execution_count": 22,
   "id": "cd5ae4a7-4a07-439a-83b8-1a4381a82707",
   "metadata": {},
   "outputs": [
    {
     "data": {
      "text/plain": [
       "DatetimeIndex(['2025-05-24', '2025-05-25', '2025-05-26', '2025-05-27',\n",
       "               '2025-05-28', '2025-05-29'],\n",
       "              dtype='datetime64[ns]', freq='D')"
      ]
     },
     "execution_count": 22,
     "metadata": {},
     "output_type": "execute_result"
    }
   ],
   "source": [
    "pd.date_range(\"20250524\",periods=6)"
   ]
  },
  {
   "cell_type": "markdown",
   "id": "465f94e0",
   "metadata": {},
   "source": [
    "# DataFrame\n",
    "- pd.DataFrame()\n",
    "- index, value, column으로 이뤄짐"
   ]
  },
  {
   "cell_type": "code",
   "execution_count": 14,
   "id": "7533fbfc",
   "metadata": {},
   "outputs": [],
   "source": [
    "### 표준 정규분포에서 샘플링한 난수 생성 \n",
    "data=np.random.randn(6,4)\n",
    "dates=pd.date_range(\"20250524\",periods=6)\n",
    "\n",
    "df=pd.DataFrame(data,index=dates,columns=[\"A\",\"B\",\"C\",\"D\"])"
   ]
  },
  {
   "cell_type": "markdown",
   "id": "b0605c13",
   "metadata": {},
   "source": [
    "### 데이터 프레임 정보 탐색"
   ]
  },
  {
   "cell_type": "markdown",
   "id": "0d7c2567",
   "metadata": {},
   "source": [
    "#### df.head()\n",
    "-  위쪽 데이터 출력"
   ]
  },
  {
   "cell_type": "code",
   "execution_count": null,
   "id": "f5821df3",
   "metadata": {},
   "outputs": [
    {
     "data": {
      "text/html": [
       "<div>\n",
       "<style scoped>\n",
       "    .dataframe tbody tr th:only-of-type {\n",
       "        vertical-align: middle;\n",
       "    }\n",
       "\n",
       "    .dataframe tbody tr th {\n",
       "        vertical-align: top;\n",
       "    }\n",
       "\n",
       "    .dataframe thead th {\n",
       "        text-align: right;\n",
       "    }\n",
       "</style>\n",
       "<table border=\"1\" class=\"dataframe\">\n",
       "  <thead>\n",
       "    <tr style=\"text-align: right;\">\n",
       "      <th></th>\n",
       "      <th>A</th>\n",
       "      <th>B</th>\n",
       "      <th>C</th>\n",
       "      <th>D</th>\n",
       "    </tr>\n",
       "  </thead>\n",
       "  <tbody>\n",
       "    <tr>\n",
       "      <th>2025-05-24</th>\n",
       "      <td>1.867515</td>\n",
       "      <td>-2.775664</td>\n",
       "      <td>-1.864494</td>\n",
       "      <td>1.907741</td>\n",
       "    </tr>\n",
       "    <tr>\n",
       "      <th>2025-05-25</th>\n",
       "      <td>-0.275555</td>\n",
       "      <td>1.016210</td>\n",
       "      <td>-0.971588</td>\n",
       "      <td>0.914000</td>\n",
       "    </tr>\n",
       "    <tr>\n",
       "      <th>2025-05-26</th>\n",
       "      <td>-0.937921</td>\n",
       "      <td>0.820903</td>\n",
       "      <td>0.199260</td>\n",
       "      <td>-1.616115</td>\n",
       "    </tr>\n",
       "    <tr>\n",
       "      <th>2025-05-27</th>\n",
       "      <td>1.130531</td>\n",
       "      <td>-0.051458</td>\n",
       "      <td>1.464863</td>\n",
       "      <td>-0.585951</td>\n",
       "    </tr>\n",
       "    <tr>\n",
       "      <th>2025-05-28</th>\n",
       "      <td>1.053450</td>\n",
       "      <td>1.801555</td>\n",
       "      <td>0.312656</td>\n",
       "      <td>0.045946</td>\n",
       "    </tr>\n",
       "  </tbody>\n",
       "</table>\n",
       "</div>"
      ],
      "text/plain": [
       "                   A         B         C         D\n",
       "2025-05-24  1.867515 -2.775664 -1.864494  1.907741\n",
       "2025-05-25 -0.275555  1.016210 -0.971588  0.914000\n",
       "2025-05-26 -0.937921  0.820903  0.199260 -1.616115\n",
       "2025-05-27  1.130531 -0.051458  1.464863 -0.585951\n",
       "2025-05-28  1.053450  1.801555  0.312656  0.045946"
      ]
     },
     "execution_count": 15,
     "metadata": {},
     "output_type": "execute_result"
    }
   ],
   "source": [
    "df.head()"
   ]
  },
  {
   "cell_type": "markdown",
   "id": "17c519a0",
   "metadata": {},
   "source": [
    "#### df.tail()\n",
    "-  아래쪽 데이터 출력"
   ]
  },
  {
   "cell_type": "code",
   "execution_count": null,
   "id": "7e681f50",
   "metadata": {},
   "outputs": [
    {
     "data": {
      "text/html": [
       "<div>\n",
       "<style scoped>\n",
       "    .dataframe tbody tr th:only-of-type {\n",
       "        vertical-align: middle;\n",
       "    }\n",
       "\n",
       "    .dataframe tbody tr th {\n",
       "        vertical-align: top;\n",
       "    }\n",
       "\n",
       "    .dataframe thead th {\n",
       "        text-align: right;\n",
       "    }\n",
       "</style>\n",
       "<table border=\"1\" class=\"dataframe\">\n",
       "  <thead>\n",
       "    <tr style=\"text-align: right;\">\n",
       "      <th></th>\n",
       "      <th>A</th>\n",
       "      <th>B</th>\n",
       "      <th>C</th>\n",
       "      <th>D</th>\n",
       "    </tr>\n",
       "  </thead>\n",
       "  <tbody>\n",
       "    <tr>\n",
       "      <th>2025-05-25</th>\n",
       "      <td>-0.275555</td>\n",
       "      <td>1.016210</td>\n",
       "      <td>-0.971588</td>\n",
       "      <td>0.914000</td>\n",
       "    </tr>\n",
       "    <tr>\n",
       "      <th>2025-05-26</th>\n",
       "      <td>-0.937921</td>\n",
       "      <td>0.820903</td>\n",
       "      <td>0.199260</td>\n",
       "      <td>-1.616115</td>\n",
       "    </tr>\n",
       "    <tr>\n",
       "      <th>2025-05-27</th>\n",
       "      <td>1.130531</td>\n",
       "      <td>-0.051458</td>\n",
       "      <td>1.464863</td>\n",
       "      <td>-0.585951</td>\n",
       "    </tr>\n",
       "    <tr>\n",
       "      <th>2025-05-28</th>\n",
       "      <td>1.053450</td>\n",
       "      <td>1.801555</td>\n",
       "      <td>0.312656</td>\n",
       "      <td>0.045946</td>\n",
       "    </tr>\n",
       "    <tr>\n",
       "      <th>2025-05-29</th>\n",
       "      <td>-1.764026</td>\n",
       "      <td>-1.487415</td>\n",
       "      <td>-0.736552</td>\n",
       "      <td>1.002451</td>\n",
       "    </tr>\n",
       "  </tbody>\n",
       "</table>\n",
       "</div>"
      ],
      "text/plain": [
       "                   A         B         C         D\n",
       "2025-05-25 -0.275555  1.016210 -0.971588  0.914000\n",
       "2025-05-26 -0.937921  0.820903  0.199260 -1.616115\n",
       "2025-05-27  1.130531 -0.051458  1.464863 -0.585951\n",
       "2025-05-28  1.053450  1.801555  0.312656  0.045946\n",
       "2025-05-29 -1.764026 -1.487415 -0.736552  1.002451"
      ]
     },
     "execution_count": 16,
     "metadata": {},
     "output_type": "execute_result"
    }
   ],
   "source": [
    "df.tail()"
   ]
  },
  {
   "cell_type": "markdown",
   "id": "b9d69ca0",
   "metadata": {},
   "source": [
    "### df.index\n",
    "- 인덱스 출력 "
   ]
  },
  {
   "cell_type": "code",
   "execution_count": 17,
   "id": "8aeee164",
   "metadata": {},
   "outputs": [
    {
     "data": {
      "text/plain": [
       "DatetimeIndex(['2025-05-24', '2025-05-25', '2025-05-26', '2025-05-27',\n",
       "               '2025-05-28', '2025-05-29'],\n",
       "              dtype='datetime64[ns]', freq='D')"
      ]
     },
     "execution_count": 17,
     "metadata": {},
     "output_type": "execute_result"
    }
   ],
   "source": [
    "df.index"
   ]
  },
  {
   "cell_type": "markdown",
   "id": "cd69386e",
   "metadata": {},
   "source": [
    "### df.columns\n",
    "- 컬럼 출력 "
   ]
  },
  {
   "cell_type": "code",
   "execution_count": 18,
   "id": "1de04e37",
   "metadata": {},
   "outputs": [
    {
     "data": {
      "text/plain": [
       "Index(['A', 'B', 'C', 'D'], dtype='object')"
      ]
     },
     "execution_count": 18,
     "metadata": {},
     "output_type": "execute_result"
    }
   ],
   "source": [
    "df.columns"
   ]
  },
  {
   "cell_type": "markdown",
   "id": "0ce8a0e7",
   "metadata": {},
   "source": [
    "### df.values\n",
    "- 값들 출력  "
   ]
  },
  {
   "cell_type": "code",
   "execution_count": 19,
   "id": "4f2c1090",
   "metadata": {},
   "outputs": [
    {
     "data": {
      "text/plain": [
       "array([[ 1.86751471, -2.77566381, -1.86449444,  1.90774119],\n",
       "       [-0.27555467,  1.01621047, -0.97158812,  0.91400013],\n",
       "       [-0.93792124,  0.82090269,  0.19925995, -1.61611487],\n",
       "       [ 1.13053067, -0.05145772,  1.46486268, -0.58595068],\n",
       "       [ 1.05344951,  1.8015548 ,  0.31265574,  0.04594614],\n",
       "       [-1.76402585, -1.4874145 , -0.73655225,  1.00245119]])"
      ]
     },
     "execution_count": 19,
     "metadata": {},
     "output_type": "execute_result"
    }
   ],
   "source": [
    "df.values"
   ]
  },
  {
   "cell_type": "markdown",
   "id": "62aa22ee",
   "metadata": {},
   "source": [
    "### df.info()\n",
    "- 데이터 프레임의 기본 정보 확인 "
   ]
  },
  {
   "cell_type": "code",
   "execution_count": 20,
   "id": "41d25ced",
   "metadata": {},
   "outputs": [
    {
     "name": "stdout",
     "output_type": "stream",
     "text": [
      "<class 'pandas.core.frame.DataFrame'>\n",
      "DatetimeIndex: 6 entries, 2025-05-24 to 2025-05-29\n",
      "Freq: D\n",
      "Data columns (total 4 columns):\n",
      " #   Column  Non-Null Count  Dtype  \n",
      "---  ------  --------------  -----  \n",
      " 0   A       6 non-null      float64\n",
      " 1   B       6 non-null      float64\n",
      " 2   C       6 non-null      float64\n",
      " 3   D       6 non-null      float64\n",
      "dtypes: float64(4)\n",
      "memory usage: 240.0 bytes\n"
     ]
    }
   ],
   "source": [
    "df.info()"
   ]
  },
  {
   "cell_type": "markdown",
   "id": "b360a72d",
   "metadata": {},
   "source": [
    "### df.describe()\n",
    "- 데이터 프레임의 기술 통계 정보를 확인 가능 "
   ]
  },
  {
   "cell_type": "code",
   "execution_count": 21,
   "id": "553e6309",
   "metadata": {},
   "outputs": [
    {
     "data": {
      "text/html": [
       "<div>\n",
       "<style scoped>\n",
       "    .dataframe tbody tr th:only-of-type {\n",
       "        vertical-align: middle;\n",
       "    }\n",
       "\n",
       "    .dataframe tbody tr th {\n",
       "        vertical-align: top;\n",
       "    }\n",
       "\n",
       "    .dataframe thead th {\n",
       "        text-align: right;\n",
       "    }\n",
       "</style>\n",
       "<table border=\"1\" class=\"dataframe\">\n",
       "  <thead>\n",
       "    <tr style=\"text-align: right;\">\n",
       "      <th></th>\n",
       "      <th>A</th>\n",
       "      <th>B</th>\n",
       "      <th>C</th>\n",
       "      <th>D</th>\n",
       "    </tr>\n",
       "  </thead>\n",
       "  <tbody>\n",
       "    <tr>\n",
       "      <th>count</th>\n",
       "      <td>6.000000</td>\n",
       "      <td>6.000000</td>\n",
       "      <td>6.000000</td>\n",
       "      <td>6.000000</td>\n",
       "    </tr>\n",
       "    <tr>\n",
       "      <th>mean</th>\n",
       "      <td>0.178999</td>\n",
       "      <td>-0.112645</td>\n",
       "      <td>-0.265976</td>\n",
       "      <td>0.278012</td>\n",
       "    </tr>\n",
       "    <tr>\n",
       "      <th>std</th>\n",
       "      <td>1.396470</td>\n",
       "      <td>1.720197</td>\n",
       "      <td>1.168046</td>\n",
       "      <td>1.262800</td>\n",
       "    </tr>\n",
       "    <tr>\n",
       "      <th>min</th>\n",
       "      <td>-1.764026</td>\n",
       "      <td>-2.775664</td>\n",
       "      <td>-1.864494</td>\n",
       "      <td>-1.616115</td>\n",
       "    </tr>\n",
       "    <tr>\n",
       "      <th>25%</th>\n",
       "      <td>-0.772330</td>\n",
       "      <td>-1.128425</td>\n",
       "      <td>-0.912829</td>\n",
       "      <td>-0.427976</td>\n",
       "    </tr>\n",
       "    <tr>\n",
       "      <th>50%</th>\n",
       "      <td>0.388947</td>\n",
       "      <td>0.384722</td>\n",
       "      <td>-0.268646</td>\n",
       "      <td>0.479973</td>\n",
       "    </tr>\n",
       "    <tr>\n",
       "      <th>75%</th>\n",
       "      <td>1.111260</td>\n",
       "      <td>0.967384</td>\n",
       "      <td>0.284307</td>\n",
       "      <td>0.980338</td>\n",
       "    </tr>\n",
       "    <tr>\n",
       "      <th>max</th>\n",
       "      <td>1.867515</td>\n",
       "      <td>1.801555</td>\n",
       "      <td>1.464863</td>\n",
       "      <td>1.907741</td>\n",
       "    </tr>\n",
       "  </tbody>\n",
       "</table>\n",
       "</div>"
      ],
      "text/plain": [
       "              A         B         C         D\n",
       "count  6.000000  6.000000  6.000000  6.000000\n",
       "mean   0.178999 -0.112645 -0.265976  0.278012\n",
       "std    1.396470  1.720197  1.168046  1.262800\n",
       "min   -1.764026 -2.775664 -1.864494 -1.616115\n",
       "25%   -0.772330 -1.128425 -0.912829 -0.427976\n",
       "50%    0.388947  0.384722 -0.268646  0.479973\n",
       "75%    1.111260  0.967384  0.284307  0.980338\n",
       "max    1.867515  1.801555  1.464863  1.907741"
      ]
     },
     "execution_count": 21,
     "metadata": {},
     "output_type": "execute_result"
    }
   ],
   "source": [
    "df.describe()"
   ]
  },
  {
   "cell_type": "markdown",
   "id": "d74e6b3a",
   "metadata": {},
   "source": [
    "### df.sort_values()\n",
    "- 데이터 정렬\n",
    "- 특정 컬럼을 기준으로 데이터를 정렬함 "
   ]
  },
  {
   "cell_type": "code",
   "execution_count": 23,
   "id": "073e673a",
   "metadata": {},
   "outputs": [
    {
     "data": {
      "text/html": [
       "<div>\n",
       "<style scoped>\n",
       "    .dataframe tbody tr th:only-of-type {\n",
       "        vertical-align: middle;\n",
       "    }\n",
       "\n",
       "    .dataframe tbody tr th {\n",
       "        vertical-align: top;\n",
       "    }\n",
       "\n",
       "    .dataframe thead th {\n",
       "        text-align: right;\n",
       "    }\n",
       "</style>\n",
       "<table border=\"1\" class=\"dataframe\">\n",
       "  <thead>\n",
       "    <tr style=\"text-align: right;\">\n",
       "      <th></th>\n",
       "      <th>A</th>\n",
       "      <th>B</th>\n",
       "      <th>C</th>\n",
       "      <th>D</th>\n",
       "    </tr>\n",
       "  </thead>\n",
       "  <tbody>\n",
       "    <tr>\n",
       "      <th>2025-05-24</th>\n",
       "      <td>1.867515</td>\n",
       "      <td>-2.775664</td>\n",
       "      <td>-1.864494</td>\n",
       "      <td>1.907741</td>\n",
       "    </tr>\n",
       "    <tr>\n",
       "      <th>2025-05-25</th>\n",
       "      <td>-0.275555</td>\n",
       "      <td>1.016210</td>\n",
       "      <td>-0.971588</td>\n",
       "      <td>0.914000</td>\n",
       "    </tr>\n",
       "    <tr>\n",
       "      <th>2025-05-26</th>\n",
       "      <td>-0.937921</td>\n",
       "      <td>0.820903</td>\n",
       "      <td>0.199260</td>\n",
       "      <td>-1.616115</td>\n",
       "    </tr>\n",
       "    <tr>\n",
       "      <th>2025-05-27</th>\n",
       "      <td>1.130531</td>\n",
       "      <td>-0.051458</td>\n",
       "      <td>1.464863</td>\n",
       "      <td>-0.585951</td>\n",
       "    </tr>\n",
       "    <tr>\n",
       "      <th>2025-05-28</th>\n",
       "      <td>1.053450</td>\n",
       "      <td>1.801555</td>\n",
       "      <td>0.312656</td>\n",
       "      <td>0.045946</td>\n",
       "    </tr>\n",
       "    <tr>\n",
       "      <th>2025-05-29</th>\n",
       "      <td>-1.764026</td>\n",
       "      <td>-1.487415</td>\n",
       "      <td>-0.736552</td>\n",
       "      <td>1.002451</td>\n",
       "    </tr>\n",
       "  </tbody>\n",
       "</table>\n",
       "</div>"
      ],
      "text/plain": [
       "                   A         B         C         D\n",
       "2025-05-24  1.867515 -2.775664 -1.864494  1.907741\n",
       "2025-05-25 -0.275555  1.016210 -0.971588  0.914000\n",
       "2025-05-26 -0.937921  0.820903  0.199260 -1.616115\n",
       "2025-05-27  1.130531 -0.051458  1.464863 -0.585951\n",
       "2025-05-28  1.053450  1.801555  0.312656  0.045946\n",
       "2025-05-29 -1.764026 -1.487415 -0.736552  1.002451"
      ]
     },
     "execution_count": 23,
     "metadata": {},
     "output_type": "execute_result"
    }
   ],
   "source": [
    "df"
   ]
  },
  {
   "cell_type": "code",
   "execution_count": 22,
   "id": "a6ca1529",
   "metadata": {},
   "outputs": [
    {
     "data": {
      "text/html": [
       "<div>\n",
       "<style scoped>\n",
       "    .dataframe tbody tr th:only-of-type {\n",
       "        vertical-align: middle;\n",
       "    }\n",
       "\n",
       "    .dataframe tbody tr th {\n",
       "        vertical-align: top;\n",
       "    }\n",
       "\n",
       "    .dataframe thead th {\n",
       "        text-align: right;\n",
       "    }\n",
       "</style>\n",
       "<table border=\"1\" class=\"dataframe\">\n",
       "  <thead>\n",
       "    <tr style=\"text-align: right;\">\n",
       "      <th></th>\n",
       "      <th>A</th>\n",
       "      <th>B</th>\n",
       "      <th>C</th>\n",
       "      <th>D</th>\n",
       "    </tr>\n",
       "  </thead>\n",
       "  <tbody>\n",
       "    <tr>\n",
       "      <th>2025-05-24</th>\n",
       "      <td>1.867515</td>\n",
       "      <td>-2.775664</td>\n",
       "      <td>-1.864494</td>\n",
       "      <td>1.907741</td>\n",
       "    </tr>\n",
       "    <tr>\n",
       "      <th>2025-05-29</th>\n",
       "      <td>-1.764026</td>\n",
       "      <td>-1.487415</td>\n",
       "      <td>-0.736552</td>\n",
       "      <td>1.002451</td>\n",
       "    </tr>\n",
       "    <tr>\n",
       "      <th>2025-05-27</th>\n",
       "      <td>1.130531</td>\n",
       "      <td>-0.051458</td>\n",
       "      <td>1.464863</td>\n",
       "      <td>-0.585951</td>\n",
       "    </tr>\n",
       "    <tr>\n",
       "      <th>2025-05-26</th>\n",
       "      <td>-0.937921</td>\n",
       "      <td>0.820903</td>\n",
       "      <td>0.199260</td>\n",
       "      <td>-1.616115</td>\n",
       "    </tr>\n",
       "    <tr>\n",
       "      <th>2025-05-25</th>\n",
       "      <td>-0.275555</td>\n",
       "      <td>1.016210</td>\n",
       "      <td>-0.971588</td>\n",
       "      <td>0.914000</td>\n",
       "    </tr>\n",
       "    <tr>\n",
       "      <th>2025-05-28</th>\n",
       "      <td>1.053450</td>\n",
       "      <td>1.801555</td>\n",
       "      <td>0.312656</td>\n",
       "      <td>0.045946</td>\n",
       "    </tr>\n",
       "  </tbody>\n",
       "</table>\n",
       "</div>"
      ],
      "text/plain": [
       "                   A         B         C         D\n",
       "2025-05-24  1.867515 -2.775664 -1.864494  1.907741\n",
       "2025-05-29 -1.764026 -1.487415 -0.736552  1.002451\n",
       "2025-05-27  1.130531 -0.051458  1.464863 -0.585951\n",
       "2025-05-26 -0.937921  0.820903  0.199260 -1.616115\n",
       "2025-05-25 -0.275555  1.016210 -0.971588  0.914000\n",
       "2025-05-28  1.053450  1.801555  0.312656  0.045946"
      ]
     },
     "execution_count": 22,
     "metadata": {},
     "output_type": "execute_result"
    }
   ],
   "source": [
    "df.sort_values(by=\"B\")"
   ]
  },
  {
   "cell_type": "markdown",
   "id": "c4ad775a",
   "metadata": {},
   "source": [
    "##### ascending=False\n",
    "- 내림차순  하는 옵션"
   ]
  },
  {
   "cell_type": "code",
   "execution_count": 24,
   "id": "67e43110",
   "metadata": {},
   "outputs": [
    {
     "data": {
      "text/html": [
       "<div>\n",
       "<style scoped>\n",
       "    .dataframe tbody tr th:only-of-type {\n",
       "        vertical-align: middle;\n",
       "    }\n",
       "\n",
       "    .dataframe tbody tr th {\n",
       "        vertical-align: top;\n",
       "    }\n",
       "\n",
       "    .dataframe thead th {\n",
       "        text-align: right;\n",
       "    }\n",
       "</style>\n",
       "<table border=\"1\" class=\"dataframe\">\n",
       "  <thead>\n",
       "    <tr style=\"text-align: right;\">\n",
       "      <th></th>\n",
       "      <th>A</th>\n",
       "      <th>B</th>\n",
       "      <th>C</th>\n",
       "      <th>D</th>\n",
       "    </tr>\n",
       "  </thead>\n",
       "  <tbody>\n",
       "    <tr>\n",
       "      <th>2025-05-28</th>\n",
       "      <td>1.053450</td>\n",
       "      <td>1.801555</td>\n",
       "      <td>0.312656</td>\n",
       "      <td>0.045946</td>\n",
       "    </tr>\n",
       "    <tr>\n",
       "      <th>2025-05-25</th>\n",
       "      <td>-0.275555</td>\n",
       "      <td>1.016210</td>\n",
       "      <td>-0.971588</td>\n",
       "      <td>0.914000</td>\n",
       "    </tr>\n",
       "    <tr>\n",
       "      <th>2025-05-26</th>\n",
       "      <td>-0.937921</td>\n",
       "      <td>0.820903</td>\n",
       "      <td>0.199260</td>\n",
       "      <td>-1.616115</td>\n",
       "    </tr>\n",
       "    <tr>\n",
       "      <th>2025-05-27</th>\n",
       "      <td>1.130531</td>\n",
       "      <td>-0.051458</td>\n",
       "      <td>1.464863</td>\n",
       "      <td>-0.585951</td>\n",
       "    </tr>\n",
       "    <tr>\n",
       "      <th>2025-05-29</th>\n",
       "      <td>-1.764026</td>\n",
       "      <td>-1.487415</td>\n",
       "      <td>-0.736552</td>\n",
       "      <td>1.002451</td>\n",
       "    </tr>\n",
       "    <tr>\n",
       "      <th>2025-05-24</th>\n",
       "      <td>1.867515</td>\n",
       "      <td>-2.775664</td>\n",
       "      <td>-1.864494</td>\n",
       "      <td>1.907741</td>\n",
       "    </tr>\n",
       "  </tbody>\n",
       "</table>\n",
       "</div>"
      ],
      "text/plain": [
       "                   A         B         C         D\n",
       "2025-05-28  1.053450  1.801555  0.312656  0.045946\n",
       "2025-05-25 -0.275555  1.016210 -0.971588  0.914000\n",
       "2025-05-26 -0.937921  0.820903  0.199260 -1.616115\n",
       "2025-05-27  1.130531 -0.051458  1.464863 -0.585951\n",
       "2025-05-29 -1.764026 -1.487415 -0.736552  1.002451\n",
       "2025-05-24  1.867515 -2.775664 -1.864494  1.907741"
      ]
     },
     "execution_count": 24,
     "metadata": {},
     "output_type": "execute_result"
    }
   ],
   "source": [
    "df.sort_values(by=\"B\",ascending=False)"
   ]
  },
  {
   "cell_type": "markdown",
   "id": "e83cd11d",
   "metadata": {},
   "source": [
    "##### inplace=True\n",
    "  정렬 저장하기  "
   ]
  },
  {
   "cell_type": "code",
   "execution_count": 25,
   "id": "3410c7cf",
   "metadata": {},
   "outputs": [],
   "source": [
    "df.sort_values(by=\"B\",ascending=False,inplace=True)"
   ]
  },
  {
   "cell_type": "markdown",
   "id": "0560771f",
   "metadata": {},
   "source": [
    "### 데이터 선택"
   ]
  },
  {
   "cell_type": "markdown",
   "id": "7ebffa0e",
   "metadata": {},
   "source": [
    "#### df[<컬럼명>]\n",
    "- 특정 컬럼 선택\n",
    "- 시리즈 타입을 리턴함"
   ]
  },
  {
   "cell_type": "code",
   "execution_count": 27,
   "id": "260086f4",
   "metadata": {},
   "outputs": [
    {
     "data": {
      "text/plain": [
       "2025-05-28    1.053450\n",
       "2025-05-25   -0.275555\n",
       "2025-05-26   -0.937921\n",
       "2025-05-27    1.130531\n",
       "2025-05-29   -1.764026\n",
       "2025-05-24    1.867515\n",
       "Name: A, dtype: float64"
      ]
     },
     "execution_count": 27,
     "metadata": {},
     "output_type": "execute_result"
    }
   ],
   "source": [
    "df[\"A\"]"
   ]
  },
  {
   "cell_type": "markdown",
   "id": "a5050a9f",
   "metadata": {},
   "source": [
    "- 컬럼명이 알파벳인 경우 대괄화 없이 가능 "
   ]
  },
  {
   "cell_type": "code",
   "execution_count": 28,
   "id": "c4d654f1",
   "metadata": {},
   "outputs": [
    {
     "data": {
      "text/plain": [
       "2025-05-28    1.053450\n",
       "2025-05-25   -0.275555\n",
       "2025-05-26   -0.937921\n",
       "2025-05-27    1.130531\n",
       "2025-05-29   -1.764026\n",
       "2025-05-24    1.867515\n",
       "Name: A, dtype: float64"
      ]
     },
     "execution_count": 28,
     "metadata": {},
     "output_type": "execute_result"
    }
   ],
   "source": [
    "df.A"
   ]
  },
  {
   "cell_type": "markdown",
   "id": "848144a5",
   "metadata": {},
   "source": [
    "#### df[<컬럼1>,<컬럼2>]\n",
    "  - 복수의 컬럼 선택"
   ]
  },
  {
   "cell_type": "code",
   "execution_count": 29,
   "id": "3b0180f4",
   "metadata": {},
   "outputs": [
    {
     "data": {
      "text/html": [
       "<div>\n",
       "<style scoped>\n",
       "    .dataframe tbody tr th:only-of-type {\n",
       "        vertical-align: middle;\n",
       "    }\n",
       "\n",
       "    .dataframe tbody tr th {\n",
       "        vertical-align: top;\n",
       "    }\n",
       "\n",
       "    .dataframe thead th {\n",
       "        text-align: right;\n",
       "    }\n",
       "</style>\n",
       "<table border=\"1\" class=\"dataframe\">\n",
       "  <thead>\n",
       "    <tr style=\"text-align: right;\">\n",
       "      <th></th>\n",
       "      <th>A</th>\n",
       "      <th>B</th>\n",
       "    </tr>\n",
       "  </thead>\n",
       "  <tbody>\n",
       "    <tr>\n",
       "      <th>2025-05-28</th>\n",
       "      <td>1.053450</td>\n",
       "      <td>1.801555</td>\n",
       "    </tr>\n",
       "    <tr>\n",
       "      <th>2025-05-25</th>\n",
       "      <td>-0.275555</td>\n",
       "      <td>1.016210</td>\n",
       "    </tr>\n",
       "    <tr>\n",
       "      <th>2025-05-26</th>\n",
       "      <td>-0.937921</td>\n",
       "      <td>0.820903</td>\n",
       "    </tr>\n",
       "    <tr>\n",
       "      <th>2025-05-27</th>\n",
       "      <td>1.130531</td>\n",
       "      <td>-0.051458</td>\n",
       "    </tr>\n",
       "    <tr>\n",
       "      <th>2025-05-29</th>\n",
       "      <td>-1.764026</td>\n",
       "      <td>-1.487415</td>\n",
       "    </tr>\n",
       "    <tr>\n",
       "      <th>2025-05-24</th>\n",
       "      <td>1.867515</td>\n",
       "      <td>-2.775664</td>\n",
       "    </tr>\n",
       "  </tbody>\n",
       "</table>\n",
       "</div>"
      ],
      "text/plain": [
       "                   A         B\n",
       "2025-05-28  1.053450  1.801555\n",
       "2025-05-25 -0.275555  1.016210\n",
       "2025-05-26 -0.937921  0.820903\n",
       "2025-05-27  1.130531 -0.051458\n",
       "2025-05-29 -1.764026 -1.487415\n",
       "2025-05-24  1.867515 -2.775664"
      ]
     },
     "execution_count": 29,
     "metadata": {},
     "output_type": "execute_result"
    }
   ],
   "source": [
    "df[[\"A\",\"B\"]]"
   ]
  },
  {
   "cell_type": "markdown",
   "id": "a399ff82",
   "metadata": {},
   "source": [
    "#### df[n:m] \n",
    "- n부터 m-1까지 슬라이싱"
   ]
  },
  {
   "cell_type": "code",
   "execution_count": 30,
   "id": "b2d324a5",
   "metadata": {},
   "outputs": [
    {
     "data": {
      "text/html": [
       "<div>\n",
       "<style scoped>\n",
       "    .dataframe tbody tr th:only-of-type {\n",
       "        vertical-align: middle;\n",
       "    }\n",
       "\n",
       "    .dataframe tbody tr th {\n",
       "        vertical-align: top;\n",
       "    }\n",
       "\n",
       "    .dataframe thead th {\n",
       "        text-align: right;\n",
       "    }\n",
       "</style>\n",
       "<table border=\"1\" class=\"dataframe\">\n",
       "  <thead>\n",
       "    <tr style=\"text-align: right;\">\n",
       "      <th></th>\n",
       "      <th>A</th>\n",
       "      <th>B</th>\n",
       "      <th>C</th>\n",
       "      <th>D</th>\n",
       "    </tr>\n",
       "  </thead>\n",
       "  <tbody>\n",
       "    <tr>\n",
       "      <th>2025-05-28</th>\n",
       "      <td>1.053450</td>\n",
       "      <td>1.801555</td>\n",
       "      <td>0.312656</td>\n",
       "      <td>0.045946</td>\n",
       "    </tr>\n",
       "    <tr>\n",
       "      <th>2025-05-25</th>\n",
       "      <td>-0.275555</td>\n",
       "      <td>1.016210</td>\n",
       "      <td>-0.971588</td>\n",
       "      <td>0.914000</td>\n",
       "    </tr>\n",
       "    <tr>\n",
       "      <th>2025-05-26</th>\n",
       "      <td>-0.937921</td>\n",
       "      <td>0.820903</td>\n",
       "      <td>0.199260</td>\n",
       "      <td>-1.616115</td>\n",
       "    </tr>\n",
       "  </tbody>\n",
       "</table>\n",
       "</div>"
      ],
      "text/plain": [
       "                   A         B         C         D\n",
       "2025-05-28  1.053450  1.801555  0.312656  0.045946\n",
       "2025-05-25 -0.275555  1.016210 -0.971588  0.914000\n",
       "2025-05-26 -0.937921  0.820903  0.199260 -1.616115"
      ]
     },
     "execution_count": 30,
     "metadata": {},
     "output_type": "execute_result"
    }
   ],
   "source": [
    "df[0:3]"
   ]
  },
  {
   "cell_type": "markdown",
   "id": "1b4caef5",
   "metadata": {},
   "source": [
    "#### df[<컬럼명1>:<컬럼명2>]\n",
    "- 컬럼명 1 부터 컬럼명 2까지 (포함)"
   ]
  },
  {
   "cell_type": "code",
   "execution_count": 34,
   "id": "9b4b5a05",
   "metadata": {},
   "outputs": [
    {
     "data": {
      "text/html": [
       "<div>\n",
       "<style scoped>\n",
       "    .dataframe tbody tr th:only-of-type {\n",
       "        vertical-align: middle;\n",
       "    }\n",
       "\n",
       "    .dataframe tbody tr th {\n",
       "        vertical-align: top;\n",
       "    }\n",
       "\n",
       "    .dataframe thead th {\n",
       "        text-align: right;\n",
       "    }\n",
       "</style>\n",
       "<table border=\"1\" class=\"dataframe\">\n",
       "  <thead>\n",
       "    <tr style=\"text-align: right;\">\n",
       "      <th></th>\n",
       "      <th>A</th>\n",
       "      <th>B</th>\n",
       "      <th>C</th>\n",
       "      <th>D</th>\n",
       "    </tr>\n",
       "  </thead>\n",
       "  <tbody>\n",
       "    <tr>\n",
       "      <th>2025-05-28</th>\n",
       "      <td>1.053450</td>\n",
       "      <td>1.801555</td>\n",
       "      <td>0.312656</td>\n",
       "      <td>0.045946</td>\n",
       "    </tr>\n",
       "    <tr>\n",
       "      <th>2025-05-25</th>\n",
       "      <td>-0.275555</td>\n",
       "      <td>1.016210</td>\n",
       "      <td>-0.971588</td>\n",
       "      <td>0.914000</td>\n",
       "    </tr>\n",
       "    <tr>\n",
       "      <th>2025-05-26</th>\n",
       "      <td>-0.937921</td>\n",
       "      <td>0.820903</td>\n",
       "      <td>0.199260</td>\n",
       "      <td>-1.616115</td>\n",
       "    </tr>\n",
       "    <tr>\n",
       "      <th>2025-05-27</th>\n",
       "      <td>1.130531</td>\n",
       "      <td>-0.051458</td>\n",
       "      <td>1.464863</td>\n",
       "      <td>-0.585951</td>\n",
       "    </tr>\n",
       "  </tbody>\n",
       "</table>\n",
       "</div>"
      ],
      "text/plain": [
       "                   A         B         C         D\n",
       "2025-05-28  1.053450  1.801555  0.312656  0.045946\n",
       "2025-05-25 -0.275555  1.016210 -0.971588  0.914000\n",
       "2025-05-26 -0.937921  0.820903  0.199260 -1.616115\n",
       "2025-05-27  1.130531 -0.051458  1.464863 -0.585951"
      ]
     },
     "execution_count": 34,
     "metadata": {},
     "output_type": "execute_result"
    }
   ],
   "source": [
    "df[\"2025-05-25\":\"2025-05-28\"]"
   ]
  },
  {
   "cell_type": "markdown",
   "id": "0e644972",
   "metadata": {},
   "source": [
    "#### loc\n",
    "- 인덱스 이름으로 특정 행과 열을 선택 "
   ]
  },
  {
   "cell_type": "code",
   "execution_count": 35,
   "id": "cc40d049",
   "metadata": {},
   "outputs": [
    {
     "data": {
      "text/html": [
       "<div>\n",
       "<style scoped>\n",
       "    .dataframe tbody tr th:only-of-type {\n",
       "        vertical-align: middle;\n",
       "    }\n",
       "\n",
       "    .dataframe tbody tr th {\n",
       "        vertical-align: top;\n",
       "    }\n",
       "\n",
       "    .dataframe thead th {\n",
       "        text-align: right;\n",
       "    }\n",
       "</style>\n",
       "<table border=\"1\" class=\"dataframe\">\n",
       "  <thead>\n",
       "    <tr style=\"text-align: right;\">\n",
       "      <th></th>\n",
       "      <th>A</th>\n",
       "      <th>B</th>\n",
       "    </tr>\n",
       "  </thead>\n",
       "  <tbody>\n",
       "    <tr>\n",
       "      <th>2025-05-28</th>\n",
       "      <td>1.053450</td>\n",
       "      <td>1.801555</td>\n",
       "    </tr>\n",
       "    <tr>\n",
       "      <th>2025-05-25</th>\n",
       "      <td>-0.275555</td>\n",
       "      <td>1.016210</td>\n",
       "    </tr>\n",
       "    <tr>\n",
       "      <th>2025-05-26</th>\n",
       "      <td>-0.937921</td>\n",
       "      <td>0.820903</td>\n",
       "    </tr>\n",
       "    <tr>\n",
       "      <th>2025-05-27</th>\n",
       "      <td>1.130531</td>\n",
       "      <td>-0.051458</td>\n",
       "    </tr>\n",
       "    <tr>\n",
       "      <th>2025-05-29</th>\n",
       "      <td>-1.764026</td>\n",
       "      <td>-1.487415</td>\n",
       "    </tr>\n",
       "    <tr>\n",
       "      <th>2025-05-24</th>\n",
       "      <td>1.867515</td>\n",
       "      <td>-2.775664</td>\n",
       "    </tr>\n",
       "  </tbody>\n",
       "</table>\n",
       "</div>"
      ],
      "text/plain": [
       "                   A         B\n",
       "2025-05-28  1.053450  1.801555\n",
       "2025-05-25 -0.275555  1.016210\n",
       "2025-05-26 -0.937921  0.820903\n",
       "2025-05-27  1.130531 -0.051458\n",
       "2025-05-29 -1.764026 -1.487415\n",
       "2025-05-24  1.867515 -2.775664"
      ]
     },
     "execution_count": 35,
     "metadata": {},
     "output_type": "execute_result"
    }
   ],
   "source": [
    "df.loc[:,[\"A\",\"B\"]]"
   ]
  },
  {
   "cell_type": "code",
   "execution_count": 36,
   "id": "ef77fc71",
   "metadata": {},
   "outputs": [
    {
     "data": {
      "text/html": [
       "<div>\n",
       "<style scoped>\n",
       "    .dataframe tbody tr th:only-of-type {\n",
       "        vertical-align: middle;\n",
       "    }\n",
       "\n",
       "    .dataframe tbody tr th {\n",
       "        vertical-align: top;\n",
       "    }\n",
       "\n",
       "    .dataframe thead th {\n",
       "        text-align: right;\n",
       "    }\n",
       "</style>\n",
       "<table border=\"1\" class=\"dataframe\">\n",
       "  <thead>\n",
       "    <tr style=\"text-align: right;\">\n",
       "      <th></th>\n",
       "      <th>A</th>\n",
       "      <th>B</th>\n",
       "    </tr>\n",
       "  </thead>\n",
       "  <tbody>\n",
       "    <tr>\n",
       "      <th>2025-05-28</th>\n",
       "      <td>1.053450</td>\n",
       "      <td>1.801555</td>\n",
       "    </tr>\n",
       "    <tr>\n",
       "      <th>2025-05-25</th>\n",
       "      <td>-0.275555</td>\n",
       "      <td>1.016210</td>\n",
       "    </tr>\n",
       "    <tr>\n",
       "      <th>2025-05-26</th>\n",
       "      <td>-0.937921</td>\n",
       "      <td>0.820903</td>\n",
       "    </tr>\n",
       "    <tr>\n",
       "      <th>2025-05-27</th>\n",
       "      <td>1.130531</td>\n",
       "      <td>-0.051458</td>\n",
       "    </tr>\n",
       "  </tbody>\n",
       "</table>\n",
       "</div>"
      ],
      "text/plain": [
       "                   A         B\n",
       "2025-05-28  1.053450  1.801555\n",
       "2025-05-25 -0.275555  1.016210\n",
       "2025-05-26 -0.937921  0.820903\n",
       "2025-05-27  1.130531 -0.051458"
      ]
     },
     "execution_count": 36,
     "metadata": {},
     "output_type": "execute_result"
    }
   ],
   "source": [
    "df.loc[\"2025-05-25\":\"2025-05-28\",[\"A\",\"B\"]]"
   ]
  },
  {
   "cell_type": "code",
   "execution_count": 39,
   "id": "08ca1f0a",
   "metadata": {},
   "outputs": [
    {
     "data": {
      "text/html": [
       "<div>\n",
       "<style scoped>\n",
       "    .dataframe tbody tr th:only-of-type {\n",
       "        vertical-align: middle;\n",
       "    }\n",
       "\n",
       "    .dataframe tbody tr th {\n",
       "        vertical-align: top;\n",
       "    }\n",
       "\n",
       "    .dataframe thead th {\n",
       "        text-align: right;\n",
       "    }\n",
       "</style>\n",
       "<table border=\"1\" class=\"dataframe\">\n",
       "  <thead>\n",
       "    <tr style=\"text-align: right;\">\n",
       "      <th></th>\n",
       "      <th>A</th>\n",
       "      <th>B</th>\n",
       "      <th>C</th>\n",
       "      <th>D</th>\n",
       "    </tr>\n",
       "  </thead>\n",
       "  <tbody>\n",
       "    <tr>\n",
       "      <th>2025-05-28</th>\n",
       "      <td>1.053450</td>\n",
       "      <td>1.801555</td>\n",
       "      <td>0.312656</td>\n",
       "      <td>0.045946</td>\n",
       "    </tr>\n",
       "    <tr>\n",
       "      <th>2025-05-25</th>\n",
       "      <td>-0.275555</td>\n",
       "      <td>1.016210</td>\n",
       "      <td>-0.971588</td>\n",
       "      <td>0.914000</td>\n",
       "    </tr>\n",
       "    <tr>\n",
       "      <th>2025-05-26</th>\n",
       "      <td>-0.937921</td>\n",
       "      <td>0.820903</td>\n",
       "      <td>0.199260</td>\n",
       "      <td>-1.616115</td>\n",
       "    </tr>\n",
       "    <tr>\n",
       "      <th>2025-05-27</th>\n",
       "      <td>1.130531</td>\n",
       "      <td>-0.051458</td>\n",
       "      <td>1.464863</td>\n",
       "      <td>-0.585951</td>\n",
       "    </tr>\n",
       "  </tbody>\n",
       "</table>\n",
       "</div>"
      ],
      "text/plain": [
       "                   A         B         C         D\n",
       "2025-05-28  1.053450  1.801555  0.312656  0.045946\n",
       "2025-05-25 -0.275555  1.016210 -0.971588  0.914000\n",
       "2025-05-26 -0.937921  0.820903  0.199260 -1.616115\n",
       "2025-05-27  1.130531 -0.051458  1.464863 -0.585951"
      ]
     },
     "execution_count": 39,
     "metadata": {},
     "output_type": "execute_result"
    }
   ],
   "source": [
    "df.loc[\"2025-05-25\":\"2025-05-28\",\"A\":\"D\"]"
   ]
  },
  {
   "cell_type": "markdown",
   "id": "0239f03e",
   "metadata": {},
   "source": [
    "### iloc\n",
    "- 컴퓨터가 인식하는 인덱스 값으로 선택 \n",
    "- 0,1,2,3,4 등으로  선택함 "
   ]
  },
  {
   "cell_type": "code",
   "execution_count": 40,
   "id": "aae75d8d",
   "metadata": {},
   "outputs": [
    {
     "data": {
      "text/plain": [
       "A    1.130531\n",
       "B   -0.051458\n",
       "C    1.464863\n",
       "D   -0.585951\n",
       "Name: 2025-05-27 00:00:00, dtype: float64"
      ]
     },
     "execution_count": 40,
     "metadata": {},
     "output_type": "execute_result"
    }
   ],
   "source": [
    "df.iloc[3]"
   ]
  },
  {
   "cell_type": "code",
   "execution_count": 41,
   "id": "653506ce",
   "metadata": {},
   "outputs": [
    {
     "data": {
      "text/plain": [
       "1.4648626792222865"
      ]
     },
     "execution_count": 41,
     "metadata": {},
     "output_type": "execute_result"
    }
   ],
   "source": [
    "df.iloc[3,2]"
   ]
  },
  {
   "cell_type": "code",
   "execution_count": 42,
   "id": "c78d8186",
   "metadata": {},
   "outputs": [
    {
     "data": {
      "text/html": [
       "<div>\n",
       "<style scoped>\n",
       "    .dataframe tbody tr th:only-of-type {\n",
       "        vertical-align: middle;\n",
       "    }\n",
       "\n",
       "    .dataframe tbody tr th {\n",
       "        vertical-align: top;\n",
       "    }\n",
       "\n",
       "    .dataframe thead th {\n",
       "        text-align: right;\n",
       "    }\n",
       "</style>\n",
       "<table border=\"1\" class=\"dataframe\">\n",
       "  <thead>\n",
       "    <tr style=\"text-align: right;\">\n",
       "      <th></th>\n",
       "      <th>A</th>\n",
       "      <th>B</th>\n",
       "    </tr>\n",
       "  </thead>\n",
       "  <tbody>\n",
       "    <tr>\n",
       "      <th>2025-05-27</th>\n",
       "      <td>1.130531</td>\n",
       "      <td>-0.051458</td>\n",
       "    </tr>\n",
       "    <tr>\n",
       "      <th>2025-05-29</th>\n",
       "      <td>-1.764026</td>\n",
       "      <td>-1.487415</td>\n",
       "    </tr>\n",
       "  </tbody>\n",
       "</table>\n",
       "</div>"
      ],
      "text/plain": [
       "                   A         B\n",
       "2025-05-27  1.130531 -0.051458\n",
       "2025-05-29 -1.764026 -1.487415"
      ]
     },
     "execution_count": 42,
     "metadata": {},
     "output_type": "execute_result"
    }
   ],
   "source": [
    "df.iloc[3:5,0:2]"
   ]
  },
  {
   "cell_type": "markdown",
   "id": "c4145ecd",
   "metadata": {},
   "source": [
    "##### 특정 컬럼만 선택하기"
   ]
  },
  {
   "cell_type": "code",
   "execution_count": 43,
   "id": "f9118326",
   "metadata": {},
   "outputs": [
    {
     "data": {
      "text/html": [
       "<div>\n",
       "<style scoped>\n",
       "    .dataframe tbody tr th:only-of-type {\n",
       "        vertical-align: middle;\n",
       "    }\n",
       "\n",
       "    .dataframe tbody tr th {\n",
       "        vertical-align: top;\n",
       "    }\n",
       "\n",
       "    .dataframe thead th {\n",
       "        text-align: right;\n",
       "    }\n",
       "</style>\n",
       "<table border=\"1\" class=\"dataframe\">\n",
       "  <thead>\n",
       "    <tr style=\"text-align: right;\">\n",
       "      <th></th>\n",
       "      <th>A</th>\n",
       "      <th>C</th>\n",
       "    </tr>\n",
       "  </thead>\n",
       "  <tbody>\n",
       "    <tr>\n",
       "      <th>2025-05-25</th>\n",
       "      <td>-0.275555</td>\n",
       "      <td>-0.971588</td>\n",
       "    </tr>\n",
       "    <tr>\n",
       "      <th>2025-05-26</th>\n",
       "      <td>-0.937921</td>\n",
       "      <td>0.199260</td>\n",
       "    </tr>\n",
       "    <tr>\n",
       "      <th>2025-05-29</th>\n",
       "      <td>-1.764026</td>\n",
       "      <td>-0.736552</td>\n",
       "    </tr>\n",
       "  </tbody>\n",
       "</table>\n",
       "</div>"
      ],
      "text/plain": [
       "                   A         C\n",
       "2025-05-25 -0.275555 -0.971588\n",
       "2025-05-26 -0.937921  0.199260\n",
       "2025-05-29 -1.764026 -0.736552"
      ]
     },
     "execution_count": 43,
     "metadata": {},
     "output_type": "execute_result"
    }
   ],
   "source": [
    "df.iloc[[1,2,4],[0.,2]]"
   ]
  },
  {
   "cell_type": "code",
   "execution_count": 44,
   "id": "1bface04",
   "metadata": {},
   "outputs": [
    {
     "data": {
      "text/html": [
       "<div>\n",
       "<style scoped>\n",
       "    .dataframe tbody tr th:only-of-type {\n",
       "        vertical-align: middle;\n",
       "    }\n",
       "\n",
       "    .dataframe tbody tr th {\n",
       "        vertical-align: top;\n",
       "    }\n",
       "\n",
       "    .dataframe thead th {\n",
       "        text-align: right;\n",
       "    }\n",
       "</style>\n",
       "<table border=\"1\" class=\"dataframe\">\n",
       "  <thead>\n",
       "    <tr style=\"text-align: right;\">\n",
       "      <th></th>\n",
       "      <th>B</th>\n",
       "      <th>C</th>\n",
       "    </tr>\n",
       "  </thead>\n",
       "  <tbody>\n",
       "    <tr>\n",
       "      <th>2025-05-28</th>\n",
       "      <td>1.801555</td>\n",
       "      <td>0.312656</td>\n",
       "    </tr>\n",
       "    <tr>\n",
       "      <th>2025-05-25</th>\n",
       "      <td>1.016210</td>\n",
       "      <td>-0.971588</td>\n",
       "    </tr>\n",
       "    <tr>\n",
       "      <th>2025-05-26</th>\n",
       "      <td>0.820903</td>\n",
       "      <td>0.199260</td>\n",
       "    </tr>\n",
       "    <tr>\n",
       "      <th>2025-05-27</th>\n",
       "      <td>-0.051458</td>\n",
       "      <td>1.464863</td>\n",
       "    </tr>\n",
       "    <tr>\n",
       "      <th>2025-05-29</th>\n",
       "      <td>-1.487415</td>\n",
       "      <td>-0.736552</td>\n",
       "    </tr>\n",
       "    <tr>\n",
       "      <th>2025-05-24</th>\n",
       "      <td>-2.775664</td>\n",
       "      <td>-1.864494</td>\n",
       "    </tr>\n",
       "  </tbody>\n",
       "</table>\n",
       "</div>"
      ],
      "text/plain": [
       "                   B         C\n",
       "2025-05-28  1.801555  0.312656\n",
       "2025-05-25  1.016210 -0.971588\n",
       "2025-05-26  0.820903  0.199260\n",
       "2025-05-27 -0.051458  1.464863\n",
       "2025-05-29 -1.487415 -0.736552\n",
       "2025-05-24 -2.775664 -1.864494"
      ]
     },
     "execution_count": 44,
     "metadata": {},
     "output_type": "execute_result"
    }
   ],
   "source": [
    "df.iloc[:,1:3]"
   ]
  },
  {
   "cell_type": "markdown",
   "id": "b3273fcf",
   "metadata": {},
   "source": [
    "#### 조건 부여 (Condition)"
   ]
  },
  {
   "cell_type": "markdown",
   "id": "3ba4a343",
   "metadata": {},
   "source": [
    "-  0보다 큰 숫자만 선택 \n",
    "-  NaN : Not a Number : 숫자가 없음 "
   ]
  },
  {
   "cell_type": "code",
   "execution_count": 48,
   "id": "87c21673",
   "metadata": {},
   "outputs": [
    {
     "data": {
      "text/plain": [
       "2025-05-28     True\n",
       "2025-05-25    False\n",
       "2025-05-26    False\n",
       "2025-05-27     True\n",
       "2025-05-29    False\n",
       "2025-05-24     True\n",
       "Name: A, dtype: bool"
      ]
     },
     "execution_count": 48,
     "metadata": {},
     "output_type": "execute_result"
    }
   ],
   "source": [
    "df[\"A\"]>0"
   ]
  },
  {
   "cell_type": "code",
   "execution_count": 47,
   "id": "5da28a0f",
   "metadata": {},
   "outputs": [
    {
     "data": {
      "text/html": [
       "<div>\n",
       "<style scoped>\n",
       "    .dataframe tbody tr th:only-of-type {\n",
       "        vertical-align: middle;\n",
       "    }\n",
       "\n",
       "    .dataframe tbody tr th {\n",
       "        vertical-align: top;\n",
       "    }\n",
       "\n",
       "    .dataframe thead th {\n",
       "        text-align: right;\n",
       "    }\n",
       "</style>\n",
       "<table border=\"1\" class=\"dataframe\">\n",
       "  <thead>\n",
       "    <tr style=\"text-align: right;\">\n",
       "      <th></th>\n",
       "      <th>A</th>\n",
       "      <th>B</th>\n",
       "      <th>C</th>\n",
       "      <th>D</th>\n",
       "    </tr>\n",
       "  </thead>\n",
       "  <tbody>\n",
       "    <tr>\n",
       "      <th>2025-05-28</th>\n",
       "      <td>1.053450</td>\n",
       "      <td>1.801555</td>\n",
       "      <td>0.312656</td>\n",
       "      <td>0.045946</td>\n",
       "    </tr>\n",
       "    <tr>\n",
       "      <th>2025-05-27</th>\n",
       "      <td>1.130531</td>\n",
       "      <td>-0.051458</td>\n",
       "      <td>1.464863</td>\n",
       "      <td>-0.585951</td>\n",
       "    </tr>\n",
       "    <tr>\n",
       "      <th>2025-05-24</th>\n",
       "      <td>1.867515</td>\n",
       "      <td>-2.775664</td>\n",
       "      <td>-1.864494</td>\n",
       "      <td>1.907741</td>\n",
       "    </tr>\n",
       "  </tbody>\n",
       "</table>\n",
       "</div>"
      ],
      "text/plain": [
       "                   A         B         C         D\n",
       "2025-05-28  1.053450  1.801555  0.312656  0.045946\n",
       "2025-05-27  1.130531 -0.051458  1.464863 -0.585951\n",
       "2025-05-24  1.867515 -2.775664 -1.864494  1.907741"
      ]
     },
     "execution_count": 47,
     "metadata": {},
     "output_type": "execute_result"
    }
   ],
   "source": [
    "df[df[\"A\"]>0]"
   ]
  },
  {
   "cell_type": "code",
   "execution_count": 49,
   "id": "e828eba4",
   "metadata": {},
   "outputs": [
    {
     "data": {
      "text/html": [
       "<div>\n",
       "<style scoped>\n",
       "    .dataframe tbody tr th:only-of-type {\n",
       "        vertical-align: middle;\n",
       "    }\n",
       "\n",
       "    .dataframe tbody tr th {\n",
       "        vertical-align: top;\n",
       "    }\n",
       "\n",
       "    .dataframe thead th {\n",
       "        text-align: right;\n",
       "    }\n",
       "</style>\n",
       "<table border=\"1\" class=\"dataframe\">\n",
       "  <thead>\n",
       "    <tr style=\"text-align: right;\">\n",
       "      <th></th>\n",
       "      <th>A</th>\n",
       "      <th>B</th>\n",
       "      <th>C</th>\n",
       "      <th>D</th>\n",
       "    </tr>\n",
       "  </thead>\n",
       "  <tbody>\n",
       "    <tr>\n",
       "      <th>2025-05-28</th>\n",
       "      <td>1.053450</td>\n",
       "      <td>1.801555</td>\n",
       "      <td>0.312656</td>\n",
       "      <td>0.045946</td>\n",
       "    </tr>\n",
       "    <tr>\n",
       "      <th>2025-05-25</th>\n",
       "      <td>NaN</td>\n",
       "      <td>1.016210</td>\n",
       "      <td>NaN</td>\n",
       "      <td>0.914000</td>\n",
       "    </tr>\n",
       "    <tr>\n",
       "      <th>2025-05-26</th>\n",
       "      <td>NaN</td>\n",
       "      <td>0.820903</td>\n",
       "      <td>0.199260</td>\n",
       "      <td>NaN</td>\n",
       "    </tr>\n",
       "    <tr>\n",
       "      <th>2025-05-27</th>\n",
       "      <td>1.130531</td>\n",
       "      <td>NaN</td>\n",
       "      <td>1.464863</td>\n",
       "      <td>NaN</td>\n",
       "    </tr>\n",
       "    <tr>\n",
       "      <th>2025-05-29</th>\n",
       "      <td>NaN</td>\n",
       "      <td>NaN</td>\n",
       "      <td>NaN</td>\n",
       "      <td>1.002451</td>\n",
       "    </tr>\n",
       "    <tr>\n",
       "      <th>2025-05-24</th>\n",
       "      <td>1.867515</td>\n",
       "      <td>NaN</td>\n",
       "      <td>NaN</td>\n",
       "      <td>1.907741</td>\n",
       "    </tr>\n",
       "  </tbody>\n",
       "</table>\n",
       "</div>"
      ],
      "text/plain": [
       "                   A         B         C         D\n",
       "2025-05-28  1.053450  1.801555  0.312656  0.045946\n",
       "2025-05-25       NaN  1.016210       NaN  0.914000\n",
       "2025-05-26       NaN  0.820903  0.199260       NaN\n",
       "2025-05-27  1.130531       NaN  1.464863       NaN\n",
       "2025-05-29       NaN       NaN       NaN  1.002451\n",
       "2025-05-24  1.867515       NaN       NaN  1.907741"
      ]
     },
     "execution_count": 49,
     "metadata": {},
     "output_type": "execute_result"
    }
   ],
   "source": [
    "df[df>0]"
   ]
  },
  {
   "cell_type": "markdown",
   "id": "1682aae3",
   "metadata": {},
   "source": [
    "### 컬럼 추가\n",
    "#### df[\"컬럼명\"]=[<컬럼내용>]\n",
    "- 기존 컬럼이 없을 시 추가 \n",
    "- 기존 컬럼이 있을 시 업데이트"
   ]
  },
  {
   "cell_type": "code",
   "execution_count": 51,
   "id": "ee042776",
   "metadata": {},
   "outputs": [
    {
     "data": {
      "text/html": [
       "<div>\n",
       "<style scoped>\n",
       "    .dataframe tbody tr th:only-of-type {\n",
       "        vertical-align: middle;\n",
       "    }\n",
       "\n",
       "    .dataframe tbody tr th {\n",
       "        vertical-align: top;\n",
       "    }\n",
       "\n",
       "    .dataframe thead th {\n",
       "        text-align: right;\n",
       "    }\n",
       "</style>\n",
       "<table border=\"1\" class=\"dataframe\">\n",
       "  <thead>\n",
       "    <tr style=\"text-align: right;\">\n",
       "      <th></th>\n",
       "      <th>A</th>\n",
       "      <th>B</th>\n",
       "      <th>C</th>\n",
       "      <th>D</th>\n",
       "      <th>E</th>\n",
       "    </tr>\n",
       "  </thead>\n",
       "  <tbody>\n",
       "    <tr>\n",
       "      <th>2025-05-28</th>\n",
       "      <td>1.053450</td>\n",
       "      <td>1.801555</td>\n",
       "      <td>0.312656</td>\n",
       "      <td>0.045946</td>\n",
       "      <td>1</td>\n",
       "    </tr>\n",
       "    <tr>\n",
       "      <th>2025-05-25</th>\n",
       "      <td>-0.275555</td>\n",
       "      <td>1.016210</td>\n",
       "      <td>-0.971588</td>\n",
       "      <td>0.914000</td>\n",
       "      <td>2</td>\n",
       "    </tr>\n",
       "    <tr>\n",
       "      <th>2025-05-26</th>\n",
       "      <td>-0.937921</td>\n",
       "      <td>0.820903</td>\n",
       "      <td>0.199260</td>\n",
       "      <td>-1.616115</td>\n",
       "      <td>3</td>\n",
       "    </tr>\n",
       "    <tr>\n",
       "      <th>2025-05-27</th>\n",
       "      <td>1.130531</td>\n",
       "      <td>-0.051458</td>\n",
       "      <td>1.464863</td>\n",
       "      <td>-0.585951</td>\n",
       "      <td>4</td>\n",
       "    </tr>\n",
       "    <tr>\n",
       "      <th>2025-05-29</th>\n",
       "      <td>-1.764026</td>\n",
       "      <td>-1.487415</td>\n",
       "      <td>-0.736552</td>\n",
       "      <td>1.002451</td>\n",
       "      <td>4</td>\n",
       "    </tr>\n",
       "    <tr>\n",
       "      <th>2025-05-24</th>\n",
       "      <td>1.867515</td>\n",
       "      <td>-2.775664</td>\n",
       "      <td>-1.864494</td>\n",
       "      <td>1.907741</td>\n",
       "      <td>5</td>\n",
       "    </tr>\n",
       "  </tbody>\n",
       "</table>\n",
       "</div>"
      ],
      "text/plain": [
       "                   A         B         C         D  E\n",
       "2025-05-28  1.053450  1.801555  0.312656  0.045946  1\n",
       "2025-05-25 -0.275555  1.016210 -0.971588  0.914000  2\n",
       "2025-05-26 -0.937921  0.820903  0.199260 -1.616115  3\n",
       "2025-05-27  1.130531 -0.051458  1.464863 -0.585951  4\n",
       "2025-05-29 -1.764026 -1.487415 -0.736552  1.002451  4\n",
       "2025-05-24  1.867515 -2.775664 -1.864494  1.907741  5"
      ]
     },
     "execution_count": 51,
     "metadata": {},
     "output_type": "execute_result"
    }
   ],
   "source": [
    "df[\"E\"]=[\"1\",\"2\",\"3\",\"4\",\"4\",\"5\"]\n",
    "df"
   ]
  },
  {
   "cell_type": "markdown",
   "id": "8fa2a1dd",
   "metadata": {},
   "source": [
    "#### isin()\n",
    "- 특정 요소가 있는지 확인 \n",
    "- bool로 리턴함 "
   ]
  },
  {
   "cell_type": "code",
   "execution_count": 54,
   "id": "bff43362",
   "metadata": {},
   "outputs": [
    {
     "data": {
      "text/plain": [
       "2025-05-28     True\n",
       "2025-05-25    False\n",
       "2025-05-26    False\n",
       "2025-05-27     True\n",
       "2025-05-29     True\n",
       "2025-05-24    False\n",
       "Name: E, dtype: bool"
      ]
     },
     "execution_count": 54,
     "metadata": {},
     "output_type": "execute_result"
    }
   ],
   "source": [
    "df[\"E\"].isin([\"1\",\"4\"])"
   ]
  },
  {
   "cell_type": "markdown",
   "id": "0f371ee8",
   "metadata": {},
   "source": [
    "- 실제로 존재하는 값만 출력하기"
   ]
  },
  {
   "cell_type": "code",
   "execution_count": 55,
   "id": "16b30bba",
   "metadata": {},
   "outputs": [
    {
     "data": {
      "text/html": [
       "<div>\n",
       "<style scoped>\n",
       "    .dataframe tbody tr th:only-of-type {\n",
       "        vertical-align: middle;\n",
       "    }\n",
       "\n",
       "    .dataframe tbody tr th {\n",
       "        vertical-align: top;\n",
       "    }\n",
       "\n",
       "    .dataframe thead th {\n",
       "        text-align: right;\n",
       "    }\n",
       "</style>\n",
       "<table border=\"1\" class=\"dataframe\">\n",
       "  <thead>\n",
       "    <tr style=\"text-align: right;\">\n",
       "      <th></th>\n",
       "      <th>A</th>\n",
       "      <th>B</th>\n",
       "      <th>C</th>\n",
       "      <th>D</th>\n",
       "      <th>E</th>\n",
       "    </tr>\n",
       "  </thead>\n",
       "  <tbody>\n",
       "    <tr>\n",
       "      <th>2025-05-28</th>\n",
       "      <td>1.053450</td>\n",
       "      <td>1.801555</td>\n",
       "      <td>0.312656</td>\n",
       "      <td>0.045946</td>\n",
       "      <td>1</td>\n",
       "    </tr>\n",
       "    <tr>\n",
       "      <th>2025-05-27</th>\n",
       "      <td>1.130531</td>\n",
       "      <td>-0.051458</td>\n",
       "      <td>1.464863</td>\n",
       "      <td>-0.585951</td>\n",
       "      <td>4</td>\n",
       "    </tr>\n",
       "    <tr>\n",
       "      <th>2025-05-29</th>\n",
       "      <td>-1.764026</td>\n",
       "      <td>-1.487415</td>\n",
       "      <td>-0.736552</td>\n",
       "      <td>1.002451</td>\n",
       "      <td>4</td>\n",
       "    </tr>\n",
       "  </tbody>\n",
       "</table>\n",
       "</div>"
      ],
      "text/plain": [
       "                   A         B         C         D  E\n",
       "2025-05-28  1.053450  1.801555  0.312656  0.045946  1\n",
       "2025-05-27  1.130531 -0.051458  1.464863 -0.585951  4\n",
       "2025-05-29 -1.764026 -1.487415 -0.736552  1.002451  4"
      ]
     },
     "execution_count": 55,
     "metadata": {},
     "output_type": "execute_result"
    }
   ],
   "source": [
    "df[df[\"E\"].isin([\"1\",\"4\"])]"
   ]
  },
  {
   "cell_type": "markdown",
   "id": "546261e2",
   "metadata": {},
   "source": [
    "### 특정 컬럼 제거 \n",
    "- del\n",
    "- drop"
   ]
  },
  {
   "cell_type": "code",
   "execution_count": 58,
   "id": "da828865",
   "metadata": {},
   "outputs": [
    {
     "data": {
      "text/html": [
       "<div>\n",
       "<style scoped>\n",
       "    .dataframe tbody tr th:only-of-type {\n",
       "        vertical-align: middle;\n",
       "    }\n",
       "\n",
       "    .dataframe tbody tr th {\n",
       "        vertical-align: top;\n",
       "    }\n",
       "\n",
       "    .dataframe thead th {\n",
       "        text-align: right;\n",
       "    }\n",
       "</style>\n",
       "<table border=\"1\" class=\"dataframe\">\n",
       "  <thead>\n",
       "    <tr style=\"text-align: right;\">\n",
       "      <th></th>\n",
       "      <th>A</th>\n",
       "      <th>B</th>\n",
       "      <th>C</th>\n",
       "      <th>D</th>\n",
       "    </tr>\n",
       "  </thead>\n",
       "  <tbody>\n",
       "    <tr>\n",
       "      <th>2025-05-28</th>\n",
       "      <td>1.053450</td>\n",
       "      <td>1.801555</td>\n",
       "      <td>0.312656</td>\n",
       "      <td>0.045946</td>\n",
       "    </tr>\n",
       "    <tr>\n",
       "      <th>2025-05-25</th>\n",
       "      <td>-0.275555</td>\n",
       "      <td>1.016210</td>\n",
       "      <td>-0.971588</td>\n",
       "      <td>0.914000</td>\n",
       "    </tr>\n",
       "    <tr>\n",
       "      <th>2025-05-26</th>\n",
       "      <td>-0.937921</td>\n",
       "      <td>0.820903</td>\n",
       "      <td>0.199260</td>\n",
       "      <td>-1.616115</td>\n",
       "    </tr>\n",
       "    <tr>\n",
       "      <th>2025-05-27</th>\n",
       "      <td>1.130531</td>\n",
       "      <td>-0.051458</td>\n",
       "      <td>1.464863</td>\n",
       "      <td>-0.585951</td>\n",
       "    </tr>\n",
       "    <tr>\n",
       "      <th>2025-05-29</th>\n",
       "      <td>-1.764026</td>\n",
       "      <td>-1.487415</td>\n",
       "      <td>-0.736552</td>\n",
       "      <td>1.002451</td>\n",
       "    </tr>\n",
       "    <tr>\n",
       "      <th>2025-05-24</th>\n",
       "      <td>1.867515</td>\n",
       "      <td>-2.775664</td>\n",
       "      <td>-1.864494</td>\n",
       "      <td>1.907741</td>\n",
       "    </tr>\n",
       "  </tbody>\n",
       "</table>\n",
       "</div>"
      ],
      "text/plain": [
       "                   A         B         C         D\n",
       "2025-05-28  1.053450  1.801555  0.312656  0.045946\n",
       "2025-05-25 -0.275555  1.016210 -0.971588  0.914000\n",
       "2025-05-26 -0.937921  0.820903  0.199260 -1.616115\n",
       "2025-05-27  1.130531 -0.051458  1.464863 -0.585951\n",
       "2025-05-29 -1.764026 -1.487415 -0.736552  1.002451\n",
       "2025-05-24  1.867515 -2.775664 -1.864494  1.907741"
      ]
     },
     "execution_count": 58,
     "metadata": {},
     "output_type": "execute_result"
    }
   ],
   "source": [
    "del df[\"E\"]\n",
    "df"
   ]
  },
  {
   "cell_type": "markdown",
   "id": "5ffb9407",
   "metadata": {},
   "source": [
    "#### drop \n",
    "- axis 옵션을 통해서 어떤걸 삭제 할지 바꿈\n",
    "- axis = 0 : 가로 \n",
    "- axis = 1 : 세로 "
   ]
  },
  {
   "cell_type": "code",
   "execution_count": 61,
   "id": "70b13622",
   "metadata": {},
   "outputs": [
    {
     "data": {
      "text/html": [
       "<div>\n",
       "<style scoped>\n",
       "    .dataframe tbody tr th:only-of-type {\n",
       "        vertical-align: middle;\n",
       "    }\n",
       "\n",
       "    .dataframe tbody tr th {\n",
       "        vertical-align: top;\n",
       "    }\n",
       "\n",
       "    .dataframe thead th {\n",
       "        text-align: right;\n",
       "    }\n",
       "</style>\n",
       "<table border=\"1\" class=\"dataframe\">\n",
       "  <thead>\n",
       "    <tr style=\"text-align: right;\">\n",
       "      <th></th>\n",
       "      <th>A</th>\n",
       "      <th>B</th>\n",
       "      <th>C</th>\n",
       "    </tr>\n",
       "  </thead>\n",
       "  <tbody>\n",
       "    <tr>\n",
       "      <th>2025-05-28</th>\n",
       "      <td>1.053450</td>\n",
       "      <td>1.801555</td>\n",
       "      <td>0.312656</td>\n",
       "    </tr>\n",
       "    <tr>\n",
       "      <th>2025-05-25</th>\n",
       "      <td>-0.275555</td>\n",
       "      <td>1.016210</td>\n",
       "      <td>-0.971588</td>\n",
       "    </tr>\n",
       "    <tr>\n",
       "      <th>2025-05-26</th>\n",
       "      <td>-0.937921</td>\n",
       "      <td>0.820903</td>\n",
       "      <td>0.199260</td>\n",
       "    </tr>\n",
       "    <tr>\n",
       "      <th>2025-05-27</th>\n",
       "      <td>1.130531</td>\n",
       "      <td>-0.051458</td>\n",
       "      <td>1.464863</td>\n",
       "    </tr>\n",
       "    <tr>\n",
       "      <th>2025-05-29</th>\n",
       "      <td>-1.764026</td>\n",
       "      <td>-1.487415</td>\n",
       "      <td>-0.736552</td>\n",
       "    </tr>\n",
       "    <tr>\n",
       "      <th>2025-05-24</th>\n",
       "      <td>1.867515</td>\n",
       "      <td>-2.775664</td>\n",
       "      <td>-1.864494</td>\n",
       "    </tr>\n",
       "  </tbody>\n",
       "</table>\n",
       "</div>"
      ],
      "text/plain": [
       "                   A         B         C\n",
       "2025-05-28  1.053450  1.801555  0.312656\n",
       "2025-05-25 -0.275555  1.016210 -0.971588\n",
       "2025-05-26 -0.937921  0.820903  0.199260\n",
       "2025-05-27  1.130531 -0.051458  1.464863\n",
       "2025-05-29 -1.764026 -1.487415 -0.736552\n",
       "2025-05-24  1.867515 -2.775664 -1.864494"
      ]
     },
     "execution_count": 61,
     "metadata": {},
     "output_type": "execute_result"
    }
   ],
   "source": [
    "df.drop([\"D\"] , axis=1)"
   ]
  },
  {
   "cell_type": "code",
   "execution_count": 62,
   "id": "a82fa948",
   "metadata": {},
   "outputs": [
    {
     "data": {
      "text/html": [
       "<div>\n",
       "<style scoped>\n",
       "    .dataframe tbody tr th:only-of-type {\n",
       "        vertical-align: middle;\n",
       "    }\n",
       "\n",
       "    .dataframe tbody tr th {\n",
       "        vertical-align: top;\n",
       "    }\n",
       "\n",
       "    .dataframe thead th {\n",
       "        text-align: right;\n",
       "    }\n",
       "</style>\n",
       "<table border=\"1\" class=\"dataframe\">\n",
       "  <thead>\n",
       "    <tr style=\"text-align: right;\">\n",
       "      <th></th>\n",
       "      <th>A</th>\n",
       "      <th>B</th>\n",
       "      <th>C</th>\n",
       "      <th>D</th>\n",
       "    </tr>\n",
       "  </thead>\n",
       "  <tbody>\n",
       "    <tr>\n",
       "      <th>2025-05-28</th>\n",
       "      <td>1.053450</td>\n",
       "      <td>1.801555</td>\n",
       "      <td>0.312656</td>\n",
       "      <td>0.045946</td>\n",
       "    </tr>\n",
       "    <tr>\n",
       "      <th>2025-05-25</th>\n",
       "      <td>-0.275555</td>\n",
       "      <td>1.016210</td>\n",
       "      <td>-0.971588</td>\n",
       "      <td>0.914000</td>\n",
       "    </tr>\n",
       "    <tr>\n",
       "      <th>2025-05-26</th>\n",
       "      <td>-0.937921</td>\n",
       "      <td>0.820903</td>\n",
       "      <td>0.199260</td>\n",
       "      <td>-1.616115</td>\n",
       "    </tr>\n",
       "    <tr>\n",
       "      <th>2025-05-27</th>\n",
       "      <td>1.130531</td>\n",
       "      <td>-0.051458</td>\n",
       "      <td>1.464863</td>\n",
       "      <td>-0.585951</td>\n",
       "    </tr>\n",
       "    <tr>\n",
       "      <th>2025-05-29</th>\n",
       "      <td>-1.764026</td>\n",
       "      <td>-1.487415</td>\n",
       "      <td>-0.736552</td>\n",
       "      <td>1.002451</td>\n",
       "    </tr>\n",
       "  </tbody>\n",
       "</table>\n",
       "</div>"
      ],
      "text/plain": [
       "                   A         B         C         D\n",
       "2025-05-28  1.053450  1.801555  0.312656  0.045946\n",
       "2025-05-25 -0.275555  1.016210 -0.971588  0.914000\n",
       "2025-05-26 -0.937921  0.820903  0.199260 -1.616115\n",
       "2025-05-27  1.130531 -0.051458  1.464863 -0.585951\n",
       "2025-05-29 -1.764026 -1.487415 -0.736552  1.002451"
      ]
     },
     "execution_count": 62,
     "metadata": {},
     "output_type": "execute_result"
    }
   ],
   "source": [
    "df.drop([\"2025-05-24\"] , axis=0)"
   ]
  },
  {
   "cell_type": "markdown",
   "id": "7cfa20c6",
   "metadata": {},
   "source": [
    "a"
   ]
  },
  {
   "cell_type": "code",
   "execution_count": 63,
   "id": "cc3dff89",
   "metadata": {},
   "outputs": [
    {
     "data": {
      "text/plain": [
       "1.073993127347401"
      ]
     },
     "execution_count": 63,
     "metadata": {},
     "output_type": "execute_result"
    }
   ],
   "source": [
    "df[\"A\"].apply(\"sum\")"
   ]
  },
  {
   "cell_type": "code",
   "execution_count": 66,
   "id": "879f0005",
   "metadata": {},
   "outputs": [
    {
     "data": {
      "text/plain": [
       "A    1.073993\n",
       "D    1.668073\n",
       "dtype: float64"
      ]
     },
     "execution_count": 66,
     "metadata": {},
     "output_type": "execute_result"
    }
   ],
   "source": [
    "df[[\"A\",\"D\"]].apply(\"sum\")"
   ]
  },
  {
   "cell_type": "code",
   "execution_count": 67,
   "id": "9ffc58d0",
   "metadata": {},
   "outputs": [
    {
     "data": {
      "text/plain": [
       "2025-05-28      [1.0534495141271714]\n",
       "2025-05-25    [-0.27555466794091343]\n",
       "2025-05-26      [-0.937921244042259]\n",
       "2025-05-27      [1.1305306700140256]\n",
       "2025-05-29     [-1.7640258501459019]\n",
       "2025-05-24      [1.8675147053352783]\n",
       "Name: A, dtype: object"
      ]
     },
     "execution_count": 67,
     "metadata": {},
     "output_type": "execute_result"
    }
   ],
   "source": [
    "df[\"A\"].apply(np.cumsum)"
   ]
  },
  {
   "cell_type": "markdown",
   "id": "87b17b8e",
   "metadata": {},
   "source": [
    "#### 양수/음수 확인 함수 만들기"
   ]
  },
  {
   "cell_type": "code",
   "execution_count": 68,
   "id": "82450122",
   "metadata": {},
   "outputs": [],
   "source": [
    "def plusMinus(num):\n",
    "    return \"plus\" if num > 0 else \"minus\""
   ]
  },
  {
   "cell_type": "code",
   "execution_count": 69,
   "id": "98ee202e",
   "metadata": {},
   "outputs": [
    {
     "data": {
      "text/plain": [
       "2025-05-28     plus\n",
       "2025-05-25    minus\n",
       "2025-05-26    minus\n",
       "2025-05-27     plus\n",
       "2025-05-29    minus\n",
       "2025-05-24     plus\n",
       "Name: A, dtype: object"
      ]
     },
     "execution_count": 69,
     "metadata": {},
     "output_type": "execute_result"
    }
   ],
   "source": [
    "df[\"A\"].apply(plusMinus)"
   ]
  },
  {
   "cell_type": "code",
   "execution_count": 70,
   "id": "ca745a0d",
   "metadata": {},
   "outputs": [
    {
     "data": {
      "text/plain": [
       "2025-05-28     plus\n",
       "2025-05-25    minus\n",
       "2025-05-26    minus\n",
       "2025-05-27     plus\n",
       "2025-05-29    minus\n",
       "2025-05-24     plus\n",
       "Name: A, dtype: object"
      ]
     },
     "execution_count": 70,
     "metadata": {},
     "output_type": "execute_result"
    }
   ],
   "source": [
    "df[\"A\"].apply(lambda num : \"plus\" if num>0 else \"minus\")"
   ]
  }
 ],
 "metadata": {
  "kernelspec": {
   "display_name": "Python 3 (ipykernel)",
   "language": "python",
   "name": "python3"
  },
  "language_info": {
   "codemirror_mode": {
    "name": "ipython",
    "version": 3
   },
   "file_extension": ".py",
   "mimetype": "text/x-python",
   "name": "python",
   "nbconvert_exporter": "python",
   "pygments_lexer": "ipython3",
   "version": "3.8.20"
  }
 },
 "nbformat": 4,
 "nbformat_minor": 5
}
