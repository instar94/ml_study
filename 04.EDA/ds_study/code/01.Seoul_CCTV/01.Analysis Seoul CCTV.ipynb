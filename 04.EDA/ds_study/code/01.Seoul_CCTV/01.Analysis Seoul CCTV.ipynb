{
  "cells": [
    {
      "cell_type": "markdown",
      "id": "45d7da06-aed9-4b91-86ac-dde526badd44",
      "metadata": {
        "id": "45d7da06-aed9-4b91-86ac-dde526badd44"
      },
      "source": [
        "# 01.Analysis Seoul CCTV\n",
        "## 1.데이터 읽기"
      ]
    },
    {
      "cell_type": "code",
      "execution_count": 210,
      "id": "444c7990-22bb-4192-adcf-9b2bb1c854aa",
      "metadata": {
        "id": "444c7990-22bb-4192-adcf-9b2bb1c854aa"
      },
      "outputs": [],
      "source": [
        "### 데이터 분석을 위한 패키지 : Pandas\n",
        "import pandas as pd"
      ]
    },
    {
      "cell_type": "markdown",
      "id": "fa34aca5-bef6-48fe-8dd5-38dad58f980f",
      "metadata": {
        "id": "fa34aca5-bef6-48fe-8dd5-38dad58f980f"
      },
      "source": [
        "미설치 시 설치 방법\n",
        " !conda install -y pandas"
      ]
    },
    {
      "cell_type": "code",
      "execution_count": 211,
      "id": "a0a0113b-a75b-4e40-b4c2-f755c92178a6",
      "metadata": {
        "id": "a0a0113b-a75b-4e40-b4c2-f755c92178a6"
      },
      "outputs": [],
      "source": [
        "### CSV 파일 읽기\n",
        "CCTV_Seoul = pd.read_csv(\"../../data/01.Seoul_CCTV/01. Seoul_CCTV.csv\", encoding=\"UTF-8\")"
      ]
    },
    {
      "cell_type": "code",
      "execution_count": 212,
      "id": "212cc10c-c9f3-4996-aa52-798641b98fa5",
      "metadata": {
        "id": "212cc10c-c9f3-4996-aa52-798641b98fa5",
        "outputId": "a26b805c-48fa-420c-eeee-fd944226da9d"
      },
      "outputs": [
        {
          "data": {
            "text/html": [
              "<div>\n",
              "<style scoped>\n",
              "    .dataframe tbody tr th:only-of-type {\n",
              "        vertical-align: middle;\n",
              "    }\n",
              "\n",
              "    .dataframe tbody tr th {\n",
              "        vertical-align: top;\n",
              "    }\n",
              "\n",
              "    .dataframe thead th {\n",
              "        text-align: right;\n",
              "    }\n",
              "</style>\n",
              "<table border=\"1\" class=\"dataframe\">\n",
              "  <thead>\n",
              "    <tr style=\"text-align: right;\">\n",
              "      <th></th>\n",
              "      <th>기관명</th>\n",
              "      <th>소계</th>\n",
              "      <th>2013년도 이전</th>\n",
              "      <th>2014년</th>\n",
              "      <th>2015년</th>\n",
              "      <th>2016년</th>\n",
              "    </tr>\n",
              "  </thead>\n",
              "  <tbody>\n",
              "    <tr>\n",
              "      <th>0</th>\n",
              "      <td>강남구</td>\n",
              "      <td>3238</td>\n",
              "      <td>1292</td>\n",
              "      <td>430</td>\n",
              "      <td>584</td>\n",
              "      <td>932</td>\n",
              "    </tr>\n",
              "    <tr>\n",
              "      <th>1</th>\n",
              "      <td>강동구</td>\n",
              "      <td>1010</td>\n",
              "      <td>379</td>\n",
              "      <td>99</td>\n",
              "      <td>155</td>\n",
              "      <td>377</td>\n",
              "    </tr>\n",
              "    <tr>\n",
              "      <th>2</th>\n",
              "      <td>강북구</td>\n",
              "      <td>831</td>\n",
              "      <td>369</td>\n",
              "      <td>120</td>\n",
              "      <td>138</td>\n",
              "      <td>204</td>\n",
              "    </tr>\n",
              "    <tr>\n",
              "      <th>3</th>\n",
              "      <td>강서구</td>\n",
              "      <td>911</td>\n",
              "      <td>388</td>\n",
              "      <td>258</td>\n",
              "      <td>184</td>\n",
              "      <td>81</td>\n",
              "    </tr>\n",
              "    <tr>\n",
              "      <th>4</th>\n",
              "      <td>관악구</td>\n",
              "      <td>2109</td>\n",
              "      <td>846</td>\n",
              "      <td>260</td>\n",
              "      <td>390</td>\n",
              "      <td>613</td>\n",
              "    </tr>\n",
              "  </tbody>\n",
              "</table>\n",
              "</div>"
            ],
            "text/plain": [
              "   기관명    소계  2013년도 이전  2014년  2015년  2016년\n",
              "0  강남구  3238       1292    430    584    932\n",
              "1  강동구  1010        379     99    155    377\n",
              "2  강북구   831        369    120    138    204\n",
              "3  강서구   911        388    258    184     81\n",
              "4  관악구  2109        846    260    390    613"
            ]
          },
          "execution_count": 212,
          "metadata": {},
          "output_type": "execute_result"
        }
      ],
      "source": [
        "CCTV_Seoul.head()\n",
        "### 2행 만 읽기 CCTV_Seoul.head(2)"
      ]
    },
    {
      "cell_type": "code",
      "execution_count": 213,
      "id": "5ce05284-25e1-4634-8f0e-d7107e336759",
      "metadata": {
        "id": "5ce05284-25e1-4634-8f0e-d7107e336759",
        "outputId": "1d69c3c5-e691-4a2e-fc0a-500432d0db59"
      },
      "outputs": [
        {
          "data": {
            "text/html": [
              "<div>\n",
              "<style scoped>\n",
              "    .dataframe tbody tr th:only-of-type {\n",
              "        vertical-align: middle;\n",
              "    }\n",
              "\n",
              "    .dataframe tbody tr th {\n",
              "        vertical-align: top;\n",
              "    }\n",
              "\n",
              "    .dataframe thead th {\n",
              "        text-align: right;\n",
              "    }\n",
              "</style>\n",
              "<table border=\"1\" class=\"dataframe\">\n",
              "  <thead>\n",
              "    <tr style=\"text-align: right;\">\n",
              "      <th></th>\n",
              "      <th>기관명</th>\n",
              "      <th>소계</th>\n",
              "      <th>2013년도 이전</th>\n",
              "      <th>2014년</th>\n",
              "      <th>2015년</th>\n",
              "      <th>2016년</th>\n",
              "    </tr>\n",
              "  </thead>\n",
              "  <tbody>\n",
              "    <tr>\n",
              "      <th>20</th>\n",
              "      <td>용산구</td>\n",
              "      <td>2096</td>\n",
              "      <td>1368</td>\n",
              "      <td>218</td>\n",
              "      <td>112</td>\n",
              "      <td>398</td>\n",
              "    </tr>\n",
              "    <tr>\n",
              "      <th>21</th>\n",
              "      <td>은평구</td>\n",
              "      <td>2108</td>\n",
              "      <td>1138</td>\n",
              "      <td>224</td>\n",
              "      <td>278</td>\n",
              "      <td>468</td>\n",
              "    </tr>\n",
              "    <tr>\n",
              "      <th>22</th>\n",
              "      <td>종로구</td>\n",
              "      <td>1619</td>\n",
              "      <td>464</td>\n",
              "      <td>314</td>\n",
              "      <td>211</td>\n",
              "      <td>630</td>\n",
              "    </tr>\n",
              "    <tr>\n",
              "      <th>23</th>\n",
              "      <td>중구</td>\n",
              "      <td>1023</td>\n",
              "      <td>413</td>\n",
              "      <td>190</td>\n",
              "      <td>72</td>\n",
              "      <td>348</td>\n",
              "    </tr>\n",
              "    <tr>\n",
              "      <th>24</th>\n",
              "      <td>중랑구</td>\n",
              "      <td>916</td>\n",
              "      <td>509</td>\n",
              "      <td>121</td>\n",
              "      <td>177</td>\n",
              "      <td>109</td>\n",
              "    </tr>\n",
              "  </tbody>\n",
              "</table>\n",
              "</div>"
            ],
            "text/plain": [
              "    기관명    소계  2013년도 이전  2014년  2015년  2016년\n",
              "20  용산구  2096       1368    218    112    398\n",
              "21  은평구  2108       1138    224    278    468\n",
              "22  종로구  1619        464    314    211    630\n",
              "23   중구  1023        413    190     72    348\n",
              "24  중랑구   916        509    121    177    109"
            ]
          },
          "execution_count": 213,
          "metadata": {},
          "output_type": "execute_result"
        }
      ],
      "source": [
        "### 끝에 줄만 읽기\n",
        "CCTV_Seoul.tail()"
      ]
    },
    {
      "cell_type": "code",
      "execution_count": 214,
      "id": "bee3c2e0-335f-4840-a805-7e8ac3f0311b",
      "metadata": {
        "id": "bee3c2e0-335f-4840-a805-7e8ac3f0311b",
        "outputId": "bd4904ac-649e-4198-9b00-4b49a4059330"
      },
      "outputs": [
        {
          "data": {
            "text/plain": [
              "Index(['기관명', '소계', '2013년도 이전', '2014년', '2015년', '2016년'], dtype='object')"
            ]
          },
          "execution_count": 214,
          "metadata": {},
          "output_type": "execute_result"
        }
      ],
      "source": [
        "### 컬럼 명의 변경\n",
        "CCTV_Seoul.columns"
      ]
    },
    {
      "cell_type": "code",
      "execution_count": 215,
      "id": "ecd9c3c6-2647-4a7d-8f5a-16ba8f84a9a0",
      "metadata": {
        "id": "ecd9c3c6-2647-4a7d-8f5a-16ba8f84a9a0",
        "outputId": "fd6cc2fb-e3a4-44ee-ba53-aa1bcc337ada"
      },
      "outputs": [
        {
          "data": {
            "text/plain": [
              "'기관명'"
            ]
          },
          "execution_count": 215,
          "metadata": {},
          "output_type": "execute_result"
        }
      ],
      "source": [
        "### 특정 컬럼 출력\n",
        "CCTV_Seoul.columns[0]"
      ]
    },
    {
      "cell_type": "code",
      "execution_count": 216,
      "id": "df918783-7358-48c4-b1e9-ca58fd2aec71",
      "metadata": {
        "id": "df918783-7358-48c4-b1e9-ca58fd2aec71"
      },
      "outputs": [],
      "source": [
        "### 컬럼명 변경하기\n",
        "CCTV_Seoul.rename(columns={CCTV_Seoul.columns[0] : \"구별\"},inplace=True)"
      ]
    },
    {
      "cell_type": "code",
      "execution_count": 217,
      "id": "af593be5-c3b4-4ab9-822f-de93c8d09151",
      "metadata": {
        "id": "af593be5-c3b4-4ab9-822f-de93c8d09151",
        "outputId": "3328db54-3253-40f7-980d-82286c16c05b"
      },
      "outputs": [
        {
          "data": {
            "text/html": [
              "<div>\n",
              "<style scoped>\n",
              "    .dataframe tbody tr th:only-of-type {\n",
              "        vertical-align: middle;\n",
              "    }\n",
              "\n",
              "    .dataframe tbody tr th {\n",
              "        vertical-align: top;\n",
              "    }\n",
              "\n",
              "    .dataframe thead th {\n",
              "        text-align: right;\n",
              "    }\n",
              "</style>\n",
              "<table border=\"1\" class=\"dataframe\">\n",
              "  <thead>\n",
              "    <tr style=\"text-align: right;\">\n",
              "      <th></th>\n",
              "      <th>구별</th>\n",
              "      <th>소계</th>\n",
              "      <th>2013년도 이전</th>\n",
              "      <th>2014년</th>\n",
              "      <th>2015년</th>\n",
              "      <th>2016년</th>\n",
              "    </tr>\n",
              "  </thead>\n",
              "  <tbody>\n",
              "    <tr>\n",
              "      <th>0</th>\n",
              "      <td>강남구</td>\n",
              "      <td>3238</td>\n",
              "      <td>1292</td>\n",
              "      <td>430</td>\n",
              "      <td>584</td>\n",
              "      <td>932</td>\n",
              "    </tr>\n",
              "    <tr>\n",
              "      <th>1</th>\n",
              "      <td>강동구</td>\n",
              "      <td>1010</td>\n",
              "      <td>379</td>\n",
              "      <td>99</td>\n",
              "      <td>155</td>\n",
              "      <td>377</td>\n",
              "    </tr>\n",
              "    <tr>\n",
              "      <th>2</th>\n",
              "      <td>강북구</td>\n",
              "      <td>831</td>\n",
              "      <td>369</td>\n",
              "      <td>120</td>\n",
              "      <td>138</td>\n",
              "      <td>204</td>\n",
              "    </tr>\n",
              "    <tr>\n",
              "      <th>3</th>\n",
              "      <td>강서구</td>\n",
              "      <td>911</td>\n",
              "      <td>388</td>\n",
              "      <td>258</td>\n",
              "      <td>184</td>\n",
              "      <td>81</td>\n",
              "    </tr>\n",
              "    <tr>\n",
              "      <th>4</th>\n",
              "      <td>관악구</td>\n",
              "      <td>2109</td>\n",
              "      <td>846</td>\n",
              "      <td>260</td>\n",
              "      <td>390</td>\n",
              "      <td>613</td>\n",
              "    </tr>\n",
              "  </tbody>\n",
              "</table>\n",
              "</div>"
            ],
            "text/plain": [
              "    구별    소계  2013년도 이전  2014년  2015년  2016년\n",
              "0  강남구  3238       1292    430    584    932\n",
              "1  강동구  1010        379     99    155    377\n",
              "2  강북구   831        369    120    138    204\n",
              "3  강서구   911        388    258    184     81\n",
              "4  관악구  2109        846    260    390    613"
            ]
          },
          "execution_count": 217,
          "metadata": {},
          "output_type": "execute_result"
        }
      ],
      "source": [
        "CCTV_Seoul.head()"
      ]
    },
    {
      "cell_type": "code",
      "execution_count": 218,
      "id": "9ad6bfb6-ad2b-4489-9b24-1445444d659e",
      "metadata": {
        "id": "9ad6bfb6-ad2b-4489-9b24-1445444d659e",
        "outputId": "60e0511c-ddbb-4323-9c73-7e893b1632a8"
      },
      "outputs": [
        {
          "data": {
            "text/html": [
              "<div>\n",
              "<style scoped>\n",
              "    .dataframe tbody tr th:only-of-type {\n",
              "        vertical-align: middle;\n",
              "    }\n",
              "\n",
              "    .dataframe tbody tr th {\n",
              "        vertical-align: top;\n",
              "    }\n",
              "\n",
              "    .dataframe thead th {\n",
              "        text-align: right;\n",
              "    }\n",
              "</style>\n",
              "<table border=\"1\" class=\"dataframe\">\n",
              "  <thead>\n",
              "    <tr style=\"text-align: right;\">\n",
              "      <th></th>\n",
              "      <th>자치구</th>\n",
              "      <th>계</th>\n",
              "      <th>계.1</th>\n",
              "      <th>계.2</th>\n",
              "      <th>65세이상고령자</th>\n",
              "    </tr>\n",
              "  </thead>\n",
              "  <tbody>\n",
              "    <tr>\n",
              "      <th>0</th>\n",
              "      <td>합계</td>\n",
              "      <td>10124579</td>\n",
              "      <td>9857426</td>\n",
              "      <td>267153</td>\n",
              "      <td>1365126</td>\n",
              "    </tr>\n",
              "    <tr>\n",
              "      <th>1</th>\n",
              "      <td>종로구</td>\n",
              "      <td>164257</td>\n",
              "      <td>154770</td>\n",
              "      <td>9487</td>\n",
              "      <td>26182</td>\n",
              "    </tr>\n",
              "    <tr>\n",
              "      <th>2</th>\n",
              "      <td>중구</td>\n",
              "      <td>134593</td>\n",
              "      <td>125709</td>\n",
              "      <td>8884</td>\n",
              "      <td>21384</td>\n",
              "    </tr>\n",
              "    <tr>\n",
              "      <th>3</th>\n",
              "      <td>용산구</td>\n",
              "      <td>244444</td>\n",
              "      <td>229161</td>\n",
              "      <td>15283</td>\n",
              "      <td>36882</td>\n",
              "    </tr>\n",
              "    <tr>\n",
              "      <th>4</th>\n",
              "      <td>성동구</td>\n",
              "      <td>312711</td>\n",
              "      <td>304808</td>\n",
              "      <td>7903</td>\n",
              "      <td>41273</td>\n",
              "    </tr>\n",
              "  </tbody>\n",
              "</table>\n",
              "</div>"
            ],
            "text/plain": [
              "   자치구         계      계.1     계.2  65세이상고령자\n",
              "0   합계  10124579  9857426  267153   1365126\n",
              "1  종로구    164257   154770    9487     26182\n",
              "2   중구    134593   125709    8884     21384\n",
              "3  용산구    244444   229161   15283     36882\n",
              "4  성동구    312711   304808    7903     41273"
            ]
          },
          "execution_count": 218,
          "metadata": {},
          "output_type": "execute_result"
        }
      ],
      "source": [
        "### 엑셀 파일 읽기\n",
        "pop_Seoul = pd.read_excel(\"../../data/01.Seoul_CCTV/01. Seoul_Population.xls\",header=2,usecols=\"B,D,G,J,N\")\n",
        "pop_Seoul.head()"
      ]
    },
    {
      "cell_type": "code",
      "execution_count": 219,
      "id": "d94dd209-5b90-4cda-a0b7-7c93b93b0d3c",
      "metadata": {
        "id": "d94dd209-5b90-4cda-a0b7-7c93b93b0d3c"
      },
      "outputs": [],
      "source": [
        "pop_Seoul.rename(columns={pop_Seoul.columns[0]:\"구별\"},inplace=True)\n",
        "pop_Seoul.rename(columns={pop_Seoul.columns[1]:\"인구수\"},inplace=True)\n",
        "pop_Seoul.rename(columns={pop_Seoul.columns[2]:\"한국인\"},inplace=True)\n",
        "pop_Seoul.rename(columns={pop_Seoul.columns[3]:\"외국인\"},inplace=True)\n",
        "pop_Seoul.rename(columns={pop_Seoul.columns[4]:\"고령자\"},inplace=True)"
      ]
    },
    {
      "cell_type": "code",
      "execution_count": 220,
      "id": "c673b575-53fc-4cdd-ae19-d3fc29c46b00",
      "metadata": {
        "id": "c673b575-53fc-4cdd-ae19-d3fc29c46b00",
        "outputId": "94753410-045c-4450-9d4e-899742e82f08"
      },
      "outputs": [
        {
          "data": {
            "text/html": [
              "<div>\n",
              "<style scoped>\n",
              "    .dataframe tbody tr th:only-of-type {\n",
              "        vertical-align: middle;\n",
              "    }\n",
              "\n",
              "    .dataframe tbody tr th {\n",
              "        vertical-align: top;\n",
              "    }\n",
              "\n",
              "    .dataframe thead th {\n",
              "        text-align: right;\n",
              "    }\n",
              "</style>\n",
              "<table border=\"1\" class=\"dataframe\">\n",
              "  <thead>\n",
              "    <tr style=\"text-align: right;\">\n",
              "      <th></th>\n",
              "      <th>구별</th>\n",
              "      <th>인구수</th>\n",
              "      <th>한국인</th>\n",
              "      <th>외국인</th>\n",
              "      <th>고령자</th>\n",
              "    </tr>\n",
              "  </thead>\n",
              "  <tbody>\n",
              "    <tr>\n",
              "      <th>0</th>\n",
              "      <td>합계</td>\n",
              "      <td>10124579</td>\n",
              "      <td>9857426</td>\n",
              "      <td>267153</td>\n",
              "      <td>1365126</td>\n",
              "    </tr>\n",
              "    <tr>\n",
              "      <th>1</th>\n",
              "      <td>종로구</td>\n",
              "      <td>164257</td>\n",
              "      <td>154770</td>\n",
              "      <td>9487</td>\n",
              "      <td>26182</td>\n",
              "    </tr>\n",
              "    <tr>\n",
              "      <th>2</th>\n",
              "      <td>중구</td>\n",
              "      <td>134593</td>\n",
              "      <td>125709</td>\n",
              "      <td>8884</td>\n",
              "      <td>21384</td>\n",
              "    </tr>\n",
              "    <tr>\n",
              "      <th>3</th>\n",
              "      <td>용산구</td>\n",
              "      <td>244444</td>\n",
              "      <td>229161</td>\n",
              "      <td>15283</td>\n",
              "      <td>36882</td>\n",
              "    </tr>\n",
              "    <tr>\n",
              "      <th>4</th>\n",
              "      <td>성동구</td>\n",
              "      <td>312711</td>\n",
              "      <td>304808</td>\n",
              "      <td>7903</td>\n",
              "      <td>41273</td>\n",
              "    </tr>\n",
              "  </tbody>\n",
              "</table>\n",
              "</div>"
            ],
            "text/plain": [
              "    구별       인구수      한국인     외국인      고령자\n",
              "0   합계  10124579  9857426  267153  1365126\n",
              "1  종로구    164257   154770    9487    26182\n",
              "2   중구    134593   125709    8884    21384\n",
              "3  용산구    244444   229161   15283    36882\n",
              "4  성동구    312711   304808    7903    41273"
            ]
          },
          "execution_count": 220,
          "metadata": {},
          "output_type": "execute_result"
        }
      ],
      "source": [
        "pop_Seoul.head()"
      ]
    },
    {
      "cell_type": "markdown",
      "id": "67b46932",
      "metadata": {
        "id": "67b46932"
      },
      "source": [
        "---"
      ]
    },
    {
      "cell_type": "markdown",
      "id": "c66b8c5a-72a6-4364-a948-baac6ade4b33",
      "metadata": {
        "id": "c66b8c5a-72a6-4364-a948-baac6ade4b33"
      },
      "source": [
        "# 2.Pandas의 기초\n",
        "- 파이썬에서 R만큼의 강력한 데이터 핸들링을제공하는 모듈\n",
        "- 단일 프로세스에서는 최대 효율\n",
        "- 코딩이 가능한 엑셀"
      ]
    },
    {
      "cell_type": "code",
      "execution_count": 221,
      "id": "e213a426-0842-4b62-9473-b97b344b3d36",
      "metadata": {
        "id": "e213a426-0842-4b62-9473-b97b344b3d36"
      },
      "outputs": [],
      "source": [
        "import pandas as pd\n",
        "import numpy as np"
      ]
    },
    {
      "cell_type": "markdown",
      "id": "72d094d8-2953-4258-8f6f-c080595271de",
      "metadata": {
        "id": "72d094d8-2953-4258-8f6f-c080595271de"
      },
      "source": [
        "- pandas는 통상적으로 pd\n",
        "- numpy는 통상적으로 np"
      ]
    },
    {
      "cell_type": "markdown",
      "id": "a7812615-754c-447a-8943-45cc6672cfb6",
      "metadata": {
        "id": "a7812615-754c-447a-8943-45cc6672cfb6"
      },
      "source": [
        "# Series\n",
        "- index 와 Value 로 이뤄짐\n",
        "- 한 가지 데이터 형만 가질 수 있음"
      ]
    },
    {
      "cell_type": "code",
      "execution_count": 222,
      "id": "a250f9d3-82c4-4761-a0b0-e28d3b56febb",
      "metadata": {
        "id": "a250f9d3-82c4-4761-a0b0-e28d3b56febb",
        "outputId": "2a0381e3-f96c-4774-f2aa-a3ad74f42386"
      },
      "outputs": [
        {
          "data": {
            "text/plain": [
              "0    1\n",
              "1    2\n",
              "2    3\n",
              "3    4\n",
              "dtype: int64"
            ]
          },
          "execution_count": 222,
          "metadata": {},
          "output_type": "execute_result"
        }
      ],
      "source": [
        "pd.Series([1,2,3,4])"
      ]
    },
    {
      "cell_type": "code",
      "execution_count": 223,
      "id": "6a2bf8d6-661d-4bfb-8e0e-8947173e1b1c",
      "metadata": {
        "id": "6a2bf8d6-661d-4bfb-8e0e-8947173e1b1c",
        "outputId": "ef911990-b3c7-456f-ee3c-465efdcc08f2"
      },
      "outputs": [
        {
          "data": {
            "text/plain": [
              "0    1.0\n",
              "1    2.0\n",
              "2    3.0\n",
              "3    4.0\n",
              "dtype: float64"
            ]
          },
          "execution_count": 223,
          "metadata": {},
          "output_type": "execute_result"
        }
      ],
      "source": [
        "pd.Series([1,2,3,4] , dtype=np.float64)"
      ]
    },
    {
      "cell_type": "code",
      "execution_count": 224,
      "id": "8ce16cf1-58e2-492d-af9f-daa56aa76f30",
      "metadata": {
        "id": "8ce16cf1-58e2-492d-af9f-daa56aa76f30",
        "outputId": "ef68a560-b834-41cb-9bb2-747d9783ad34"
      },
      "outputs": [
        {
          "data": {
            "text/plain": [
              "0    1\n",
              "1    2\n",
              "2    3\n",
              "3    4\n",
              "dtype: object"
            ]
          },
          "execution_count": 224,
          "metadata": {},
          "output_type": "execute_result"
        }
      ],
      "source": [
        "### object : String과 같음\n",
        "pd.Series([1,2,3,4] , dtype=str)"
      ]
    },
    {
      "cell_type": "code",
      "execution_count": 225,
      "id": "01460592-fdb5-4cc7-80a8-d86db042aaeb",
      "metadata": {
        "id": "01460592-fdb5-4cc7-80a8-d86db042aaeb",
        "outputId": "17b48c0b-19be-4b85-ef70-18e8cc49216b"
      },
      "outputs": [
        {
          "data": {
            "text/plain": [
              "0    1\n",
              "1    2\n",
              "2    3\n",
              "3    4\n",
              "dtype: int32"
            ]
          },
          "execution_count": 225,
          "metadata": {},
          "output_type": "execute_result"
        }
      ],
      "source": [
        "### numpy로 선언\n",
        "pd.Series(np.array([1,2,3,4]))"
      ]
    },
    {
      "cell_type": "code",
      "execution_count": 226,
      "id": "35b87b69-b371-4ad7-a6e3-c9ead3db55cc",
      "metadata": {
        "id": "35b87b69-b371-4ad7-a6e3-c9ead3db55cc",
        "outputId": "2bb4db0d-a19f-4e77-b4c1-0e10406920ff"
      },
      "outputs": [
        {
          "data": {
            "text/plain": [
              "Key    Value\n",
              "dtype: object"
            ]
          },
          "execution_count": 226,
          "metadata": {},
          "output_type": "execute_result"
        }
      ],
      "source": [
        "### 딕셔너리 선언\n",
        "pd.Series({\"Key\":\"Value\"})"
      ]
    },
    {
      "cell_type": "code",
      "execution_count": 227,
      "id": "9261888f-1c3b-41cf-885f-63aa075ab1b5",
      "metadata": {
        "id": "9261888f-1c3b-41cf-885f-63aa075ab1b5",
        "outputId": "2e546deb-488f-4f5d-e4ad-8ebdb4b3f86b"
      },
      "outputs": [
        {
          "data": {
            "text/plain": [
              "0    1\n",
              "1    2\n",
              "2    3\n",
              "3    4\n",
              "4    5\n",
              "dtype: object"
            ]
          },
          "execution_count": 227,
          "metadata": {},
          "output_type": "execute_result"
        }
      ],
      "source": [
        "### 숫자와 문자열을 동시에 선언가능 - 결과값 : object\n",
        "data=pd.Series([1,2,3,4,\"5\"])\n",
        "data"
      ]
    },
    {
      "cell_type": "code",
      "execution_count": 228,
      "id": "fd265205-280a-437e-827c-19cdfbb921c1",
      "metadata": {
        "id": "fd265205-280a-437e-827c-19cdfbb921c1",
        "outputId": "4e9bc94f-39a4-44c1-dcb9-69a8d6076023"
      },
      "outputs": [
        {
          "data": {
            "text/plain": [
              "0    1\n",
              "1    0\n",
              "2    1\n",
              "3    0\n",
              "dtype: int64"
            ]
          },
          "execution_count": 228,
          "metadata": {},
          "output_type": "execute_result"
        }
      ],
      "source": [
        "### 짝수만 찾기\n",
        "data=pd.Series([1,2,3,4])\n",
        "data%2"
      ]
    },
    {
      "cell_type": "markdown",
      "id": "8e79dc7d-0769-4f15-94c3-39504c9243a1",
      "metadata": {
        "id": "8e79dc7d-0769-4f15-94c3-39504c9243a1"
      },
      "source": [
        "### 날짜데이터\n",
        "- 날짜 : 문자열로 선언\n",
        "- periods : 언제까지 할건지"
      ]
    },
    {
      "cell_type": "code",
      "execution_count": 229,
      "id": "cd5ae4a7-4a07-439a-83b8-1a4381a82707",
      "metadata": {
        "id": "cd5ae4a7-4a07-439a-83b8-1a4381a82707",
        "outputId": "7eb05db4-b19f-4558-bb2e-b5c7e2e670e8"
      },
      "outputs": [
        {
          "data": {
            "text/plain": [
              "DatetimeIndex(['2025-05-24', '2025-05-25', '2025-05-26', '2025-05-27',\n",
              "               '2025-05-28', '2025-05-29'],\n",
              "              dtype='datetime64[ns]', freq='D')"
            ]
          },
          "execution_count": 229,
          "metadata": {},
          "output_type": "execute_result"
        }
      ],
      "source": [
        "pd.date_range(\"20250524\",periods=6)"
      ]
    },
    {
      "cell_type": "markdown",
      "id": "2624b09b",
      "metadata": {
        "id": "2624b09b"
      },
      "source": [
        "---"
      ]
    },
    {
      "cell_type": "markdown",
      "id": "465f94e0",
      "metadata": {
        "id": "465f94e0"
      },
      "source": [
        "## DataFrame\n",
        "- pd.DataFrame()\n",
        "- index, value, column으로 이뤄짐"
      ]
    },
    {
      "cell_type": "code",
      "execution_count": 230,
      "id": "7533fbfc",
      "metadata": {
        "id": "7533fbfc"
      },
      "outputs": [],
      "source": [
        "### 표준 정규분포에서 샘플링한 난수 생성\n",
        "data=np.random.randn(6,4)\n",
        "dates=pd.date_range(\"20250524\",periods=6)\n",
        "\n",
        "df=pd.DataFrame(data,index=dates,columns=[\"A\",\"B\",\"C\",\"D\"])"
      ]
    },
    {
      "cell_type": "markdown",
      "id": "b0605c13",
      "metadata": {
        "id": "b0605c13"
      },
      "source": [
        "### 데이터 프레임 정보 탐색"
      ]
    },
    {
      "cell_type": "markdown",
      "id": "0d7c2567",
      "metadata": {
        "id": "0d7c2567"
      },
      "source": [
        "#### df.head()\n",
        "-  위쪽 데이터 출력"
      ]
    },
    {
      "cell_type": "code",
      "execution_count": 231,
      "id": "f5821df3",
      "metadata": {
        "id": "f5821df3",
        "outputId": "b4a6f808-3cf5-4741-df7b-a3f3e40b7930"
      },
      "outputs": [
        {
          "data": {
            "text/html": [
              "<div>\n",
              "<style scoped>\n",
              "    .dataframe tbody tr th:only-of-type {\n",
              "        vertical-align: middle;\n",
              "    }\n",
              "\n",
              "    .dataframe tbody tr th {\n",
              "        vertical-align: top;\n",
              "    }\n",
              "\n",
              "    .dataframe thead th {\n",
              "        text-align: right;\n",
              "    }\n",
              "</style>\n",
              "<table border=\"1\" class=\"dataframe\">\n",
              "  <thead>\n",
              "    <tr style=\"text-align: right;\">\n",
              "      <th></th>\n",
              "      <th>A</th>\n",
              "      <th>B</th>\n",
              "      <th>C</th>\n",
              "      <th>D</th>\n",
              "    </tr>\n",
              "  </thead>\n",
              "  <tbody>\n",
              "    <tr>\n",
              "      <th>2025-05-24</th>\n",
              "      <td>-0.036750</td>\n",
              "      <td>-1.303097</td>\n",
              "      <td>-0.131173</td>\n",
              "      <td>-0.601029</td>\n",
              "    </tr>\n",
              "    <tr>\n",
              "      <th>2025-05-25</th>\n",
              "      <td>1.694848</td>\n",
              "      <td>2.275032</td>\n",
              "      <td>-0.668905</td>\n",
              "      <td>-3.324008</td>\n",
              "    </tr>\n",
              "    <tr>\n",
              "      <th>2025-05-26</th>\n",
              "      <td>-0.823800</td>\n",
              "      <td>0.514888</td>\n",
              "      <td>0.772223</td>\n",
              "      <td>-1.022103</td>\n",
              "    </tr>\n",
              "    <tr>\n",
              "      <th>2025-05-27</th>\n",
              "      <td>1.300190</td>\n",
              "      <td>-0.888894</td>\n",
              "      <td>0.202337</td>\n",
              "      <td>-0.218791</td>\n",
              "    </tr>\n",
              "    <tr>\n",
              "      <th>2025-05-28</th>\n",
              "      <td>1.314891</td>\n",
              "      <td>-0.173985</td>\n",
              "      <td>-0.912074</td>\n",
              "      <td>-1.082439</td>\n",
              "    </tr>\n",
              "  </tbody>\n",
              "</table>\n",
              "</div>"
            ],
            "text/plain": [
              "                   A         B         C         D\n",
              "2025-05-24 -0.036750 -1.303097 -0.131173 -0.601029\n",
              "2025-05-25  1.694848  2.275032 -0.668905 -3.324008\n",
              "2025-05-26 -0.823800  0.514888  0.772223 -1.022103\n",
              "2025-05-27  1.300190 -0.888894  0.202337 -0.218791\n",
              "2025-05-28  1.314891 -0.173985 -0.912074 -1.082439"
            ]
          },
          "execution_count": 231,
          "metadata": {},
          "output_type": "execute_result"
        }
      ],
      "source": [
        "df.head()"
      ]
    },
    {
      "cell_type": "markdown",
      "id": "17c519a0",
      "metadata": {
        "id": "17c519a0"
      },
      "source": [
        "#### df.tail()\n",
        "-  아래쪽 데이터 출력"
      ]
    },
    {
      "cell_type": "code",
      "execution_count": 232,
      "id": "7e681f50",
      "metadata": {
        "id": "7e681f50",
        "outputId": "9feb1503-d438-4523-a302-d47598429641"
      },
      "outputs": [
        {
          "data": {
            "text/html": [
              "<div>\n",
              "<style scoped>\n",
              "    .dataframe tbody tr th:only-of-type {\n",
              "        vertical-align: middle;\n",
              "    }\n",
              "\n",
              "    .dataframe tbody tr th {\n",
              "        vertical-align: top;\n",
              "    }\n",
              "\n",
              "    .dataframe thead th {\n",
              "        text-align: right;\n",
              "    }\n",
              "</style>\n",
              "<table border=\"1\" class=\"dataframe\">\n",
              "  <thead>\n",
              "    <tr style=\"text-align: right;\">\n",
              "      <th></th>\n",
              "      <th>A</th>\n",
              "      <th>B</th>\n",
              "      <th>C</th>\n",
              "      <th>D</th>\n",
              "    </tr>\n",
              "  </thead>\n",
              "  <tbody>\n",
              "    <tr>\n",
              "      <th>2025-05-25</th>\n",
              "      <td>1.694848</td>\n",
              "      <td>2.275032</td>\n",
              "      <td>-0.668905</td>\n",
              "      <td>-3.324008</td>\n",
              "    </tr>\n",
              "    <tr>\n",
              "      <th>2025-05-26</th>\n",
              "      <td>-0.823800</td>\n",
              "      <td>0.514888</td>\n",
              "      <td>0.772223</td>\n",
              "      <td>-1.022103</td>\n",
              "    </tr>\n",
              "    <tr>\n",
              "      <th>2025-05-27</th>\n",
              "      <td>1.300190</td>\n",
              "      <td>-0.888894</td>\n",
              "      <td>0.202337</td>\n",
              "      <td>-0.218791</td>\n",
              "    </tr>\n",
              "    <tr>\n",
              "      <th>2025-05-28</th>\n",
              "      <td>1.314891</td>\n",
              "      <td>-0.173985</td>\n",
              "      <td>-0.912074</td>\n",
              "      <td>-1.082439</td>\n",
              "    </tr>\n",
              "    <tr>\n",
              "      <th>2025-05-29</th>\n",
              "      <td>-0.365092</td>\n",
              "      <td>-0.461661</td>\n",
              "      <td>0.207336</td>\n",
              "      <td>0.521803</td>\n",
              "    </tr>\n",
              "  </tbody>\n",
              "</table>\n",
              "</div>"
            ],
            "text/plain": [
              "                   A         B         C         D\n",
              "2025-05-25  1.694848  2.275032 -0.668905 -3.324008\n",
              "2025-05-26 -0.823800  0.514888  0.772223 -1.022103\n",
              "2025-05-27  1.300190 -0.888894  0.202337 -0.218791\n",
              "2025-05-28  1.314891 -0.173985 -0.912074 -1.082439\n",
              "2025-05-29 -0.365092 -0.461661  0.207336  0.521803"
            ]
          },
          "execution_count": 232,
          "metadata": {},
          "output_type": "execute_result"
        }
      ],
      "source": [
        "df.tail()"
      ]
    },
    {
      "cell_type": "markdown",
      "id": "b9d69ca0",
      "metadata": {
        "id": "b9d69ca0"
      },
      "source": [
        "### df.index\n",
        "- 인덱스 출력"
      ]
    },
    {
      "cell_type": "code",
      "execution_count": 233,
      "id": "8aeee164",
      "metadata": {
        "id": "8aeee164",
        "outputId": "4ffcb7d3-91cb-4f96-a43f-94a6c536e498"
      },
      "outputs": [
        {
          "data": {
            "text/plain": [
              "DatetimeIndex(['2025-05-24', '2025-05-25', '2025-05-26', '2025-05-27',\n",
              "               '2025-05-28', '2025-05-29'],\n",
              "              dtype='datetime64[ns]', freq='D')"
            ]
          },
          "execution_count": 233,
          "metadata": {},
          "output_type": "execute_result"
        }
      ],
      "source": [
        "df.index"
      ]
    },
    {
      "cell_type": "markdown",
      "id": "cd69386e",
      "metadata": {
        "id": "cd69386e"
      },
      "source": [
        "### df.columns\n",
        "- 컬럼 출력"
      ]
    },
    {
      "cell_type": "code",
      "execution_count": 234,
      "id": "1de04e37",
      "metadata": {
        "id": "1de04e37",
        "outputId": "a67b7a28-ed47-44b0-994e-25a2af7950ca"
      },
      "outputs": [
        {
          "data": {
            "text/plain": [
              "Index(['A', 'B', 'C', 'D'], dtype='object')"
            ]
          },
          "execution_count": 234,
          "metadata": {},
          "output_type": "execute_result"
        }
      ],
      "source": [
        "df.columns"
      ]
    },
    {
      "cell_type": "markdown",
      "id": "0ce8a0e7",
      "metadata": {
        "id": "0ce8a0e7"
      },
      "source": [
        "### df.values\n",
        "- 값들 출력  "
      ]
    },
    {
      "cell_type": "code",
      "execution_count": 235,
      "id": "4f2c1090",
      "metadata": {
        "id": "4f2c1090",
        "outputId": "a093cd75-38f3-4274-c954-1f9ceade75cd"
      },
      "outputs": [
        {
          "data": {
            "text/plain": [
              "array([[-0.0367499 , -1.30309695, -0.13117262, -0.60102896],\n",
              "       [ 1.69484838,  2.27503201, -0.66890503, -3.32400752],\n",
              "       [-0.82380036,  0.51488759,  0.77222259, -1.02210285],\n",
              "       [ 1.30018962, -0.88889427,  0.20233651, -0.21879125],\n",
              "       [ 1.31489139, -0.17398475, -0.91207415, -1.08243894],\n",
              "       [-0.36509163, -0.46166075,  0.20733578,  0.52180311]])"
            ]
          },
          "execution_count": 235,
          "metadata": {},
          "output_type": "execute_result"
        }
      ],
      "source": [
        "df.values"
      ]
    },
    {
      "cell_type": "markdown",
      "id": "62aa22ee",
      "metadata": {
        "id": "62aa22ee"
      },
      "source": [
        "### df.info()\n",
        "- 데이터 프레임의 기본 정보 확인"
      ]
    },
    {
      "cell_type": "code",
      "execution_count": 236,
      "id": "41d25ced",
      "metadata": {
        "id": "41d25ced",
        "outputId": "b7637cd9-4b5e-4420-8553-a79bb28bf6dd"
      },
      "outputs": [
        {
          "name": "stdout",
          "output_type": "stream",
          "text": [
            "<class 'pandas.core.frame.DataFrame'>\n",
            "DatetimeIndex: 6 entries, 2025-05-24 to 2025-05-29\n",
            "Freq: D\n",
            "Data columns (total 4 columns):\n",
            " #   Column  Non-Null Count  Dtype  \n",
            "---  ------  --------------  -----  \n",
            " 0   A       6 non-null      float64\n",
            " 1   B       6 non-null      float64\n",
            " 2   C       6 non-null      float64\n",
            " 3   D       6 non-null      float64\n",
            "dtypes: float64(4)\n",
            "memory usage: 240.0 bytes\n"
          ]
        }
      ],
      "source": [
        "df.info()"
      ]
    },
    {
      "cell_type": "markdown",
      "id": "b360a72d",
      "metadata": {
        "id": "b360a72d"
      },
      "source": [
        "### df.describe()\n",
        "- 데이터 프레임의 기술 통계 정보를 확인 가능"
      ]
    },
    {
      "cell_type": "code",
      "execution_count": 237,
      "id": "553e6309",
      "metadata": {
        "id": "553e6309",
        "outputId": "cd02bd07-78c0-41ca-8ad2-4b347d72405c"
      },
      "outputs": [
        {
          "data": {
            "text/html": [
              "<div>\n",
              "<style scoped>\n",
              "    .dataframe tbody tr th:only-of-type {\n",
              "        vertical-align: middle;\n",
              "    }\n",
              "\n",
              "    .dataframe tbody tr th {\n",
              "        vertical-align: top;\n",
              "    }\n",
              "\n",
              "    .dataframe thead th {\n",
              "        text-align: right;\n",
              "    }\n",
              "</style>\n",
              "<table border=\"1\" class=\"dataframe\">\n",
              "  <thead>\n",
              "    <tr style=\"text-align: right;\">\n",
              "      <th></th>\n",
              "      <th>A</th>\n",
              "      <th>B</th>\n",
              "      <th>C</th>\n",
              "      <th>D</th>\n",
              "    </tr>\n",
              "  </thead>\n",
              "  <tbody>\n",
              "    <tr>\n",
              "      <th>count</th>\n",
              "      <td>6.000000</td>\n",
              "      <td>6.000000</td>\n",
              "      <td>6.000000</td>\n",
              "      <td>6.000000</td>\n",
              "    </tr>\n",
              "    <tr>\n",
              "      <th>mean</th>\n",
              "      <td>0.514048</td>\n",
              "      <td>-0.006286</td>\n",
              "      <td>-0.088376</td>\n",
              "      <td>-0.954428</td>\n",
              "    </tr>\n",
              "    <tr>\n",
              "      <th>std</th>\n",
              "      <td>1.050691</td>\n",
              "      <td>1.278455</td>\n",
              "      <td>0.621275</td>\n",
              "      <td>1.302397</td>\n",
              "    </tr>\n",
              "    <tr>\n",
              "      <th>min</th>\n",
              "      <td>-0.823800</td>\n",
              "      <td>-1.303097</td>\n",
              "      <td>-0.912074</td>\n",
              "      <td>-3.324008</td>\n",
              "    </tr>\n",
              "    <tr>\n",
              "      <th>25%</th>\n",
              "      <td>-0.283006</td>\n",
              "      <td>-0.782086</td>\n",
              "      <td>-0.534472</td>\n",
              "      <td>-1.067355</td>\n",
              "    </tr>\n",
              "    <tr>\n",
              "      <th>50%</th>\n",
              "      <td>0.631720</td>\n",
              "      <td>-0.317823</td>\n",
              "      <td>0.035582</td>\n",
              "      <td>-0.811566</td>\n",
              "    </tr>\n",
              "    <tr>\n",
              "      <th>75%</th>\n",
              "      <td>1.311216</td>\n",
              "      <td>0.342670</td>\n",
              "      <td>0.206086</td>\n",
              "      <td>-0.314351</td>\n",
              "    </tr>\n",
              "    <tr>\n",
              "      <th>max</th>\n",
              "      <td>1.694848</td>\n",
              "      <td>2.275032</td>\n",
              "      <td>0.772223</td>\n",
              "      <td>0.521803</td>\n",
              "    </tr>\n",
              "  </tbody>\n",
              "</table>\n",
              "</div>"
            ],
            "text/plain": [
              "              A         B         C         D\n",
              "count  6.000000  6.000000  6.000000  6.000000\n",
              "mean   0.514048 -0.006286 -0.088376 -0.954428\n",
              "std    1.050691  1.278455  0.621275  1.302397\n",
              "min   -0.823800 -1.303097 -0.912074 -3.324008\n",
              "25%   -0.283006 -0.782086 -0.534472 -1.067355\n",
              "50%    0.631720 -0.317823  0.035582 -0.811566\n",
              "75%    1.311216  0.342670  0.206086 -0.314351\n",
              "max    1.694848  2.275032  0.772223  0.521803"
            ]
          },
          "execution_count": 237,
          "metadata": {},
          "output_type": "execute_result"
        }
      ],
      "source": [
        "df.describe()"
      ]
    },
    {
      "cell_type": "markdown",
      "id": "d74e6b3a",
      "metadata": {
        "id": "d74e6b3a"
      },
      "source": [
        "### df.sort_values()\n",
        "- 데이터 정렬\n",
        "- 특정 컬럼을 기준으로 데이터를 정렬함"
      ]
    },
    {
      "cell_type": "code",
      "execution_count": 238,
      "id": "073e673a",
      "metadata": {
        "id": "073e673a",
        "outputId": "8b810ed0-bac6-4045-d568-24d84fd5be65"
      },
      "outputs": [
        {
          "data": {
            "text/html": [
              "<div>\n",
              "<style scoped>\n",
              "    .dataframe tbody tr th:only-of-type {\n",
              "        vertical-align: middle;\n",
              "    }\n",
              "\n",
              "    .dataframe tbody tr th {\n",
              "        vertical-align: top;\n",
              "    }\n",
              "\n",
              "    .dataframe thead th {\n",
              "        text-align: right;\n",
              "    }\n",
              "</style>\n",
              "<table border=\"1\" class=\"dataframe\">\n",
              "  <thead>\n",
              "    <tr style=\"text-align: right;\">\n",
              "      <th></th>\n",
              "      <th>A</th>\n",
              "      <th>B</th>\n",
              "      <th>C</th>\n",
              "      <th>D</th>\n",
              "    </tr>\n",
              "  </thead>\n",
              "  <tbody>\n",
              "    <tr>\n",
              "      <th>2025-05-24</th>\n",
              "      <td>-0.036750</td>\n",
              "      <td>-1.303097</td>\n",
              "      <td>-0.131173</td>\n",
              "      <td>-0.601029</td>\n",
              "    </tr>\n",
              "    <tr>\n",
              "      <th>2025-05-25</th>\n",
              "      <td>1.694848</td>\n",
              "      <td>2.275032</td>\n",
              "      <td>-0.668905</td>\n",
              "      <td>-3.324008</td>\n",
              "    </tr>\n",
              "    <tr>\n",
              "      <th>2025-05-26</th>\n",
              "      <td>-0.823800</td>\n",
              "      <td>0.514888</td>\n",
              "      <td>0.772223</td>\n",
              "      <td>-1.022103</td>\n",
              "    </tr>\n",
              "    <tr>\n",
              "      <th>2025-05-27</th>\n",
              "      <td>1.300190</td>\n",
              "      <td>-0.888894</td>\n",
              "      <td>0.202337</td>\n",
              "      <td>-0.218791</td>\n",
              "    </tr>\n",
              "    <tr>\n",
              "      <th>2025-05-28</th>\n",
              "      <td>1.314891</td>\n",
              "      <td>-0.173985</td>\n",
              "      <td>-0.912074</td>\n",
              "      <td>-1.082439</td>\n",
              "    </tr>\n",
              "    <tr>\n",
              "      <th>2025-05-29</th>\n",
              "      <td>-0.365092</td>\n",
              "      <td>-0.461661</td>\n",
              "      <td>0.207336</td>\n",
              "      <td>0.521803</td>\n",
              "    </tr>\n",
              "  </tbody>\n",
              "</table>\n",
              "</div>"
            ],
            "text/plain": [
              "                   A         B         C         D\n",
              "2025-05-24 -0.036750 -1.303097 -0.131173 -0.601029\n",
              "2025-05-25  1.694848  2.275032 -0.668905 -3.324008\n",
              "2025-05-26 -0.823800  0.514888  0.772223 -1.022103\n",
              "2025-05-27  1.300190 -0.888894  0.202337 -0.218791\n",
              "2025-05-28  1.314891 -0.173985 -0.912074 -1.082439\n",
              "2025-05-29 -0.365092 -0.461661  0.207336  0.521803"
            ]
          },
          "execution_count": 238,
          "metadata": {},
          "output_type": "execute_result"
        }
      ],
      "source": [
        "df"
      ]
    },
    {
      "cell_type": "code",
      "execution_count": 239,
      "id": "a6ca1529",
      "metadata": {
        "id": "a6ca1529",
        "outputId": "e199d063-4bc5-49c0-c636-89b8045f4a9e"
      },
      "outputs": [
        {
          "data": {
            "text/html": [
              "<div>\n",
              "<style scoped>\n",
              "    .dataframe tbody tr th:only-of-type {\n",
              "        vertical-align: middle;\n",
              "    }\n",
              "\n",
              "    .dataframe tbody tr th {\n",
              "        vertical-align: top;\n",
              "    }\n",
              "\n",
              "    .dataframe thead th {\n",
              "        text-align: right;\n",
              "    }\n",
              "</style>\n",
              "<table border=\"1\" class=\"dataframe\">\n",
              "  <thead>\n",
              "    <tr style=\"text-align: right;\">\n",
              "      <th></th>\n",
              "      <th>A</th>\n",
              "      <th>B</th>\n",
              "      <th>C</th>\n",
              "      <th>D</th>\n",
              "    </tr>\n",
              "  </thead>\n",
              "  <tbody>\n",
              "    <tr>\n",
              "      <th>2025-05-24</th>\n",
              "      <td>-0.036750</td>\n",
              "      <td>-1.303097</td>\n",
              "      <td>-0.131173</td>\n",
              "      <td>-0.601029</td>\n",
              "    </tr>\n",
              "    <tr>\n",
              "      <th>2025-05-27</th>\n",
              "      <td>1.300190</td>\n",
              "      <td>-0.888894</td>\n",
              "      <td>0.202337</td>\n",
              "      <td>-0.218791</td>\n",
              "    </tr>\n",
              "    <tr>\n",
              "      <th>2025-05-29</th>\n",
              "      <td>-0.365092</td>\n",
              "      <td>-0.461661</td>\n",
              "      <td>0.207336</td>\n",
              "      <td>0.521803</td>\n",
              "    </tr>\n",
              "    <tr>\n",
              "      <th>2025-05-28</th>\n",
              "      <td>1.314891</td>\n",
              "      <td>-0.173985</td>\n",
              "      <td>-0.912074</td>\n",
              "      <td>-1.082439</td>\n",
              "    </tr>\n",
              "    <tr>\n",
              "      <th>2025-05-26</th>\n",
              "      <td>-0.823800</td>\n",
              "      <td>0.514888</td>\n",
              "      <td>0.772223</td>\n",
              "      <td>-1.022103</td>\n",
              "    </tr>\n",
              "    <tr>\n",
              "      <th>2025-05-25</th>\n",
              "      <td>1.694848</td>\n",
              "      <td>2.275032</td>\n",
              "      <td>-0.668905</td>\n",
              "      <td>-3.324008</td>\n",
              "    </tr>\n",
              "  </tbody>\n",
              "</table>\n",
              "</div>"
            ],
            "text/plain": [
              "                   A         B         C         D\n",
              "2025-05-24 -0.036750 -1.303097 -0.131173 -0.601029\n",
              "2025-05-27  1.300190 -0.888894  0.202337 -0.218791\n",
              "2025-05-29 -0.365092 -0.461661  0.207336  0.521803\n",
              "2025-05-28  1.314891 -0.173985 -0.912074 -1.082439\n",
              "2025-05-26 -0.823800  0.514888  0.772223 -1.022103\n",
              "2025-05-25  1.694848  2.275032 -0.668905 -3.324008"
            ]
          },
          "execution_count": 239,
          "metadata": {},
          "output_type": "execute_result"
        }
      ],
      "source": [
        "df.sort_values(by=\"B\")"
      ]
    },
    {
      "cell_type": "markdown",
      "id": "c4ad775a",
      "metadata": {
        "id": "c4ad775a"
      },
      "source": [
        "##### ascending=False\n",
        "- 내림차순  하는 옵션"
      ]
    },
    {
      "cell_type": "code",
      "execution_count": 240,
      "id": "67e43110",
      "metadata": {
        "id": "67e43110",
        "outputId": "e69233f7-f7bb-4f38-a442-843ffbd68eda"
      },
      "outputs": [
        {
          "data": {
            "text/html": [
              "<div>\n",
              "<style scoped>\n",
              "    .dataframe tbody tr th:only-of-type {\n",
              "        vertical-align: middle;\n",
              "    }\n",
              "\n",
              "    .dataframe tbody tr th {\n",
              "        vertical-align: top;\n",
              "    }\n",
              "\n",
              "    .dataframe thead th {\n",
              "        text-align: right;\n",
              "    }\n",
              "</style>\n",
              "<table border=\"1\" class=\"dataframe\">\n",
              "  <thead>\n",
              "    <tr style=\"text-align: right;\">\n",
              "      <th></th>\n",
              "      <th>A</th>\n",
              "      <th>B</th>\n",
              "      <th>C</th>\n",
              "      <th>D</th>\n",
              "    </tr>\n",
              "  </thead>\n",
              "  <tbody>\n",
              "    <tr>\n",
              "      <th>2025-05-25</th>\n",
              "      <td>1.694848</td>\n",
              "      <td>2.275032</td>\n",
              "      <td>-0.668905</td>\n",
              "      <td>-3.324008</td>\n",
              "    </tr>\n",
              "    <tr>\n",
              "      <th>2025-05-26</th>\n",
              "      <td>-0.823800</td>\n",
              "      <td>0.514888</td>\n",
              "      <td>0.772223</td>\n",
              "      <td>-1.022103</td>\n",
              "    </tr>\n",
              "    <tr>\n",
              "      <th>2025-05-28</th>\n",
              "      <td>1.314891</td>\n",
              "      <td>-0.173985</td>\n",
              "      <td>-0.912074</td>\n",
              "      <td>-1.082439</td>\n",
              "    </tr>\n",
              "    <tr>\n",
              "      <th>2025-05-29</th>\n",
              "      <td>-0.365092</td>\n",
              "      <td>-0.461661</td>\n",
              "      <td>0.207336</td>\n",
              "      <td>0.521803</td>\n",
              "    </tr>\n",
              "    <tr>\n",
              "      <th>2025-05-27</th>\n",
              "      <td>1.300190</td>\n",
              "      <td>-0.888894</td>\n",
              "      <td>0.202337</td>\n",
              "      <td>-0.218791</td>\n",
              "    </tr>\n",
              "    <tr>\n",
              "      <th>2025-05-24</th>\n",
              "      <td>-0.036750</td>\n",
              "      <td>-1.303097</td>\n",
              "      <td>-0.131173</td>\n",
              "      <td>-0.601029</td>\n",
              "    </tr>\n",
              "  </tbody>\n",
              "</table>\n",
              "</div>"
            ],
            "text/plain": [
              "                   A         B         C         D\n",
              "2025-05-25  1.694848  2.275032 -0.668905 -3.324008\n",
              "2025-05-26 -0.823800  0.514888  0.772223 -1.022103\n",
              "2025-05-28  1.314891 -0.173985 -0.912074 -1.082439\n",
              "2025-05-29 -0.365092 -0.461661  0.207336  0.521803\n",
              "2025-05-27  1.300190 -0.888894  0.202337 -0.218791\n",
              "2025-05-24 -0.036750 -1.303097 -0.131173 -0.601029"
            ]
          },
          "execution_count": 240,
          "metadata": {},
          "output_type": "execute_result"
        }
      ],
      "source": [
        "df.sort_values(by=\"B\",ascending=False)"
      ]
    },
    {
      "cell_type": "markdown",
      "id": "e83cd11d",
      "metadata": {
        "id": "e83cd11d"
      },
      "source": [
        "##### inplace=True\n",
        "  정렬 저장하기  "
      ]
    },
    {
      "cell_type": "code",
      "execution_count": 241,
      "id": "3410c7cf",
      "metadata": {
        "id": "3410c7cf"
      },
      "outputs": [],
      "source": [
        "df.sort_values(by=\"B\",ascending=False,inplace=True)"
      ]
    },
    {
      "cell_type": "markdown",
      "id": "0560771f",
      "metadata": {
        "id": "0560771f"
      },
      "source": [
        "### 데이터 선택"
      ]
    },
    {
      "cell_type": "markdown",
      "id": "7ebffa0e",
      "metadata": {
        "id": "7ebffa0e"
      },
      "source": [
        "#### df[<컬럼명>]\n",
        "- 특정 컬럼 선택\n",
        "- 시리즈 타입을 리턴함"
      ]
    },
    {
      "cell_type": "code",
      "execution_count": 242,
      "id": "260086f4",
      "metadata": {
        "id": "260086f4",
        "outputId": "6810e61a-1049-4bef-ec61-2de7c33e72aa"
      },
      "outputs": [
        {
          "data": {
            "text/plain": [
              "2025-05-25    1.694848\n",
              "2025-05-26   -0.823800\n",
              "2025-05-28    1.314891\n",
              "2025-05-29   -0.365092\n",
              "2025-05-27    1.300190\n",
              "2025-05-24   -0.036750\n",
              "Name: A, dtype: float64"
            ]
          },
          "execution_count": 242,
          "metadata": {},
          "output_type": "execute_result"
        }
      ],
      "source": [
        "df[\"A\"]"
      ]
    },
    {
      "cell_type": "markdown",
      "id": "a5050a9f",
      "metadata": {
        "id": "a5050a9f"
      },
      "source": [
        "- 컬럼명이 알파벳인 경우 대괄화 없이 가능"
      ]
    },
    {
      "cell_type": "code",
      "execution_count": 243,
      "id": "c4d654f1",
      "metadata": {
        "id": "c4d654f1",
        "outputId": "59d53afa-26c4-43ab-b924-df4029843660"
      },
      "outputs": [
        {
          "data": {
            "text/plain": [
              "2025-05-25    1.694848\n",
              "2025-05-26   -0.823800\n",
              "2025-05-28    1.314891\n",
              "2025-05-29   -0.365092\n",
              "2025-05-27    1.300190\n",
              "2025-05-24   -0.036750\n",
              "Name: A, dtype: float64"
            ]
          },
          "execution_count": 243,
          "metadata": {},
          "output_type": "execute_result"
        }
      ],
      "source": [
        "df.A"
      ]
    },
    {
      "cell_type": "markdown",
      "id": "848144a5",
      "metadata": {
        "id": "848144a5"
      },
      "source": [
        "#### df[<컬럼1>,<컬럼2>]\n",
        "  - 복수의 컬럼 선택"
      ]
    },
    {
      "cell_type": "code",
      "execution_count": 244,
      "id": "3b0180f4",
      "metadata": {
        "id": "3b0180f4",
        "outputId": "d3ad4f49-7b7f-4f1f-fc84-b1ce5a20e58c"
      },
      "outputs": [
        {
          "data": {
            "text/html": [
              "<div>\n",
              "<style scoped>\n",
              "    .dataframe tbody tr th:only-of-type {\n",
              "        vertical-align: middle;\n",
              "    }\n",
              "\n",
              "    .dataframe tbody tr th {\n",
              "        vertical-align: top;\n",
              "    }\n",
              "\n",
              "    .dataframe thead th {\n",
              "        text-align: right;\n",
              "    }\n",
              "</style>\n",
              "<table border=\"1\" class=\"dataframe\">\n",
              "  <thead>\n",
              "    <tr style=\"text-align: right;\">\n",
              "      <th></th>\n",
              "      <th>A</th>\n",
              "      <th>B</th>\n",
              "    </tr>\n",
              "  </thead>\n",
              "  <tbody>\n",
              "    <tr>\n",
              "      <th>2025-05-25</th>\n",
              "      <td>1.694848</td>\n",
              "      <td>2.275032</td>\n",
              "    </tr>\n",
              "    <tr>\n",
              "      <th>2025-05-26</th>\n",
              "      <td>-0.823800</td>\n",
              "      <td>0.514888</td>\n",
              "    </tr>\n",
              "    <tr>\n",
              "      <th>2025-05-28</th>\n",
              "      <td>1.314891</td>\n",
              "      <td>-0.173985</td>\n",
              "    </tr>\n",
              "    <tr>\n",
              "      <th>2025-05-29</th>\n",
              "      <td>-0.365092</td>\n",
              "      <td>-0.461661</td>\n",
              "    </tr>\n",
              "    <tr>\n",
              "      <th>2025-05-27</th>\n",
              "      <td>1.300190</td>\n",
              "      <td>-0.888894</td>\n",
              "    </tr>\n",
              "    <tr>\n",
              "      <th>2025-05-24</th>\n",
              "      <td>-0.036750</td>\n",
              "      <td>-1.303097</td>\n",
              "    </tr>\n",
              "  </tbody>\n",
              "</table>\n",
              "</div>"
            ],
            "text/plain": [
              "                   A         B\n",
              "2025-05-25  1.694848  2.275032\n",
              "2025-05-26 -0.823800  0.514888\n",
              "2025-05-28  1.314891 -0.173985\n",
              "2025-05-29 -0.365092 -0.461661\n",
              "2025-05-27  1.300190 -0.888894\n",
              "2025-05-24 -0.036750 -1.303097"
            ]
          },
          "execution_count": 244,
          "metadata": {},
          "output_type": "execute_result"
        }
      ],
      "source": [
        "df[[\"A\",\"B\"]]"
      ]
    },
    {
      "cell_type": "markdown",
      "id": "a399ff82",
      "metadata": {
        "id": "a399ff82"
      },
      "source": [
        "#### df[n:m]\n",
        "- n부터 m-1까지 슬라이싱"
      ]
    },
    {
      "cell_type": "code",
      "execution_count": 245,
      "id": "b2d324a5",
      "metadata": {
        "id": "b2d324a5",
        "outputId": "9ab70498-3d26-42cc-d03b-4183a04e8151"
      },
      "outputs": [
        {
          "data": {
            "text/html": [
              "<div>\n",
              "<style scoped>\n",
              "    .dataframe tbody tr th:only-of-type {\n",
              "        vertical-align: middle;\n",
              "    }\n",
              "\n",
              "    .dataframe tbody tr th {\n",
              "        vertical-align: top;\n",
              "    }\n",
              "\n",
              "    .dataframe thead th {\n",
              "        text-align: right;\n",
              "    }\n",
              "</style>\n",
              "<table border=\"1\" class=\"dataframe\">\n",
              "  <thead>\n",
              "    <tr style=\"text-align: right;\">\n",
              "      <th></th>\n",
              "      <th>A</th>\n",
              "      <th>B</th>\n",
              "      <th>C</th>\n",
              "      <th>D</th>\n",
              "    </tr>\n",
              "  </thead>\n",
              "  <tbody>\n",
              "    <tr>\n",
              "      <th>2025-05-25</th>\n",
              "      <td>1.694848</td>\n",
              "      <td>2.275032</td>\n",
              "      <td>-0.668905</td>\n",
              "      <td>-3.324008</td>\n",
              "    </tr>\n",
              "    <tr>\n",
              "      <th>2025-05-26</th>\n",
              "      <td>-0.823800</td>\n",
              "      <td>0.514888</td>\n",
              "      <td>0.772223</td>\n",
              "      <td>-1.022103</td>\n",
              "    </tr>\n",
              "    <tr>\n",
              "      <th>2025-05-28</th>\n",
              "      <td>1.314891</td>\n",
              "      <td>-0.173985</td>\n",
              "      <td>-0.912074</td>\n",
              "      <td>-1.082439</td>\n",
              "    </tr>\n",
              "  </tbody>\n",
              "</table>\n",
              "</div>"
            ],
            "text/plain": [
              "                   A         B         C         D\n",
              "2025-05-25  1.694848  2.275032 -0.668905 -3.324008\n",
              "2025-05-26 -0.823800  0.514888  0.772223 -1.022103\n",
              "2025-05-28  1.314891 -0.173985 -0.912074 -1.082439"
            ]
          },
          "execution_count": 245,
          "metadata": {},
          "output_type": "execute_result"
        }
      ],
      "source": [
        "df[0:3]"
      ]
    },
    {
      "cell_type": "markdown",
      "id": "1b4caef5",
      "metadata": {
        "id": "1b4caef5"
      },
      "source": [
        "#### df[<컬럼명1>:<컬럼명2>]\n",
        "- 컬럼명 1 부터 컬럼명 2까지 (포함)"
      ]
    },
    {
      "cell_type": "code",
      "execution_count": 246,
      "id": "9b4b5a05",
      "metadata": {
        "id": "9b4b5a05",
        "outputId": "8be494d1-3470-474d-a0dc-36db3eb1a862"
      },
      "outputs": [
        {
          "data": {
            "text/html": [
              "<div>\n",
              "<style scoped>\n",
              "    .dataframe tbody tr th:only-of-type {\n",
              "        vertical-align: middle;\n",
              "    }\n",
              "\n",
              "    .dataframe tbody tr th {\n",
              "        vertical-align: top;\n",
              "    }\n",
              "\n",
              "    .dataframe thead th {\n",
              "        text-align: right;\n",
              "    }\n",
              "</style>\n",
              "<table border=\"1\" class=\"dataframe\">\n",
              "  <thead>\n",
              "    <tr style=\"text-align: right;\">\n",
              "      <th></th>\n",
              "      <th>A</th>\n",
              "      <th>B</th>\n",
              "      <th>C</th>\n",
              "      <th>D</th>\n",
              "    </tr>\n",
              "  </thead>\n",
              "  <tbody>\n",
              "    <tr>\n",
              "      <th>2025-05-25</th>\n",
              "      <td>1.694848</td>\n",
              "      <td>2.275032</td>\n",
              "      <td>-0.668905</td>\n",
              "      <td>-3.324008</td>\n",
              "    </tr>\n",
              "    <tr>\n",
              "      <th>2025-05-26</th>\n",
              "      <td>-0.823800</td>\n",
              "      <td>0.514888</td>\n",
              "      <td>0.772223</td>\n",
              "      <td>-1.022103</td>\n",
              "    </tr>\n",
              "    <tr>\n",
              "      <th>2025-05-28</th>\n",
              "      <td>1.314891</td>\n",
              "      <td>-0.173985</td>\n",
              "      <td>-0.912074</td>\n",
              "      <td>-1.082439</td>\n",
              "    </tr>\n",
              "    <tr>\n",
              "      <th>2025-05-27</th>\n",
              "      <td>1.300190</td>\n",
              "      <td>-0.888894</td>\n",
              "      <td>0.202337</td>\n",
              "      <td>-0.218791</td>\n",
              "    </tr>\n",
              "  </tbody>\n",
              "</table>\n",
              "</div>"
            ],
            "text/plain": [
              "                   A         B         C         D\n",
              "2025-05-25  1.694848  2.275032 -0.668905 -3.324008\n",
              "2025-05-26 -0.823800  0.514888  0.772223 -1.022103\n",
              "2025-05-28  1.314891 -0.173985 -0.912074 -1.082439\n",
              "2025-05-27  1.300190 -0.888894  0.202337 -0.218791"
            ]
          },
          "execution_count": 246,
          "metadata": {},
          "output_type": "execute_result"
        }
      ],
      "source": [
        "df[\"2025-05-25\":\"2025-05-28\"]"
      ]
    },
    {
      "cell_type": "markdown",
      "id": "0e644972",
      "metadata": {
        "id": "0e644972"
      },
      "source": [
        "#### loc\n",
        "- 인덱스 이름으로 특정 행과 열을 선택"
      ]
    },
    {
      "cell_type": "code",
      "execution_count": 247,
      "id": "cc40d049",
      "metadata": {
        "id": "cc40d049",
        "outputId": "f5f1b358-f207-4bfa-eddb-ae6ab922d4d3"
      },
      "outputs": [
        {
          "data": {
            "text/html": [
              "<div>\n",
              "<style scoped>\n",
              "    .dataframe tbody tr th:only-of-type {\n",
              "        vertical-align: middle;\n",
              "    }\n",
              "\n",
              "    .dataframe tbody tr th {\n",
              "        vertical-align: top;\n",
              "    }\n",
              "\n",
              "    .dataframe thead th {\n",
              "        text-align: right;\n",
              "    }\n",
              "</style>\n",
              "<table border=\"1\" class=\"dataframe\">\n",
              "  <thead>\n",
              "    <tr style=\"text-align: right;\">\n",
              "      <th></th>\n",
              "      <th>A</th>\n",
              "      <th>B</th>\n",
              "    </tr>\n",
              "  </thead>\n",
              "  <tbody>\n",
              "    <tr>\n",
              "      <th>2025-05-25</th>\n",
              "      <td>1.694848</td>\n",
              "      <td>2.275032</td>\n",
              "    </tr>\n",
              "    <tr>\n",
              "      <th>2025-05-26</th>\n",
              "      <td>-0.823800</td>\n",
              "      <td>0.514888</td>\n",
              "    </tr>\n",
              "    <tr>\n",
              "      <th>2025-05-28</th>\n",
              "      <td>1.314891</td>\n",
              "      <td>-0.173985</td>\n",
              "    </tr>\n",
              "    <tr>\n",
              "      <th>2025-05-29</th>\n",
              "      <td>-0.365092</td>\n",
              "      <td>-0.461661</td>\n",
              "    </tr>\n",
              "    <tr>\n",
              "      <th>2025-05-27</th>\n",
              "      <td>1.300190</td>\n",
              "      <td>-0.888894</td>\n",
              "    </tr>\n",
              "    <tr>\n",
              "      <th>2025-05-24</th>\n",
              "      <td>-0.036750</td>\n",
              "      <td>-1.303097</td>\n",
              "    </tr>\n",
              "  </tbody>\n",
              "</table>\n",
              "</div>"
            ],
            "text/plain": [
              "                   A         B\n",
              "2025-05-25  1.694848  2.275032\n",
              "2025-05-26 -0.823800  0.514888\n",
              "2025-05-28  1.314891 -0.173985\n",
              "2025-05-29 -0.365092 -0.461661\n",
              "2025-05-27  1.300190 -0.888894\n",
              "2025-05-24 -0.036750 -1.303097"
            ]
          },
          "execution_count": 247,
          "metadata": {},
          "output_type": "execute_result"
        }
      ],
      "source": [
        "df.loc[:,[\"A\",\"B\"]]"
      ]
    },
    {
      "cell_type": "code",
      "execution_count": 248,
      "id": "ef77fc71",
      "metadata": {
        "id": "ef77fc71",
        "outputId": "b7eb4c08-f962-40dd-a3b3-fed7ea68b236"
      },
      "outputs": [
        {
          "data": {
            "text/html": [
              "<div>\n",
              "<style scoped>\n",
              "    .dataframe tbody tr th:only-of-type {\n",
              "        vertical-align: middle;\n",
              "    }\n",
              "\n",
              "    .dataframe tbody tr th {\n",
              "        vertical-align: top;\n",
              "    }\n",
              "\n",
              "    .dataframe thead th {\n",
              "        text-align: right;\n",
              "    }\n",
              "</style>\n",
              "<table border=\"1\" class=\"dataframe\">\n",
              "  <thead>\n",
              "    <tr style=\"text-align: right;\">\n",
              "      <th></th>\n",
              "      <th>A</th>\n",
              "      <th>B</th>\n",
              "    </tr>\n",
              "  </thead>\n",
              "  <tbody>\n",
              "    <tr>\n",
              "      <th>2025-05-25</th>\n",
              "      <td>1.694848</td>\n",
              "      <td>2.275032</td>\n",
              "    </tr>\n",
              "    <tr>\n",
              "      <th>2025-05-26</th>\n",
              "      <td>-0.823800</td>\n",
              "      <td>0.514888</td>\n",
              "    </tr>\n",
              "    <tr>\n",
              "      <th>2025-05-28</th>\n",
              "      <td>1.314891</td>\n",
              "      <td>-0.173985</td>\n",
              "    </tr>\n",
              "    <tr>\n",
              "      <th>2025-05-27</th>\n",
              "      <td>1.300190</td>\n",
              "      <td>-0.888894</td>\n",
              "    </tr>\n",
              "  </tbody>\n",
              "</table>\n",
              "</div>"
            ],
            "text/plain": [
              "                   A         B\n",
              "2025-05-25  1.694848  2.275032\n",
              "2025-05-26 -0.823800  0.514888\n",
              "2025-05-28  1.314891 -0.173985\n",
              "2025-05-27  1.300190 -0.888894"
            ]
          },
          "execution_count": 248,
          "metadata": {},
          "output_type": "execute_result"
        }
      ],
      "source": [
        "df.loc[\"2025-05-25\":\"2025-05-28\",[\"A\",\"B\"]]"
      ]
    },
    {
      "cell_type": "code",
      "execution_count": 249,
      "id": "08ca1f0a",
      "metadata": {
        "id": "08ca1f0a",
        "outputId": "4d57445f-6903-4ad7-ce43-4096e35b7a44"
      },
      "outputs": [
        {
          "data": {
            "text/html": [
              "<div>\n",
              "<style scoped>\n",
              "    .dataframe tbody tr th:only-of-type {\n",
              "        vertical-align: middle;\n",
              "    }\n",
              "\n",
              "    .dataframe tbody tr th {\n",
              "        vertical-align: top;\n",
              "    }\n",
              "\n",
              "    .dataframe thead th {\n",
              "        text-align: right;\n",
              "    }\n",
              "</style>\n",
              "<table border=\"1\" class=\"dataframe\">\n",
              "  <thead>\n",
              "    <tr style=\"text-align: right;\">\n",
              "      <th></th>\n",
              "      <th>A</th>\n",
              "      <th>B</th>\n",
              "      <th>C</th>\n",
              "      <th>D</th>\n",
              "    </tr>\n",
              "  </thead>\n",
              "  <tbody>\n",
              "    <tr>\n",
              "      <th>2025-05-25</th>\n",
              "      <td>1.694848</td>\n",
              "      <td>2.275032</td>\n",
              "      <td>-0.668905</td>\n",
              "      <td>-3.324008</td>\n",
              "    </tr>\n",
              "    <tr>\n",
              "      <th>2025-05-26</th>\n",
              "      <td>-0.823800</td>\n",
              "      <td>0.514888</td>\n",
              "      <td>0.772223</td>\n",
              "      <td>-1.022103</td>\n",
              "    </tr>\n",
              "    <tr>\n",
              "      <th>2025-05-28</th>\n",
              "      <td>1.314891</td>\n",
              "      <td>-0.173985</td>\n",
              "      <td>-0.912074</td>\n",
              "      <td>-1.082439</td>\n",
              "    </tr>\n",
              "    <tr>\n",
              "      <th>2025-05-27</th>\n",
              "      <td>1.300190</td>\n",
              "      <td>-0.888894</td>\n",
              "      <td>0.202337</td>\n",
              "      <td>-0.218791</td>\n",
              "    </tr>\n",
              "  </tbody>\n",
              "</table>\n",
              "</div>"
            ],
            "text/plain": [
              "                   A         B         C         D\n",
              "2025-05-25  1.694848  2.275032 -0.668905 -3.324008\n",
              "2025-05-26 -0.823800  0.514888  0.772223 -1.022103\n",
              "2025-05-28  1.314891 -0.173985 -0.912074 -1.082439\n",
              "2025-05-27  1.300190 -0.888894  0.202337 -0.218791"
            ]
          },
          "execution_count": 249,
          "metadata": {},
          "output_type": "execute_result"
        }
      ],
      "source": [
        "df.loc[\"2025-05-25\":\"2025-05-28\",\"A\":\"D\"]"
      ]
    },
    {
      "cell_type": "markdown",
      "id": "0239f03e",
      "metadata": {
        "id": "0239f03e"
      },
      "source": [
        "### iloc\n",
        "- 컴퓨터가 인식하는 인덱스 값으로 선택\n",
        "- 0,1,2,3,4 등으로  선택함"
      ]
    },
    {
      "cell_type": "code",
      "execution_count": 250,
      "id": "aae75d8d",
      "metadata": {
        "id": "aae75d8d",
        "outputId": "25dba43a-55ad-4816-b18c-d15d582f44c8"
      },
      "outputs": [
        {
          "data": {
            "text/plain": [
              "A   -0.365092\n",
              "B   -0.461661\n",
              "C    0.207336\n",
              "D    0.521803\n",
              "Name: 2025-05-29 00:00:00, dtype: float64"
            ]
          },
          "execution_count": 250,
          "metadata": {},
          "output_type": "execute_result"
        }
      ],
      "source": [
        "df.iloc[3]"
      ]
    },
    {
      "cell_type": "code",
      "execution_count": 251,
      "id": "653506ce",
      "metadata": {
        "id": "653506ce",
        "outputId": "f2dff1de-75bd-4b84-fa08-31eebd3b4eb9"
      },
      "outputs": [
        {
          "data": {
            "text/plain": [
              "0.20733578489408017"
            ]
          },
          "execution_count": 251,
          "metadata": {},
          "output_type": "execute_result"
        }
      ],
      "source": [
        "df.iloc[3,2]"
      ]
    },
    {
      "cell_type": "code",
      "execution_count": 252,
      "id": "c78d8186",
      "metadata": {
        "id": "c78d8186",
        "outputId": "72f1ce01-9b05-4b66-c742-5d05335c74e4"
      },
      "outputs": [
        {
          "data": {
            "text/html": [
              "<div>\n",
              "<style scoped>\n",
              "    .dataframe tbody tr th:only-of-type {\n",
              "        vertical-align: middle;\n",
              "    }\n",
              "\n",
              "    .dataframe tbody tr th {\n",
              "        vertical-align: top;\n",
              "    }\n",
              "\n",
              "    .dataframe thead th {\n",
              "        text-align: right;\n",
              "    }\n",
              "</style>\n",
              "<table border=\"1\" class=\"dataframe\">\n",
              "  <thead>\n",
              "    <tr style=\"text-align: right;\">\n",
              "      <th></th>\n",
              "      <th>A</th>\n",
              "      <th>B</th>\n",
              "    </tr>\n",
              "  </thead>\n",
              "  <tbody>\n",
              "    <tr>\n",
              "      <th>2025-05-29</th>\n",
              "      <td>-0.365092</td>\n",
              "      <td>-0.461661</td>\n",
              "    </tr>\n",
              "    <tr>\n",
              "      <th>2025-05-27</th>\n",
              "      <td>1.300190</td>\n",
              "      <td>-0.888894</td>\n",
              "    </tr>\n",
              "  </tbody>\n",
              "</table>\n",
              "</div>"
            ],
            "text/plain": [
              "                   A         B\n",
              "2025-05-29 -0.365092 -0.461661\n",
              "2025-05-27  1.300190 -0.888894"
            ]
          },
          "execution_count": 252,
          "metadata": {},
          "output_type": "execute_result"
        }
      ],
      "source": [
        "df.iloc[3:5,0:2]"
      ]
    },
    {
      "cell_type": "markdown",
      "id": "c4145ecd",
      "metadata": {
        "id": "c4145ecd"
      },
      "source": [
        "##### 특정 컬럼만 선택하기"
      ]
    },
    {
      "cell_type": "code",
      "execution_count": 253,
      "id": "f9118326",
      "metadata": {
        "id": "f9118326",
        "outputId": "6c73320e-9a07-4873-9ea7-f59506de10ab"
      },
      "outputs": [
        {
          "data": {
            "text/html": [
              "<div>\n",
              "<style scoped>\n",
              "    .dataframe tbody tr th:only-of-type {\n",
              "        vertical-align: middle;\n",
              "    }\n",
              "\n",
              "    .dataframe tbody tr th {\n",
              "        vertical-align: top;\n",
              "    }\n",
              "\n",
              "    .dataframe thead th {\n",
              "        text-align: right;\n",
              "    }\n",
              "</style>\n",
              "<table border=\"1\" class=\"dataframe\">\n",
              "  <thead>\n",
              "    <tr style=\"text-align: right;\">\n",
              "      <th></th>\n",
              "      <th>A</th>\n",
              "      <th>C</th>\n",
              "    </tr>\n",
              "  </thead>\n",
              "  <tbody>\n",
              "    <tr>\n",
              "      <th>2025-05-26</th>\n",
              "      <td>-0.823800</td>\n",
              "      <td>0.772223</td>\n",
              "    </tr>\n",
              "    <tr>\n",
              "      <th>2025-05-28</th>\n",
              "      <td>1.314891</td>\n",
              "      <td>-0.912074</td>\n",
              "    </tr>\n",
              "    <tr>\n",
              "      <th>2025-05-27</th>\n",
              "      <td>1.300190</td>\n",
              "      <td>0.202337</td>\n",
              "    </tr>\n",
              "  </tbody>\n",
              "</table>\n",
              "</div>"
            ],
            "text/plain": [
              "                   A         C\n",
              "2025-05-26 -0.823800  0.772223\n",
              "2025-05-28  1.314891 -0.912074\n",
              "2025-05-27  1.300190  0.202337"
            ]
          },
          "execution_count": 253,
          "metadata": {},
          "output_type": "execute_result"
        }
      ],
      "source": [
        "df.iloc[[1,2,4],[0.,2]]"
      ]
    },
    {
      "cell_type": "code",
      "execution_count": 254,
      "id": "1bface04",
      "metadata": {
        "id": "1bface04",
        "outputId": "ec105581-eb7b-480d-8f21-f7797c03b93e"
      },
      "outputs": [
        {
          "data": {
            "text/html": [
              "<div>\n",
              "<style scoped>\n",
              "    .dataframe tbody tr th:only-of-type {\n",
              "        vertical-align: middle;\n",
              "    }\n",
              "\n",
              "    .dataframe tbody tr th {\n",
              "        vertical-align: top;\n",
              "    }\n",
              "\n",
              "    .dataframe thead th {\n",
              "        text-align: right;\n",
              "    }\n",
              "</style>\n",
              "<table border=\"1\" class=\"dataframe\">\n",
              "  <thead>\n",
              "    <tr style=\"text-align: right;\">\n",
              "      <th></th>\n",
              "      <th>B</th>\n",
              "      <th>C</th>\n",
              "    </tr>\n",
              "  </thead>\n",
              "  <tbody>\n",
              "    <tr>\n",
              "      <th>2025-05-25</th>\n",
              "      <td>2.275032</td>\n",
              "      <td>-0.668905</td>\n",
              "    </tr>\n",
              "    <tr>\n",
              "      <th>2025-05-26</th>\n",
              "      <td>0.514888</td>\n",
              "      <td>0.772223</td>\n",
              "    </tr>\n",
              "    <tr>\n",
              "      <th>2025-05-28</th>\n",
              "      <td>-0.173985</td>\n",
              "      <td>-0.912074</td>\n",
              "    </tr>\n",
              "    <tr>\n",
              "      <th>2025-05-29</th>\n",
              "      <td>-0.461661</td>\n",
              "      <td>0.207336</td>\n",
              "    </tr>\n",
              "    <tr>\n",
              "      <th>2025-05-27</th>\n",
              "      <td>-0.888894</td>\n",
              "      <td>0.202337</td>\n",
              "    </tr>\n",
              "    <tr>\n",
              "      <th>2025-05-24</th>\n",
              "      <td>-1.303097</td>\n",
              "      <td>-0.131173</td>\n",
              "    </tr>\n",
              "  </tbody>\n",
              "</table>\n",
              "</div>"
            ],
            "text/plain": [
              "                   B         C\n",
              "2025-05-25  2.275032 -0.668905\n",
              "2025-05-26  0.514888  0.772223\n",
              "2025-05-28 -0.173985 -0.912074\n",
              "2025-05-29 -0.461661  0.207336\n",
              "2025-05-27 -0.888894  0.202337\n",
              "2025-05-24 -1.303097 -0.131173"
            ]
          },
          "execution_count": 254,
          "metadata": {},
          "output_type": "execute_result"
        }
      ],
      "source": [
        "df.iloc[:,1:3]"
      ]
    },
    {
      "cell_type": "markdown",
      "id": "b3273fcf",
      "metadata": {
        "id": "b3273fcf"
      },
      "source": [
        "#### 조건 부여 (Condition)"
      ]
    },
    {
      "cell_type": "markdown",
      "id": "3ba4a343",
      "metadata": {
        "id": "3ba4a343"
      },
      "source": [
        "-  0보다 큰 숫자만 선택\n",
        "-  NaN : Not a Number : 숫자가 없음"
      ]
    },
    {
      "cell_type": "code",
      "execution_count": 255,
      "id": "87c21673",
      "metadata": {
        "id": "87c21673",
        "outputId": "3886fefb-20dc-449b-b2fc-458a7bf2d686"
      },
      "outputs": [
        {
          "data": {
            "text/plain": [
              "2025-05-25     True\n",
              "2025-05-26    False\n",
              "2025-05-28     True\n",
              "2025-05-29    False\n",
              "2025-05-27     True\n",
              "2025-05-24    False\n",
              "Name: A, dtype: bool"
            ]
          },
          "execution_count": 255,
          "metadata": {},
          "output_type": "execute_result"
        }
      ],
      "source": [
        "df[\"A\"]>0"
      ]
    },
    {
      "cell_type": "code",
      "execution_count": 256,
      "id": "5da28a0f",
      "metadata": {
        "id": "5da28a0f",
        "outputId": "95a05240-1929-4ffb-9d62-0989dd2779bb"
      },
      "outputs": [
        {
          "data": {
            "text/html": [
              "<div>\n",
              "<style scoped>\n",
              "    .dataframe tbody tr th:only-of-type {\n",
              "        vertical-align: middle;\n",
              "    }\n",
              "\n",
              "    .dataframe tbody tr th {\n",
              "        vertical-align: top;\n",
              "    }\n",
              "\n",
              "    .dataframe thead th {\n",
              "        text-align: right;\n",
              "    }\n",
              "</style>\n",
              "<table border=\"1\" class=\"dataframe\">\n",
              "  <thead>\n",
              "    <tr style=\"text-align: right;\">\n",
              "      <th></th>\n",
              "      <th>A</th>\n",
              "      <th>B</th>\n",
              "      <th>C</th>\n",
              "      <th>D</th>\n",
              "    </tr>\n",
              "  </thead>\n",
              "  <tbody>\n",
              "    <tr>\n",
              "      <th>2025-05-25</th>\n",
              "      <td>1.694848</td>\n",
              "      <td>2.275032</td>\n",
              "      <td>-0.668905</td>\n",
              "      <td>-3.324008</td>\n",
              "    </tr>\n",
              "    <tr>\n",
              "      <th>2025-05-28</th>\n",
              "      <td>1.314891</td>\n",
              "      <td>-0.173985</td>\n",
              "      <td>-0.912074</td>\n",
              "      <td>-1.082439</td>\n",
              "    </tr>\n",
              "    <tr>\n",
              "      <th>2025-05-27</th>\n",
              "      <td>1.300190</td>\n",
              "      <td>-0.888894</td>\n",
              "      <td>0.202337</td>\n",
              "      <td>-0.218791</td>\n",
              "    </tr>\n",
              "  </tbody>\n",
              "</table>\n",
              "</div>"
            ],
            "text/plain": [
              "                   A         B         C         D\n",
              "2025-05-25  1.694848  2.275032 -0.668905 -3.324008\n",
              "2025-05-28  1.314891 -0.173985 -0.912074 -1.082439\n",
              "2025-05-27  1.300190 -0.888894  0.202337 -0.218791"
            ]
          },
          "execution_count": 256,
          "metadata": {},
          "output_type": "execute_result"
        }
      ],
      "source": [
        "df[df[\"A\"]>0]"
      ]
    },
    {
      "cell_type": "code",
      "execution_count": 257,
      "id": "e828eba4",
      "metadata": {
        "id": "e828eba4",
        "outputId": "d46ac386-25b2-430b-9923-a82610fa332b"
      },
      "outputs": [
        {
          "data": {
            "text/html": [
              "<div>\n",
              "<style scoped>\n",
              "    .dataframe tbody tr th:only-of-type {\n",
              "        vertical-align: middle;\n",
              "    }\n",
              "\n",
              "    .dataframe tbody tr th {\n",
              "        vertical-align: top;\n",
              "    }\n",
              "\n",
              "    .dataframe thead th {\n",
              "        text-align: right;\n",
              "    }\n",
              "</style>\n",
              "<table border=\"1\" class=\"dataframe\">\n",
              "  <thead>\n",
              "    <tr style=\"text-align: right;\">\n",
              "      <th></th>\n",
              "      <th>A</th>\n",
              "      <th>B</th>\n",
              "      <th>C</th>\n",
              "      <th>D</th>\n",
              "    </tr>\n",
              "  </thead>\n",
              "  <tbody>\n",
              "    <tr>\n",
              "      <th>2025-05-25</th>\n",
              "      <td>1.694848</td>\n",
              "      <td>2.275032</td>\n",
              "      <td>NaN</td>\n",
              "      <td>NaN</td>\n",
              "    </tr>\n",
              "    <tr>\n",
              "      <th>2025-05-26</th>\n",
              "      <td>NaN</td>\n",
              "      <td>0.514888</td>\n",
              "      <td>0.772223</td>\n",
              "      <td>NaN</td>\n",
              "    </tr>\n",
              "    <tr>\n",
              "      <th>2025-05-28</th>\n",
              "      <td>1.314891</td>\n",
              "      <td>NaN</td>\n",
              "      <td>NaN</td>\n",
              "      <td>NaN</td>\n",
              "    </tr>\n",
              "    <tr>\n",
              "      <th>2025-05-29</th>\n",
              "      <td>NaN</td>\n",
              "      <td>NaN</td>\n",
              "      <td>0.207336</td>\n",
              "      <td>0.521803</td>\n",
              "    </tr>\n",
              "    <tr>\n",
              "      <th>2025-05-27</th>\n",
              "      <td>1.300190</td>\n",
              "      <td>NaN</td>\n",
              "      <td>0.202337</td>\n",
              "      <td>NaN</td>\n",
              "    </tr>\n",
              "    <tr>\n",
              "      <th>2025-05-24</th>\n",
              "      <td>NaN</td>\n",
              "      <td>NaN</td>\n",
              "      <td>NaN</td>\n",
              "      <td>NaN</td>\n",
              "    </tr>\n",
              "  </tbody>\n",
              "</table>\n",
              "</div>"
            ],
            "text/plain": [
              "                   A         B         C         D\n",
              "2025-05-25  1.694848  2.275032       NaN       NaN\n",
              "2025-05-26       NaN  0.514888  0.772223       NaN\n",
              "2025-05-28  1.314891       NaN       NaN       NaN\n",
              "2025-05-29       NaN       NaN  0.207336  0.521803\n",
              "2025-05-27  1.300190       NaN  0.202337       NaN\n",
              "2025-05-24       NaN       NaN       NaN       NaN"
            ]
          },
          "execution_count": 257,
          "metadata": {},
          "output_type": "execute_result"
        }
      ],
      "source": [
        "df[df>0]"
      ]
    },
    {
      "cell_type": "markdown",
      "id": "1682aae3",
      "metadata": {
        "id": "1682aae3"
      },
      "source": [
        "### 컬럼 추가\n",
        "#### df[\"컬럼명\"]=[<컬럼내용>]\n",
        "- 기존 컬럼이 없을 시 추가\n",
        "- 기존 컬럼이 있을 시 업데이트"
      ]
    },
    {
      "cell_type": "code",
      "execution_count": 258,
      "id": "ee042776",
      "metadata": {
        "id": "ee042776",
        "outputId": "6bc1a431-8e19-470b-a85d-7791a725d60f"
      },
      "outputs": [
        {
          "data": {
            "text/html": [
              "<div>\n",
              "<style scoped>\n",
              "    .dataframe tbody tr th:only-of-type {\n",
              "        vertical-align: middle;\n",
              "    }\n",
              "\n",
              "    .dataframe tbody tr th {\n",
              "        vertical-align: top;\n",
              "    }\n",
              "\n",
              "    .dataframe thead th {\n",
              "        text-align: right;\n",
              "    }\n",
              "</style>\n",
              "<table border=\"1\" class=\"dataframe\">\n",
              "  <thead>\n",
              "    <tr style=\"text-align: right;\">\n",
              "      <th></th>\n",
              "      <th>A</th>\n",
              "      <th>B</th>\n",
              "      <th>C</th>\n",
              "      <th>D</th>\n",
              "      <th>E</th>\n",
              "    </tr>\n",
              "  </thead>\n",
              "  <tbody>\n",
              "    <tr>\n",
              "      <th>2025-05-25</th>\n",
              "      <td>1.694848</td>\n",
              "      <td>2.275032</td>\n",
              "      <td>-0.668905</td>\n",
              "      <td>-3.324008</td>\n",
              "      <td>1</td>\n",
              "    </tr>\n",
              "    <tr>\n",
              "      <th>2025-05-26</th>\n",
              "      <td>-0.823800</td>\n",
              "      <td>0.514888</td>\n",
              "      <td>0.772223</td>\n",
              "      <td>-1.022103</td>\n",
              "      <td>2</td>\n",
              "    </tr>\n",
              "    <tr>\n",
              "      <th>2025-05-28</th>\n",
              "      <td>1.314891</td>\n",
              "      <td>-0.173985</td>\n",
              "      <td>-0.912074</td>\n",
              "      <td>-1.082439</td>\n",
              "      <td>3</td>\n",
              "    </tr>\n",
              "    <tr>\n",
              "      <th>2025-05-29</th>\n",
              "      <td>-0.365092</td>\n",
              "      <td>-0.461661</td>\n",
              "      <td>0.207336</td>\n",
              "      <td>0.521803</td>\n",
              "      <td>4</td>\n",
              "    </tr>\n",
              "    <tr>\n",
              "      <th>2025-05-27</th>\n",
              "      <td>1.300190</td>\n",
              "      <td>-0.888894</td>\n",
              "      <td>0.202337</td>\n",
              "      <td>-0.218791</td>\n",
              "      <td>4</td>\n",
              "    </tr>\n",
              "    <tr>\n",
              "      <th>2025-05-24</th>\n",
              "      <td>-0.036750</td>\n",
              "      <td>-1.303097</td>\n",
              "      <td>-0.131173</td>\n",
              "      <td>-0.601029</td>\n",
              "      <td>5</td>\n",
              "    </tr>\n",
              "  </tbody>\n",
              "</table>\n",
              "</div>"
            ],
            "text/plain": [
              "                   A         B         C         D  E\n",
              "2025-05-25  1.694848  2.275032 -0.668905 -3.324008  1\n",
              "2025-05-26 -0.823800  0.514888  0.772223 -1.022103  2\n",
              "2025-05-28  1.314891 -0.173985 -0.912074 -1.082439  3\n",
              "2025-05-29 -0.365092 -0.461661  0.207336  0.521803  4\n",
              "2025-05-27  1.300190 -0.888894  0.202337 -0.218791  4\n",
              "2025-05-24 -0.036750 -1.303097 -0.131173 -0.601029  5"
            ]
          },
          "execution_count": 258,
          "metadata": {},
          "output_type": "execute_result"
        }
      ],
      "source": [
        "df[\"E\"]=[\"1\",\"2\",\"3\",\"4\",\"4\",\"5\"]\n",
        "df"
      ]
    },
    {
      "cell_type": "markdown",
      "id": "8fa2a1dd",
      "metadata": {
        "id": "8fa2a1dd"
      },
      "source": [
        "#### isin()\n",
        "- 특정 요소가 있는지 확인\n",
        "- bool로 리턴함"
      ]
    },
    {
      "cell_type": "code",
      "execution_count": 259,
      "id": "bff43362",
      "metadata": {
        "id": "bff43362",
        "outputId": "2e3271cd-db65-4623-9120-3ce413f70353"
      },
      "outputs": [
        {
          "data": {
            "text/plain": [
              "2025-05-25     True\n",
              "2025-05-26    False\n",
              "2025-05-28    False\n",
              "2025-05-29     True\n",
              "2025-05-27     True\n",
              "2025-05-24    False\n",
              "Name: E, dtype: bool"
            ]
          },
          "execution_count": 259,
          "metadata": {},
          "output_type": "execute_result"
        }
      ],
      "source": [
        "df[\"E\"].isin([\"1\",\"4\"])"
      ]
    },
    {
      "cell_type": "markdown",
      "id": "0f371ee8",
      "metadata": {
        "id": "0f371ee8"
      },
      "source": [
        "- 실제로 존재하는 값만 출력하기"
      ]
    },
    {
      "cell_type": "code",
      "execution_count": 260,
      "id": "16b30bba",
      "metadata": {
        "id": "16b30bba",
        "outputId": "c16583ce-d65b-43a6-eec2-1844f0b4e98a"
      },
      "outputs": [
        {
          "data": {
            "text/html": [
              "<div>\n",
              "<style scoped>\n",
              "    .dataframe tbody tr th:only-of-type {\n",
              "        vertical-align: middle;\n",
              "    }\n",
              "\n",
              "    .dataframe tbody tr th {\n",
              "        vertical-align: top;\n",
              "    }\n",
              "\n",
              "    .dataframe thead th {\n",
              "        text-align: right;\n",
              "    }\n",
              "</style>\n",
              "<table border=\"1\" class=\"dataframe\">\n",
              "  <thead>\n",
              "    <tr style=\"text-align: right;\">\n",
              "      <th></th>\n",
              "      <th>A</th>\n",
              "      <th>B</th>\n",
              "      <th>C</th>\n",
              "      <th>D</th>\n",
              "      <th>E</th>\n",
              "    </tr>\n",
              "  </thead>\n",
              "  <tbody>\n",
              "    <tr>\n",
              "      <th>2025-05-25</th>\n",
              "      <td>1.694848</td>\n",
              "      <td>2.275032</td>\n",
              "      <td>-0.668905</td>\n",
              "      <td>-3.324008</td>\n",
              "      <td>1</td>\n",
              "    </tr>\n",
              "    <tr>\n",
              "      <th>2025-05-29</th>\n",
              "      <td>-0.365092</td>\n",
              "      <td>-0.461661</td>\n",
              "      <td>0.207336</td>\n",
              "      <td>0.521803</td>\n",
              "      <td>4</td>\n",
              "    </tr>\n",
              "    <tr>\n",
              "      <th>2025-05-27</th>\n",
              "      <td>1.300190</td>\n",
              "      <td>-0.888894</td>\n",
              "      <td>0.202337</td>\n",
              "      <td>-0.218791</td>\n",
              "      <td>4</td>\n",
              "    </tr>\n",
              "  </tbody>\n",
              "</table>\n",
              "</div>"
            ],
            "text/plain": [
              "                   A         B         C         D  E\n",
              "2025-05-25  1.694848  2.275032 -0.668905 -3.324008  1\n",
              "2025-05-29 -0.365092 -0.461661  0.207336  0.521803  4\n",
              "2025-05-27  1.300190 -0.888894  0.202337 -0.218791  4"
            ]
          },
          "execution_count": 260,
          "metadata": {},
          "output_type": "execute_result"
        }
      ],
      "source": [
        "df[df[\"E\"].isin([\"1\",\"4\"])]"
      ]
    },
    {
      "cell_type": "markdown",
      "id": "546261e2",
      "metadata": {
        "id": "546261e2"
      },
      "source": [
        "### 특정 컬럼 제거\n",
        "- del\n",
        "- drop"
      ]
    },
    {
      "cell_type": "code",
      "execution_count": 261,
      "id": "da828865",
      "metadata": {
        "id": "da828865",
        "outputId": "2c2f1319-9abf-4647-ec5e-98492be4b509"
      },
      "outputs": [
        {
          "data": {
            "text/html": [
              "<div>\n",
              "<style scoped>\n",
              "    .dataframe tbody tr th:only-of-type {\n",
              "        vertical-align: middle;\n",
              "    }\n",
              "\n",
              "    .dataframe tbody tr th {\n",
              "        vertical-align: top;\n",
              "    }\n",
              "\n",
              "    .dataframe thead th {\n",
              "        text-align: right;\n",
              "    }\n",
              "</style>\n",
              "<table border=\"1\" class=\"dataframe\">\n",
              "  <thead>\n",
              "    <tr style=\"text-align: right;\">\n",
              "      <th></th>\n",
              "      <th>A</th>\n",
              "      <th>B</th>\n",
              "      <th>C</th>\n",
              "      <th>D</th>\n",
              "    </tr>\n",
              "  </thead>\n",
              "  <tbody>\n",
              "    <tr>\n",
              "      <th>2025-05-25</th>\n",
              "      <td>1.694848</td>\n",
              "      <td>2.275032</td>\n",
              "      <td>-0.668905</td>\n",
              "      <td>-3.324008</td>\n",
              "    </tr>\n",
              "    <tr>\n",
              "      <th>2025-05-26</th>\n",
              "      <td>-0.823800</td>\n",
              "      <td>0.514888</td>\n",
              "      <td>0.772223</td>\n",
              "      <td>-1.022103</td>\n",
              "    </tr>\n",
              "    <tr>\n",
              "      <th>2025-05-28</th>\n",
              "      <td>1.314891</td>\n",
              "      <td>-0.173985</td>\n",
              "      <td>-0.912074</td>\n",
              "      <td>-1.082439</td>\n",
              "    </tr>\n",
              "    <tr>\n",
              "      <th>2025-05-29</th>\n",
              "      <td>-0.365092</td>\n",
              "      <td>-0.461661</td>\n",
              "      <td>0.207336</td>\n",
              "      <td>0.521803</td>\n",
              "    </tr>\n",
              "    <tr>\n",
              "      <th>2025-05-27</th>\n",
              "      <td>1.300190</td>\n",
              "      <td>-0.888894</td>\n",
              "      <td>0.202337</td>\n",
              "      <td>-0.218791</td>\n",
              "    </tr>\n",
              "    <tr>\n",
              "      <th>2025-05-24</th>\n",
              "      <td>-0.036750</td>\n",
              "      <td>-1.303097</td>\n",
              "      <td>-0.131173</td>\n",
              "      <td>-0.601029</td>\n",
              "    </tr>\n",
              "  </tbody>\n",
              "</table>\n",
              "</div>"
            ],
            "text/plain": [
              "                   A         B         C         D\n",
              "2025-05-25  1.694848  2.275032 -0.668905 -3.324008\n",
              "2025-05-26 -0.823800  0.514888  0.772223 -1.022103\n",
              "2025-05-28  1.314891 -0.173985 -0.912074 -1.082439\n",
              "2025-05-29 -0.365092 -0.461661  0.207336  0.521803\n",
              "2025-05-27  1.300190 -0.888894  0.202337 -0.218791\n",
              "2025-05-24 -0.036750 -1.303097 -0.131173 -0.601029"
            ]
          },
          "execution_count": 261,
          "metadata": {},
          "output_type": "execute_result"
        }
      ],
      "source": [
        "del df[\"E\"]\n",
        "df"
      ]
    },
    {
      "cell_type": "markdown",
      "id": "5ffb9407",
      "metadata": {
        "id": "5ffb9407"
      },
      "source": [
        "#### drop\n",
        "- axis 옵션을 통해서 어떤걸 삭제 할지 바꿈\n",
        "- axis = 0 : 가로\n",
        "- axis = 1 : 세로"
      ]
    },
    {
      "cell_type": "code",
      "execution_count": 262,
      "id": "70b13622",
      "metadata": {
        "id": "70b13622",
        "outputId": "01702747-4f42-41f9-806f-90216cfdda21"
      },
      "outputs": [
        {
          "data": {
            "text/html": [
              "<div>\n",
              "<style scoped>\n",
              "    .dataframe tbody tr th:only-of-type {\n",
              "        vertical-align: middle;\n",
              "    }\n",
              "\n",
              "    .dataframe tbody tr th {\n",
              "        vertical-align: top;\n",
              "    }\n",
              "\n",
              "    .dataframe thead th {\n",
              "        text-align: right;\n",
              "    }\n",
              "</style>\n",
              "<table border=\"1\" class=\"dataframe\">\n",
              "  <thead>\n",
              "    <tr style=\"text-align: right;\">\n",
              "      <th></th>\n",
              "      <th>A</th>\n",
              "      <th>B</th>\n",
              "      <th>C</th>\n",
              "    </tr>\n",
              "  </thead>\n",
              "  <tbody>\n",
              "    <tr>\n",
              "      <th>2025-05-25</th>\n",
              "      <td>1.694848</td>\n",
              "      <td>2.275032</td>\n",
              "      <td>-0.668905</td>\n",
              "    </tr>\n",
              "    <tr>\n",
              "      <th>2025-05-26</th>\n",
              "      <td>-0.823800</td>\n",
              "      <td>0.514888</td>\n",
              "      <td>0.772223</td>\n",
              "    </tr>\n",
              "    <tr>\n",
              "      <th>2025-05-28</th>\n",
              "      <td>1.314891</td>\n",
              "      <td>-0.173985</td>\n",
              "      <td>-0.912074</td>\n",
              "    </tr>\n",
              "    <tr>\n",
              "      <th>2025-05-29</th>\n",
              "      <td>-0.365092</td>\n",
              "      <td>-0.461661</td>\n",
              "      <td>0.207336</td>\n",
              "    </tr>\n",
              "    <tr>\n",
              "      <th>2025-05-27</th>\n",
              "      <td>1.300190</td>\n",
              "      <td>-0.888894</td>\n",
              "      <td>0.202337</td>\n",
              "    </tr>\n",
              "    <tr>\n",
              "      <th>2025-05-24</th>\n",
              "      <td>-0.036750</td>\n",
              "      <td>-1.303097</td>\n",
              "      <td>-0.131173</td>\n",
              "    </tr>\n",
              "  </tbody>\n",
              "</table>\n",
              "</div>"
            ],
            "text/plain": [
              "                   A         B         C\n",
              "2025-05-25  1.694848  2.275032 -0.668905\n",
              "2025-05-26 -0.823800  0.514888  0.772223\n",
              "2025-05-28  1.314891 -0.173985 -0.912074\n",
              "2025-05-29 -0.365092 -0.461661  0.207336\n",
              "2025-05-27  1.300190 -0.888894  0.202337\n",
              "2025-05-24 -0.036750 -1.303097 -0.131173"
            ]
          },
          "execution_count": 262,
          "metadata": {},
          "output_type": "execute_result"
        }
      ],
      "source": [
        "df.drop([\"D\"] , axis=1)"
      ]
    },
    {
      "cell_type": "code",
      "execution_count": 263,
      "id": "a82fa948",
      "metadata": {
        "id": "a82fa948",
        "outputId": "fb5a7291-0820-47fe-8584-bf55707061b5"
      },
      "outputs": [
        {
          "data": {
            "text/html": [
              "<div>\n",
              "<style scoped>\n",
              "    .dataframe tbody tr th:only-of-type {\n",
              "        vertical-align: middle;\n",
              "    }\n",
              "\n",
              "    .dataframe tbody tr th {\n",
              "        vertical-align: top;\n",
              "    }\n",
              "\n",
              "    .dataframe thead th {\n",
              "        text-align: right;\n",
              "    }\n",
              "</style>\n",
              "<table border=\"1\" class=\"dataframe\">\n",
              "  <thead>\n",
              "    <tr style=\"text-align: right;\">\n",
              "      <th></th>\n",
              "      <th>A</th>\n",
              "      <th>B</th>\n",
              "      <th>C</th>\n",
              "      <th>D</th>\n",
              "    </tr>\n",
              "  </thead>\n",
              "  <tbody>\n",
              "    <tr>\n",
              "      <th>2025-05-25</th>\n",
              "      <td>1.694848</td>\n",
              "      <td>2.275032</td>\n",
              "      <td>-0.668905</td>\n",
              "      <td>-3.324008</td>\n",
              "    </tr>\n",
              "    <tr>\n",
              "      <th>2025-05-26</th>\n",
              "      <td>-0.823800</td>\n",
              "      <td>0.514888</td>\n",
              "      <td>0.772223</td>\n",
              "      <td>-1.022103</td>\n",
              "    </tr>\n",
              "    <tr>\n",
              "      <th>2025-05-28</th>\n",
              "      <td>1.314891</td>\n",
              "      <td>-0.173985</td>\n",
              "      <td>-0.912074</td>\n",
              "      <td>-1.082439</td>\n",
              "    </tr>\n",
              "    <tr>\n",
              "      <th>2025-05-29</th>\n",
              "      <td>-0.365092</td>\n",
              "      <td>-0.461661</td>\n",
              "      <td>0.207336</td>\n",
              "      <td>0.521803</td>\n",
              "    </tr>\n",
              "    <tr>\n",
              "      <th>2025-05-27</th>\n",
              "      <td>1.300190</td>\n",
              "      <td>-0.888894</td>\n",
              "      <td>0.202337</td>\n",
              "      <td>-0.218791</td>\n",
              "    </tr>\n",
              "  </tbody>\n",
              "</table>\n",
              "</div>"
            ],
            "text/plain": [
              "                   A         B         C         D\n",
              "2025-05-25  1.694848  2.275032 -0.668905 -3.324008\n",
              "2025-05-26 -0.823800  0.514888  0.772223 -1.022103\n",
              "2025-05-28  1.314891 -0.173985 -0.912074 -1.082439\n",
              "2025-05-29 -0.365092 -0.461661  0.207336  0.521803\n",
              "2025-05-27  1.300190 -0.888894  0.202337 -0.218791"
            ]
          },
          "execution_count": 263,
          "metadata": {},
          "output_type": "execute_result"
        }
      ],
      "source": [
        "df.drop([\"2025-05-24\"] , axis=0)"
      ]
    },
    {
      "cell_type": "markdown",
      "id": "7cfa20c6",
      "metadata": {
        "id": "7cfa20c6"
      },
      "source": [
        "a"
      ]
    },
    {
      "cell_type": "code",
      "execution_count": 264,
      "id": "cc3dff89",
      "metadata": {
        "id": "cc3dff89",
        "outputId": "317d5d74-33b2-4155-db76-0cde192b28b0"
      },
      "outputs": [
        {
          "data": {
            "text/plain": [
              "3.084287505844879"
            ]
          },
          "execution_count": 264,
          "metadata": {},
          "output_type": "execute_result"
        }
      ],
      "source": [
        "df[\"A\"].apply(\"sum\")"
      ]
    },
    {
      "cell_type": "code",
      "execution_count": 265,
      "id": "879f0005",
      "metadata": {
        "id": "879f0005",
        "outputId": "109aa603-6a38-46be-c70c-ad33f0a84fd9"
      },
      "outputs": [
        {
          "data": {
            "text/plain": [
              "A    3.084288\n",
              "D   -5.726566\n",
              "dtype: float64"
            ]
          },
          "execution_count": 265,
          "metadata": {},
          "output_type": "execute_result"
        }
      ],
      "source": [
        "df[[\"A\",\"D\"]].apply(\"sum\")"
      ]
    },
    {
      "cell_type": "code",
      "execution_count": 266,
      "id": "9ffc58d0",
      "metadata": {
        "id": "9ffc58d0",
        "outputId": "83ef2453-69b4-4ba8-afad-e52a23f32526"
      },
      "outputs": [
        {
          "data": {
            "text/plain": [
              "2025-05-25       [1.694848377169272]\n",
              "2025-05-26     [-0.8238003614982287]\n",
              "2025-05-28       [1.314891394296034]\n",
              "2025-05-29     [-0.3650916305884924]\n",
              "2025-05-27      [1.3001896245562505]\n",
              "2025-05-24    [-0.03674989808995669]\n",
              "Name: A, dtype: object"
            ]
          },
          "execution_count": 266,
          "metadata": {},
          "output_type": "execute_result"
        }
      ],
      "source": [
        "df[\"A\"].apply(np.cumsum)"
      ]
    },
    {
      "cell_type": "markdown",
      "id": "87b17b8e",
      "metadata": {
        "id": "87b17b8e"
      },
      "source": [
        "#### 양수/음수 확인 함수 만들기"
      ]
    },
    {
      "cell_type": "code",
      "execution_count": 267,
      "id": "82450122",
      "metadata": {
        "id": "82450122"
      },
      "outputs": [],
      "source": [
        "def plusMinus(num):\n",
        "    return \"plus\" if num > 0 else \"minus\""
      ]
    },
    {
      "cell_type": "code",
      "execution_count": 268,
      "id": "98ee202e",
      "metadata": {
        "id": "98ee202e",
        "outputId": "1a6ad973-c944-4083-eddb-2079d87caa80"
      },
      "outputs": [
        {
          "data": {
            "text/plain": [
              "2025-05-25     plus\n",
              "2025-05-26    minus\n",
              "2025-05-28     plus\n",
              "2025-05-29    minus\n",
              "2025-05-27     plus\n",
              "2025-05-24    minus\n",
              "Name: A, dtype: object"
            ]
          },
          "execution_count": 268,
          "metadata": {},
          "output_type": "execute_result"
        }
      ],
      "source": [
        "df[\"A\"].apply(plusMinus)"
      ]
    },
    {
      "cell_type": "code",
      "execution_count": 269,
      "id": "ca745a0d",
      "metadata": {
        "id": "ca745a0d",
        "outputId": "3788cc4b-c6e7-4817-98ad-dbd8da736413"
      },
      "outputs": [
        {
          "data": {
            "text/plain": [
              "2025-05-25     plus\n",
              "2025-05-26    minus\n",
              "2025-05-28     plus\n",
              "2025-05-29    minus\n",
              "2025-05-27     plus\n",
              "2025-05-24    minus\n",
              "Name: A, dtype: object"
            ]
          },
          "execution_count": 269,
          "metadata": {},
          "output_type": "execute_result"
        }
      ],
      "source": [
        "df[\"A\"].apply(lambda num : \"plus\" if num>0 else \"minus\")"
      ]
    },
    {
      "cell_type": "markdown",
      "id": "13e76586",
      "metadata": {
        "id": "13e76586"
      },
      "source": [
        "# 3. CCTV 데이터 둘러보기\n",
        "3-1) 데이터 특징 확인\n",
        "- tail : 데이터 끝 쪽 볼 수 있음\n",
        "  - 마지막 줄 인덱스 > 24\n",
        "  - 총 데이터 25개"
      ]
    },
    {
      "cell_type": "code",
      "execution_count": 270,
      "id": "74ea0b35",
      "metadata": {
        "id": "74ea0b35",
        "outputId": "95133e24-7605-4c45-bf69-dda9907f0137"
      },
      "outputs": [
        {
          "data": {
            "text/html": [
              "<div>\n",
              "<style scoped>\n",
              "    .dataframe tbody tr th:only-of-type {\n",
              "        vertical-align: middle;\n",
              "    }\n",
              "\n",
              "    .dataframe tbody tr th {\n",
              "        vertical-align: top;\n",
              "    }\n",
              "\n",
              "    .dataframe thead th {\n",
              "        text-align: right;\n",
              "    }\n",
              "</style>\n",
              "<table border=\"1\" class=\"dataframe\">\n",
              "  <thead>\n",
              "    <tr style=\"text-align: right;\">\n",
              "      <th></th>\n",
              "      <th>구별</th>\n",
              "      <th>소계</th>\n",
              "      <th>2013년도 이전</th>\n",
              "      <th>2014년</th>\n",
              "      <th>2015년</th>\n",
              "      <th>2016년</th>\n",
              "    </tr>\n",
              "  </thead>\n",
              "  <tbody>\n",
              "    <tr>\n",
              "      <th>0</th>\n",
              "      <td>강남구</td>\n",
              "      <td>3238</td>\n",
              "      <td>1292</td>\n",
              "      <td>430</td>\n",
              "      <td>584</td>\n",
              "      <td>932</td>\n",
              "    </tr>\n",
              "    <tr>\n",
              "      <th>1</th>\n",
              "      <td>강동구</td>\n",
              "      <td>1010</td>\n",
              "      <td>379</td>\n",
              "      <td>99</td>\n",
              "      <td>155</td>\n",
              "      <td>377</td>\n",
              "    </tr>\n",
              "    <tr>\n",
              "      <th>2</th>\n",
              "      <td>강북구</td>\n",
              "      <td>831</td>\n",
              "      <td>369</td>\n",
              "      <td>120</td>\n",
              "      <td>138</td>\n",
              "      <td>204</td>\n",
              "    </tr>\n",
              "    <tr>\n",
              "      <th>3</th>\n",
              "      <td>강서구</td>\n",
              "      <td>911</td>\n",
              "      <td>388</td>\n",
              "      <td>258</td>\n",
              "      <td>184</td>\n",
              "      <td>81</td>\n",
              "    </tr>\n",
              "    <tr>\n",
              "      <th>4</th>\n",
              "      <td>관악구</td>\n",
              "      <td>2109</td>\n",
              "      <td>846</td>\n",
              "      <td>260</td>\n",
              "      <td>390</td>\n",
              "      <td>613</td>\n",
              "    </tr>\n",
              "  </tbody>\n",
              "</table>\n",
              "</div>"
            ],
            "text/plain": [
              "    구별    소계  2013년도 이전  2014년  2015년  2016년\n",
              "0  강남구  3238       1292    430    584    932\n",
              "1  강동구  1010        379     99    155    377\n",
              "2  강북구   831        369    120    138    204\n",
              "3  강서구   911        388    258    184     81\n",
              "4  관악구  2109        846    260    390    613"
            ]
          },
          "execution_count": 270,
          "metadata": {},
          "output_type": "execute_result"
        }
      ],
      "source": [
        "CCTV_Seoul.head()"
      ]
    },
    {
      "cell_type": "code",
      "execution_count": 271,
      "id": "fcc45bdb",
      "metadata": {
        "id": "fcc45bdb",
        "outputId": "41eda959-371e-4de6-c0e2-9f05b6e86f3d"
      },
      "outputs": [
        {
          "data": {
            "text/html": [
              "<div>\n",
              "<style scoped>\n",
              "    .dataframe tbody tr th:only-of-type {\n",
              "        vertical-align: middle;\n",
              "    }\n",
              "\n",
              "    .dataframe tbody tr th {\n",
              "        vertical-align: top;\n",
              "    }\n",
              "\n",
              "    .dataframe thead th {\n",
              "        text-align: right;\n",
              "    }\n",
              "</style>\n",
              "<table border=\"1\" class=\"dataframe\">\n",
              "  <thead>\n",
              "    <tr style=\"text-align: right;\">\n",
              "      <th></th>\n",
              "      <th>구별</th>\n",
              "      <th>소계</th>\n",
              "      <th>2013년도 이전</th>\n",
              "      <th>2014년</th>\n",
              "      <th>2015년</th>\n",
              "      <th>2016년</th>\n",
              "    </tr>\n",
              "  </thead>\n",
              "  <tbody>\n",
              "    <tr>\n",
              "      <th>20</th>\n",
              "      <td>용산구</td>\n",
              "      <td>2096</td>\n",
              "      <td>1368</td>\n",
              "      <td>218</td>\n",
              "      <td>112</td>\n",
              "      <td>398</td>\n",
              "    </tr>\n",
              "    <tr>\n",
              "      <th>21</th>\n",
              "      <td>은평구</td>\n",
              "      <td>2108</td>\n",
              "      <td>1138</td>\n",
              "      <td>224</td>\n",
              "      <td>278</td>\n",
              "      <td>468</td>\n",
              "    </tr>\n",
              "    <tr>\n",
              "      <th>22</th>\n",
              "      <td>종로구</td>\n",
              "      <td>1619</td>\n",
              "      <td>464</td>\n",
              "      <td>314</td>\n",
              "      <td>211</td>\n",
              "      <td>630</td>\n",
              "    </tr>\n",
              "    <tr>\n",
              "      <th>23</th>\n",
              "      <td>중구</td>\n",
              "      <td>1023</td>\n",
              "      <td>413</td>\n",
              "      <td>190</td>\n",
              "      <td>72</td>\n",
              "      <td>348</td>\n",
              "    </tr>\n",
              "    <tr>\n",
              "      <th>24</th>\n",
              "      <td>중랑구</td>\n",
              "      <td>916</td>\n",
              "      <td>509</td>\n",
              "      <td>121</td>\n",
              "      <td>177</td>\n",
              "      <td>109</td>\n",
              "    </tr>\n",
              "  </tbody>\n",
              "</table>\n",
              "</div>"
            ],
            "text/plain": [
              "     구별    소계  2013년도 이전  2014년  2015년  2016년\n",
              "20  용산구  2096       1368    218    112    398\n",
              "21  은평구  2108       1138    224    278    468\n",
              "22  종로구  1619        464    314    211    630\n",
              "23   중구  1023        413    190     72    348\n",
              "24  중랑구   916        509    121    177    109"
            ]
          },
          "execution_count": 271,
          "metadata": {},
          "output_type": "execute_result"
        }
      ],
      "source": [
        "CCTV_Seoul.tail()"
      ]
    },
    {
      "cell_type": "markdown",
      "id": "3c84831d",
      "metadata": {
        "id": "3c84831d"
      },
      "source": [
        "## 3-2) sort\n",
        "- 특정 값을 자세하기 볼 수 있음\n",
        "- 소계가 적은 순으로 보기"
      ]
    },
    {
      "cell_type": "code",
      "execution_count": 272,
      "id": "095ab913",
      "metadata": {
        "id": "095ab913",
        "outputId": "14caa26b-12be-4d23-d997-3a55839950a0"
      },
      "outputs": [
        {
          "data": {
            "text/html": [
              "<div>\n",
              "<style scoped>\n",
              "    .dataframe tbody tr th:only-of-type {\n",
              "        vertical-align: middle;\n",
              "    }\n",
              "\n",
              "    .dataframe tbody tr th {\n",
              "        vertical-align: top;\n",
              "    }\n",
              "\n",
              "    .dataframe thead th {\n",
              "        text-align: right;\n",
              "    }\n",
              "</style>\n",
              "<table border=\"1\" class=\"dataframe\">\n",
              "  <thead>\n",
              "    <tr style=\"text-align: right;\">\n",
              "      <th></th>\n",
              "      <th>구별</th>\n",
              "      <th>소계</th>\n",
              "      <th>2013년도 이전</th>\n",
              "      <th>2014년</th>\n",
              "      <th>2015년</th>\n",
              "      <th>2016년</th>\n",
              "    </tr>\n",
              "  </thead>\n",
              "  <tbody>\n",
              "    <tr>\n",
              "      <th>9</th>\n",
              "      <td>도봉구</td>\n",
              "      <td>825</td>\n",
              "      <td>238</td>\n",
              "      <td>159</td>\n",
              "      <td>42</td>\n",
              "      <td>386</td>\n",
              "    </tr>\n",
              "    <tr>\n",
              "      <th>2</th>\n",
              "      <td>강북구</td>\n",
              "      <td>831</td>\n",
              "      <td>369</td>\n",
              "      <td>120</td>\n",
              "      <td>138</td>\n",
              "      <td>204</td>\n",
              "    </tr>\n",
              "    <tr>\n",
              "      <th>5</th>\n",
              "      <td>광진구</td>\n",
              "      <td>878</td>\n",
              "      <td>573</td>\n",
              "      <td>78</td>\n",
              "      <td>53</td>\n",
              "      <td>174</td>\n",
              "    </tr>\n",
              "    <tr>\n",
              "      <th>3</th>\n",
              "      <td>강서구</td>\n",
              "      <td>911</td>\n",
              "      <td>388</td>\n",
              "      <td>258</td>\n",
              "      <td>184</td>\n",
              "      <td>81</td>\n",
              "    </tr>\n",
              "    <tr>\n",
              "      <th>24</th>\n",
              "      <td>중랑구</td>\n",
              "      <td>916</td>\n",
              "      <td>509</td>\n",
              "      <td>121</td>\n",
              "      <td>177</td>\n",
              "      <td>109</td>\n",
              "    </tr>\n",
              "  </tbody>\n",
              "</table>\n",
              "</div>"
            ],
            "text/plain": [
              "     구별   소계  2013년도 이전  2014년  2015년  2016년\n",
              "9   도봉구  825        238    159     42    386\n",
              "2   강북구  831        369    120    138    204\n",
              "5   광진구  878        573     78     53    174\n",
              "3   강서구  911        388    258    184     81\n",
              "24  중랑구  916        509    121    177    109"
            ]
          },
          "execution_count": 272,
          "metadata": {},
          "output_type": "execute_result"
        }
      ],
      "source": [
        "CCTV_Seoul.sort_values(by=\"소계\",ascending=True).head(5)"
      ]
    },
    {
      "cell_type": "markdown",
      "id": "4b519476",
      "metadata": {
        "id": "4b519476"
      },
      "source": [
        "- 내림차순으로 출력해서 많은 순으로 보기"
      ]
    },
    {
      "cell_type": "code",
      "execution_count": 273,
      "id": "4c69c7ed",
      "metadata": {
        "id": "4c69c7ed",
        "outputId": "60aedd22-2589-41f7-e425-013a5767aeb9"
      },
      "outputs": [
        {
          "data": {
            "text/html": [
              "<div>\n",
              "<style scoped>\n",
              "    .dataframe tbody tr th:only-of-type {\n",
              "        vertical-align: middle;\n",
              "    }\n",
              "\n",
              "    .dataframe tbody tr th {\n",
              "        vertical-align: top;\n",
              "    }\n",
              "\n",
              "    .dataframe thead th {\n",
              "        text-align: right;\n",
              "    }\n",
              "</style>\n",
              "<table border=\"1\" class=\"dataframe\">\n",
              "  <thead>\n",
              "    <tr style=\"text-align: right;\">\n",
              "      <th></th>\n",
              "      <th>구별</th>\n",
              "      <th>소계</th>\n",
              "      <th>2013년도 이전</th>\n",
              "      <th>2014년</th>\n",
              "      <th>2015년</th>\n",
              "      <th>2016년</th>\n",
              "    </tr>\n",
              "  </thead>\n",
              "  <tbody>\n",
              "    <tr>\n",
              "      <th>0</th>\n",
              "      <td>강남구</td>\n",
              "      <td>3238</td>\n",
              "      <td>1292</td>\n",
              "      <td>430</td>\n",
              "      <td>584</td>\n",
              "      <td>932</td>\n",
              "    </tr>\n",
              "    <tr>\n",
              "      <th>18</th>\n",
              "      <td>양천구</td>\n",
              "      <td>2482</td>\n",
              "      <td>1843</td>\n",
              "      <td>142</td>\n",
              "      <td>30</td>\n",
              "      <td>467</td>\n",
              "    </tr>\n",
              "    <tr>\n",
              "      <th>14</th>\n",
              "      <td>서초구</td>\n",
              "      <td>2297</td>\n",
              "      <td>1406</td>\n",
              "      <td>157</td>\n",
              "      <td>336</td>\n",
              "      <td>398</td>\n",
              "    </tr>\n",
              "    <tr>\n",
              "      <th>4</th>\n",
              "      <td>관악구</td>\n",
              "      <td>2109</td>\n",
              "      <td>846</td>\n",
              "      <td>260</td>\n",
              "      <td>390</td>\n",
              "      <td>613</td>\n",
              "    </tr>\n",
              "    <tr>\n",
              "      <th>21</th>\n",
              "      <td>은평구</td>\n",
              "      <td>2108</td>\n",
              "      <td>1138</td>\n",
              "      <td>224</td>\n",
              "      <td>278</td>\n",
              "      <td>468</td>\n",
              "    </tr>\n",
              "  </tbody>\n",
              "</table>\n",
              "</div>"
            ],
            "text/plain": [
              "     구별    소계  2013년도 이전  2014년  2015년  2016년\n",
              "0   강남구  3238       1292    430    584    932\n",
              "18  양천구  2482       1843    142     30    467\n",
              "14  서초구  2297       1406    157    336    398\n",
              "4   관악구  2109        846    260    390    613\n",
              "21  은평구  2108       1138    224    278    468"
            ]
          },
          "execution_count": 273,
          "metadata": {},
          "output_type": "execute_result"
        }
      ],
      "source": [
        "CCTV_Seoul.sort_values(by=\"소계\",ascending=False).head(5)"
      ]
    },
    {
      "cell_type": "markdown",
      "id": "c8d7ef1b",
      "metadata": {
        "id": "c8d7ef1b"
      },
      "source": [
        "## 3-3) 데이터의 추가\n",
        "- 필요한 데이터는 새롭게 추가함\n",
        "- 해당 컬럼이 없으면 추가 / 있으면 업데이트\n",
        "    - 최근 증가율 : 최근 몇 년간 시리즈를 합함"
      ]
    },
    {
      "cell_type": "code",
      "execution_count": 274,
      "id": "1e97b747",
      "metadata": {
        "id": "1e97b747",
        "outputId": "4256e0d7-1d21-4c4d-8b2a-33130ec3dfe3"
      },
      "outputs": [
        {
          "data": {
            "text/html": [
              "<div>\n",
              "<style scoped>\n",
              "    .dataframe tbody tr th:only-of-type {\n",
              "        vertical-align: middle;\n",
              "    }\n",
              "\n",
              "    .dataframe tbody tr th {\n",
              "        vertical-align: top;\n",
              "    }\n",
              "\n",
              "    .dataframe thead th {\n",
              "        text-align: right;\n",
              "    }\n",
              "</style>\n",
              "<table border=\"1\" class=\"dataframe\">\n",
              "  <thead>\n",
              "    <tr style=\"text-align: right;\">\n",
              "      <th></th>\n",
              "      <th>구별</th>\n",
              "      <th>소계</th>\n",
              "      <th>2013년도 이전</th>\n",
              "      <th>2014년</th>\n",
              "      <th>2015년</th>\n",
              "      <th>2016년</th>\n",
              "      <th>최근증가율</th>\n",
              "    </tr>\n",
              "  </thead>\n",
              "  <tbody>\n",
              "    <tr>\n",
              "      <th>22</th>\n",
              "      <td>종로구</td>\n",
              "      <td>1619</td>\n",
              "      <td>464</td>\n",
              "      <td>314</td>\n",
              "      <td>211</td>\n",
              "      <td>630</td>\n",
              "      <td>248.922414</td>\n",
              "    </tr>\n",
              "    <tr>\n",
              "      <th>9</th>\n",
              "      <td>도봉구</td>\n",
              "      <td>825</td>\n",
              "      <td>238</td>\n",
              "      <td>159</td>\n",
              "      <td>42</td>\n",
              "      <td>386</td>\n",
              "      <td>246.638655</td>\n",
              "    </tr>\n",
              "    <tr>\n",
              "      <th>12</th>\n",
              "      <td>마포구</td>\n",
              "      <td>980</td>\n",
              "      <td>314</td>\n",
              "      <td>118</td>\n",
              "      <td>169</td>\n",
              "      <td>379</td>\n",
              "      <td>212.101911</td>\n",
              "    </tr>\n",
              "    <tr>\n",
              "      <th>8</th>\n",
              "      <td>노원구</td>\n",
              "      <td>1566</td>\n",
              "      <td>542</td>\n",
              "      <td>57</td>\n",
              "      <td>451</td>\n",
              "      <td>516</td>\n",
              "      <td>188.929889</td>\n",
              "    </tr>\n",
              "    <tr>\n",
              "      <th>1</th>\n",
              "      <td>강동구</td>\n",
              "      <td>1010</td>\n",
              "      <td>379</td>\n",
              "      <td>99</td>\n",
              "      <td>155</td>\n",
              "      <td>377</td>\n",
              "      <td>166.490765</td>\n",
              "    </tr>\n",
              "  </tbody>\n",
              "</table>\n",
              "</div>"
            ],
            "text/plain": [
              "     구별    소계  2013년도 이전  2014년  2015년  2016년       최근증가율\n",
              "22  종로구  1619        464    314    211    630  248.922414\n",
              "9   도봉구   825        238    159     42    386  246.638655\n",
              "12  마포구   980        314    118    169    379  212.101911\n",
              "8   노원구  1566        542     57    451    516  188.929889\n",
              "1   강동구  1010        379     99    155    377  166.490765"
            ]
          },
          "execution_count": 274,
          "metadata": {},
          "output_type": "execute_result"
        }
      ],
      "source": [
        "CCTV_Seoul[\"최근증가율\"]=(\n",
        "    (CCTV_Seoul[\"2016년\"]+CCTV_Seoul[\"2015년\"]+CCTV_Seoul[\"2014년\"])/CCTV_Seoul[\"2013년도 이전\"]*100\n",
        ")\n",
        "CCTV_Seoul.sort_values(by=\"최근증가율\",ascending=False).head()"
      ]
    },
    {
      "cell_type": "markdown",
      "id": "a5c2a04d",
      "metadata": {
        "id": "a5c2a04d"
      },
      "source": [
        "# 4. 인구현황 데이터 보기\n",
        "- 필요 없는 데이터 삭제\n",
        "- 합계 데이터는 필요 없으므로 삭제"
      ]
    },
    {
      "cell_type": "code",
      "execution_count": 275,
      "id": "fb41708a",
      "metadata": {
        "id": "fb41708a",
        "outputId": "639d69dd-4417-4133-a292-ab2bde9b6d2c"
      },
      "outputs": [
        {
          "data": {
            "text/html": [
              "<div>\n",
              "<style scoped>\n",
              "    .dataframe tbody tr th:only-of-type {\n",
              "        vertical-align: middle;\n",
              "    }\n",
              "\n",
              "    .dataframe tbody tr th {\n",
              "        vertical-align: top;\n",
              "    }\n",
              "\n",
              "    .dataframe thead th {\n",
              "        text-align: right;\n",
              "    }\n",
              "</style>\n",
              "<table border=\"1\" class=\"dataframe\">\n",
              "  <thead>\n",
              "    <tr style=\"text-align: right;\">\n",
              "      <th></th>\n",
              "      <th>구별</th>\n",
              "      <th>인구수</th>\n",
              "      <th>한국인</th>\n",
              "      <th>외국인</th>\n",
              "      <th>고령자</th>\n",
              "    </tr>\n",
              "  </thead>\n",
              "  <tbody>\n",
              "    <tr>\n",
              "      <th>0</th>\n",
              "      <td>합계</td>\n",
              "      <td>10124579</td>\n",
              "      <td>9857426</td>\n",
              "      <td>267153</td>\n",
              "      <td>1365126</td>\n",
              "    </tr>\n",
              "    <tr>\n",
              "      <th>1</th>\n",
              "      <td>종로구</td>\n",
              "      <td>164257</td>\n",
              "      <td>154770</td>\n",
              "      <td>9487</td>\n",
              "      <td>26182</td>\n",
              "    </tr>\n",
              "    <tr>\n",
              "      <th>2</th>\n",
              "      <td>중구</td>\n",
              "      <td>134593</td>\n",
              "      <td>125709</td>\n",
              "      <td>8884</td>\n",
              "      <td>21384</td>\n",
              "    </tr>\n",
              "    <tr>\n",
              "      <th>3</th>\n",
              "      <td>용산구</td>\n",
              "      <td>244444</td>\n",
              "      <td>229161</td>\n",
              "      <td>15283</td>\n",
              "      <td>36882</td>\n",
              "    </tr>\n",
              "    <tr>\n",
              "      <th>4</th>\n",
              "      <td>성동구</td>\n",
              "      <td>312711</td>\n",
              "      <td>304808</td>\n",
              "      <td>7903</td>\n",
              "      <td>41273</td>\n",
              "    </tr>\n",
              "  </tbody>\n",
              "</table>\n",
              "</div>"
            ],
            "text/plain": [
              "    구별       인구수      한국인     외국인      고령자\n",
              "0   합계  10124579  9857426  267153  1365126\n",
              "1  종로구    164257   154770    9487    26182\n",
              "2   중구    134593   125709    8884    21384\n",
              "3  용산구    244444   229161   15283    36882\n",
              "4  성동구    312711   304808    7903    41273"
            ]
          },
          "execution_count": 275,
          "metadata": {},
          "output_type": "execute_result"
        }
      ],
      "source": [
        "pop_Seoul.head()"
      ]
    },
    {
      "cell_type": "code",
      "execution_count": 276,
      "id": "16a4e069",
      "metadata": {
        "id": "16a4e069",
        "outputId": "48814560-113e-4720-f264-f47d695e7a5a"
      },
      "outputs": [
        {
          "data": {
            "text/html": [
              "<div>\n",
              "<style scoped>\n",
              "    .dataframe tbody tr th:only-of-type {\n",
              "        vertical-align: middle;\n",
              "    }\n",
              "\n",
              "    .dataframe tbody tr th {\n",
              "        vertical-align: top;\n",
              "    }\n",
              "\n",
              "    .dataframe thead th {\n",
              "        text-align: right;\n",
              "    }\n",
              "</style>\n",
              "<table border=\"1\" class=\"dataframe\">\n",
              "  <thead>\n",
              "    <tr style=\"text-align: right;\">\n",
              "      <th></th>\n",
              "      <th>구별</th>\n",
              "      <th>인구수</th>\n",
              "      <th>한국인</th>\n",
              "      <th>외국인</th>\n",
              "      <th>고령자</th>\n",
              "    </tr>\n",
              "  </thead>\n",
              "  <tbody>\n",
              "    <tr>\n",
              "      <th>21</th>\n",
              "      <td>관악구</td>\n",
              "      <td>520929</td>\n",
              "      <td>503297</td>\n",
              "      <td>17632</td>\n",
              "      <td>70046</td>\n",
              "    </tr>\n",
              "    <tr>\n",
              "      <th>22</th>\n",
              "      <td>서초구</td>\n",
              "      <td>445401</td>\n",
              "      <td>441102</td>\n",
              "      <td>4299</td>\n",
              "      <td>53205</td>\n",
              "    </tr>\n",
              "    <tr>\n",
              "      <th>23</th>\n",
              "      <td>강남구</td>\n",
              "      <td>561052</td>\n",
              "      <td>556164</td>\n",
              "      <td>4888</td>\n",
              "      <td>65060</td>\n",
              "    </tr>\n",
              "    <tr>\n",
              "      <th>24</th>\n",
              "      <td>송파구</td>\n",
              "      <td>671173</td>\n",
              "      <td>664496</td>\n",
              "      <td>6677</td>\n",
              "      <td>76582</td>\n",
              "    </tr>\n",
              "    <tr>\n",
              "      <th>25</th>\n",
              "      <td>강동구</td>\n",
              "      <td>440359</td>\n",
              "      <td>436223</td>\n",
              "      <td>4136</td>\n",
              "      <td>56161</td>\n",
              "    </tr>\n",
              "  </tbody>\n",
              "</table>\n",
              "</div>"
            ],
            "text/plain": [
              "     구별     인구수     한국인    외국인    고령자\n",
              "21  관악구  520929  503297  17632  70046\n",
              "22  서초구  445401  441102   4299  53205\n",
              "23  강남구  561052  556164   4888  65060\n",
              "24  송파구  671173  664496   6677  76582\n",
              "25  강동구  440359  436223   4136  56161"
            ]
          },
          "execution_count": 276,
          "metadata": {},
          "output_type": "execute_result"
        }
      ],
      "source": [
        "pop_Seoul.tail()"
      ]
    },
    {
      "cell_type": "code",
      "execution_count": 277,
      "id": "6c8749b3",
      "metadata": {
        "id": "6c8749b3",
        "outputId": "3cb4ea27-feea-49bb-fceb-2278a1d8d1c3"
      },
      "outputs": [
        {
          "data": {
            "text/html": [
              "<div>\n",
              "<style scoped>\n",
              "    .dataframe tbody tr th:only-of-type {\n",
              "        vertical-align: middle;\n",
              "    }\n",
              "\n",
              "    .dataframe tbody tr th {\n",
              "        vertical-align: top;\n",
              "    }\n",
              "\n",
              "    .dataframe thead th {\n",
              "        text-align: right;\n",
              "    }\n",
              "</style>\n",
              "<table border=\"1\" class=\"dataframe\">\n",
              "  <thead>\n",
              "    <tr style=\"text-align: right;\">\n",
              "      <th></th>\n",
              "      <th>구별</th>\n",
              "      <th>인구수</th>\n",
              "      <th>한국인</th>\n",
              "      <th>외국인</th>\n",
              "      <th>고령자</th>\n",
              "    </tr>\n",
              "  </thead>\n",
              "  <tbody>\n",
              "    <tr>\n",
              "      <th>1</th>\n",
              "      <td>종로구</td>\n",
              "      <td>164257</td>\n",
              "      <td>154770</td>\n",
              "      <td>9487</td>\n",
              "      <td>26182</td>\n",
              "    </tr>\n",
              "    <tr>\n",
              "      <th>2</th>\n",
              "      <td>중구</td>\n",
              "      <td>134593</td>\n",
              "      <td>125709</td>\n",
              "      <td>8884</td>\n",
              "      <td>21384</td>\n",
              "    </tr>\n",
              "    <tr>\n",
              "      <th>3</th>\n",
              "      <td>용산구</td>\n",
              "      <td>244444</td>\n",
              "      <td>229161</td>\n",
              "      <td>15283</td>\n",
              "      <td>36882</td>\n",
              "    </tr>\n",
              "    <tr>\n",
              "      <th>4</th>\n",
              "      <td>성동구</td>\n",
              "      <td>312711</td>\n",
              "      <td>304808</td>\n",
              "      <td>7903</td>\n",
              "      <td>41273</td>\n",
              "    </tr>\n",
              "    <tr>\n",
              "      <th>5</th>\n",
              "      <td>광진구</td>\n",
              "      <td>372298</td>\n",
              "      <td>357703</td>\n",
              "      <td>14595</td>\n",
              "      <td>43953</td>\n",
              "    </tr>\n",
              "  </tbody>\n",
              "</table>\n",
              "</div>"
            ],
            "text/plain": [
              "    구별     인구수     한국인    외국인    고령자\n",
              "1  종로구  164257  154770   9487  26182\n",
              "2   중구  134593  125709   8884  21384\n",
              "3  용산구  244444  229161  15283  36882\n",
              "4  성동구  312711  304808   7903  41273\n",
              "5  광진구  372298  357703  14595  43953"
            ]
          },
          "execution_count": 277,
          "metadata": {},
          "output_type": "execute_result"
        }
      ],
      "source": [
        "pop_Seoul.drop([0],axis=0 , inplace=True)\n",
        "pop_Seoul.head()"
      ]
    },
    {
      "cell_type": "markdown",
      "id": "6d15469e",
      "metadata": {
        "id": "6d15469e"
      },
      "source": [
        "- unique() : dedup함"
      ]
    },
    {
      "cell_type": "code",
      "execution_count": 278,
      "id": "75052d2b",
      "metadata": {
        "id": "75052d2b",
        "outputId": "1cdf2f53-8177-4351-efa0-fbc37091fcfd"
      },
      "outputs": [
        {
          "data": {
            "text/plain": [
              "array(['종로구', '중구', '용산구', '성동구', '광진구', '동대문구', '중랑구', '성북구', '강북구',\n",
              "       '도봉구', '노원구', '은평구', '서대문구', '마포구', '양천구', '강서구', '구로구', '금천구',\n",
              "       '영등포구', '동작구', '관악구', '서초구', '강남구', '송파구', '강동구'], dtype=object)"
            ]
          },
          "execution_count": 278,
          "metadata": {},
          "output_type": "execute_result"
        }
      ],
      "source": [
        "pop_Seoul[\"구별\"].unique()"
      ]
    },
    {
      "cell_type": "code",
      "execution_count": 279,
      "id": "a5330934",
      "metadata": {
        "id": "a5330934",
        "outputId": "d6bb4272-6879-40d6-bf8a-e60bbc245215"
      },
      "outputs": [
        {
          "data": {
            "text/plain": [
              "25"
            ]
          },
          "execution_count": 279,
          "metadata": {},
          "output_type": "execute_result"
        }
      ],
      "source": [
        "len(pop_Seoul[\"구별\"].unique())"
      ]
    },
    {
      "cell_type": "markdown",
      "id": "fcd72397",
      "metadata": {
        "id": "fcd72397"
      },
      "source": [
        "- 외국인 비율 / 고령자 비율"
      ]
    },
    {
      "cell_type": "code",
      "execution_count": 280,
      "id": "6f4be0c9",
      "metadata": {
        "id": "6f4be0c9",
        "outputId": "dfa9bf55-18ae-490f-a6d8-99ea2c624de0"
      },
      "outputs": [
        {
          "data": {
            "text/html": [
              "<div>\n",
              "<style scoped>\n",
              "    .dataframe tbody tr th:only-of-type {\n",
              "        vertical-align: middle;\n",
              "    }\n",
              "\n",
              "    .dataframe tbody tr th {\n",
              "        vertical-align: top;\n",
              "    }\n",
              "\n",
              "    .dataframe thead th {\n",
              "        text-align: right;\n",
              "    }\n",
              "</style>\n",
              "<table border=\"1\" class=\"dataframe\">\n",
              "  <thead>\n",
              "    <tr style=\"text-align: right;\">\n",
              "      <th></th>\n",
              "      <th>구별</th>\n",
              "      <th>인구수</th>\n",
              "      <th>한국인</th>\n",
              "      <th>외국인</th>\n",
              "      <th>고령자</th>\n",
              "      <th>외국인비율</th>\n",
              "      <th>고령자비율</th>\n",
              "    </tr>\n",
              "  </thead>\n",
              "  <tbody>\n",
              "    <tr>\n",
              "      <th>1</th>\n",
              "      <td>종로구</td>\n",
              "      <td>164257</td>\n",
              "      <td>154770</td>\n",
              "      <td>9487</td>\n",
              "      <td>26182</td>\n",
              "      <td>5.775705</td>\n",
              "      <td>15.939656</td>\n",
              "    </tr>\n",
              "    <tr>\n",
              "      <th>2</th>\n",
              "      <td>중구</td>\n",
              "      <td>134593</td>\n",
              "      <td>125709</td>\n",
              "      <td>8884</td>\n",
              "      <td>21384</td>\n",
              "      <td>6.600640</td>\n",
              "      <td>15.887899</td>\n",
              "    </tr>\n",
              "    <tr>\n",
              "      <th>3</th>\n",
              "      <td>용산구</td>\n",
              "      <td>244444</td>\n",
              "      <td>229161</td>\n",
              "      <td>15283</td>\n",
              "      <td>36882</td>\n",
              "      <td>6.252148</td>\n",
              "      <td>15.088118</td>\n",
              "    </tr>\n",
              "    <tr>\n",
              "      <th>4</th>\n",
              "      <td>성동구</td>\n",
              "      <td>312711</td>\n",
              "      <td>304808</td>\n",
              "      <td>7903</td>\n",
              "      <td>41273</td>\n",
              "      <td>2.527254</td>\n",
              "      <td>13.198448</td>\n",
              "    </tr>\n",
              "    <tr>\n",
              "      <th>5</th>\n",
              "      <td>광진구</td>\n",
              "      <td>372298</td>\n",
              "      <td>357703</td>\n",
              "      <td>14595</td>\n",
              "      <td>43953</td>\n",
              "      <td>3.920247</td>\n",
              "      <td>11.805865</td>\n",
              "    </tr>\n",
              "  </tbody>\n",
              "</table>\n",
              "</div>"
            ],
            "text/plain": [
              "    구별     인구수     한국인    외국인    고령자     외국인비율      고령자비율\n",
              "1  종로구  164257  154770   9487  26182  5.775705  15.939656\n",
              "2   중구  134593  125709   8884  21384  6.600640  15.887899\n",
              "3  용산구  244444  229161  15283  36882  6.252148  15.088118\n",
              "4  성동구  312711  304808   7903  41273  2.527254  13.198448\n",
              "5  광진구  372298  357703  14595  43953  3.920247  11.805865"
            ]
          },
          "execution_count": 280,
          "metadata": {},
          "output_type": "execute_result"
        }
      ],
      "source": [
        "pop_Seoul[\"외국인비율\"]=pop_Seoul[\"외국인\"]/pop_Seoul[\"인구수\"] * 100\n",
        "pop_Seoul[\"고령자비율\"]=pop_Seoul[\"고령자\"]/pop_Seoul[\"인구수\"] * 100\n",
        "pop_Seoul.head()"
      ]
    },
    {
      "cell_type": "code",
      "execution_count": 281,
      "id": "9f3e1870",
      "metadata": {
        "id": "9f3e1870",
        "outputId": "99dd4f1c-5f78-425c-948d-e105b9d488dd"
      },
      "outputs": [
        {
          "data": {
            "text/html": [
              "<div>\n",
              "<style scoped>\n",
              "    .dataframe tbody tr th:only-of-type {\n",
              "        vertical-align: middle;\n",
              "    }\n",
              "\n",
              "    .dataframe tbody tr th {\n",
              "        vertical-align: top;\n",
              "    }\n",
              "\n",
              "    .dataframe thead th {\n",
              "        text-align: right;\n",
              "    }\n",
              "</style>\n",
              "<table border=\"1\" class=\"dataframe\">\n",
              "  <thead>\n",
              "    <tr style=\"text-align: right;\">\n",
              "      <th></th>\n",
              "      <th>구별</th>\n",
              "      <th>인구수</th>\n",
              "      <th>한국인</th>\n",
              "      <th>외국인</th>\n",
              "      <th>고령자</th>\n",
              "      <th>외국인비율</th>\n",
              "      <th>고령자비율</th>\n",
              "    </tr>\n",
              "  </thead>\n",
              "  <tbody>\n",
              "    <tr>\n",
              "      <th>24</th>\n",
              "      <td>송파구</td>\n",
              "      <td>671173</td>\n",
              "      <td>664496</td>\n",
              "      <td>6677</td>\n",
              "      <td>76582</td>\n",
              "      <td>0.994825</td>\n",
              "      <td>11.410173</td>\n",
              "    </tr>\n",
              "    <tr>\n",
              "      <th>16</th>\n",
              "      <td>강서구</td>\n",
              "      <td>608255</td>\n",
              "      <td>601691</td>\n",
              "      <td>6564</td>\n",
              "      <td>76032</td>\n",
              "      <td>1.079153</td>\n",
              "      <td>12.500021</td>\n",
              "    </tr>\n",
              "    <tr>\n",
              "      <th>23</th>\n",
              "      <td>강남구</td>\n",
              "      <td>561052</td>\n",
              "      <td>556164</td>\n",
              "      <td>4888</td>\n",
              "      <td>65060</td>\n",
              "      <td>0.871220</td>\n",
              "      <td>11.596073</td>\n",
              "    </tr>\n",
              "    <tr>\n",
              "      <th>11</th>\n",
              "      <td>노원구</td>\n",
              "      <td>558075</td>\n",
              "      <td>554403</td>\n",
              "      <td>3672</td>\n",
              "      <td>74243</td>\n",
              "      <td>0.657976</td>\n",
              "      <td>13.303409</td>\n",
              "    </tr>\n",
              "    <tr>\n",
              "      <th>21</th>\n",
              "      <td>관악구</td>\n",
              "      <td>520929</td>\n",
              "      <td>503297</td>\n",
              "      <td>17632</td>\n",
              "      <td>70046</td>\n",
              "      <td>3.384722</td>\n",
              "      <td>13.446362</td>\n",
              "    </tr>\n",
              "  </tbody>\n",
              "</table>\n",
              "</div>"
            ],
            "text/plain": [
              "     구별     인구수     한국인    외국인    고령자     외국인비율      고령자비율\n",
              "24  송파구  671173  664496   6677  76582  0.994825  11.410173\n",
              "16  강서구  608255  601691   6564  76032  1.079153  12.500021\n",
              "23  강남구  561052  556164   4888  65060  0.871220  11.596073\n",
              "11  노원구  558075  554403   3672  74243  0.657976  13.303409\n",
              "21  관악구  520929  503297  17632  70046  3.384722  13.446362"
            ]
          },
          "execution_count": 281,
          "metadata": {},
          "output_type": "execute_result"
        }
      ],
      "source": [
        "pop_Seoul.sort_values(by=\"인구수\",ascending=False).head()"
      ]
    },
    {
      "cell_type": "code",
      "execution_count": 282,
      "id": "7848e2f0",
      "metadata": {
        "id": "7848e2f0",
        "outputId": "79dd13c1-ee85-4fb9-ec81-24e59f234e53"
      },
      "outputs": [
        {
          "data": {
            "text/html": [
              "<div>\n",
              "<style scoped>\n",
              "    .dataframe tbody tr th:only-of-type {\n",
              "        vertical-align: middle;\n",
              "    }\n",
              "\n",
              "    .dataframe tbody tr th {\n",
              "        vertical-align: top;\n",
              "    }\n",
              "\n",
              "    .dataframe thead th {\n",
              "        text-align: right;\n",
              "    }\n",
              "</style>\n",
              "<table border=\"1\" class=\"dataframe\">\n",
              "  <thead>\n",
              "    <tr style=\"text-align: right;\">\n",
              "      <th></th>\n",
              "      <th>구별</th>\n",
              "      <th>인구수</th>\n",
              "      <th>한국인</th>\n",
              "      <th>외국인</th>\n",
              "      <th>고령자</th>\n",
              "      <th>외국인비율</th>\n",
              "      <th>고령자비율</th>\n",
              "    </tr>\n",
              "  </thead>\n",
              "  <tbody>\n",
              "    <tr>\n",
              "      <th>19</th>\n",
              "      <td>영등포구</td>\n",
              "      <td>402024</td>\n",
              "      <td>368550</td>\n",
              "      <td>33474</td>\n",
              "      <td>53981</td>\n",
              "      <td>8.326369</td>\n",
              "      <td>13.427308</td>\n",
              "    </tr>\n",
              "    <tr>\n",
              "      <th>18</th>\n",
              "      <td>금천구</td>\n",
              "      <td>253491</td>\n",
              "      <td>235154</td>\n",
              "      <td>18337</td>\n",
              "      <td>34170</td>\n",
              "      <td>7.233787</td>\n",
              "      <td>13.479769</td>\n",
              "    </tr>\n",
              "    <tr>\n",
              "      <th>17</th>\n",
              "      <td>구로구</td>\n",
              "      <td>441559</td>\n",
              "      <td>410742</td>\n",
              "      <td>30817</td>\n",
              "      <td>58794</td>\n",
              "      <td>6.979135</td>\n",
              "      <td>13.315095</td>\n",
              "    </tr>\n",
              "    <tr>\n",
              "      <th>2</th>\n",
              "      <td>중구</td>\n",
              "      <td>134593</td>\n",
              "      <td>125709</td>\n",
              "      <td>8884</td>\n",
              "      <td>21384</td>\n",
              "      <td>6.600640</td>\n",
              "      <td>15.887899</td>\n",
              "    </tr>\n",
              "    <tr>\n",
              "      <th>3</th>\n",
              "      <td>용산구</td>\n",
              "      <td>244444</td>\n",
              "      <td>229161</td>\n",
              "      <td>15283</td>\n",
              "      <td>36882</td>\n",
              "      <td>6.252148</td>\n",
              "      <td>15.088118</td>\n",
              "    </tr>\n",
              "  </tbody>\n",
              "</table>\n",
              "</div>"
            ],
            "text/plain": [
              "      구별     인구수     한국인    외국인    고령자     외국인비율      고령자비율\n",
              "19  영등포구  402024  368550  33474  53981  8.326369  13.427308\n",
              "18   금천구  253491  235154  18337  34170  7.233787  13.479769\n",
              "17   구로구  441559  410742  30817  58794  6.979135  13.315095\n",
              "2     중구  134593  125709   8884  21384  6.600640  15.887899\n",
              "3    용산구  244444  229161  15283  36882  6.252148  15.088118"
            ]
          },
          "execution_count": 282,
          "metadata": {},
          "output_type": "execute_result"
        }
      ],
      "source": [
        "pop_Seoul.sort_values(by=\"외국인비율\",ascending=False).head()"
      ]
    },
    {
      "cell_type": "code",
      "execution_count": 283,
      "id": "0667e618",
      "metadata": {
        "id": "0667e618",
        "outputId": "20ae329b-25e8-41b4-ae74-53f141b9059e"
      },
      "outputs": [
        {
          "data": {
            "text/html": [
              "<div>\n",
              "<style scoped>\n",
              "    .dataframe tbody tr th:only-of-type {\n",
              "        vertical-align: middle;\n",
              "    }\n",
              "\n",
              "    .dataframe tbody tr th {\n",
              "        vertical-align: top;\n",
              "    }\n",
              "\n",
              "    .dataframe thead th {\n",
              "        text-align: right;\n",
              "    }\n",
              "</style>\n",
              "<table border=\"1\" class=\"dataframe\">\n",
              "  <thead>\n",
              "    <tr style=\"text-align: right;\">\n",
              "      <th></th>\n",
              "      <th>구별</th>\n",
              "      <th>인구수</th>\n",
              "      <th>한국인</th>\n",
              "      <th>외국인</th>\n",
              "      <th>고령자</th>\n",
              "      <th>외국인비율</th>\n",
              "      <th>고령자비율</th>\n",
              "    </tr>\n",
              "  </thead>\n",
              "  <tbody>\n",
              "    <tr>\n",
              "      <th>9</th>\n",
              "      <td>강북구</td>\n",
              "      <td>328002</td>\n",
              "      <td>324479</td>\n",
              "      <td>3523</td>\n",
              "      <td>56530</td>\n",
              "      <td>1.074079</td>\n",
              "      <td>17.234651</td>\n",
              "    </tr>\n",
              "    <tr>\n",
              "      <th>1</th>\n",
              "      <td>종로구</td>\n",
              "      <td>164257</td>\n",
              "      <td>154770</td>\n",
              "      <td>9487</td>\n",
              "      <td>26182</td>\n",
              "      <td>5.775705</td>\n",
              "      <td>15.939656</td>\n",
              "    </tr>\n",
              "    <tr>\n",
              "      <th>2</th>\n",
              "      <td>중구</td>\n",
              "      <td>134593</td>\n",
              "      <td>125709</td>\n",
              "      <td>8884</td>\n",
              "      <td>21384</td>\n",
              "      <td>6.600640</td>\n",
              "      <td>15.887899</td>\n",
              "    </tr>\n",
              "    <tr>\n",
              "      <th>10</th>\n",
              "      <td>도봉구</td>\n",
              "      <td>346234</td>\n",
              "      <td>344166</td>\n",
              "      <td>2068</td>\n",
              "      <td>53488</td>\n",
              "      <td>0.597284</td>\n",
              "      <td>15.448512</td>\n",
              "    </tr>\n",
              "    <tr>\n",
              "      <th>6</th>\n",
              "      <td>동대문구</td>\n",
              "      <td>366011</td>\n",
              "      <td>350647</td>\n",
              "      <td>15364</td>\n",
              "      <td>55718</td>\n",
              "      <td>4.197688</td>\n",
              "      <td>15.223040</td>\n",
              "    </tr>\n",
              "  </tbody>\n",
              "</table>\n",
              "</div>"
            ],
            "text/plain": [
              "      구별     인구수     한국인    외국인    고령자     외국인비율      고령자비율\n",
              "9    강북구  328002  324479   3523  56530  1.074079  17.234651\n",
              "1    종로구  164257  154770   9487  26182  5.775705  15.939656\n",
              "2     중구  134593  125709   8884  21384  6.600640  15.887899\n",
              "10   도봉구  346234  344166   2068  53488  0.597284  15.448512\n",
              "6   동대문구  366011  350647  15364  55718  4.197688  15.223040"
            ]
          },
          "execution_count": 283,
          "metadata": {},
          "output_type": "execute_result"
        }
      ],
      "source": [
        "pop_Seoul.sort_values(by=\"고령자비율\",ascending=False).head()"
      ]
    },
    {
      "cell_type": "markdown",
      "id": "c61825ea",
      "metadata": {},
      "source": [
        "----"
      ]
    },
    {
      "cell_type": "markdown",
      "id": "cb8a06d1",
      "metadata": {
        "id": "cb8a06d1"
      },
      "source": [
        "# 5. 두 데이터 합치기"
      ]
    },
    {
      "cell_type": "markdown",
      "id": "109a5ade",
      "metadata": {
        "id": "109a5ade"
      },
      "source": [
        "## 1) Pandas 에서 데이터프레임을 병합하는 방법\n",
        "- pd.concat()\n",
        "- pd.merge()\n",
        "- pd.join"
      ]
    },
    {
      "cell_type": "markdown",
      "id": "4b57aef1",
      "metadata": {
        "id": "4b57aef1"
      },
      "source": [
        "### pd.merge()\n",
        "- left\n",
        "- right\n",
        "- key\n",
        "- how"
      ]
    },
    {
      "cell_type": "markdown",
      "id": "c1cede24",
      "metadata": {},
      "source": [
        "#### 데이터 프레임 생성 방법\n",
        "- 딕셔너리 안의 리스트 생성 방버 "
      ]
    },
    {
      "cell_type": "code",
      "execution_count": 284,
      "id": "6a2d9776",
      "metadata": {
        "id": "6a2d9776"
      },
      "outputs": [
        {
          "data": {
            "text/html": [
              "<div>\n",
              "<style scoped>\n",
              "    .dataframe tbody tr th:only-of-type {\n",
              "        vertical-align: middle;\n",
              "    }\n",
              "\n",
              "    .dataframe tbody tr th {\n",
              "        vertical-align: top;\n",
              "    }\n",
              "\n",
              "    .dataframe thead th {\n",
              "        text-align: right;\n",
              "    }\n",
              "</style>\n",
              "<table border=\"1\" class=\"dataframe\">\n",
              "  <thead>\n",
              "    <tr style=\"text-align: right;\">\n",
              "      <th></th>\n",
              "      <th>key</th>\n",
              "      <th>A</th>\n",
              "      <th>B</th>\n",
              "    </tr>\n",
              "  </thead>\n",
              "  <tbody>\n",
              "    <tr>\n",
              "      <th>0</th>\n",
              "      <td>K0</td>\n",
              "      <td>A0</td>\n",
              "      <td>B0</td>\n",
              "    </tr>\n",
              "    <tr>\n",
              "      <th>1</th>\n",
              "      <td>K4</td>\n",
              "      <td>A1</td>\n",
              "      <td>B1</td>\n",
              "    </tr>\n",
              "    <tr>\n",
              "      <th>2</th>\n",
              "      <td>K2</td>\n",
              "      <td>A2</td>\n",
              "      <td>B2</td>\n",
              "    </tr>\n",
              "    <tr>\n",
              "      <th>3</th>\n",
              "      <td>K3</td>\n",
              "      <td>A3</td>\n",
              "      <td>B3</td>\n",
              "    </tr>\n",
              "  </tbody>\n",
              "</table>\n",
              "</div>"
            ],
            "text/plain": [
              "  key   A   B\n",
              "0  K0  A0  B0\n",
              "1  K4  A1  B1\n",
              "2  K2  A2  B2\n",
              "3  K3  A3  B3"
            ]
          },
          "execution_count": 284,
          "metadata": {},
          "output_type": "execute_result"
        }
      ],
      "source": [
        "left=pd.DataFrame({\n",
        "    \"key\" : [\"K0\",\"K4\",\"K2\",\"K3\"],\n",
        "             \"A\" : [\"A0\",\"A1\",\"A2\",\"A3\"],\n",
        "             \"B\" :[\"B0\",\"B1\",\"B2\",\"B3\"]\n",
        "})\n",
        "left"
      ]
    },
    {
      "cell_type": "markdown",
      "id": "1e1c675a",
      "metadata": {},
      "source": [
        "- 리스트 안의 딕셔너리 형태"
      ]
    },
    {
      "cell_type": "code",
      "execution_count": 285,
      "id": "3e12a206",
      "metadata": {
        "id": "3e12a206"
      },
      "outputs": [
        {
          "data": {
            "text/html": [
              "<div>\n",
              "<style scoped>\n",
              "    .dataframe tbody tr th:only-of-type {\n",
              "        vertical-align: middle;\n",
              "    }\n",
              "\n",
              "    .dataframe tbody tr th {\n",
              "        vertical-align: top;\n",
              "    }\n",
              "\n",
              "    .dataframe thead th {\n",
              "        text-align: right;\n",
              "    }\n",
              "</style>\n",
              "<table border=\"1\" class=\"dataframe\">\n",
              "  <thead>\n",
              "    <tr style=\"text-align: right;\">\n",
              "      <th></th>\n",
              "      <th>key</th>\n",
              "      <th>C</th>\n",
              "      <th>D</th>\n",
              "    </tr>\n",
              "  </thead>\n",
              "  <tbody>\n",
              "    <tr>\n",
              "      <th>0</th>\n",
              "      <td>K0</td>\n",
              "      <td>C0</td>\n",
              "      <td>D0</td>\n",
              "    </tr>\n",
              "    <tr>\n",
              "      <th>1</th>\n",
              "      <td>K1</td>\n",
              "      <td>C1</td>\n",
              "      <td>D1</td>\n",
              "    </tr>\n",
              "    <tr>\n",
              "      <th>2</th>\n",
              "      <td>K2</td>\n",
              "      <td>C2</td>\n",
              "      <td>D2</td>\n",
              "    </tr>\n",
              "    <tr>\n",
              "      <th>3</th>\n",
              "      <td>K3</td>\n",
              "      <td>C3</td>\n",
              "      <td>D3</td>\n",
              "    </tr>\n",
              "  </tbody>\n",
              "</table>\n",
              "</div>"
            ],
            "text/plain": [
              "  key   C   D\n",
              "0  K0  C0  D0\n",
              "1  K1  C1  D1\n",
              "2  K2  C2  D2\n",
              "3  K3  C3  D3"
            ]
          },
          "execution_count": 285,
          "metadata": {},
          "output_type": "execute_result"
        }
      ],
      "source": [
        "right=pd.DataFrame([\n",
        "    {\"key\":\"K0\",\"C\":\"C0\",\"D\":\"D0\"},\n",
        "    {\"key\":\"K1\",\"C\":\"C1\",\"D\":\"D1\"},\n",
        "    {\"key\":\"K2\",\"C\":\"C2\",\"D\":\"D2\"},\n",
        "    {\"key\":\"K3\",\"C\":\"C3\",\"D\":\"D3\"}\n",
        "])\n",
        "right"
      ]
    },
    {
      "cell_type": "markdown",
      "id": "e2db25e7",
      "metadata": {
        "id": "e2db25e7"
      },
      "source": [
        "### pd.merge()\n",
        "- 두 데이터 프레임을 컬럼이나 인덱스를 기준으로 병합하는 방법\n",
        "- 키(key) : 기준이 되는 컬럼\n",
        "- 기준이 되는 키 값은 두 데이터 프레임에 포함되어 있어야함\n",
        "- on : 키를 기준으로 함\n",
        "- 병합되는 키가 없으면 데이터가 나오지 않음 "
      ]
    },
    {
      "cell_type": "code",
      "execution_count": 286,
      "id": "f0ad06aa",
      "metadata": {
        "id": "f0ad06aa"
      },
      "outputs": [
        {
          "data": {
            "text/html": [
              "<div>\n",
              "<style scoped>\n",
              "    .dataframe tbody tr th:only-of-type {\n",
              "        vertical-align: middle;\n",
              "    }\n",
              "\n",
              "    .dataframe tbody tr th {\n",
              "        vertical-align: top;\n",
              "    }\n",
              "\n",
              "    .dataframe thead th {\n",
              "        text-align: right;\n",
              "    }\n",
              "</style>\n",
              "<table border=\"1\" class=\"dataframe\">\n",
              "  <thead>\n",
              "    <tr style=\"text-align: right;\">\n",
              "      <th></th>\n",
              "      <th>key</th>\n",
              "      <th>A</th>\n",
              "      <th>B</th>\n",
              "      <th>C</th>\n",
              "      <th>D</th>\n",
              "    </tr>\n",
              "  </thead>\n",
              "  <tbody>\n",
              "    <tr>\n",
              "      <th>0</th>\n",
              "      <td>K0</td>\n",
              "      <td>A0</td>\n",
              "      <td>B0</td>\n",
              "      <td>C0</td>\n",
              "      <td>D0</td>\n",
              "    </tr>\n",
              "    <tr>\n",
              "      <th>1</th>\n",
              "      <td>K2</td>\n",
              "      <td>A2</td>\n",
              "      <td>B2</td>\n",
              "      <td>C2</td>\n",
              "      <td>D2</td>\n",
              "    </tr>\n",
              "    <tr>\n",
              "      <th>2</th>\n",
              "      <td>K3</td>\n",
              "      <td>A3</td>\n",
              "      <td>B3</td>\n",
              "      <td>C3</td>\n",
              "      <td>D3</td>\n",
              "    </tr>\n",
              "  </tbody>\n",
              "</table>\n",
              "</div>"
            ],
            "text/plain": [
              "  key   A   B   C   D\n",
              "0  K0  A0  B0  C0  D0\n",
              "1  K2  A2  B2  C2  D2\n",
              "2  K3  A3  B3  C3  D3"
            ]
          },
          "execution_count": 286,
          "metadata": {},
          "output_type": "execute_result"
        }
      ],
      "source": [
        "pd.merge(left,right,on=\"key\")"
      ]
    },
    {
      "cell_type": "markdown",
      "id": "d11e560b",
      "metadata": {},
      "source": [
        "#### how 옵션 \n",
        "- 어떤 데이터프레임을 기준으로 병합되는지\n",
        "- 다른 데이터프레임에 해당 키가 없으면 NaN"
      ]
    },
    {
      "cell_type": "code",
      "execution_count": 287,
      "id": "07984fd6",
      "metadata": {},
      "outputs": [
        {
          "data": {
            "text/html": [
              "<div>\n",
              "<style scoped>\n",
              "    .dataframe tbody tr th:only-of-type {\n",
              "        vertical-align: middle;\n",
              "    }\n",
              "\n",
              "    .dataframe tbody tr th {\n",
              "        vertical-align: top;\n",
              "    }\n",
              "\n",
              "    .dataframe thead th {\n",
              "        text-align: right;\n",
              "    }\n",
              "</style>\n",
              "<table border=\"1\" class=\"dataframe\">\n",
              "  <thead>\n",
              "    <tr style=\"text-align: right;\">\n",
              "      <th></th>\n",
              "      <th>key</th>\n",
              "      <th>A</th>\n",
              "      <th>B</th>\n",
              "      <th>C</th>\n",
              "      <th>D</th>\n",
              "    </tr>\n",
              "  </thead>\n",
              "  <tbody>\n",
              "    <tr>\n",
              "      <th>0</th>\n",
              "      <td>K0</td>\n",
              "      <td>A0</td>\n",
              "      <td>B0</td>\n",
              "      <td>C0</td>\n",
              "      <td>D0</td>\n",
              "    </tr>\n",
              "    <tr>\n",
              "      <th>1</th>\n",
              "      <td>K4</td>\n",
              "      <td>A1</td>\n",
              "      <td>B1</td>\n",
              "      <td>NaN</td>\n",
              "      <td>NaN</td>\n",
              "    </tr>\n",
              "    <tr>\n",
              "      <th>2</th>\n",
              "      <td>K2</td>\n",
              "      <td>A2</td>\n",
              "      <td>B2</td>\n",
              "      <td>C2</td>\n",
              "      <td>D2</td>\n",
              "    </tr>\n",
              "    <tr>\n",
              "      <th>3</th>\n",
              "      <td>K3</td>\n",
              "      <td>A3</td>\n",
              "      <td>B3</td>\n",
              "      <td>C3</td>\n",
              "      <td>D3</td>\n",
              "    </tr>\n",
              "  </tbody>\n",
              "</table>\n",
              "</div>"
            ],
            "text/plain": [
              "  key   A   B    C    D\n",
              "0  K0  A0  B0   C0   D0\n",
              "1  K4  A1  B1  NaN  NaN\n",
              "2  K2  A2  B2   C2   D2\n",
              "3  K3  A3  B3   C3   D3"
            ]
          },
          "execution_count": 287,
          "metadata": {},
          "output_type": "execute_result"
        }
      ],
      "source": [
        "pd.merge(left,right,how=\"left\",on=\"key\")"
      ]
    },
    {
      "cell_type": "code",
      "execution_count": 288,
      "id": "8b704a5f",
      "metadata": {},
      "outputs": [
        {
          "data": {
            "text/html": [
              "<div>\n",
              "<style scoped>\n",
              "    .dataframe tbody tr th:only-of-type {\n",
              "        vertical-align: middle;\n",
              "    }\n",
              "\n",
              "    .dataframe tbody tr th {\n",
              "        vertical-align: top;\n",
              "    }\n",
              "\n",
              "    .dataframe thead th {\n",
              "        text-align: right;\n",
              "    }\n",
              "</style>\n",
              "<table border=\"1\" class=\"dataframe\">\n",
              "  <thead>\n",
              "    <tr style=\"text-align: right;\">\n",
              "      <th></th>\n",
              "      <th>key</th>\n",
              "      <th>A</th>\n",
              "      <th>B</th>\n",
              "      <th>C</th>\n",
              "      <th>D</th>\n",
              "    </tr>\n",
              "  </thead>\n",
              "  <tbody>\n",
              "    <tr>\n",
              "      <th>0</th>\n",
              "      <td>K0</td>\n",
              "      <td>A0</td>\n",
              "      <td>B0</td>\n",
              "      <td>C0</td>\n",
              "      <td>D0</td>\n",
              "    </tr>\n",
              "    <tr>\n",
              "      <th>1</th>\n",
              "      <td>K1</td>\n",
              "      <td>NaN</td>\n",
              "      <td>NaN</td>\n",
              "      <td>C1</td>\n",
              "      <td>D1</td>\n",
              "    </tr>\n",
              "    <tr>\n",
              "      <th>2</th>\n",
              "      <td>K2</td>\n",
              "      <td>A2</td>\n",
              "      <td>B2</td>\n",
              "      <td>C2</td>\n",
              "      <td>D2</td>\n",
              "    </tr>\n",
              "    <tr>\n",
              "      <th>3</th>\n",
              "      <td>K3</td>\n",
              "      <td>A3</td>\n",
              "      <td>B3</td>\n",
              "      <td>C3</td>\n",
              "      <td>D3</td>\n",
              "    </tr>\n",
              "  </tbody>\n",
              "</table>\n",
              "</div>"
            ],
            "text/plain": [
              "  key    A    B   C   D\n",
              "0  K0   A0   B0  C0  D0\n",
              "1  K1  NaN  NaN  C1  D1\n",
              "2  K2   A2   B2  C2  D2\n",
              "3  K3   A3   B3  C3  D3"
            ]
          },
          "execution_count": 288,
          "metadata": {},
          "output_type": "execute_result"
        }
      ],
      "source": [
        "pd.merge(left,right,how=\"right\",on=\"key\")"
      ]
    },
    {
      "cell_type": "markdown",
      "id": "96b1fb4e",
      "metadata": {},
      "source": [
        "#### how=outer\n",
        "- 일반적으로 how의 옵션은 inner (교집합)\n",
        "- outer 옵션으로 하면 합집합으로 합쳐짐\n",
        "- 각자의 데이터에 없어도 만들어짐\n",
        "- 없는 데이터는 NaN"
      ]
    },
    {
      "cell_type": "code",
      "execution_count": 289,
      "id": "63798288",
      "metadata": {},
      "outputs": [
        {
          "data": {
            "text/html": [
              "<div>\n",
              "<style scoped>\n",
              "    .dataframe tbody tr th:only-of-type {\n",
              "        vertical-align: middle;\n",
              "    }\n",
              "\n",
              "    .dataframe tbody tr th {\n",
              "        vertical-align: top;\n",
              "    }\n",
              "\n",
              "    .dataframe thead th {\n",
              "        text-align: right;\n",
              "    }\n",
              "</style>\n",
              "<table border=\"1\" class=\"dataframe\">\n",
              "  <thead>\n",
              "    <tr style=\"text-align: right;\">\n",
              "      <th></th>\n",
              "      <th>key</th>\n",
              "      <th>A</th>\n",
              "      <th>B</th>\n",
              "      <th>C</th>\n",
              "      <th>D</th>\n",
              "    </tr>\n",
              "  </thead>\n",
              "  <tbody>\n",
              "    <tr>\n",
              "      <th>0</th>\n",
              "      <td>K0</td>\n",
              "      <td>A0</td>\n",
              "      <td>B0</td>\n",
              "      <td>C0</td>\n",
              "      <td>D0</td>\n",
              "    </tr>\n",
              "    <tr>\n",
              "      <th>1</th>\n",
              "      <td>K4</td>\n",
              "      <td>A1</td>\n",
              "      <td>B1</td>\n",
              "      <td>NaN</td>\n",
              "      <td>NaN</td>\n",
              "    </tr>\n",
              "    <tr>\n",
              "      <th>2</th>\n",
              "      <td>K2</td>\n",
              "      <td>A2</td>\n",
              "      <td>B2</td>\n",
              "      <td>C2</td>\n",
              "      <td>D2</td>\n",
              "    </tr>\n",
              "    <tr>\n",
              "      <th>3</th>\n",
              "      <td>K3</td>\n",
              "      <td>A3</td>\n",
              "      <td>B3</td>\n",
              "      <td>C3</td>\n",
              "      <td>D3</td>\n",
              "    </tr>\n",
              "    <tr>\n",
              "      <th>4</th>\n",
              "      <td>K1</td>\n",
              "      <td>NaN</td>\n",
              "      <td>NaN</td>\n",
              "      <td>C1</td>\n",
              "      <td>D1</td>\n",
              "    </tr>\n",
              "  </tbody>\n",
              "</table>\n",
              "</div>"
            ],
            "text/plain": [
              "  key    A    B    C    D\n",
              "0  K0   A0   B0   C0   D0\n",
              "1  K4   A1   B1  NaN  NaN\n",
              "2  K2   A2   B2   C2   D2\n",
              "3  K3   A3   B3   C3   D3\n",
              "4  K1  NaN  NaN   C1   D1"
            ]
          },
          "execution_count": 289,
          "metadata": {},
          "output_type": "execute_result"
        }
      ],
      "source": [
        "pd.merge(left,right,how=\"outer\",on=\"key\")"
      ]
    },
    {
      "cell_type": "code",
      "execution_count": 290,
      "id": "0d3fb9f7",
      "metadata": {},
      "outputs": [],
      "source": [
        "## CCTV 데이터와 인구수 데이터를 병합"
      ]
    },
    {
      "cell_type": "code",
      "execution_count": 291,
      "id": "0bbdd03d",
      "metadata": {},
      "outputs": [
        {
          "data": {
            "text/html": [
              "<div>\n",
              "<style scoped>\n",
              "    .dataframe tbody tr th:only-of-type {\n",
              "        vertical-align: middle;\n",
              "    }\n",
              "\n",
              "    .dataframe tbody tr th {\n",
              "        vertical-align: top;\n",
              "    }\n",
              "\n",
              "    .dataframe thead th {\n",
              "        text-align: right;\n",
              "    }\n",
              "</style>\n",
              "<table border=\"1\" class=\"dataframe\">\n",
              "  <thead>\n",
              "    <tr style=\"text-align: right;\">\n",
              "      <th></th>\n",
              "      <th>구별</th>\n",
              "      <th>소계</th>\n",
              "      <th>2013년도 이전</th>\n",
              "      <th>2014년</th>\n",
              "      <th>2015년</th>\n",
              "      <th>2016년</th>\n",
              "      <th>최근증가율</th>\n",
              "    </tr>\n",
              "  </thead>\n",
              "  <tbody>\n",
              "    <tr>\n",
              "      <th>0</th>\n",
              "      <td>강남구</td>\n",
              "      <td>3238</td>\n",
              "      <td>1292</td>\n",
              "      <td>430</td>\n",
              "      <td>584</td>\n",
              "      <td>932</td>\n",
              "      <td>150.619195</td>\n",
              "    </tr>\n",
              "  </tbody>\n",
              "</table>\n",
              "</div>"
            ],
            "text/plain": [
              "    구별    소계  2013년도 이전  2014년  2015년  2016년       최근증가율\n",
              "0  강남구  3238       1292    430    584    932  150.619195"
            ]
          },
          "execution_count": 291,
          "metadata": {},
          "output_type": "execute_result"
        }
      ],
      "source": [
        "CCTV_Seoul.head(1)"
      ]
    },
    {
      "cell_type": "code",
      "execution_count": 292,
      "id": "bf9faf27",
      "metadata": {},
      "outputs": [
        {
          "data": {
            "text/html": [
              "<div>\n",
              "<style scoped>\n",
              "    .dataframe tbody tr th:only-of-type {\n",
              "        vertical-align: middle;\n",
              "    }\n",
              "\n",
              "    .dataframe tbody tr th {\n",
              "        vertical-align: top;\n",
              "    }\n",
              "\n",
              "    .dataframe thead th {\n",
              "        text-align: right;\n",
              "    }\n",
              "</style>\n",
              "<table border=\"1\" class=\"dataframe\">\n",
              "  <thead>\n",
              "    <tr style=\"text-align: right;\">\n",
              "      <th></th>\n",
              "      <th>구별</th>\n",
              "      <th>인구수</th>\n",
              "      <th>한국인</th>\n",
              "      <th>외국인</th>\n",
              "      <th>고령자</th>\n",
              "      <th>외국인비율</th>\n",
              "      <th>고령자비율</th>\n",
              "    </tr>\n",
              "  </thead>\n",
              "  <tbody>\n",
              "    <tr>\n",
              "      <th>1</th>\n",
              "      <td>종로구</td>\n",
              "      <td>164257</td>\n",
              "      <td>154770</td>\n",
              "      <td>9487</td>\n",
              "      <td>26182</td>\n",
              "      <td>5.775705</td>\n",
              "      <td>15.939656</td>\n",
              "    </tr>\n",
              "  </tbody>\n",
              "</table>\n",
              "</div>"
            ],
            "text/plain": [
              "    구별     인구수     한국인   외국인    고령자     외국인비율      고령자비율\n",
              "1  종로구  164257  154770  9487  26182  5.775705  15.939656"
            ]
          },
          "execution_count": 292,
          "metadata": {},
          "output_type": "execute_result"
        }
      ],
      "source": [
        "pop_Seoul.head(1)"
      ]
    },
    {
      "cell_type": "code",
      "execution_count": 293,
      "id": "c8905c7d",
      "metadata": {},
      "outputs": [
        {
          "data": {
            "text/html": [
              "<div>\n",
              "<style scoped>\n",
              "    .dataframe tbody tr th:only-of-type {\n",
              "        vertical-align: middle;\n",
              "    }\n",
              "\n",
              "    .dataframe tbody tr th {\n",
              "        vertical-align: top;\n",
              "    }\n",
              "\n",
              "    .dataframe thead th {\n",
              "        text-align: right;\n",
              "    }\n",
              "</style>\n",
              "<table border=\"1\" class=\"dataframe\">\n",
              "  <thead>\n",
              "    <tr style=\"text-align: right;\">\n",
              "      <th></th>\n",
              "      <th>구별</th>\n",
              "      <th>소계</th>\n",
              "      <th>2013년도 이전</th>\n",
              "      <th>2014년</th>\n",
              "      <th>2015년</th>\n",
              "      <th>2016년</th>\n",
              "      <th>최근증가율</th>\n",
              "      <th>인구수</th>\n",
              "      <th>한국인</th>\n",
              "      <th>외국인</th>\n",
              "      <th>고령자</th>\n",
              "      <th>외국인비율</th>\n",
              "      <th>고령자비율</th>\n",
              "    </tr>\n",
              "  </thead>\n",
              "  <tbody>\n",
              "    <tr>\n",
              "      <th>0</th>\n",
              "      <td>강남구</td>\n",
              "      <td>3238</td>\n",
              "      <td>1292</td>\n",
              "      <td>430</td>\n",
              "      <td>584</td>\n",
              "      <td>932</td>\n",
              "      <td>150.619195</td>\n",
              "      <td>561052</td>\n",
              "      <td>556164</td>\n",
              "      <td>4888</td>\n",
              "      <td>65060</td>\n",
              "      <td>0.871220</td>\n",
              "      <td>11.596073</td>\n",
              "    </tr>\n",
              "    <tr>\n",
              "      <th>1</th>\n",
              "      <td>강동구</td>\n",
              "      <td>1010</td>\n",
              "      <td>379</td>\n",
              "      <td>99</td>\n",
              "      <td>155</td>\n",
              "      <td>377</td>\n",
              "      <td>166.490765</td>\n",
              "      <td>440359</td>\n",
              "      <td>436223</td>\n",
              "      <td>4136</td>\n",
              "      <td>56161</td>\n",
              "      <td>0.939234</td>\n",
              "      <td>12.753458</td>\n",
              "    </tr>\n",
              "    <tr>\n",
              "      <th>2</th>\n",
              "      <td>강북구</td>\n",
              "      <td>831</td>\n",
              "      <td>369</td>\n",
              "      <td>120</td>\n",
              "      <td>138</td>\n",
              "      <td>204</td>\n",
              "      <td>125.203252</td>\n",
              "      <td>328002</td>\n",
              "      <td>324479</td>\n",
              "      <td>3523</td>\n",
              "      <td>56530</td>\n",
              "      <td>1.074079</td>\n",
              "      <td>17.234651</td>\n",
              "    </tr>\n",
              "    <tr>\n",
              "      <th>3</th>\n",
              "      <td>강서구</td>\n",
              "      <td>911</td>\n",
              "      <td>388</td>\n",
              "      <td>258</td>\n",
              "      <td>184</td>\n",
              "      <td>81</td>\n",
              "      <td>134.793814</td>\n",
              "      <td>608255</td>\n",
              "      <td>601691</td>\n",
              "      <td>6564</td>\n",
              "      <td>76032</td>\n",
              "      <td>1.079153</td>\n",
              "      <td>12.500021</td>\n",
              "    </tr>\n",
              "    <tr>\n",
              "      <th>4</th>\n",
              "      <td>관악구</td>\n",
              "      <td>2109</td>\n",
              "      <td>846</td>\n",
              "      <td>260</td>\n",
              "      <td>390</td>\n",
              "      <td>613</td>\n",
              "      <td>149.290780</td>\n",
              "      <td>520929</td>\n",
              "      <td>503297</td>\n",
              "      <td>17632</td>\n",
              "      <td>70046</td>\n",
              "      <td>3.384722</td>\n",
              "      <td>13.446362</td>\n",
              "    </tr>\n",
              "  </tbody>\n",
              "</table>\n",
              "</div>"
            ],
            "text/plain": [
              "    구별    소계  2013년도 이전  2014년  2015년  2016년       최근증가율     인구수     한국인  \\\n",
              "0  강남구  3238       1292    430    584    932  150.619195  561052  556164   \n",
              "1  강동구  1010        379     99    155    377  166.490765  440359  436223   \n",
              "2  강북구   831        369    120    138    204  125.203252  328002  324479   \n",
              "3  강서구   911        388    258    184     81  134.793814  608255  601691   \n",
              "4  관악구  2109        846    260    390    613  149.290780  520929  503297   \n",
              "\n",
              "     외국인    고령자     외국인비율      고령자비율  \n",
              "0   4888  65060  0.871220  11.596073  \n",
              "1   4136  56161  0.939234  12.753458  \n",
              "2   3523  56530  1.074079  17.234651  \n",
              "3   6564  76032  1.079153  12.500021  \n",
              "4  17632  70046  3.384722  13.446362  "
            ]
          },
          "execution_count": 293,
          "metadata": {},
          "output_type": "execute_result"
        }
      ],
      "source": [
        "data_result=pd.merge(CCTV_Seoul,pop_Seoul,on=\"구별\")\n",
        "data_result.head()"
      ]
    },
    {
      "cell_type": "code",
      "execution_count": 294,
      "id": "46894903",
      "metadata": {},
      "outputs": [],
      "source": [
        "#### 연도별 데이터 컬럼 삭제 "
      ]
    },
    {
      "cell_type": "code",
      "execution_count": 295,
      "id": "84834cf1",
      "metadata": {},
      "outputs": [
        {
          "data": {
            "text/html": [
              "<div>\n",
              "<style scoped>\n",
              "    .dataframe tbody tr th:only-of-type {\n",
              "        vertical-align: middle;\n",
              "    }\n",
              "\n",
              "    .dataframe tbody tr th {\n",
              "        vertical-align: top;\n",
              "    }\n",
              "\n",
              "    .dataframe thead th {\n",
              "        text-align: right;\n",
              "    }\n",
              "</style>\n",
              "<table border=\"1\" class=\"dataframe\">\n",
              "  <thead>\n",
              "    <tr style=\"text-align: right;\">\n",
              "      <th></th>\n",
              "      <th>구별</th>\n",
              "      <th>소계</th>\n",
              "      <th>최근증가율</th>\n",
              "      <th>인구수</th>\n",
              "      <th>한국인</th>\n",
              "      <th>외국인</th>\n",
              "      <th>고령자</th>\n",
              "      <th>외국인비율</th>\n",
              "      <th>고령자비율</th>\n",
              "    </tr>\n",
              "  </thead>\n",
              "  <tbody>\n",
              "    <tr>\n",
              "      <th>0</th>\n",
              "      <td>강남구</td>\n",
              "      <td>3238</td>\n",
              "      <td>150.619195</td>\n",
              "      <td>561052</td>\n",
              "      <td>556164</td>\n",
              "      <td>4888</td>\n",
              "      <td>65060</td>\n",
              "      <td>0.871220</td>\n",
              "      <td>11.596073</td>\n",
              "    </tr>\n",
              "    <tr>\n",
              "      <th>1</th>\n",
              "      <td>강동구</td>\n",
              "      <td>1010</td>\n",
              "      <td>166.490765</td>\n",
              "      <td>440359</td>\n",
              "      <td>436223</td>\n",
              "      <td>4136</td>\n",
              "      <td>56161</td>\n",
              "      <td>0.939234</td>\n",
              "      <td>12.753458</td>\n",
              "    </tr>\n",
              "    <tr>\n",
              "      <th>2</th>\n",
              "      <td>강북구</td>\n",
              "      <td>831</td>\n",
              "      <td>125.203252</td>\n",
              "      <td>328002</td>\n",
              "      <td>324479</td>\n",
              "      <td>3523</td>\n",
              "      <td>56530</td>\n",
              "      <td>1.074079</td>\n",
              "      <td>17.234651</td>\n",
              "    </tr>\n",
              "    <tr>\n",
              "      <th>3</th>\n",
              "      <td>강서구</td>\n",
              "      <td>911</td>\n",
              "      <td>134.793814</td>\n",
              "      <td>608255</td>\n",
              "      <td>601691</td>\n",
              "      <td>6564</td>\n",
              "      <td>76032</td>\n",
              "      <td>1.079153</td>\n",
              "      <td>12.500021</td>\n",
              "    </tr>\n",
              "    <tr>\n",
              "      <th>4</th>\n",
              "      <td>관악구</td>\n",
              "      <td>2109</td>\n",
              "      <td>149.290780</td>\n",
              "      <td>520929</td>\n",
              "      <td>503297</td>\n",
              "      <td>17632</td>\n",
              "      <td>70046</td>\n",
              "      <td>3.384722</td>\n",
              "      <td>13.446362</td>\n",
              "    </tr>\n",
              "  </tbody>\n",
              "</table>\n",
              "</div>"
            ],
            "text/plain": [
              "    구별    소계       최근증가율     인구수     한국인    외국인    고령자     외국인비율      고령자비율\n",
              "0  강남구  3238  150.619195  561052  556164   4888  65060  0.871220  11.596073\n",
              "1  강동구  1010  166.490765  440359  436223   4136  56161  0.939234  12.753458\n",
              "2  강북구   831  125.203252  328002  324479   3523  56530  1.074079  17.234651\n",
              "3  강서구   911  134.793814  608255  601691   6564  76032  1.079153  12.500021\n",
              "4  관악구  2109  149.290780  520929  503297  17632  70046  3.384722  13.446362"
            ]
          },
          "execution_count": 295,
          "metadata": {},
          "output_type": "execute_result"
        }
      ],
      "source": [
        "del data_result[\"2013년도 이전\"]\n",
        "del data_result[\"2014년\"]\n",
        "data_result.drop([\"2015년\",\"2016년\"],axis=1,inplace=True)\n",
        "data_result.head()"
      ]
    },
    {
      "cell_type": "markdown",
      "id": "bf50e0aa",
      "metadata": {},
      "source": [
        "#### 인덱스 변경 \n",
        "- set .index()\n",
        "- 선택한 컬럼을 데이터 프레임의 인덱스로 변경 "
      ]
    },
    {
      "cell_type": "code",
      "execution_count": 296,
      "id": "bf84e439",
      "metadata": {},
      "outputs": [
        {
          "data": {
            "text/html": [
              "<div>\n",
              "<style scoped>\n",
              "    .dataframe tbody tr th:only-of-type {\n",
              "        vertical-align: middle;\n",
              "    }\n",
              "\n",
              "    .dataframe tbody tr th {\n",
              "        vertical-align: top;\n",
              "    }\n",
              "\n",
              "    .dataframe thead th {\n",
              "        text-align: right;\n",
              "    }\n",
              "</style>\n",
              "<table border=\"1\" class=\"dataframe\">\n",
              "  <thead>\n",
              "    <tr style=\"text-align: right;\">\n",
              "      <th></th>\n",
              "      <th>소계</th>\n",
              "      <th>최근증가율</th>\n",
              "      <th>인구수</th>\n",
              "      <th>한국인</th>\n",
              "      <th>외국인</th>\n",
              "      <th>고령자</th>\n",
              "      <th>외국인비율</th>\n",
              "      <th>고령자비율</th>\n",
              "    </tr>\n",
              "    <tr>\n",
              "      <th>구별</th>\n",
              "      <th></th>\n",
              "      <th></th>\n",
              "      <th></th>\n",
              "      <th></th>\n",
              "      <th></th>\n",
              "      <th></th>\n",
              "      <th></th>\n",
              "      <th></th>\n",
              "    </tr>\n",
              "  </thead>\n",
              "  <tbody>\n",
              "    <tr>\n",
              "      <th>강남구</th>\n",
              "      <td>3238</td>\n",
              "      <td>150.619195</td>\n",
              "      <td>561052</td>\n",
              "      <td>556164</td>\n",
              "      <td>4888</td>\n",
              "      <td>65060</td>\n",
              "      <td>0.871220</td>\n",
              "      <td>11.596073</td>\n",
              "    </tr>\n",
              "    <tr>\n",
              "      <th>강동구</th>\n",
              "      <td>1010</td>\n",
              "      <td>166.490765</td>\n",
              "      <td>440359</td>\n",
              "      <td>436223</td>\n",
              "      <td>4136</td>\n",
              "      <td>56161</td>\n",
              "      <td>0.939234</td>\n",
              "      <td>12.753458</td>\n",
              "    </tr>\n",
              "    <tr>\n",
              "      <th>강북구</th>\n",
              "      <td>831</td>\n",
              "      <td>125.203252</td>\n",
              "      <td>328002</td>\n",
              "      <td>324479</td>\n",
              "      <td>3523</td>\n",
              "      <td>56530</td>\n",
              "      <td>1.074079</td>\n",
              "      <td>17.234651</td>\n",
              "    </tr>\n",
              "    <tr>\n",
              "      <th>강서구</th>\n",
              "      <td>911</td>\n",
              "      <td>134.793814</td>\n",
              "      <td>608255</td>\n",
              "      <td>601691</td>\n",
              "      <td>6564</td>\n",
              "      <td>76032</td>\n",
              "      <td>1.079153</td>\n",
              "      <td>12.500021</td>\n",
              "    </tr>\n",
              "    <tr>\n",
              "      <th>관악구</th>\n",
              "      <td>2109</td>\n",
              "      <td>149.290780</td>\n",
              "      <td>520929</td>\n",
              "      <td>503297</td>\n",
              "      <td>17632</td>\n",
              "      <td>70046</td>\n",
              "      <td>3.384722</td>\n",
              "      <td>13.446362</td>\n",
              "    </tr>\n",
              "  </tbody>\n",
              "</table>\n",
              "</div>"
            ],
            "text/plain": [
              "       소계       최근증가율     인구수     한국인    외국인    고령자     외국인비율      고령자비율\n",
              "구별                                                                      \n",
              "강남구  3238  150.619195  561052  556164   4888  65060  0.871220  11.596073\n",
              "강동구  1010  166.490765  440359  436223   4136  56161  0.939234  12.753458\n",
              "강북구   831  125.203252  328002  324479   3523  56530  1.074079  17.234651\n",
              "강서구   911  134.793814  608255  601691   6564  76032  1.079153  12.500021\n",
              "관악구  2109  149.290780  520929  503297  17632  70046  3.384722  13.446362"
            ]
          },
          "execution_count": 296,
          "metadata": {},
          "output_type": "execute_result"
        }
      ],
      "source": [
        "data_result.set_index(\"구별\",inplace=True)\n",
        "data_result.head()"
      ]
    },
    {
      "cell_type": "markdown",
      "id": "15e851c6",
      "metadata": {},
      "source": [
        "#### 상관관계 계수 파악 \n",
        "- corr()\n",
        "- 상관관계가 0.2이상인 데이터를 비교\n",
        "- 숫자여야 비교 가능 "
      ]
    },
    {
      "cell_type": "code",
      "execution_count": 297,
      "id": "10f2329e",
      "metadata": {},
      "outputs": [
        {
          "data": {
            "text/html": [
              "<div>\n",
              "<style scoped>\n",
              "    .dataframe tbody tr th:only-of-type {\n",
              "        vertical-align: middle;\n",
              "    }\n",
              "\n",
              "    .dataframe tbody tr th {\n",
              "        vertical-align: top;\n",
              "    }\n",
              "\n",
              "    .dataframe thead th {\n",
              "        text-align: right;\n",
              "    }\n",
              "</style>\n",
              "<table border=\"1\" class=\"dataframe\">\n",
              "  <thead>\n",
              "    <tr style=\"text-align: right;\">\n",
              "      <th></th>\n",
              "      <th>소계</th>\n",
              "      <th>최근증가율</th>\n",
              "      <th>인구수</th>\n",
              "      <th>한국인</th>\n",
              "      <th>외국인</th>\n",
              "      <th>고령자</th>\n",
              "      <th>외국인비율</th>\n",
              "      <th>고령자비율</th>\n",
              "    </tr>\n",
              "  </thead>\n",
              "  <tbody>\n",
              "    <tr>\n",
              "      <th>소계</th>\n",
              "      <td>1.000000</td>\n",
              "      <td>-0.264378</td>\n",
              "      <td>0.232555</td>\n",
              "      <td>0.227852</td>\n",
              "      <td>0.030421</td>\n",
              "      <td>0.163905</td>\n",
              "      <td>-0.045956</td>\n",
              "      <td>-0.267841</td>\n",
              "    </tr>\n",
              "    <tr>\n",
              "      <th>최근증가율</th>\n",
              "      <td>-0.264378</td>\n",
              "      <td>1.000000</td>\n",
              "      <td>-0.097165</td>\n",
              "      <td>-0.086341</td>\n",
              "      <td>-0.156421</td>\n",
              "      <td>-0.072251</td>\n",
              "      <td>-0.047102</td>\n",
              "      <td>0.190396</td>\n",
              "    </tr>\n",
              "    <tr>\n",
              "      <th>인구수</th>\n",
              "      <td>0.232555</td>\n",
              "      <td>-0.097165</td>\n",
              "      <td>1.000000</td>\n",
              "      <td>0.998151</td>\n",
              "      <td>-0.167243</td>\n",
              "      <td>0.936737</td>\n",
              "      <td>-0.601076</td>\n",
              "      <td>-0.637414</td>\n",
              "    </tr>\n",
              "    <tr>\n",
              "      <th>한국인</th>\n",
              "      <td>0.227852</td>\n",
              "      <td>-0.086341</td>\n",
              "      <td>0.998151</td>\n",
              "      <td>1.000000</td>\n",
              "      <td>-0.226853</td>\n",
              "      <td>0.936155</td>\n",
              "      <td>-0.645463</td>\n",
              "      <td>-0.628360</td>\n",
              "    </tr>\n",
              "    <tr>\n",
              "      <th>외국인</th>\n",
              "      <td>0.030421</td>\n",
              "      <td>-0.156421</td>\n",
              "      <td>-0.167243</td>\n",
              "      <td>-0.226853</td>\n",
              "      <td>1.000000</td>\n",
              "      <td>-0.175318</td>\n",
              "      <td>0.838612</td>\n",
              "      <td>-0.021147</td>\n",
              "    </tr>\n",
              "    <tr>\n",
              "      <th>고령자</th>\n",
              "      <td>0.163905</td>\n",
              "      <td>-0.072251</td>\n",
              "      <td>0.936737</td>\n",
              "      <td>0.936155</td>\n",
              "      <td>-0.175318</td>\n",
              "      <td>1.000000</td>\n",
              "      <td>-0.620300</td>\n",
              "      <td>-0.348840</td>\n",
              "    </tr>\n",
              "    <tr>\n",
              "      <th>외국인비율</th>\n",
              "      <td>-0.045956</td>\n",
              "      <td>-0.047102</td>\n",
              "      <td>-0.601076</td>\n",
              "      <td>-0.645463</td>\n",
              "      <td>0.838612</td>\n",
              "      <td>-0.620300</td>\n",
              "      <td>1.000000</td>\n",
              "      <td>0.242816</td>\n",
              "    </tr>\n",
              "    <tr>\n",
              "      <th>고령자비율</th>\n",
              "      <td>-0.267841</td>\n",
              "      <td>0.190396</td>\n",
              "      <td>-0.637414</td>\n",
              "      <td>-0.628360</td>\n",
              "      <td>-0.021147</td>\n",
              "      <td>-0.348840</td>\n",
              "      <td>0.242816</td>\n",
              "      <td>1.000000</td>\n",
              "    </tr>\n",
              "  </tbody>\n",
              "</table>\n",
              "</div>"
            ],
            "text/plain": [
              "             소계     최근증가율       인구수       한국인       외국인       고령자     외국인비율  \\\n",
              "소계     1.000000 -0.264378  0.232555  0.227852  0.030421  0.163905 -0.045956   \n",
              "최근증가율 -0.264378  1.000000 -0.097165 -0.086341 -0.156421 -0.072251 -0.047102   \n",
              "인구수    0.232555 -0.097165  1.000000  0.998151 -0.167243  0.936737 -0.601076   \n",
              "한국인    0.227852 -0.086341  0.998151  1.000000 -0.226853  0.936155 -0.645463   \n",
              "외국인    0.030421 -0.156421 -0.167243 -0.226853  1.000000 -0.175318  0.838612   \n",
              "고령자    0.163905 -0.072251  0.936737  0.936155 -0.175318  1.000000 -0.620300   \n",
              "외국인비율 -0.045956 -0.047102 -0.601076 -0.645463  0.838612 -0.620300  1.000000   \n",
              "고령자비율 -0.267841  0.190396 -0.637414 -0.628360 -0.021147 -0.348840  0.242816   \n",
              "\n",
              "          고령자비율  \n",
              "소계    -0.267841  \n",
              "최근증가율  0.190396  \n",
              "인구수   -0.637414  \n",
              "한국인   -0.628360  \n",
              "외국인   -0.021147  \n",
              "고령자   -0.348840  \n",
              "외국인비율  0.242816  \n",
              "고령자비율  1.000000  "
            ]
          },
          "execution_count": 297,
          "metadata": {},
          "output_type": "execute_result"
        }
      ],
      "source": [
        "data_result.corr()"
      ]
    },
    {
      "cell_type": "code",
      "execution_count": 298,
      "id": "fad7a6b4",
      "metadata": {},
      "outputs": [
        {
          "name": "stdout",
          "output_type": "stream",
          "text": [
            "<class 'pandas.core.frame.DataFrame'>\n",
            "Index: 25 entries, 강남구 to 중랑구\n",
            "Data columns (total 8 columns):\n",
            " #   Column  Non-Null Count  Dtype  \n",
            "---  ------  --------------  -----  \n",
            " 0   소계      25 non-null     int64  \n",
            " 1   최근증가율   25 non-null     float64\n",
            " 2   인구수     25 non-null     int64  \n",
            " 3   한국인     25 non-null     int64  \n",
            " 4   외국인     25 non-null     int64  \n",
            " 5   고령자     25 non-null     int64  \n",
            " 6   외국인비율   25 non-null     float64\n",
            " 7   고령자비율   25 non-null     float64\n",
            "dtypes: float64(3), int64(5)\n",
            "memory usage: 1.8+ KB\n"
          ]
        }
      ],
      "source": [
        "data_result.info()"
      ]
    },
    {
      "cell_type": "markdown",
      "id": "d32c946c",
      "metadata": {},
      "source": [
        "- CCTV 비율이 어느정도인지 확인"
      ]
    },
    {
      "cell_type": "code",
      "execution_count": 299,
      "id": "a1af9332",
      "metadata": {},
      "outputs": [
        {
          "data": {
            "text/html": [
              "<div>\n",
              "<style scoped>\n",
              "    .dataframe tbody tr th:only-of-type {\n",
              "        vertical-align: middle;\n",
              "    }\n",
              "\n",
              "    .dataframe tbody tr th {\n",
              "        vertical-align: top;\n",
              "    }\n",
              "\n",
              "    .dataframe thead th {\n",
              "        text-align: right;\n",
              "    }\n",
              "</style>\n",
              "<table border=\"1\" class=\"dataframe\">\n",
              "  <thead>\n",
              "    <tr style=\"text-align: right;\">\n",
              "      <th></th>\n",
              "      <th>소계</th>\n",
              "      <th>최근증가율</th>\n",
              "      <th>인구수</th>\n",
              "      <th>한국인</th>\n",
              "      <th>외국인</th>\n",
              "      <th>고령자</th>\n",
              "      <th>외국인비율</th>\n",
              "      <th>고령자비율</th>\n",
              "      <th>CCTV비율</th>\n",
              "    </tr>\n",
              "    <tr>\n",
              "      <th>구별</th>\n",
              "      <th></th>\n",
              "      <th></th>\n",
              "      <th></th>\n",
              "      <th></th>\n",
              "      <th></th>\n",
              "      <th></th>\n",
              "      <th></th>\n",
              "      <th></th>\n",
              "      <th></th>\n",
              "    </tr>\n",
              "  </thead>\n",
              "  <tbody>\n",
              "    <tr>\n",
              "      <th>강남구</th>\n",
              "      <td>3238</td>\n",
              "      <td>150.619195</td>\n",
              "      <td>561052</td>\n",
              "      <td>556164</td>\n",
              "      <td>4888</td>\n",
              "      <td>65060</td>\n",
              "      <td>0.871220</td>\n",
              "      <td>11.596073</td>\n",
              "      <td>0.577130</td>\n",
              "    </tr>\n",
              "    <tr>\n",
              "      <th>강동구</th>\n",
              "      <td>1010</td>\n",
              "      <td>166.490765</td>\n",
              "      <td>440359</td>\n",
              "      <td>436223</td>\n",
              "      <td>4136</td>\n",
              "      <td>56161</td>\n",
              "      <td>0.939234</td>\n",
              "      <td>12.753458</td>\n",
              "      <td>0.229358</td>\n",
              "    </tr>\n",
              "    <tr>\n",
              "      <th>강북구</th>\n",
              "      <td>831</td>\n",
              "      <td>125.203252</td>\n",
              "      <td>328002</td>\n",
              "      <td>324479</td>\n",
              "      <td>3523</td>\n",
              "      <td>56530</td>\n",
              "      <td>1.074079</td>\n",
              "      <td>17.234651</td>\n",
              "      <td>0.253352</td>\n",
              "    </tr>\n",
              "    <tr>\n",
              "      <th>강서구</th>\n",
              "      <td>911</td>\n",
              "      <td>134.793814</td>\n",
              "      <td>608255</td>\n",
              "      <td>601691</td>\n",
              "      <td>6564</td>\n",
              "      <td>76032</td>\n",
              "      <td>1.079153</td>\n",
              "      <td>12.500021</td>\n",
              "      <td>0.149773</td>\n",
              "    </tr>\n",
              "    <tr>\n",
              "      <th>관악구</th>\n",
              "      <td>2109</td>\n",
              "      <td>149.290780</td>\n",
              "      <td>520929</td>\n",
              "      <td>503297</td>\n",
              "      <td>17632</td>\n",
              "      <td>70046</td>\n",
              "      <td>3.384722</td>\n",
              "      <td>13.446362</td>\n",
              "      <td>0.404854</td>\n",
              "    </tr>\n",
              "  </tbody>\n",
              "</table>\n",
              "</div>"
            ],
            "text/plain": [
              "       소계       최근증가율     인구수     한국인    외국인    고령자     외국인비율      고령자비율  \\\n",
              "구별                                                                         \n",
              "강남구  3238  150.619195  561052  556164   4888  65060  0.871220  11.596073   \n",
              "강동구  1010  166.490765  440359  436223   4136  56161  0.939234  12.753458   \n",
              "강북구   831  125.203252  328002  324479   3523  56530  1.074079  17.234651   \n",
              "강서구   911  134.793814  608255  601691   6564  76032  1.079153  12.500021   \n",
              "관악구  2109  149.290780  520929  503297  17632  70046  3.384722  13.446362   \n",
              "\n",
              "       CCTV비율  \n",
              "구별             \n",
              "강남구  0.577130  \n",
              "강동구  0.229358  \n",
              "강북구  0.253352  \n",
              "강서구  0.149773  \n",
              "관악구  0.404854  "
            ]
          },
          "execution_count": 299,
          "metadata": {},
          "output_type": "execute_result"
        }
      ],
      "source": [
        "data_result[\"CCTV비율\"]=data_result[\"소계\"]/data_result[\"인구수\"]*100\n",
        "data_result.head()"
      ]
    },
    {
      "cell_type": "markdown",
      "id": "1325ec12",
      "metadata": {},
      "source": [
        "- CCTV 비율이 높은 5개 구 보기"
      ]
    },
    {
      "cell_type": "code",
      "execution_count": 300,
      "id": "3d00c634",
      "metadata": {},
      "outputs": [
        {
          "data": {
            "text/html": [
              "<div>\n",
              "<style scoped>\n",
              "    .dataframe tbody tr th:only-of-type {\n",
              "        vertical-align: middle;\n",
              "    }\n",
              "\n",
              "    .dataframe tbody tr th {\n",
              "        vertical-align: top;\n",
              "    }\n",
              "\n",
              "    .dataframe thead th {\n",
              "        text-align: right;\n",
              "    }\n",
              "</style>\n",
              "<table border=\"1\" class=\"dataframe\">\n",
              "  <thead>\n",
              "    <tr style=\"text-align: right;\">\n",
              "      <th></th>\n",
              "      <th>소계</th>\n",
              "      <th>최근증가율</th>\n",
              "      <th>인구수</th>\n",
              "      <th>한국인</th>\n",
              "      <th>외국인</th>\n",
              "      <th>고령자</th>\n",
              "      <th>외국인비율</th>\n",
              "      <th>고령자비율</th>\n",
              "      <th>CCTV비율</th>\n",
              "    </tr>\n",
              "    <tr>\n",
              "      <th>구별</th>\n",
              "      <th></th>\n",
              "      <th></th>\n",
              "      <th></th>\n",
              "      <th></th>\n",
              "      <th></th>\n",
              "      <th></th>\n",
              "      <th></th>\n",
              "      <th></th>\n",
              "      <th></th>\n",
              "    </tr>\n",
              "  </thead>\n",
              "  <tbody>\n",
              "    <tr>\n",
              "      <th>종로구</th>\n",
              "      <td>1619</td>\n",
              "      <td>248.922414</td>\n",
              "      <td>164257</td>\n",
              "      <td>154770</td>\n",
              "      <td>9487</td>\n",
              "      <td>26182</td>\n",
              "      <td>5.775705</td>\n",
              "      <td>15.939656</td>\n",
              "      <td>0.985651</td>\n",
              "    </tr>\n",
              "    <tr>\n",
              "      <th>용산구</th>\n",
              "      <td>2096</td>\n",
              "      <td>53.216374</td>\n",
              "      <td>244444</td>\n",
              "      <td>229161</td>\n",
              "      <td>15283</td>\n",
              "      <td>36882</td>\n",
              "      <td>6.252148</td>\n",
              "      <td>15.088118</td>\n",
              "      <td>0.857456</td>\n",
              "    </tr>\n",
              "    <tr>\n",
              "      <th>중구</th>\n",
              "      <td>1023</td>\n",
              "      <td>147.699758</td>\n",
              "      <td>134593</td>\n",
              "      <td>125709</td>\n",
              "      <td>8884</td>\n",
              "      <td>21384</td>\n",
              "      <td>6.600640</td>\n",
              "      <td>15.887899</td>\n",
              "      <td>0.760069</td>\n",
              "    </tr>\n",
              "    <tr>\n",
              "      <th>강남구</th>\n",
              "      <td>3238</td>\n",
              "      <td>150.619195</td>\n",
              "      <td>561052</td>\n",
              "      <td>556164</td>\n",
              "      <td>4888</td>\n",
              "      <td>65060</td>\n",
              "      <td>0.871220</td>\n",
              "      <td>11.596073</td>\n",
              "      <td>0.577130</td>\n",
              "    </tr>\n",
              "    <tr>\n",
              "      <th>금천구</th>\n",
              "      <td>1348</td>\n",
              "      <td>100.000000</td>\n",
              "      <td>253491</td>\n",
              "      <td>235154</td>\n",
              "      <td>18337</td>\n",
              "      <td>34170</td>\n",
              "      <td>7.233787</td>\n",
              "      <td>13.479769</td>\n",
              "      <td>0.531774</td>\n",
              "    </tr>\n",
              "  </tbody>\n",
              "</table>\n",
              "</div>"
            ],
            "text/plain": [
              "       소계       최근증가율     인구수     한국인    외국인    고령자     외국인비율      고령자비율  \\\n",
              "구별                                                                         \n",
              "종로구  1619  248.922414  164257  154770   9487  26182  5.775705  15.939656   \n",
              "용산구  2096   53.216374  244444  229161  15283  36882  6.252148  15.088118   \n",
              "중구   1023  147.699758  134593  125709   8884  21384  6.600640  15.887899   \n",
              "강남구  3238  150.619195  561052  556164   4888  65060  0.871220  11.596073   \n",
              "금천구  1348  100.000000  253491  235154  18337  34170  7.233787  13.479769   \n",
              "\n",
              "       CCTV비율  \n",
              "구별             \n",
              "종로구  0.985651  \n",
              "용산구  0.857456  \n",
              "중구   0.760069  \n",
              "강남구  0.577130  \n",
              "금천구  0.531774  "
            ]
          },
          "execution_count": 300,
          "metadata": {},
          "output_type": "execute_result"
        }
      ],
      "source": [
        "data_result.sort_values(by=\"CCTV비율\",ascending=False).head()"
      ]
    },
    {
      "cell_type": "markdown",
      "id": "4e10d538",
      "metadata": {},
      "source": [
        "----"
      ]
    },
    {
      "cell_type": "markdown",
      "id": "28822d80",
      "metadata": {},
      "source": [
        "# matplotlib 기초 "
      ]
    },
    {
      "cell_type": "markdown",
      "id": "cf5ce59f",
      "metadata": {},
      "source": [
        "## 한국어 설정"
      ]
    },
    {
      "cell_type": "code",
      "execution_count": 301,
      "id": "88b399ea",
      "metadata": {},
      "outputs": [],
      "source": [
        "import matplotlib.pyplot as plt\n",
        "from  matplotlib import rc\n",
        "rc(\"font\", family='Malgun Gothic')\n",
        "%matplotlib inline\n",
        "#get_ipython().run_line_magic(\"matplolib\",\"inline\")"
      ]
    },
    {
      "cell_type": "markdown",
      "id": "c41fc826",
      "metadata": {},
      "source": [
        "## 그래프 선언\n",
        "- 그래프 선언 : plt.plot(x데이터,y데이터)\n",
        "- 그래프 사이즈 : plt.figure(figsize=x축,y축)\n",
        "- 그래프 보기 : plt.show()"
      ]
    },
    {
      "cell_type": "markdown",
      "id": "8dcee8dc",
      "metadata": {},
      "source": [
        "### matplotlib 그래프의 기본 형태 \n",
        "````\n",
        "plt.figure(figsize=(10,6))\n",
        "plt.plot(x,y)\n",
        "plt.show()\n",
        "````"
      ]
    },
    {
      "cell_type": "code",
      "execution_count": 302,
      "id": "ee0c6d4c",
      "metadata": {},
      "outputs": [
        {
          "name": "stderr",
          "output_type": "stream",
          "text": [
            "c:\\ProgramData\\miniconda3\\envs\\ds_study\\lib\\site-packages\\IPython\\core\\pylabtools.py:152: UserWarning: Glyph 8722 (\\N{MINUS SIGN}) missing from current font.\n",
            "  fig.canvas.print_figure(bytes_io, **kw)\n"
          ]
        },
        {
          "data": {
            "image/png": "[encoded data removed]",
            "text/plain": [
              "<Figure size 1000x600 with 1 Axes>"
            ]
          },
          "metadata": {},
          "output_type": "display_data"
        }
      ],
      "source": [
        "plt.figure(figsize=(10,6))\n",
        "plt.plot([0,1,2,3,4,5,6,7,8,9],[1,1,2,3,4,2,3,5,-1,-3])\n",
        "plt.show()"
      ]
    },
    {
      "cell_type": "markdown",
      "id": "b4f90af4",
      "metadata": {},
      "source": [
        "### 그래프 커스터마이징"
      ]
    },
    {
      "cell_type": "markdown",
      "id": "dac8573f",
      "metadata": {},
      "source": [
        "#### Numpy를 이용한 삼각함수 그리기\n",
        "- np.arange(a,b,s) : a부터 b까지의 s의 간격\n",
        "- np.sin(value)"
      ]
    },
    {
      "cell_type": "code",
      "execution_count": 303,
      "id": "0d6361e7",
      "metadata": {},
      "outputs": [],
      "source": [
        "import numpy as np\n",
        "t=np.arange(0,12,0.01)\n",
        "y = np.sin(t)"
      ]
    },
    {
      "cell_type": "code",
      "execution_count": 304,
      "id": "cedf8ffa",
      "metadata": {},
      "outputs": [
        {
          "data": {
            "image/png": "[encoded data removed]",
            "text/plain": [
              "<Figure size 1000x600 with 1 Axes>"
            ]
          },
          "metadata": {},
          "output_type": "display_data"
        }
      ],
      "source": [
        "plt.figure(figsize=(10,6))\n",
        "plt.plot(t,np.sin(t))\n",
        "plt.plot(t,np.cos(t))\n",
        "plt.show()"
      ]
    },
    {
      "cell_type": "markdown",
      "id": "2ad244b8",
      "metadata": {},
      "source": [
        "1. 격자 무늬 추가\n",
        "2. 그래프 제목\n",
        "3. x축 y 축 제목추가 \n",
        "4. 범례 추가"
      ]
    },
    {
      "cell_type": "code",
      "execution_count": 305,
      "id": "7c5c3b4a",
      "metadata": {},
      "outputs": [
        {
          "data": {
            "image/png": "[encoded data removed]",
            "text/plain": [
              "<Figure size 1000x600 with 1 Axes>"
            ]
          },
          "metadata": {},
          "output_type": "display_data"
        }
      ],
      "source": [
        "plt.figure(figsize=(10,6))\n",
        "plt.plot(t,np.sin(t), label=\"sin\")\n",
        "plt.plot(t,np.cos(t), label=\"cos\")\n",
        "\n",
        "plt.grid(True)\n",
        "plt.title(\"Example of sinewave\")\n",
        "plt.xlabel(\"time\")\n",
        "plt.ylabel(\"Amlitute\")\n",
        "#plt.legend(labels=[\"sin\",\"cos\"])\n",
        "#plt.legend(loc=\"upper right\")\n",
        "plt.legend(loc=2)\n",
        "plt.show()"
      ]
    },
    {
      "cell_type": "code",
      "execution_count": null,
      "id": "ae4abec8",
      "metadata": {},
      "outputs": [],
      "source": [
        "def drawGraph():\n",
        "    plt.figure(figsize=(10,6))\n",
        "    plt.plot(t,np.sin(t), label=\"sin\")\n",
        "    plt.plot(t,np.cos(t), label=\"cos\")\n",
        "\n",
        "    plt.grid(True)\n",
        "    plt.title(\"Example of sinewave\")\n",
        "    plt.xlabel(\"time\")\n",
        "    plt.ylabel(\"Amlitute\")\n",
        "    #plt.legend(labels=[\"sin\",\"cos\"])\n",
        "    #plt.legend(loc=\"upper right\")\n",
        "    plt.legend(loc=2)\n",
        "    plt.show()"
      ]
    },
    {
      "cell_type": "markdown",
      "id": "38e34d6a",
      "metadata": {},
      "source": [
        "### 그래프 모양 커스텀\n",
        "- `--` : 점표 표시 "
      ]
    },
    {
      "cell_type": "code",
      "execution_count": 307,
      "id": "4d66baea",
      "metadata": {},
      "outputs": [
        {
          "data": {
            "text/plain": [
              "array([0. , 0.5, 1. , 1.5, 2. , 2.5, 3. , 3.5, 4. , 4.5])"
            ]
          },
          "execution_count": 307,
          "metadata": {},
          "output_type": "execute_result"
        }
      ],
      "source": [
        "t=np.arange(0,5,0.5)\n",
        "t"
      ]
    },
    {
      "cell_type": "code",
      "execution_count": 309,
      "id": "1b772d7f",
      "metadata": {},
      "outputs": [
        {
          "data": {
            "image/png": "[encoded data removed]",
            "text/plain": [
              "<Figure size 1000x600 with 1 Axes>"
            ]
          },
          "metadata": {},
          "output_type": "display_data"
        }
      ],
      "source": [
        "plt.figure(figsize=(10,6))\n",
        "plt.plot(t,t,\"r--\")\n",
        "plt.plot(t,t **2, \"bs\")\n",
        "plt.plot(t, t **3, \"g\")\n",
        "plt.show()"
      ]
    },
    {
      "cell_type": "code",
      "execution_count": 311,
      "id": "5d957bf7",
      "metadata": {},
      "outputs": [],
      "source": [
        "t=list(range(0,7))\n",
        "y=[1,4,5,8,9,5,3]"
      ]
    },
    {
      "cell_type": "code",
      "execution_count": 315,
      "id": "72a789a2",
      "metadata": {},
      "outputs": [
        {
          "data": {
            "image/png": "[encoded data removed]",
            "text/plain": [
              "<Figure size 1000x600 with 1 Axes>"
            ]
          },
          "metadata": {},
          "output_type": "display_data"
        }
      ],
      "source": [
        "plt.figure(figsize=(10,6))\n",
        "plt.plot(\n",
        "    t,\n",
        "    y,\n",
        "    color=\"green\", #\"red\" \"blue\"\n",
        "    linestyle=\"dashed\",\n",
        "    marker=\"o\",\n",
        "    markerfacecolor=\"blue\",\n",
        "    markersize=15\n",
        ")\n",
        "\n",
        "plt.xlim([-0.5,6.5])\n",
        "plt.ylim([0.5,9.5])\n",
        "plt.show()"
      ]
    },
    {
      "cell_type": "code",
      "execution_count": 317,
      "id": "bce86c2b",
      "metadata": {},
      "outputs": [],
      "source": [
        "def drawGraph2():\n",
        "    plt.figure(figsize=(10,6))\n",
        "    plt.plot(\n",
        "        t,\n",
        "        y,\n",
        "        color=\"green\", #\"red\" \"blue\"\n",
        "        linestyle=\"dashed\",\n",
        "        marker=\"o\",\n",
        "        markerfacecolor=\"blue\",\n",
        "        markersize=15\n",
        "    )\n",
        "\n",
        "    plt.xlim([-0.5,6.5])\n",
        "    plt.ylim([0.5,9.5])\n",
        "    plt.show()"
      ]
    },
    {
      "cell_type": "code",
      "execution_count": 318,
      "id": "6c2969c6",
      "metadata": {},
      "outputs": [
        {
          "data": {
            "image/png": "[encoded data removed]",
            "text/plain": [
              "<Figure size 1000x600 with 1 Axes>"
            ]
          },
          "metadata": {},
          "output_type": "display_data"
        }
      ],
      "source": [
        "drawGraph2()"
      ]
    },
    {
      "cell_type": "markdown",
      "id": "8e0332d4",
      "metadata": {},
      "source": [
        "### scatter (점포도)"
      ]
    },
    {
      "cell_type": "code",
      "execution_count": 320,
      "id": "73ebb09d",
      "metadata": {},
      "outputs": [],
      "source": [
        "t = np.array(range(0,10))\n",
        "y= np.array([9,8,7,9,8,3,2,4,3,4])"
      ]
    },
    {
      "cell_type": "code",
      "execution_count": 323,
      "id": "379215cf",
      "metadata": {},
      "outputs": [
        {
          "data": {
            "image/png": "[encoded data removed]",
            "text/plain": [
              "<Figure size 1000x600 with 1 Axes>"
            ]
          },
          "metadata": {},
          "output_type": "display_data"
        }
      ],
      "source": [
        "def drawGraph3():\n",
        "    plt.figure(figsize=(10,6))\n",
        "    plt.scatter(t,y)\n",
        "    plt.show()\n",
        "\n",
        "drawGraph3()"
      ]
    },
    {
      "cell_type": "code",
      "execution_count": 324,
      "id": "76f2ee90",
      "metadata": {},
      "outputs": [
        {
          "data": {
            "image/png": "[encoded data removed]",
            "text/plain": [
              "<Figure size 2000x600 with 2 Axes>"
            ]
          },
          "metadata": {},
          "output_type": "display_data"
        }
      ],
      "source": [
        "colormap=t\n",
        "def drawGraph3():\n",
        "    plt.figure(figsize=(20,6))\n",
        "    plt.scatter(t,y,s=50,c=colormap,marker=\">\")\n",
        "    plt.colorbar()\n",
        "    plt.show()\n",
        "\n",
        "drawGraph3()"
      ]
    },
    {
      "cell_type": "markdown",
      "id": "965b97a4",
      "metadata": {},
      "source": [
        "### pandas에서도 plot 하기 \n",
        "- matplotlib을 가져와 사용함 "
      ]
    },
    {
      "cell_type": "code",
      "execution_count": 325,
      "id": "61242359",
      "metadata": {},
      "outputs": [
        {
          "data": {
            "text/html": [
              "<div>\n",
              "<style scoped>\n",
              "    .dataframe tbody tr th:only-of-type {\n",
              "        vertical-align: middle;\n",
              "    }\n",
              "\n",
              "    .dataframe tbody tr th {\n",
              "        vertical-align: top;\n",
              "    }\n",
              "\n",
              "    .dataframe thead th {\n",
              "        text-align: right;\n",
              "    }\n",
              "</style>\n",
              "<table border=\"1\" class=\"dataframe\">\n",
              "  <thead>\n",
              "    <tr style=\"text-align: right;\">\n",
              "      <th></th>\n",
              "      <th>소계</th>\n",
              "      <th>최근증가율</th>\n",
              "      <th>인구수</th>\n",
              "      <th>한국인</th>\n",
              "      <th>외국인</th>\n",
              "      <th>고령자</th>\n",
              "      <th>외국인비율</th>\n",
              "      <th>고령자비율</th>\n",
              "      <th>CCTV비율</th>\n",
              "    </tr>\n",
              "    <tr>\n",
              "      <th>구별</th>\n",
              "      <th></th>\n",
              "      <th></th>\n",
              "      <th></th>\n",
              "      <th></th>\n",
              "      <th></th>\n",
              "      <th></th>\n",
              "      <th></th>\n",
              "      <th></th>\n",
              "      <th></th>\n",
              "    </tr>\n",
              "  </thead>\n",
              "  <tbody>\n",
              "    <tr>\n",
              "      <th>강남구</th>\n",
              "      <td>3238</td>\n",
              "      <td>150.619195</td>\n",
              "      <td>561052</td>\n",
              "      <td>556164</td>\n",
              "      <td>4888</td>\n",
              "      <td>65060</td>\n",
              "      <td>0.871220</td>\n",
              "      <td>11.596073</td>\n",
              "      <td>0.577130</td>\n",
              "    </tr>\n",
              "    <tr>\n",
              "      <th>강동구</th>\n",
              "      <td>1010</td>\n",
              "      <td>166.490765</td>\n",
              "      <td>440359</td>\n",
              "      <td>436223</td>\n",
              "      <td>4136</td>\n",
              "      <td>56161</td>\n",
              "      <td>0.939234</td>\n",
              "      <td>12.753458</td>\n",
              "      <td>0.229358</td>\n",
              "    </tr>\n",
              "    <tr>\n",
              "      <th>강북구</th>\n",
              "      <td>831</td>\n",
              "      <td>125.203252</td>\n",
              "      <td>328002</td>\n",
              "      <td>324479</td>\n",
              "      <td>3523</td>\n",
              "      <td>56530</td>\n",
              "      <td>1.074079</td>\n",
              "      <td>17.234651</td>\n",
              "      <td>0.253352</td>\n",
              "    </tr>\n",
              "    <tr>\n",
              "      <th>강서구</th>\n",
              "      <td>911</td>\n",
              "      <td>134.793814</td>\n",
              "      <td>608255</td>\n",
              "      <td>601691</td>\n",
              "      <td>6564</td>\n",
              "      <td>76032</td>\n",
              "      <td>1.079153</td>\n",
              "      <td>12.500021</td>\n",
              "      <td>0.149773</td>\n",
              "    </tr>\n",
              "    <tr>\n",
              "      <th>관악구</th>\n",
              "      <td>2109</td>\n",
              "      <td>149.290780</td>\n",
              "      <td>520929</td>\n",
              "      <td>503297</td>\n",
              "      <td>17632</td>\n",
              "      <td>70046</td>\n",
              "      <td>3.384722</td>\n",
              "      <td>13.446362</td>\n",
              "      <td>0.404854</td>\n",
              "    </tr>\n",
              "  </tbody>\n",
              "</table>\n",
              "</div>"
            ],
            "text/plain": [
              "       소계       최근증가율     인구수     한국인    외국인    고령자     외국인비율      고령자비율  \\\n",
              "구별                                                                         \n",
              "강남구  3238  150.619195  561052  556164   4888  65060  0.871220  11.596073   \n",
              "강동구  1010  166.490765  440359  436223   4136  56161  0.939234  12.753458   \n",
              "강북구   831  125.203252  328002  324479   3523  56530  1.074079  17.234651   \n",
              "강서구   911  134.793814  608255  601691   6564  76032  1.079153  12.500021   \n",
              "관악구  2109  149.290780  520929  503297  17632  70046  3.384722  13.446362   \n",
              "\n",
              "       CCTV비율  \n",
              "구별             \n",
              "강남구  0.577130  \n",
              "강동구  0.229358  \n",
              "강북구  0.253352  \n",
              "강서구  0.149773  \n",
              "관악구  0.404854  "
            ]
          },
          "execution_count": 325,
          "metadata": {},
          "output_type": "execute_result"
        }
      ],
      "source": [
        "data_result.head()"
      ]
    },
    {
      "cell_type": "code",
      "execution_count": 326,
      "id": "2c366969",
      "metadata": {},
      "outputs": [
        {
          "data": {
            "text/plain": [
              "<Axes: xlabel='구별'>"
            ]
          },
          "execution_count": 326,
          "metadata": {},
          "output_type": "execute_result"
        },
        {
          "data": {
            "image/png": "[encoded data removed]",
            "text/plain": [
              "<Figure size 1600x1000 with 1 Axes>"
            ]
          },
          "metadata": {},
          "output_type": "display_data"
        }
      ],
      "source": [
        "data_result[\"인구수\"].plot(kind=\"bar\",figsize=(16,10))"
      ]
    },
    {
      "cell_type": "code",
      "execution_count": 327,
      "id": "44d36f82",
      "metadata": {},
      "outputs": [
        {
          "data": {
            "text/plain": [
              "<Axes: ylabel='구별'>"
            ]
          },
          "execution_count": 327,
          "metadata": {},
          "output_type": "execute_result"
        },
        {
          "data": {
            "image/png": "[encoded data removed]",
            "text/plain": [
              "<Figure size 1600x1000 with 1 Axes>"
            ]
          },
          "metadata": {},
          "output_type": "display_data"
        }
      ],
      "source": [
        "data_result[\"인구수\"].plot(kind=\"barh\",figsize=(16,10))"
      ]
    },
    {
      "cell_type": "code",
      "execution_count": null,
      "id": "8fa36cb8",
      "metadata": {},
      "outputs": [],
      "source": []
    },
    {
      "cell_type": "code",
      "execution_count": null,
      "id": "1df7fbb3",
      "metadata": {},
      "outputs": [],
      "source": []
    },
    {
      "cell_type": "code",
      "execution_count": null,
      "id": "9802590b",
      "metadata": {},
      "outputs": [],
      "source": []
    },
    {
      "cell_type": "code",
      "execution_count": null,
      "id": "f37e7d71",
      "metadata": {},
      "outputs": [],
      "source": []
    }
  ],
  "metadata": {
    "colab": {
      "provenance": []
    },
    "kernelspec": {
      "display_name": "ds_study",
      "language": "python",
      "name": "python3"
    },
    "language_info": {
      "codemirror_mode": {
        "name": "ipython",
        "version": 3
      },
      "file_extension": ".py",
      "mimetype": "text/x-python",
      "name": "python",
      "nbconvert_exporter": "python",
      "pygments_lexer": "ipython3",
      "version": "3.8.20"
    }
  },
  "nbformat": 4,
  "nbformat_minor": 5
}
