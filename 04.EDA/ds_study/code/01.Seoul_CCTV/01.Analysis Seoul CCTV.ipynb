{
  "cells": [
    {
      "cell_type": "markdown",
      "id": "45d7da06-aed9-4b91-86ac-dde526badd44",
      "metadata": {
        "id": "45d7da06-aed9-4b91-86ac-dde526badd44"
      },
      "source": [
        "# 01.Analysis Seoul CCTV\n",
        "## 1.데이터 읽기"
      ]
    },
    {
      "cell_type": "code",
      "execution_count": null,
      "id": "444c7990-22bb-4192-adcf-9b2bb1c854aa",
      "metadata": {
        "id": "444c7990-22bb-4192-adcf-9b2bb1c854aa"
      },
      "outputs": [],
      "source": [
        "### 데이터 분석을 위한 패키지 : Pandas\n",
        "import pandas as pd"
      ]
    },
    {
      "cell_type": "markdown",
      "id": "fa34aca5-bef6-48fe-8dd5-38dad58f980f",
      "metadata": {
        "id": "fa34aca5-bef6-48fe-8dd5-38dad58f980f"
      },
      "source": [
        "미설치 시 설치 방법\n",
        " !conda install -y pandas"
      ]
    },
    {
      "cell_type": "code",
      "execution_count": null,
      "id": "a0a0113b-a75b-4e40-b4c2-f755c92178a6",
      "metadata": {
        "id": "a0a0113b-a75b-4e40-b4c2-f755c92178a6"
      },
      "outputs": [],
      "source": [
        "### CSV 파일 읽기\n",
        "CCTV_Seoul = pd.read_csv(\"../../data/01.Seoul_CCTV/01. Seoul_CCTV.csv\", encoding=\"UTF-8\")"
      ]
    },
    {
      "cell_type": "code",
      "execution_count": null,
      "id": "212cc10c-c9f3-4996-aa52-798641b98fa5",
      "metadata": {
        "id": "212cc10c-c9f3-4996-aa52-798641b98fa5",
        "outputId": "a26b805c-48fa-420c-eeee-fd944226da9d"
      },
      "outputs": [
        {
          "data": {
            "text/html": [
              "<div>\n",
              "<style scoped>\n",
              "    .dataframe tbody tr th:only-of-type {\n",
              "        vertical-align: middle;\n",
              "    }\n",
              "\n",
              "    .dataframe tbody tr th {\n",
              "        vertical-align: top;\n",
              "    }\n",
              "\n",
              "    .dataframe thead th {\n",
              "        text-align: right;\n",
              "    }\n",
              "</style>\n",
              "<table border=\"1\" class=\"dataframe\">\n",
              "  <thead>\n",
              "    <tr style=\"text-align: right;\">\n",
              "      <th></th>\n",
              "      <th>기관명</th>\n",
              "      <th>소계</th>\n",
              "      <th>2013년도 이전</th>\n",
              "      <th>2014년</th>\n",
              "      <th>2015년</th>\n",
              "      <th>2016년</th>\n",
              "    </tr>\n",
              "  </thead>\n",
              "  <tbody>\n",
              "    <tr>\n",
              "      <th>0</th>\n",
              "      <td>강남구</td>\n",
              "      <td>3238</td>\n",
              "      <td>1292</td>\n",
              "      <td>430</td>\n",
              "      <td>584</td>\n",
              "      <td>932</td>\n",
              "    </tr>\n",
              "    <tr>\n",
              "      <th>1</th>\n",
              "      <td>강동구</td>\n",
              "      <td>1010</td>\n",
              "      <td>379</td>\n",
              "      <td>99</td>\n",
              "      <td>155</td>\n",
              "      <td>377</td>\n",
              "    </tr>\n",
              "    <tr>\n",
              "      <th>2</th>\n",
              "      <td>강북구</td>\n",
              "      <td>831</td>\n",
              "      <td>369</td>\n",
              "      <td>120</td>\n",
              "      <td>138</td>\n",
              "      <td>204</td>\n",
              "    </tr>\n",
              "    <tr>\n",
              "      <th>3</th>\n",
              "      <td>강서구</td>\n",
              "      <td>911</td>\n",
              "      <td>388</td>\n",
              "      <td>258</td>\n",
              "      <td>184</td>\n",
              "      <td>81</td>\n",
              "    </tr>\n",
              "    <tr>\n",
              "      <th>4</th>\n",
              "      <td>관악구</td>\n",
              "      <td>2109</td>\n",
              "      <td>846</td>\n",
              "      <td>260</td>\n",
              "      <td>390</td>\n",
              "      <td>613</td>\n",
              "    </tr>\n",
              "  </tbody>\n",
              "</table>\n",
              "</div>"
            ],
            "text/plain": [
              "   기관명    소계  2013년도 이전  2014년  2015년  2016년\n",
              "0  강남구  3238       1292    430    584    932\n",
              "1  강동구  1010        379     99    155    377\n",
              "2  강북구   831        369    120    138    204\n",
              "3  강서구   911        388    258    184     81\n",
              "4  관악구  2109        846    260    390    613"
            ]
          },
          "execution_count": 78,
          "metadata": {},
          "output_type": "execute_result"
        }
      ],
      "source": [
        "CCTV_Seoul.head()\n",
        "### 2행 만 읽기 CCTV_Seoul.head(2)"
      ]
    },
    {
      "cell_type": "code",
      "execution_count": null,
      "id": "5ce05284-25e1-4634-8f0e-d7107e336759",
      "metadata": {
        "id": "5ce05284-25e1-4634-8f0e-d7107e336759",
        "outputId": "1d69c3c5-e691-4a2e-fc0a-500432d0db59"
      },
      "outputs": [
        {
          "data": {
            "text/html": [
              "<div>\n",
              "<style scoped>\n",
              "    .dataframe tbody tr th:only-of-type {\n",
              "        vertical-align: middle;\n",
              "    }\n",
              "\n",
              "    .dataframe tbody tr th {\n",
              "        vertical-align: top;\n",
              "    }\n",
              "\n",
              "    .dataframe thead th {\n",
              "        text-align: right;\n",
              "    }\n",
              "</style>\n",
              "<table border=\"1\" class=\"dataframe\">\n",
              "  <thead>\n",
              "    <tr style=\"text-align: right;\">\n",
              "      <th></th>\n",
              "      <th>기관명</th>\n",
              "      <th>소계</th>\n",
              "      <th>2013년도 이전</th>\n",
              "      <th>2014년</th>\n",
              "      <th>2015년</th>\n",
              "      <th>2016년</th>\n",
              "    </tr>\n",
              "  </thead>\n",
              "  <tbody>\n",
              "    <tr>\n",
              "      <th>20</th>\n",
              "      <td>용산구</td>\n",
              "      <td>2096</td>\n",
              "      <td>1368</td>\n",
              "      <td>218</td>\n",
              "      <td>112</td>\n",
              "      <td>398</td>\n",
              "    </tr>\n",
              "    <tr>\n",
              "      <th>21</th>\n",
              "      <td>은평구</td>\n",
              "      <td>2108</td>\n",
              "      <td>1138</td>\n",
              "      <td>224</td>\n",
              "      <td>278</td>\n",
              "      <td>468</td>\n",
              "    </tr>\n",
              "    <tr>\n",
              "      <th>22</th>\n",
              "      <td>종로구</td>\n",
              "      <td>1619</td>\n",
              "      <td>464</td>\n",
              "      <td>314</td>\n",
              "      <td>211</td>\n",
              "      <td>630</td>\n",
              "    </tr>\n",
              "    <tr>\n",
              "      <th>23</th>\n",
              "      <td>중구</td>\n",
              "      <td>1023</td>\n",
              "      <td>413</td>\n",
              "      <td>190</td>\n",
              "      <td>72</td>\n",
              "      <td>348</td>\n",
              "    </tr>\n",
              "    <tr>\n",
              "      <th>24</th>\n",
              "      <td>중랑구</td>\n",
              "      <td>916</td>\n",
              "      <td>509</td>\n",
              "      <td>121</td>\n",
              "      <td>177</td>\n",
              "      <td>109</td>\n",
              "    </tr>\n",
              "  </tbody>\n",
              "</table>\n",
              "</div>"
            ],
            "text/plain": [
              "    기관명    소계  2013년도 이전  2014년  2015년  2016년\n",
              "20  용산구  2096       1368    218    112    398\n",
              "21  은평구  2108       1138    224    278    468\n",
              "22  종로구  1619        464    314    211    630\n",
              "23   중구  1023        413    190     72    348\n",
              "24  중랑구   916        509    121    177    109"
            ]
          },
          "execution_count": 79,
          "metadata": {},
          "output_type": "execute_result"
        }
      ],
      "source": [
        "### 끝에 줄만 읽기\n",
        "CCTV_Seoul.tail()"
      ]
    },
    {
      "cell_type": "code",
      "execution_count": null,
      "id": "bee3c2e0-335f-4840-a805-7e8ac3f0311b",
      "metadata": {
        "id": "bee3c2e0-335f-4840-a805-7e8ac3f0311b",
        "outputId": "bd4904ac-649e-4198-9b00-4b49a4059330"
      },
      "outputs": [
        {
          "data": {
            "text/plain": [
              "Index(['기관명', '소계', '2013년도 이전', '2014년', '2015년', '2016년'], dtype='object')"
            ]
          },
          "execution_count": 80,
          "metadata": {},
          "output_type": "execute_result"
        }
      ],
      "source": [
        "### 컬럼 명의 변경\n",
        "CCTV_Seoul.columns"
      ]
    },
    {
      "cell_type": "code",
      "execution_count": null,
      "id": "ecd9c3c6-2647-4a7d-8f5a-16ba8f84a9a0",
      "metadata": {
        "id": "ecd9c3c6-2647-4a7d-8f5a-16ba8f84a9a0",
        "outputId": "fd6cc2fb-e3a4-44ee-ba53-aa1bcc337ada"
      },
      "outputs": [
        {
          "data": {
            "text/plain": [
              "'기관명'"
            ]
          },
          "execution_count": 81,
          "metadata": {},
          "output_type": "execute_result"
        }
      ],
      "source": [
        "### 특정 컬럼 출력\n",
        "CCTV_Seoul.columns[0]"
      ]
    },
    {
      "cell_type": "code",
      "execution_count": null,
      "id": "df918783-7358-48c4-b1e9-ca58fd2aec71",
      "metadata": {
        "id": "df918783-7358-48c4-b1e9-ca58fd2aec71"
      },
      "outputs": [],
      "source": [
        "### 컬럼명 변경하기\n",
        "CCTV_Seoul.rename(columns={CCTV_Seoul.columns[0] : \"구별\"},inplace=True)"
      ]
    },
    {
      "cell_type": "code",
      "execution_count": null,
      "id": "af593be5-c3b4-4ab9-822f-de93c8d09151",
      "metadata": {
        "id": "af593be5-c3b4-4ab9-822f-de93c8d09151",
        "outputId": "3328db54-3253-40f7-980d-82286c16c05b"
      },
      "outputs": [
        {
          "data": {
            "text/html": [
              "<div>\n",
              "<style scoped>\n",
              "    .dataframe tbody tr th:only-of-type {\n",
              "        vertical-align: middle;\n",
              "    }\n",
              "\n",
              "    .dataframe tbody tr th {\n",
              "        vertical-align: top;\n",
              "    }\n",
              "\n",
              "    .dataframe thead th {\n",
              "        text-align: right;\n",
              "    }\n",
              "</style>\n",
              "<table border=\"1\" class=\"dataframe\">\n",
              "  <thead>\n",
              "    <tr style=\"text-align: right;\">\n",
              "      <th></th>\n",
              "      <th>구별</th>\n",
              "      <th>소계</th>\n",
              "      <th>2013년도 이전</th>\n",
              "      <th>2014년</th>\n",
              "      <th>2015년</th>\n",
              "      <th>2016년</th>\n",
              "    </tr>\n",
              "  </thead>\n",
              "  <tbody>\n",
              "    <tr>\n",
              "      <th>0</th>\n",
              "      <td>강남구</td>\n",
              "      <td>3238</td>\n",
              "      <td>1292</td>\n",
              "      <td>430</td>\n",
              "      <td>584</td>\n",
              "      <td>932</td>\n",
              "    </tr>\n",
              "    <tr>\n",
              "      <th>1</th>\n",
              "      <td>강동구</td>\n",
              "      <td>1010</td>\n",
              "      <td>379</td>\n",
              "      <td>99</td>\n",
              "      <td>155</td>\n",
              "      <td>377</td>\n",
              "    </tr>\n",
              "    <tr>\n",
              "      <th>2</th>\n",
              "      <td>강북구</td>\n",
              "      <td>831</td>\n",
              "      <td>369</td>\n",
              "      <td>120</td>\n",
              "      <td>138</td>\n",
              "      <td>204</td>\n",
              "    </tr>\n",
              "    <tr>\n",
              "      <th>3</th>\n",
              "      <td>강서구</td>\n",
              "      <td>911</td>\n",
              "      <td>388</td>\n",
              "      <td>258</td>\n",
              "      <td>184</td>\n",
              "      <td>81</td>\n",
              "    </tr>\n",
              "    <tr>\n",
              "      <th>4</th>\n",
              "      <td>관악구</td>\n",
              "      <td>2109</td>\n",
              "      <td>846</td>\n",
              "      <td>260</td>\n",
              "      <td>390</td>\n",
              "      <td>613</td>\n",
              "    </tr>\n",
              "  </tbody>\n",
              "</table>\n",
              "</div>"
            ],
            "text/plain": [
              "    구별    소계  2013년도 이전  2014년  2015년  2016년\n",
              "0  강남구  3238       1292    430    584    932\n",
              "1  강동구  1010        379     99    155    377\n",
              "2  강북구   831        369    120    138    204\n",
              "3  강서구   911        388    258    184     81\n",
              "4  관악구  2109        846    260    390    613"
            ]
          },
          "execution_count": 83,
          "metadata": {},
          "output_type": "execute_result"
        }
      ],
      "source": [
        "CCTV_Seoul.head()"
      ]
    },
    {
      "cell_type": "code",
      "execution_count": null,
      "id": "9ad6bfb6-ad2b-4489-9b24-1445444d659e",
      "metadata": {
        "id": "9ad6bfb6-ad2b-4489-9b24-1445444d659e",
        "outputId": "60e0511c-ddbb-4323-9c73-7e893b1632a8"
      },
      "outputs": [
        {
          "data": {
            "text/html": [
              "<div>\n",
              "<style scoped>\n",
              "    .dataframe tbody tr th:only-of-type {\n",
              "        vertical-align: middle;\n",
              "    }\n",
              "\n",
              "    .dataframe tbody tr th {\n",
              "        vertical-align: top;\n",
              "    }\n",
              "\n",
              "    .dataframe thead th {\n",
              "        text-align: right;\n",
              "    }\n",
              "</style>\n",
              "<table border=\"1\" class=\"dataframe\">\n",
              "  <thead>\n",
              "    <tr style=\"text-align: right;\">\n",
              "      <th></th>\n",
              "      <th>자치구</th>\n",
              "      <th>계</th>\n",
              "      <th>계.1</th>\n",
              "      <th>계.2</th>\n",
              "      <th>65세이상고령자</th>\n",
              "    </tr>\n",
              "  </thead>\n",
              "  <tbody>\n",
              "    <tr>\n",
              "      <th>0</th>\n",
              "      <td>합계</td>\n",
              "      <td>10124579</td>\n",
              "      <td>9857426</td>\n",
              "      <td>267153</td>\n",
              "      <td>1365126</td>\n",
              "    </tr>\n",
              "    <tr>\n",
              "      <th>1</th>\n",
              "      <td>종로구</td>\n",
              "      <td>164257</td>\n",
              "      <td>154770</td>\n",
              "      <td>9487</td>\n",
              "      <td>26182</td>\n",
              "    </tr>\n",
              "    <tr>\n",
              "      <th>2</th>\n",
              "      <td>중구</td>\n",
              "      <td>134593</td>\n",
              "      <td>125709</td>\n",
              "      <td>8884</td>\n",
              "      <td>21384</td>\n",
              "    </tr>\n",
              "    <tr>\n",
              "      <th>3</th>\n",
              "      <td>용산구</td>\n",
              "      <td>244444</td>\n",
              "      <td>229161</td>\n",
              "      <td>15283</td>\n",
              "      <td>36882</td>\n",
              "    </tr>\n",
              "    <tr>\n",
              "      <th>4</th>\n",
              "      <td>성동구</td>\n",
              "      <td>312711</td>\n",
              "      <td>304808</td>\n",
              "      <td>7903</td>\n",
              "      <td>41273</td>\n",
              "    </tr>\n",
              "  </tbody>\n",
              "</table>\n",
              "</div>"
            ],
            "text/plain": [
              "   자치구         계      계.1     계.2  65세이상고령자\n",
              "0   합계  10124579  9857426  267153   1365126\n",
              "1  종로구    164257   154770    9487     26182\n",
              "2   중구    134593   125709    8884     21384\n",
              "3  용산구    244444   229161   15283     36882\n",
              "4  성동구    312711   304808    7903     41273"
            ]
          },
          "execution_count": 84,
          "metadata": {},
          "output_type": "execute_result"
        }
      ],
      "source": [
        "### 엑셀 파일 읽기\n",
        "pop_Seoul = pd.read_excel(\"../../data/01.Seoul_CCTV/01. Seoul_Population.xls\",header=2,usecols=\"B,D,G,J,N\")\n",
        "pop_Seoul.head()"
      ]
    },
    {
      "cell_type": "code",
      "execution_count": null,
      "id": "d94dd209-5b90-4cda-a0b7-7c93b93b0d3c",
      "metadata": {
        "id": "d94dd209-5b90-4cda-a0b7-7c93b93b0d3c"
      },
      "outputs": [],
      "source": [
        "pop_Seoul.rename(columns={pop_Seoul.columns[0]:\"구별\"},inplace=True)\n",
        "pop_Seoul.rename(columns={pop_Seoul.columns[1]:\"인구수\"},inplace=True)\n",
        "pop_Seoul.rename(columns={pop_Seoul.columns[2]:\"한국인\"},inplace=True)\n",
        "pop_Seoul.rename(columns={pop_Seoul.columns[3]:\"외국인\"},inplace=True)\n",
        "pop_Seoul.rename(columns={pop_Seoul.columns[4]:\"고령자\"},inplace=True)"
      ]
    },
    {
      "cell_type": "code",
      "execution_count": null,
      "id": "c673b575-53fc-4cdd-ae19-d3fc29c46b00",
      "metadata": {
        "id": "c673b575-53fc-4cdd-ae19-d3fc29c46b00",
        "outputId": "94753410-045c-4450-9d4e-899742e82f08"
      },
      "outputs": [
        {
          "data": {
            "text/html": [
              "<div>\n",
              "<style scoped>\n",
              "    .dataframe tbody tr th:only-of-type {\n",
              "        vertical-align: middle;\n",
              "    }\n",
              "\n",
              "    .dataframe tbody tr th {\n",
              "        vertical-align: top;\n",
              "    }\n",
              "\n",
              "    .dataframe thead th {\n",
              "        text-align: right;\n",
              "    }\n",
              "</style>\n",
              "<table border=\"1\" class=\"dataframe\">\n",
              "  <thead>\n",
              "    <tr style=\"text-align: right;\">\n",
              "      <th></th>\n",
              "      <th>구별</th>\n",
              "      <th>인구수</th>\n",
              "      <th>한국인</th>\n",
              "      <th>외국인</th>\n",
              "      <th>고령자</th>\n",
              "    </tr>\n",
              "  </thead>\n",
              "  <tbody>\n",
              "    <tr>\n",
              "      <th>0</th>\n",
              "      <td>합계</td>\n",
              "      <td>10124579</td>\n",
              "      <td>9857426</td>\n",
              "      <td>267153</td>\n",
              "      <td>1365126</td>\n",
              "    </tr>\n",
              "    <tr>\n",
              "      <th>1</th>\n",
              "      <td>종로구</td>\n",
              "      <td>164257</td>\n",
              "      <td>154770</td>\n",
              "      <td>9487</td>\n",
              "      <td>26182</td>\n",
              "    </tr>\n",
              "    <tr>\n",
              "      <th>2</th>\n",
              "      <td>중구</td>\n",
              "      <td>134593</td>\n",
              "      <td>125709</td>\n",
              "      <td>8884</td>\n",
              "      <td>21384</td>\n",
              "    </tr>\n",
              "    <tr>\n",
              "      <th>3</th>\n",
              "      <td>용산구</td>\n",
              "      <td>244444</td>\n",
              "      <td>229161</td>\n",
              "      <td>15283</td>\n",
              "      <td>36882</td>\n",
              "    </tr>\n",
              "    <tr>\n",
              "      <th>4</th>\n",
              "      <td>성동구</td>\n",
              "      <td>312711</td>\n",
              "      <td>304808</td>\n",
              "      <td>7903</td>\n",
              "      <td>41273</td>\n",
              "    </tr>\n",
              "  </tbody>\n",
              "</table>\n",
              "</div>"
            ],
            "text/plain": [
              "    구별       인구수      한국인     외국인      고령자\n",
              "0   합계  10124579  9857426  267153  1365126\n",
              "1  종로구    164257   154770    9487    26182\n",
              "2   중구    134593   125709    8884    21384\n",
              "3  용산구    244444   229161   15283    36882\n",
              "4  성동구    312711   304808    7903    41273"
            ]
          },
          "execution_count": 86,
          "metadata": {},
          "output_type": "execute_result"
        }
      ],
      "source": [
        "pop_Seoul.head()"
      ]
    },
    {
      "cell_type": "markdown",
      "id": "67b46932",
      "metadata": {
        "id": "67b46932"
      },
      "source": [
        "---"
      ]
    },
    {
      "cell_type": "markdown",
      "id": "c66b8c5a-72a6-4364-a948-baac6ade4b33",
      "metadata": {
        "id": "c66b8c5a-72a6-4364-a948-baac6ade4b33"
      },
      "source": [
        "# 2.Pandas의 기초\n",
        "- 파이썬에서 R만큼의 강력한 데이터 핸들링을제공하는 모듈\n",
        "- 단일 프로세스에서는 최대 효율\n",
        "- 코딩이 가능한 엑셀"
      ]
    },
    {
      "cell_type": "code",
      "execution_count": null,
      "id": "e213a426-0842-4b62-9473-b97b344b3d36",
      "metadata": {
        "id": "e213a426-0842-4b62-9473-b97b344b3d36"
      },
      "outputs": [],
      "source": [
        "import pandas as pd\n",
        "import numpy as np"
      ]
    },
    {
      "cell_type": "markdown",
      "id": "72d094d8-2953-4258-8f6f-c080595271de",
      "metadata": {
        "id": "72d094d8-2953-4258-8f6f-c080595271de"
      },
      "source": [
        "- pandas는 통상적으로 pd\n",
        "- numpy는 통상적으로 np"
      ]
    },
    {
      "cell_type": "markdown",
      "id": "a7812615-754c-447a-8943-45cc6672cfb6",
      "metadata": {
        "id": "a7812615-754c-447a-8943-45cc6672cfb6"
      },
      "source": [
        "# Series\n",
        "- index 와 Value 로 이뤄짐\n",
        "- 한 가지 데이터 형만 가질 수 있음"
      ]
    },
    {
      "cell_type": "code",
      "execution_count": null,
      "id": "a250f9d3-82c4-4761-a0b0-e28d3b56febb",
      "metadata": {
        "id": "a250f9d3-82c4-4761-a0b0-e28d3b56febb",
        "outputId": "2a0381e3-f96c-4774-f2aa-a3ad74f42386"
      },
      "outputs": [
        {
          "data": {
            "text/plain": [
              "0    1\n",
              "1    2\n",
              "2    3\n",
              "3    4\n",
              "dtype: int64"
            ]
          },
          "execution_count": 88,
          "metadata": {},
          "output_type": "execute_result"
        }
      ],
      "source": [
        "pd.Series([1,2,3,4])"
      ]
    },
    {
      "cell_type": "code",
      "execution_count": null,
      "id": "6a2bf8d6-661d-4bfb-8e0e-8947173e1b1c",
      "metadata": {
        "id": "6a2bf8d6-661d-4bfb-8e0e-8947173e1b1c",
        "outputId": "ef911990-b3c7-456f-ee3c-465efdcc08f2"
      },
      "outputs": [
        {
          "data": {
            "text/plain": [
              "0    1.0\n",
              "1    2.0\n",
              "2    3.0\n",
              "3    4.0\n",
              "dtype: float64"
            ]
          },
          "execution_count": 89,
          "metadata": {},
          "output_type": "execute_result"
        }
      ],
      "source": [
        "pd.Series([1,2,3,4] , dtype=np.float64)"
      ]
    },
    {
      "cell_type": "code",
      "execution_count": null,
      "id": "8ce16cf1-58e2-492d-af9f-daa56aa76f30",
      "metadata": {
        "id": "8ce16cf1-58e2-492d-af9f-daa56aa76f30",
        "outputId": "ef68a560-b834-41cb-9bb2-747d9783ad34"
      },
      "outputs": [
        {
          "data": {
            "text/plain": [
              "0    1\n",
              "1    2\n",
              "2    3\n",
              "3    4\n",
              "dtype: object"
            ]
          },
          "execution_count": 90,
          "metadata": {},
          "output_type": "execute_result"
        }
      ],
      "source": [
        "### object : String과 같음\n",
        "pd.Series([1,2,3,4] , dtype=str)"
      ]
    },
    {
      "cell_type": "code",
      "execution_count": null,
      "id": "01460592-fdb5-4cc7-80a8-d86db042aaeb",
      "metadata": {
        "id": "01460592-fdb5-4cc7-80a8-d86db042aaeb",
        "outputId": "17b48c0b-19be-4b85-ef70-18e8cc49216b"
      },
      "outputs": [
        {
          "data": {
            "text/plain": [
              "0    1\n",
              "1    2\n",
              "2    3\n",
              "3    4\n",
              "dtype: int32"
            ]
          },
          "execution_count": 91,
          "metadata": {},
          "output_type": "execute_result"
        }
      ],
      "source": [
        "### numpy로 선언\n",
        "pd.Series(np.array([1,2,3,4]))"
      ]
    },
    {
      "cell_type": "code",
      "execution_count": null,
      "id": "35b87b69-b371-4ad7-a6e3-c9ead3db55cc",
      "metadata": {
        "id": "35b87b69-b371-4ad7-a6e3-c9ead3db55cc",
        "outputId": "2bb4db0d-a19f-4e77-b4c1-0e10406920ff"
      },
      "outputs": [
        {
          "data": {
            "text/plain": [
              "Key    Value\n",
              "dtype: object"
            ]
          },
          "execution_count": 92,
          "metadata": {},
          "output_type": "execute_result"
        }
      ],
      "source": [
        "### 딕셔너리 선언\n",
        "pd.Series({\"Key\":\"Value\"})"
      ]
    },
    {
      "cell_type": "code",
      "execution_count": null,
      "id": "9261888f-1c3b-41cf-885f-63aa075ab1b5",
      "metadata": {
        "id": "9261888f-1c3b-41cf-885f-63aa075ab1b5",
        "outputId": "2e546deb-488f-4f5d-e4ad-8ebdb4b3f86b"
      },
      "outputs": [
        {
          "data": {
            "text/plain": [
              "0    1\n",
              "1    2\n",
              "2    3\n",
              "3    4\n",
              "4    5\n",
              "dtype: object"
            ]
          },
          "execution_count": 93,
          "metadata": {},
          "output_type": "execute_result"
        }
      ],
      "source": [
        "### 숫자와 문자열을 동시에 선언가능 - 결과값 : object\n",
        "data=pd.Series([1,2,3,4,\"5\"])\n",
        "data"
      ]
    },
    {
      "cell_type": "code",
      "execution_count": null,
      "id": "fd265205-280a-437e-827c-19cdfbb921c1",
      "metadata": {
        "id": "fd265205-280a-437e-827c-19cdfbb921c1",
        "outputId": "4e9bc94f-39a4-44c1-dcb9-69a8d6076023"
      },
      "outputs": [
        {
          "data": {
            "text/plain": [
              "0    1\n",
              "1    0\n",
              "2    1\n",
              "3    0\n",
              "dtype: int64"
            ]
          },
          "execution_count": 94,
          "metadata": {},
          "output_type": "execute_result"
        }
      ],
      "source": [
        "### 짝수만 찾기\n",
        "data=pd.Series([1,2,3,4])\n",
        "data%2"
      ]
    },
    {
      "cell_type": "markdown",
      "id": "8e79dc7d-0769-4f15-94c3-39504c9243a1",
      "metadata": {
        "id": "8e79dc7d-0769-4f15-94c3-39504c9243a1"
      },
      "source": [
        "### 날짜데이터\n",
        "- 날짜 : 문자열로 선언\n",
        "- periods : 언제까지 할건지"
      ]
    },
    {
      "cell_type": "code",
      "execution_count": null,
      "id": "cd5ae4a7-4a07-439a-83b8-1a4381a82707",
      "metadata": {
        "id": "cd5ae4a7-4a07-439a-83b8-1a4381a82707",
        "outputId": "7eb05db4-b19f-4558-bb2e-b5c7e2e670e8"
      },
      "outputs": [
        {
          "data": {
            "text/plain": [
              "DatetimeIndex(['2025-05-24', '2025-05-25', '2025-05-26', '2025-05-27',\n",
              "               '2025-05-28', '2025-05-29'],\n",
              "              dtype='datetime64[ns]', freq='D')"
            ]
          },
          "execution_count": 95,
          "metadata": {},
          "output_type": "execute_result"
        }
      ],
      "source": [
        "pd.date_range(\"20250524\",periods=6)"
      ]
    },
    {
      "cell_type": "markdown",
      "id": "2624b09b",
      "metadata": {
        "id": "2624b09b"
      },
      "source": [
        "---"
      ]
    },
    {
      "cell_type": "markdown",
      "id": "465f94e0",
      "metadata": {
        "id": "465f94e0"
      },
      "source": [
        "## DataFrame\n",
        "- pd.DataFrame()\n",
        "- index, value, column으로 이뤄짐"
      ]
    },
    {
      "cell_type": "code",
      "execution_count": null,
      "id": "7533fbfc",
      "metadata": {
        "id": "7533fbfc"
      },
      "outputs": [],
      "source": [
        "### 표준 정규분포에서 샘플링한 난수 생성\n",
        "data=np.random.randn(6,4)\n",
        "dates=pd.date_range(\"20250524\",periods=6)\n",
        "\n",
        "df=pd.DataFrame(data,index=dates,columns=[\"A\",\"B\",\"C\",\"D\"])"
      ]
    },
    {
      "cell_type": "markdown",
      "id": "b0605c13",
      "metadata": {
        "id": "b0605c13"
      },
      "source": [
        "### 데이터 프레임 정보 탐색"
      ]
    },
    {
      "cell_type": "markdown",
      "id": "0d7c2567",
      "metadata": {
        "id": "0d7c2567"
      },
      "source": [
        "#### df.head()\n",
        "-  위쪽 데이터 출력"
      ]
    },
    {
      "cell_type": "code",
      "execution_count": null,
      "id": "f5821df3",
      "metadata": {
        "id": "f5821df3",
        "outputId": "b4a6f808-3cf5-4741-df7b-a3f3e40b7930"
      },
      "outputs": [
        {
          "data": {
            "text/html": [
              "<div>\n",
              "<style scoped>\n",
              "    .dataframe tbody tr th:only-of-type {\n",
              "        vertical-align: middle;\n",
              "    }\n",
              "\n",
              "    .dataframe tbody tr th {\n",
              "        vertical-align: top;\n",
              "    }\n",
              "\n",
              "    .dataframe thead th {\n",
              "        text-align: right;\n",
              "    }\n",
              "</style>\n",
              "<table border=\"1\" class=\"dataframe\">\n",
              "  <thead>\n",
              "    <tr style=\"text-align: right;\">\n",
              "      <th></th>\n",
              "      <th>A</th>\n",
              "      <th>B</th>\n",
              "      <th>C</th>\n",
              "      <th>D</th>\n",
              "    </tr>\n",
              "  </thead>\n",
              "  <tbody>\n",
              "    <tr>\n",
              "      <th>2025-05-24</th>\n",
              "      <td>0.824590</td>\n",
              "      <td>0.363020</td>\n",
              "      <td>-0.809635</td>\n",
              "      <td>1.190599</td>\n",
              "    </tr>\n",
              "    <tr>\n",
              "      <th>2025-05-25</th>\n",
              "      <td>0.796722</td>\n",
              "      <td>1.721080</td>\n",
              "      <td>0.827024</td>\n",
              "      <td>-0.046186</td>\n",
              "    </tr>\n",
              "    <tr>\n",
              "      <th>2025-05-26</th>\n",
              "      <td>-0.944355</td>\n",
              "      <td>-0.330741</td>\n",
              "      <td>-0.805012</td>\n",
              "      <td>1.037218</td>\n",
              "    </tr>\n",
              "    <tr>\n",
              "      <th>2025-05-27</th>\n",
              "      <td>-0.387060</td>\n",
              "      <td>1.124200</td>\n",
              "      <td>1.361343</td>\n",
              "      <td>-0.215363</td>\n",
              "    </tr>\n",
              "    <tr>\n",
              "      <th>2025-05-28</th>\n",
              "      <td>1.886598</td>\n",
              "      <td>0.839877</td>\n",
              "      <td>-1.696978</td>\n",
              "      <td>-0.151933</td>\n",
              "    </tr>\n",
              "  </tbody>\n",
              "</table>\n",
              "</div>"
            ],
            "text/plain": [
              "                   A         B         C         D\n",
              "2025-05-24  0.824590  0.363020 -0.809635  1.190599\n",
              "2025-05-25  0.796722  1.721080  0.827024 -0.046186\n",
              "2025-05-26 -0.944355 -0.330741 -0.805012  1.037218\n",
              "2025-05-27 -0.387060  1.124200  1.361343 -0.215363\n",
              "2025-05-28  1.886598  0.839877 -1.696978 -0.151933"
            ]
          },
          "execution_count": 97,
          "metadata": {},
          "output_type": "execute_result"
        }
      ],
      "source": [
        "df.head()"
      ]
    },
    {
      "cell_type": "markdown",
      "id": "17c519a0",
      "metadata": {
        "id": "17c519a0"
      },
      "source": [
        "#### df.tail()\n",
        "-  아래쪽 데이터 출력"
      ]
    },
    {
      "cell_type": "code",
      "execution_count": null,
      "id": "7e681f50",
      "metadata": {
        "id": "7e681f50",
        "outputId": "9feb1503-d438-4523-a302-d47598429641"
      },
      "outputs": [
        {
          "data": {
            "text/html": [
              "<div>\n",
              "<style scoped>\n",
              "    .dataframe tbody tr th:only-of-type {\n",
              "        vertical-align: middle;\n",
              "    }\n",
              "\n",
              "    .dataframe tbody tr th {\n",
              "        vertical-align: top;\n",
              "    }\n",
              "\n",
              "    .dataframe thead th {\n",
              "        text-align: right;\n",
              "    }\n",
              "</style>\n",
              "<table border=\"1\" class=\"dataframe\">\n",
              "  <thead>\n",
              "    <tr style=\"text-align: right;\">\n",
              "      <th></th>\n",
              "      <th>A</th>\n",
              "      <th>B</th>\n",
              "      <th>C</th>\n",
              "      <th>D</th>\n",
              "    </tr>\n",
              "  </thead>\n",
              "  <tbody>\n",
              "    <tr>\n",
              "      <th>2025-05-25</th>\n",
              "      <td>0.796722</td>\n",
              "      <td>1.721080</td>\n",
              "      <td>0.827024</td>\n",
              "      <td>-0.046186</td>\n",
              "    </tr>\n",
              "    <tr>\n",
              "      <th>2025-05-26</th>\n",
              "      <td>-0.944355</td>\n",
              "      <td>-0.330741</td>\n",
              "      <td>-0.805012</td>\n",
              "      <td>1.037218</td>\n",
              "    </tr>\n",
              "    <tr>\n",
              "      <th>2025-05-27</th>\n",
              "      <td>-0.387060</td>\n",
              "      <td>1.124200</td>\n",
              "      <td>1.361343</td>\n",
              "      <td>-0.215363</td>\n",
              "    </tr>\n",
              "    <tr>\n",
              "      <th>2025-05-28</th>\n",
              "      <td>1.886598</td>\n",
              "      <td>0.839877</td>\n",
              "      <td>-1.696978</td>\n",
              "      <td>-0.151933</td>\n",
              "    </tr>\n",
              "    <tr>\n",
              "      <th>2025-05-29</th>\n",
              "      <td>-1.421968</td>\n",
              "      <td>0.517793</td>\n",
              "      <td>-0.441175</td>\n",
              "      <td>-2.167944</td>\n",
              "    </tr>\n",
              "  </tbody>\n",
              "</table>\n",
              "</div>"
            ],
            "text/plain": [
              "                   A         B         C         D\n",
              "2025-05-25  0.796722  1.721080  0.827024 -0.046186\n",
              "2025-05-26 -0.944355 -0.330741 -0.805012  1.037218\n",
              "2025-05-27 -0.387060  1.124200  1.361343 -0.215363\n",
              "2025-05-28  1.886598  0.839877 -1.696978 -0.151933\n",
              "2025-05-29 -1.421968  0.517793 -0.441175 -2.167944"
            ]
          },
          "execution_count": 98,
          "metadata": {},
          "output_type": "execute_result"
        }
      ],
      "source": [
        "df.tail()"
      ]
    },
    {
      "cell_type": "markdown",
      "id": "b9d69ca0",
      "metadata": {
        "id": "b9d69ca0"
      },
      "source": [
        "### df.index\n",
        "- 인덱스 출력"
      ]
    },
    {
      "cell_type": "code",
      "execution_count": null,
      "id": "8aeee164",
      "metadata": {
        "id": "8aeee164",
        "outputId": "4ffcb7d3-91cb-4f96-a43f-94a6c536e498"
      },
      "outputs": [
        {
          "data": {
            "text/plain": [
              "DatetimeIndex(['2025-05-24', '2025-05-25', '2025-05-26', '2025-05-27',\n",
              "               '2025-05-28', '2025-05-29'],\n",
              "              dtype='datetime64[ns]', freq='D')"
            ]
          },
          "execution_count": 99,
          "metadata": {},
          "output_type": "execute_result"
        }
      ],
      "source": [
        "df.index"
      ]
    },
    {
      "cell_type": "markdown",
      "id": "cd69386e",
      "metadata": {
        "id": "cd69386e"
      },
      "source": [
        "### df.columns\n",
        "- 컬럼 출력"
      ]
    },
    {
      "cell_type": "code",
      "execution_count": null,
      "id": "1de04e37",
      "metadata": {
        "id": "1de04e37",
        "outputId": "a67b7a28-ed47-44b0-994e-25a2af7950ca"
      },
      "outputs": [
        {
          "data": {
            "text/plain": [
              "Index(['A', 'B', 'C', 'D'], dtype='object')"
            ]
          },
          "execution_count": 100,
          "metadata": {},
          "output_type": "execute_result"
        }
      ],
      "source": [
        "df.columns"
      ]
    },
    {
      "cell_type": "markdown",
      "id": "0ce8a0e7",
      "metadata": {
        "id": "0ce8a0e7"
      },
      "source": [
        "### df.values\n",
        "- 값들 출력  "
      ]
    },
    {
      "cell_type": "code",
      "execution_count": null,
      "id": "4f2c1090",
      "metadata": {
        "id": "4f2c1090",
        "outputId": "a093cd75-38f3-4274-c954-1f9ceade75cd"
      },
      "outputs": [
        {
          "data": {
            "text/plain": [
              "array([[ 0.82459007,  0.3630201 , -0.80963501,  1.19059885],\n",
              "       [ 0.7967222 ,  1.72108   ,  0.82702437, -0.04618567],\n",
              "       [-0.9443549 , -0.33074099, -0.80501164,  1.0372177 ],\n",
              "       [-0.38706003,  1.12419977,  1.36134273, -0.21536342],\n",
              "       [ 1.88659817,  0.83987653, -1.69697765, -0.1519334 ],\n",
              "       [-1.42196754,  0.51779346, -0.44117548, -2.16794414]])"
            ]
          },
          "execution_count": 101,
          "metadata": {},
          "output_type": "execute_result"
        }
      ],
      "source": [
        "df.values"
      ]
    },
    {
      "cell_type": "markdown",
      "id": "62aa22ee",
      "metadata": {
        "id": "62aa22ee"
      },
      "source": [
        "### df.info()\n",
        "- 데이터 프레임의 기본 정보 확인"
      ]
    },
    {
      "cell_type": "code",
      "execution_count": null,
      "id": "41d25ced",
      "metadata": {
        "id": "41d25ced",
        "outputId": "b7637cd9-4b5e-4420-8553-a79bb28bf6dd"
      },
      "outputs": [
        {
          "name": "stdout",
          "output_type": "stream",
          "text": [
            "<class 'pandas.core.frame.DataFrame'>\n",
            "DatetimeIndex: 6 entries, 2025-05-24 to 2025-05-29\n",
            "Freq: D\n",
            "Data columns (total 4 columns):\n",
            " #   Column  Non-Null Count  Dtype  \n",
            "---  ------  --------------  -----  \n",
            " 0   A       6 non-null      float64\n",
            " 1   B       6 non-null      float64\n",
            " 2   C       6 non-null      float64\n",
            " 3   D       6 non-null      float64\n",
            "dtypes: float64(4)\n",
            "memory usage: 240.0 bytes\n"
          ]
        }
      ],
      "source": [
        "df.info()"
      ]
    },
    {
      "cell_type": "markdown",
      "id": "b360a72d",
      "metadata": {
        "id": "b360a72d"
      },
      "source": [
        "### df.describe()\n",
        "- 데이터 프레임의 기술 통계 정보를 확인 가능"
      ]
    },
    {
      "cell_type": "code",
      "execution_count": null,
      "id": "553e6309",
      "metadata": {
        "id": "553e6309",
        "outputId": "cd02bd07-78c0-41ca-8ad2-4b347d72405c"
      },
      "outputs": [
        {
          "data": {
            "text/html": [
              "<div>\n",
              "<style scoped>\n",
              "    .dataframe tbody tr th:only-of-type {\n",
              "        vertical-align: middle;\n",
              "    }\n",
              "\n",
              "    .dataframe tbody tr th {\n",
              "        vertical-align: top;\n",
              "    }\n",
              "\n",
              "    .dataframe thead th {\n",
              "        text-align: right;\n",
              "    }\n",
              "</style>\n",
              "<table border=\"1\" class=\"dataframe\">\n",
              "  <thead>\n",
              "    <tr style=\"text-align: right;\">\n",
              "      <th></th>\n",
              "      <th>A</th>\n",
              "      <th>B</th>\n",
              "      <th>C</th>\n",
              "      <th>D</th>\n",
              "    </tr>\n",
              "  </thead>\n",
              "  <tbody>\n",
              "    <tr>\n",
              "      <th>count</th>\n",
              "      <td>6.000000</td>\n",
              "      <td>6.000000</td>\n",
              "      <td>6.000000</td>\n",
              "      <td>6.000000</td>\n",
              "    </tr>\n",
              "    <tr>\n",
              "      <th>mean</th>\n",
              "      <td>0.125755</td>\n",
              "      <td>0.705871</td>\n",
              "      <td>-0.260739</td>\n",
              "      <td>-0.058935</td>\n",
              "    </tr>\n",
              "    <tr>\n",
              "      <th>std</th>\n",
              "      <td>1.252413</td>\n",
              "      <td>0.700156</td>\n",
              "      <td>1.140810</td>\n",
              "      <td>1.203668</td>\n",
              "    </tr>\n",
              "    <tr>\n",
              "      <th>min</th>\n",
              "      <td>-1.421968</td>\n",
              "      <td>-0.330741</td>\n",
              "      <td>-1.696978</td>\n",
              "      <td>-2.167944</td>\n",
              "    </tr>\n",
              "    <tr>\n",
              "      <th>25%</th>\n",
              "      <td>-0.805031</td>\n",
              "      <td>0.401713</td>\n",
              "      <td>-0.808479</td>\n",
              "      <td>-0.199506</td>\n",
              "    </tr>\n",
              "    <tr>\n",
              "      <th>50%</th>\n",
              "      <td>0.204831</td>\n",
              "      <td>0.678835</td>\n",
              "      <td>-0.623094</td>\n",
              "      <td>-0.099060</td>\n",
              "    </tr>\n",
              "    <tr>\n",
              "      <th>75%</th>\n",
              "      <td>0.817623</td>\n",
              "      <td>1.053119</td>\n",
              "      <td>0.509974</td>\n",
              "      <td>0.766367</td>\n",
              "    </tr>\n",
              "    <tr>\n",
              "      <th>max</th>\n",
              "      <td>1.886598</td>\n",
              "      <td>1.721080</td>\n",
              "      <td>1.361343</td>\n",
              "      <td>1.190599</td>\n",
              "    </tr>\n",
              "  </tbody>\n",
              "</table>\n",
              "</div>"
            ],
            "text/plain": [
              "              A         B         C         D\n",
              "count  6.000000  6.000000  6.000000  6.000000\n",
              "mean   0.125755  0.705871 -0.260739 -0.058935\n",
              "std    1.252413  0.700156  1.140810  1.203668\n",
              "min   -1.421968 -0.330741 -1.696978 -2.167944\n",
              "25%   -0.805031  0.401713 -0.808479 -0.199506\n",
              "50%    0.204831  0.678835 -0.623094 -0.099060\n",
              "75%    0.817623  1.053119  0.509974  0.766367\n",
              "max    1.886598  1.721080  1.361343  1.190599"
            ]
          },
          "execution_count": 103,
          "metadata": {},
          "output_type": "execute_result"
        }
      ],
      "source": [
        "df.describe()"
      ]
    },
    {
      "cell_type": "markdown",
      "id": "d74e6b3a",
      "metadata": {
        "id": "d74e6b3a"
      },
      "source": [
        "### df.sort_values()\n",
        "- 데이터 정렬\n",
        "- 특정 컬럼을 기준으로 데이터를 정렬함"
      ]
    },
    {
      "cell_type": "code",
      "execution_count": null,
      "id": "073e673a",
      "metadata": {
        "id": "073e673a",
        "outputId": "8b810ed0-bac6-4045-d568-24d84fd5be65"
      },
      "outputs": [
        {
          "data": {
            "text/html": [
              "<div>\n",
              "<style scoped>\n",
              "    .dataframe tbody tr th:only-of-type {\n",
              "        vertical-align: middle;\n",
              "    }\n",
              "\n",
              "    .dataframe tbody tr th {\n",
              "        vertical-align: top;\n",
              "    }\n",
              "\n",
              "    .dataframe thead th {\n",
              "        text-align: right;\n",
              "    }\n",
              "</style>\n",
              "<table border=\"1\" class=\"dataframe\">\n",
              "  <thead>\n",
              "    <tr style=\"text-align: right;\">\n",
              "      <th></th>\n",
              "      <th>A</th>\n",
              "      <th>B</th>\n",
              "      <th>C</th>\n",
              "      <th>D</th>\n",
              "    </tr>\n",
              "  </thead>\n",
              "  <tbody>\n",
              "    <tr>\n",
              "      <th>2025-05-24</th>\n",
              "      <td>0.824590</td>\n",
              "      <td>0.363020</td>\n",
              "      <td>-0.809635</td>\n",
              "      <td>1.190599</td>\n",
              "    </tr>\n",
              "    <tr>\n",
              "      <th>2025-05-25</th>\n",
              "      <td>0.796722</td>\n",
              "      <td>1.721080</td>\n",
              "      <td>0.827024</td>\n",
              "      <td>-0.046186</td>\n",
              "    </tr>\n",
              "    <tr>\n",
              "      <th>2025-05-26</th>\n",
              "      <td>-0.944355</td>\n",
              "      <td>-0.330741</td>\n",
              "      <td>-0.805012</td>\n",
              "      <td>1.037218</td>\n",
              "    </tr>\n",
              "    <tr>\n",
              "      <th>2025-05-27</th>\n",
              "      <td>-0.387060</td>\n",
              "      <td>1.124200</td>\n",
              "      <td>1.361343</td>\n",
              "      <td>-0.215363</td>\n",
              "    </tr>\n",
              "    <tr>\n",
              "      <th>2025-05-28</th>\n",
              "      <td>1.886598</td>\n",
              "      <td>0.839877</td>\n",
              "      <td>-1.696978</td>\n",
              "      <td>-0.151933</td>\n",
              "    </tr>\n",
              "    <tr>\n",
              "      <th>2025-05-29</th>\n",
              "      <td>-1.421968</td>\n",
              "      <td>0.517793</td>\n",
              "      <td>-0.441175</td>\n",
              "      <td>-2.167944</td>\n",
              "    </tr>\n",
              "  </tbody>\n",
              "</table>\n",
              "</div>"
            ],
            "text/plain": [
              "                   A         B         C         D\n",
              "2025-05-24  0.824590  0.363020 -0.809635  1.190599\n",
              "2025-05-25  0.796722  1.721080  0.827024 -0.046186\n",
              "2025-05-26 -0.944355 -0.330741 -0.805012  1.037218\n",
              "2025-05-27 -0.387060  1.124200  1.361343 -0.215363\n",
              "2025-05-28  1.886598  0.839877 -1.696978 -0.151933\n",
              "2025-05-29 -1.421968  0.517793 -0.441175 -2.167944"
            ]
          },
          "execution_count": 104,
          "metadata": {},
          "output_type": "execute_result"
        }
      ],
      "source": [
        "df"
      ]
    },
    {
      "cell_type": "code",
      "execution_count": null,
      "id": "a6ca1529",
      "metadata": {
        "id": "a6ca1529",
        "outputId": "e199d063-4bc5-49c0-c636-89b8045f4a9e"
      },
      "outputs": [
        {
          "data": {
            "text/html": [
              "<div>\n",
              "<style scoped>\n",
              "    .dataframe tbody tr th:only-of-type {\n",
              "        vertical-align: middle;\n",
              "    }\n",
              "\n",
              "    .dataframe tbody tr th {\n",
              "        vertical-align: top;\n",
              "    }\n",
              "\n",
              "    .dataframe thead th {\n",
              "        text-align: right;\n",
              "    }\n",
              "</style>\n",
              "<table border=\"1\" class=\"dataframe\">\n",
              "  <thead>\n",
              "    <tr style=\"text-align: right;\">\n",
              "      <th></th>\n",
              "      <th>A</th>\n",
              "      <th>B</th>\n",
              "      <th>C</th>\n",
              "      <th>D</th>\n",
              "    </tr>\n",
              "  </thead>\n",
              "  <tbody>\n",
              "    <tr>\n",
              "      <th>2025-05-26</th>\n",
              "      <td>-0.944355</td>\n",
              "      <td>-0.330741</td>\n",
              "      <td>-0.805012</td>\n",
              "      <td>1.037218</td>\n",
              "    </tr>\n",
              "    <tr>\n",
              "      <th>2025-05-24</th>\n",
              "      <td>0.824590</td>\n",
              "      <td>0.363020</td>\n",
              "      <td>-0.809635</td>\n",
              "      <td>1.190599</td>\n",
              "    </tr>\n",
              "    <tr>\n",
              "      <th>2025-05-29</th>\n",
              "      <td>-1.421968</td>\n",
              "      <td>0.517793</td>\n",
              "      <td>-0.441175</td>\n",
              "      <td>-2.167944</td>\n",
              "    </tr>\n",
              "    <tr>\n",
              "      <th>2025-05-28</th>\n",
              "      <td>1.886598</td>\n",
              "      <td>0.839877</td>\n",
              "      <td>-1.696978</td>\n",
              "      <td>-0.151933</td>\n",
              "    </tr>\n",
              "    <tr>\n",
              "      <th>2025-05-27</th>\n",
              "      <td>-0.387060</td>\n",
              "      <td>1.124200</td>\n",
              "      <td>1.361343</td>\n",
              "      <td>-0.215363</td>\n",
              "    </tr>\n",
              "    <tr>\n",
              "      <th>2025-05-25</th>\n",
              "      <td>0.796722</td>\n",
              "      <td>1.721080</td>\n",
              "      <td>0.827024</td>\n",
              "      <td>-0.046186</td>\n",
              "    </tr>\n",
              "  </tbody>\n",
              "</table>\n",
              "</div>"
            ],
            "text/plain": [
              "                   A         B         C         D\n",
              "2025-05-26 -0.944355 -0.330741 -0.805012  1.037218\n",
              "2025-05-24  0.824590  0.363020 -0.809635  1.190599\n",
              "2025-05-29 -1.421968  0.517793 -0.441175 -2.167944\n",
              "2025-05-28  1.886598  0.839877 -1.696978 -0.151933\n",
              "2025-05-27 -0.387060  1.124200  1.361343 -0.215363\n",
              "2025-05-25  0.796722  1.721080  0.827024 -0.046186"
            ]
          },
          "execution_count": 105,
          "metadata": {},
          "output_type": "execute_result"
        }
      ],
      "source": [
        "df.sort_values(by=\"B\")"
      ]
    },
    {
      "cell_type": "markdown",
      "id": "c4ad775a",
      "metadata": {
        "id": "c4ad775a"
      },
      "source": [
        "##### ascending=False\n",
        "- 내림차순  하는 옵션"
      ]
    },
    {
      "cell_type": "code",
      "execution_count": null,
      "id": "67e43110",
      "metadata": {
        "id": "67e43110",
        "outputId": "e69233f7-f7bb-4f38-a442-843ffbd68eda"
      },
      "outputs": [
        {
          "data": {
            "text/html": [
              "<div>\n",
              "<style scoped>\n",
              "    .dataframe tbody tr th:only-of-type {\n",
              "        vertical-align: middle;\n",
              "    }\n",
              "\n",
              "    .dataframe tbody tr th {\n",
              "        vertical-align: top;\n",
              "    }\n",
              "\n",
              "    .dataframe thead th {\n",
              "        text-align: right;\n",
              "    }\n",
              "</style>\n",
              "<table border=\"1\" class=\"dataframe\">\n",
              "  <thead>\n",
              "    <tr style=\"text-align: right;\">\n",
              "      <th></th>\n",
              "      <th>A</th>\n",
              "      <th>B</th>\n",
              "      <th>C</th>\n",
              "      <th>D</th>\n",
              "    </tr>\n",
              "  </thead>\n",
              "  <tbody>\n",
              "    <tr>\n",
              "      <th>2025-05-25</th>\n",
              "      <td>0.796722</td>\n",
              "      <td>1.721080</td>\n",
              "      <td>0.827024</td>\n",
              "      <td>-0.046186</td>\n",
              "    </tr>\n",
              "    <tr>\n",
              "      <th>2025-05-27</th>\n",
              "      <td>-0.387060</td>\n",
              "      <td>1.124200</td>\n",
              "      <td>1.361343</td>\n",
              "      <td>-0.215363</td>\n",
              "    </tr>\n",
              "    <tr>\n",
              "      <th>2025-05-28</th>\n",
              "      <td>1.886598</td>\n",
              "      <td>0.839877</td>\n",
              "      <td>-1.696978</td>\n",
              "      <td>-0.151933</td>\n",
              "    </tr>\n",
              "    <tr>\n",
              "      <th>2025-05-29</th>\n",
              "      <td>-1.421968</td>\n",
              "      <td>0.517793</td>\n",
              "      <td>-0.441175</td>\n",
              "      <td>-2.167944</td>\n",
              "    </tr>\n",
              "    <tr>\n",
              "      <th>2025-05-24</th>\n",
              "      <td>0.824590</td>\n",
              "      <td>0.363020</td>\n",
              "      <td>-0.809635</td>\n",
              "      <td>1.190599</td>\n",
              "    </tr>\n",
              "    <tr>\n",
              "      <th>2025-05-26</th>\n",
              "      <td>-0.944355</td>\n",
              "      <td>-0.330741</td>\n",
              "      <td>-0.805012</td>\n",
              "      <td>1.037218</td>\n",
              "    </tr>\n",
              "  </tbody>\n",
              "</table>\n",
              "</div>"
            ],
            "text/plain": [
              "                   A         B         C         D\n",
              "2025-05-25  0.796722  1.721080  0.827024 -0.046186\n",
              "2025-05-27 -0.387060  1.124200  1.361343 -0.215363\n",
              "2025-05-28  1.886598  0.839877 -1.696978 -0.151933\n",
              "2025-05-29 -1.421968  0.517793 -0.441175 -2.167944\n",
              "2025-05-24  0.824590  0.363020 -0.809635  1.190599\n",
              "2025-05-26 -0.944355 -0.330741 -0.805012  1.037218"
            ]
          },
          "execution_count": 106,
          "metadata": {},
          "output_type": "execute_result"
        }
      ],
      "source": [
        "df.sort_values(by=\"B\",ascending=False)"
      ]
    },
    {
      "cell_type": "markdown",
      "id": "e83cd11d",
      "metadata": {
        "id": "e83cd11d"
      },
      "source": [
        "##### inplace=True\n",
        "  정렬 저장하기  "
      ]
    },
    {
      "cell_type": "code",
      "execution_count": null,
      "id": "3410c7cf",
      "metadata": {
        "id": "3410c7cf"
      },
      "outputs": [],
      "source": [
        "df.sort_values(by=\"B\",ascending=False,inplace=True)"
      ]
    },
    {
      "cell_type": "markdown",
      "id": "0560771f",
      "metadata": {
        "id": "0560771f"
      },
      "source": [
        "### 데이터 선택"
      ]
    },
    {
      "cell_type": "markdown",
      "id": "7ebffa0e",
      "metadata": {
        "id": "7ebffa0e"
      },
      "source": [
        "#### df[<컬럼명>]\n",
        "- 특정 컬럼 선택\n",
        "- 시리즈 타입을 리턴함"
      ]
    },
    {
      "cell_type": "code",
      "execution_count": null,
      "id": "260086f4",
      "metadata": {
        "id": "260086f4",
        "outputId": "6810e61a-1049-4bef-ec61-2de7c33e72aa"
      },
      "outputs": [
        {
          "data": {
            "text/plain": [
              "2025-05-25    0.796722\n",
              "2025-05-27   -0.387060\n",
              "2025-05-28    1.886598\n",
              "2025-05-29   -1.421968\n",
              "2025-05-24    0.824590\n",
              "2025-05-26   -0.944355\n",
              "Name: A, dtype: float64"
            ]
          },
          "execution_count": 108,
          "metadata": {},
          "output_type": "execute_result"
        }
      ],
      "source": [
        "df[\"A\"]"
      ]
    },
    {
      "cell_type": "markdown",
      "id": "a5050a9f",
      "metadata": {
        "id": "a5050a9f"
      },
      "source": [
        "- 컬럼명이 알파벳인 경우 대괄화 없이 가능"
      ]
    },
    {
      "cell_type": "code",
      "execution_count": null,
      "id": "c4d654f1",
      "metadata": {
        "id": "c4d654f1",
        "outputId": "59d53afa-26c4-43ab-b924-df4029843660"
      },
      "outputs": [
        {
          "data": {
            "text/plain": [
              "2025-05-25    0.796722\n",
              "2025-05-27   -0.387060\n",
              "2025-05-28    1.886598\n",
              "2025-05-29   -1.421968\n",
              "2025-05-24    0.824590\n",
              "2025-05-26   -0.944355\n",
              "Name: A, dtype: float64"
            ]
          },
          "execution_count": 109,
          "metadata": {},
          "output_type": "execute_result"
        }
      ],
      "source": [
        "df.A"
      ]
    },
    {
      "cell_type": "markdown",
      "id": "848144a5",
      "metadata": {
        "id": "848144a5"
      },
      "source": [
        "#### df[<컬럼1>,<컬럼2>]\n",
        "  - 복수의 컬럼 선택"
      ]
    },
    {
      "cell_type": "code",
      "execution_count": null,
      "id": "3b0180f4",
      "metadata": {
        "id": "3b0180f4",
        "outputId": "d3ad4f49-7b7f-4f1f-fc84-b1ce5a20e58c"
      },
      "outputs": [
        {
          "data": {
            "text/html": [
              "<div>\n",
              "<style scoped>\n",
              "    .dataframe tbody tr th:only-of-type {\n",
              "        vertical-align: middle;\n",
              "    }\n",
              "\n",
              "    .dataframe tbody tr th {\n",
              "        vertical-align: top;\n",
              "    }\n",
              "\n",
              "    .dataframe thead th {\n",
              "        text-align: right;\n",
              "    }\n",
              "</style>\n",
              "<table border=\"1\" class=\"dataframe\">\n",
              "  <thead>\n",
              "    <tr style=\"text-align: right;\">\n",
              "      <th></th>\n",
              "      <th>A</th>\n",
              "      <th>B</th>\n",
              "    </tr>\n",
              "  </thead>\n",
              "  <tbody>\n",
              "    <tr>\n",
              "      <th>2025-05-25</th>\n",
              "      <td>0.796722</td>\n",
              "      <td>1.721080</td>\n",
              "    </tr>\n",
              "    <tr>\n",
              "      <th>2025-05-27</th>\n",
              "      <td>-0.387060</td>\n",
              "      <td>1.124200</td>\n",
              "    </tr>\n",
              "    <tr>\n",
              "      <th>2025-05-28</th>\n",
              "      <td>1.886598</td>\n",
              "      <td>0.839877</td>\n",
              "    </tr>\n",
              "    <tr>\n",
              "      <th>2025-05-29</th>\n",
              "      <td>-1.421968</td>\n",
              "      <td>0.517793</td>\n",
              "    </tr>\n",
              "    <tr>\n",
              "      <th>2025-05-24</th>\n",
              "      <td>0.824590</td>\n",
              "      <td>0.363020</td>\n",
              "    </tr>\n",
              "    <tr>\n",
              "      <th>2025-05-26</th>\n",
              "      <td>-0.944355</td>\n",
              "      <td>-0.330741</td>\n",
              "    </tr>\n",
              "  </tbody>\n",
              "</table>\n",
              "</div>"
            ],
            "text/plain": [
              "                   A         B\n",
              "2025-05-25  0.796722  1.721080\n",
              "2025-05-27 -0.387060  1.124200\n",
              "2025-05-28  1.886598  0.839877\n",
              "2025-05-29 -1.421968  0.517793\n",
              "2025-05-24  0.824590  0.363020\n",
              "2025-05-26 -0.944355 -0.330741"
            ]
          },
          "execution_count": 110,
          "metadata": {},
          "output_type": "execute_result"
        }
      ],
      "source": [
        "df[[\"A\",\"B\"]]"
      ]
    },
    {
      "cell_type": "markdown",
      "id": "a399ff82",
      "metadata": {
        "id": "a399ff82"
      },
      "source": [
        "#### df[n:m]\n",
        "- n부터 m-1까지 슬라이싱"
      ]
    },
    {
      "cell_type": "code",
      "execution_count": null,
      "id": "b2d324a5",
      "metadata": {
        "id": "b2d324a5",
        "outputId": "9ab70498-3d26-42cc-d03b-4183a04e8151"
      },
      "outputs": [
        {
          "data": {
            "text/html": [
              "<div>\n",
              "<style scoped>\n",
              "    .dataframe tbody tr th:only-of-type {\n",
              "        vertical-align: middle;\n",
              "    }\n",
              "\n",
              "    .dataframe tbody tr th {\n",
              "        vertical-align: top;\n",
              "    }\n",
              "\n",
              "    .dataframe thead th {\n",
              "        text-align: right;\n",
              "    }\n",
              "</style>\n",
              "<table border=\"1\" class=\"dataframe\">\n",
              "  <thead>\n",
              "    <tr style=\"text-align: right;\">\n",
              "      <th></th>\n",
              "      <th>A</th>\n",
              "      <th>B</th>\n",
              "      <th>C</th>\n",
              "      <th>D</th>\n",
              "    </tr>\n",
              "  </thead>\n",
              "  <tbody>\n",
              "    <tr>\n",
              "      <th>2025-05-25</th>\n",
              "      <td>0.796722</td>\n",
              "      <td>1.721080</td>\n",
              "      <td>0.827024</td>\n",
              "      <td>-0.046186</td>\n",
              "    </tr>\n",
              "    <tr>\n",
              "      <th>2025-05-27</th>\n",
              "      <td>-0.387060</td>\n",
              "      <td>1.124200</td>\n",
              "      <td>1.361343</td>\n",
              "      <td>-0.215363</td>\n",
              "    </tr>\n",
              "    <tr>\n",
              "      <th>2025-05-28</th>\n",
              "      <td>1.886598</td>\n",
              "      <td>0.839877</td>\n",
              "      <td>-1.696978</td>\n",
              "      <td>-0.151933</td>\n",
              "    </tr>\n",
              "  </tbody>\n",
              "</table>\n",
              "</div>"
            ],
            "text/plain": [
              "                   A         B         C         D\n",
              "2025-05-25  0.796722  1.721080  0.827024 -0.046186\n",
              "2025-05-27 -0.387060  1.124200  1.361343 -0.215363\n",
              "2025-05-28  1.886598  0.839877 -1.696978 -0.151933"
            ]
          },
          "execution_count": 111,
          "metadata": {},
          "output_type": "execute_result"
        }
      ],
      "source": [
        "df[0:3]"
      ]
    },
    {
      "cell_type": "markdown",
      "id": "1b4caef5",
      "metadata": {
        "id": "1b4caef5"
      },
      "source": [
        "#### df[<컬럼명1>:<컬럼명2>]\n",
        "- 컬럼명 1 부터 컬럼명 2까지 (포함)"
      ]
    },
    {
      "cell_type": "code",
      "execution_count": null,
      "id": "9b4b5a05",
      "metadata": {
        "id": "9b4b5a05",
        "outputId": "8be494d1-3470-474d-a0dc-36db3eb1a862"
      },
      "outputs": [
        {
          "data": {
            "text/html": [
              "<div>\n",
              "<style scoped>\n",
              "    .dataframe tbody tr th:only-of-type {\n",
              "        vertical-align: middle;\n",
              "    }\n",
              "\n",
              "    .dataframe tbody tr th {\n",
              "        vertical-align: top;\n",
              "    }\n",
              "\n",
              "    .dataframe thead th {\n",
              "        text-align: right;\n",
              "    }\n",
              "</style>\n",
              "<table border=\"1\" class=\"dataframe\">\n",
              "  <thead>\n",
              "    <tr style=\"text-align: right;\">\n",
              "      <th></th>\n",
              "      <th>A</th>\n",
              "      <th>B</th>\n",
              "      <th>C</th>\n",
              "      <th>D</th>\n",
              "    </tr>\n",
              "  </thead>\n",
              "  <tbody>\n",
              "    <tr>\n",
              "      <th>2025-05-25</th>\n",
              "      <td>0.796722</td>\n",
              "      <td>1.721080</td>\n",
              "      <td>0.827024</td>\n",
              "      <td>-0.046186</td>\n",
              "    </tr>\n",
              "    <tr>\n",
              "      <th>2025-05-27</th>\n",
              "      <td>-0.387060</td>\n",
              "      <td>1.124200</td>\n",
              "      <td>1.361343</td>\n",
              "      <td>-0.215363</td>\n",
              "    </tr>\n",
              "    <tr>\n",
              "      <th>2025-05-28</th>\n",
              "      <td>1.886598</td>\n",
              "      <td>0.839877</td>\n",
              "      <td>-1.696978</td>\n",
              "      <td>-0.151933</td>\n",
              "    </tr>\n",
              "    <tr>\n",
              "      <th>2025-05-26</th>\n",
              "      <td>-0.944355</td>\n",
              "      <td>-0.330741</td>\n",
              "      <td>-0.805012</td>\n",
              "      <td>1.037218</td>\n",
              "    </tr>\n",
              "  </tbody>\n",
              "</table>\n",
              "</div>"
            ],
            "text/plain": [
              "                   A         B         C         D\n",
              "2025-05-25  0.796722  1.721080  0.827024 -0.046186\n",
              "2025-05-27 -0.387060  1.124200  1.361343 -0.215363\n",
              "2025-05-28  1.886598  0.839877 -1.696978 -0.151933\n",
              "2025-05-26 -0.944355 -0.330741 -0.805012  1.037218"
            ]
          },
          "execution_count": 112,
          "metadata": {},
          "output_type": "execute_result"
        }
      ],
      "source": [
        "df[\"2025-05-25\":\"2025-05-28\"]"
      ]
    },
    {
      "cell_type": "markdown",
      "id": "0e644972",
      "metadata": {
        "id": "0e644972"
      },
      "source": [
        "#### loc\n",
        "- 인덱스 이름으로 특정 행과 열을 선택"
      ]
    },
    {
      "cell_type": "code",
      "execution_count": null,
      "id": "cc40d049",
      "metadata": {
        "id": "cc40d049",
        "outputId": "f5f1b358-f207-4bfa-eddb-ae6ab922d4d3"
      },
      "outputs": [
        {
          "data": {
            "text/html": [
              "<div>\n",
              "<style scoped>\n",
              "    .dataframe tbody tr th:only-of-type {\n",
              "        vertical-align: middle;\n",
              "    }\n",
              "\n",
              "    .dataframe tbody tr th {\n",
              "        vertical-align: top;\n",
              "    }\n",
              "\n",
              "    .dataframe thead th {\n",
              "        text-align: right;\n",
              "    }\n",
              "</style>\n",
              "<table border=\"1\" class=\"dataframe\">\n",
              "  <thead>\n",
              "    <tr style=\"text-align: right;\">\n",
              "      <th></th>\n",
              "      <th>A</th>\n",
              "      <th>B</th>\n",
              "    </tr>\n",
              "  </thead>\n",
              "  <tbody>\n",
              "    <tr>\n",
              "      <th>2025-05-25</th>\n",
              "      <td>0.796722</td>\n",
              "      <td>1.721080</td>\n",
              "    </tr>\n",
              "    <tr>\n",
              "      <th>2025-05-27</th>\n",
              "      <td>-0.387060</td>\n",
              "      <td>1.124200</td>\n",
              "    </tr>\n",
              "    <tr>\n",
              "      <th>2025-05-28</th>\n",
              "      <td>1.886598</td>\n",
              "      <td>0.839877</td>\n",
              "    </tr>\n",
              "    <tr>\n",
              "      <th>2025-05-29</th>\n",
              "      <td>-1.421968</td>\n",
              "      <td>0.517793</td>\n",
              "    </tr>\n",
              "    <tr>\n",
              "      <th>2025-05-24</th>\n",
              "      <td>0.824590</td>\n",
              "      <td>0.363020</td>\n",
              "    </tr>\n",
              "    <tr>\n",
              "      <th>2025-05-26</th>\n",
              "      <td>-0.944355</td>\n",
              "      <td>-0.330741</td>\n",
              "    </tr>\n",
              "  </tbody>\n",
              "</table>\n",
              "</div>"
            ],
            "text/plain": [
              "                   A         B\n",
              "2025-05-25  0.796722  1.721080\n",
              "2025-05-27 -0.387060  1.124200\n",
              "2025-05-28  1.886598  0.839877\n",
              "2025-05-29 -1.421968  0.517793\n",
              "2025-05-24  0.824590  0.363020\n",
              "2025-05-26 -0.944355 -0.330741"
            ]
          },
          "execution_count": 113,
          "metadata": {},
          "output_type": "execute_result"
        }
      ],
      "source": [
        "df.loc[:,[\"A\",\"B\"]]"
      ]
    },
    {
      "cell_type": "code",
      "execution_count": null,
      "id": "ef77fc71",
      "metadata": {
        "id": "ef77fc71",
        "outputId": "b7eb4c08-f962-40dd-a3b3-fed7ea68b236"
      },
      "outputs": [
        {
          "data": {
            "text/html": [
              "<div>\n",
              "<style scoped>\n",
              "    .dataframe tbody tr th:only-of-type {\n",
              "        vertical-align: middle;\n",
              "    }\n",
              "\n",
              "    .dataframe tbody tr th {\n",
              "        vertical-align: top;\n",
              "    }\n",
              "\n",
              "    .dataframe thead th {\n",
              "        text-align: right;\n",
              "    }\n",
              "</style>\n",
              "<table border=\"1\" class=\"dataframe\">\n",
              "  <thead>\n",
              "    <tr style=\"text-align: right;\">\n",
              "      <th></th>\n",
              "      <th>A</th>\n",
              "      <th>B</th>\n",
              "    </tr>\n",
              "  </thead>\n",
              "  <tbody>\n",
              "    <tr>\n",
              "      <th>2025-05-25</th>\n",
              "      <td>0.796722</td>\n",
              "      <td>1.721080</td>\n",
              "    </tr>\n",
              "    <tr>\n",
              "      <th>2025-05-27</th>\n",
              "      <td>-0.387060</td>\n",
              "      <td>1.124200</td>\n",
              "    </tr>\n",
              "    <tr>\n",
              "      <th>2025-05-28</th>\n",
              "      <td>1.886598</td>\n",
              "      <td>0.839877</td>\n",
              "    </tr>\n",
              "    <tr>\n",
              "      <th>2025-05-26</th>\n",
              "      <td>-0.944355</td>\n",
              "      <td>-0.330741</td>\n",
              "    </tr>\n",
              "  </tbody>\n",
              "</table>\n",
              "</div>"
            ],
            "text/plain": [
              "                   A         B\n",
              "2025-05-25  0.796722  1.721080\n",
              "2025-05-27 -0.387060  1.124200\n",
              "2025-05-28  1.886598  0.839877\n",
              "2025-05-26 -0.944355 -0.330741"
            ]
          },
          "execution_count": 114,
          "metadata": {},
          "output_type": "execute_result"
        }
      ],
      "source": [
        "df.loc[\"2025-05-25\":\"2025-05-28\",[\"A\",\"B\"]]"
      ]
    },
    {
      "cell_type": "code",
      "execution_count": null,
      "id": "08ca1f0a",
      "metadata": {
        "id": "08ca1f0a",
        "outputId": "4d57445f-6903-4ad7-ce43-4096e35b7a44"
      },
      "outputs": [
        {
          "data": {
            "text/html": [
              "<div>\n",
              "<style scoped>\n",
              "    .dataframe tbody tr th:only-of-type {\n",
              "        vertical-align: middle;\n",
              "    }\n",
              "\n",
              "    .dataframe tbody tr th {\n",
              "        vertical-align: top;\n",
              "    }\n",
              "\n",
              "    .dataframe thead th {\n",
              "        text-align: right;\n",
              "    }\n",
              "</style>\n",
              "<table border=\"1\" class=\"dataframe\">\n",
              "  <thead>\n",
              "    <tr style=\"text-align: right;\">\n",
              "      <th></th>\n",
              "      <th>A</th>\n",
              "      <th>B</th>\n",
              "      <th>C</th>\n",
              "      <th>D</th>\n",
              "    </tr>\n",
              "  </thead>\n",
              "  <tbody>\n",
              "    <tr>\n",
              "      <th>2025-05-25</th>\n",
              "      <td>0.796722</td>\n",
              "      <td>1.721080</td>\n",
              "      <td>0.827024</td>\n",
              "      <td>-0.046186</td>\n",
              "    </tr>\n",
              "    <tr>\n",
              "      <th>2025-05-27</th>\n",
              "      <td>-0.387060</td>\n",
              "      <td>1.124200</td>\n",
              "      <td>1.361343</td>\n",
              "      <td>-0.215363</td>\n",
              "    </tr>\n",
              "    <tr>\n",
              "      <th>2025-05-28</th>\n",
              "      <td>1.886598</td>\n",
              "      <td>0.839877</td>\n",
              "      <td>-1.696978</td>\n",
              "      <td>-0.151933</td>\n",
              "    </tr>\n",
              "    <tr>\n",
              "      <th>2025-05-26</th>\n",
              "      <td>-0.944355</td>\n",
              "      <td>-0.330741</td>\n",
              "      <td>-0.805012</td>\n",
              "      <td>1.037218</td>\n",
              "    </tr>\n",
              "  </tbody>\n",
              "</table>\n",
              "</div>"
            ],
            "text/plain": [
              "                   A         B         C         D\n",
              "2025-05-25  0.796722  1.721080  0.827024 -0.046186\n",
              "2025-05-27 -0.387060  1.124200  1.361343 -0.215363\n",
              "2025-05-28  1.886598  0.839877 -1.696978 -0.151933\n",
              "2025-05-26 -0.944355 -0.330741 -0.805012  1.037218"
            ]
          },
          "execution_count": 115,
          "metadata": {},
          "output_type": "execute_result"
        }
      ],
      "source": [
        "df.loc[\"2025-05-25\":\"2025-05-28\",\"A\":\"D\"]"
      ]
    },
    {
      "cell_type": "markdown",
      "id": "0239f03e",
      "metadata": {
        "id": "0239f03e"
      },
      "source": [
        "### iloc\n",
        "- 컴퓨터가 인식하는 인덱스 값으로 선택\n",
        "- 0,1,2,3,4 등으로  선택함"
      ]
    },
    {
      "cell_type": "code",
      "execution_count": null,
      "id": "aae75d8d",
      "metadata": {
        "id": "aae75d8d",
        "outputId": "25dba43a-55ad-4816-b18c-d15d582f44c8"
      },
      "outputs": [
        {
          "data": {
            "text/plain": [
              "A   -1.421968\n",
              "B    0.517793\n",
              "C   -0.441175\n",
              "D   -2.167944\n",
              "Name: 2025-05-29 00:00:00, dtype: float64"
            ]
          },
          "execution_count": 116,
          "metadata": {},
          "output_type": "execute_result"
        }
      ],
      "source": [
        "df.iloc[3]"
      ]
    },
    {
      "cell_type": "code",
      "execution_count": null,
      "id": "653506ce",
      "metadata": {
        "id": "653506ce",
        "outputId": "f2dff1de-75bd-4b84-fa08-31eebd3b4eb9"
      },
      "outputs": [
        {
          "data": {
            "text/plain": [
              "-0.44117548424710656"
            ]
          },
          "execution_count": 117,
          "metadata": {},
          "output_type": "execute_result"
        }
      ],
      "source": [
        "df.iloc[3,2]"
      ]
    },
    {
      "cell_type": "code",
      "execution_count": null,
      "id": "c78d8186",
      "metadata": {
        "id": "c78d8186",
        "outputId": "72f1ce01-9b05-4b66-c742-5d05335c74e4"
      },
      "outputs": [
        {
          "data": {
            "text/html": [
              "<div>\n",
              "<style scoped>\n",
              "    .dataframe tbody tr th:only-of-type {\n",
              "        vertical-align: middle;\n",
              "    }\n",
              "\n",
              "    .dataframe tbody tr th {\n",
              "        vertical-align: top;\n",
              "    }\n",
              "\n",
              "    .dataframe thead th {\n",
              "        text-align: right;\n",
              "    }\n",
              "</style>\n",
              "<table border=\"1\" class=\"dataframe\">\n",
              "  <thead>\n",
              "    <tr style=\"text-align: right;\">\n",
              "      <th></th>\n",
              "      <th>A</th>\n",
              "      <th>B</th>\n",
              "    </tr>\n",
              "  </thead>\n",
              "  <tbody>\n",
              "    <tr>\n",
              "      <th>2025-05-29</th>\n",
              "      <td>-1.421968</td>\n",
              "      <td>0.517793</td>\n",
              "    </tr>\n",
              "    <tr>\n",
              "      <th>2025-05-24</th>\n",
              "      <td>0.824590</td>\n",
              "      <td>0.363020</td>\n",
              "    </tr>\n",
              "  </tbody>\n",
              "</table>\n",
              "</div>"
            ],
            "text/plain": [
              "                   A         B\n",
              "2025-05-29 -1.421968  0.517793\n",
              "2025-05-24  0.824590  0.363020"
            ]
          },
          "execution_count": 118,
          "metadata": {},
          "output_type": "execute_result"
        }
      ],
      "source": [
        "df.iloc[3:5,0:2]"
      ]
    },
    {
      "cell_type": "markdown",
      "id": "c4145ecd",
      "metadata": {
        "id": "c4145ecd"
      },
      "source": [
        "##### 특정 컬럼만 선택하기"
      ]
    },
    {
      "cell_type": "code",
      "execution_count": null,
      "id": "f9118326",
      "metadata": {
        "id": "f9118326",
        "outputId": "6c73320e-9a07-4873-9ea7-f59506de10ab"
      },
      "outputs": [
        {
          "data": {
            "text/html": [
              "<div>\n",
              "<style scoped>\n",
              "    .dataframe tbody tr th:only-of-type {\n",
              "        vertical-align: middle;\n",
              "    }\n",
              "\n",
              "    .dataframe tbody tr th {\n",
              "        vertical-align: top;\n",
              "    }\n",
              "\n",
              "    .dataframe thead th {\n",
              "        text-align: right;\n",
              "    }\n",
              "</style>\n",
              "<table border=\"1\" class=\"dataframe\">\n",
              "  <thead>\n",
              "    <tr style=\"text-align: right;\">\n",
              "      <th></th>\n",
              "      <th>A</th>\n",
              "      <th>C</th>\n",
              "    </tr>\n",
              "  </thead>\n",
              "  <tbody>\n",
              "    <tr>\n",
              "      <th>2025-05-27</th>\n",
              "      <td>-0.387060</td>\n",
              "      <td>1.361343</td>\n",
              "    </tr>\n",
              "    <tr>\n",
              "      <th>2025-05-28</th>\n",
              "      <td>1.886598</td>\n",
              "      <td>-1.696978</td>\n",
              "    </tr>\n",
              "    <tr>\n",
              "      <th>2025-05-24</th>\n",
              "      <td>0.824590</td>\n",
              "      <td>-0.809635</td>\n",
              "    </tr>\n",
              "  </tbody>\n",
              "</table>\n",
              "</div>"
            ],
            "text/plain": [
              "                   A         C\n",
              "2025-05-27 -0.387060  1.361343\n",
              "2025-05-28  1.886598 -1.696978\n",
              "2025-05-24  0.824590 -0.809635"
            ]
          },
          "execution_count": 119,
          "metadata": {},
          "output_type": "execute_result"
        }
      ],
      "source": [
        "df.iloc[[1,2,4],[0.,2]]"
      ]
    },
    {
      "cell_type": "code",
      "execution_count": null,
      "id": "1bface04",
      "metadata": {
        "id": "1bface04",
        "outputId": "ec105581-eb7b-480d-8f21-f7797c03b93e"
      },
      "outputs": [
        {
          "data": {
            "text/html": [
              "<div>\n",
              "<style scoped>\n",
              "    .dataframe tbody tr th:only-of-type {\n",
              "        vertical-align: middle;\n",
              "    }\n",
              "\n",
              "    .dataframe tbody tr th {\n",
              "        vertical-align: top;\n",
              "    }\n",
              "\n",
              "    .dataframe thead th {\n",
              "        text-align: right;\n",
              "    }\n",
              "</style>\n",
              "<table border=\"1\" class=\"dataframe\">\n",
              "  <thead>\n",
              "    <tr style=\"text-align: right;\">\n",
              "      <th></th>\n",
              "      <th>B</th>\n",
              "      <th>C</th>\n",
              "    </tr>\n",
              "  </thead>\n",
              "  <tbody>\n",
              "    <tr>\n",
              "      <th>2025-05-25</th>\n",
              "      <td>1.721080</td>\n",
              "      <td>0.827024</td>\n",
              "    </tr>\n",
              "    <tr>\n",
              "      <th>2025-05-27</th>\n",
              "      <td>1.124200</td>\n",
              "      <td>1.361343</td>\n",
              "    </tr>\n",
              "    <tr>\n",
              "      <th>2025-05-28</th>\n",
              "      <td>0.839877</td>\n",
              "      <td>-1.696978</td>\n",
              "    </tr>\n",
              "    <tr>\n",
              "      <th>2025-05-29</th>\n",
              "      <td>0.517793</td>\n",
              "      <td>-0.441175</td>\n",
              "    </tr>\n",
              "    <tr>\n",
              "      <th>2025-05-24</th>\n",
              "      <td>0.363020</td>\n",
              "      <td>-0.809635</td>\n",
              "    </tr>\n",
              "    <tr>\n",
              "      <th>2025-05-26</th>\n",
              "      <td>-0.330741</td>\n",
              "      <td>-0.805012</td>\n",
              "    </tr>\n",
              "  </tbody>\n",
              "</table>\n",
              "</div>"
            ],
            "text/plain": [
              "                   B         C\n",
              "2025-05-25  1.721080  0.827024\n",
              "2025-05-27  1.124200  1.361343\n",
              "2025-05-28  0.839877 -1.696978\n",
              "2025-05-29  0.517793 -0.441175\n",
              "2025-05-24  0.363020 -0.809635\n",
              "2025-05-26 -0.330741 -0.805012"
            ]
          },
          "execution_count": 120,
          "metadata": {},
          "output_type": "execute_result"
        }
      ],
      "source": [
        "df.iloc[:,1:3]"
      ]
    },
    {
      "cell_type": "markdown",
      "id": "b3273fcf",
      "metadata": {
        "id": "b3273fcf"
      },
      "source": [
        "#### 조건 부여 (Condition)"
      ]
    },
    {
      "cell_type": "markdown",
      "id": "3ba4a343",
      "metadata": {
        "id": "3ba4a343"
      },
      "source": [
        "-  0보다 큰 숫자만 선택\n",
        "-  NaN : Not a Number : 숫자가 없음"
      ]
    },
    {
      "cell_type": "code",
      "execution_count": null,
      "id": "87c21673",
      "metadata": {
        "id": "87c21673",
        "outputId": "3886fefb-20dc-449b-b2fc-458a7bf2d686"
      },
      "outputs": [
        {
          "data": {
            "text/plain": [
              "2025-05-25     True\n",
              "2025-05-27    False\n",
              "2025-05-28     True\n",
              "2025-05-29    False\n",
              "2025-05-24     True\n",
              "2025-05-26    False\n",
              "Name: A, dtype: bool"
            ]
          },
          "execution_count": 121,
          "metadata": {},
          "output_type": "execute_result"
        }
      ],
      "source": [
        "df[\"A\"]>0"
      ]
    },
    {
      "cell_type": "code",
      "execution_count": null,
      "id": "5da28a0f",
      "metadata": {
        "id": "5da28a0f",
        "outputId": "95a05240-1929-4ffb-9d62-0989dd2779bb"
      },
      "outputs": [
        {
          "data": {
            "text/html": [
              "<div>\n",
              "<style scoped>\n",
              "    .dataframe tbody tr th:only-of-type {\n",
              "        vertical-align: middle;\n",
              "    }\n",
              "\n",
              "    .dataframe tbody tr th {\n",
              "        vertical-align: top;\n",
              "    }\n",
              "\n",
              "    .dataframe thead th {\n",
              "        text-align: right;\n",
              "    }\n",
              "</style>\n",
              "<table border=\"1\" class=\"dataframe\">\n",
              "  <thead>\n",
              "    <tr style=\"text-align: right;\">\n",
              "      <th></th>\n",
              "      <th>A</th>\n",
              "      <th>B</th>\n",
              "      <th>C</th>\n",
              "      <th>D</th>\n",
              "    </tr>\n",
              "  </thead>\n",
              "  <tbody>\n",
              "    <tr>\n",
              "      <th>2025-05-25</th>\n",
              "      <td>0.796722</td>\n",
              "      <td>1.721080</td>\n",
              "      <td>0.827024</td>\n",
              "      <td>-0.046186</td>\n",
              "    </tr>\n",
              "    <tr>\n",
              "      <th>2025-05-28</th>\n",
              "      <td>1.886598</td>\n",
              "      <td>0.839877</td>\n",
              "      <td>-1.696978</td>\n",
              "      <td>-0.151933</td>\n",
              "    </tr>\n",
              "    <tr>\n",
              "      <th>2025-05-24</th>\n",
              "      <td>0.824590</td>\n",
              "      <td>0.363020</td>\n",
              "      <td>-0.809635</td>\n",
              "      <td>1.190599</td>\n",
              "    </tr>\n",
              "  </tbody>\n",
              "</table>\n",
              "</div>"
            ],
            "text/plain": [
              "                   A         B         C         D\n",
              "2025-05-25  0.796722  1.721080  0.827024 -0.046186\n",
              "2025-05-28  1.886598  0.839877 -1.696978 -0.151933\n",
              "2025-05-24  0.824590  0.363020 -0.809635  1.190599"
            ]
          },
          "execution_count": 122,
          "metadata": {},
          "output_type": "execute_result"
        }
      ],
      "source": [
        "df[df[\"A\"]>0]"
      ]
    },
    {
      "cell_type": "code",
      "execution_count": null,
      "id": "e828eba4",
      "metadata": {
        "id": "e828eba4",
        "outputId": "d46ac386-25b2-430b-9923-a82610fa332b"
      },
      "outputs": [
        {
          "data": {
            "text/html": [
              "<div>\n",
              "<style scoped>\n",
              "    .dataframe tbody tr th:only-of-type {\n",
              "        vertical-align: middle;\n",
              "    }\n",
              "\n",
              "    .dataframe tbody tr th {\n",
              "        vertical-align: top;\n",
              "    }\n",
              "\n",
              "    .dataframe thead th {\n",
              "        text-align: right;\n",
              "    }\n",
              "</style>\n",
              "<table border=\"1\" class=\"dataframe\">\n",
              "  <thead>\n",
              "    <tr style=\"text-align: right;\">\n",
              "      <th></th>\n",
              "      <th>A</th>\n",
              "      <th>B</th>\n",
              "      <th>C</th>\n",
              "      <th>D</th>\n",
              "    </tr>\n",
              "  </thead>\n",
              "  <tbody>\n",
              "    <tr>\n",
              "      <th>2025-05-25</th>\n",
              "      <td>0.796722</td>\n",
              "      <td>1.721080</td>\n",
              "      <td>0.827024</td>\n",
              "      <td>NaN</td>\n",
              "    </tr>\n",
              "    <tr>\n",
              "      <th>2025-05-27</th>\n",
              "      <td>NaN</td>\n",
              "      <td>1.124200</td>\n",
              "      <td>1.361343</td>\n",
              "      <td>NaN</td>\n",
              "    </tr>\n",
              "    <tr>\n",
              "      <th>2025-05-28</th>\n",
              "      <td>1.886598</td>\n",
              "      <td>0.839877</td>\n",
              "      <td>NaN</td>\n",
              "      <td>NaN</td>\n",
              "    </tr>\n",
              "    <tr>\n",
              "      <th>2025-05-29</th>\n",
              "      <td>NaN</td>\n",
              "      <td>0.517793</td>\n",
              "      <td>NaN</td>\n",
              "      <td>NaN</td>\n",
              "    </tr>\n",
              "    <tr>\n",
              "      <th>2025-05-24</th>\n",
              "      <td>0.824590</td>\n",
              "      <td>0.363020</td>\n",
              "      <td>NaN</td>\n",
              "      <td>1.190599</td>\n",
              "    </tr>\n",
              "    <tr>\n",
              "      <th>2025-05-26</th>\n",
              "      <td>NaN</td>\n",
              "      <td>NaN</td>\n",
              "      <td>NaN</td>\n",
              "      <td>1.037218</td>\n",
              "    </tr>\n",
              "  </tbody>\n",
              "</table>\n",
              "</div>"
            ],
            "text/plain": [
              "                   A         B         C         D\n",
              "2025-05-25  0.796722  1.721080  0.827024       NaN\n",
              "2025-05-27       NaN  1.124200  1.361343       NaN\n",
              "2025-05-28  1.886598  0.839877       NaN       NaN\n",
              "2025-05-29       NaN  0.517793       NaN       NaN\n",
              "2025-05-24  0.824590  0.363020       NaN  1.190599\n",
              "2025-05-26       NaN       NaN       NaN  1.037218"
            ]
          },
          "execution_count": 123,
          "metadata": {},
          "output_type": "execute_result"
        }
      ],
      "source": [
        "df[df>0]"
      ]
    },
    {
      "cell_type": "markdown",
      "id": "1682aae3",
      "metadata": {
        "id": "1682aae3"
      },
      "source": [
        "### 컬럼 추가\n",
        "#### df[\"컬럼명\"]=[<컬럼내용>]\n",
        "- 기존 컬럼이 없을 시 추가\n",
        "- 기존 컬럼이 있을 시 업데이트"
      ]
    },
    {
      "cell_type": "code",
      "execution_count": null,
      "id": "ee042776",
      "metadata": {
        "id": "ee042776",
        "outputId": "6bc1a431-8e19-470b-a85d-7791a725d60f"
      },
      "outputs": [
        {
          "data": {
            "text/html": [
              "<div>\n",
              "<style scoped>\n",
              "    .dataframe tbody tr th:only-of-type {\n",
              "        vertical-align: middle;\n",
              "    }\n",
              "\n",
              "    .dataframe tbody tr th {\n",
              "        vertical-align: top;\n",
              "    }\n",
              "\n",
              "    .dataframe thead th {\n",
              "        text-align: right;\n",
              "    }\n",
              "</style>\n",
              "<table border=\"1\" class=\"dataframe\">\n",
              "  <thead>\n",
              "    <tr style=\"text-align: right;\">\n",
              "      <th></th>\n",
              "      <th>A</th>\n",
              "      <th>B</th>\n",
              "      <th>C</th>\n",
              "      <th>D</th>\n",
              "      <th>E</th>\n",
              "    </tr>\n",
              "  </thead>\n",
              "  <tbody>\n",
              "    <tr>\n",
              "      <th>2025-05-25</th>\n",
              "      <td>0.796722</td>\n",
              "      <td>1.721080</td>\n",
              "      <td>0.827024</td>\n",
              "      <td>-0.046186</td>\n",
              "      <td>1</td>\n",
              "    </tr>\n",
              "    <tr>\n",
              "      <th>2025-05-27</th>\n",
              "      <td>-0.387060</td>\n",
              "      <td>1.124200</td>\n",
              "      <td>1.361343</td>\n",
              "      <td>-0.215363</td>\n",
              "      <td>2</td>\n",
              "    </tr>\n",
              "    <tr>\n",
              "      <th>2025-05-28</th>\n",
              "      <td>1.886598</td>\n",
              "      <td>0.839877</td>\n",
              "      <td>-1.696978</td>\n",
              "      <td>-0.151933</td>\n",
              "      <td>3</td>\n",
              "    </tr>\n",
              "    <tr>\n",
              "      <th>2025-05-29</th>\n",
              "      <td>-1.421968</td>\n",
              "      <td>0.517793</td>\n",
              "      <td>-0.441175</td>\n",
              "      <td>-2.167944</td>\n",
              "      <td>4</td>\n",
              "    </tr>\n",
              "    <tr>\n",
              "      <th>2025-05-24</th>\n",
              "      <td>0.824590</td>\n",
              "      <td>0.363020</td>\n",
              "      <td>-0.809635</td>\n",
              "      <td>1.190599</td>\n",
              "      <td>4</td>\n",
              "    </tr>\n",
              "    <tr>\n",
              "      <th>2025-05-26</th>\n",
              "      <td>-0.944355</td>\n",
              "      <td>-0.330741</td>\n",
              "      <td>-0.805012</td>\n",
              "      <td>1.037218</td>\n",
              "      <td>5</td>\n",
              "    </tr>\n",
              "  </tbody>\n",
              "</table>\n",
              "</div>"
            ],
            "text/plain": [
              "                   A         B         C         D  E\n",
              "2025-05-25  0.796722  1.721080  0.827024 -0.046186  1\n",
              "2025-05-27 -0.387060  1.124200  1.361343 -0.215363  2\n",
              "2025-05-28  1.886598  0.839877 -1.696978 -0.151933  3\n",
              "2025-05-29 -1.421968  0.517793 -0.441175 -2.167944  4\n",
              "2025-05-24  0.824590  0.363020 -0.809635  1.190599  4\n",
              "2025-05-26 -0.944355 -0.330741 -0.805012  1.037218  5"
            ]
          },
          "execution_count": 124,
          "metadata": {},
          "output_type": "execute_result"
        }
      ],
      "source": [
        "df[\"E\"]=[\"1\",\"2\",\"3\",\"4\",\"4\",\"5\"]\n",
        "df"
      ]
    },
    {
      "cell_type": "markdown",
      "id": "8fa2a1dd",
      "metadata": {
        "id": "8fa2a1dd"
      },
      "source": [
        "#### isin()\n",
        "- 특정 요소가 있는지 확인\n",
        "- bool로 리턴함"
      ]
    },
    {
      "cell_type": "code",
      "execution_count": null,
      "id": "bff43362",
      "metadata": {
        "id": "bff43362",
        "outputId": "2e3271cd-db65-4623-9120-3ce413f70353"
      },
      "outputs": [
        {
          "data": {
            "text/plain": [
              "2025-05-25     True\n",
              "2025-05-27    False\n",
              "2025-05-28    False\n",
              "2025-05-29     True\n",
              "2025-05-24     True\n",
              "2025-05-26    False\n",
              "Name: E, dtype: bool"
            ]
          },
          "execution_count": 125,
          "metadata": {},
          "output_type": "execute_result"
        }
      ],
      "source": [
        "df[\"E\"].isin([\"1\",\"4\"])"
      ]
    },
    {
      "cell_type": "markdown",
      "id": "0f371ee8",
      "metadata": {
        "id": "0f371ee8"
      },
      "source": [
        "- 실제로 존재하는 값만 출력하기"
      ]
    },
    {
      "cell_type": "code",
      "execution_count": null,
      "id": "16b30bba",
      "metadata": {
        "id": "16b30bba",
        "outputId": "c16583ce-d65b-43a6-eec2-1844f0b4e98a"
      },
      "outputs": [
        {
          "data": {
            "text/html": [
              "<div>\n",
              "<style scoped>\n",
              "    .dataframe tbody tr th:only-of-type {\n",
              "        vertical-align: middle;\n",
              "    }\n",
              "\n",
              "    .dataframe tbody tr th {\n",
              "        vertical-align: top;\n",
              "    }\n",
              "\n",
              "    .dataframe thead th {\n",
              "        text-align: right;\n",
              "    }\n",
              "</style>\n",
              "<table border=\"1\" class=\"dataframe\">\n",
              "  <thead>\n",
              "    <tr style=\"text-align: right;\">\n",
              "      <th></th>\n",
              "      <th>A</th>\n",
              "      <th>B</th>\n",
              "      <th>C</th>\n",
              "      <th>D</th>\n",
              "      <th>E</th>\n",
              "    </tr>\n",
              "  </thead>\n",
              "  <tbody>\n",
              "    <tr>\n",
              "      <th>2025-05-25</th>\n",
              "      <td>0.796722</td>\n",
              "      <td>1.721080</td>\n",
              "      <td>0.827024</td>\n",
              "      <td>-0.046186</td>\n",
              "      <td>1</td>\n",
              "    </tr>\n",
              "    <tr>\n",
              "      <th>2025-05-29</th>\n",
              "      <td>-1.421968</td>\n",
              "      <td>0.517793</td>\n",
              "      <td>-0.441175</td>\n",
              "      <td>-2.167944</td>\n",
              "      <td>4</td>\n",
              "    </tr>\n",
              "    <tr>\n",
              "      <th>2025-05-24</th>\n",
              "      <td>0.824590</td>\n",
              "      <td>0.363020</td>\n",
              "      <td>-0.809635</td>\n",
              "      <td>1.190599</td>\n",
              "      <td>4</td>\n",
              "    </tr>\n",
              "  </tbody>\n",
              "</table>\n",
              "</div>"
            ],
            "text/plain": [
              "                   A         B         C         D  E\n",
              "2025-05-25  0.796722  1.721080  0.827024 -0.046186  1\n",
              "2025-05-29 -1.421968  0.517793 -0.441175 -2.167944  4\n",
              "2025-05-24  0.824590  0.363020 -0.809635  1.190599  4"
            ]
          },
          "execution_count": 126,
          "metadata": {},
          "output_type": "execute_result"
        }
      ],
      "source": [
        "df[df[\"E\"].isin([\"1\",\"4\"])]"
      ]
    },
    {
      "cell_type": "markdown",
      "id": "546261e2",
      "metadata": {
        "id": "546261e2"
      },
      "source": [
        "### 특정 컬럼 제거\n",
        "- del\n",
        "- drop"
      ]
    },
    {
      "cell_type": "code",
      "execution_count": null,
      "id": "da828865",
      "metadata": {
        "id": "da828865",
        "outputId": "2c2f1319-9abf-4647-ec5e-98492be4b509"
      },
      "outputs": [
        {
          "data": {
            "text/html": [
              "<div>\n",
              "<style scoped>\n",
              "    .dataframe tbody tr th:only-of-type {\n",
              "        vertical-align: middle;\n",
              "    }\n",
              "\n",
              "    .dataframe tbody tr th {\n",
              "        vertical-align: top;\n",
              "    }\n",
              "\n",
              "    .dataframe thead th {\n",
              "        text-align: right;\n",
              "    }\n",
              "</style>\n",
              "<table border=\"1\" class=\"dataframe\">\n",
              "  <thead>\n",
              "    <tr style=\"text-align: right;\">\n",
              "      <th></th>\n",
              "      <th>A</th>\n",
              "      <th>B</th>\n",
              "      <th>C</th>\n",
              "      <th>D</th>\n",
              "    </tr>\n",
              "  </thead>\n",
              "  <tbody>\n",
              "    <tr>\n",
              "      <th>2025-05-25</th>\n",
              "      <td>0.796722</td>\n",
              "      <td>1.721080</td>\n",
              "      <td>0.827024</td>\n",
              "      <td>-0.046186</td>\n",
              "    </tr>\n",
              "    <tr>\n",
              "      <th>2025-05-27</th>\n",
              "      <td>-0.387060</td>\n",
              "      <td>1.124200</td>\n",
              "      <td>1.361343</td>\n",
              "      <td>-0.215363</td>\n",
              "    </tr>\n",
              "    <tr>\n",
              "      <th>2025-05-28</th>\n",
              "      <td>1.886598</td>\n",
              "      <td>0.839877</td>\n",
              "      <td>-1.696978</td>\n",
              "      <td>-0.151933</td>\n",
              "    </tr>\n",
              "    <tr>\n",
              "      <th>2025-05-29</th>\n",
              "      <td>-1.421968</td>\n",
              "      <td>0.517793</td>\n",
              "      <td>-0.441175</td>\n",
              "      <td>-2.167944</td>\n",
              "    </tr>\n",
              "    <tr>\n",
              "      <th>2025-05-24</th>\n",
              "      <td>0.824590</td>\n",
              "      <td>0.363020</td>\n",
              "      <td>-0.809635</td>\n",
              "      <td>1.190599</td>\n",
              "    </tr>\n",
              "    <tr>\n",
              "      <th>2025-05-26</th>\n",
              "      <td>-0.944355</td>\n",
              "      <td>-0.330741</td>\n",
              "      <td>-0.805012</td>\n",
              "      <td>1.037218</td>\n",
              "    </tr>\n",
              "  </tbody>\n",
              "</table>\n",
              "</div>"
            ],
            "text/plain": [
              "                   A         B         C         D\n",
              "2025-05-25  0.796722  1.721080  0.827024 -0.046186\n",
              "2025-05-27 -0.387060  1.124200  1.361343 -0.215363\n",
              "2025-05-28  1.886598  0.839877 -1.696978 -0.151933\n",
              "2025-05-29 -1.421968  0.517793 -0.441175 -2.167944\n",
              "2025-05-24  0.824590  0.363020 -0.809635  1.190599\n",
              "2025-05-26 -0.944355 -0.330741 -0.805012  1.037218"
            ]
          },
          "execution_count": 127,
          "metadata": {},
          "output_type": "execute_result"
        }
      ],
      "source": [
        "del df[\"E\"]\n",
        "df"
      ]
    },
    {
      "cell_type": "markdown",
      "id": "5ffb9407",
      "metadata": {
        "id": "5ffb9407"
      },
      "source": [
        "#### drop\n",
        "- axis 옵션을 통해서 어떤걸 삭제 할지 바꿈\n",
        "- axis = 0 : 가로\n",
        "- axis = 1 : 세로"
      ]
    },
    {
      "cell_type": "code",
      "execution_count": null,
      "id": "70b13622",
      "metadata": {
        "id": "70b13622",
        "outputId": "01702747-4f42-41f9-806f-90216cfdda21"
      },
      "outputs": [
        {
          "data": {
            "text/html": [
              "<div>\n",
              "<style scoped>\n",
              "    .dataframe tbody tr th:only-of-type {\n",
              "        vertical-align: middle;\n",
              "    }\n",
              "\n",
              "    .dataframe tbody tr th {\n",
              "        vertical-align: top;\n",
              "    }\n",
              "\n",
              "    .dataframe thead th {\n",
              "        text-align: right;\n",
              "    }\n",
              "</style>\n",
              "<table border=\"1\" class=\"dataframe\">\n",
              "  <thead>\n",
              "    <tr style=\"text-align: right;\">\n",
              "      <th></th>\n",
              "      <th>A</th>\n",
              "      <th>B</th>\n",
              "      <th>C</th>\n",
              "    </tr>\n",
              "  </thead>\n",
              "  <tbody>\n",
              "    <tr>\n",
              "      <th>2025-05-25</th>\n",
              "      <td>0.796722</td>\n",
              "      <td>1.721080</td>\n",
              "      <td>0.827024</td>\n",
              "    </tr>\n",
              "    <tr>\n",
              "      <th>2025-05-27</th>\n",
              "      <td>-0.387060</td>\n",
              "      <td>1.124200</td>\n",
              "      <td>1.361343</td>\n",
              "    </tr>\n",
              "    <tr>\n",
              "      <th>2025-05-28</th>\n",
              "      <td>1.886598</td>\n",
              "      <td>0.839877</td>\n",
              "      <td>-1.696978</td>\n",
              "    </tr>\n",
              "    <tr>\n",
              "      <th>2025-05-29</th>\n",
              "      <td>-1.421968</td>\n",
              "      <td>0.517793</td>\n",
              "      <td>-0.441175</td>\n",
              "    </tr>\n",
              "    <tr>\n",
              "      <th>2025-05-24</th>\n",
              "      <td>0.824590</td>\n",
              "      <td>0.363020</td>\n",
              "      <td>-0.809635</td>\n",
              "    </tr>\n",
              "    <tr>\n",
              "      <th>2025-05-26</th>\n",
              "      <td>-0.944355</td>\n",
              "      <td>-0.330741</td>\n",
              "      <td>-0.805012</td>\n",
              "    </tr>\n",
              "  </tbody>\n",
              "</table>\n",
              "</div>"
            ],
            "text/plain": [
              "                   A         B         C\n",
              "2025-05-25  0.796722  1.721080  0.827024\n",
              "2025-05-27 -0.387060  1.124200  1.361343\n",
              "2025-05-28  1.886598  0.839877 -1.696978\n",
              "2025-05-29 -1.421968  0.517793 -0.441175\n",
              "2025-05-24  0.824590  0.363020 -0.809635\n",
              "2025-05-26 -0.944355 -0.330741 -0.805012"
            ]
          },
          "execution_count": 128,
          "metadata": {},
          "output_type": "execute_result"
        }
      ],
      "source": [
        "df.drop([\"D\"] , axis=1)"
      ]
    },
    {
      "cell_type": "code",
      "execution_count": null,
      "id": "a82fa948",
      "metadata": {
        "id": "a82fa948",
        "outputId": "fb5a7291-0820-47fe-8584-bf55707061b5"
      },
      "outputs": [
        {
          "data": {
            "text/html": [
              "<div>\n",
              "<style scoped>\n",
              "    .dataframe tbody tr th:only-of-type {\n",
              "        vertical-align: middle;\n",
              "    }\n",
              "\n",
              "    .dataframe tbody tr th {\n",
              "        vertical-align: top;\n",
              "    }\n",
              "\n",
              "    .dataframe thead th {\n",
              "        text-align: right;\n",
              "    }\n",
              "</style>\n",
              "<table border=\"1\" class=\"dataframe\">\n",
              "  <thead>\n",
              "    <tr style=\"text-align: right;\">\n",
              "      <th></th>\n",
              "      <th>A</th>\n",
              "      <th>B</th>\n",
              "      <th>C</th>\n",
              "      <th>D</th>\n",
              "    </tr>\n",
              "  </thead>\n",
              "  <tbody>\n",
              "    <tr>\n",
              "      <th>2025-05-25</th>\n",
              "      <td>0.796722</td>\n",
              "      <td>1.721080</td>\n",
              "      <td>0.827024</td>\n",
              "      <td>-0.046186</td>\n",
              "    </tr>\n",
              "    <tr>\n",
              "      <th>2025-05-27</th>\n",
              "      <td>-0.387060</td>\n",
              "      <td>1.124200</td>\n",
              "      <td>1.361343</td>\n",
              "      <td>-0.215363</td>\n",
              "    </tr>\n",
              "    <tr>\n",
              "      <th>2025-05-28</th>\n",
              "      <td>1.886598</td>\n",
              "      <td>0.839877</td>\n",
              "      <td>-1.696978</td>\n",
              "      <td>-0.151933</td>\n",
              "    </tr>\n",
              "    <tr>\n",
              "      <th>2025-05-29</th>\n",
              "      <td>-1.421968</td>\n",
              "      <td>0.517793</td>\n",
              "      <td>-0.441175</td>\n",
              "      <td>-2.167944</td>\n",
              "    </tr>\n",
              "    <tr>\n",
              "      <th>2025-05-26</th>\n",
              "      <td>-0.944355</td>\n",
              "      <td>-0.330741</td>\n",
              "      <td>-0.805012</td>\n",
              "      <td>1.037218</td>\n",
              "    </tr>\n",
              "  </tbody>\n",
              "</table>\n",
              "</div>"
            ],
            "text/plain": [
              "                   A         B         C         D\n",
              "2025-05-25  0.796722  1.721080  0.827024 -0.046186\n",
              "2025-05-27 -0.387060  1.124200  1.361343 -0.215363\n",
              "2025-05-28  1.886598  0.839877 -1.696978 -0.151933\n",
              "2025-05-29 -1.421968  0.517793 -0.441175 -2.167944\n",
              "2025-05-26 -0.944355 -0.330741 -0.805012  1.037218"
            ]
          },
          "execution_count": 129,
          "metadata": {},
          "output_type": "execute_result"
        }
      ],
      "source": [
        "df.drop([\"2025-05-24\"] , axis=0)"
      ]
    },
    {
      "cell_type": "markdown",
      "id": "7cfa20c6",
      "metadata": {
        "id": "7cfa20c6"
      },
      "source": [
        "a"
      ]
    },
    {
      "cell_type": "code",
      "execution_count": null,
      "id": "cc3dff89",
      "metadata": {
        "id": "cc3dff89",
        "outputId": "317d5d74-33b2-4155-db76-0cde192b28b0"
      },
      "outputs": [
        {
          "data": {
            "text/plain": [
              "0.7545279573319197"
            ]
          },
          "execution_count": 130,
          "metadata": {},
          "output_type": "execute_result"
        }
      ],
      "source": [
        "df[\"A\"].apply(\"sum\")"
      ]
    },
    {
      "cell_type": "code",
      "execution_count": null,
      "id": "879f0005",
      "metadata": {
        "id": "879f0005",
        "outputId": "109aa603-6a38-46be-c70c-ad33f0a84fd9"
      },
      "outputs": [
        {
          "data": {
            "text/plain": [
              "A    0.754528\n",
              "D   -0.353610\n",
              "dtype: float64"
            ]
          },
          "execution_count": 131,
          "metadata": {},
          "output_type": "execute_result"
        }
      ],
      "source": [
        "df[[\"A\",\"D\"]].apply(\"sum\")"
      ]
    },
    {
      "cell_type": "code",
      "execution_count": null,
      "id": "9ffc58d0",
      "metadata": {
        "id": "9ffc58d0",
        "outputId": "83ef2453-69b4-4ba8-afad-e52a23f32526"
      },
      "outputs": [
        {
          "data": {
            "text/plain": [
              "2025-05-25        [0.79672219520659]\n",
              "2025-05-27    [-0.38706003227318875]\n",
              "2025-05-28      [1.8865981696497378]\n",
              "2025-05-29     [-1.4219675420710762]\n",
              "2025-05-24      [0.8245900713892681]\n",
              "2025-05-26     [-0.9443549045694113]\n",
              "Name: A, dtype: object"
            ]
          },
          "execution_count": 132,
          "metadata": {},
          "output_type": "execute_result"
        }
      ],
      "source": [
        "df[\"A\"].apply(np.cumsum)"
      ]
    },
    {
      "cell_type": "markdown",
      "id": "87b17b8e",
      "metadata": {
        "id": "87b17b8e"
      },
      "source": [
        "#### 양수/음수 확인 함수 만들기"
      ]
    },
    {
      "cell_type": "code",
      "execution_count": null,
      "id": "82450122",
      "metadata": {
        "id": "82450122"
      },
      "outputs": [],
      "source": [
        "def plusMinus(num):\n",
        "    return \"plus\" if num > 0 else \"minus\""
      ]
    },
    {
      "cell_type": "code",
      "execution_count": null,
      "id": "98ee202e",
      "metadata": {
        "id": "98ee202e",
        "outputId": "1a6ad973-c944-4083-eddb-2079d87caa80"
      },
      "outputs": [
        {
          "data": {
            "text/plain": [
              "2025-05-25     plus\n",
              "2025-05-27    minus\n",
              "2025-05-28     plus\n",
              "2025-05-29    minus\n",
              "2025-05-24     plus\n",
              "2025-05-26    minus\n",
              "Name: A, dtype: object"
            ]
          },
          "execution_count": 134,
          "metadata": {},
          "output_type": "execute_result"
        }
      ],
      "source": [
        "df[\"A\"].apply(plusMinus)"
      ]
    },
    {
      "cell_type": "code",
      "execution_count": null,
      "id": "ca745a0d",
      "metadata": {
        "id": "ca745a0d",
        "outputId": "3788cc4b-c6e7-4817-98ad-dbd8da736413"
      },
      "outputs": [
        {
          "data": {
            "text/plain": [
              "2025-05-25     plus\n",
              "2025-05-27    minus\n",
              "2025-05-28     plus\n",
              "2025-05-29    minus\n",
              "2025-05-24     plus\n",
              "2025-05-26    minus\n",
              "Name: A, dtype: object"
            ]
          },
          "execution_count": 135,
          "metadata": {},
          "output_type": "execute_result"
        }
      ],
      "source": [
        "df[\"A\"].apply(lambda num : \"plus\" if num>0 else \"minus\")"
      ]
    },
    {
      "cell_type": "markdown",
      "id": "13e76586",
      "metadata": {
        "id": "13e76586"
      },
      "source": [
        "# 3. CCTV 데이터 둘러보기\n",
        "3-1) 데이터 특징 확인\n",
        "- tail : 데이터 끝 쪽 볼 수 있음\n",
        "  - 마지막 줄 인덱스 > 24\n",
        "  - 총 데이터 25개"
      ]
    },
    {
      "cell_type": "code",
      "execution_count": null,
      "id": "74ea0b35",
      "metadata": {
        "id": "74ea0b35",
        "outputId": "95133e24-7605-4c45-bf69-dda9907f0137"
      },
      "outputs": [
        {
          "data": {
            "text/html": [
              "<div>\n",
              "<style scoped>\n",
              "    .dataframe tbody tr th:only-of-type {\n",
              "        vertical-align: middle;\n",
              "    }\n",
              "\n",
              "    .dataframe tbody tr th {\n",
              "        vertical-align: top;\n",
              "    }\n",
              "\n",
              "    .dataframe thead th {\n",
              "        text-align: right;\n",
              "    }\n",
              "</style>\n",
              "<table border=\"1\" class=\"dataframe\">\n",
              "  <thead>\n",
              "    <tr style=\"text-align: right;\">\n",
              "      <th></th>\n",
              "      <th>구별</th>\n",
              "      <th>소계</th>\n",
              "      <th>2013년도 이전</th>\n",
              "      <th>2014년</th>\n",
              "      <th>2015년</th>\n",
              "      <th>2016년</th>\n",
              "    </tr>\n",
              "  </thead>\n",
              "  <tbody>\n",
              "    <tr>\n",
              "      <th>0</th>\n",
              "      <td>강남구</td>\n",
              "      <td>3238</td>\n",
              "      <td>1292</td>\n",
              "      <td>430</td>\n",
              "      <td>584</td>\n",
              "      <td>932</td>\n",
              "    </tr>\n",
              "    <tr>\n",
              "      <th>1</th>\n",
              "      <td>강동구</td>\n",
              "      <td>1010</td>\n",
              "      <td>379</td>\n",
              "      <td>99</td>\n",
              "      <td>155</td>\n",
              "      <td>377</td>\n",
              "    </tr>\n",
              "    <tr>\n",
              "      <th>2</th>\n",
              "      <td>강북구</td>\n",
              "      <td>831</td>\n",
              "      <td>369</td>\n",
              "      <td>120</td>\n",
              "      <td>138</td>\n",
              "      <td>204</td>\n",
              "    </tr>\n",
              "    <tr>\n",
              "      <th>3</th>\n",
              "      <td>강서구</td>\n",
              "      <td>911</td>\n",
              "      <td>388</td>\n",
              "      <td>258</td>\n",
              "      <td>184</td>\n",
              "      <td>81</td>\n",
              "    </tr>\n",
              "    <tr>\n",
              "      <th>4</th>\n",
              "      <td>관악구</td>\n",
              "      <td>2109</td>\n",
              "      <td>846</td>\n",
              "      <td>260</td>\n",
              "      <td>390</td>\n",
              "      <td>613</td>\n",
              "    </tr>\n",
              "  </tbody>\n",
              "</table>\n",
              "</div>"
            ],
            "text/plain": [
              "    구별    소계  2013년도 이전  2014년  2015년  2016년\n",
              "0  강남구  3238       1292    430    584    932\n",
              "1  강동구  1010        379     99    155    377\n",
              "2  강북구   831        369    120    138    204\n",
              "3  강서구   911        388    258    184     81\n",
              "4  관악구  2109        846    260    390    613"
            ]
          },
          "execution_count": 136,
          "metadata": {},
          "output_type": "execute_result"
        }
      ],
      "source": [
        "CCTV_Seoul.head()"
      ]
    },
    {
      "cell_type": "code",
      "execution_count": null,
      "id": "fcc45bdb",
      "metadata": {
        "id": "fcc45bdb",
        "outputId": "41eda959-371e-4de6-c0e2-9f05b6e86f3d"
      },
      "outputs": [
        {
          "data": {
            "text/html": [
              "<div>\n",
              "<style scoped>\n",
              "    .dataframe tbody tr th:only-of-type {\n",
              "        vertical-align: middle;\n",
              "    }\n",
              "\n",
              "    .dataframe tbody tr th {\n",
              "        vertical-align: top;\n",
              "    }\n",
              "\n",
              "    .dataframe thead th {\n",
              "        text-align: right;\n",
              "    }\n",
              "</style>\n",
              "<table border=\"1\" class=\"dataframe\">\n",
              "  <thead>\n",
              "    <tr style=\"text-align: right;\">\n",
              "      <th></th>\n",
              "      <th>구별</th>\n",
              "      <th>소계</th>\n",
              "      <th>2013년도 이전</th>\n",
              "      <th>2014년</th>\n",
              "      <th>2015년</th>\n",
              "      <th>2016년</th>\n",
              "    </tr>\n",
              "  </thead>\n",
              "  <tbody>\n",
              "    <tr>\n",
              "      <th>20</th>\n",
              "      <td>용산구</td>\n",
              "      <td>2096</td>\n",
              "      <td>1368</td>\n",
              "      <td>218</td>\n",
              "      <td>112</td>\n",
              "      <td>398</td>\n",
              "    </tr>\n",
              "    <tr>\n",
              "      <th>21</th>\n",
              "      <td>은평구</td>\n",
              "      <td>2108</td>\n",
              "      <td>1138</td>\n",
              "      <td>224</td>\n",
              "      <td>278</td>\n",
              "      <td>468</td>\n",
              "    </tr>\n",
              "    <tr>\n",
              "      <th>22</th>\n",
              "      <td>종로구</td>\n",
              "      <td>1619</td>\n",
              "      <td>464</td>\n",
              "      <td>314</td>\n",
              "      <td>211</td>\n",
              "      <td>630</td>\n",
              "    </tr>\n",
              "    <tr>\n",
              "      <th>23</th>\n",
              "      <td>중구</td>\n",
              "      <td>1023</td>\n",
              "      <td>413</td>\n",
              "      <td>190</td>\n",
              "      <td>72</td>\n",
              "      <td>348</td>\n",
              "    </tr>\n",
              "    <tr>\n",
              "      <th>24</th>\n",
              "      <td>중랑구</td>\n",
              "      <td>916</td>\n",
              "      <td>509</td>\n",
              "      <td>121</td>\n",
              "      <td>177</td>\n",
              "      <td>109</td>\n",
              "    </tr>\n",
              "  </tbody>\n",
              "</table>\n",
              "</div>"
            ],
            "text/plain": [
              "     구별    소계  2013년도 이전  2014년  2015년  2016년\n",
              "20  용산구  2096       1368    218    112    398\n",
              "21  은평구  2108       1138    224    278    468\n",
              "22  종로구  1619        464    314    211    630\n",
              "23   중구  1023        413    190     72    348\n",
              "24  중랑구   916        509    121    177    109"
            ]
          },
          "execution_count": 137,
          "metadata": {},
          "output_type": "execute_result"
        }
      ],
      "source": [
        "CCTV_Seoul.tail()"
      ]
    },
    {
      "cell_type": "markdown",
      "id": "3c84831d",
      "metadata": {
        "id": "3c84831d"
      },
      "source": [
        "## 3-2) sort\n",
        "- 특정 값을 자세하기 볼 수 있음\n",
        "- 소계가 적은 순으로 보기"
      ]
    },
    {
      "cell_type": "code",
      "execution_count": null,
      "id": "095ab913",
      "metadata": {
        "id": "095ab913",
        "outputId": "14caa26b-12be-4d23-d997-3a55839950a0"
      },
      "outputs": [
        {
          "data": {
            "text/html": [
              "<div>\n",
              "<style scoped>\n",
              "    .dataframe tbody tr th:only-of-type {\n",
              "        vertical-align: middle;\n",
              "    }\n",
              "\n",
              "    .dataframe tbody tr th {\n",
              "        vertical-align: top;\n",
              "    }\n",
              "\n",
              "    .dataframe thead th {\n",
              "        text-align: right;\n",
              "    }\n",
              "</style>\n",
              "<table border=\"1\" class=\"dataframe\">\n",
              "  <thead>\n",
              "    <tr style=\"text-align: right;\">\n",
              "      <th></th>\n",
              "      <th>구별</th>\n",
              "      <th>소계</th>\n",
              "      <th>2013년도 이전</th>\n",
              "      <th>2014년</th>\n",
              "      <th>2015년</th>\n",
              "      <th>2016년</th>\n",
              "    </tr>\n",
              "  </thead>\n",
              "  <tbody>\n",
              "    <tr>\n",
              "      <th>9</th>\n",
              "      <td>도봉구</td>\n",
              "      <td>825</td>\n",
              "      <td>238</td>\n",
              "      <td>159</td>\n",
              "      <td>42</td>\n",
              "      <td>386</td>\n",
              "    </tr>\n",
              "    <tr>\n",
              "      <th>2</th>\n",
              "      <td>강북구</td>\n",
              "      <td>831</td>\n",
              "      <td>369</td>\n",
              "      <td>120</td>\n",
              "      <td>138</td>\n",
              "      <td>204</td>\n",
              "    </tr>\n",
              "    <tr>\n",
              "      <th>5</th>\n",
              "      <td>광진구</td>\n",
              "      <td>878</td>\n",
              "      <td>573</td>\n",
              "      <td>78</td>\n",
              "      <td>53</td>\n",
              "      <td>174</td>\n",
              "    </tr>\n",
              "    <tr>\n",
              "      <th>3</th>\n",
              "      <td>강서구</td>\n",
              "      <td>911</td>\n",
              "      <td>388</td>\n",
              "      <td>258</td>\n",
              "      <td>184</td>\n",
              "      <td>81</td>\n",
              "    </tr>\n",
              "    <tr>\n",
              "      <th>24</th>\n",
              "      <td>중랑구</td>\n",
              "      <td>916</td>\n",
              "      <td>509</td>\n",
              "      <td>121</td>\n",
              "      <td>177</td>\n",
              "      <td>109</td>\n",
              "    </tr>\n",
              "  </tbody>\n",
              "</table>\n",
              "</div>"
            ],
            "text/plain": [
              "     구별   소계  2013년도 이전  2014년  2015년  2016년\n",
              "9   도봉구  825        238    159     42    386\n",
              "2   강북구  831        369    120    138    204\n",
              "5   광진구  878        573     78     53    174\n",
              "3   강서구  911        388    258    184     81\n",
              "24  중랑구  916        509    121    177    109"
            ]
          },
          "execution_count": 138,
          "metadata": {},
          "output_type": "execute_result"
        }
      ],
      "source": [
        "CCTV_Seoul.sort_values(by=\"소계\",ascending=True).head(5)"
      ]
    },
    {
      "cell_type": "markdown",
      "id": "4b519476",
      "metadata": {
        "id": "4b519476"
      },
      "source": [
        "- 내림차순으로 출력해서 많은 순으로 보기"
      ]
    },
    {
      "cell_type": "code",
      "execution_count": null,
      "id": "4c69c7ed",
      "metadata": {
        "id": "4c69c7ed",
        "outputId": "60aedd22-2589-41f7-e425-013a5767aeb9"
      },
      "outputs": [
        {
          "data": {
            "text/html": [
              "<div>\n",
              "<style scoped>\n",
              "    .dataframe tbody tr th:only-of-type {\n",
              "        vertical-align: middle;\n",
              "    }\n",
              "\n",
              "    .dataframe tbody tr th {\n",
              "        vertical-align: top;\n",
              "    }\n",
              "\n",
              "    .dataframe thead th {\n",
              "        text-align: right;\n",
              "    }\n",
              "</style>\n",
              "<table border=\"1\" class=\"dataframe\">\n",
              "  <thead>\n",
              "    <tr style=\"text-align: right;\">\n",
              "      <th></th>\n",
              "      <th>구별</th>\n",
              "      <th>소계</th>\n",
              "      <th>2013년도 이전</th>\n",
              "      <th>2014년</th>\n",
              "      <th>2015년</th>\n",
              "      <th>2016년</th>\n",
              "    </tr>\n",
              "  </thead>\n",
              "  <tbody>\n",
              "    <tr>\n",
              "      <th>0</th>\n",
              "      <td>강남구</td>\n",
              "      <td>3238</td>\n",
              "      <td>1292</td>\n",
              "      <td>430</td>\n",
              "      <td>584</td>\n",
              "      <td>932</td>\n",
              "    </tr>\n",
              "    <tr>\n",
              "      <th>18</th>\n",
              "      <td>양천구</td>\n",
              "      <td>2482</td>\n",
              "      <td>1843</td>\n",
              "      <td>142</td>\n",
              "      <td>30</td>\n",
              "      <td>467</td>\n",
              "    </tr>\n",
              "    <tr>\n",
              "      <th>14</th>\n",
              "      <td>서초구</td>\n",
              "      <td>2297</td>\n",
              "      <td>1406</td>\n",
              "      <td>157</td>\n",
              "      <td>336</td>\n",
              "      <td>398</td>\n",
              "    </tr>\n",
              "    <tr>\n",
              "      <th>4</th>\n",
              "      <td>관악구</td>\n",
              "      <td>2109</td>\n",
              "      <td>846</td>\n",
              "      <td>260</td>\n",
              "      <td>390</td>\n",
              "      <td>613</td>\n",
              "    </tr>\n",
              "    <tr>\n",
              "      <th>21</th>\n",
              "      <td>은평구</td>\n",
              "      <td>2108</td>\n",
              "      <td>1138</td>\n",
              "      <td>224</td>\n",
              "      <td>278</td>\n",
              "      <td>468</td>\n",
              "    </tr>\n",
              "  </tbody>\n",
              "</table>\n",
              "</div>"
            ],
            "text/plain": [
              "     구별    소계  2013년도 이전  2014년  2015년  2016년\n",
              "0   강남구  3238       1292    430    584    932\n",
              "18  양천구  2482       1843    142     30    467\n",
              "14  서초구  2297       1406    157    336    398\n",
              "4   관악구  2109        846    260    390    613\n",
              "21  은평구  2108       1138    224    278    468"
            ]
          },
          "execution_count": 139,
          "metadata": {},
          "output_type": "execute_result"
        }
      ],
      "source": [
        "CCTV_Seoul.sort_values(by=\"소계\",ascending=False).head(5)"
      ]
    },
    {
      "cell_type": "markdown",
      "id": "c8d7ef1b",
      "metadata": {
        "id": "c8d7ef1b"
      },
      "source": [
        "## 3-3) 데이터의 추가\n",
        "- 필요한 데이터는 새롭게 추가함\n",
        "- 해당 컬럼이 없으면 추가 / 있으면 업데이트\n",
        "    - 최근 증가율 : 최근 몇 년간 시리즈를 합함"
      ]
    },
    {
      "cell_type": "code",
      "execution_count": null,
      "id": "1e97b747",
      "metadata": {
        "id": "1e97b747",
        "outputId": "4256e0d7-1d21-4c4d-8b2a-33130ec3dfe3"
      },
      "outputs": [
        {
          "data": {
            "text/html": [
              "<div>\n",
              "<style scoped>\n",
              "    .dataframe tbody tr th:only-of-type {\n",
              "        vertical-align: middle;\n",
              "    }\n",
              "\n",
              "    .dataframe tbody tr th {\n",
              "        vertical-align: top;\n",
              "    }\n",
              "\n",
              "    .dataframe thead th {\n",
              "        text-align: right;\n",
              "    }\n",
              "</style>\n",
              "<table border=\"1\" class=\"dataframe\">\n",
              "  <thead>\n",
              "    <tr style=\"text-align: right;\">\n",
              "      <th></th>\n",
              "      <th>구별</th>\n",
              "      <th>소계</th>\n",
              "      <th>2013년도 이전</th>\n",
              "      <th>2014년</th>\n",
              "      <th>2015년</th>\n",
              "      <th>2016년</th>\n",
              "      <th>최근증가율</th>\n",
              "    </tr>\n",
              "  </thead>\n",
              "  <tbody>\n",
              "    <tr>\n",
              "      <th>22</th>\n",
              "      <td>종로구</td>\n",
              "      <td>1619</td>\n",
              "      <td>464</td>\n",
              "      <td>314</td>\n",
              "      <td>211</td>\n",
              "      <td>630</td>\n",
              "      <td>248.922414</td>\n",
              "    </tr>\n",
              "    <tr>\n",
              "      <th>9</th>\n",
              "      <td>도봉구</td>\n",
              "      <td>825</td>\n",
              "      <td>238</td>\n",
              "      <td>159</td>\n",
              "      <td>42</td>\n",
              "      <td>386</td>\n",
              "      <td>246.638655</td>\n",
              "    </tr>\n",
              "    <tr>\n",
              "      <th>12</th>\n",
              "      <td>마포구</td>\n",
              "      <td>980</td>\n",
              "      <td>314</td>\n",
              "      <td>118</td>\n",
              "      <td>169</td>\n",
              "      <td>379</td>\n",
              "      <td>212.101911</td>\n",
              "    </tr>\n",
              "    <tr>\n",
              "      <th>8</th>\n",
              "      <td>노원구</td>\n",
              "      <td>1566</td>\n",
              "      <td>542</td>\n",
              "      <td>57</td>\n",
              "      <td>451</td>\n",
              "      <td>516</td>\n",
              "      <td>188.929889</td>\n",
              "    </tr>\n",
              "    <tr>\n",
              "      <th>1</th>\n",
              "      <td>강동구</td>\n",
              "      <td>1010</td>\n",
              "      <td>379</td>\n",
              "      <td>99</td>\n",
              "      <td>155</td>\n",
              "      <td>377</td>\n",
              "      <td>166.490765</td>\n",
              "    </tr>\n",
              "  </tbody>\n",
              "</table>\n",
              "</div>"
            ],
            "text/plain": [
              "     구별    소계  2013년도 이전  2014년  2015년  2016년       최근증가율\n",
              "22  종로구  1619        464    314    211    630  248.922414\n",
              "9   도봉구   825        238    159     42    386  246.638655\n",
              "12  마포구   980        314    118    169    379  212.101911\n",
              "8   노원구  1566        542     57    451    516  188.929889\n",
              "1   강동구  1010        379     99    155    377  166.490765"
            ]
          },
          "execution_count": 140,
          "metadata": {},
          "output_type": "execute_result"
        }
      ],
      "source": [
        "CCTV_Seoul[\"최근증가율\"]=(\n",
        "    (CCTV_Seoul[\"2016년\"]+CCTV_Seoul[\"2015년\"]+CCTV_Seoul[\"2014년\"])/CCTV_Seoul[\"2013년도 이전\"]*100\n",
        ")\n",
        "CCTV_Seoul.sort_values(by=\"최근증가율\",ascending=False).head()"
      ]
    },
    {
      "cell_type": "markdown",
      "id": "a5c2a04d",
      "metadata": {
        "id": "a5c2a04d"
      },
      "source": [
        "# 4. 인구현황 데이터 보기\n",
        "- 필요 없는 데이터 삭제\n",
        "- 합계 데이터는 필요 없으므로 삭제"
      ]
    },
    {
      "cell_type": "code",
      "execution_count": null,
      "id": "fb41708a",
      "metadata": {
        "id": "fb41708a",
        "outputId": "639d69dd-4417-4133-a292-ab2bde9b6d2c"
      },
      "outputs": [
        {
          "data": {
            "text/html": [
              "<div>\n",
              "<style scoped>\n",
              "    .dataframe tbody tr th:only-of-type {\n",
              "        vertical-align: middle;\n",
              "    }\n",
              "\n",
              "    .dataframe tbody tr th {\n",
              "        vertical-align: top;\n",
              "    }\n",
              "\n",
              "    .dataframe thead th {\n",
              "        text-align: right;\n",
              "    }\n",
              "</style>\n",
              "<table border=\"1\" class=\"dataframe\">\n",
              "  <thead>\n",
              "    <tr style=\"text-align: right;\">\n",
              "      <th></th>\n",
              "      <th>구별</th>\n",
              "      <th>인구수</th>\n",
              "      <th>한국인</th>\n",
              "      <th>외국인</th>\n",
              "      <th>고령자</th>\n",
              "    </tr>\n",
              "  </thead>\n",
              "  <tbody>\n",
              "    <tr>\n",
              "      <th>0</th>\n",
              "      <td>합계</td>\n",
              "      <td>10124579</td>\n",
              "      <td>9857426</td>\n",
              "      <td>267153</td>\n",
              "      <td>1365126</td>\n",
              "    </tr>\n",
              "    <tr>\n",
              "      <th>1</th>\n",
              "      <td>종로구</td>\n",
              "      <td>164257</td>\n",
              "      <td>154770</td>\n",
              "      <td>9487</td>\n",
              "      <td>26182</td>\n",
              "    </tr>\n",
              "    <tr>\n",
              "      <th>2</th>\n",
              "      <td>중구</td>\n",
              "      <td>134593</td>\n",
              "      <td>125709</td>\n",
              "      <td>8884</td>\n",
              "      <td>21384</td>\n",
              "    </tr>\n",
              "    <tr>\n",
              "      <th>3</th>\n",
              "      <td>용산구</td>\n",
              "      <td>244444</td>\n",
              "      <td>229161</td>\n",
              "      <td>15283</td>\n",
              "      <td>36882</td>\n",
              "    </tr>\n",
              "    <tr>\n",
              "      <th>4</th>\n",
              "      <td>성동구</td>\n",
              "      <td>312711</td>\n",
              "      <td>304808</td>\n",
              "      <td>7903</td>\n",
              "      <td>41273</td>\n",
              "    </tr>\n",
              "  </tbody>\n",
              "</table>\n",
              "</div>"
            ],
            "text/plain": [
              "    구별       인구수      한국인     외국인      고령자\n",
              "0   합계  10124579  9857426  267153  1365126\n",
              "1  종로구    164257   154770    9487    26182\n",
              "2   중구    134593   125709    8884    21384\n",
              "3  용산구    244444   229161   15283    36882\n",
              "4  성동구    312711   304808    7903    41273"
            ]
          },
          "execution_count": 141,
          "metadata": {},
          "output_type": "execute_result"
        }
      ],
      "source": [
        "pop_Seoul.head()"
      ]
    },
    {
      "cell_type": "code",
      "execution_count": null,
      "id": "16a4e069",
      "metadata": {
        "id": "16a4e069",
        "outputId": "48814560-113e-4720-f264-f47d695e7a5a"
      },
      "outputs": [
        {
          "data": {
            "text/html": [
              "<div>\n",
              "<style scoped>\n",
              "    .dataframe tbody tr th:only-of-type {\n",
              "        vertical-align: middle;\n",
              "    }\n",
              "\n",
              "    .dataframe tbody tr th {\n",
              "        vertical-align: top;\n",
              "    }\n",
              "\n",
              "    .dataframe thead th {\n",
              "        text-align: right;\n",
              "    }\n",
              "</style>\n",
              "<table border=\"1\" class=\"dataframe\">\n",
              "  <thead>\n",
              "    <tr style=\"text-align: right;\">\n",
              "      <th></th>\n",
              "      <th>구별</th>\n",
              "      <th>인구수</th>\n",
              "      <th>한국인</th>\n",
              "      <th>외국인</th>\n",
              "      <th>고령자</th>\n",
              "    </tr>\n",
              "  </thead>\n",
              "  <tbody>\n",
              "    <tr>\n",
              "      <th>21</th>\n",
              "      <td>관악구</td>\n",
              "      <td>520929</td>\n",
              "      <td>503297</td>\n",
              "      <td>17632</td>\n",
              "      <td>70046</td>\n",
              "    </tr>\n",
              "    <tr>\n",
              "      <th>22</th>\n",
              "      <td>서초구</td>\n",
              "      <td>445401</td>\n",
              "      <td>441102</td>\n",
              "      <td>4299</td>\n",
              "      <td>53205</td>\n",
              "    </tr>\n",
              "    <tr>\n",
              "      <th>23</th>\n",
              "      <td>강남구</td>\n",
              "      <td>561052</td>\n",
              "      <td>556164</td>\n",
              "      <td>4888</td>\n",
              "      <td>65060</td>\n",
              "    </tr>\n",
              "    <tr>\n",
              "      <th>24</th>\n",
              "      <td>송파구</td>\n",
              "      <td>671173</td>\n",
              "      <td>664496</td>\n",
              "      <td>6677</td>\n",
              "      <td>76582</td>\n",
              "    </tr>\n",
              "    <tr>\n",
              "      <th>25</th>\n",
              "      <td>강동구</td>\n",
              "      <td>440359</td>\n",
              "      <td>436223</td>\n",
              "      <td>4136</td>\n",
              "      <td>56161</td>\n",
              "    </tr>\n",
              "  </tbody>\n",
              "</table>\n",
              "</div>"
            ],
            "text/plain": [
              "     구별     인구수     한국인    외국인    고령자\n",
              "21  관악구  520929  503297  17632  70046\n",
              "22  서초구  445401  441102   4299  53205\n",
              "23  강남구  561052  556164   4888  65060\n",
              "24  송파구  671173  664496   6677  76582\n",
              "25  강동구  440359  436223   4136  56161"
            ]
          },
          "execution_count": 142,
          "metadata": {},
          "output_type": "execute_result"
        }
      ],
      "source": [
        "pop_Seoul.tail()"
      ]
    },
    {
      "cell_type": "code",
      "execution_count": null,
      "id": "6c8749b3",
      "metadata": {
        "id": "6c8749b3",
        "outputId": "3cb4ea27-feea-49bb-fceb-2278a1d8d1c3"
      },
      "outputs": [
        {
          "data": {
            "text/html": [
              "<div>\n",
              "<style scoped>\n",
              "    .dataframe tbody tr th:only-of-type {\n",
              "        vertical-align: middle;\n",
              "    }\n",
              "\n",
              "    .dataframe tbody tr th {\n",
              "        vertical-align: top;\n",
              "    }\n",
              "\n",
              "    .dataframe thead th {\n",
              "        text-align: right;\n",
              "    }\n",
              "</style>\n",
              "<table border=\"1\" class=\"dataframe\">\n",
              "  <thead>\n",
              "    <tr style=\"text-align: right;\">\n",
              "      <th></th>\n",
              "      <th>구별</th>\n",
              "      <th>인구수</th>\n",
              "      <th>한국인</th>\n",
              "      <th>외국인</th>\n",
              "      <th>고령자</th>\n",
              "    </tr>\n",
              "  </thead>\n",
              "  <tbody>\n",
              "    <tr>\n",
              "      <th>1</th>\n",
              "      <td>종로구</td>\n",
              "      <td>164257</td>\n",
              "      <td>154770</td>\n",
              "      <td>9487</td>\n",
              "      <td>26182</td>\n",
              "    </tr>\n",
              "    <tr>\n",
              "      <th>2</th>\n",
              "      <td>중구</td>\n",
              "      <td>134593</td>\n",
              "      <td>125709</td>\n",
              "      <td>8884</td>\n",
              "      <td>21384</td>\n",
              "    </tr>\n",
              "    <tr>\n",
              "      <th>3</th>\n",
              "      <td>용산구</td>\n",
              "      <td>244444</td>\n",
              "      <td>229161</td>\n",
              "      <td>15283</td>\n",
              "      <td>36882</td>\n",
              "    </tr>\n",
              "    <tr>\n",
              "      <th>4</th>\n",
              "      <td>성동구</td>\n",
              "      <td>312711</td>\n",
              "      <td>304808</td>\n",
              "      <td>7903</td>\n",
              "      <td>41273</td>\n",
              "    </tr>\n",
              "    <tr>\n",
              "      <th>5</th>\n",
              "      <td>광진구</td>\n",
              "      <td>372298</td>\n",
              "      <td>357703</td>\n",
              "      <td>14595</td>\n",
              "      <td>43953</td>\n",
              "    </tr>\n",
              "  </tbody>\n",
              "</table>\n",
              "</div>"
            ],
            "text/plain": [
              "    구별     인구수     한국인    외국인    고령자\n",
              "1  종로구  164257  154770   9487  26182\n",
              "2   중구  134593  125709   8884  21384\n",
              "3  용산구  244444  229161  15283  36882\n",
              "4  성동구  312711  304808   7903  41273\n",
              "5  광진구  372298  357703  14595  43953"
            ]
          },
          "execution_count": 143,
          "metadata": {},
          "output_type": "execute_result"
        }
      ],
      "source": [
        "pop_Seoul.drop([0],axis=0 , inplace=True)\n",
        "pop_Seoul.head()"
      ]
    },
    {
      "cell_type": "markdown",
      "id": "6d15469e",
      "metadata": {
        "id": "6d15469e"
      },
      "source": [
        "- unique() : dedup함"
      ]
    },
    {
      "cell_type": "code",
      "execution_count": null,
      "id": "75052d2b",
      "metadata": {
        "id": "75052d2b",
        "outputId": "1cdf2f53-8177-4351-efa0-fbc37091fcfd"
      },
      "outputs": [
        {
          "data": {
            "text/plain": [
              "array(['종로구', '중구', '용산구', '성동구', '광진구', '동대문구', '중랑구', '성북구', '강북구',\n",
              "       '도봉구', '노원구', '은평구', '서대문구', '마포구', '양천구', '강서구', '구로구', '금천구',\n",
              "       '영등포구', '동작구', '관악구', '서초구', '강남구', '송파구', '강동구'], dtype=object)"
            ]
          },
          "execution_count": 145,
          "metadata": {},
          "output_type": "execute_result"
        }
      ],
      "source": [
        "pop_Seoul[\"구별\"].unique()"
      ]
    },
    {
      "cell_type": "code",
      "execution_count": null,
      "id": "a5330934",
      "metadata": {
        "id": "a5330934",
        "outputId": "d6bb4272-6879-40d6-bf8a-e60bbc245215"
      },
      "outputs": [
        {
          "data": {
            "text/plain": [
              "25"
            ]
          },
          "execution_count": 71,
          "metadata": {},
          "output_type": "execute_result"
        }
      ],
      "source": [
        "len(pop_Seoul[\"자치구\"].unique())"
      ]
    },
    {
      "cell_type": "markdown",
      "id": "fcd72397",
      "metadata": {
        "id": "fcd72397"
      },
      "source": [
        "- 외국인 비율 / 고령자 비율"
      ]
    },
    {
      "cell_type": "code",
      "execution_count": null,
      "id": "6f4be0c9",
      "metadata": {
        "id": "6f4be0c9",
        "outputId": "dfa9bf55-18ae-490f-a6d8-99ea2c624de0"
      },
      "outputs": [
        {
          "data": {
            "text/html": [
              "<div>\n",
              "<style scoped>\n",
              "    .dataframe tbody tr th:only-of-type {\n",
              "        vertical-align: middle;\n",
              "    }\n",
              "\n",
              "    .dataframe tbody tr th {\n",
              "        vertical-align: top;\n",
              "    }\n",
              "\n",
              "    .dataframe thead th {\n",
              "        text-align: right;\n",
              "    }\n",
              "</style>\n",
              "<table border=\"1\" class=\"dataframe\">\n",
              "  <thead>\n",
              "    <tr style=\"text-align: right;\">\n",
              "      <th></th>\n",
              "      <th>구별</th>\n",
              "      <th>인구수</th>\n",
              "      <th>한국인</th>\n",
              "      <th>외국인</th>\n",
              "      <th>고령자</th>\n",
              "      <th>외국인비율</th>\n",
              "      <th>고령자비율</th>\n",
              "    </tr>\n",
              "  </thead>\n",
              "  <tbody>\n",
              "    <tr>\n",
              "      <th>1</th>\n",
              "      <td>종로구</td>\n",
              "      <td>164257</td>\n",
              "      <td>154770</td>\n",
              "      <td>9487</td>\n",
              "      <td>26182</td>\n",
              "      <td>5.775705</td>\n",
              "      <td>15.939656</td>\n",
              "    </tr>\n",
              "    <tr>\n",
              "      <th>2</th>\n",
              "      <td>중구</td>\n",
              "      <td>134593</td>\n",
              "      <td>125709</td>\n",
              "      <td>8884</td>\n",
              "      <td>21384</td>\n",
              "      <td>6.600640</td>\n",
              "      <td>15.887899</td>\n",
              "    </tr>\n",
              "    <tr>\n",
              "      <th>3</th>\n",
              "      <td>용산구</td>\n",
              "      <td>244444</td>\n",
              "      <td>229161</td>\n",
              "      <td>15283</td>\n",
              "      <td>36882</td>\n",
              "      <td>6.252148</td>\n",
              "      <td>15.088118</td>\n",
              "    </tr>\n",
              "    <tr>\n",
              "      <th>4</th>\n",
              "      <td>성동구</td>\n",
              "      <td>312711</td>\n",
              "      <td>304808</td>\n",
              "      <td>7903</td>\n",
              "      <td>41273</td>\n",
              "      <td>2.527254</td>\n",
              "      <td>13.198448</td>\n",
              "    </tr>\n",
              "    <tr>\n",
              "      <th>5</th>\n",
              "      <td>광진구</td>\n",
              "      <td>372298</td>\n",
              "      <td>357703</td>\n",
              "      <td>14595</td>\n",
              "      <td>43953</td>\n",
              "      <td>3.920247</td>\n",
              "      <td>11.805865</td>\n",
              "    </tr>\n",
              "  </tbody>\n",
              "</table>\n",
              "</div>"
            ],
            "text/plain": [
              "    구별     인구수     한국인    외국인    고령자     외국인비율      고령자비율\n",
              "1  종로구  164257  154770   9487  26182  5.775705  15.939656\n",
              "2   중구  134593  125709   8884  21384  6.600640  15.887899\n",
              "3  용산구  244444  229161  15283  36882  6.252148  15.088118\n",
              "4  성동구  312711  304808   7903  41273  2.527254  13.198448\n",
              "5  광진구  372298  357703  14595  43953  3.920247  11.805865"
            ]
          },
          "execution_count": 146,
          "metadata": {},
          "output_type": "execute_result"
        }
      ],
      "source": [
        "pop_Seoul[\"외국인비율\"]=pop_Seoul[\"외국인\"]/pop_Seoul[\"인구수\"] * 100\n",
        "pop_Seoul[\"고령자비율\"]=pop_Seoul[\"고령자\"]/pop_Seoul[\"인구수\"] * 100\n",
        "pop_Seoul.head()"
      ]
    },
    {
      "cell_type": "code",
      "execution_count": null,
      "id": "9f3e1870",
      "metadata": {
        "id": "9f3e1870",
        "outputId": "99dd4f1c-5f78-425c-948d-e105b9d488dd"
      },
      "outputs": [
        {
          "data": {
            "text/html": [
              "<div>\n",
              "<style scoped>\n",
              "    .dataframe tbody tr th:only-of-type {\n",
              "        vertical-align: middle;\n",
              "    }\n",
              "\n",
              "    .dataframe tbody tr th {\n",
              "        vertical-align: top;\n",
              "    }\n",
              "\n",
              "    .dataframe thead th {\n",
              "        text-align: right;\n",
              "    }\n",
              "</style>\n",
              "<table border=\"1\" class=\"dataframe\">\n",
              "  <thead>\n",
              "    <tr style=\"text-align: right;\">\n",
              "      <th></th>\n",
              "      <th>구별</th>\n",
              "      <th>인구수</th>\n",
              "      <th>한국인</th>\n",
              "      <th>외국인</th>\n",
              "      <th>고령자</th>\n",
              "      <th>외국인비율</th>\n",
              "      <th>고령자비율</th>\n",
              "    </tr>\n",
              "  </thead>\n",
              "  <tbody>\n",
              "    <tr>\n",
              "      <th>24</th>\n",
              "      <td>송파구</td>\n",
              "      <td>671173</td>\n",
              "      <td>664496</td>\n",
              "      <td>6677</td>\n",
              "      <td>76582</td>\n",
              "      <td>0.994825</td>\n",
              "      <td>11.410173</td>\n",
              "    </tr>\n",
              "    <tr>\n",
              "      <th>16</th>\n",
              "      <td>강서구</td>\n",
              "      <td>608255</td>\n",
              "      <td>601691</td>\n",
              "      <td>6564</td>\n",
              "      <td>76032</td>\n",
              "      <td>1.079153</td>\n",
              "      <td>12.500021</td>\n",
              "    </tr>\n",
              "    <tr>\n",
              "      <th>23</th>\n",
              "      <td>강남구</td>\n",
              "      <td>561052</td>\n",
              "      <td>556164</td>\n",
              "      <td>4888</td>\n",
              "      <td>65060</td>\n",
              "      <td>0.871220</td>\n",
              "      <td>11.596073</td>\n",
              "    </tr>\n",
              "    <tr>\n",
              "      <th>11</th>\n",
              "      <td>노원구</td>\n",
              "      <td>558075</td>\n",
              "      <td>554403</td>\n",
              "      <td>3672</td>\n",
              "      <td>74243</td>\n",
              "      <td>0.657976</td>\n",
              "      <td>13.303409</td>\n",
              "    </tr>\n",
              "    <tr>\n",
              "      <th>21</th>\n",
              "      <td>관악구</td>\n",
              "      <td>520929</td>\n",
              "      <td>503297</td>\n",
              "      <td>17632</td>\n",
              "      <td>70046</td>\n",
              "      <td>3.384722</td>\n",
              "      <td>13.446362</td>\n",
              "    </tr>\n",
              "  </tbody>\n",
              "</table>\n",
              "</div>"
            ],
            "text/plain": [
              "     구별     인구수     한국인    외국인    고령자     외국인비율      고령자비율\n",
              "24  송파구  671173  664496   6677  76582  0.994825  11.410173\n",
              "16  강서구  608255  601691   6564  76032  1.079153  12.500021\n",
              "23  강남구  561052  556164   4888  65060  0.871220  11.596073\n",
              "11  노원구  558075  554403   3672  74243  0.657976  13.303409\n",
              "21  관악구  520929  503297  17632  70046  3.384722  13.446362"
            ]
          },
          "execution_count": 147,
          "metadata": {},
          "output_type": "execute_result"
        }
      ],
      "source": [
        "pop_Seoul.sort_values(by=\"인구수\",ascending=False).head()"
      ]
    },
    {
      "cell_type": "code",
      "execution_count": null,
      "id": "7848e2f0",
      "metadata": {
        "id": "7848e2f0",
        "outputId": "79dd13c1-ee85-4fb9-ec81-24e59f234e53"
      },
      "outputs": [
        {
          "data": {
            "text/html": [
              "<div>\n",
              "<style scoped>\n",
              "    .dataframe tbody tr th:only-of-type {\n",
              "        vertical-align: middle;\n",
              "    }\n",
              "\n",
              "    .dataframe tbody tr th {\n",
              "        vertical-align: top;\n",
              "    }\n",
              "\n",
              "    .dataframe thead th {\n",
              "        text-align: right;\n",
              "    }\n",
              "</style>\n",
              "<table border=\"1\" class=\"dataframe\">\n",
              "  <thead>\n",
              "    <tr style=\"text-align: right;\">\n",
              "      <th></th>\n",
              "      <th>구별</th>\n",
              "      <th>인구수</th>\n",
              "      <th>한국인</th>\n",
              "      <th>외국인</th>\n",
              "      <th>고령자</th>\n",
              "      <th>외국인비율</th>\n",
              "      <th>고령자비율</th>\n",
              "    </tr>\n",
              "  </thead>\n",
              "  <tbody>\n",
              "    <tr>\n",
              "      <th>19</th>\n",
              "      <td>영등포구</td>\n",
              "      <td>402024</td>\n",
              "      <td>368550</td>\n",
              "      <td>33474</td>\n",
              "      <td>53981</td>\n",
              "      <td>8.326369</td>\n",
              "      <td>13.427308</td>\n",
              "    </tr>\n",
              "    <tr>\n",
              "      <th>18</th>\n",
              "      <td>금천구</td>\n",
              "      <td>253491</td>\n",
              "      <td>235154</td>\n",
              "      <td>18337</td>\n",
              "      <td>34170</td>\n",
              "      <td>7.233787</td>\n",
              "      <td>13.479769</td>\n",
              "    </tr>\n",
              "    <tr>\n",
              "      <th>17</th>\n",
              "      <td>구로구</td>\n",
              "      <td>441559</td>\n",
              "      <td>410742</td>\n",
              "      <td>30817</td>\n",
              "      <td>58794</td>\n",
              "      <td>6.979135</td>\n",
              "      <td>13.315095</td>\n",
              "    </tr>\n",
              "    <tr>\n",
              "      <th>2</th>\n",
              "      <td>중구</td>\n",
              "      <td>134593</td>\n",
              "      <td>125709</td>\n",
              "      <td>8884</td>\n",
              "      <td>21384</td>\n",
              "      <td>6.600640</td>\n",
              "      <td>15.887899</td>\n",
              "    </tr>\n",
              "    <tr>\n",
              "      <th>3</th>\n",
              "      <td>용산구</td>\n",
              "      <td>244444</td>\n",
              "      <td>229161</td>\n",
              "      <td>15283</td>\n",
              "      <td>36882</td>\n",
              "      <td>6.252148</td>\n",
              "      <td>15.088118</td>\n",
              "    </tr>\n",
              "  </tbody>\n",
              "</table>\n",
              "</div>"
            ],
            "text/plain": [
              "      구별     인구수     한국인    외국인    고령자     외국인비율      고령자비율\n",
              "19  영등포구  402024  368550  33474  53981  8.326369  13.427308\n",
              "18   금천구  253491  235154  18337  34170  7.233787  13.479769\n",
              "17   구로구  441559  410742  30817  58794  6.979135  13.315095\n",
              "2     중구  134593  125709   8884  21384  6.600640  15.887899\n",
              "3    용산구  244444  229161  15283  36882  6.252148  15.088118"
            ]
          },
          "execution_count": 148,
          "metadata": {},
          "output_type": "execute_result"
        }
      ],
      "source": [
        "pop_Seoul.sort_values(by=\"외국인비율\",ascending=False).head()"
      ]
    },
    {
      "cell_type": "code",
      "execution_count": null,
      "id": "0667e618",
      "metadata": {
        "id": "0667e618",
        "outputId": "20ae329b-25e8-41b4-ae74-53f141b9059e"
      },
      "outputs": [
        {
          "data": {
            "text/html": [
              "<div>\n",
              "<style scoped>\n",
              "    .dataframe tbody tr th:only-of-type {\n",
              "        vertical-align: middle;\n",
              "    }\n",
              "\n",
              "    .dataframe tbody tr th {\n",
              "        vertical-align: top;\n",
              "    }\n",
              "\n",
              "    .dataframe thead th {\n",
              "        text-align: right;\n",
              "    }\n",
              "</style>\n",
              "<table border=\"1\" class=\"dataframe\">\n",
              "  <thead>\n",
              "    <tr style=\"text-align: right;\">\n",
              "      <th></th>\n",
              "      <th>구별</th>\n",
              "      <th>인구수</th>\n",
              "      <th>한국인</th>\n",
              "      <th>외국인</th>\n",
              "      <th>고령자</th>\n",
              "      <th>외국인비율</th>\n",
              "      <th>고령자비율</th>\n",
              "    </tr>\n",
              "  </thead>\n",
              "  <tbody>\n",
              "    <tr>\n",
              "      <th>9</th>\n",
              "      <td>강북구</td>\n",
              "      <td>328002</td>\n",
              "      <td>324479</td>\n",
              "      <td>3523</td>\n",
              "      <td>56530</td>\n",
              "      <td>1.074079</td>\n",
              "      <td>17.234651</td>\n",
              "    </tr>\n",
              "    <tr>\n",
              "      <th>1</th>\n",
              "      <td>종로구</td>\n",
              "      <td>164257</td>\n",
              "      <td>154770</td>\n",
              "      <td>9487</td>\n",
              "      <td>26182</td>\n",
              "      <td>5.775705</td>\n",
              "      <td>15.939656</td>\n",
              "    </tr>\n",
              "    <tr>\n",
              "      <th>2</th>\n",
              "      <td>중구</td>\n",
              "      <td>134593</td>\n",
              "      <td>125709</td>\n",
              "      <td>8884</td>\n",
              "      <td>21384</td>\n",
              "      <td>6.600640</td>\n",
              "      <td>15.887899</td>\n",
              "    </tr>\n",
              "    <tr>\n",
              "      <th>10</th>\n",
              "      <td>도봉구</td>\n",
              "      <td>346234</td>\n",
              "      <td>344166</td>\n",
              "      <td>2068</td>\n",
              "      <td>53488</td>\n",
              "      <td>0.597284</td>\n",
              "      <td>15.448512</td>\n",
              "    </tr>\n",
              "    <tr>\n",
              "      <th>6</th>\n",
              "      <td>동대문구</td>\n",
              "      <td>366011</td>\n",
              "      <td>350647</td>\n",
              "      <td>15364</td>\n",
              "      <td>55718</td>\n",
              "      <td>4.197688</td>\n",
              "      <td>15.223040</td>\n",
              "    </tr>\n",
              "  </tbody>\n",
              "</table>\n",
              "</div>"
            ],
            "text/plain": [
              "      구별     인구수     한국인    외국인    고령자     외국인비율      고령자비율\n",
              "9    강북구  328002  324479   3523  56530  1.074079  17.234651\n",
              "1    종로구  164257  154770   9487  26182  5.775705  15.939656\n",
              "2     중구  134593  125709   8884  21384  6.600640  15.887899\n",
              "10   도봉구  346234  344166   2068  53488  0.597284  15.448512\n",
              "6   동대문구  366011  350647  15364  55718  4.197688  15.223040"
            ]
          },
          "execution_count": 149,
          "metadata": {},
          "output_type": "execute_result"
        }
      ],
      "source": [
        "pop_Seoul.sort_values(by=\"고령자비율\",ascending=False).head()"
      ]
    },
    {
      "cell_type": "code",
      "execution_count": null,
      "id": "52ac9f5a",
      "metadata": {
        "id": "52ac9f5a"
      },
      "outputs": [],
      "source": [
        "### 연동 테스트 하기"
      ]
    },
    {
      "cell_type": "code",
      "execution_count": null,
      "id": "cb8a06d1",
      "metadata": {
        "id": "cb8a06d1"
      },
      "outputs": [],
      "source": []
    },
    {
      "cell_type": "code",
      "execution_count": null,
      "id": "109a5ade",
      "metadata": {
        "id": "109a5ade"
      },
      "outputs": [],
      "source": []
    },
    {
      "cell_type": "code",
      "execution_count": null,
      "id": "4b57aef1",
      "metadata": {
        "id": "4b57aef1"
      },
      "outputs": [],
      "source": []
    },
    {
      "cell_type": "code",
      "execution_count": null,
      "id": "6a2d9776",
      "metadata": {
        "id": "6a2d9776"
      },
      "outputs": [],
      "source": []
    },
    {
      "cell_type": "code",
      "execution_count": null,
      "id": "3e12a206",
      "metadata": {
        "id": "3e12a206"
      },
      "outputs": [],
      "source": []
    },
    {
      "cell_type": "code",
      "execution_count": null,
      "id": "e2db25e7",
      "metadata": {
        "id": "e2db25e7"
      },
      "outputs": [],
      "source": []
    },
    {
      "cell_type": "code",
      "execution_count": null,
      "id": "f0ad06aa",
      "metadata": {
        "id": "f0ad06aa"
      },
      "outputs": [],
      "source": []
    }
  ],
  "metadata": {
    "kernelspec": {
      "display_name": "ds_study",
      "language": "python",
      "name": "python3"
    },
    "language_info": {
      "codemirror_mode": {
        "name": "ipython",
        "version": 3
      },
      "file_extension": ".py",
      "mimetype": "text/x-python",
      "name": "python",
      "nbconvert_exporter": "python",
      "pygments_lexer": "ipython3",
      "version": "3.8.20"
    },
    "colab": {
      "provenance": []
    }
  },
  "nbformat": 4,
  "nbformat_minor": 5
}