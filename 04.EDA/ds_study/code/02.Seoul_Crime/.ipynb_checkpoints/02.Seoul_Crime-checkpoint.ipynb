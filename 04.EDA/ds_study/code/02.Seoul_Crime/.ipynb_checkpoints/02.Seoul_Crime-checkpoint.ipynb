{
 "cells": [
  {
   "metadata": {
    "id": "9d26aebd1e6ec698"
   },
   "cell_type": "markdown",
   "source": [
    "# 프로젝트 명 : Seoul_Crime"
   ],
   "id": "9d26aebd1e6ec698"
  },
  {
   "metadata": {
    "id": "258c199d9cabacfd"
   },
   "cell_type": "markdown",
   "source": [
    "# 1. 프로젝트 개요"
   ],
   "id": "258c199d9cabacfd"
  },
  {
   "cell_type": "code",
   "source": [
    "#from google.colab import drive\n",
    "#drive.mount('/content/drive')\n",
    "\n",
    "import socket\n",
    "hostname = socket.gethostname()"
   ],
   "metadata": {
    "id": "cbULidPQqv4Z",
    "outputId": "9fb9ddb2-2146-4bb2-afb1-eb7179aa11ac",
    "colab": {
     "base_uri": "https://localhost:8080/"
    },
    "ExecuteTime": {
     "end_time": "2025-05-28T11:19:27.402580Z",
     "start_time": "2025-05-28T11:19:27.384253Z"
    }
   },
   "id": "cbULidPQqv4Z",
   "outputs": [],
   "execution_count": 9
  },
  {
   "cell_type": "markdown",
   "source": [
    "## 2. 데이터 개요\n",
    "### 1) 데이터 읽기"
   ],
   "metadata": {
    "id": "CpYzBiBjq-kE"
   },
   "id": "CpYzBiBjq-kE"
  },
  {
   "cell_type": "code",
   "source": [
    "import pandas as pd\n",
    "import numpy as np\n",
    "crime_raw_data=pd.DataFrame()\n",
    "\n",
    "if \"Dongmin\" in hostname:\n",
    "    crime_raw_data=pd.read_csv(\"../../data/02.Seoul_Crime/02. crime_in_Seoul.csv\",thousands=\",\",encoding=\"euc-kr\")\n",
    "else :\n",
    "    crime_raw_data=pd.read_csv(\"/content/drive/MyDrive/Colab Notebooks/data/02.Seoul_Crime/02. crime_in_Seoul.csv\",thousands=\",\",encoding=\"euc-kr\")\n",
    "\n",
    "crime_raw_data.head()"
   ],
   "metadata": {
    "id": "qmNYE9L7rJQT",
    "outputId": "d2502945-5ea2-4359-8d96-55278567315f",
    "colab": {
     "base_uri": "https://localhost:8080/",
     "height": 206
    },
    "ExecuteTime": {
     "end_time": "2025-05-28T11:19:29.055917Z",
     "start_time": "2025-05-28T11:19:27.471193Z"
    }
   },
   "id": "qmNYE9L7rJQT",
   "outputs": [
    {
     "data": {
      "text/plain": [
       "   구분  죄종 발생검거     건수\n",
       "0  중부  살인   발생    2.0\n",
       "1  중부  살인   검거    2.0\n",
       "2  중부  강도   발생    3.0\n",
       "3  중부  강도   검거    3.0\n",
       "4  중부  강간   발생  141.0"
      ],
      "text/html": [
       "<div>\n",
       "<style scoped>\n",
       "    .dataframe tbody tr th:only-of-type {\n",
       "        vertical-align: middle;\n",
       "    }\n",
       "\n",
       "    .dataframe tbody tr th {\n",
       "        vertical-align: top;\n",
       "    }\n",
       "\n",
       "    .dataframe thead th {\n",
       "        text-align: right;\n",
       "    }\n",
       "</style>\n",
       "<table border=\"1\" class=\"dataframe\">\n",
       "  <thead>\n",
       "    <tr style=\"text-align: right;\">\n",
       "      <th></th>\n",
       "      <th>구분</th>\n",
       "      <th>죄종</th>\n",
       "      <th>발생검거</th>\n",
       "      <th>건수</th>\n",
       "    </tr>\n",
       "  </thead>\n",
       "  <tbody>\n",
       "    <tr>\n",
       "      <th>0</th>\n",
       "      <td>중부</td>\n",
       "      <td>살인</td>\n",
       "      <td>발생</td>\n",
       "      <td>2.0</td>\n",
       "    </tr>\n",
       "    <tr>\n",
       "      <th>1</th>\n",
       "      <td>중부</td>\n",
       "      <td>살인</td>\n",
       "      <td>검거</td>\n",
       "      <td>2.0</td>\n",
       "    </tr>\n",
       "    <tr>\n",
       "      <th>2</th>\n",
       "      <td>중부</td>\n",
       "      <td>강도</td>\n",
       "      <td>발생</td>\n",
       "      <td>3.0</td>\n",
       "    </tr>\n",
       "    <tr>\n",
       "      <th>3</th>\n",
       "      <td>중부</td>\n",
       "      <td>강도</td>\n",
       "      <td>검거</td>\n",
       "      <td>3.0</td>\n",
       "    </tr>\n",
       "    <tr>\n",
       "      <th>4</th>\n",
       "      <td>중부</td>\n",
       "      <td>강간</td>\n",
       "      <td>발생</td>\n",
       "      <td>141.0</td>\n",
       "    </tr>\n",
       "  </tbody>\n",
       "</table>\n",
       "</div>"
      ]
     },
     "execution_count": 10,
     "metadata": {},
     "output_type": "execute_result"
    }
   ],
   "execution_count": 10
  },
  {
   "cell_type": "markdown",
   "source": [
    "### 2) 데이터 개요 보기\n",
    "- 문제점 :\n",
    "  - RangeIndex : 65534\n",
    "  - Not-null 데이터 : 310\n",
    "  - null 데이터가 많음"
   ],
   "metadata": {
    "id": "54enZV2xsEk7"
   },
   "id": "54enZV2xsEk7"
  },
  {
   "cell_type": "code",
   "source": [
    "crime_raw_data.info()"
   ],
   "metadata": {
    "id": "qgO2jVWysMsb",
    "outputId": "50dd58ac-b524-4ba8-e003-4b7d27f39c56",
    "colab": {
     "base_uri": "https://localhost:8080/"
    },
    "ExecuteTime": {
     "end_time": "2025-05-28T11:19:29.306377Z",
     "start_time": "2025-05-28T11:19:29.258966Z"
    }
   },
   "id": "qgO2jVWysMsb",
   "outputs": [
    {
     "name": "stdout",
     "output_type": "stream",
     "text": [
      "<class 'pandas.core.frame.DataFrame'>\n",
      "RangeIndex: 65534 entries, 0 to 65533\n",
      "Data columns (total 4 columns):\n",
      " #   Column  Non-Null Count  Dtype  \n",
      "---  ------  --------------  -----  \n",
      " 0   구분      310 non-null    object \n",
      " 1   죄종      310 non-null    object \n",
      " 2   발생검거    310 non-null    object \n",
      " 3   건수      310 non-null    float64\n",
      "dtypes: float64(1), object(3)\n",
      "memory usage: 2.0+ MB\n"
     ]
    }
   ],
   "execution_count": 11
  },
  {
   "cell_type": "markdown",
   "source": [
    "### 3) 잘못된 데이터 보기\n",
    "- 죄종에 어떤 값이 들어가있는지 보기\n",
    "- null 값에 얼마나 많은 데이터들이 있는지 보기"
   ],
   "metadata": {
    "id": "85f_FGc5sZ2V"
   },
   "id": "85f_FGc5sZ2V"
  },
  {
   "cell_type": "code",
   "source": [
    "crime_raw_data[\"죄종\"].unique()"
   ],
   "metadata": {
    "id": "-dZeVc5LslwB",
    "outputId": "41cfc0ef-9253-445e-f19e-ffefb7c9ea69",
    "colab": {
     "base_uri": "https://localhost:8080/"
    },
    "ExecuteTime": {
     "end_time": "2025-05-28T11:19:29.562301Z",
     "start_time": "2025-05-28T11:19:29.498087Z"
    }
   },
   "id": "-dZeVc5LslwB",
   "outputs": [
    {
     "data": {
      "text/plain": [
       "array(['살인', '강도', '강간', '절도', '폭력', nan], dtype=object)"
      ]
     },
     "execution_count": 12,
     "metadata": {},
     "output_type": "execute_result"
    }
   ],
   "execution_count": 12
  },
  {
   "cell_type": "markdown",
   "source": [
    "- 310번부터 65534번까지 데이터가 모두 NaN 값임"
   ],
   "metadata": {
    "id": "2FOyVAwytVtn"
   },
   "id": "2FOyVAwytVtn"
  },
  {
   "cell_type": "code",
   "source": [
    "crime_raw_data[crime_raw_data[\"죄종\"].isnull()]"
   ],
   "metadata": {
    "id": "axJHjsResvgW",
    "outputId": "e2e0ee66-87cc-43a2-8ae2-c804691975e4",
    "colab": {
     "base_uri": "https://localhost:8080/",
     "height": 423
    },
    "ExecuteTime": {
     "end_time": "2025-05-28T11:19:29.867093Z",
     "start_time": "2025-05-28T11:19:29.829605Z"
    }
   },
   "id": "axJHjsResvgW",
   "outputs": [
    {
     "data": {
      "text/plain": [
       "        구분   죄종 발생검거  건수\n",
       "310    NaN  NaN  NaN NaN\n",
       "311    NaN  NaN  NaN NaN\n",
       "312    NaN  NaN  NaN NaN\n",
       "313    NaN  NaN  NaN NaN\n",
       "314    NaN  NaN  NaN NaN\n",
       "...    ...  ...  ...  ..\n",
       "65529  NaN  NaN  NaN NaN\n",
       "65530  NaN  NaN  NaN NaN\n",
       "65531  NaN  NaN  NaN NaN\n",
       "65532  NaN  NaN  NaN NaN\n",
       "65533  NaN  NaN  NaN NaN\n",
       "\n",
       "[65224 rows x 4 columns]"
      ],
      "text/html": [
       "<div>\n",
       "<style scoped>\n",
       "    .dataframe tbody tr th:only-of-type {\n",
       "        vertical-align: middle;\n",
       "    }\n",
       "\n",
       "    .dataframe tbody tr th {\n",
       "        vertical-align: top;\n",
       "    }\n",
       "\n",
       "    .dataframe thead th {\n",
       "        text-align: right;\n",
       "    }\n",
       "</style>\n",
       "<table border=\"1\" class=\"dataframe\">\n",
       "  <thead>\n",
       "    <tr style=\"text-align: right;\">\n",
       "      <th></th>\n",
       "      <th>구분</th>\n",
       "      <th>죄종</th>\n",
       "      <th>발생검거</th>\n",
       "      <th>건수</th>\n",
       "    </tr>\n",
       "  </thead>\n",
       "  <tbody>\n",
       "    <tr>\n",
       "      <th>310</th>\n",
       "      <td>NaN</td>\n",
       "      <td>NaN</td>\n",
       "      <td>NaN</td>\n",
       "      <td>NaN</td>\n",
       "    </tr>\n",
       "    <tr>\n",
       "      <th>311</th>\n",
       "      <td>NaN</td>\n",
       "      <td>NaN</td>\n",
       "      <td>NaN</td>\n",
       "      <td>NaN</td>\n",
       "    </tr>\n",
       "    <tr>\n",
       "      <th>312</th>\n",
       "      <td>NaN</td>\n",
       "      <td>NaN</td>\n",
       "      <td>NaN</td>\n",
       "      <td>NaN</td>\n",
       "    </tr>\n",
       "    <tr>\n",
       "      <th>313</th>\n",
       "      <td>NaN</td>\n",
       "      <td>NaN</td>\n",
       "      <td>NaN</td>\n",
       "      <td>NaN</td>\n",
       "    </tr>\n",
       "    <tr>\n",
       "      <th>314</th>\n",
       "      <td>NaN</td>\n",
       "      <td>NaN</td>\n",
       "      <td>NaN</td>\n",
       "      <td>NaN</td>\n",
       "    </tr>\n",
       "    <tr>\n",
       "      <th>...</th>\n",
       "      <td>...</td>\n",
       "      <td>...</td>\n",
       "      <td>...</td>\n",
       "      <td>...</td>\n",
       "    </tr>\n",
       "    <tr>\n",
       "      <th>65529</th>\n",
       "      <td>NaN</td>\n",
       "      <td>NaN</td>\n",
       "      <td>NaN</td>\n",
       "      <td>NaN</td>\n",
       "    </tr>\n",
       "    <tr>\n",
       "      <th>65530</th>\n",
       "      <td>NaN</td>\n",
       "      <td>NaN</td>\n",
       "      <td>NaN</td>\n",
       "      <td>NaN</td>\n",
       "    </tr>\n",
       "    <tr>\n",
       "      <th>65531</th>\n",
       "      <td>NaN</td>\n",
       "      <td>NaN</td>\n",
       "      <td>NaN</td>\n",
       "      <td>NaN</td>\n",
       "    </tr>\n",
       "    <tr>\n",
       "      <th>65532</th>\n",
       "      <td>NaN</td>\n",
       "      <td>NaN</td>\n",
       "      <td>NaN</td>\n",
       "      <td>NaN</td>\n",
       "    </tr>\n",
       "    <tr>\n",
       "      <th>65533</th>\n",
       "      <td>NaN</td>\n",
       "      <td>NaN</td>\n",
       "      <td>NaN</td>\n",
       "      <td>NaN</td>\n",
       "    </tr>\n",
       "  </tbody>\n",
       "</table>\n",
       "<p>65224 rows × 4 columns</p>\n",
       "</div>"
      ]
     },
     "execution_count": 13,
     "metadata": {},
     "output_type": "execute_result"
    }
   ],
   "execution_count": 13
  },
  {
   "cell_type": "code",
   "source": [
    "crime_raw_data=crime_raw_data[crime_raw_data[\"죄종\"].notnull()]"
   ],
   "metadata": {
    "id": "_GG9ryi2teAH",
    "ExecuteTime": {
     "end_time": "2025-05-28T11:19:30.100565Z",
     "start_time": "2025-05-28T11:19:30.077104Z"
    }
   },
   "id": "_GG9ryi2teAH",
   "outputs": [],
   "execution_count": 14
  },
  {
   "cell_type": "markdown",
   "source": [
    "- 새로운 로우 데이터를 보면 정상적으로 보임\n",
    "  - integer로 보임"
   ],
   "metadata": {
    "id": "6I6vxfz7tr7v"
   },
   "id": "6I6vxfz7tr7v"
  },
  {
   "cell_type": "code",
   "source": [
    "crime_raw_data.info()"
   ],
   "metadata": {
    "id": "MMZiz9QPt1j2",
    "outputId": "2f3f687e-aa56-41aa-bfe3-ee2f6e401f58",
    "colab": {
     "base_uri": "https://localhost:8080/"
    },
    "ExecuteTime": {
     "end_time": "2025-05-28T11:19:30.332168Z",
     "start_time": "2025-05-28T11:19:30.310275Z"
    }
   },
   "id": "MMZiz9QPt1j2",
   "outputs": [
    {
     "name": "stdout",
     "output_type": "stream",
     "text": [
      "<class 'pandas.core.frame.DataFrame'>\n",
      "Index: 310 entries, 0 to 309\n",
      "Data columns (total 4 columns):\n",
      " #   Column  Non-Null Count  Dtype  \n",
      "---  ------  --------------  -----  \n",
      " 0   구분      310 non-null    object \n",
      " 1   죄종      310 non-null    object \n",
      " 2   발생검거    310 non-null    object \n",
      " 3   건수      310 non-null    float64\n",
      "dtypes: float64(1), object(3)\n",
      "memory usage: 12.1+ KB\n"
     ]
    }
   ],
   "execution_count": 15
  },
  {
   "cell_type": "markdown",
   "source": [
    "----\n",
    "#3. Pandas Pivot table\n",
    "- index, coloumn, values, aggfunc로 사용 함"
   ],
   "metadata": {
    "id": "egAyWBt5vT2w"
   },
   "id": "egAyWBt5vT2w"
  },
  {
   "cell_type": "code",
   "source": [
    "df = pd.DataFrame()\n",
    "df=pd.read_excel(\"../../data/02.Seoul_Crime/02. sales-funnel.xlsx\", engine=\"openpyxl\")\n",
    "if \"Dongmin\" in hostname:\n",
    "    pass\n",
    "    #df=pd.read_excel(\"../../data/02.Seoul_Crime/02. sales-funnel.xlsx\", engine=\"openpyxl\")\n",
    "else :\n",
    "    df=pd.read_excel(\"/content/drive/MyDrive/Colab Notebooks/data/02.Seoul_Crime/02. sales-funnel.xlsx\")\n",
    "\n",
    "df.head()"
   ],
   "metadata": {
    "id": "GIUeYIYNvewc",
    "outputId": "c540abfd-f76b-4dc3-ba80-924fcebb9656",
    "colab": {
     "base_uri": "https://localhost:8080/",
     "height": 347
    },
    "ExecuteTime": {
     "end_time": "2025-05-28T11:20:45.051059Z",
     "start_time": "2025-05-28T11:20:44.881818Z"
    }
   },
   "id": "GIUeYIYNvewc",
   "outputs": [
    {
     "ename": "ImportError",
     "evalue": "Missing optional dependency 'openpyxl'.  Use pip or conda to install openpyxl.",
     "output_type": "error",
     "traceback": [
      "\u001B[1;31m---------------------------------------------------------------------------\u001B[0m",
      "\u001B[1;31mModuleNotFoundError\u001B[0m                       Traceback (most recent call last)",
      "File \u001B[1;32mC:\\ProgramData\\miniconda3\\envs\\ds_study\\lib\\site-packages\\pandas\\compat\\_optional.py:142\u001B[0m, in \u001B[0;36mimport_optional_dependency\u001B[1;34m(name, extra, errors, min_version)\u001B[0m\n\u001B[0;32m    141\u001B[0m \u001B[38;5;28;01mtry\u001B[39;00m:\n\u001B[1;32m--> 142\u001B[0m     module \u001B[38;5;241m=\u001B[39m \u001B[43mimportlib\u001B[49m\u001B[38;5;241;43m.\u001B[39;49m\u001B[43mimport_module\u001B[49m\u001B[43m(\u001B[49m\u001B[43mname\u001B[49m\u001B[43m)\u001B[49m\n\u001B[0;32m    143\u001B[0m \u001B[38;5;28;01mexcept\u001B[39;00m \u001B[38;5;167;01mImportError\u001B[39;00m:\n",
      "File \u001B[1;32mC:\\ProgramData\\miniconda3\\envs\\ds_study\\lib\\importlib\\__init__.py:127\u001B[0m, in \u001B[0;36mimport_module\u001B[1;34m(name, package)\u001B[0m\n\u001B[0;32m    126\u001B[0m         level \u001B[38;5;241m+\u001B[39m\u001B[38;5;241m=\u001B[39m \u001B[38;5;241m1\u001B[39m\n\u001B[1;32m--> 127\u001B[0m \u001B[38;5;28;01mreturn\u001B[39;00m \u001B[43m_bootstrap\u001B[49m\u001B[38;5;241;43m.\u001B[39;49m\u001B[43m_gcd_import\u001B[49m\u001B[43m(\u001B[49m\u001B[43mname\u001B[49m\u001B[43m[\u001B[49m\u001B[43mlevel\u001B[49m\u001B[43m:\u001B[49m\u001B[43m]\u001B[49m\u001B[43m,\u001B[49m\u001B[43m \u001B[49m\u001B[43mpackage\u001B[49m\u001B[43m,\u001B[49m\u001B[43m \u001B[49m\u001B[43mlevel\u001B[49m\u001B[43m)\u001B[49m\n",
      "File \u001B[1;32m<frozen importlib._bootstrap>:1014\u001B[0m, in \u001B[0;36m_gcd_import\u001B[1;34m(name, package, level)\u001B[0m\n",
      "File \u001B[1;32m<frozen importlib._bootstrap>:991\u001B[0m, in \u001B[0;36m_find_and_load\u001B[1;34m(name, import_)\u001B[0m\n",
      "File \u001B[1;32m<frozen importlib._bootstrap>:973\u001B[0m, in \u001B[0;36m_find_and_load_unlocked\u001B[1;34m(name, import_)\u001B[0m\n",
      "\u001B[1;31mModuleNotFoundError\u001B[0m: No module named 'openpyxl'",
      "\nDuring handling of the above exception, another exception occurred:\n",
      "\u001B[1;31mImportError\u001B[0m                               Traceback (most recent call last)",
      "Cell \u001B[1;32mIn[20], line 2\u001B[0m\n\u001B[0;32m      1\u001B[0m df \u001B[38;5;241m=\u001B[39m pd\u001B[38;5;241m.\u001B[39mDataFrame()\n\u001B[1;32m----> 2\u001B[0m df\u001B[38;5;241m=\u001B[39m\u001B[43mpd\u001B[49m\u001B[38;5;241;43m.\u001B[39;49m\u001B[43mread_excel\u001B[49m\u001B[43m(\u001B[49m\u001B[38;5;124;43m\"\u001B[39;49m\u001B[38;5;124;43m../../data/02.Seoul_Crime/02. sales-funnel.xlsx\u001B[39;49m\u001B[38;5;124;43m\"\u001B[39;49m\u001B[43m,\u001B[49m\u001B[43m \u001B[49m\u001B[43mengine\u001B[49m\u001B[38;5;241;43m=\u001B[39;49m\u001B[38;5;124;43m\"\u001B[39;49m\u001B[38;5;124;43mopenpyxl\u001B[39;49m\u001B[38;5;124;43m\"\u001B[39;49m\u001B[43m)\u001B[49m\n\u001B[0;32m      3\u001B[0m \u001B[38;5;28;01mif\u001B[39;00m \u001B[38;5;124m\"\u001B[39m\u001B[38;5;124mDongmin\u001B[39m\u001B[38;5;124m\"\u001B[39m \u001B[38;5;129;01min\u001B[39;00m hostname:\n\u001B[0;32m      4\u001B[0m     \u001B[38;5;28;01mpass\u001B[39;00m\n",
      "File \u001B[1;32mC:\\ProgramData\\miniconda3\\envs\\ds_study\\lib\\site-packages\\pandas\\io\\excel\\_base.py:478\u001B[0m, in \u001B[0;36mread_excel\u001B[1;34m(io, sheet_name, header, names, index_col, usecols, dtype, engine, converters, true_values, false_values, skiprows, nrows, na_values, keep_default_na, na_filter, verbose, parse_dates, date_parser, date_format, thousands, decimal, comment, skipfooter, storage_options, dtype_backend)\u001B[0m\n\u001B[0;32m    476\u001B[0m \u001B[38;5;28;01mif\u001B[39;00m \u001B[38;5;129;01mnot\u001B[39;00m \u001B[38;5;28misinstance\u001B[39m(io, ExcelFile):\n\u001B[0;32m    477\u001B[0m     should_close \u001B[38;5;241m=\u001B[39m \u001B[38;5;28;01mTrue\u001B[39;00m\n\u001B[1;32m--> 478\u001B[0m     io \u001B[38;5;241m=\u001B[39m \u001B[43mExcelFile\u001B[49m\u001B[43m(\u001B[49m\u001B[43mio\u001B[49m\u001B[43m,\u001B[49m\u001B[43m \u001B[49m\u001B[43mstorage_options\u001B[49m\u001B[38;5;241;43m=\u001B[39;49m\u001B[43mstorage_options\u001B[49m\u001B[43m,\u001B[49m\u001B[43m \u001B[49m\u001B[43mengine\u001B[49m\u001B[38;5;241;43m=\u001B[39;49m\u001B[43mengine\u001B[49m\u001B[43m)\u001B[49m\n\u001B[0;32m    479\u001B[0m \u001B[38;5;28;01melif\u001B[39;00m engine \u001B[38;5;129;01mand\u001B[39;00m engine \u001B[38;5;241m!=\u001B[39m io\u001B[38;5;241m.\u001B[39mengine:\n\u001B[0;32m    480\u001B[0m     \u001B[38;5;28;01mraise\u001B[39;00m \u001B[38;5;167;01mValueError\u001B[39;00m(\n\u001B[0;32m    481\u001B[0m         \u001B[38;5;124m\"\u001B[39m\u001B[38;5;124mEngine should not be specified when passing \u001B[39m\u001B[38;5;124m\"\u001B[39m\n\u001B[0;32m    482\u001B[0m         \u001B[38;5;124m\"\u001B[39m\u001B[38;5;124man ExcelFile - ExcelFile already has the engine set\u001B[39m\u001B[38;5;124m\"\u001B[39m\n\u001B[0;32m    483\u001B[0m     )\n",
      "File \u001B[1;32mC:\\ProgramData\\miniconda3\\envs\\ds_study\\lib\\site-packages\\pandas\\io\\excel\\_base.py:1513\u001B[0m, in \u001B[0;36mExcelFile.__init__\u001B[1;34m(self, path_or_buffer, engine, storage_options)\u001B[0m\n\u001B[0;32m   1510\u001B[0m \u001B[38;5;28mself\u001B[39m\u001B[38;5;241m.\u001B[39mengine \u001B[38;5;241m=\u001B[39m engine\n\u001B[0;32m   1511\u001B[0m \u001B[38;5;28mself\u001B[39m\u001B[38;5;241m.\u001B[39mstorage_options \u001B[38;5;241m=\u001B[39m storage_options\n\u001B[1;32m-> 1513\u001B[0m \u001B[38;5;28mself\u001B[39m\u001B[38;5;241m.\u001B[39m_reader \u001B[38;5;241m=\u001B[39m \u001B[38;5;28;43mself\u001B[39;49m\u001B[38;5;241;43m.\u001B[39;49m\u001B[43m_engines\u001B[49m\u001B[43m[\u001B[49m\u001B[43mengine\u001B[49m\u001B[43m]\u001B[49m\u001B[43m(\u001B[49m\u001B[38;5;28;43mself\u001B[39;49m\u001B[38;5;241;43m.\u001B[39;49m\u001B[43m_io\u001B[49m\u001B[43m,\u001B[49m\u001B[43m \u001B[49m\u001B[43mstorage_options\u001B[49m\u001B[38;5;241;43m=\u001B[39;49m\u001B[43mstorage_options\u001B[49m\u001B[43m)\u001B[49m\n",
      "File \u001B[1;32mC:\\ProgramData\\miniconda3\\envs\\ds_study\\lib\\site-packages\\pandas\\io\\excel\\_openpyxl.py:548\u001B[0m, in \u001B[0;36mOpenpyxlReader.__init__\u001B[1;34m(self, filepath_or_buffer, storage_options)\u001B[0m\n\u001B[0;32m    533\u001B[0m \u001B[38;5;129m@doc\u001B[39m(storage_options\u001B[38;5;241m=\u001B[39m_shared_docs[\u001B[38;5;124m\"\u001B[39m\u001B[38;5;124mstorage_options\u001B[39m\u001B[38;5;124m\"\u001B[39m])\n\u001B[0;32m    534\u001B[0m \u001B[38;5;28;01mdef\u001B[39;00m \u001B[38;5;21m__init__\u001B[39m(\n\u001B[0;32m    535\u001B[0m     \u001B[38;5;28mself\u001B[39m,\n\u001B[0;32m    536\u001B[0m     filepath_or_buffer: FilePath \u001B[38;5;241m|\u001B[39m ReadBuffer[\u001B[38;5;28mbytes\u001B[39m],\n\u001B[0;32m    537\u001B[0m     storage_options: StorageOptions \u001B[38;5;241m=\u001B[39m \u001B[38;5;28;01mNone\u001B[39;00m,\n\u001B[0;32m    538\u001B[0m ) \u001B[38;5;241m-\u001B[39m\u001B[38;5;241m>\u001B[39m \u001B[38;5;28;01mNone\u001B[39;00m:\n\u001B[0;32m    539\u001B[0m \u001B[38;5;250m    \u001B[39m\u001B[38;5;124;03m\"\"\"\u001B[39;00m\n\u001B[0;32m    540\u001B[0m \u001B[38;5;124;03m    Reader using openpyxl engine.\u001B[39;00m\n\u001B[0;32m    541\u001B[0m \n\u001B[1;32m   (...)\u001B[0m\n\u001B[0;32m    546\u001B[0m \u001B[38;5;124;03m    {storage_options}\u001B[39;00m\n\u001B[0;32m    547\u001B[0m \u001B[38;5;124;03m    \"\"\"\u001B[39;00m\n\u001B[1;32m--> 548\u001B[0m     \u001B[43mimport_optional_dependency\u001B[49m\u001B[43m(\u001B[49m\u001B[38;5;124;43m\"\u001B[39;49m\u001B[38;5;124;43mopenpyxl\u001B[39;49m\u001B[38;5;124;43m\"\u001B[39;49m\u001B[43m)\u001B[49m\n\u001B[0;32m    549\u001B[0m     \u001B[38;5;28msuper\u001B[39m()\u001B[38;5;241m.\u001B[39m\u001B[38;5;21m__init__\u001B[39m(filepath_or_buffer, storage_options\u001B[38;5;241m=\u001B[39mstorage_options)\n",
      "File \u001B[1;32mC:\\ProgramData\\miniconda3\\envs\\ds_study\\lib\\site-packages\\pandas\\compat\\_optional.py:145\u001B[0m, in \u001B[0;36mimport_optional_dependency\u001B[1;34m(name, extra, errors, min_version)\u001B[0m\n\u001B[0;32m    143\u001B[0m \u001B[38;5;28;01mexcept\u001B[39;00m \u001B[38;5;167;01mImportError\u001B[39;00m:\n\u001B[0;32m    144\u001B[0m     \u001B[38;5;28;01mif\u001B[39;00m errors \u001B[38;5;241m==\u001B[39m \u001B[38;5;124m\"\u001B[39m\u001B[38;5;124mraise\u001B[39m\u001B[38;5;124m\"\u001B[39m:\n\u001B[1;32m--> 145\u001B[0m         \u001B[38;5;28;01mraise\u001B[39;00m \u001B[38;5;167;01mImportError\u001B[39;00m(msg)\n\u001B[0;32m    146\u001B[0m     \u001B[38;5;28;01mreturn\u001B[39;00m \u001B[38;5;28;01mNone\u001B[39;00m\n\u001B[0;32m    148\u001B[0m \u001B[38;5;66;03m# Handle submodules: if we have submodule, grab parent module from sys.modules\u001B[39;00m\n",
      "\u001B[1;31mImportError\u001B[0m: Missing optional dependency 'openpyxl'.  Use pip or conda to install openpyxl."
     ]
    }
   ],
   "execution_count": 20
  },
  {
   "metadata": {
    "ExecuteTime": {
     "end_time": "2025-05-28T11:21:05.083123Z",
     "start_time": "2025-05-28T11:20:56.747689Z"
    }
   },
   "cell_type": "code",
   "source": "!conda install -y openpyxl",
   "id": "6015d3e3d80e42c3",
   "outputs": [
    {
     "name": "stdout",
     "output_type": "stream",
     "text": [
      "Channels:\n",
      " - defaults\n",
      "Platform: win-64\n",
      "Collecting package metadata (repodata.json): done\n",
      "Solving environment: done\n",
      "\n",
      "## Package Plan ##\n",
      "\n",
      "  environment location: C:\\ProgramData\\miniconda3\\envs\\ds_study\n",
      "\n",
      "  added / updated specs:\n",
      "    - openpyxl\n",
      "\n",
      "\n",
      "The following NEW packages will be INSTALLED:\n",
      "\n",
      "  et_xmlfile         pkgs/main/win-64::et_xmlfile-1.1.0-py38haa95532_0 \n",
      "  openpyxl           pkgs/main/win-64::openpyxl-3.1.5-py38h827c3e9_0 \n",
      "\n",
      "\n",
      "\n",
      "Downloading and Extracting Packages: ...working... done\n",
      "Preparing transaction: done\n",
      "Verifying transaction: failed\n"
     ]
    },
    {
     "name": "stderr",
     "output_type": "stream",
     "text": [
      "\n",
      "\n",
      "==> WARNING: A newer version of conda exists. <==\n",
      "    current version: 25.3.1\n",
      "    latest version: 25.5.0\n",
      "\n",
      "Please update conda by running\n",
      "\n",
      "    $ conda update -n base -c defaults conda\n",
      "\n",
      "\n",
      "\n",
      "EnvironmentNotWritableError: The current user does not have write permissions to the target environment.\n",
      "  environment location: C:\\ProgramData\\miniconda3\\envs\\ds_study\n",
      "\n",
      "\n"
     ]
    }
   ],
   "execution_count": 21
  }
 ],
 "metadata": {
  "kernelspec": {
   "display_name": "Python 3",
   "language": "python",
   "name": "python3"
  },
  "language_info": {
   "codemirror_mode": {
    "name": "ipython",
    "version": 2
   },
   "file_extension": ".py",
   "mimetype": "text/x-python",
   "name": "python",
   "nbconvert_exporter": "python",
   "pygments_lexer": "ipython2",
   "version": "2.7.6"
  },
  "colab": {
   "provenance": []
  }
 },
 "nbformat": 4,
 "nbformat_minor": 5
}
