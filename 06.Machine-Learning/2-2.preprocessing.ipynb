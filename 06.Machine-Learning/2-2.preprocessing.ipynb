{
 "cells": [
  {
   "cell_type": "markdown",
   "id": "f8cd2106",
   "metadata": {},
   "source": [
    "# 1. 데이터 전처리\n",
    "## 1) 데이터 전처리\n",
    "> 데이터 훈련 전, 데이터를 가공하는 단계 \n",
    "\n",
    "## 2) 표준 점수\n",
    "> 훈련 세트의 스케일을 바꾸는 방법 중하나, 표준화 과정을 거침 \n",
    "- 표준화 방법 : 특성 - 평균 / 표준편차 "
   ]
  },
  {
   "cell_type": "code",
   "execution_count": 15,
   "id": "f83caaa0",
   "metadata": {},
   "outputs": [],
   "source": [
    "import matplotlib.pyplot as plt\n",
    "import numpy as np\n",
    "from sklearn.neighbors import KNeighborsClassifier\n",
    "from sklearn.model_selection import train_test_split\n",
    "\n",
    "# Matplotlib의 전역 폰트 설정\n",
    "plt.rc('font', family='Pretendard')\n",
    "\n",
    "# 마이너스 부호가 깨지는 현상 방지\n",
    "plt.rc('axes', unicode_minus=False)\n"
   ]
  },
  {
   "cell_type": "markdown",
   "id": "cc9d352e",
   "metadata": {},
   "source": [
    "# 2. 데이터 선언 및 정리"
   ]
  },
  {
   "cell_type": "markdown",
   "id": "e5df627e",
   "metadata": {},
   "source": [
    "## 1) 넘파이로 데이터 준비 \n",
    "- `np.column_stack((리스트1, 리스트2))` : 리스트를 2차원 행렬로 바꿈 \n",
    "  - 단, 연결할 리스트는 `튜플`로 전달 \n",
    "\n",
    "- 물고기 분류 : 도미 35마리 + 빙어 14마리 "
   ]
  },
  {
   "cell_type": "code",
   "execution_count": 16,
   "id": "0c6c6ef7",
   "metadata": {},
   "outputs": [
    {
     "name": "stdout",
     "output_type": "stream",
     "text": [
      "[[ 25.4 242. ]\n",
      " [ 26.3 290. ]\n",
      " [ 26.5 340. ]\n",
      " [ 29.  363. ]\n",
      " [ 29.  430. ]]\n"
     ]
    }
   ],
   "source": [
    "fish_length = [25.4, 26.3, 26.5, 29.0, 29.0, 29.7, 29.7, 30.0, 30.0, 30.7, 31.0, 31.0,\n",
    "                31.5, 32.0, 32.0, 32.0, 33.0, 33.0, 33.5, 33.5, 34.0, 34.0, 34.5, 35.0,\n",
    "                35.0, 35.0, 35.0, 36.0, 36.0, 37.0, 38.5, 38.5, 39.5, 41.0, 41.0, 9.8,\n",
    "                10.5, 10.6, 11.0, 11.2, 11.3, 11.8, 11.8, 12.0, 12.2, 12.4, 13.0, 14.3, 15.0]\n",
    "fish_weight = [242.0, 290.0, 340.0, 363.0, 430.0, 450.0, 500.0, 390.0, 450.0, 500.0, 475.0, 500.0,\n",
    "                500.0, 340.0, 600.0, 600.0, 700.0, 700.0, 610.0, 650.0, 575.0, 685.0, 620.0, 680.0,\n",
    "                700.0, 725.0, 720.0, 714.0, 850.0, 1000.0, 920.0, 955.0, 925.0, 975.0, 950.0, 6.7,\n",
    "                7.5, 7.0, 9.7, 9.8, 8.7, 10.0, 9.9, 9.8, 12.2, 13.4, 12.2, 19.7, 19.9]\n",
    "\n",
    "fish_data = np.column_stack((fish_length,fish_weight))\n",
    "print(fish_data[:5])"
   ]
  },
  {
   "cell_type": "markdown",
   "id": "23a8fcd9",
   "metadata": {},
   "source": [
    "## 2) 정답 데이터 (=타겟 데이터) 만들기 \n",
    "- `np.ones()` 와 `np.zero()` 함수를 이용함 \n",
    "  - ones(n) : 1을 n개 생성\n",
    "  -  zero(n) : 0을 n개 생성\n",
    "   \n",
    "- 1이면 도미  0이면 빙어\n",
    "\n",
    "  "
   ]
  },
  {
   "cell_type": "code",
   "execution_count": 17,
   "id": "d5758c59",
   "metadata": {},
   "outputs": [
    {
     "name": "stdout",
     "output_type": "stream",
     "text": [
      "[1. 1. 1. 1. 1. 1. 1. 1. 1. 1. 1. 1. 1. 1. 1. 1. 1. 1. 1. 1. 1. 1. 1. 1.\n",
      " 1. 1. 1. 1. 1. 1. 1. 1. 1. 1. 1. 0. 0. 0. 0. 0. 0. 0. 0. 0. 0. 0. 0. 0.\n",
      " 0.]\n"
     ]
    }
   ],
   "source": [
    "fish_target = np.concatenate((np.ones(35),np.zeros(14)))\n",
    "print(fish_target)"
   ]
  },
  {
   "cell_type": "markdown",
   "id": "93b77059",
   "metadata": {},
   "source": [
    "## 3) 훈련세트와 테스트 세트 나누기 by sklearn\n",
    "- `train_test_split`: 데이터를 훈련세트와 테스트 세트로 나눔 \n",
    "- train_test_split(데이터, 타겟데이터)"
   ]
  },
  {
   "cell_type": "code",
   "execution_count": 18,
   "id": "e1e9eb44",
   "metadata": {},
   "outputs": [
    {
     "name": "stdout",
     "output_type": "stream",
     "text": [
      "input :  (36, 2) (13, 2)\n",
      "target : (36,) , (13,)\n"
     ]
    }
   ],
   "source": [
    "train_input, test_input, train_target, test_target = train_test_split(fish_data,fish_target)\n",
    "\n",
    "### 2차원 배열 \n",
    "print(\"input : \",train_input.shape, test_input.shape)\n",
    "### 1차원 배열 \n",
    "print(f\"target : {train_target.shape} , {test_target.shape}\")"
   ]
  },
  {
   "cell_type": "markdown",
   "id": "c1c7d859",
   "metadata": {},
   "source": [
    "# 3. 예측 실패 원인 찾기 \n",
    "- [25,150] 을 넣으면 어떤 값이 나올 것인가 ? \n",
    "\n",
    "## 1) 학습을 통한 예측 테스트 "
   ]
  },
  {
   "cell_type": "code",
   "execution_count": null,
   "id": "11ead8b3",
   "metadata": {},
   "outputs": [
    {
     "name": "stdout",
     "output_type": "stream",
     "text": [
      "모델 평가 결과 :  1.0\n",
      "모델 예측 결과 :  [0.]\n",
      "실제 타깃 값 : 1\n"
     ]
    }
   ],
   "source": [
    "### kn모델 객체 선언 \n",
    "kn = KNeighborsClassifier()\n",
    "### 학습 \n",
    "kn.fit(train_input,train_target)\n",
    "### 평가 \n",
    "print(\"모델 평가 결과 : \", kn.score(test_input,test_target))\n",
    "print(\"모델 예측 결과 : \",kn.predict([[25, 150]])) # type: ignore\n",
    "print(\"실제 타깃 값 : 1\")"
   ]
  },
  {
   "cell_type": "markdown",
   "id": "ee1aac73",
   "metadata": {},
   "source": [
    "## 2) 시각화를 통한 데이터 확인\n",
    "\n",
    "- 정확하지 않은 이유 \n",
    "  - k-최근접 알고리즘은 주변에 있는 `이웃`을 기준으로 함 \n",
    "  - 가장 까까운 이웃을 빙어로 판단함 "
   ]
  },
  {
   "cell_type": "code",
   "execution_count": null,
   "id": "95f9b46d",
   "metadata": {},
   "outputs": [],
   "source": [
    "### 25,150와 가까운 이웃 5개를 리스트로 받음 \n",
    "distances, indexes = kn.kneighbors([[25,150]]) # type: ignore"
   ]
  },
  {
   "cell_type": "code",
   "execution_count": 21,
   "id": "489916f2",
   "metadata": {},
   "outputs": [
    {
     "data": {
      "image/png": "[encoded data removed]",
      "text/plain": [
       "<Figure size 640x480 with 1 Axes>"
      ]
     },
     "metadata": {},
     "output_type": "display_data"
    }
   ],
   "source": [
    "### 전체 데이터 : x축 : 길이 / y축 무게 \n",
    "plt.scatter(train_input[:,0], train_input[:,1])\n",
    "plt.scatter(25,150,marker=\"^\")\n",
    "### 최근접 이웃 데이터 \n",
    "plt.scatter(train_input[indexes,0], train_input[indexes,1], marker=\"D\")\n",
    "plt.xlabel(\"legth\")\n",
    "plt.ylabel(\"weight\")\n",
    "plt.show()"
   ]
  },
  {
   "cell_type": "markdown",
   "id": "b742214e",
   "metadata": {},
   "source": [
    "## 3) 실제 데이터 보기 \n",
    "   - 실제 데이터의 정답 데이터가 무엇인지 확인 \n",
    "   - 대다수 빙여(0)로 유추 "
   ]
  },
  {
   "cell_type": "code",
   "execution_count": 22,
   "id": "30b8381d",
   "metadata": {},
   "outputs": [
    {
     "name": "stdout",
     "output_type": "stream",
     "text": [
      "targe_input : [array([[[ 15. ,  19.9],\n",
      "        [ 12.4,  13.4],\n",
      "        [ 12.2,  12.2],\n",
      "        [ 26.3, 290. ],\n",
      "        [ 11.8,  10. ]]])]\n",
      "targe_input : [array([[0., 0., 0., 1., 0.]])]\n"
     ]
    }
   ],
   "source": [
    "print(f\"targe_input : {[train_input[indexes]]}\")\n",
    "print(f\"targe_input : {[train_target[indexes]]}\")"
   ]
  },
  {
   "cell_type": "markdown",
   "id": "067e4f42",
   "metadata": {},
   "source": [
    "# 4. 데이터 전처리 \n",
    "## 1) 데이터가 다른 이유\n",
    "- 데이터간 `스케일(Scale)`이 다름 \n",
    "  - 두 특성 간 수치의 범위가 매우 다름 \n",
    "  - 정확한 예측을 하기 위해 특성값을 일정한 기준으로 맞춰야함 > `데이터 전처리`\n",
    "\n",
    "## 2) 표준점수(z점수)를 이용한 표준화 \n",
    "- $\\text{표준 점수} = Z = \\frac{X - \\mu}{\\sigma}$ \n",
    "- 특성값 $X$에서  평균 $\\mu$을 빼고 표준편차 $\\sigma$ 로 나눈 것\n",
    "\n",
    "\n",
    "## 3) 파이썬으로 표준화 구현\n",
    "  - 넘파이를 이용해 평균과 표준편차를 구함 \n",
    "  - 평균 : `np.mean`\n",
    "  - 표준편차 : `np.std`\n",
    "  - `axis=0` : 열"
   ]
  },
  {
   "cell_type": "markdown",
   "id": "0eebe449",
   "metadata": {},
   "source": [
    "- 평균과 표준 편차 만들기 "
   ]
  },
  {
   "cell_type": "code",
   "execution_count": null,
   "id": "36aa0cda",
   "metadata": {},
   "outputs": [
    {
     "name": "stdout",
     "output_type": "stream",
     "text": [
      "평균 : [ 27.72777778 469.21944444] , 표준편차 : [ 10.38729489 329.28075645]\n"
     ]
    }
   ],
   "source": [
    "mean = np.mean(train_input, axis=0)\n",
    "std = np.std(train_input, axis=0)\n",
    "print(f\"평균 : {mean} , 표준편차 : {std}\")"
   ]
  },
  {
   "cell_type": "markdown",
   "id": "4bd537ad",
   "metadata": {},
   "source": [
    "- 표준화 "
   ]
  },
  {
   "cell_type": "code",
   "execution_count": 26,
   "id": "dc430faa",
   "metadata": {},
   "outputs": [],
   "source": [
    "train_scaled = (train_input - mean) / std"
   ]
  },
  {
   "cell_type": "markdown",
   "id": "154778b0",
   "metadata": {},
   "source": [
    "# 4. 전처리된 모델로 예측 "
   ]
  },
  {
   "cell_type": "code",
   "execution_count": null,
   "id": "f5a1a040",
   "metadata": {},
   "outputs": [
    {
     "name": "stdout",
     "output_type": "stream",
     "text": [
      "모델 평가 : 1.0\n",
      "예측 평가 : [1.]\n"
     ]
    }
   ],
   "source": [
    "### 테스트 데이터도 표준화 \n",
    "test_scaled = (test_input - mean ) / std \n",
    "\n",
    "### 넣어야 하는 데이터도 표준화 \n",
    "### 브로드 캐스트 되어서 하나씩 안해도 됨 \n",
    "new = ([25,150]-mean)/ std\n",
    "\n",
    "### 모델 학습 \n",
    "kn.fit(train_scaled, train_target)\n",
    "\n",
    "### 모델 평가 \n",
    "print(f\"모델 평가 : {kn.score(test_scaled, test_target)}\")\n",
    "\n",
    "### 예측 평가 - 2차원 데이터를 줘야해서 [ ]로 묶음 \n",
    "print(f\"예측 평가 : {kn.predict([new])}\")"
   ]
  }
 ],
 "metadata": {
  "kernelspec": {
   "display_name": "ml_basic",
   "language": "python",
   "name": "python3"
  },
  "language_info": {
   "codemirror_mode": {
    "name": "ipython",
    "version": 3
   },
   "file_extension": ".py",
   "mimetype": "text/x-python",
   "name": "python",
   "nbconvert_exporter": "python",
   "pygments_lexer": "ipython3",
   "version": "3.12.11"
  }
 },
 "nbformat": 4,
 "nbformat_minor": 5
}
