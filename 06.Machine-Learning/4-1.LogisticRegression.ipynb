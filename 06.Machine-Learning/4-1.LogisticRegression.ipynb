{
 "cells": [
  {
   "cell_type": "markdown",
   "id": "a149037b",
   "metadata": {},
   "source": [
    "# 1. 로지스틱 회귀 "
   ]
  },
  {
   "cell_type": "markdown",
   "id": "b2b35236",
   "metadata": {},
   "source": [
    "## 문제 : 럭키백에 임의의 생선이 1개 들어감 \n",
    "- 럭키백 속에 들어가는 생성의 확률 구하기\n",
    "- 길이 , 높이, 두께, 대각선, 무게 사용 가능 "
   ]
  },
  {
   "cell_type": "markdown",
   "id": "364ca16b",
   "metadata": {
    "vscode": {
     "languageId": "plaintext"
    }
   },
   "source": [
    "# 2. 데이터 준비 \n"
   ]
  },
  {
   "cell_type": "code",
   "execution_count": 66,
   "id": "adc3fd45",
   "metadata": {},
   "outputs": [
    {
     "data": {
      "text/html": [
       "<div>\n",
       "<style scoped>\n",
       "    .dataframe tbody tr th:only-of-type {\n",
       "        vertical-align: middle;\n",
       "    }\n",
       "\n",
       "    .dataframe tbody tr th {\n",
       "        vertical-align: top;\n",
       "    }\n",
       "\n",
       "    .dataframe thead th {\n",
       "        text-align: right;\n",
       "    }\n",
       "</style>\n",
       "<table border=\"1\" class=\"dataframe\">\n",
       "  <thead>\n",
       "    <tr style=\"text-align: right;\">\n",
       "      <th></th>\n",
       "      <th>Species</th>\n",
       "      <th>Weight</th>\n",
       "      <th>Length</th>\n",
       "      <th>Diagonal</th>\n",
       "      <th>Height</th>\n",
       "      <th>Width</th>\n",
       "    </tr>\n",
       "  </thead>\n",
       "  <tbody>\n",
       "    <tr>\n",
       "      <th>0</th>\n",
       "      <td>Bream</td>\n",
       "      <td>242.0</td>\n",
       "      <td>25.4</td>\n",
       "      <td>30.0</td>\n",
       "      <td>11.5200</td>\n",
       "      <td>4.0200</td>\n",
       "    </tr>\n",
       "    <tr>\n",
       "      <th>1</th>\n",
       "      <td>Bream</td>\n",
       "      <td>290.0</td>\n",
       "      <td>26.3</td>\n",
       "      <td>31.2</td>\n",
       "      <td>12.4800</td>\n",
       "      <td>4.3056</td>\n",
       "    </tr>\n",
       "    <tr>\n",
       "      <th>2</th>\n",
       "      <td>Bream</td>\n",
       "      <td>340.0</td>\n",
       "      <td>26.5</td>\n",
       "      <td>31.1</td>\n",
       "      <td>12.3778</td>\n",
       "      <td>4.6961</td>\n",
       "    </tr>\n",
       "    <tr>\n",
       "      <th>3</th>\n",
       "      <td>Bream</td>\n",
       "      <td>363.0</td>\n",
       "      <td>29.0</td>\n",
       "      <td>33.5</td>\n",
       "      <td>12.7300</td>\n",
       "      <td>4.4555</td>\n",
       "    </tr>\n",
       "    <tr>\n",
       "      <th>4</th>\n",
       "      <td>Bream</td>\n",
       "      <td>430.0</td>\n",
       "      <td>29.0</td>\n",
       "      <td>34.0</td>\n",
       "      <td>12.4440</td>\n",
       "      <td>5.1340</td>\n",
       "    </tr>\n",
       "  </tbody>\n",
       "</table>\n",
       "</div>"
      ],
      "text/plain": [
       "  Species  Weight  Length  Diagonal   Height   Width\n",
       "0   Bream   242.0    25.4      30.0  11.5200  4.0200\n",
       "1   Bream   290.0    26.3      31.2  12.4800  4.3056\n",
       "2   Bream   340.0    26.5      31.1  12.3778  4.6961\n",
       "3   Bream   363.0    29.0      33.5  12.7300  4.4555\n",
       "4   Bream   430.0    29.0      34.0  12.4440  5.1340"
      ]
     },
     "execution_count": 66,
     "metadata": {},
     "output_type": "execute_result"
    }
   ],
   "source": [
    "import pandas as pd \n",
    "fish = pd.read_csv(\"https://bit.ly/fish_csv_data\")\n",
    "fish.head()"
   ]
  },
  {
   "cell_type": "markdown",
   "id": "01b1253c",
   "metadata": {},
   "source": [
    "## 1) 데이터 확인  및 input 데이터 만들기 "
   ]
  },
  {
   "cell_type": "code",
   "execution_count": 67,
   "id": "56715980",
   "metadata": {},
   "outputs": [
    {
     "name": "stdout",
     "output_type": "stream",
     "text": [
      "['Bream' 'Roach' 'Whitefish' 'Parkki' 'Perch' 'Pike' 'Smelt']\n"
     ]
    }
   ],
   "source": [
    "### 종 정보  \n",
    "print(pd.unique(fish[\"Species\"]))"
   ]
  },
  {
   "cell_type": "markdown",
   "id": "6e6ad88c",
   "metadata": {},
   "source": [
    "- 종을 제외한 데이터를 input 데이터로 만듦 "
   ]
  },
  {
   "cell_type": "code",
   "execution_count": 68,
   "id": "ed89e19c",
   "metadata": {},
   "outputs": [
    {
     "data": {
      "text/html": [
       "<div>\n",
       "<style scoped>\n",
       "    .dataframe tbody tr th:only-of-type {\n",
       "        vertical-align: middle;\n",
       "    }\n",
       "\n",
       "    .dataframe tbody tr th {\n",
       "        vertical-align: top;\n",
       "    }\n",
       "\n",
       "    .dataframe thead th {\n",
       "        text-align: right;\n",
       "    }\n",
       "</style>\n",
       "<table border=\"1\" class=\"dataframe\">\n",
       "  <thead>\n",
       "    <tr style=\"text-align: right;\">\n",
       "      <th></th>\n",
       "      <th>Weight</th>\n",
       "      <th>Length</th>\n",
       "      <th>Diagonal</th>\n",
       "      <th>Height</th>\n",
       "      <th>Width</th>\n",
       "    </tr>\n",
       "  </thead>\n",
       "  <tbody>\n",
       "    <tr>\n",
       "      <th>0</th>\n",
       "      <td>242.0</td>\n",
       "      <td>25.4</td>\n",
       "      <td>30.0</td>\n",
       "      <td>11.5200</td>\n",
       "      <td>4.0200</td>\n",
       "    </tr>\n",
       "    <tr>\n",
       "      <th>1</th>\n",
       "      <td>290.0</td>\n",
       "      <td>26.3</td>\n",
       "      <td>31.2</td>\n",
       "      <td>12.4800</td>\n",
       "      <td>4.3056</td>\n",
       "    </tr>\n",
       "    <tr>\n",
       "      <th>2</th>\n",
       "      <td>340.0</td>\n",
       "      <td>26.5</td>\n",
       "      <td>31.1</td>\n",
       "      <td>12.3778</td>\n",
       "      <td>4.6961</td>\n",
       "    </tr>\n",
       "    <tr>\n",
       "      <th>3</th>\n",
       "      <td>363.0</td>\n",
       "      <td>29.0</td>\n",
       "      <td>33.5</td>\n",
       "      <td>12.7300</td>\n",
       "      <td>4.4555</td>\n",
       "    </tr>\n",
       "    <tr>\n",
       "      <th>4</th>\n",
       "      <td>430.0</td>\n",
       "      <td>29.0</td>\n",
       "      <td>34.0</td>\n",
       "      <td>12.4440</td>\n",
       "      <td>5.1340</td>\n",
       "    </tr>\n",
       "  </tbody>\n",
       "</table>\n",
       "</div>"
      ],
      "text/plain": [
       "   Weight  Length  Diagonal   Height   Width\n",
       "0   242.0    25.4      30.0  11.5200  4.0200\n",
       "1   290.0    26.3      31.2  12.4800  4.3056\n",
       "2   340.0    26.5      31.1  12.3778  4.6961\n",
       "3   363.0    29.0      33.5  12.7300  4.4555\n",
       "4   430.0    29.0      34.0  12.4440  5.1340"
      ]
     },
     "execution_count": 68,
     "metadata": {},
     "output_type": "execute_result"
    }
   ],
   "source": [
    "fish_input = fish[[\"Weight\", \"Length\",\"Diagonal\",\"Height\",\"Width\"]]\n",
    "fish_input.head()"
   ]
  },
  {
   "cell_type": "code",
   "execution_count": 69,
   "id": "c9679585",
   "metadata": {},
   "outputs": [
    {
     "data": {
      "text/plain": [
       "0    Bream\n",
       "1    Bream\n",
       "2    Bream\n",
       "3    Bream\n",
       "4    Bream\n",
       "Name: Species, dtype: object"
      ]
     },
     "execution_count": 69,
     "metadata": {},
     "output_type": "execute_result"
    }
   ],
   "source": [
    "### 정답 데이터 만들기 \n",
    "fish_target = fish[\"Species\"]\n",
    "fish_target.head()"
   ]
  },
  {
   "cell_type": "markdown",
   "id": "a24f0cab",
   "metadata": {},
   "source": [
    "## 2) 훈련/테스트 세트 나누기 "
   ]
  },
  {
   "cell_type": "code",
   "execution_count": 70,
   "id": "23ca5793",
   "metadata": {},
   "outputs": [],
   "source": [
    "from sklearn.model_selection import train_test_split\n",
    "\n",
    "train_input, test_input, train_target, test_target = train_test_split(fish_input, fish_target, random_state=42)"
   ]
  },
  {
   "cell_type": "markdown",
   "id": "cbea2b3d",
   "metadata": {},
   "source": [
    "## 3) 데이터 표준화 전처리 "
   ]
  },
  {
   "cell_type": "code",
   "execution_count": 71,
   "id": "9d7c4680",
   "metadata": {},
   "outputs": [],
   "source": [
    "from sklearn.preprocessing import StandardScaler\n",
    "ss =StandardScaler()\n",
    "ss.fit(train_input)\n",
    "train_scaled = ss.transform(train_input)\n",
    "test_scaled = ss.transform(test_input)"
   ]
  },
  {
   "cell_type": "markdown",
   "id": "1be75e61",
   "metadata": {},
   "source": [
    "## 4) K 최근접 이웃 분류기의 한계 "
   ]
  },
  {
   "cell_type": "markdown",
   "id": "7e217304",
   "metadata": {},
   "source": [
    "- 다중 분류 :  2개 이상의 클래스가 포함된 문제  "
   ]
  },
  {
   "cell_type": "code",
   "execution_count": 72,
   "id": "f6cfd810",
   "metadata": {},
   "outputs": [
    {
     "name": "stdout",
     "output_type": "stream",
     "text": [
      "모델 평가 (훈련) : 0.8907563025210085\n",
      "모델 평가 (검증) : 0.85\n"
     ]
    }
   ],
   "source": [
    "from sklearn.neighbors import KNeighborsClassifier\n",
    "kn = KNeighborsClassifier(n_neighbors=3)\n",
    "kn.fit(train_scaled,train_target)\n",
    "print(f\"모델 평가 (훈련) : {kn.score(train_scaled,train_target)}\")\n",
    "print(f\"모델 평가 (검증) : {kn.score(test_scaled,test_target)}\")"
   ]
  },
  {
   "cell_type": "markdown",
   "id": "b5582424",
   "metadata": {},
   "source": [
    "- 예측 값 테스트 \n",
    "  - `predict_prob` 에는 어떤 확률로 해당 클래스를 리턴했는지 알 수 있음 \n",
    "  - [[0. 0. 1. 0. 0. 0. 0.] = ['Perch' 'Perch' 'Smelt' 'Bream' 'Pike'] 일 확률"
   ]
  },
  {
   "cell_type": "code",
   "execution_count": 73,
   "id": "60df2480",
   "metadata": {},
   "outputs": [
    {
     "name": "stdout",
     "output_type": "stream",
     "text": [
      "예측 클래스\n",
      "['Perch' 'Smelt' 'Pike' 'Perch' 'Perch']\n",
      "예측 확률\n",
      "[[0.     0.     1.     0.     0.     0.     0.    ]\n",
      " [0.     0.     0.     0.     0.     1.     0.    ]\n",
      " [0.     0.     0.     1.     0.     0.     0.    ]\n",
      " [0.     0.     0.6667 0.     0.3333 0.     0.    ]\n",
      " [0.     0.     0.6667 0.     0.3333 0.     0.    ]]\n"
     ]
    }
   ],
   "source": [
    "import numpy as np\n",
    "\n",
    "print(\"예측 클래스\")\n",
    "print(kn.predict(test_scaled[:5]))\n",
    "proba = kn.predict_proba(test_scaled[:5])\n",
    "print(\"예측 확률\")\n",
    "print(np.round(proba,decimals=4))"
   ]
  },
  {
   "cell_type": "markdown",
   "id": "9695febd",
   "metadata": {},
   "source": [
    "- k 최근접 모델이 가장 가까운 이웃의 비율과 맞는 지 확인   \n",
    "  - 이웃이 3개이기 때문에 가능한 확률은 0, 1/3,2/3,1 뿐임 \n",
    "  - 부적절함 "
   ]
  },
  {
   "cell_type": "code",
   "execution_count": 74,
   "id": "0a92eb18",
   "metadata": {},
   "outputs": [
    {
     "name": "stdout",
     "output_type": "stream",
     "text": [
      "52     Roach\n",
      "106    Perch\n",
      "103    Perch\n",
      "Name: Species, dtype: object\n"
     ]
    }
   ],
   "source": [
    "distance, indexs = kn.kneighbors(test_scaled[3:4])\n",
    "print(train_target.iloc[indexs[0]])"
   ]
  },
  {
   "cell_type": "markdown",
   "id": "b9bacb87",
   "metadata": {},
   "source": [
    "# 3. 로지스틱 회귀 (Logistic Regression)\n",
    "## 1) 정의 \n",
    " - 분류 모델 \n",
    "- 선형 방정식을 학습\n",
    "- 각 피쳐에 대한 가중치(계수)를 부여 \n",
    "- 식 : $z = a \\cdot (Weight) + b \\cdot (Legnth) +  c \\cdot (Diagonal) +  d \\cdot (Height) + e \\cdot (Width) + f $\n",
    "- $z$ 값은 어떤 값이든 될 수 있음 \n",
    "  - 하지만 **확률** 이 나와야함 (0~1 사이 값이 필요)\n",
    "  - 시그모이드 함수를 이용해서 숫자를 조정함 \n",
    "\n",
    "## 2) 시그모이드 함수 \n",
    "- **시그모이드 함수** : $\\sigma(x) = \\frac{1}{1 + e^{-x}}$\n",
    "  - 지수 함수의 미분 함수 \n",
    "  - y 값의 범위가 0~1 사이 \n",
    "    - 0.5 보다 작음 > `음성 클래스`\n",
    "    - 0.5 보다 큼 > `양성 클래스` \n",
    "\n",
    " ## 3) 시그모이드 함수 구현\n",
    " 넘파이의 `np.exp()` 를 이용해 자연상수를 표현 "
   ]
  },
  {
   "cell_type": "code",
   "execution_count": 75,
   "id": "dc328800",
   "metadata": {},
   "outputs": [
    {
     "data": {
      "image/png": "[encoded data removed]",
      "text/plain": [
       "<Figure size 640x480 with 1 Axes>"
      ]
     },
     "metadata": {},
     "output_type": "display_data"
    }
   ],
   "source": [
    "### 시그모이드 함수를 구현 + 시각화 \n",
    "### z 값은 범위는 -5 ~ 5  // 간격은 0.1\n",
    "\n",
    "import numpy as np \n",
    "import matplotlib .pyplot as plt \n",
    "\n",
    "### 범위 설정 \n",
    "z = np.arange(-5,5,0.1)\n",
    "\n",
    "### 시그모이드 구현 1 / 1 + exp^-z \n",
    "phi = 1 / (1 + np.exp(-z))\n",
    "\n",
    "### 시각화 \n",
    "plt.plot(z, phi)\n",
    "plt.xlabel(\"z\")\n",
    "plt.ylabel(\"phi\")\n",
    "plt.show()\n"
   ]
  },
  {
   "cell_type": "markdown",
   "id": "e830aefe",
   "metadata": {},
   "source": [
    "## 4) 로지스틱 회귀로 이진 분류 수행 \n",
    "- `불리언 인덱싱` : 불리언 값을 전달해서 행을 전달 가능 \n",
    "    - [1 , 2, 3, 4] <- [Ture, False, False,Ture] 하면 [1,4] 만 나옴 \n",
    "  - 이를 이용해 도미와 빙어만 출력  "
   ]
  },
  {
   "cell_type": "code",
   "execution_count": 76,
   "id": "a55f5c14",
   "metadata": {},
   "outputs": [],
   "source": [
    "bream_smelt_indexes = (train_target == \"Bream\") | (train_target == \"Smelt\") \n",
    "\n",
    "### 기존 데이터에서 도미와 빙어 데이터만 가져옴 \n",
    "train_bream_smelt = train_scaled[bream_smelt_indexes]\n",
    "target_bream_smelt = train_target[bream_smelt_indexes]"
   ]
  },
  {
   "cell_type": "code",
   "execution_count": 77,
   "id": "726015a6",
   "metadata": {},
   "outputs": [
    {
     "name": "stdout",
     "output_type": "stream",
     "text": [
      "샘플 예측 :  ['Bream' 'Smelt' 'Bream' 'Bream' 'Bream']\n",
      "확률 확인 :\n",
      "[[0.99760007 0.00239993]\n",
      " [0.02737325 0.97262675]\n",
      " [0.99486386 0.00513614]\n",
      " [0.98585047 0.01414953]\n",
      " [0.99767419 0.00232581]]\n",
      "음성 클래스 : Bream , 양성 클래스 : Smelt\n",
      "가중치(계수) 확인 :  [[-0.40451732 -0.57582787 -0.66248158 -1.01329614 -0.73123131]] [-2.16172774]\n"
     ]
    }
   ],
   "source": [
    "from sklearn.linear_model import LogisticRegression\n",
    "lr = LogisticRegression()\n",
    "\n",
    "### 모델 학습 \n",
    "lr.fit(train_bream_smelt,target_bream_smelt)\n",
    "\n",
    "### 샘플 5개 테스트 \n",
    "print(\"샘플 예측 : \", lr.predict(train_bream_smelt[:5]))\n",
    "print(\"확률 확인 :\")\n",
    "print(lr.predict_proba(train_bream_smelt[:5]))\n",
    "\n",
    "### 양성클래스는 ? \n",
    "print(f\"음성 클래스 : {lr.classes_[0]} , 양성 클래스 : {lr.classes_[1]}\")\n",
    "\n",
    "###  계수 확인 \n",
    "print(\"가중치(계수) 확인 : \" , lr.coef_,lr.intercept_)"
   ]
  },
  {
   "cell_type": "markdown",
   "id": "d1385ddb",
   "metadata": {},
   "source": [
    "- 학습한 방정식 : \n",
    "- $ z= -0.42\\cdot (weight) -0.57 \\cdot (legth) -0.66 /cdot (diagonal) - 1.01 \\cdot (height) - 0.78 \\cdot (width) -2.28 $\n",
    "- `decision_function` : 값에 대한 z 값 출력 \n",
    "- `expit()` : 시그모이드 함수를 통과 - np.exp() 보다 나음 \n",
    "\n",
    "- 시그모이드를 적용한 값은 `r.predict_proba(train_bream_smelt[:5])` 의 2열과 동일한 값을 가짐"
   ]
  },
  {
   "cell_type": "code",
   "execution_count": 78,
   "id": "9db78f38",
   "metadata": {},
   "outputs": [
    {
     "name": "stdout",
     "output_type": "stream",
     "text": [
      "z 값 :  [-6.02991358  3.57043428 -5.26630496 -4.24382314 -6.06135688]\n",
      "시그모이드를 적용한 z 값 :  [0.00239993 0.97262675 0.00513614 0.01414953 0.00232581]\n"
     ]
    }
   ],
   "source": [
    "decision = lr.decision_function(train_bream_smelt[:5])\n",
    "print(\"z 값 : \",decision)\n",
    "\n",
    "from scipy.special import expit\n",
    "print(\"시그모이드를 적용한 z 값 : \" , expit(decision))\n"
   ]
  },
  {
   "cell_type": "markdown",
   "id": "1671b6e0",
   "metadata": {},
   "source": [
    "## 5) 로지스틱 회귀로 다중 분류\n",
    "- 7개의 생선 분류 \n",
    "- LogisticRegression 는 반복적인 알고리즘을 사용\n",
    "  - 기본 반복값 : `max_iter` 는 100 \n",
    "\n",
    "- 규제 추가 \n",
    "  - 로지스틱의 규제 : `L2` 규제 \n",
    "  - 규제를 제어하는 매개변수 `C`\n",
    "- 작을 수록 규제가 커짐 \n",
    "- 기본값 1 \n",
    "- 계수의 제곱값을 규제함 "
   ]
  },
  {
   "cell_type": "code",
   "execution_count": 82,
   "id": "6d529585",
   "metadata": {},
   "outputs": [
    {
     "name": "stdout",
     "output_type": "stream",
     "text": [
      "모델 평가 (훈련) :  0.9327731092436975\n",
      "모델 평가 (검증) :  0.925\n",
      "['Perch' 'Smelt' 'Pike' 'Roach' 'Perch']\n",
      "[[0.   0.01 0.84 0.   0.13 0.01 0.  ]\n",
      " [0.   0.   0.04 0.   0.01 0.95 0.  ]\n",
      " [0.   0.   0.03 0.93 0.02 0.02 0.  ]\n",
      " [0.01 0.03 0.31 0.01 0.57 0.   0.08]\n",
      " [0.   0.   0.9  0.   0.09 0.   0.  ]]\n",
      "클래스 :  ['Bream' 'Parkki' 'Perch' 'Pike' 'Roach' 'Smelt' 'Whitefish']\n"
     ]
    }
   ],
   "source": [
    "lr = LogisticRegression(C=20, max_iter=1000)\n",
    "\n",
    "### 모델 학습 \n",
    "lr.fit(train_scaled,train_target)\n",
    "\n",
    "### 모델 평가 \n",
    "print(\"모델 평가 (훈련) : \",lr.score(train_scaled,train_target))\n",
    "print(\"모델 평가 (검증) : \",lr.score(test_scaled,test_target))\n",
    "\n",
    "### 샘플 5개에 대한 예측 \n",
    "print(lr.predict(test_scaled[:5]))\n",
    "proba = lr.predict_proba(test_scaled[:5])\n",
    "print(np.round(proba,decimals=2))\n",
    "\n",
    "### 클래스 확인 \n",
    "print(\"클래스 : \" , lr.classes_)"
   ]
  },
  {
   "cell_type": "markdown",
   "id": "56baa53a",
   "metadata": {},
   "source": [
    "## 6) 소프트맥스 함수 "
   ]
  },
  {
   "cell_type": "code",
   "execution_count": 80,
   "id": "6d8234ba",
   "metadata": {},
   "outputs": [
    {
     "name": "stdout",
     "output_type": "stream",
     "text": [
      "(7, 5) (7,)\n"
     ]
    }
   ],
   "source": [
    "### 계수 / 절편 확인 \n",
    "print(lr.coef_.shape, lr.intercept_.shape)"
   ]
  },
  {
   "cell_type": "markdown",
   "id": "a058cd6b",
   "metadata": {},
   "source": [
    "- 7행 > 총 7개의 z 값을 계산 \n",
    "- 높은 z값이 나오는 것이 예측 클래스가 됨 \n",
    "- 확률은 `소프트맥스` 함수를 이용 \n",
    "\n",
    "- 소프트 맥수 함수 : \n",
    "  - 여러 개의 선형 방정식의 출력값을 0~1 사이 값으로 압축\n",
    "  - 전체 합이 1이 되도록 만듦\n",
    "  - 정규화된 지수함수 \n",
    "  - 구현 : `softmax()`"
   ]
  },
  {
   "cell_type": "code",
   "execution_count": null,
   "id": "55f6f16f",
   "metadata": {},
   "outputs": [
    {
     "name": "stdout",
     "output_type": "stream",
     "text": [
      "[[ -6.51   1.04   5.17  -2.76   3.34   0.35  -0.63]\n",
      " [-10.88   1.94   4.78  -2.42   2.99   7.84  -4.25]\n",
      " [ -4.34  -6.24   3.17   6.48   2.36   2.43  -3.87]\n",
      " [ -0.69   0.45   2.64  -1.21   3.26  -5.7    1.26]\n",
      " [ -6.4   -1.99   5.82  -0.13   3.5   -0.09  -0.7 ]]\n",
      "[[0.   0.01 0.84 0.   0.13 0.01 0.  ]\n",
      " [0.   0.   0.04 0.   0.01 0.95 0.  ]\n",
      " [0.   0.   0.03 0.93 0.02 0.02 0.  ]\n",
      " [0.01 0.03 0.31 0.01 0.57 0.   0.08]\n",
      " [0.   0.   0.9  0.   0.09 0.   0.  ]]\n"
     ]
    }
   ],
   "source": [
    "### 소프트 맥스 함수를 이용하여 확률 확인\n",
    "decision = lr.decision_function(test_scaled[:5])\n",
    "print(np.round(decision,decimals=2))\n",
    "\n",
    "\n",
    "### 소프트 맥스 함수로 확인  > 앞서구한 proba와 동일 \n",
    "from scipy.special import softmax\n",
    "proba = softmax(decision, axis=1)\n",
    "print(np.round(proba, decimals=2))"
   ]
  }
 ],
 "metadata": {
  "kernelspec": {
   "display_name": "ml_basic",
   "language": "python",
   "name": "python3"
  },
  "language_info": {
   "codemirror_mode": {
    "name": "ipython",
    "version": 3
   },
   "file_extension": ".py",
   "mimetype": "text/x-python",
   "name": "python",
   "nbconvert_exporter": "python",
   "pygments_lexer": "ipython3",
   "version": "3.12.11"
  }
 },
 "nbformat": 4,
 "nbformat_minor": 5
}
