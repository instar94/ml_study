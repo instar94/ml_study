{
 "cells": [
  {
   "cell_type": "markdown",
   "id": "6b693d54",
   "metadata": {},
   "source": [
    "# 분류 (Classification)\n",
    "- 회귀와 더불어 지도 학습의 대표적인 예시 \n",
    "  - 회귀 : 값 예측   \n",
    "  - 분류 : 클래스 예측\n",
    "\n",
    "# 0. 목표 \n",
    "> 손글씨 숫자를 보고 어떤 숫자인지 분류\n",
    "\n",
    "# 1. MNIST 데이터셋 \n",
    "> 학습용으로 자주 쓰이는 데이터 셋 중 하나 \n",
    "\n",
    "## 1) sklearn.dataset 특징 \n",
    "### 데이터셋 다운로드 함수 \n",
    "  - `fetch_*` : 실전 데이터셋을 다운로드 하는 함수 \n",
    " -  `fetch_openml()` : 입력을 판다스 데이터 프레임 / 레이블을 판다스 시리즈로 반환\n",
    "  - `load_*` :  소규모 데이터셋 로드 (인터넷 다운로드 불필요)\n",
    "  - `make_*` : 가짜 데이터셋 생성 \n",
    "\n",
    "\n",
    "### 데이터셋 객체 특성\n",
    "- 일반적으로 넘파이 배열로 생성\n",
    "- (`입력값`,`타깃`)의 튜플 반환 \n",
    "- `sklearn.utils.Bunch`객체로 반환되는 경우도 있음 \n",
    "\n",
    "#### 객체 속성 \n",
    "- `DESCR` : 데이터셋 설명 \n",
    "- `data` : 입력 데이터 - 2D 넘파이 배열\n",
    "- `target` : 레이블 - 1D 넘파이 배열\n",
    "\n"
   ]
  },
  {
   "cell_type": "markdown",
   "id": "3e9ed75a",
   "metadata": {
    "vscode": {
     "languageId": "plaintext"
    }
   },
   "source": [
    "## 2) MNIST 데이터 로드 \n",
    "\n",
    "- fetch_openml을 이용해서 데이터를 불러옴 \n",
    "    -  단, MNIST는 이미지 데이터라서 데이터 프레임과 어울리지 않음 \n",
    "    -  `as_frame=False`로 지정하여 넘파이 배열로 데이터를 받음"
   ]
  },
  {
   "cell_type": "code",
   "execution_count": 4,
   "id": "6a8c9ac6",
   "metadata": {},
   "outputs": [
    {
     "name": "stdout",
     "output_type": "stream",
     "text": [
      "[[0 0 0 ... 0 0 0]\n",
      " [0 0 0 ... 0 0 0]\n",
      " [0 0 0 ... 0 0 0]\n",
      " ...\n",
      " [0 0 0 ... 0 0 0]\n",
      " [0 0 0 ... 0 0 0]\n",
      " [0 0 0 ... 0 0 0]]\n",
      "X shape: (70000, 784)\n",
      "['5' '0' '4' ... '4' '5' '6']\n",
      "y shape: (70000,)\n"
     ]
    }
   ],
   "source": [
    "from sklearn.datasets import fetch_openml \n",
    "\n",
    "### 손글씨 데이터를 넘파이 배열로 로드 \n",
    "mnist = fetch_openml(\"mnist_784\", as_frame=False)\n",
    "\n",
    "### X : 이미지 데이터, y : 레이블\n",
    "X, y = mnist.data, mnist.target\n",
    "\n",
    "### X데이터 확인\n",
    "print(X)\n",
    "print(\"X shape:\", X.shape)\n",
    "\n",
    "### y데이터 확인\n",
    "print(y)\n",
    "print(\"y shape:\", y.shape)"
   ]
  },
  {
   "cell_type": "markdown",
   "id": "09509fc2",
   "metadata": {},
   "source": [
    "### 데이터의 특성 \n",
    "- 이미지 : 70,000개의 손글씨 숫자 이미지\n",
    "- 각 이미지 : 28x28 픽셀, 총 784개의 픽셀\n",
    "- 특성은 0~255 사이의 값 -> 픽셀의 강도\n",
    "-> 이를 이용해 이미지로 표현 가능 `matplotlib의 imshow()`"
   ]
  },
  {
   "cell_type": "code",
   "execution_count": 22,
   "id": "ab5fe708",
   "metadata": {},
   "outputs": [
    {
     "data": {
      "image/png": "[encoded data removed]",
      "text/plain": [
       "<Figure size 640x480 with 1 Axes>"
      ]
     },
     "metadata": {},
     "output_type": "display_data"
    },
    {
     "name": "stdout",
     "output_type": "stream",
     "text": [
      "레이블: 5\n"
     ]
    }
   ],
   "source": [
    "import matplotlib.pyplot as plt\n",
    "plt.rcParams['font.family'] ='Malgun Gothic'\n",
    "plt.rcParams['axes.unicode_minus'] =False\n",
    "\n",
    "### 이미지를 그려내는 함수 \n",
    "def plot_digit(image_data):\n",
    "    ### 784 픽셀 데이터를 28x28 이미지로 변환\n",
    "    image = image_data.reshape(28, 28) \n",
    "   \n",
    "    ### 이미지를 그리기\n",
    "    ### binary 컬러맵을 사용하여 흑백 이미지로 표시\n",
    "    plt.imshow(image, cmap=\"binary\")\n",
    "   \n",
    "   # 축을 표시하지 않음\n",
    "    plt.axis(\"off\") \n",
    "\n",
    "# 첫 번째 이미지 데이터 선택\n",
    "some_digit = X[0]  \n",
    "\n",
    "# 선택한 이미지 데이터 출력\n",
    "plot_digit(some_digit)\n",
    "plt.show()\n",
    "\n",
    "# 레이블 출력\n",
    "print(\"레이블:\", y[0])  "
   ]
  },
  {
   "cell_type": "markdown",
   "id": "434196d1",
   "metadata": {},
   "source": [
    "## 3) 테스트 데이터 분할 \n",
    "- `fetch_openml` 데이터는 훈련세트와 테스트 세트가 이미 나눠져있음 \n",
    "    - 훈련 세트 : 앞의 60,000개 샘플\n",
    "    - 테스트 세트 : 뒤의 10,000개 샘플\n",
    "  - 훈련 세트는 이미 섞여 있음 > 검증 폴드를 비슷하게 만듦"
   ]
  },
  {
   "cell_type": "code",
   "execution_count": 7,
   "id": "513430be",
   "metadata": {},
   "outputs": [],
   "source": [
    "X_train, X_test, y_train, y_test = X[:60000], X[60000:], y[:60000], y[60000:]"
   ]
  },
  {
   "cell_type": "markdown",
   "id": "502f98fb",
   "metadata": {},
   "source": [
    "# 2. 이진 분류기 훈련 \n",
    "- `이진 분류기` : True 인지 False 인지 분류하는 분류기 \n",
    "\n",
    "## 확률적 경사하강법 (SGD) 분류기 \n",
    "- SGD 장점 : 큰 데이터셋을 효율적으로 처리 \n",
    "-하나씩 훈련 샘플을 독립적 처리 가능 -> 온라인 학습에 적합 \n",
    "- 사이킷 런에서 `SGDClassifier` 클래스 제공"
   ]
  },
  {
   "cell_type": "markdown",
   "id": "c37e5e49",
   "metadata": {},
   "source": [
    "### 타깃 벡터 생성 \n",
    "- 5면 True, 아니면 False인 벡터 생성 "
   ]
  },
  {
   "cell_type": "code",
   "execution_count": 8,
   "id": "233d0411",
   "metadata": {},
   "outputs": [],
   "source": [
    "y_train_5 = (y_train == \"5\") \n",
    "y_test_5 = (y_test == \"5\")"
   ]
  },
  {
   "cell_type": "markdown",
   "id": "a2fc32a8",
   "metadata": {},
   "source": [
    "### SGDClassifier 분류기 생성/예측"
   ]
  },
  {
   "cell_type": "code",
   "execution_count": 9,
   "id": "8a4062d3",
   "metadata": {},
   "outputs": [
    {
     "data": {
      "text/plain": [
       "array([ True])"
      ]
     },
     "execution_count": 9,
     "metadata": {},
     "output_type": "execute_result"
    }
   ],
   "source": [
    "from sklearn.linear_model import SGDClassifier\n",
    "\n",
    "### SGD 객체 생성\n",
    "sgd_clf = SGDClassifier(random_state=42)\n",
    "\n",
    "### 모델 학습 - 5를 예측하는 이진 분류기\n",
    "### 타겟 :  5이면 True, 아니면 False\n",
    "sgd_clf.fit(X_train, y_train_5)\n",
    "\n",
    "### 모델 예측\n",
    "sgd_clf.predict([some_digit]) "
   ]
  },
  {
   "cell_type": "markdown",
   "id": "7d0ac1f7",
   "metadata": {},
   "source": [
    "# 3. 모델 성능 측정 \n",
    "\n",
    "## 1) 교차 검증을 이용한 정확도\n",
    "- `cross_val_score`를 사용하여 교차 검증을 수행\n",
    "- `정확도` : 정확히 예측한 비율 "
   ]
  },
  {
   "cell_type": "markdown",
   "id": "4027a67a",
   "metadata": {},
   "source": [
    "### 예시 )  k=3인 k-폴드 교차검증 평가 \n",
    " - K 폴드 교차 검증 이후 , 더미 분류기와 성능 비교 \n",
    " - `더미 분류기` : 5가 아닌 데이터로 학습한 분류기 "
   ]
  },
  {
   "cell_type": "code",
   "execution_count": 14,
   "id": "066dbe2d",
   "metadata": {},
   "outputs": [
    {
     "name": "stdout",
     "output_type": "stream",
     "text": [
      "교차검증을 이용한 정확도 : [0.95035 0.96035 0.9604 ]\n",
      "더미 분류기의 정확도 : [0.90965 0.90965 0.90965]\n"
     ]
    }
   ],
   "source": [
    "from sklearn.model_selection import cross_val_score\n",
    "from sklearn.dummy import DummyClassifier\n",
    "\n",
    "### 교차 검증을 통한 정확도 측정 \n",
    "print(f\"교차검증을 이용한 정확도 : {cross_val_score(sgd_clf, X_train, y_train_5, cv=3, scoring=\"accuracy\")}\") \n",
    "\n",
    "### 더미 분류기와의 비교 \n",
    "dummy_clf = DummyClassifier()\n",
    "dummy_clf.fit(X_train, y_train_5)\n",
    "print(f\"더미 분류기의 정확도 : {cross_val_score(dummy_clf, X_train, y_train_5, cv=3, scoring='accuracy')}\") "
   ]
  },
  {
   "cell_type": "markdown",
   "id": "e6bb3cf2",
   "metadata": {},
   "source": [
    "### 정확도의 단점 \n",
    "- 불균형한 데이터 셋을 다룰 때, 정확도만으로는 모델의 성능을 평가하기 어려움\n",
    "\n",
    "- 5가 아닌 데이터 90%, 5인 데이터 10%로 구성된 데이터셋에서\n",
    "  - 더미 분류기는 90%의 정확도를 달성\n",
    "- 더미 분류기 정확도 : 90% 이상\n",
    "- SGD 분류기 정확도 : 95% 이상\n"
   ]
  },
  {
   "cell_type": "markdown",
   "id": "5e296e31",
   "metadata": {},
   "source": [
    "## 2) 오차 행렬 \n",
    "- 잘못 분류된 횟수를 세는 것 \n",
    "\n",
    "### 오차행렬을 만드는 방법 \n",
    "- 실제 타겟과 예측값을 만듦 -> `cross_val_predict()`\n",
    "\n",
    "#### cross_val_predict()\n",
    "- k폴드 교차 검증을 수행하지 않음 -> 평가 점수를 반환하지 않음 \n",
    "- 깨끗한 예측값을 반환함\n",
    "\n",
    "#### confusion_matrix()\n",
    "- 실제 타겟과 예측값을 비교하여 오차 행렬을 만듦"
   ]
  },
  {
   "cell_type": "markdown",
   "id": "3dc84d09",
   "metadata": {},
   "source": [
    "- 예시 : 5 예측 오차 행렬"
   ]
  },
  {
   "cell_type": "code",
   "execution_count": 15,
   "id": "62970ad3",
   "metadata": {},
   "outputs": [
    {
     "name": "stdout",
     "output_type": "stream",
     "text": [
      "오차 행렬:\n",
      " [[53892   687]\n",
      " [ 1891  3530]]\n"
     ]
    }
   ],
   "source": [
    "from sklearn.model_selection import cross_val_predict\n",
    "from sklearn.metrics import confusion_matrix\n",
    "\n",
    "### 교차 검증을 통한 예측 - 예측값만 출력\n",
    "y_train_pred = cross_val_predict(sgd_clf, X_train, y_train_5, cv=3)\n",
    "\n",
    "### 오차 행렬 생성 \n",
    "cm = confusion_matrix(y_train_5, y_train_pred)\n",
    "print(\"오차 행렬:\\n\", cm)"
   ]
  },
  {
   "cell_type": "markdown",
   "id": "2ccb8efc",
   "metadata": {},
   "source": [
    "### 1종오류와 2종오류 \n",
    "#### 1종 오류 (1,2)\n",
    "- 거짓 양성 (False Positive, FP) : 실제로는 5가 아닌데 5라고 잘못 예측한 경우\n",
    "#### 2종 오류 (2,1)\n",
    "- 거짓 음성 (False Negative, FN) : 실제로는 5인데 5가 아니라고 잘못 예측한 경우"
   ]
  },
  {
   "cell_type": "markdown",
   "id": "ee8b8035",
   "metadata": {},
   "source": [
    "## 3) 정밀도와 재현율\n",
    "\n",
    "### 정밀도 \n",
    "- `정밀도` : 양성으로 예측한 것 중 실제 양성인 비율\n",
    "- $\\text{정밀도} = \\frac{TP}{TP+FP}$\n",
    "- 사이킷 런에서 `precision_score` 제공\n",
    "\n",
    "### 재현률 \n",
    "- `재현률` : 분류기가 정확하게 감지한 양성 샘플의 비율 -> 민감도 혹은 진짜 양성 비율(TPR)\n",
    " - $\\text{재현율} = \\frac{TP}{TP+FN}$\n",
    " - 사이킷 런에서 `recall_score` 제공 \n",
    "\n",
    "### $F_1$ 점수 \n",
    "- 정밀도와 재현율을 이용한 조화 평균 점수 \n",
    "- 사이킷 런에서 `f1_score()` 함수 제공\n",
    "- 정밀도와 재현율의 비율이 비슷할 때 점수가 높음\n",
    "  - 항상 바람직 한 것은 아님 "
   ]
  },
  {
   "cell_type": "code",
   "execution_count": 16,
   "id": "dfb77019",
   "metadata": {},
   "outputs": [
    {
     "name": "stdout",
     "output_type": "stream",
     "text": [
      "정밀도: 0.8370879772350012\n",
      "재현율: 0.6511713705958311\n",
      "F1 점수: 0.7325171197343847\n"
     ]
    }
   ],
   "source": [
    "from sklearn.metrics import precision_score, recall_score\n",
    "from sklearn.metrics import f1_score\n",
    "\n",
    "### 정밀도 계산 \n",
    "precision = precision_score(y_train_5, y_train_pred)\n",
    "print(\"정밀도:\", precision)\n",
    "\n",
    "### 재현율 계산\n",
    "recall = recall_score(y_train_5, y_train_pred)\n",
    "print(\"재현율:\", recall)\n",
    "\n",
    "### F1 점수 계산\n",
    "f1 = f1_score(y_train_5, y_train_pred)\n",
    "print(\"F1 점수:\", f1)"
   ]
  },
  {
   "cell_type": "markdown",
   "id": "a96fa9b0",
   "metadata": {},
   "source": [
    "## 4) 정밀도 - 재현율 트레이드오프\n",
    "- 정밀도가 올라가면 재현율이 줄고, 재현율이 올라가면 정밀도가 줄어드는 트레이드오프 관계\n",
    "\n",
    "### 결정 임계값 \n",
    "- 결정 임계값을 조정하여 정밀도와 재현율의 균형을 맞출 수 있음\n",
    "- 임계값 높아짐 : 정밀도 상승, 재현율 하락\n",
    "- 임계값 낮아짐 : 재현율 상승, 정밀도 하락\n",
    "\n",
    "### 사이킷 런에서 구현 \n",
    "- 직접 임계값을 지정 불가 \n",
    "- `decision_function` 메서드를 사용 > 샘플 점수를 얻음 > 임곗값을 정해 예측 "
   ]
  },
  {
   "cell_type": "markdown",
   "id": "d6711bfd",
   "metadata": {},
   "source": [
    "- 임계값이 0 > predict() 값과 동일한 결과 \n",
    "- 임계값이 300000 > 재현률이 줄어듦 "
   ]
  },
  {
   "cell_type": "code",
   "execution_count": null,
   "id": "f41baa9e",
   "metadata": {},
   "outputs": [
    {
     "name": "stdout",
     "output_type": "stream",
     "text": [
      "결정 함수 값: [2164.22030239]\n",
      "예측 결과 (임계값 0): [ True]\n",
      "예측 결과 (임계값 300000): [False]\n"
     ]
    }
   ],
   "source": [
    "y_scores = sgd_clf.decision_function([some_digit])\n",
    "print(\"결정 함수 값:\", y_scores)\n",
    "\n",
    "threshold = 0\n",
    "y_some_digit_pred = (y_scores > threshold)\n",
    "print(\"예측 결과 (임계값 0):\", y_some_digit_pred)\n",
    "\n",
    "threshold = 300000\n",
    "y_some_digit_pred = (y_scores > threshold)\n",
    "print(\"예측 결과 (임계값 300000):\", y_some_digit_pred)"
   ]
  },
  {
   "cell_type": "markdown",
   "id": "71f7f301",
   "metadata": {},
   "source": [
    "### 적절한 임계값 구하는 방법 \n",
    "1. `cross_val_predict()` 함수를 이용해 모든 샘플의 점수를 구함 \n",
    "2. `precision_recall_curve()` 함수를 이용해 임계값에 대한 정밀도-재현율 계산"
   ]
  },
  {
   "cell_type": "code",
   "execution_count": 26,
   "id": "88de5976",
   "metadata": {},
   "outputs": [
    {
     "data": {
      "image/png": "[encoded data removed]",
      "text/plain": [
       "<Figure size 640x480 with 1 Axes>"
      ]
     },
     "metadata": {},
     "output_type": "display_data"
    }
   ],
   "source": [
    "from sklearn.metrics import precision_recall_curve\n",
    "\n",
    "### 모든 샘플의 결정 점수 반환 \n",
    "y_scores = cross_val_predict(sgd_clf, X_train, y_train_5, cv=3, method=\"decision_function\")\n",
    "\n",
    "### 정밀도-재현율 곡선 계산\n",
    "precisions, recalls, thresholds = precision_recall_curve(y_train_5, y_scores)\n",
    "\n",
    "### 임계값이 3000일 때의 그래프 생성 \n",
    "\n",
    "### 정밀도 : 파란색 점선 \n",
    "plt.plot(thresholds, precisions[:-1], \"b--\", label=\"정밀도\",linewidth=2)\n",
    "\n",
    "### 재현율 : 초록색 실선\n",
    "plt.plot(thresholds, recalls[:-1], \"g-\", label=\"재현율\", linewidth=2)\n",
    "\n",
    "plt.vlines(threshold, 0 , 1.0, \"k\",\"dotted\", label=\"임계값\")\n",
    "\n",
    "### x축  범위 \n",
    "plt.axis([-50000, 50000, 0, 1])\n",
    "plt.grid()\n",
    "\n",
    "plt.show()"
   ]
  },
  {
   "cell_type": "markdown",
   "id": "04d0a55f",
   "metadata": {},
   "source": [
    "3. 재현율에 대한 정밀도 곡선 그리기 - > 정밀도 / 재현율 곡선 \n",
    "- 재현율 80% 근처에서 정밀도가 급격히 줄어듦 \n",
    "- 하강점 직전을 트레이드 오프로 설정하는 것이 좋음 "
   ]
  },
  {
   "cell_type": "code",
   "execution_count": 28,
   "id": "0b490cc6",
   "metadata": {},
   "outputs": [
    {
     "data": {
      "image/png": "[encoded data removed]",
      "text/plain": [
       "<Figure size 640x480 with 1 Axes>"
      ]
     },
     "metadata": {},
     "output_type": "display_data"
    }
   ],
   "source": [
    "plt.plot(recalls, precisions, \"b-\", linewidth=2, label=\"정밀도-재현율 곡선\")\n",
    "plt.grid()\n",
    "plt.show()"
   ]
  },
  {
   "cell_type": "markdown",
   "id": "f9112071",
   "metadata": {},
   "source": [
    "### 예시 ) 정밀도 90% 목표 \n",
    "- 달성방법 1 : 그래프에서 임계값 선택 -> 정확한 숫지를 알 수 없음 \n",
    "- 달성방법 2 : 정밀도가 최소 90%가 되는 가장 낮은 임계값을 선택 \n",
    "  - 넘파이의 `argmax()` 매서드 활용 "
   ]
  },
  {
   "cell_type": "code",
   "execution_count": 34,
   "id": "7da4fafc",
   "metadata": {},
   "outputs": [
    {
     "name": "stdout",
     "output_type": "stream",
     "text": [
      "90% 정밀도에 해당하는 임계값: 3370.0194991439557\n"
     ]
    }
   ],
   "source": [
    "idx_for_90_precision = (precisions >= 0.90).argmax()\n",
    "threshold_90_precision = thresholds[idx_for_90_precision]\n",
    "print(\"90% 정밀도에 해당하는 임계값:\", threshold_90_precision)"
   ]
  },
  {
   "cell_type": "markdown",
   "id": "98c263bf",
   "metadata": {},
   "source": [
    "- 예측 생성 \n",
    "- 예측에 대한 정밀도와 재현율을 계산"
   ]
  },
  {
   "cell_type": "code",
   "execution_count": 35,
   "id": "31e75545",
   "metadata": {},
   "outputs": [
    {
     "name": "stdout",
     "output_type": "stream",
     "text": [
      "90% 정밀도로 예측한 결과: [False False False ...  True False False]\n",
      "90% 정밀도로 예측한 결과의 정밀도: 0.9000345901072293\n",
      "90% 정밀도로 예측한 결과의 재현율: 0.4799852425751706\n"
     ]
    }
   ],
   "source": [
    "### 예측값 생성 \n",
    "y_train_pred_90 = (y_scores >= threshold_90_precision)\n",
    "print(\"90% 정밀도로 예측한 결과:\", y_train_pred_90)\n",
    "\n",
    "### 정밀도 \n",
    "print(\"90% 정밀도로 예측한 결과의 정밀도:\", precision_score(y_train_5, y_train_pred_90))\n",
    "\n",
    "### 재현율 \n",
    "print(\"90% 정밀도로 예측한 결과의 재현율:\", recall_score(y_train_5, y_train_pred_90))"
   ]
  },
  {
   "cell_type": "code",
   "execution_count": null,
   "id": "f0c6a7a3",
   "metadata": {},
   "outputs": [],
   "source": []
  }
 ],
 "metadata": {
  "kernelspec": {
   "display_name": "ml_basic",
   "language": "python",
   "name": "python3"
  },
  "language_info": {
   "codemirror_mode": {
    "name": "ipython",
    "version": 3
   },
   "file_extension": ".py",
   "mimetype": "text/x-python",
   "name": "python",
   "nbconvert_exporter": "python",
   "pygments_lexer": "ipython3",
   "version": "3.12.11"
  }
 },
 "nbformat": 4,
 "nbformat_minor": 5
}
