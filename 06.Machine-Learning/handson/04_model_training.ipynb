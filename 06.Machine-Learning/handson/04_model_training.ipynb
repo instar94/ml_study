{
 "cells": [
  {
   "cell_type": "markdown",
   "id": "5c4f95a8",
   "metadata": {},
   "source": [
    "# 모델 훈련 (Model Training)\n",
    "\n",
    "## 목표 \n",
    "\n",
    "> 선형회귀 모델 훈련 \n",
    "\n",
    "- 방식1 - `닫힌 형태 방정식`  : 훈련 세트에 가장 잘 맞는 모델 파라미터를 직접 계산 \n",
    "- 방식2 - `경사 하강법` : 모델 파라미터를 조금씩 바꾸면서 비용 함수를 훈련 세트에 대해 최소화 "
   ]
  },
  {
   "cell_type": "markdown",
   "id": "b6a1a89c",
   "metadata": {},
   "source": [
    "# 1. 선형 회귀 \n",
    "\n",
    "## 1) 선형 회귀 모델의 예측 \n",
    "\n",
    "- 선형 모델은 입력 특성의 가중치 합과 편향의 합 \n",
    "\n",
    "$$\n",
    "\\hat{y} = \\theta_0 + \\theta_1 \\cdot x_1 + \\theta_2 \\cdot x_2 + ... + \\theta_n \\cdot x_n\n",
    "$$\n",
    "\n",
    "- 예시 :   삶의 만족도와 1인당 GDP 사이의 선형회귀 모델 \n",
    "$$\n",
    "\\text{}\\text{삶의 만족도} = \\theta_0 + \\theta_1 \\cdot \\text{1인당 GDP}\n",
    "$$\n",
    "\n",
    "### 기회 읽는 방법\n",
    "\n",
    "|기호|의미|읽는 법|\n",
    "|---|---|---|\n",
    "|$\\hat{y}$|예측값|y 햇|\n",
    "|$n$|특성의 수|n|\n",
    "|$x_i$|n개 특성 중 i번째 특성| x i|\n",
    "|$theta_j$| j번째 가중치 | 세타 j | \n",
    "|$theta_0$| 편향 혹은 절편 | 세타 0 |\n",
    " \n",
    "\n",
    "#### 벡터 형태로 변경 \n",
    "$$\n",
    "\\hat{y} = h_{\\theta}(x) = \\theta \\cdot x\n",
    "$$\n",
    "\n",
    "|기호|의미|\n",
    "|---|---|\n",
    "|$\\hat{y}$|예측값|\n",
    "|$h_{\\theta}(x)$| 가설 함수 - 이 함수에 x를 넣으면 예측값을 출력 |\n",
    "|$\\theta$| 특성 가중치 파라미터 벡터 - $theta$로 이뤄진 행렬|\n",
    "|$x$|툭성 벡터 - $x_0 ~ x_n$을 담을 행렬|\n",
    "|$\\theta \\cdot x$| $\\theta$ 와 $x$의 점곱 - 선형모델과 동일|\n",
    "\n",
    "\n",
    "## 2) 모델 훈련이란? \n",
    "\n",
    "> 훈련 세트에 가장 잘 맞도록 파라미터를 설정 하는 것 \n",
    "\n",
    "- 예시 : $RMSE$ \n",
    "  - $RMSE$를 가장 최소화 하는 $\\theta$값을 찾는 것 "
   ]
  },
  {
   "cell_type": "markdown",
   "id": "423cc5ab",
   "metadata": {},
   "source": [
    "# 2. 정규 방정식 \n",
    "- 비용함수를 최소화 하는 `θ`를 구하는 방법\n",
    "\n",
    "$$\n",
    "\\hat{\\theta} = (X^TX)^{-1}X^Ty\n",
    "$$\n",
    "\n",
    "| 기호 | 의미 | \n",
    "|--|--|\n",
    "|$\\hat{\\theta}$| 비용함수를 최소화 하는 $\\theta$ 값|\n",
    "|$y$|타겟 벡터 값|"
   ]
  },
  {
   "cell_type": "markdown",
   "id": "6526b23a",
   "metadata": {},
   "source": [
    "## 데이터 생성 \n",
    "- 샘플이 m개인 데이터 생성"
   ]
  },
  {
   "cell_type": "code",
   "execution_count": 3,
   "id": "81160ffe",
   "metadata": {},
   "outputs": [],
   "source": [
    "import numpy as np\n",
    "\n",
    "np.random.seed(42)\n",
    "\n",
    "### 샘플 갯수 \n",
    "m = 100\n",
    "\n",
    "### 열 벡터 \n",
    "X = 2 * np.random.rand(m, 1)\n",
    "\n",
    "### 타겟 벡터\n",
    "y = 4 + 3 * X + np.random.randn(m, 1)"
   ]
  },
  {
   "cell_type": "markdown",
   "id": "7a8c870a",
   "metadata": {},
   "source": [
    "## 비용함수를 최소화 하는 $\\theta$ 값\n",
    "- 넘파이의 `np.linalg`의 `inv` 함수로 역행렬 계산 -> $X^T$\n",
    "- `np.dot`로 행렬 곱셈 / `@`도 점곱 수행 (단, 리스트는 사용 불가능)"
   ]
  },
  {
   "cell_type": "code",
   "execution_count": 4,
   "id": "87d154d2",
   "metadata": {},
   "outputs": [
    {
     "name": "stdout",
     "output_type": "stream",
     "text": [
      "비용함수를 최소화 하는 theta 값 : [[4.21509616]\n",
      " [2.77011339]]\n"
     ]
    }
   ],
   "source": [
    "from sklearn.preprocessing import add_dummy_feature\n",
    "\n",
    "X_b = add_dummy_feature(X)\n",
    "theta_best = np.linalg.inv(X_b.T @ X_b) @ X_b.T @ y\n",
    "\n",
    "print(\"비용함수를 최소화 하는 theta 값 :\", theta_best)"
   ]
  },
  {
   "cell_type": "markdown",
   "id": "bfeebf4f",
   "metadata": {},
   "source": [
    "- 잡음 때문에 정확한 값을 재현하지 못함 \n",
    "    - 실제 값은 $\\theta_0 = 4 , \\theta_1=3$\n",
    "    - 하지만 예측 값은 $\\theta_0 = 4.21 , \\theta_1 = 2.77$\n"
   ]
  },
  {
   "cell_type": "markdown",
   "id": "3c59780c",
   "metadata": {},
   "source": [
    "## 비용함수를 최소화 하는  $\\hat{\\theta}$로 모델 예측"
   ]
  },
  {
   "cell_type": "markdown",
   "id": "86a9daf3",
   "metadata": {},
   "source": [
    "#### 예측 실행\n",
    "- X_new = 2행의 행렬을 생성 \n",
    "- X_new_b : $x_1=0$ 추가 -> 첫번째 원소를 1로 만듦 \n",
    "- 예측 데이터 x $\\theta$를 예측값을 만듦"
   ]
  },
  {
   "cell_type": "code",
   "execution_count": 5,
   "id": "48993cf9",
   "metadata": {},
   "outputs": [
    {
     "name": "stdout",
     "output_type": "stream",
     "text": [
      "예측용 데이터 : [[0]\n",
      " [2]]\n",
      "예측용 데이터 : [[1. 0.]\n",
      " [1. 2.]]\n",
      "예측값 : [[4.21509616]\n",
      " [9.75532293]]\n"
     ]
    }
   ],
   "source": [
    "### 예측용 데이터 생성 \n",
    "\n",
    "### 2x2 행렬 생성 \n",
    "X_new = np.array([[0], [2]])\n",
    "print(\"예측용 데이터 :\", X_new)\n",
    "\n",
    "\n",
    "### 더미 피쳐 추가  x0 = 1 추가 \n",
    "### (1, x) 추가 \n",
    "X_new_b = add_dummy_feature(X_new)\n",
    "print(\"예측용 데이터 :\", X_new_b)\n",
    "\n",
    "### 예측값 계산\n",
    "y_predict = X_new_b @ theta_best\n",
    "print(\"예측값 :\", y_predict)"
   ]
  },
  {
   "cell_type": "markdown",
   "id": "c46f2273",
   "metadata": {},
   "source": [
    "#### 데이터 시각화를 위한 matplotlib 설정"
   ]
  },
  {
   "cell_type": "code",
   "execution_count": 6,
   "id": "73687c0e",
   "metadata": {},
   "outputs": [],
   "source": [
    "import matplotlib.pyplot as plt\n",
    "\n",
    "plt.rcParams['font.family'] ='Malgun Gothic'\n",
    "plt.rcParams['axes.unicode_minus'] =False\n",
    "plt.rc('font', size=14)\n",
    "plt.rc('axes', labelsize=14, titlesize=14)\n",
    "plt.rc('legend', fontsize=14)\n",
    "plt.rc('xtick', labelsize=10)\n",
    "plt.rc('ytick', labelsize=10)"
   ]
  },
  {
   "cell_type": "markdown",
   "id": "40e84e05",
   "metadata": {},
   "source": [
    "#### 예측값 및 선형 회귀선 시각화"
   ]
  },
  {
   "cell_type": "code",
   "execution_count": 7,
   "id": "1a03af8c",
   "metadata": {},
   "outputs": [
    {
     "data": {
      "image/png": "[encoded data removed]",
      "text/plain": [
       "<Figure size 640x480 with 1 Axes>"
      ]
     },
     "metadata": {},
     "output_type": "display_data"
    }
   ],
   "source": [
    "plt.plot(X_new, y_predict, \"r-\", label=\"예측\")\n",
    "plt.plot(X,y,\"b.\")\n",
    "plt.grid()\n",
    "plt.show()"
   ]
  },
  {
   "cell_type": "markdown",
   "id": "5c38ab9d",
   "metadata": {},
   "source": [
    "## 사이킷 런으로 구현 \n",
    "- `LinearRegression`은 `scipy.linalg.lstsq()`기반 -> 직접 호출도 가능 \n",
    "- $\\hat{\\theta} = X^{+}y$ 를 계산 \n",
    "  - $X^{+}$는 $X$의 유사역행렬 \n",
    "  - `np.linalg.pinv()`로 유사역행렬을 직접 구할 수도 있음 \n",
    "  - 유사 역행렬 자체는 `특이값 분해`에 사용됨  \n",
    "\n",
    "- 객체 선언 후 fit으로 학습 \n",
    "- `intercept_(편향)`와 `coef_(가중치)`를 저장\n"
   ]
  },
  {
   "cell_type": "code",
   "execution_count": 8,
   "id": "7ddb7145",
   "metadata": {},
   "outputs": [
    {
     "name": "stdout",
     "output_type": "stream",
     "text": [
      "편향 : [4.21509616]\n",
      "가중치 : [[2.77011339]]\n",
      "예측값 : [[4.21509616]\n",
      " [9.75532293]]\n",
      "lstsq로 구한 theta 값 : [[4.21509616]\n",
      " [2.77011339]]\n",
      "유사 역행렬로 구한 theta 값 : [[4.21509616]\n",
      " [2.77011339]]\n"
     ]
    }
   ],
   "source": [
    "from sklearn.linear_model import LinearRegression\n",
    "\n",
    "### 객체 생성\n",
    "lin_reg = LinearRegression()\n",
    "\n",
    "### 모델 학습\n",
    "lin_reg.fit(X, y)\n",
    "print(\"편향 :\", lin_reg.intercept_)\n",
    "print(\"가중치 :\", lin_reg.coef_)\n",
    "\n",
    "### 예측 실행\n",
    "lin_reg.predict(X_new)\n",
    "\n",
    "### 예측값\n",
    "print(\"예측값 :\", lin_reg.predict(X_new))\n",
    "\n",
    "### lstsq 로 직접 호출\n",
    "theta_best_svd, residuals, rank, s = np.linalg.lstsq(X_b, y, rcond=1e-6)\n",
    "print(\"lstsq로 구한 theta 값 :\", theta_best_svd)\n",
    "\n",
    "### 유사 역행렬로 직접 구하기\n",
    "np.linalg.pinv(X_b) @ y\n",
    "print(\"유사 역행렬로 구한 theta 값 :\", np.linalg.pinv(X_b) @ y)"
   ]
  },
  {
   "cell_type": "markdown",
   "id": "4e1bd5cc",
   "metadata": {},
   "source": [
    "## 계산의 복잡도 \n",
    "### 정규방정식의 복잡도\n",
    "- 정규방정식은 (n+1) * (n +1) 크기의 역행렬 계산 -> 계산 복잡도 : $O(n^{2.4}) \\text{ 에서 }  O(n^3)$\n",
    "- 특성이 2배 늘어날 수록 5.3배 ~ 8배 증가 \n",
    "\n",
    "### LinearRegression 복잡도\n",
    "- `LinearRegression` 복잡도 $O(n^{2})= 4배$ \n",
    "- 학습된 선형 회귀 모델 예측이 매우 빠름 \n"
   ]
  },
  {
   "cell_type": "markdown",
   "id": "11104a1a",
   "metadata": {},
   "source": [
    "# 3. 경사하강법\n",
    "\n",
    "## 1) 정의\n",
    "> 비용함수를 최소화하기 위해 반복하여 파라미터를 조정해가는 것 \n",
    "\n",
    "### 경사하강법 원리 \n",
    "- 1단계 랜덤초기화 : 임의의 $\\theta$ 값으로 시작 \n",
    "- 2단계 그라디언트 계산 : 비용함수가 감소되는 방향으로 진행 \n",
    "\n",
    "### 학습률 \n",
    "-  학습률 : 학습의 스텝 -> 감소를 얼마나 할지 결정\n",
    "- 학습률이 큰 경우 : 발산 -> 비효율\n",
    "- 학습률이 작은 경우 : 수렴이 느림 -> 비효율 \n",
    "\n",
    "### 최솟값\n",
    "- 지역 최솟값 : 전체 최솟값이 아닌, 현재 위치에서 가장 낮은 지점\n",
    "- 전역 최솟값 : 전체 최솟값\n",
    "\n",
    "### 경사하강법의 문제 \n",
    "- 랜덤초기화로 인해 전역 최솟값보다 지역 최솟값에 빠질 수 있음\n",
    "- 지역 최솟값에 빠지면, 전역 최솟값을 찾지 못하거나 비효율적으\n",
    "  - 선형회귀의 경우 볼록 함수 -> 지역 최솟값이 없음 \n",
    "- 파라미터 공간 : 비용함수를 최소화 하는 모델 파라미터 조합 "
   ]
  },
  {
   "cell_type": "markdown",
   "id": "470dcdc3",
   "metadata": {},
   "source": [
    "## 2) 배치 경사 하강법 \n",
    "- 경사하강법 : 모델 파라미터에 대해서 비용함수의 그레디언트(기울기)를 계산 \n",
    "  - $\\theta$ 가 변경될 때 비용 함수가 얼마나 바뀌는지 계산이 필요 -> `편도함수`\n",
    "- 그레디언트가 커지는 방향 -> 반대방향으로 가야함 \n",
    "  - $\\theta - \\nabla MSE(\\theta)$\n",
    "- 학습률 : $\\eta$\n",
    "\n",
    "- 경사하강법의 스텝  : $\\theta^\\text{next step} = \\theta - \\eta \\nabla_{\\theta}MSE(\\theta)$\n",
    "\n",
    "|기호|의미|\n",
    "|---|---|\n",
    "|$\\nabla MSE(\\theta)$| 변화하는 양|\n",
    "|$\\theta - \\nabla MSE(\\theta)$| 그레디언트 벡터의 반대 방향으로 움직임|\n",
    "|$\\eta$| 학습률| \n",
    "|$\\theta^\\text{next step} = \\theta - \\eta \\nabla_{\\theta}MSE(\\theta)$|그레디언트 벡터의 반대 방향으로 학습률 만큼 움직임|\n",
    "\n",
    "\n",
    "- 에포크(epoch) : 반복 횟수 "
   ]
  },
  {
   "cell_type": "markdown",
   "id": "dee3bef0",
   "metadata": {},
   "source": [
    "### 경사 하강법 구현 \n",
    "- gradients = 비용함수를 최소화 하는 $\\theta$를 구함 - $\\hat{\\theta} = (X^TX)^{-1}X^Ty$ \n",
    "- 학습률만큼 를 업데이트 함 $\\theta$ (경사 하강함)"
   ]
  },
  {
   "cell_type": "code",
   "execution_count": 9,
   "id": "1f9213a3",
   "metadata": {},
   "outputs": [
    {
     "name": "stdout",
     "output_type": "stream",
     "text": [
      "경사하강법으로 구한 theta 값 : [[4.21509616]\n",
      " [2.77011339]]\n"
     ]
    }
   ],
   "source": [
    "### 학습률\n",
    "eta = 0.1\n",
    "\n",
    "### 반복횟수 - 에포크 \n",
    "n_epochs = 1000\n",
    "\n",
    "### 샘플 갯수\n",
    "m = len(X_b)\n",
    "\n",
    "###  theta 무작위 초기화\n",
    "np.random.seed(42)\n",
    "theta = np.random.randn(2, 1)  \n",
    "\n",
    "### 에포크 만큼 반복 시킴 \n",
    "for epoch in range(n_epochs):\n",
    "    ###  그레디언트 계산 \n",
    "    gradients = 2/m * X_b.T @ (X_b @ theta - y)\n",
    "    ###  theta 업데이트\n",
    "    theta = theta - eta * gradients\n",
    "\n",
    "print(\"경사하강법으로 구한 theta 값 :\", theta)"
   ]
  },
  {
   "cell_type": "markdown",
   "id": "65cbc784",
   "metadata": {},
   "source": [
    "### 적합한 파라미터 선택 \n",
    "#### 학습률\n",
    "- 적절한 학습률을 찾기 위해 `그리드 서치`를 사용 \n",
    "  - 단, 시간이 너무 오래 걸릴 수 있기 때문에 `반복횟수`를 선정해야함\n",
    "\n",
    "#### 반복횟수 \n",
    "- 반복 횟수가 너무 적으면 `과소적합`이 발생 -> 학습이 되기 전에 멈춰버림 \n",
    "- 반복 횟수가 너무 많으면 `과대적합`이 발생 -> 학습이 너무 많이 되어버림\n",
    "  -> 반복횟수가 많이 하고, 그레디언트의 벡터가 무시 할 정도로 작아지면 (=`허용 오차`보다 작아지면) 알고리즘 중지"
   ]
  },
  {
   "cell_type": "markdown",
   "id": "49a7522c",
   "metadata": {},
   "source": [
    "## 3) 확률적 경사 하강법 \n",
    "### 1) 배치 경사 하강법의 문제 \n",
    "- 전체 훈련 세트를 사용해 그레디언트 계산을 해야함 -> 훈련세트가 커지면 매우 느려짐 \n",
    "\n",
    "### 2) 화률적 경사 하강법 \n",
    "#### 장점 : \n",
    "- 한 번에 스텝에 샘플을 랜덤으로 처리\n",
    "- 한 번에 필요한 샘플이 매우 적게 필요 -> 알고리즘이 확실히 빠름 \n",
    "\n",
    "#### 단점 : \n",
    "- 알고리즘이 배치 보다 불안정함\n",
    "- 무작위성 : 지역 최솟값에서 탈출 -> 전역 최솟값에 도달 못할 수도 있음\n",
    "-> 딜레마를 해결 하는 방법 : 점진적으로 감소시키는 것 \n",
    "  - 시작 할 때는 학습률 크기 , 점차 작게 감소시킴 -> `담금질 기법`\n",
    " - 매 번 `학습 스케줄`을 결정 \n"
   ]
  },
  {
   "cell_type": "markdown",
   "id": "66728e67",
   "metadata": {},
   "source": [
    "- 예시 ) 학습 스케줄을 사용한 경사하강법\n",
    "\n",
    "실행 단계 \n",
    "- 1단계 : 랜덤으로 인덱스 선택 \n",
    "- 2단계 : 그레디언트 계산\n",
    "- 3단계 : 학습률 계산 \n",
    "- 4단계 : 그레디언트를 반대로 움직임"
   ]
  },
  {
   "cell_type": "code",
   "execution_count": 10,
   "id": "6de213fd",
   "metadata": {},
   "outputs": [
    {
     "name": "stdout",
     "output_type": "stream",
     "text": [
      "확률적 경사하강법으로 구한 theta 값 : [[4.21076011]\n",
      " [2.74856079]]\n"
     ]
    }
   ],
   "source": [
    "### 반복 횟수 \n",
    "n_epochs =50 \n",
    "\n",
    "### 학습 스케줄 파라미터 \n",
    "t0, t1 = 5, 50\n",
    "\n",
    "### 학습 스케줄 함수 생성 \n",
    "def learning_schedule(t):\n",
    "    return t0 / (t + t1)\n",
    "\n",
    "### theta 무작위 초기화\n",
    "np.random.seed(42)\n",
    "theta = np.random.randn(2, 1)\n",
    "\n",
    "### 에포크 만큼 반복 시킴\n",
    "for epoch in range(n_epochs):\n",
    "    ### 샘플 크기 만큼 반복 \n",
    "    for iteration in range(m):\n",
    "        ### 랜덤으로 샘플 선택 \n",
    "        random_index = np.random.randint(m)\n",
    "        ### 샘플 선택\n",
    "        xi = X_b[random_index:random_index + 1]\n",
    "        yi = y[random_index:random_index + 1]\n",
    "        ### 그레디언트 계산\n",
    "        gradients = 2 * xi.T @ (xi @ theta - yi)\n",
    "        ### 학습률 계산\n",
    "        eta = learning_schedule(epoch * m + iteration)\n",
    "        ### theta 업데이트\n",
    "        theta = theta - eta * gradients\n",
    "\n",
    "print(\"확률적 경사하강법으로 구한 theta 값 :\", theta)"
   ]
  },
  {
   "cell_type": "markdown",
   "id": "c011c9c3",
   "metadata": {},
   "source": [
    "- 에포크가 반속되면서 `모든 데이터`가 사용되지 않을 수 있음 \n",
    "  - 모든 데이터를 선택하고 다음 에포크가 넘어가도록 할 수 있지만 결과가 더 향상되지 않음 "
   ]
  },
  {
   "cell_type": "markdown",
   "id": "2dda9741",
   "metadata": {},
   "source": [
    "### 사이킷 런에서의 SGD \n",
    "- 사이킷 런에서는 기본적으로 SGDRegressor를 사용\n",
    "  -SGDRegressor : 제곱 오차 비용 함수를 최적화함 "
   ]
  },
  {
   "cell_type": "markdown",
   "id": "1561b28e",
   "metadata": {},
   "source": [
    "####  예시 \n",
    "-`max_iter` :  최대  에포크 반복  - 1000\n",
    "- `n_iter_no_change` :  에포크 반복 중 변화가 없을 때 반복 중지 - 10\n",
    "- `tol` :  변화가 없을 때 변화량 - 1e-5\n",
    "- `eta` :  학습률 - 0.01\n",
    "- 규제는 사용하지 않음 `penalty=None`"
   ]
  },
  {
   "cell_type": "code",
   "execution_count": 11,
   "id": "10eb23b8",
   "metadata": {},
   "outputs": [
    {
     "name": "stdout",
     "output_type": "stream",
     "text": [
      "편향 : [4.21278812]\n",
      "가중치 : [2.77270267]\n"
     ]
    }
   ],
   "source": [
    "from sklearn.linear_model import SGDRegressor\n",
    "\n",
    "sgd_reg = SGDRegressor(max_iter=1000,  #### 최대 에포크 반복\n",
    "                   tol=1e-5,  ### 변화가 없을 때 변화량\n",
    "                     n_iter_no_change=100,  ### 에포크 반복 중 변화가 없을 때 반복 중지\n",
    "                     penalty=None,  ### 규제 방법\n",
    "                     eta0=0.01, ### 학습률 \n",
    "                     random_state=42)\n",
    "\n",
    "### fit() : 모델 학습\n",
    "### y.ravel() : 1차원 배열로 변환\n",
    "sgd_reg.fit(X, y.ravel())\n",
    "\n",
    "print(\"편향 :\", sgd_reg.intercept_)\n",
    "print(\"가중치 :\", sgd_reg.coef_)"
   ]
  },
  {
   "cell_type": "markdown",
   "id": "718bb371",
   "metadata": {},
   "source": [
    "## 4) 미니 배치 경사 하강법 \n",
    "- `미니 배치` : 임의의 작은 샘플을 이용하여 그레디언트를 계산 \n",
    "\n",
    "### 장점 \n",
    "- 행렬 연산에 최적화된 하드웨어를 사용해 성능을 향상 시킬 수 있음 \n",
    "- 파라미터 공간에서 SGD보다 덜 불규칙적임 \n",
    "- SGD보다는 최솟값에 더 가까이 도달하게 됨 \n",
    "\n",
    "### 단점\n",
    "- 지역 최솟값에 빠져나오기 더 힘들 수 있음 -> 적절한 학습 스케줄을 사용해야함 "
   ]
  },
  {
   "cell_type": "markdown",
   "id": "2e816b97",
   "metadata": {},
   "source": [
    "- 선형 회귀를 사용한 알고리즘 비교 \n",
    "\n",
    "|알고리즘|샘플(m)이 클 때|외부 메모리 학습지원|학습률$\\eta$ 클 때 |하이퍼 파라미터 수| 스케일 조정 필요|사이킷런|\n",
    "|---|---|---|---|---|---|---|\n",
    "|정규 방정식|빠름|X|느림|0|X|N/A|\n",
    "|SVD|빠름|X|느림|0|X|LinerRegression|\n",
    "|배치 경사 하강법|느림|2|빠름|0|Y|N/A|\n",
    "|확률적 경사 하강법|빠름|>=2|빠름|0|Y|SGDRegressor|\n",
    "|미니배치 경사하강법|빠름|O|빠름|>=2|Y|N/A|"
   ]
  },
  {
   "cell_type": "markdown",
   "id": "21763cbc",
   "metadata": {},
   "source": [
    "# 4. 다항 회귀 \n",
    "> 비선형적인 데이터에 대한 선형 회귀 모델을 확장한 것\n",
    "\n",
    "- 예시 : 2차 방정식 + 잡음 추가 "
   ]
  },
  {
   "cell_type": "markdown",
   "id": "7bce17f9",
   "metadata": {},
   "source": [
    "## 1) 다항 회귀 구현 \n",
    "\n",
    "### 비선형 데이터 생성 \n",
    "$y=ax^2+bx+c$  구현 "
   ]
  },
  {
   "cell_type": "code",
   "execution_count": 22,
   "id": "ce144e32",
   "metadata": {},
   "outputs": [],
   "source": [
    "np.random.seed(42)\n",
    "\n",
    "### 샘플 갯수\n",
    "m = 100\n",
    "### X , y 데이터 생성 \n",
    "X = 6 * np.random.rand(m, 1) - 3\n",
    "y = 0.5 * X ** 2 + X + 2 + np.random.randn(m, 1)"
   ]
  },
  {
   "cell_type": "markdown",
   "id": "48b47316",
   "metadata": {},
   "source": [
    "### PolynomialFeatures : 다항식 피쳐 생성\n",
    "- 훈련 세트에 있는 특성을 제곱하여 새로운 특성 추가 "
   ]
  },
  {
   "cell_type": "code",
   "execution_count": 23,
   "id": "fae2b84c",
   "metadata": {},
   "outputs": [
    {
     "name": "stdout",
     "output_type": "stream",
     "text": [
      "첫번째 항 X[0] : [-0.75275929]'\n",
      "다항 특성이 추가된 첫번째 항 X_poly[0] : [-0.75275929  0.56664654]'\n"
     ]
    }
   ],
   "source": [
    "from sklearn.preprocessing import PolynomialFeatures\n",
    "\n",
    "### 다항 특성 생성기\n",
    "poly_features = PolynomialFeatures(degree=2, include_bias=False)\n",
    "### fit_transform() : 다항 특성 생성 -> 제곱항을 추가함 \n",
    "X_poly = poly_features.fit_transform(X)\n",
    "\n",
    "### 다항 특성 생성 확인\n",
    "print(f\"첫번째 항 X[0] : {X[0]}'\")\n",
    "print(f\"다항 특성이 추가된 첫번째 항 X_poly[0] : {X_poly[0]}'\")"
   ]
  },
  {
   "cell_type": "markdown",
   "id": "2c41aaf6",
   "metadata": {},
   "source": [
    "- 선형 회귀모델에 생성된 다항 특성을 적용 "
   ]
  },
  {
   "cell_type": "code",
   "execution_count": 24,
   "id": "10f1d3f2",
   "metadata": {},
   "outputs": [
    {
     "name": "stdout",
     "output_type": "stream",
     "text": [
      "편향 : [1.78134581]\n",
      "가중치 : [[0.93366893 0.56456263]]\n"
     ]
    }
   ],
   "source": [
    "### 선형 회귀 모델 생성\n",
    "lin_reg = LinearRegression()\n",
    "\n",
    "### 모델 학습 - 다항특성이 추가된 것으로 \n",
    "lin_reg.fit(X_poly, y)\n",
    "\n",
    "### 가중치 및 편향 확인 \n",
    "print(\"편향 :\", lin_reg.intercept_)\n",
    "print(\"가중치 :\",lin_reg.coef_)"
   ]
  },
  {
   "cell_type": "markdown",
   "id": "7e61e48f",
   "metadata": {},
   "source": [
    "- 원래 의한 식 : $y=0.5x{_1}{^2}+1.0x{_1}+2.0+\\text{가우스잡음}$\n",
    "- 예측된 식 : $y=0.56x{_1}{^2}+0.93x{_1}+1.78+\\text{가우스잡음}$"
   ]
  },
  {
   "cell_type": "markdown",
   "id": "3d7d0c94",
   "metadata": {},
   "source": [
    "# 5. 학습 곡선\n",
    "- 고차 다항 회귀 모델은 과대적합이 발생할 수 있음\n",
    "\n",
    "## 과대적합 판단 \n",
    "  - 일반화 성능을 판단하기 위한 방법 \n",
    "    - `교차검증` : 교차검증 점수가 나쁘면 과대적합이 발생한 것\n",
    "## 학습곡선 \n",
    "- `학습곡선` : 모델의 훈련 오차와 검증 오차를 훈련 반복 횟수의 함수로 나타낸 그래프 \n",
    "    - 훈련하는 동안 훈련 세트와 검증 세트에서 일정한 간격으로 모델 평가하고 그래프로 그림 \n",
    "    - `learning_curve` 로 구현 가능\n",
    "     - `exploit_incremental_learning=True` : 모델을 점진적으로 학습할 수 있도록 설정"
   ]
  },
  {
   "cell_type": "markdown",
   "id": "087344fa",
   "metadata": {},
   "source": [
    "- 예시 : 선형회귀모델의 학습곡선 그리기 "
   ]
  },
  {
   "cell_type": "code",
   "execution_count": 26,
   "id": "a42ec778",
   "metadata": {},
   "outputs": [
    {
     "data": {
      "image/png": "[encoded data removed]",
      "text/plain": [
       "<Figure size 640x480 with 1 Axes>"
      ]
     },
     "metadata": {},
     "output_type": "display_data"
    }
   ],
   "source": [
    "from sklearn.model_selection import learning_curve\n",
    "\n",
    "train_sizes, train_scores, valid_scores = learning_curve(LinearRegression(), X,y,train_sizes=np.linspace(0.01, 1.0, 40),\n",
    "                                                        cv=5, scoring=\"neg_mean_squared_error\")\n",
    "\n",
    "train_errors = -train_scores.mean(axis=1)\n",
    "valid_errors = -valid_scores.mean(axis=1)\n",
    "\n",
    "plt.plot(train_sizes, train_errors, \"r-+\", linewidth=2, label=\"훈련 세트\")\n",
    "plt.plot(train_sizes, valid_errors, \"b-\", linewidth=3, label=\"검증 세트\")\n",
    "plt.grid()\n",
    "plt.show()"
   ]
  },
  {
   "cell_type": "markdown",
   "id": "343e23d4",
   "metadata": {},
   "source": [
    "- 해당 모델은 `과소 적합`\n",
    "- `훈련오차(빨간색)`\n",
    "  - 샘플 갯수가 적을 수록 완벽하게 작동함 \n",
    "  - 샘플 갯수가 추가될 수록 오차가 증가함 -> 평평해질 때까지 오차가 계속 상승 \n",
    "  - 평평해진 상태 : 평균 오차가 더욱 나빠지거나 좋아지지 않음 \n",
    "-`검증 오차 (파란색)`\n",
    "   - 적은 샘플 : 일반화될 수 없어서 검증 오차가 매우 큼 \n",
    "   - 훈련됨에 따라 검증 오차가 점점 감소함 \n",
    "   - 오차가 완만하게 감소하며 훈련 세트의 그래프와 가까워짐 "
   ]
  },
  {
   "cell_type": "markdown",
   "id": "e506763c",
   "metadata": {},
   "source": [
    "- 예시 ) 10차 다항회귀 "
   ]
  },
  {
   "cell_type": "code",
   "execution_count": 29,
   "id": "83fd3d59",
   "metadata": {},
   "outputs": [
    {
     "data": {
      "image/png": "[encoded data removed]",
      "text/plain": [
       "<Figure size 600x400 with 1 Axes>"
      ]
     },
     "metadata": {},
     "output_type": "display_data"
    }
   ],
   "source": [
    "from sklearn.pipeline import make_pipeline\n",
    "\n",
    "### 10차 다항식 생성 \n",
    "polynomial_regression = make_pipeline(\n",
    "    PolynomialFeatures(degree=10, include_bias=False),  \n",
    "    LinearRegression() \n",
    ")\n",
    "\n",
    "### 학습곡선 생성 \n",
    "train_sizes, train_scores, valid_scores = learning_curve(\n",
    "    polynomial_regression, X, y, train_sizes=np.linspace(0.01, 1.0, 40), cv=5,\n",
    "    scoring=\"neg_root_mean_squared_error\")\n",
    "\n",
    "train_errors = -train_scores.mean(axis=1)\n",
    "valid_errors = -valid_scores.mean(axis=1)\n",
    "\n",
    "plt.figure(figsize=(6, 4))\n",
    "plt.plot(train_sizes, train_errors, \"r-+\", linewidth=2, label=\"train\")\n",
    "plt.plot(train_sizes, valid_errors, \"b-\", linewidth=3, label=\"valid\")\n",
    "plt.legend(loc=\"upper right\")\n",
    "plt.xlabel(\"Training set size\")\n",
    "plt.ylabel(\"RMSE\")\n",
    "plt.grid()\n",
    "plt.axis([0, 80, 0, 2.5])\n",
    "plt.show()"
   ]
  },
  {
   "cell_type": "markdown",
   "id": "40ae98b9",
   "metadata": {},
   "source": [
    "- 훈련 데이터 오차가 낮아짐 \n",
    "- 두 곡선 상 공간 -> 훈련데이터에서 모델이 더 나은 성능 -> 과대적합 모델 특징 "
   ]
  },
  {
   "cell_type": "markdown",
   "id": "ef558b35",
   "metadata": {},
   "source": [
    "# 6. 규제가 있는 선형 회귀 모델\n",
    "- `규제` : 과대적합을 줄이기 위해 모델을 규제하는 것 \n",
    "  - 자유도를 줄이면 데이터가 과대적합되기 어려움 \n",
    "  - 다항 회귀에서는 차수를 줄여 규제 가능 \n",
    "  - 선형 회귀에서는 가중치를 제한함 \n",
    "\n",
    "- 대표적인 방식 : `릿지`,`라쏘`, `엘라스틱넷`"
   ]
  },
  {
   "cell_type": "markdown",
   "id": "66d8e9a0",
   "metadata": {},
   "source": [
    "## 1) 릿지  회귀 \n",
    "> 규제가 추가된 선형 회귀 버전 \n",
    "\n",
    "- $MSE$에 $\\frac{a}{m}\\sum^{n}_{i=1}\\theta_{i}^{2}$ 가 추가됨 \n",
    "  - 모델 가중치가 가능한 작게 유지되도록 함\n",
    "  - 과대 적합 방지\n",
    "- 훈련하는 동안만 `비용함수`에 추가 \n",
    "- 훈련 완료 후에 성능 평가에서는 사용하지 않음 \n",
    "\n",
    "### 릿지의 원리 \n",
    "- $a$  : 모델을 얼마나 규제할지에 대한 `하이퍼파라미터`\n",
    "  - $a=0$ 이면 릿지 회귀는 일반 선형 회귀와 동일\n",
    " - $a$ 가 커질수록 가중치가 0에 가까워짐 -> 데이터 평균을 지나는 수평선으로 변함 \n",
    "\n",
    "\n",
    "#### 릿지 회귀 비용함수 \n",
    "- $J(\\theta) = MSE(\\theta) + \\frac{a}{m}\\sum^{n}_{i=1}\\theta_{i}^{2}$\n",
    "\n",
    "- $\\theta_0$ (편향) : 규제 대상이 아님 \n",
    "- $\\theta_i$ (가중치) : 규제 대상 \n",
    "  - 규제항은 $a(||w||_2)^2$\n",
    "    - $|| ||_2$ : 가중치 벡터의 $L2$노름 \n",
    "    - 배치 경사하강법의 경우 MSE 그레디언트 벡터에 $2\\alpha w/m$ 더함 \n",
    "\n",
    "#### 릿지의 회귀 정규방정식 \n",
    "$$\n",
    "\\hat{\\theta} = (X^T \\cdot X + \\alpha \\cdot A)^{-1} X^T \\cdot y\n",
    "$$\n",
    "  - $A$ : 편향 "
   ]
  },
  {
   "cell_type": "markdown",
   "id": "068a056f",
   "metadata": {},
   "source": [
    "### 사이킷런을 통한 릿지 적용 \n",
    "\n",
    "#### 정규 방정식 이용\n",
    "- `solver=\"cholesky\"` : 숄레스키 분해 "
   ]
  },
  {
   "cell_type": "code",
   "execution_count": 35,
   "id": "53535031",
   "metadata": {},
   "outputs": [
    {
     "name": "stdout",
     "output_type": "stream",
     "text": [
      "예측 값 :  [4.82899748]\n"
     ]
    }
   ],
   "source": [
    "from sklearn.linear_model import Ridge\n",
    "\n",
    "### 알파값이 0.1 + 숄레스키 분해 \n",
    "ridge_reg = Ridge(alpha=0.1, solver=\"cholesky\")\n",
    "\n",
    "### 모델 학습\n",
    "ridge_reg.fit(X, y)\n",
    "\n",
    "### 예측 진행 \n",
    "print(\"예측 값 : \",ridge_reg.predict([[1.5]]))\n"
   ]
  },
  {
   "cell_type": "markdown",
   "id": "9a59e07a",
   "metadata": {},
   "source": [
    "#### SGD 사용시 릿지 적용 \n",
    "- `penalty=l2` : 규제 함수로 L2를 사용"
   ]
  },
  {
   "cell_type": "code",
   "execution_count": 36,
   "id": "023b2121",
   "metadata": {},
   "outputs": [
    {
     "name": "stdout",
     "output_type": "stream",
     "text": [
      "예측 값 :  [4.82830117]\n"
     ]
    }
   ],
   "source": [
    "sgd_reg = SGDRegressor(penalty=\"l2\",\n",
    "                       alpha=0.1/m,  ### 알파값\n",
    "                       tol= None,\n",
    "                       max_iter=1000,\n",
    "                       eta0=0.01,\n",
    "                       random_state=42)\n",
    "\n",
    "### 모델 학습 - y.ravel() : 1차원 배열로 변환\n",
    "sgd_reg.fit(X, y.ravel())\n",
    "\n",
    "### 예측 진행\n",
    "print(\"예측 값 : \", sgd_reg.predict([[1.5]]))"
   ]
  },
  {
   "cell_type": "markdown",
   "id": "4fcd47d7",
   "metadata": {},
   "source": [
    "## 2) 라쏘 회귀\n",
    "### 정의 \n",
    "- 라쏘 회귀 처럼 규제항을 추가하지만 $l1$노름 응ㄹ 사용\n",
    "  - $l1$ 노름 $2\\alpha$을  곱함\n",
    "  - $l2$ 노름은 $\\frac{a}{m}$을 곱함\n",
    "  - 이유 : 최적의 $\\alpha$ 값이 훈련 세트의 크기와 무관하도록 하기 위함 \n",
    "\n",
    "### 라쏘회귀비용 함수 \n",
    "- $J(\\theta) = MSE(\\theta) + 2{a}\\sum^{n}_{i=1}|\\theta_{i}|$\n",
    "\n",
    "### 특징 \n",
    "- 덜 중요한 특성의 가중치를 제거하는 방식 \n",
    "  - 가중치가 0로 변함 \n",
    "  - 자동으로 특성 선택을 수행하고 희소모델을 만듦 (0이 아닌 특성의 가중치가 적음)\n",
    "\n",
    "### 서브그레이언트 벡터 g\n",
    "- 라쏘 비용함수는 $\\theta_i=0$ 에서 미분이 가능하지 않음 -> 경사하강법에서는 미분을 해야함\n",
    "- 대신 `서브그레디언트 벡터 g`를 이용하여 경사하강법에 적용 "
   ]
  },
  {
   "cell_type": "markdown",
   "id": "287a2f26",
   "metadata": {},
   "source": [
    "### 사이킷런의 라쏘 회귀\n",
    "- Lasso 대신 SGDRegressor(penelty=\"l1\", alpha=0.1)"
   ]
  },
  {
   "cell_type": "code",
   "execution_count": 39,
   "id": "8be3e1ce",
   "metadata": {},
   "outputs": [
    {
     "name": "stdout",
     "output_type": "stream",
     "text": [
      "예측 값 : [4.77621741]\n"
     ]
    }
   ],
   "source": [
    "from sklearn.linear_model import Lasso\n",
    "lasso_reg = Lasso(alpha=0.1)\n",
    "lasso_reg.fit(X, y)\n",
    "print(f\"예측 값 : {lasso_reg.predict([[1.5]])}\")"
   ]
  },
  {
   "cell_type": "markdown",
   "id": "1bae591e",
   "metadata": {},
   "source": [
    "## 3) 엘라스틱넷 \n",
    "\n",
    "### 정의\n",
    "- 라쏘와 릿지를 절충한 모델 \n",
    "- 규제항은 릿지와 라쏘를 더한 형태 + r을 통한 혼합비율 적용 \n",
    "  - r-0 : 릿지 회귀\n",
    "  - r-1 : 라쏘 회귀\n",
    "\n",
    "### 엘라스틱넷 비용함수 \n",
    "$J(\\theta) = MSE(\\theta) + r(2{a}\\sum^{n}_{i=1}|\\theta_{i}|) + (1-r) (\\frac{a}{m}\\sum^{n}_{i=1}\\theta_{i}^{2})$\n",
    "\n",
    "### 규제의 사용\n",
    "\n",
    "|상황|규제|\n",
    "|--|--|\n",
    "|기본|릿지|\n",
    "|유용한 특성이 몇가지만 있다면|라쏘 or 엘라스틱넷|\n",
    "|특성 수가 훈련샘플 수보다 많거나 특성 몇개가 강하게 연관 있을 경우|엘라스틱넷|\n",
    "\n",
    "- 대부분의 경우, 약간의 규제가 있는 것이 좋음 (일반적인 선형 회귀 지양)"
   ]
  },
  {
   "cell_type": "markdown",
   "id": "3c7058de",
   "metadata": {},
   "source": [
    "### 사이킷런을 이용한 엘라스틱넷"
   ]
  },
  {
   "cell_type": "code",
   "execution_count": 40,
   "id": "ecfd7590",
   "metadata": {},
   "outputs": [
    {
     "name": "stdout",
     "output_type": "stream",
     "text": [
      "예측 값 : [4.78114505]\n"
     ]
    }
   ],
   "source": [
    "from sklearn.linear_model import ElasticNet\n",
    "elastic_net = ElasticNet(alpha=0.1, l1_ratio=0.5)\n",
    "elastic_net.fit(X, y)\n",
    "print(f\"예측 값 : {elastic_net.predict([[1.5]])}\")"
   ]
  },
  {
   "cell_type": "markdown",
   "id": "1f25e7ce",
   "metadata": {},
   "source": [
    "## 4) 조기 종료 \n",
    "### 정의\n",
    "- 검증 오차가 최솟값에 도달하면 바로 훈련을 중지 \n",
    "    -  에포크가 진행될 수록 훈련 세트/학습 세트 오차가 줄어듦\n",
    "    - 그러다 검증세트에 대한 오차가 상승 -> 과대적합 시작 "
   ]
  },
  {
   "cell_type": "markdown",
   "id": "c714622c",
   "metadata": {},
   "source": [
    "### 사이킷런을 이용한 조기종료 \n",
    "- `partial_fit` : 점진적인 학습 \n",
    "- `copy.deepcopy()` : 모델을 복사 \n",
    "- `sklearn.base.clone()` : 모델의 하이퍼파라미터만 복사"
   ]
  },
  {
   "cell_type": "code",
   "execution_count": 43,
   "id": "b152a63e",
   "metadata": {},
   "outputs": [
    {
     "data": {
      "image/png": "[encoded data removed]",
      "text/plain": [
       "<Figure size 600x400 with 1 Axes>"
      ]
     },
     "metadata": {},
     "output_type": "display_data"
    }
   ],
   "source": [
    "from copy import deepcopy\n",
    "from sklearn.metrics import mean_squared_error\n",
    "from sklearn.preprocessing import StandardScaler\n",
    "\n",
    "np.random.seed(42)\n",
    "m = 100\n",
    "X = 6 * np.random.rand(m, 1) - 3\n",
    "y = 0.5 * X ** 2 + X + 2 + np.random.randn(m, 1)\n",
    "X_train, y_train = X[: m // 2], y[: m // 2, 0]\n",
    "X_valid, y_valid = X[m // 2 :], y[m // 2 :, 0]\n",
    "\n",
    "preprocessing = make_pipeline(PolynomialFeatures(degree=90, include_bias=False),\n",
    "                              StandardScaler())\n",
    "X_train_prep = preprocessing.fit_transform(X_train)\n",
    "X_valid_prep = preprocessing.transform(X_valid)\n",
    "sgd_reg = SGDRegressor(penalty=None, eta0=0.002, random_state=42)\n",
    "n_epochs = 500\n",
    "best_valid_rmse = float('inf')\n",
    "train_errors, val_errors = [], []  \n",
    "\n",
    "for epoch in range(n_epochs):\n",
    "    sgd_reg.partial_fit(X_train_prep, y_train)\n",
    "    y_valid_predict = sgd_reg.predict(X_valid_prep)\n",
    "    val_error = np.sqrt(mean_squared_error(y_valid, y_valid_predict))\n",
    "    if val_error < best_valid_rmse:\n",
    "        best_valid_rmse = val_error\n",
    "        best_model = deepcopy(sgd_reg)\n",
    "\n",
    "    y_train_predict = sgd_reg.predict(X_train_prep)\n",
    "    train_error = np.sqrt(mean_squared_error(y_train, y_train_predict))\n",
    "    val_errors.append(val_error)\n",
    "    train_errors.append(train_error)\n",
    "\n",
    "best_epoch = np.argmin(val_errors)\n",
    "plt.figure(figsize=(6, 4))\n",
    "plt.annotate('Best model',\n",
    "             xy=(best_epoch, best_valid_rmse),\n",
    "             xytext=(best_epoch, best_valid_rmse + 0.5),\n",
    "             ha=\"center\",\n",
    "             arrowprops=dict(facecolor='black', shrink=0.05))\n",
    "plt.plot([0, n_epochs], [best_valid_rmse, best_valid_rmse], \"k:\", linewidth=2)\n",
    "plt.plot(val_errors, \"b-\", linewidth=3, label=\"Validation set\")\n",
    "plt.plot(best_epoch, best_valid_rmse, \"bo\")\n",
    "plt.plot(train_errors, \"r--\", linewidth=2, label=\"Training set\")\n",
    "plt.legend(loc=\"upper right\")\n",
    "plt.xlabel(\"Epoch\")\n",
    "plt.ylabel(\"RMSE\")\n",
    "plt.axis([0, n_epochs, 0, 3.5])\n",
    "plt.grid()\n",
    "plt.show()"
   ]
  },
  {
   "cell_type": "markdown",
   "id": "80bc44ea",
   "metadata": {},
   "source": [
    "# 7. 로지스틱 회귀 \n",
    "## 1) 정의 \n",
    "- 로지스틱 회귀는 선형 회귀의 확장으로, 종속 변수(타겟)가 범주형일 때 사용됩니다.\n",
    "-> `회귀`이지만 `분류`문제로 사용 가능\n",
    "\n",
    "### 원리 \n",
    "- 추정 확률이 임계값보다 크면 -> 양성 클래스 (해당 클래스가 맞음)\n",
    "- 추정 확률이 임계값보다 작으면 -> 음성 클래스 (해당 클래스가 아님)\n",
    "\n",
    "## 2) 확률 추정 \n",
    "- 로지스틱 회귀는 입력 특성의 가중치 합을 계산 -> 바로 결과를 출력하지 않고 `로지스틱`을 출력 \n",
    "\n",
    "### 로지스틱 회귀모델의 확률 추정식 \n",
    "$$\n",
    "\\hat{p} = h_{\\theta}(x) = \\sigma(\\theta^T x)\n",
    "$$\n",
    "\n",
    "- `로지스틱`$\\sigma(t)$는 `시그모이드 함수`\n",
    "  - $\\sigma(t) = \\frac{1}{1 + exp(-t)}$\n",
    "\n",
    "### 추정식을 이용한 예측 \n",
    "- 위의 식을 통해 $\\hat{p}$로 `양성 클래스에 속할 확률`을 추정 \n",
    "  \\begin{cases} \n",
    "$$\n",
    "\\begin{cases} \n",
    "\\hat{y} = 0 (\\hat{p} < 0.5) \\\\\n",
    "\\hat{y} = 1 (\\hat{p} >= 0.5)\n",
    "\\end{cases}\n",
    "$$\n",
    "\n",
    "## 3) 훈련과 비용 함수 \n",
    "### 훈련 방법 \n",
    "- 훈련의 목적 : 양성 샘플($\\hat{y}=1$)에 대해서 높은 확률을 추정 , 음성 샘플은 낮게 추정 하는 모델 파라미터 $\\theta$를 출력 \n",
    "\n",
    "### 훈련 함수식 \n",
    "$$\n",
    "c(\\theta) =\n",
    "\\begin{cases} \n",
    "-log(\\hat{p})  \\text{양성클래스 일때 (y=1)} \\\\\n",
    "-log(1-\\hat{p})  \\text{음성클래스 일때 (y=0)} \n",
    "\\end{cases}\n",
    "$$\n",
    "\n",
    "- t가 0에 가까워지면 `-log(t)`가 커짐 -> 양성 클래스로 판단 \n",
    "- t가 1에 가까워지면 `-log(1-t)`가 커짐 -> 음성 클래스로 판단\n",
    "\n",
    "### 비용함수 \n",
    "- 모든 훈련 샘플의 비용을 평균한 것 (로그 손실)\n",
    "\n",
    "$$\n",
    "j(\\theta) =  - \\frac{1}{m} \\displaystyle\\sum^m_{i=1}[y^{(i)}log(\\hat{p}^{(i)})+(1-y^{(i)})log(1-\\hat{p}^{(i)})]\n",
    "$$\n",
    "\n",
    "- 아직은 비용함수의 최솟값을 계산하는 알려진 해가 없음 \n",
    "  - 함수의 형태가 볼록함수 -> 경사하강법 사용시 전역 최솟값을 찾는것을 보장함 "
   ]
  },
  {
   "cell_type": "markdown",
   "id": "ae8746f6",
   "metadata": {},
   "source": [
    "## 4) 결정 경계 \n",
    "- 분류를 결정하는 경계\n",
    "- 붓꽃 데이터셋을 이용한 분류 "
   ]
  },
  {
   "cell_type": "markdown",
   "id": "1271342f",
   "metadata": {},
   "source": [
    "### 분류기 생성\n",
    "- 꽃잎 너비를 기반으로 `iris-Versicolor` 종 감지 분류기\n",
    "\n",
    "### 데이터 로드"
   ]
  },
  {
   "cell_type": "code",
   "execution_count": 46,
   "id": "25ee84a2",
   "metadata": {},
   "outputs": [
    {
     "name": "stdout",
     "output_type": "stream",
     "text": [
      "list(iris) : ['data', 'target', 'frame', 'target_names', 'DESCR', 'feature_names', 'filename', 'data_module']\n",
      "iris.data :    sepal length (cm)  sepal width (cm)  petal length (cm)  petal width (cm)\n",
      "0                5.1               3.5                1.4               0.2\n",
      "1                4.9               3.0                1.4               0.2\n",
      "2                4.7               3.2                1.3               0.2\n",
      "iris.target : 0    0\n",
      "1    0\n",
      "2    0\n",
      "Name: target, dtype: int64\n",
      "iris.target_names : ['setosa' 'versicolor' 'virginica']\n"
     ]
    }
   ],
   "source": [
    "from sklearn.datasets import load_iris\n",
    "\n",
    "iris = load_iris(as_frame=True)\n",
    "print(f\"list(iris) : {list(iris)}\")\n",
    "print(f\"iris.data : {iris.data.head(3)}\")\n",
    "print(f\"iris.target : {iris.target.head(3)}\")\n",
    "print(f\"iris.target_names : {iris.target_names}\")"
   ]
  },
  {
   "cell_type": "markdown",
   "id": "fdc705af",
   "metadata": {},
   "source": [
    "### 로지스틱 회귀 모델을 훈련"
   ]
  },
  {
   "cell_type": "code",
   "execution_count": null,
   "id": "0c791bd2",
   "metadata": {},
   "outputs": [
    {
     "data": {
      "text/html": [
       "<style>#sk-container-id-3 {\n",
       "  /* Definition of color scheme common for light and dark mode */\n",
       "  --sklearn-color-text: #000;\n",
       "  --sklearn-color-text-muted: #666;\n",
       "  --sklearn-color-line: gray;\n",
       "  /* Definition of color scheme for unfitted estimators */\n",
       "  --sklearn-color-unfitted-level-0: #fff5e6;\n",
       "  --sklearn-color-unfitted-level-1: #f6e4d2;\n",
       "  --sklearn-color-unfitted-level-2: #ffe0b3;\n",
       "  --sklearn-color-unfitted-level-3: chocolate;\n",
       "  /* Definition of color scheme for fitted estimators */\n",
       "  --sklearn-color-fitted-level-0: #f0f8ff;\n",
       "  --sklearn-color-fitted-level-1: #d4ebff;\n",
       "  --sklearn-color-fitted-level-2: #b3dbfd;\n",
       "  --sklearn-color-fitted-level-3: cornflowerblue;\n",
       "\n",
       "  /* Specific color for light theme */\n",
       "  --sklearn-color-text-on-default-background: var(--sg-text-color, var(--theme-code-foreground, var(--jp-content-font-color1, black)));\n",
       "  --sklearn-color-background: var(--sg-background-color, var(--theme-background, var(--jp-layout-color0, white)));\n",
       "  --sklearn-color-border-box: var(--sg-text-color, var(--theme-code-foreground, var(--jp-content-font-color1, black)));\n",
       "  --sklearn-color-icon: #696969;\n",
       "\n",
       "  @media (prefers-color-scheme: dark) {\n",
       "    /* Redefinition of color scheme for dark theme */\n",
       "    --sklearn-color-text-on-default-background: var(--sg-text-color, var(--theme-code-foreground, var(--jp-content-font-color1, white)));\n",
       "    --sklearn-color-background: var(--sg-background-color, var(--theme-background, var(--jp-layout-color0, #111)));\n",
       "    --sklearn-color-border-box: var(--sg-text-color, var(--theme-code-foreground, var(--jp-content-font-color1, white)));\n",
       "    --sklearn-color-icon: #878787;\n",
       "  }\n",
       "}\n",
       "\n",
       "#sk-container-id-3 {\n",
       "  color: var(--sklearn-color-text);\n",
       "}\n",
       "\n",
       "#sk-container-id-3 pre {\n",
       "  padding: 0;\n",
       "}\n",
       "\n",
       "#sk-container-id-3 input.sk-hidden--visually {\n",
       "  border: 0;\n",
       "  clip: rect(1px 1px 1px 1px);\n",
       "  clip: rect(1px, 1px, 1px, 1px);\n",
       "  height: 1px;\n",
       "  margin: -1px;\n",
       "  overflow: hidden;\n",
       "  padding: 0;\n",
       "  position: absolute;\n",
       "  width: 1px;\n",
       "}\n",
       "\n",
       "#sk-container-id-3 div.sk-dashed-wrapped {\n",
       "  border: 1px dashed var(--sklearn-color-line);\n",
       "  margin: 0 0.4em 0.5em 0.4em;\n",
       "  box-sizing: border-box;\n",
       "  padding-bottom: 0.4em;\n",
       "  background-color: var(--sklearn-color-background);\n",
       "}\n",
       "\n",
       "#sk-container-id-3 div.sk-container {\n",
       "  /* jupyter's `normalize.less` sets `[hidden] { display: none; }`\n",
       "     but bootstrap.min.css set `[hidden] { display: none !important; }`\n",
       "     so we also need the `!important` here to be able to override the\n",
       "     default hidden behavior on the sphinx rendered scikit-learn.org.\n",
       "     See: https://github.com/scikit-learn/scikit-learn/issues/21755 */\n",
       "  display: inline-block !important;\n",
       "  position: relative;\n",
       "}\n",
       "\n",
       "#sk-container-id-3 div.sk-text-repr-fallback {\n",
       "  display: none;\n",
       "}\n",
       "\n",
       "div.sk-parallel-item,\n",
       "div.sk-serial,\n",
       "div.sk-item {\n",
       "  /* draw centered vertical line to link estimators */\n",
       "  background-image: linear-gradient(var(--sklearn-color-text-on-default-background), var(--sklearn-color-text-on-default-background));\n",
       "  background-size: 2px 100%;\n",
       "  background-repeat: no-repeat;\n",
       "  background-position: center center;\n",
       "}\n",
       "\n",
       "/* Parallel-specific style estimator block */\n",
       "\n",
       "#sk-container-id-3 div.sk-parallel-item::after {\n",
       "  content: \"\";\n",
       "  width: 100%;\n",
       "  border-bottom: 2px solid var(--sklearn-color-text-on-default-background);\n",
       "  flex-grow: 1;\n",
       "}\n",
       "\n",
       "#sk-container-id-3 div.sk-parallel {\n",
       "  display: flex;\n",
       "  align-items: stretch;\n",
       "  justify-content: center;\n",
       "  background-color: var(--sklearn-color-background);\n",
       "  position: relative;\n",
       "}\n",
       "\n",
       "#sk-container-id-3 div.sk-parallel-item {\n",
       "  display: flex;\n",
       "  flex-direction: column;\n",
       "}\n",
       "\n",
       "#sk-container-id-3 div.sk-parallel-item:first-child::after {\n",
       "  align-self: flex-end;\n",
       "  width: 50%;\n",
       "}\n",
       "\n",
       "#sk-container-id-3 div.sk-parallel-item:last-child::after {\n",
       "  align-self: flex-start;\n",
       "  width: 50%;\n",
       "}\n",
       "\n",
       "#sk-container-id-3 div.sk-parallel-item:only-child::after {\n",
       "  width: 0;\n",
       "}\n",
       "\n",
       "/* Serial-specific style estimator block */\n",
       "\n",
       "#sk-container-id-3 div.sk-serial {\n",
       "  display: flex;\n",
       "  flex-direction: column;\n",
       "  align-items: center;\n",
       "  background-color: var(--sklearn-color-background);\n",
       "  padding-right: 1em;\n",
       "  padding-left: 1em;\n",
       "}\n",
       "\n",
       "\n",
       "/* Toggleable style: style used for estimator/Pipeline/ColumnTransformer box that is\n",
       "clickable and can be expanded/collapsed.\n",
       "- Pipeline and ColumnTransformer use this feature and define the default style\n",
       "- Estimators will overwrite some part of the style using the `sk-estimator` class\n",
       "*/\n",
       "\n",
       "/* Pipeline and ColumnTransformer style (default) */\n",
       "\n",
       "#sk-container-id-3 div.sk-toggleable {\n",
       "  /* Default theme specific background. It is overwritten whether we have a\n",
       "  specific estimator or a Pipeline/ColumnTransformer */\n",
       "  background-color: var(--sklearn-color-background);\n",
       "}\n",
       "\n",
       "/* Toggleable label */\n",
       "#sk-container-id-3 label.sk-toggleable__label {\n",
       "  cursor: pointer;\n",
       "  display: flex;\n",
       "  width: 100%;\n",
       "  margin-bottom: 0;\n",
       "  padding: 0.5em;\n",
       "  box-sizing: border-box;\n",
       "  text-align: center;\n",
       "  align-items: start;\n",
       "  justify-content: space-between;\n",
       "  gap: 0.5em;\n",
       "}\n",
       "\n",
       "#sk-container-id-3 label.sk-toggleable__label .caption {\n",
       "  font-size: 0.6rem;\n",
       "  font-weight: lighter;\n",
       "  color: var(--sklearn-color-text-muted);\n",
       "}\n",
       "\n",
       "#sk-container-id-3 label.sk-toggleable__label-arrow:before {\n",
       "  /* Arrow on the left of the label */\n",
       "  content: \"▸\";\n",
       "  float: left;\n",
       "  margin-right: 0.25em;\n",
       "  color: var(--sklearn-color-icon);\n",
       "}\n",
       "\n",
       "#sk-container-id-3 label.sk-toggleable__label-arrow:hover:before {\n",
       "  color: var(--sklearn-color-text);\n",
       "}\n",
       "\n",
       "/* Toggleable content - dropdown */\n",
       "\n",
       "#sk-container-id-3 div.sk-toggleable__content {\n",
       "  max-height: 0;\n",
       "  max-width: 0;\n",
       "  overflow: hidden;\n",
       "  text-align: left;\n",
       "  /* unfitted */\n",
       "  background-color: var(--sklearn-color-unfitted-level-0);\n",
       "}\n",
       "\n",
       "#sk-container-id-3 div.sk-toggleable__content.fitted {\n",
       "  /* fitted */\n",
       "  background-color: var(--sklearn-color-fitted-level-0);\n",
       "}\n",
       "\n",
       "#sk-container-id-3 div.sk-toggleable__content pre {\n",
       "  margin: 0.2em;\n",
       "  border-radius: 0.25em;\n",
       "  color: var(--sklearn-color-text);\n",
       "  /* unfitted */\n",
       "  background-color: var(--sklearn-color-unfitted-level-0);\n",
       "}\n",
       "\n",
       "#sk-container-id-3 div.sk-toggleable__content.fitted pre {\n",
       "  /* unfitted */\n",
       "  background-color: var(--sklearn-color-fitted-level-0);\n",
       "}\n",
       "\n",
       "#sk-container-id-3 input.sk-toggleable__control:checked~div.sk-toggleable__content {\n",
       "  /* Expand drop-down */\n",
       "  max-height: 200px;\n",
       "  max-width: 100%;\n",
       "  overflow: auto;\n",
       "}\n",
       "\n",
       "#sk-container-id-3 input.sk-toggleable__control:checked~label.sk-toggleable__label-arrow:before {\n",
       "  content: \"▾\";\n",
       "}\n",
       "\n",
       "/* Pipeline/ColumnTransformer-specific style */\n",
       "\n",
       "#sk-container-id-3 div.sk-label input.sk-toggleable__control:checked~label.sk-toggleable__label {\n",
       "  color: var(--sklearn-color-text);\n",
       "  background-color: var(--sklearn-color-unfitted-level-2);\n",
       "}\n",
       "\n",
       "#sk-container-id-3 div.sk-label.fitted input.sk-toggleable__control:checked~label.sk-toggleable__label {\n",
       "  background-color: var(--sklearn-color-fitted-level-2);\n",
       "}\n",
       "\n",
       "/* Estimator-specific style */\n",
       "\n",
       "/* Colorize estimator box */\n",
       "#sk-container-id-3 div.sk-estimator input.sk-toggleable__control:checked~label.sk-toggleable__label {\n",
       "  /* unfitted */\n",
       "  background-color: var(--sklearn-color-unfitted-level-2);\n",
       "}\n",
       "\n",
       "#sk-container-id-3 div.sk-estimator.fitted input.sk-toggleable__control:checked~label.sk-toggleable__label {\n",
       "  /* fitted */\n",
       "  background-color: var(--sklearn-color-fitted-level-2);\n",
       "}\n",
       "\n",
       "#sk-container-id-3 div.sk-label label.sk-toggleable__label,\n",
       "#sk-container-id-3 div.sk-label label {\n",
       "  /* The background is the default theme color */\n",
       "  color: var(--sklearn-color-text-on-default-background);\n",
       "}\n",
       "\n",
       "/* On hover, darken the color of the background */\n",
       "#sk-container-id-3 div.sk-label:hover label.sk-toggleable__label {\n",
       "  color: var(--sklearn-color-text);\n",
       "  background-color: var(--sklearn-color-unfitted-level-2);\n",
       "}\n",
       "\n",
       "/* Label box, darken color on hover, fitted */\n",
       "#sk-container-id-3 div.sk-label.fitted:hover label.sk-toggleable__label.fitted {\n",
       "  color: var(--sklearn-color-text);\n",
       "  background-color: var(--sklearn-color-fitted-level-2);\n",
       "}\n",
       "\n",
       "/* Estimator label */\n",
       "\n",
       "#sk-container-id-3 div.sk-label label {\n",
       "  font-family: monospace;\n",
       "  font-weight: bold;\n",
       "  display: inline-block;\n",
       "  line-height: 1.2em;\n",
       "}\n",
       "\n",
       "#sk-container-id-3 div.sk-label-container {\n",
       "  text-align: center;\n",
       "}\n",
       "\n",
       "/* Estimator-specific */\n",
       "#sk-container-id-3 div.sk-estimator {\n",
       "  font-family: monospace;\n",
       "  border: 1px dotted var(--sklearn-color-border-box);\n",
       "  border-radius: 0.25em;\n",
       "  box-sizing: border-box;\n",
       "  margin-bottom: 0.5em;\n",
       "  /* unfitted */\n",
       "  background-color: var(--sklearn-color-unfitted-level-0);\n",
       "}\n",
       "\n",
       "#sk-container-id-3 div.sk-estimator.fitted {\n",
       "  /* fitted */\n",
       "  background-color: var(--sklearn-color-fitted-level-0);\n",
       "}\n",
       "\n",
       "/* on hover */\n",
       "#sk-container-id-3 div.sk-estimator:hover {\n",
       "  /* unfitted */\n",
       "  background-color: var(--sklearn-color-unfitted-level-2);\n",
       "}\n",
       "\n",
       "#sk-container-id-3 div.sk-estimator.fitted:hover {\n",
       "  /* fitted */\n",
       "  background-color: var(--sklearn-color-fitted-level-2);\n",
       "}\n",
       "\n",
       "/* Specification for estimator info (e.g. \"i\" and \"?\") */\n",
       "\n",
       "/* Common style for \"i\" and \"?\" */\n",
       "\n",
       ".sk-estimator-doc-link,\n",
       "a:link.sk-estimator-doc-link,\n",
       "a:visited.sk-estimator-doc-link {\n",
       "  float: right;\n",
       "  font-size: smaller;\n",
       "  line-height: 1em;\n",
       "  font-family: monospace;\n",
       "  background-color: var(--sklearn-color-background);\n",
       "  border-radius: 1em;\n",
       "  height: 1em;\n",
       "  width: 1em;\n",
       "  text-decoration: none !important;\n",
       "  margin-left: 0.5em;\n",
       "  text-align: center;\n",
       "  /* unfitted */\n",
       "  border: var(--sklearn-color-unfitted-level-1) 1pt solid;\n",
       "  color: var(--sklearn-color-unfitted-level-1);\n",
       "}\n",
       "\n",
       ".sk-estimator-doc-link.fitted,\n",
       "a:link.sk-estimator-doc-link.fitted,\n",
       "a:visited.sk-estimator-doc-link.fitted {\n",
       "  /* fitted */\n",
       "  border: var(--sklearn-color-fitted-level-1) 1pt solid;\n",
       "  color: var(--sklearn-color-fitted-level-1);\n",
       "}\n",
       "\n",
       "/* On hover */\n",
       "div.sk-estimator:hover .sk-estimator-doc-link:hover,\n",
       ".sk-estimator-doc-link:hover,\n",
       "div.sk-label-container:hover .sk-estimator-doc-link:hover,\n",
       ".sk-estimator-doc-link:hover {\n",
       "  /* unfitted */\n",
       "  background-color: var(--sklearn-color-unfitted-level-3);\n",
       "  color: var(--sklearn-color-background);\n",
       "  text-decoration: none;\n",
       "}\n",
       "\n",
       "div.sk-estimator.fitted:hover .sk-estimator-doc-link.fitted:hover,\n",
       ".sk-estimator-doc-link.fitted:hover,\n",
       "div.sk-label-container:hover .sk-estimator-doc-link.fitted:hover,\n",
       ".sk-estimator-doc-link.fitted:hover {\n",
       "  /* fitted */\n",
       "  background-color: var(--sklearn-color-fitted-level-3);\n",
       "  color: var(--sklearn-color-background);\n",
       "  text-decoration: none;\n",
       "}\n",
       "\n",
       "/* Span, style for the box shown on hovering the info icon */\n",
       ".sk-estimator-doc-link span {\n",
       "  display: none;\n",
       "  z-index: 9999;\n",
       "  position: relative;\n",
       "  font-weight: normal;\n",
       "  right: .2ex;\n",
       "  padding: .5ex;\n",
       "  margin: .5ex;\n",
       "  width: min-content;\n",
       "  min-width: 20ex;\n",
       "  max-width: 50ex;\n",
       "  color: var(--sklearn-color-text);\n",
       "  box-shadow: 2pt 2pt 4pt #999;\n",
       "  /* unfitted */\n",
       "  background: var(--sklearn-color-unfitted-level-0);\n",
       "  border: .5pt solid var(--sklearn-color-unfitted-level-3);\n",
       "}\n",
       "\n",
       ".sk-estimator-doc-link.fitted span {\n",
       "  /* fitted */\n",
       "  background: var(--sklearn-color-fitted-level-0);\n",
       "  border: var(--sklearn-color-fitted-level-3);\n",
       "}\n",
       "\n",
       ".sk-estimator-doc-link:hover span {\n",
       "  display: block;\n",
       "}\n",
       "\n",
       "/* \"?\"-specific style due to the `<a>` HTML tag */\n",
       "\n",
       "#sk-container-id-3 a.estimator_doc_link {\n",
       "  float: right;\n",
       "  font-size: 1rem;\n",
       "  line-height: 1em;\n",
       "  font-family: monospace;\n",
       "  background-color: var(--sklearn-color-background);\n",
       "  border-radius: 1rem;\n",
       "  height: 1rem;\n",
       "  width: 1rem;\n",
       "  text-decoration: none;\n",
       "  /* unfitted */\n",
       "  color: var(--sklearn-color-unfitted-level-1);\n",
       "  border: var(--sklearn-color-unfitted-level-1) 1pt solid;\n",
       "}\n",
       "\n",
       "#sk-container-id-3 a.estimator_doc_link.fitted {\n",
       "  /* fitted */\n",
       "  border: var(--sklearn-color-fitted-level-1) 1pt solid;\n",
       "  color: var(--sklearn-color-fitted-level-1);\n",
       "}\n",
       "\n",
       "/* On hover */\n",
       "#sk-container-id-3 a.estimator_doc_link:hover {\n",
       "  /* unfitted */\n",
       "  background-color: var(--sklearn-color-unfitted-level-3);\n",
       "  color: var(--sklearn-color-background);\n",
       "  text-decoration: none;\n",
       "}\n",
       "\n",
       "#sk-container-id-3 a.estimator_doc_link.fitted:hover {\n",
       "  /* fitted */\n",
       "  background-color: var(--sklearn-color-fitted-level-3);\n",
       "}\n",
       "</style><div id=\"sk-container-id-3\" class=\"sk-top-container\"><div class=\"sk-text-repr-fallback\"><pre>LogisticRegression(random_state=42)</pre><b>In a Jupyter environment, please rerun this cell to show the HTML representation or trust the notebook. <br />On GitHub, the HTML representation is unable to render, please try loading this page with nbviewer.org.</b></div><div class=\"sk-container\" hidden><div class=\"sk-item\"><div class=\"sk-estimator fitted sk-toggleable\"><input class=\"sk-toggleable__control sk-hidden--visually\" id=\"sk-estimator-id-3\" type=\"checkbox\" checked><label for=\"sk-estimator-id-3\" class=\"sk-toggleable__label fitted sk-toggleable__label-arrow\"><div><div>LogisticRegression</div></div><div><a class=\"sk-estimator-doc-link fitted\" rel=\"noreferrer\" target=\"_blank\" href=\"https://scikit-learn.org/1.6/modules/generated/sklearn.linear_model.LogisticRegression.html\">?<span>Documentation for LogisticRegression</span></a><span class=\"sk-estimator-doc-link fitted\">i<span>Fitted</span></span></div></label><div class=\"sk-toggleable__content fitted\"><pre>LogisticRegression(random_state=42)</pre></div> </div></div></div></div>"
      ],
      "text/plain": [
       "LogisticRegression(random_state=42)"
      ]
     },
     "execution_count": 56,
     "metadata": {},
     "output_type": "execute_result"
    }
   ],
   "source": [
    "from sklearn.linear_model import LogisticRegression\n",
    "from sklearn.model_selection import train_test_split\n",
    "\n",
    "X = iris.data[[\"petal width (cm)\"]].values\n",
    "y = iris.target_names[iris.target] == 'virginica'\n",
    "X_train, X_test, y_train, y_test = train_test_split(X, y, random_state=42)\n",
    "\n",
    "log_reg = LogisticRegression(random_state=42)\n",
    "log_reg.fit(X_train, y_train)"
   ]
  },
  {
   "cell_type": "markdown",
   "id": "b7e68838",
   "metadata": {},
   "source": [
    "### 꽃잎 너비가 0~3cm 꽃인 모델의 추정 확률을 계산 "
   ]
  },
  {
   "cell_type": "code",
   "execution_count": 59,
   "id": "443686e0",
   "metadata": {},
   "outputs": [
    {
     "data": {
      "image/png": "[encoded data removed]",
      "text/plain": [
       "<Figure size 800x300 with 1 Axes>"
      ]
     },
     "metadata": {},
     "output_type": "display_data"
    }
   ],
   "source": [
    "X_new = np.linspace(0, 3, 1000).reshape(-1, 1)  # 크기를 바꾸어 열 벡터를 얻습니다.\n",
    "y_proba = log_reg.predict_proba(X_new)\n",
    "decision_boundary = X_new[y_proba[:, 1] >= 0.5][0, 0]\n",
    "\n",
    "plt.figure(figsize=(8, 3)) \n",
    "plt.plot(X_new, y_proba[:, 0], \"b--\", linewidth=2,\n",
    "         label=\"virginica proba 아님\")\n",
    "plt.plot(X_new, y_proba[:, 1], \"g-\", linewidth=2, label=\" virginica proba\")\n",
    "plt.plot([decision_boundary, decision_boundary], [0, 1], \"k:\", linewidth=2,\n",
    "         label=\"결정 경계\")\n",
    "\n",
    "\n",
    "plt.arrow(x=decision_boundary, y=0.08, dx=-0.3, dy=0,\n",
    "          head_width=0.05, head_length=0.1, fc=\"b\", ec=\"b\")\n",
    "plt.arrow(x=decision_boundary, y=0.92, dx=0.3, dy=0,\n",
    "          head_width=0.05, head_length=0.1, fc=\"g\", ec=\"g\")\n",
    "plt.plot(X_train[y_train == 0], y_train[y_train == 0], \"bs\")\n",
    "plt.plot(X_train[y_train == 1], y_train[y_train == 1], \"g^\")\n",
    "plt.xlabel(\"Petal width (cm)\")\n",
    "plt.ylabel(\"Probability\")\n",
    "plt.legend(loc=\"center left\")\n",
    "plt.axis([0, 3, -0.02, 1.02])\n",
    "plt.grid()\n",
    "\n",
    "\n",
    "plt.show()"
   ]
  },
  {
   "cell_type": "markdown",
   "id": "ea504100",
   "metadata": {},
   "source": [
    "- iris-virginica는 꽃잎 1.4~2.5cm 사이 분포 \n",
    "- 아닌 경우 : 0.1~1.8cm 분포 -> 약간의 겹침이 있음\n",
    "-> 1cm 미만이면 확실히 아님 \n",
    "-> `predict()`를 이용하면 가장 가능성이 높은 클래스를 출력함 "
   ]
  },
  {
   "cell_type": "code",
   "execution_count": 61,
   "id": "e82ea11e",
   "metadata": {},
   "outputs": [
    {
     "name": "stdout",
     "output_type": "stream",
     "text": [
      "결정 경계 : 1.6516516516516517\n",
      "1.7cm 와 1.5cm 분류 :  [ True False]\n"
     ]
    }
   ],
   "source": [
    "print(\"결정 경계 :\", decision_boundary)\n",
    "print(\"1.7cm 와 1.5cm 분류 : \",log_reg.predict([[1.7],[1.5]]))"
   ]
  },
  {
   "cell_type": "markdown",
   "id": "5c024b5f",
   "metadata": {},
   "source": [
    "## 5) 소프트맥스 회귀 \n",
    "\n",
    "### 정의\n",
    "- 여러 개의 이진 분류기를 훈련 시키는 방식이 아닌 `다중 클래스를 지원한 분류기`\n",
    "- `소프트맥스 회귀` 혹은 `다중 클래스 로지스틱 회귀`\n",
    "\n",
    "#### 개념 \n",
    "- 샘플 `x`가 클래스 `k`에대한 점수 $s_k(x)$-> 소프트맥수 함수(혹은 정규화된 지수함수) 적용 ->클래스 확률 추정\n",
    "\n",
    "#### 클래스 k에 대한 소프트맥수 점수 함수\n",
    "$s_k(x) = (\\theta^{(k)})^Tx$\n",
    "- $\\theta^{(k)}$ :  클래스 k의 파라미터 벡터 \n",
    "- $\\Theta$ : 파라미터 행렬 \n",
    "  - $\\theta^{(k)}$의 행렬 \n",
    "\n",
    "- 점수가 계산되면 소프트 맥스 함수에 통과 시킴 \n",
    "  - 소프트 맥스 함수 $\\hat{p}_k =\\sigma(s(x))_k = \\frac{exp(s_k(x))}{\\sum^K_{j=1}exp(s_j(x))}$\n",
    "- 클래스 k에 해당할 확률 $\\hat{p}_k$를 구함 \n",
    "- 점수를 정규화 -> `로그-오즈` 혹은 `로짓`\n",
    "\n",
    "### 소프트맥스 회귀 분류기의 예측 \n",
    "$\\hat{y} = argmax((\\theta^{k})^Tx)$\n",
    "- argmax 연산 함수를 최대화 하는 변수 값을 반환 -> 추정확률이 최대인 k 값을 반환 \n",
    "\n",
    "\n",
    "### 훈련 방법 \n",
    "- 목표 : 모델이 타깃 클래스에 대해 높은 확률을 추정하도록 하는것 \n",
    "  - `크로스 엔트로피` 비용 함수를 최소화 = 낮은 확률을 예측하는 것을 억제 \n",
    "\n",
    "#### 크로스엔트로피 비용함수\n",
    "\n",
    "$$\n",
    "J(\\theta) = - \\frac{1}{m} \\sum_{i=1}^{m} \\sum_{k=1}^{K} y_{i,k} \\log(\\hat{y}_{i,k})\n",
    "$$\n",
    "\n",
    "- $y_{i,k}$ : i번째 샘플이 클래스 k에 속할 확률 -> 1 혹은 0 \n",
    "- 클래스가 2개면 로지스틱 회귀의 비용함수와 동일함 \n",
    "\n",
    "\n",
    "#### 크로스엔트로피 그레디언트 벡터 \n",
    "$$\n",
    "\\nabla_{\\theta,(k)} J(\\Theta) = \\frac{1}{m}\\sum^{m}_{i=1}(\\hat{p_{k}^(i)}-y_k^{(i)})x^{(i)}\n",
    "$$\n",
    "\n",
    "### 사이킷 런에서 구현 \n",
    "- LogisticRegression에서 클래스가 2개 이상 일 때, `소프트맥스`로 계산 \n",
    "  - multi_class를 `multinomial`바꾸면 소프트맥스 회귀로 사용가능 \n",
    "  - solver 는 `lbfgs`같은 소프트맥스 회귀를 지원하는 알고리즘으로 바꿔야함 "
   ]
  },
  {
   "cell_type": "code",
   "execution_count": 64,
   "id": "b20da5a1",
   "metadata": {},
   "outputs": [
    {
     "name": "stdout",
     "output_type": "stream",
     "text": [
      "예측 값 : [2]\n",
      "예측 확률 : [[0.   0.04 0.96]]\n"
     ]
    }
   ],
   "source": [
    "X = iris.data[[\"petal length (cm)\", \"petal width (cm)\"]].values\n",
    "y = iris[\"target\"]\n",
    "X_train, X_test, y_train, y_test = train_test_split(X, y, random_state=42)\n",
    "\n",
    "softmax_reg = LogisticRegression(C=30, random_state=42)\n",
    "softmax_reg.fit(X_train, y_train)\n",
    "\n",
    "print(\"예측 값 :\", softmax_reg.predict([[5, 2]]))\n",
    "print(\"예측 확률 :\", softmax_reg.predict_proba([[5, 2]]).round(2))"
   ]
  }
 ],
 "metadata": {
  "kernelspec": {
   "display_name": "ml_basic",
   "language": "python",
   "name": "python3"
  },
  "language_info": {
   "codemirror_mode": {
    "name": "ipython",
    "version": 3
   },
   "file_extension": ".py",
   "mimetype": "text/x-python",
   "name": "python",
   "nbconvert_exporter": "python",
   "pygments_lexer": "ipython3",
   "version": "3.12.11"
  }
 },
 "nbformat": 4,
 "nbformat_minor": 5
}
