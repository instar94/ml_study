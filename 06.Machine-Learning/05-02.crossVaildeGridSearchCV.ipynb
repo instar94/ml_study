{
 "cells": [
  {
   "cell_type": "markdown",
   "id": "b32e144e",
   "metadata": {},
   "source": [
    "# 1. 교차 검증과 그리드 서치 "
   ]
  },
  {
   "cell_type": "markdown",
   "id": "f5d04bb4",
   "metadata": {
    "vscode": {
     "languageId": "plaintext"
    }
   },
   "source": [
    "- 일반화 성능을 높이려면 가능한 테스트 세트를 사용하면 안됨 \n",
    "- 그렇다면 하이퍼파리미터 튜닝을 어떻게 할 것인가?"
   ]
  },
  {
   "cell_type": "markdown",
   "id": "92e658c4",
   "metadata": {
    "vscode": {
     "languageId": "plaintext"
    }
   },
   "source": [
    "## 1) 검증 세트 \n",
    "- 테스트 세트를 사용하지 않고 검증세트를 사용 \n",
    "- 일반적으로 훈련 60% + 검증 20% + 테스트 20% \n",
    "- 훈련 세트로 모델 훈련  후 검증 세트로 모델을 평가 > 테스트 하고 싶은 매개 변수를 바꿔가며 가장 좋은 모델을 고름 "
   ]
  },
  {
   "cell_type": "markdown",
   "id": "a34fc604",
   "metadata": {},
   "source": [
    "## 2) 검증세트 시도"
   ]
  },
  {
   "cell_type": "code",
   "execution_count": 3,
   "id": "b42e6fc1",
   "metadata": {},
   "outputs": [],
   "source": [
    "import pandas as pd\n",
    "\n",
    "wine = pd.read_csv(\"https://bit.ly/wine_csv_data\")\n",
    "data = wine[[\"alcohol\",\"sugar\",\"pH\"]]\n",
    "target = wine[\"class\"]"
   ]
  },
  {
   "cell_type": "markdown",
   "id": "ee92d1c8",
   "metadata": {},
   "source": [
    "- 훈련 세트 나누기"
   ]
  },
  {
   "cell_type": "code",
   "execution_count": 4,
   "id": "9aea0d6e",
   "metadata": {},
   "outputs": [
    {
     "name": "stdout",
     "output_type": "stream",
     "text": [
      "(1040, 3) (1300, 3)\n"
     ]
    }
   ],
   "source": [
    "from sklearn.model_selection import train_test_split\n",
    "train_input, test_input , train_target, test_target = train_test_split(data,target,test_size=0.2, random_state=42 )\n",
    "\n",
    "### 검증 세트 나누기 \n",
    "sub_input, val_input, sub_target, val_target = train_test_split(train_input, train_target, test_size=0.2, random_state=42)\n",
    "print(val_input.shape, test_input.shape)"
   ]
  },
  {
   "cell_type": "markdown",
   "id": "59df2c21",
   "metadata": {},
   "source": [
    "## 3) 학습 및 평가\n",
    "  - 과대적합 모델 "
   ]
  },
  {
   "cell_type": "code",
   "execution_count": 5,
   "id": "74761568",
   "metadata": {},
   "outputs": [
    {
     "name": "stdout",
     "output_type": "stream",
     "text": [
      "훈련 세트 :  0.9971133028626413\n",
      "검증 세트 :  0.864423076923077\n"
     ]
    }
   ],
   "source": [
    "from sklearn.tree import DecisionTreeClassifier\n",
    "# 결정 트리 모델 생성\n",
    "dt = DecisionTreeClassifier(random_state=42)\n",
    "# 모델 학습\n",
    "dt.fit(sub_input, sub_target)\n",
    "\n",
    "# 검증 세트로 모델 평가\n",
    "print(\"훈련 세트 : \",dt.score(sub_input, sub_target))\n",
    "print(\"검증 세트 : \" , dt.score(val_input, val_target))"
   ]
  },
  {
   "cell_type": "markdown",
   "id": "ff911647",
   "metadata": {},
   "source": [
    "## 4) 교차 검증 \n",
    "  - 검증 세트를 떼어 내어 평가하는 과정을 여러번 반복함 \n",
    "- 점수를 평균하여 최종 검증 점수를 얻음\n",
    "- ex) 3-폴드 교차 검증 : 훈련 세트를 3개로 나누어 3번 반복함 (k겹 교차 검증이라고도 부름)\n",
    "\n",
    "\n",
    "### crocross_vaildate\n",
    "- 사이킷 런에서는 `cross_vaildate()` 함수가 있음 \n",
    "- 반환 값으로 `fit_time`, `score_time`, `test_score`를 키로 가진 딕셔너리를 반환 \n",
    "- `fit_time` : 훈련 시간\n",
    "- `score_time` : 검증 시간 \n",
    "- `test_score` : 검증 폴드의 점수 -> 평균내서 점수를 구함"
   ]
  },
  {
   "cell_type": "code",
   "execution_count": 6,
   "id": "c6f91c7d",
   "metadata": {},
   "outputs": [
    {
     "name": "stdout",
     "output_type": "stream",
     "text": [
      "훈련 세트 점수 :  {'fit_time': array([0.0210681 , 0.0165379 , 0.02126002, 0.01604962, 0.01053166]), 'score_time': array([0.00551987, 0.00250983, 0.00200939, 0.00400758, 0.00300479]), 'test_score': array([0.86923077, 0.84615385, 0.87680462, 0.84889317, 0.83541867])}\n",
      "훈련 세트 점수 평균 :  0.855300214703487\n"
     ]
    }
   ],
   "source": [
    "from sklearn.model_selection import cross_validate\n",
    "# 교차 검증\n",
    "scores = cross_validate(dt, train_input, train_target)\n",
    "print(\"훈련 세트 점수 : \", scores)\n",
    "\n",
    "## 평균 점수 구하기 \n",
    "import numpy as np\n",
    "print(\"훈련 세트 점수 평균 : \", np.mean(scores['test_score']))"
   ]
  },
  {
   "cell_type": "markdown",
   "id": "fc286005",
   "metadata": {},
   "source": [
    "- 단, `cross_validate`는 훈련 세트를 섞어 폴드를 나누지 않음 \n",
    "  - train_test_split으로 데이터를 섞은 후 했기 때문에 섞을 필요 없음 \n",
    "  - 교차 검증을 할 때 훈련 세트를 섞으려면 `분할기`를 사용해야 함 -> StratifiedKFold 를 이용"
   ]
  },
  {
   "cell_type": "code",
   "execution_count": 7,
   "id": "6986970c",
   "metadata": {},
   "outputs": [
    {
     "name": "stdout",
     "output_type": "stream",
     "text": [
      "훈련 세트 점수 평균 :  0.855300214703487\n"
     ]
    }
   ],
   "source": [
    "from sklearn.model_selection import StratifiedKFold\n",
    "scores = cross_validate(dt, train_input, train_target, cv=StratifiedKFold())\n",
    "print(\"훈련 세트 점수 평균 : \", np.mean(scores['test_score']))"
   ]
  },
  {
   "cell_type": "markdown",
   "id": "ebcd5b94",
   "metadata": {},
   "source": [
    "- 10 폴드 검증"
   ]
  },
  {
   "cell_type": "code",
   "execution_count": 8,
   "id": "528f9a58",
   "metadata": {},
   "outputs": [
    {
     "name": "stdout",
     "output_type": "stream",
     "text": [
      "훈련 세트 점수 평균 :  0.8574181117533719\n"
     ]
    }
   ],
   "source": [
    "splitter = StratifiedKFold(n_splits=10, shuffle=True, random_state=42)\n",
    "scores = cross_validate(dt, train_input, train_target, cv=splitter)\n",
    "print(\"훈련 세트 점수 평균 : \", np.mean(scores['test_score']))"
   ]
  },
  {
   "cell_type": "markdown",
   "id": "7350b1d8",
   "metadata": {},
   "source": [
    "# 2. 하이퍼 파라미터 튜닝 "
   ]
  },
  {
   "cell_type": "markdown",
   "id": "fdb6538e",
   "metadata": {},
   "source": [
    "## 1) 하이퍼 파라미터 \n",
    "- `모델 파라미터` : 머신러닝 모델이 학습하는 파라미터 \n",
    "- `하이퍼 파라미터` : 모델을 학습하기 전에 설정하는 파라미터\n",
    "  - 사용자가 지정해야만 하는 파라미터 , 학습하지 못하는 파라미터 "
   ]
  },
  {
   "cell_type": "markdown",
   "id": "daba3bfd",
   "metadata": {},
   "source": [
    "## 2) 하이퍼 파리미터 튜닝 \n",
    "- `하이퍼 파라미터 튜닝` : 하이퍼 파라미터를 조정하는 과정\n",
    "  - 먼저, 라이브러리 기본값 사용 \n",
    "- 그 다음 검증세트의 점수나 교차 검증을 통해 매개변수를 조정 \n",
    "\n"
   ]
  },
  {
   "cell_type": "markdown",
   "id": "a99b20fa",
   "metadata": {},
   "source": [
    "## 3) 그리드 서치 \n",
    "- 하이퍼 파라미터 조합을 찾기 위한 도구 \n",
    "- 하이퍼 파라미터 탐색 및 교차 점증을 한 번에 수행 \n",
    "    - `cross_vaildate()`할 필요 없음 \n",
    "- `min_impurity_decrease` 매개 변수의 최적값 찾기 \n",
    "  - min_impurity_decrease 값을 5개 값으로 시도 \n",
    "- 5 폴드 교차 검증 수행 = > 총 25번 수행 \n",
    "- `n_jobs` : 병렬 실행에 사용할 CPU 코어 수 지정 \n",
    "  - `-1` : 모든 코어 사용\n",
    "\n",
    "-`best_estimator_` : 최적의 값 "
   ]
  },
  {
   "cell_type": "code",
   "execution_count": null,
   "id": "48a918e4",
   "metadata": {},
   "outputs": [
    {
     "name": "stdout",
     "output_type": "stream",
     "text": [
      "0.9615162593804117\n"
     ]
    }
   ],
   "source": [
    "from sklearn.model_selection import GridSearchCV\n",
    "### 하이퍼파라미터 튜닝을 위한 그리드 서치\n",
    "### min_impurity_decrease 5개로 설정 \n",
    "params = {\"min_impurity_decrease\":[0.0001, 0.0002, 0.0003, 0.0004, 0.0005]}\n",
    "gs = GridSearchCV(DecisionTreeClassifier(random_state=42), params, n_jobs=-1)\n",
    "\n",
    "### 모델 학습 \n",
    "gs.fit(train_input, train_target)\n",
    "\n",
    "### 최적의 값\n",
    "dt = gs.best_estimator_\n",
    "\n",
    "### 최적의 값으로 구한 훈련 세트 점수\n",
    "print(dt.score(train_input, train_target))"
   ]
  },
  {
   "cell_type": "code",
   "execution_count": 13,
   "id": "a4214d16",
   "metadata": {},
   "outputs": [
    {
     "name": "stdout",
     "output_type": "stream",
     "text": [
      "[0.86819297 0.86453617 0.86492226 0.86780891 0.86761605]\n"
     ]
    }
   ],
   "source": [
    "### 5번의 교차 검증 으로 얻은 점수 > 1번째가 가장 큼 \n",
    "print(gs.cv_results_['mean_test_score'])"
   ]
  },
  {
   "cell_type": "markdown",
   "id": "7eaad545",
   "metadata": {},
   "source": [
    "## 4) 그리드 서치를 이용한 결정 트리 모델\n",
    "- 3가지 하이퍼 파라미터를 튜닝 \n",
    "- `min_impurity_decrease` = 노드를 분할하기 위한 불순도 감수의 최소량 \n",
    "- `max_depth` = 트리의 최대 깊이\n",
    "- `min_samples_split` = 노드를 분할하기 위한 최소 샘플 수"
   ]
  },
  {
   "cell_type": "code",
   "execution_count": 18,
   "id": "554ec401",
   "metadata": {},
   "outputs": [],
   "source": [
    "params = {\n",
    "    ### 0.0001부터 0.001이 될 때까지 0.0001씩 증가\n",
    "    \"min_impurity_decrease\": np.arange(0.0001,0.001,0.0001),\n",
    "    ### max_depth 5부터 20까지 1씩 증가 (정수만)\n",
    "    \"max_depth\": range(5,20,1),\n",
    "    ### min_samples_leaf 1부터 50까지 1씩 증가 (정수만)\n",
    "    \"min_samples_split\": range(2,100,10),\n",
    "}"
   ]
  },
  {
   "cell_type": "code",
   "execution_count": 20,
   "id": "a4a21a8c",
   "metadata": {},
   "outputs": [
    {
     "name": "stdout",
     "output_type": "stream",
     "text": [
      "최적의 값 :  DecisionTreeClassifier(max_depth=14, min_impurity_decrease=np.float64(0.0004),\n",
      "                       min_samples_split=12, random_state=42)\n",
      "최상의 교차 검증 점수 :  0.8683865773302731\n"
     ]
    }
   ],
   "source": [
    "gs = GridSearchCV(DecisionTreeClassifier(random_state=42), params, n_jobs=-1)\n",
    "### 모델 학습\n",
    "gs.fit(train_input, train_target)\n",
    "### 최적의 값\n",
    "dt = gs.best_estimator_\n",
    "print(\"최적의 값 : \", dt)\n",
    "\n",
    "### 최상의 교차 검증 점수 \n",
    "print(\"최상의 교차 검증 점수 : \",np.max(gs.cv_results_['mean_test_score']))"
   ]
  },
  {
   "cell_type": "markdown",
   "id": "14f52d2a",
   "metadata": {},
   "source": [
    "## 5) 랜덤 서치 \n",
    "- 매개 변수의 값의 범위 혹은 간격을 미리 정하기 힘듦 > 랜덤 서치 사용\n",
    "- 매개 변수의 값을 수치가 아닌 매개변수를 샘플링 할 수 있는 확률 분포를 전달 \n",
    "\n",
    "- from scipy.stats import uniform, randint : 주어진 범위에서 고르게 > 균등 분포에서 샘플링"
   ]
  },
  {
   "cell_type": "code",
   "execution_count": 22,
   "id": "5b84b557",
   "metadata": {},
   "outputs": [
    {
     "data": {
      "text/plain": [
       "array([6, 8, 0, 2, 8, 4, 8, 4, 9, 0])"
      ]
     },
     "execution_count": 22,
     "metadata": {},
     "output_type": "execute_result"
    }
   ],
   "source": [
    "from scipy.stats import uniform, randint\n",
    "\n",
    "## 0~10 범위\n",
    "rgen = randint(0, 10)\n",
    "## 10개 추출 \n",
    "rgen.rvs(10)\n"
   ]
  },
  {
   "cell_type": "markdown",
   "id": "df775c54",
   "metadata": {},
   "source": [
    "- 1000개를 샘플링 해서 숫자를 카운트 "
   ]
  },
  {
   "cell_type": "code",
   "execution_count": 24,
   "id": "784773da",
   "metadata": {},
   "outputs": [
    {
     "data": {
      "text/plain": [
       "(array([0, 1, 2, 3, 4, 5, 6, 7, 8, 9]),\n",
       " array([103, 103, 103, 108, 102, 106,  89,  95, 103,  88]))"
      ]
     },
     "execution_count": 24,
     "metadata": {},
     "output_type": "execute_result"
    }
   ],
   "source": [
    "np.unique(rgen.rvs(1000),return_counts=True)"
   ]
  },
  {
   "cell_type": "code",
   "execution_count": 26,
   "id": "5540893a",
   "metadata": {},
   "outputs": [
    {
     "data": {
      "text/plain": [
       "array([0.56383485, 0.64642989, 0.48567805, 0.45196288, 0.2129066 ,\n",
       "       0.29284786, 0.59774333, 0.99229527, 0.78197316, 0.62651971])"
      ]
     },
     "execution_count": 26,
     "metadata": {},
     "output_type": "execute_result"
    }
   ],
   "source": [
    "ugen = uniform(0, 1)\n",
    "ugen.rvs(10)"
   ]
  },
  {
   "cell_type": "markdown",
   "id": "bf040cfa",
   "metadata": {},
   "source": [
    "## 6) 랜덤 서치를 이용한 튜닝 "
   ]
  },
  {
   "cell_type": "code",
   "execution_count": 28,
   "id": "565560a0",
   "metadata": {},
   "outputs": [],
   "source": [
    "params = {\n",
    "    \"min_impurity_decrease\": uniform(0.0001, 0.001),\n",
    "    \"max_depth\": randint(20, 50),\n",
    "    \"min_samples_split\": randint(2,25),\n",
    "    \"min_samples_leaf\": randint(1, 25)\n",
    "}"
   ]
  },
  {
   "cell_type": "code",
   "execution_count": 29,
   "id": "f7702d3a",
   "metadata": {},
   "outputs": [
    {
     "name": "stdout",
     "output_type": "stream",
     "text": [
      "최적의 값 :  DecisionTreeClassifier(max_depth=39,\n",
      "                       min_impurity_decrease=np.float64(0.00034102546602601173),\n",
      "                       min_samples_leaf=7, min_samples_split=13,\n",
      "                       random_state=42)\n",
      "최상의 교차 검증 점수 :  0.8695428296438884\n",
      "최적 성능 :  0.86\n"
     ]
    }
   ],
   "source": [
    "from sklearn.model_selection import RandomizedSearchCV\n",
    "rs = RandomizedSearchCV(DecisionTreeClassifier(random_state=42), params, n_iter=100, n_jobs=-1, random_state=42)\n",
    "\n",
    "### 모델 학습\n",
    "rs.fit(train_input, train_target)\n",
    "\n",
    "### 최적의 값\n",
    "dt = rs.best_estimator_\n",
    "print(\"최적의 값 : \", dt)\n",
    "\n",
    "### 최상의 교차 검증 점수\n",
    "print(\"최상의 교차 검증 점수 : \", np.max(rs.cv_results_['mean_test_score']))\n",
    "\n",
    "### 최적 성능 \n",
    "print(\"최적 성능 : \", dt.score(test_input, test_target))"
   ]
  },
  {
   "cell_type": "code",
   "execution_count": null,
   "id": "204e6f7d",
   "metadata": {},
   "outputs": [],
   "source": []
  }
 ],
 "metadata": {
  "kernelspec": {
   "display_name": "ml_basic",
   "language": "python",
   "name": "python3"
  },
  "language_info": {
   "codemirror_mode": {
    "name": "ipython",
    "version": 3
   },
   "file_extension": ".py",
   "mimetype": "text/x-python",
   "name": "python",
   "nbconvert_exporter": "python",
   "pygments_lexer": "ipython3",
   "version": "3.12.11"
  }
 },
 "nbformat": 4,
 "nbformat_minor": 5
}
