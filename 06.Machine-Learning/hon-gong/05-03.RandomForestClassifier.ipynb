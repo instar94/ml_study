{
 "cells": [
  {
   "cell_type": "markdown",
   "id": "8c04587d",
   "metadata": {},
   "source": [
    "# 1. 랜덤 포레스트 "
   ]
  },
  {
   "cell_type": "markdown",
   "id": "bd7b1a1f",
   "metadata": {},
   "source": [
    "## 1) 앙상블 학습 \n",
    "  - 앙상블 : 정형 데이터를 다루는데 가장 뒤어난 알고리즘 \n",
    "      - 결정트리를 기반으로 만들어짐 \n",
    "  -  대다수 정형 데이터에 적합\n",
    "-  사이킷 런에서 제공하는 정형 데이터의 끝판왕 "
   ]
  },
  {
   "cell_type": "markdown",
   "id": "8248f458",
   "metadata": {
    "vscode": {
     "languageId": "plaintext"
    }
   },
   "source": [
    "## 2) 랜덤포레스트 \n",
    "- 앙상블 학습 중에서 안정적인 성능을 사용 \n",
    "- 결정 트리를 랜덤하게 만들어 결정트리의 숲을 만듦 -> 결정 트리의 예측을 사용해 최종 예측을 만듦\n",
    "### 부트 스트랩 샘플\n",
    "   - 트리 훈련을 위해 데이터를 랜덤하게 만듦\n",
    "    - 훈련 데이터를 랜덤하게 추출\n",
    "    - 중복도 가능 \n",
    "\n",
    "- 기본적으로 100개의 결정 트리를 훈련 -> 클래스별 확률을 평균하여 가장 높은 확률을 가진 클래스를 예측으로 삼음 \n",
    "\n",
    "### 특징 \n",
    "- 랜덤 샘플 선택 > 과대 적합 방지 \n",
    "- 검증 세트와 테스트 세트에서 안정적인 성능"
   ]
  },
  {
   "cell_type": "markdown",
   "id": "5ac75d51",
   "metadata": {},
   "source": [
    "# 2. 사이킷런의 랜덤포레스트"
   ]
  },
  {
   "cell_type": "markdown",
   "id": "e194f2af",
   "metadata": {},
   "source": [
    "## 1) 데이터 불러오기 + 훈련세트 분리"
   ]
  },
  {
   "cell_type": "code",
   "execution_count": 5,
   "id": "c1c2f60f",
   "metadata": {},
   "outputs": [],
   "source": [
    "import numpy as np\n",
    "import pandas as pd\n",
    "from sklearn.model_selection import train_test_split\n",
    "\n",
    "wine = pd.read_csv(\"https://bit.ly/wine_csv_data\")\n",
    "\n",
    "data = wine[[\"alcohol\", \"sugar\", \"pH\"]]\n",
    "target = wine[\"class\"]\n",
    "\n",
    "train_input, test_input, train_target, test_target = train_test_split(data,target,test_size=0.2, random_state=42)"
   ]
  },
  {
   "cell_type": "markdown",
   "id": "bc23caf9",
   "metadata": {},
   "source": [
    "## 2) 교차검증 \n",
    "- `n_jobs=-1` : 모든 CPU 코어를 사용하여 병렬 처리\n",
    "- `return_train_score=True` : 훈련 세트에 대한 점수도 반환"
   ]
  },
  {
   "cell_type": "code",
   "execution_count": 7,
   "id": "4633d7ae",
   "metadata": {},
   "outputs": [
    {
     "name": "stdout",
     "output_type": "stream",
     "text": [
      "훈련 세트 평가 점: 0.9973541965122431\n",
      "테스트 세트 평가 점: 0.8905151032797809\n"
     ]
    }
   ],
   "source": [
    "from sklearn.model_selection import cross_validate\n",
    "from sklearn.ensemble import RandomForestClassifier\n",
    "rf = RandomForestClassifier(n_jobs=-1, random_state=42)\n",
    "\n",
    "### 교차검증\n",
    "scores = cross_validate(rf, train_input, train_target, return_train_score=True, n_jobs=-1)\n",
    "\n",
    "### 모델 평가\n",
    "print(\"훈련 세트 평가 점:\", np.mean(scores[\"train_score\"]))\n",
    "print(\"테스트 세트 평가 점:\", np.mean(scores[\"test_score\"]))"
   ]
  },
  {
   "cell_type": "markdown",
   "id": "96422481",
   "metadata": {},
   "source": [
    "- 훈련 세트 : 0.99  VS 테스트 세트 : 0.89 -> 과대 적합 상태 "
   ]
  },
  {
   "cell_type": "markdown",
   "id": "b0506ac8",
   "metadata": {},
   "source": [
    "### 3) OBB 샘플 "
   ]
  },
  {
   "cell_type": "markdown",
   "id": "80337297",
   "metadata": {},
   "source": [
    "- `oob_score = True` 옵션을 사용하면 OOB 샘플을 이용해서 모델을 평가할 수 있음\n",
    "- 자체적으로 모델을 평가하는 점수 \n",
    "- OBB 샘플 : 부트스트랩에 포함되지 않은 샘플 \n",
    "  -  이 샘플들을 이용해서 검증 세트처럼 사용함 "
   ]
  },
  {
   "cell_type": "code",
   "execution_count": 8,
   "id": "e76bbffd",
   "metadata": {},
   "outputs": [
    {
     "name": "stdout",
     "output_type": "stream",
     "text": [
      "OOB 추정 정확도: 0.8934000384837406\n"
     ]
    }
   ],
   "source": [
    "rf = RandomForestClassifier(oob_score=True, n_jobs=-1, random_state=42)\n",
    "rf.fit(train_input, train_target)\n",
    "print(\"OOB 추정 정확도:\", rf.oob_score_)"
   ]
  },
  {
   "cell_type": "markdown",
   "id": "163407c4",
   "metadata": {},
   "source": [
    "# 3. 엑스트라 트리 "
   ]
  },
  {
   "cell_type": "markdown",
   "id": "64956f63",
   "metadata": {},
   "source": [
    "- 랜덤포레스트와 다르게 부트스트랩 샘플을 사용하지 않음 \n",
    "- 각 결정 트리가 만들어질때 `전체 훈련 세트` 를 사용 \n",
    "  - 단, 노드를 분할 할 때 `무작위` 로 분할 \n",
    "  - 랜덤 포레스트보다 빠른 것이 장점 "
   ]
  },
  {
   "cell_type": "code",
   "execution_count": 11,
   "id": "c7525637",
   "metadata": {},
   "outputs": [
    {
     "name": "stdout",
     "output_type": "stream",
     "text": [
      "훈련 세트 평가 점: 0.9974503966084433\n",
      "테스트 세트 평가 점: 0.8887848893166506\n"
     ]
    }
   ],
   "source": [
    "from sklearn.ensemble import ExtraTreesClassifier\n",
    "et = ExtraTreesClassifier(n_jobs=-1, random_state=42)\n",
    "scores = cross_validate(et, train_input, train_target, return_train_score=True, n_jobs=-1)\n",
    "print(\"훈련 세트 평가 점:\", np.mean(scores[\"train_score\"]))\n",
    "print(\"테스트 세트 평가 점:\", np.mean(scores[\"test_score\"]))"
   ]
  },
  {
   "cell_type": "markdown",
   "id": "e70fb172",
   "metadata": {},
   "source": [
    "# 4. 그레디언트 부스팅 \n",
    "- 깊이가 얕은 결정 트리를 사용 -> 트리의 오차를 보완 \n",
    "- 깊이가 3인 결정 트리를 100개 사용\n",
    "- 과대적합에 강하고 높은 일반화 성능 기대 \n",
    "- 경사하강법을 사용하여 트리 앙상블에 추가 \n",
    "        - 손실함수 : 로지스틱 손실함수 "
   ]
  },
  {
   "cell_type": "code",
   "execution_count": 12,
   "id": "a0bd828a",
   "metadata": {},
   "outputs": [
    {
     "name": "stdout",
     "output_type": "stream",
     "text": [
      "훈련 세트 평가 점: 0.8881086892152563\n",
      "테스트 세트 평가 점: 0.8720430147331015\n"
     ]
    }
   ],
   "source": [
    "from sklearn.ensemble import GradientBoostingClassifier\n",
    "gb = GradientBoostingClassifier(random_state=42)\n",
    "scores = cross_validate(gb, train_input, train_target, return_train_score=True, n_jobs=-1)\n",
    "print(\"훈련 세트 평가 점:\", np.mean(scores[\"train_score\"]))\n",
    "print(\"테스트 세트 평가 점:\", np.mean(scores[\"test_score\"]))"
   ]
  },
  {
   "cell_type": "markdown",
   "id": "795369cd",
   "metadata": {},
   "source": [
    "- 학습률을 증가시키고 트리의 개수를 늘림 -> 성능 상승 \n",
    "- `n_estimators` : 트리의 갯수 \n",
    "- `learning_rate` : 학습률`"
   ]
  },
  {
   "cell_type": "code",
   "execution_count": 13,
   "id": "cc2aacea",
   "metadata": {},
   "outputs": [
    {
     "name": "stdout",
     "output_type": "stream",
     "text": [
      "훈련 세트 평가 점: 0.9464595437171814\n",
      "테스트 세트 평가 점: 0.8780082549788999\n"
     ]
    }
   ],
   "source": [
    "gb= GradientBoostingClassifier(random_state=42, n_estimators=500, learning_rate=0.2)\n",
    "scores = cross_validate(gb, train_input, train_target, return_train_score=True, n_jobs=-1)\n",
    "print(\"훈련 세트 평가 점:\", np.mean(scores[\"train_score\"]))\n",
    "print(\"테스트 세트 평가 점:\", np.mean(scores[\"test_score\"]))"
   ]
  },
  {
   "cell_type": "markdown",
   "id": "904752e1",
   "metadata": {},
   "source": [
    "# 5. 히스토그램 기반 그레디언트 부스팅 \n",
    "  - 그레디언트 부스팅은 트리를 순차적으로 학습하는 방식이기 때문에 훈련 시간이 오래 걸림 \n",
    "- 속도와 성능을 개선한 것이 히스토그램 기반 그레디언트 부스팅\n",
    "- 정형 데이터를 다루는 머신러닝 알고리즘 중 인기가 좋음 \n",
    "\n",
    "### 원리 \n",
    "- 입력 구간을 256개로 나룸 \n",
    "- 각 구간에 해당하는 값을 대표하는 값으로 변환"
   ]
  },
  {
   "cell_type": "code",
   "execution_count": 14,
   "id": "c2c4bedb",
   "metadata": {},
   "outputs": [
    {
     "name": "stdout",
     "output_type": "stream",
     "text": [
      "훈련 세트 평가 점: 0.9321723946453317\n",
      "테스트 세트 평가 점: 0.8801241948619236\n"
     ]
    }
   ],
   "source": [
    "from sklearn.ensemble import HistGradientBoostingClassifier\n",
    "hgb = HistGradientBoostingClassifier(random_state=42, max_iter=100)\n",
    "scores = cross_validate(hgb, train_input, train_target, return_train_score=True, n_jobs=-1)\n",
    "print(\"훈련 세트 평가 점:\", np.mean(scores[\"train_score\"]))\n",
    "print(\"테스트 세트 평가 점:\", np.mean(scores[\"test_score\"]))"
   ]
  },
  {
   "cell_type": "markdown",
   "id": "b4d99544",
   "metadata": {},
   "source": [
    "### permutation importance \n",
    "  - 특성을 하나씩 랜덤하게 섞어 모델의 성능 변화를 찰\n",
    "- `n_repeats` : 섞는 횟수"
   ]
  },
  {
   "cell_type": "code",
   "execution_count": 16,
   "id": "8c9aacc9",
   "metadata": {},
   "outputs": [
    {
     "name": "stdout",
     "output_type": "stream",
     "text": [
      "특성 중요도:\n",
      " [0.05969231 0.20238462 0.049     ]\n"
     ]
    }
   ],
   "source": [
    "from sklearn.inspection import permutation_importance\n",
    "\n",
    "hgb.fit(train_input, train_target)\n",
    "result = permutation_importance(hgb, test_input, test_target, n_repeats=10, random_state=42, n_jobs=-1)\n",
    "print(\"특성 중요도:\\n\", result.importances_mean)"
   ]
  },
  {
   "cell_type": "code",
   "execution_count": 17,
   "id": "959e05a7",
   "metadata": {},
   "outputs": [
    {
     "name": "stdout",
     "output_type": "stream",
     "text": [
      "테스트 세트 정확도: 0.8723076923076923\n"
     ]
    }
   ],
   "source": [
    "### 최종 성능 확인 \n",
    "hgb.score(test_input, test_target)\n",
    "print(\"테스트 세트 정확도:\", hgb.score(test_input, test_target))"
   ]
  },
  {
   "cell_type": "markdown",
   "id": "01a90b26",
   "metadata": {},
   "source": [
    "# XGBoost"
   ]
  },
  {
   "cell_type": "code",
   "execution_count": 22,
   "id": "558696e8",
   "metadata": {},
   "outputs": [
    {
     "name": "stdout",
     "output_type": "stream",
     "text": [
      "훈련 세트 평가 점: 0.9567059184812372\n",
      "테스트 세트 평가 점: 0.8783915747390243\n"
     ]
    }
   ],
   "source": [
    "from xgboost import XGBClassifier\n",
    "xgb = XGBClassifier(tree_method=\"hist\", random_state=42, n_jobs=-1)\n",
    "scores = cross_validate(xgb, train_input, train_target, return_train_score=True, n_jobs=-1)\n",
    "print(\"훈련 세트 평가 점:\", np.mean(scores[\"train_score\"]))\n",
    "print(\"테스트 세트 평가 점:\", np.mean(scores[\"test_score\"]))"
   ]
  },
  {
   "cell_type": "code",
   "execution_count": 27,
   "id": "1cdf97cd",
   "metadata": {},
   "outputs": [
    {
     "name": "stdout",
     "output_type": "stream",
     "text": [
      "훈련 세트 평가 점: 0.935828414851749\n",
      "테스트 세트 평가 점: 0.8801251203079884\n"
     ]
    }
   ],
   "source": [
    "## LightGBM\n",
    "from lightgbm import LGBMClassifier\n",
    "lgbm = LGBMClassifier(random_state=42, n_jobs=-1)\n",
    "scores = cross_validate(lgbm, train_input, train_target, return_train_score=True, n_jobs=-1)\n",
    "print(\"훈련 세트 평가 점:\", np.mean(scores[\"train_score\"]))\n",
    "print(\"테스트 세트 평가 점:\", np.mean(scores[\"test_score\"]))"
   ]
  },
  {
   "cell_type": "code",
   "execution_count": null,
   "id": "b26f0cdf",
   "metadata": {},
   "outputs": [],
   "source": []
  }
 ],
 "metadata": {
  "kernelspec": {
   "display_name": "ml_basic",
   "language": "python",
   "name": "python3"
  },
  "language_info": {
   "codemirror_mode": {
    "name": "ipython",
    "version": 3
   },
   "file_extension": ".py",
   "mimetype": "text/x-python",
   "name": "python",
   "nbconvert_exporter": "python",
   "pygments_lexer": "ipython3",
   "version": "3.12.11"
  }
 },
 "nbformat": 4,
 "nbformat_minor": 5
}
