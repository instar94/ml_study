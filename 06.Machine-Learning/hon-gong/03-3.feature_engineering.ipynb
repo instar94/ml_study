{
 "cells": [
  {
   "cell_type": "markdown",
   "id": "d45f4ef0",
   "metadata": {},
   "source": [
    "# 1. 피쳐 엔지니어링\n",
    "## 1) 피쳐 엔지니어링이란 ? \n",
    "- 주어진 특성을 조합하여 새로운 특성을 만드는 작업 \n",
    "\n",
    "## 2) 다중 회귀 \n",
    "- 여러 개의 특성을 이용해 사용하는 선형 회귀 \n",
    "-  예시 : $길이 \\cdot 높이 + 길이^2 + 높이^2 $\n",
    "  \n",
    "  ## 3) 하이퍼파라미터 \n",
    "  - 머신러닝 알고리즘이 학습하지 않은 파라미터 \n",
    "  - 인간이 직접 지정 \n",
    "  - 규제를 위한 alpha 값 "
   ]
  },
  {
   "cell_type": "code",
   "execution_count": 39,
   "id": "5df524f3",
   "metadata": {},
   "outputs": [],
   "source": [
    "import matplotlib.pyplot as plt\n",
    "import numpy as np\n",
    "import pandas as pd\n",
    "from sklearn.linear_model import LinearRegression,Ridge,Lasso\n",
    "from sklearn.model_selection import train_test_split\n",
    "from sklearn.preprocessing import PolynomialFeatures, StandardScaler\n",
    "\n",
    "\n",
    "# Matplotlib의 전역 폰트 설정\n",
    "plt.rc('font', family='Pretendard')\n",
    "\n",
    "# 마이너스 부호가 깨지는 현상 방지\n",
    "plt.rc('axes', unicode_minus=False)\n"
   ]
  },
  {
   "cell_type": "markdown",
   "id": "963bb6d3",
   "metadata": {},
   "source": [
    "# 2. 데이터 준비 \n",
    "\n",
    "## 1) CSV를 데이터 프레임으로 수집\n",
    "- 사이킷런 1.2 버전 이후 데이터프레임도 호환 \n",
    "- 데이터 프레임 > 넘파이로 변경 > 크게 차이 없음 "
   ]
  },
  {
   "cell_type": "code",
   "execution_count": 23,
   "id": "10c71877",
   "metadata": {},
   "outputs": [
    {
     "data": {
      "text/html": [
       "<div>\n",
       "<style scoped>\n",
       "    .dataframe tbody tr th:only-of-type {\n",
       "        vertical-align: middle;\n",
       "    }\n",
       "\n",
       "    .dataframe tbody tr th {\n",
       "        vertical-align: top;\n",
       "    }\n",
       "\n",
       "    .dataframe thead th {\n",
       "        text-align: right;\n",
       "    }\n",
       "</style>\n",
       "<table border=\"1\" class=\"dataframe\">\n",
       "  <thead>\n",
       "    <tr style=\"text-align: right;\">\n",
       "      <th></th>\n",
       "      <th>length</th>\n",
       "      <th>height</th>\n",
       "      <th>width</th>\n",
       "    </tr>\n",
       "  </thead>\n",
       "  <tbody>\n",
       "    <tr>\n",
       "      <th>0</th>\n",
       "      <td>8.4</td>\n",
       "      <td>2.11</td>\n",
       "      <td>1.41</td>\n",
       "    </tr>\n",
       "    <tr>\n",
       "      <th>1</th>\n",
       "      <td>13.7</td>\n",
       "      <td>3.53</td>\n",
       "      <td>2.00</td>\n",
       "    </tr>\n",
       "    <tr>\n",
       "      <th>2</th>\n",
       "      <td>15.0</td>\n",
       "      <td>3.82</td>\n",
       "      <td>2.43</td>\n",
       "    </tr>\n",
       "    <tr>\n",
       "      <th>3</th>\n",
       "      <td>16.2</td>\n",
       "      <td>4.59</td>\n",
       "      <td>2.63</td>\n",
       "    </tr>\n",
       "    <tr>\n",
       "      <th>4</th>\n",
       "      <td>17.4</td>\n",
       "      <td>4.59</td>\n",
       "      <td>2.94</td>\n",
       "    </tr>\n",
       "  </tbody>\n",
       "</table>\n",
       "</div>"
      ],
      "text/plain": [
       "   length   height   width\n",
       "0     8.4     2.11    1.41\n",
       "1    13.7     3.53    2.00\n",
       "2    15.0     3.82    2.43\n",
       "3    16.2     4.59    2.63\n",
       "4    17.4     4.59    2.94"
      ]
     },
     "execution_count": 23,
     "metadata": {},
     "output_type": "execute_result"
    }
   ],
   "source": [
    "perch_full = pd.read_csv(\"https://bit.ly/perch_csv_data\")\n",
    "perch_full.head()"
   ]
  },
  {
   "cell_type": "markdown",
   "id": "c6521bbe",
   "metadata": {},
   "source": [
    "## 2) 타깃 테이터 생성 "
   ]
  },
  {
   "cell_type": "code",
   "execution_count": 24,
   "id": "efd2fc04",
   "metadata": {},
   "outputs": [],
   "source": [
    "perch_weight = np.array([5.9, 32.0, 40.0, 51.5, 70.0, 100.0, 78.0, 80.0, 85.0, 85.0, 110.0,\n",
    "       115.0, 125.0, 130.0, 120.0, 120.0, 130.0, 135.0, 110.0, 130.0,\n",
    "       150.0, 145.0, 150.0, 170.0, 225.0, 145.0, 188.0, 180.0, 197.0,\n",
    "       218.0, 300.0, 260.0, 265.0, 250.0, 250.0, 300.0, 320.0, 514.0,\n",
    "       556.0, 840.0, 685.0, 700.0, 700.0, 690.0, 900.0, 650.0, 820.0,\n",
    "       850.0, 900.0, 1015.0, 820.0, 1100.0, 1000.0, 1100.0, 1000.0,\n",
    "       1000.0])"
   ]
  },
  {
   "cell_type": "markdown",
   "id": "aa333aea",
   "metadata": {},
   "source": [
    "## 3) 훈련 / 테스트 분리 "
   ]
  },
  {
   "cell_type": "code",
   "execution_count": 25,
   "id": "2e03734f",
   "metadata": {},
   "outputs": [],
   "source": [
    "train_input,test_input,train_target,test_target = train_test_split(perch_full,perch_weight)"
   ]
  },
  {
   "cell_type": "markdown",
   "id": "16331a5c",
   "metadata": {},
   "source": [
    "## 4) 데이터 전처리 - PolynomialFeatures\n",
    "- `PolynomialFeatures(include_bias=False)` : 절편을 제외하고 전처리 \n",
    "  - `fit()` : 새롭게 만들 특성 조합을 찾음 \n",
    "  - `transform()` : 데이터를 변환  "
   ]
  },
  {
   "cell_type": "code",
   "execution_count": 26,
   "id": "eacb8f03",
   "metadata": {},
   "outputs": [
    {
     "name": "stdout",
     "output_type": "stream",
     "text": [
      "42개에서 9개의 특성 추출 :  (42, 9)\n",
      "조합 확인 :  ['length' ' height' ' width' 'length^2' 'length  height' 'length  width'\n",
      " ' height^2' ' height  width' ' width^2']\n"
     ]
    }
   ],
   "source": [
    "poly =PolynomialFeatures(include_bias=False)\n",
    "\n",
    "### 훈련 세트 조합 만들기 \n",
    "poly.fit(train_input)\n",
    "\n",
    "### 조합 출력 \n",
    "train_poly = poly.transform(train_input)\n",
    "\n",
    "print(\"42개에서 9개의 특성 추출 : \",train_poly.shape)\n",
    "\n",
    "### 조합 확인 \n",
    "print(\"조합 확인 : \", poly.get_feature_names_out())"
   ]
  },
  {
   "cell_type": "code",
   "execution_count": 27,
   "id": "d21c0ecf",
   "metadata": {},
   "outputs": [],
   "source": [
    "### 테스트 세트 조합 만들기 \n",
    "test_poly=poly.transform(test_input)\n"
   ]
  },
  {
   "cell_type": "markdown",
   "id": "c3191277",
   "metadata": {},
   "source": [
    "# 3. 다중 회귀 모델 훈련 \n",
    "## 1) 회귀 모델 학습"
   ]
  },
  {
   "cell_type": "code",
   "execution_count": 28,
   "id": "3f08c396",
   "metadata": {},
   "outputs": [
    {
     "name": "stdout",
     "output_type": "stream",
     "text": [
      "모델 평가(훈련) :  0.9906721427318859\n",
      "모델 평가(검증) :  0.9414221920007683\n"
     ]
    }
   ],
   "source": [
    "### 객체 선언 \n",
    "lr = LinearRegression()\n",
    "lr.fit(train_poly,train_target)\n",
    "\n",
    "print(\"모델 평가(훈련) : \", lr.score(train_poly,train_target))\n",
    "print(\"모델 평가(검증) : \", lr.score(test_poly,test_target))"
   ]
  },
  {
   "cell_type": "markdown",
   "id": "fde6af57",
   "metadata": {},
   "source": [
    "## 2) 규제\n",
    "- 모델이 훈련 세트를 너무 과도하게 학습하지 못하게 하여 Overfitting 을 방지 \n",
    "- 대표적으로 정규화를 가능 \n",
    "- 대표적인 방식 : 릿지(Ridge - 제곱값) 와 라쏘 (Lasso - 절대값 )"
   ]
  },
  {
   "cell_type": "code",
   "execution_count": 32,
   "id": "9b7eaf24",
   "metadata": {},
   "outputs": [],
   "source": [
    "ss = StandardScaler()\n",
    "ss.fit(train_poly)\n",
    "train_scaled = ss.transform(train_poly)\n",
    "test_scaled = ss.transform(test_poly)"
   ]
  },
  {
   "cell_type": "markdown",
   "id": "bb3ae503",
   "metadata": {},
   "source": [
    "- 릿지 알고리즘 이용 \n",
    "  - 훈련 점수가 낮아 졌지만 검증 점수가 상승하고 점수가 유사해짐 "
   ]
  },
  {
   "cell_type": "code",
   "execution_count": 35,
   "id": "6eb11e78",
   "metadata": {},
   "outputs": [
    {
     "name": "stdout",
     "output_type": "stream",
     "text": [
      "모델 평가 (훈련):  0.986190916307391\n",
      "모델 평가 (검증):  0.9816666142305165\n"
     ]
    }
   ],
   "source": [
    "ridge = Ridge()\n",
    "### 릿지로 규제를 주고 학습\n",
    "ridge.fit(train_scaled, train_target)\n",
    "\n",
    "print(\"모델 평가 (훈련): \",ridge.score(train_scaled,train_target))\n",
    "print(\"모델 평가 (검증): \",ridge.score(test_scaled,test_target))"
   ]
  },
  {
   "cell_type": "markdown",
   "id": "0a10cac4",
   "metadata": {},
   "source": [
    "## 3) 릿지의 alpah 값 \n",
    "- 0.001에서 100까지 늘려가며 확인 "
   ]
  },
  {
   "cell_type": "code",
   "execution_count": 36,
   "id": "4debae05",
   "metadata": {},
   "outputs": [],
   "source": [
    "alpha_list = [0.001, 0.01, 0.1, 1, 10, 100]\n",
    "train_score=[]\n",
    "test_score=[]\n",
    "\n",
    "for a in alpha_list : \n",
    "    ridge = Ridge(alpha=a)\n",
    "    ridge.fit(train_scaled,train_target)\n",
    "    train_score.append(ridge.score(train_scaled,train_target))\n",
    "    test_score.append(ridge.score(test_scaled,test_target))"
   ]
  },
  {
   "cell_type": "markdown",
   "id": "975b4220",
   "metadata": {},
   "source": [
    "- 시각화 \n",
    "  - 오버피팅과 언더피팅이 없는 알파값 : 0.01"
   ]
  },
  {
   "cell_type": "code",
   "execution_count": 37,
   "id": "977e5bcd",
   "metadata": {},
   "outputs": [
    {
     "data": {
      "image/png": "[encoded data removed]",
      "text/plain": [
       "<Figure size 640x480 with 1 Axes>"
      ]
     },
     "metadata": {},
     "output_type": "display_data"
    }
   ],
   "source": [
    "plt.plot(alpha_list, train_score)\n",
    "plt.plot(alpha_list, test_score)\n",
    "plt.xscale(\"log\")\n",
    "plt.xlabel(\"alpha\")\n",
    "plt.ylabel(\"R^2\")\n",
    "plt.show()"
   ]
  },
  {
   "cell_type": "markdown",
   "id": "4208c97d",
   "metadata": {},
   "source": [
    "- 알파값을 변경해서 적용 "
   ]
  },
  {
   "cell_type": "code",
   "execution_count": 38,
   "id": "af09e9b4",
   "metadata": {},
   "outputs": [
    {
     "name": "stdout",
     "output_type": "stream",
     "text": [
      "모델 평가 (훈련):  0.989032058813466\n",
      "모델 평가 (검증):  0.9854558024500837\n"
     ]
    }
   ],
   "source": [
    "ridge = Ridge(alpha=0.1)\n",
    "### 릿지로 규제를 주고 학습\n",
    "ridge.fit(train_scaled, train_target)\n",
    "\n",
    "print(\"모델 평가 (훈련): \",ridge.score(train_scaled,train_target))\n",
    "print(\"모델 평가 (검증): \",ridge.score(test_scaled,test_target))"
   ]
  },
  {
   "cell_type": "markdown",
   "id": "404e7124",
   "metadata": {},
   "source": [
    "## 4) 라쏘의 alpha값 \n",
    "- 적정 값 : 0.01"
   ]
  },
  {
   "cell_type": "code",
   "execution_count": 40,
   "id": "0015785f",
   "metadata": {},
   "outputs": [
    {
     "name": "stderr",
     "output_type": "stream",
     "text": [
      "c:\\ProgramData\\miniconda3\\envs\\ml_basic\\Lib\\site-packages\\sklearn\\linear_model\\_coordinate_descent.py:695: ConvergenceWarning: Objective did not converge. You might want to increase the number of iterations, check the scale of the features or consider increasing regularisation. Duality gap: 2.317e+04, tolerance: 4.924e+02\n",
      "  model = cd_fast.enet_coordinate_descent(\n",
      "c:\\ProgramData\\miniconda3\\envs\\ml_basic\\Lib\\site-packages\\sklearn\\linear_model\\_coordinate_descent.py:695: ConvergenceWarning: Objective did not converge. You might want to increase the number of iterations, check the scale of the features or consider increasing regularisation. Duality gap: 8.813e+03, tolerance: 4.924e+02\n",
      "  model = cd_fast.enet_coordinate_descent(\n"
     ]
    },
    {
     "data": {
      "image/png": "[encoded data removed]",
      "text/plain": [
       "<Figure size 640x480 with 1 Axes>"
      ]
     },
     "metadata": {},
     "output_type": "display_data"
    }
   ],
   "source": [
    "alpha_list = [0.001, 0.01, 0.1, 1, 10, 100]\n",
    "train_score=[]\n",
    "test_score=[]\n",
    "\n",
    "for a in alpha_list : \n",
    "    lasso = Lasso(alpha=a,max_iter=10000)\n",
    "    lasso.fit(train_scaled,train_target)\n",
    "    train_score.append(lasso.score(train_scaled,train_target))\n",
    "    test_score.append(lasso.score(test_scaled,test_target))\n",
    "\n",
    "plt.plot(alpha_list, train_score)\n",
    "plt.plot(alpha_list, test_score)\n",
    "plt.xscale(\"log\")\n",
    "plt.xlabel(\"alpha\")\n",
    "plt.ylabel(\"R^2\")\n",
    "plt.show()"
   ]
  },
  {
   "cell_type": "code",
   "execution_count": 41,
   "id": "c0a2c989",
   "metadata": {},
   "outputs": [
    {
     "name": "stdout",
     "output_type": "stream",
     "text": [
      "모델 평가 (훈련):  0.9891492329070228\n",
      "모델 평가 (검증):  0.9836604442331568\n"
     ]
    },
    {
     "name": "stderr",
     "output_type": "stream",
     "text": [
      "c:\\ProgramData\\miniconda3\\envs\\ml_basic\\Lib\\site-packages\\sklearn\\linear_model\\_coordinate_descent.py:695: ConvergenceWarning: Objective did not converge. You might want to increase the number of iterations, check the scale of the features or consider increasing regularisation. Duality gap: 3.273e+03, tolerance: 4.924e+02\n",
      "  model = cd_fast.enet_coordinate_descent(\n"
     ]
    }
   ],
   "source": [
    "lasso = Lasso(alpha=0.1)\n",
    "### 릿지로 규제를 주고 학습\n",
    "lasso.fit(train_scaled, train_target)\n",
    "\n",
    "print(\"모델 평가 (훈련): \",lasso.score(train_scaled,train_target))\n",
    "print(\"모델 평가 (검증): \",lasso.score(test_scaled,test_target))"
   ]
  }
 ],
 "metadata": {
  "kernelspec": {
   "display_name": "ml_basic",
   "language": "python",
   "name": "python3"
  },
  "language_info": {
   "codemirror_mode": {
    "name": "ipython",
    "version": 3
   },
   "file_extension": ".py",
   "mimetype": "text/x-python",
   "name": "python",
   "nbconvert_exporter": "python",
   "pygments_lexer": "ipython3",
   "version": "3.12.11"
  }
 },
 "nbformat": 4,
 "nbformat_minor": 5
}
