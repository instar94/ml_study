{
 "cells": [
  {
   "metadata": {},
   "cell_type": "markdown",
   "source": [
    "# 1. 훈련 세트와 테스트 세트\n",
    "- 훈련 세트 : 모델을 훈련시키는 데이터\n",
    "- 테스트 세트 : 모델을 평가하는 데이터m"
   ],
   "id": "dc039ef56bfc227"
  },
  {
   "metadata": {},
   "cell_type": "markdown",
   "source": "# 2. 필요한 라이브러리 불러오기",
   "id": "360e639b2e80627a"
  },
  {
   "metadata": {},
   "cell_type": "code",
   "outputs": [],
   "execution_count": null,
   "source": [
    "import matplotlib.pyplot as plt\n",
    "import numpy as np\n",
    "from sklearn.neighbors import KNeighborsClassifier\n",
    "\n",
    "# Matplotlib의 전역 폰트 설정\n",
    "plt.rc('font', family='Pretendard')\n",
    "\n",
    "# 마이너스 부호가 깨지는 현상 방지\n",
    "plt.rc('axes', unicode_minus=False)\n"
   ],
   "id": "8cedc85f5a5db312"
  },
  {
   "metadata": {},
   "cell_type": "markdown",
   "source": "# 3. 데이터 세팅",
   "id": "b7795c4e8cde5c09"
  },
  {
   "metadata": {},
   "cell_type": "markdown",
   "source": "## 1) 물고기 데이터",
   "id": "9fac91ae3d9865eb"
  },
  {
   "metadata": {
    "ExecuteTime": {
     "end_time": "2025-06-11T13:24:16.846413Z",
     "start_time": "2025-06-11T13:24:16.836418Z"
    }
   },
   "cell_type": "code",
   "source": [
    "fish_length = [25.4, 26.3, 26.5, 29.0, 29.0, 29.7, 29.7, 30.0, 30.0, 30.7, 31.0, 31.0,\n",
    "                31.5, 32.0, 32.0, 32.0, 33.0, 33.0, 33.5, 33.5, 34.0, 34.0, 34.5, 35.0,\n",
    "                35.0, 35.0, 35.0, 36.0, 36.0, 37.0, 38.5, 38.5, 39.5, 41.0, 41.0, 9.8,\n",
    "                10.5, 10.6, 11.0, 11.2, 11.3, 11.8, 11.8, 12.0, 12.2, 12.4, 13.0, 14.3, 15.0]\n",
    "fish_weight = [242.0, 290.0, 340.0, 363.0, 430.0, 450.0, 500.0, 390.0, 450.0, 500.0, 475.0, 500.0,\n",
    "                500.0, 340.0, 600.0, 600.0, 700.0, 700.0, 610.0, 650.0, 575.0, 685.0, 620.0, 680.0,\n",
    "                700.0, 725.0, 720.0, 714.0, 850.0, 1000.0, 920.0, 955.0, 925.0, 975.0, 950.0, 6.7,\n",
    "                7.5, 7.0, 9.7, 9.8, 8.7, 10.0, 9.9, 9.8, 12.2, 13.4, 12.2, 19.7, 19.9]\n",
    "\n",
    "fish_data = [[l, w] for l, w in zip(fish_length, fish_weight)]"
   ],
   "id": "79051d713a48113",
   "outputs": [],
   "execution_count": 4
  },
  {
   "metadata": {},
   "cell_type": "markdown",
   "source": "## 2) 정답 데이터",
   "id": "db4220f9ae9a91e1"
  },
  {
   "metadata": {
    "ExecuteTime": {
     "end_time": "2025-06-11T13:24:23.876697Z",
     "start_time": "2025-06-11T13:24:23.864652Z"
    }
   },
   "cell_type": "code",
   "source": "fish_target = [1] * 35 + [0] * 14  # 도미는 1, 빙어는 0",
   "id": "f536c8abe17374f3",
   "outputs": [],
   "execution_count": 5
  },
  {
   "metadata": {},
   "cell_type": "markdown",
   "source": [
    "# 4. 테스트 세트와 훈련 세트 분리\n",
    "- 랜덤하게 데이터를 섞은 후, 35개는 훈련 세트로, 나머지 14개는 테스트 세트로 분리\n",
    "- 섞는 방법 : 넘파이 이용\n",
    "- `np.random.shuffle()` : 넘파이에서 제공하는 함수로, 배열의 인덱스를 랜덤하게 섞음"
   ],
   "id": "513964385991bff0"
  },
  {
   "metadata": {
    "ExecuteTime": {
     "end_time": "2025-06-11T13:33:55.496331Z",
     "start_time": "2025-06-11T13:33:55.489331Z"
    }
   },
   "cell_type": "code",
   "source": [
    "### kn 객체 생성\n",
    "kn = KNeighborsClassifier()"
   ],
   "id": "aa47376e668919c7",
   "outputs": [],
   "execution_count": 13
  },
  {
   "metadata": {
    "ExecuteTime": {
     "end_time": "2025-06-11T13:27:33.289469Z",
     "start_time": "2025-06-11T13:27:33.279511Z"
    }
   },
   "cell_type": "code",
   "source": [
    "### 데이터를 넘파이 배열로 변환\n",
    "input_arr =np.array(fish_data)\n",
    "target_arr = np.array(fish_target)\n",
    "### (샘플 수, 특성수)\n",
    "print (input_arr.shape)"
   ],
   "id": "4c4b74cabba75b30",
   "outputs": [
    {
     "name": "stdout",
     "output_type": "stream",
     "text": [
      "(49, 2)\n"
     ]
    }
   ],
   "execution_count": 9
  },
  {
   "metadata": {
    "ExecuteTime": {
     "end_time": "2025-06-11T13:28:42.702752Z",
     "start_time": "2025-06-11T13:28:42.693743Z"
    }
   },
   "cell_type": "code",
   "source": [
    "### 랜덤으로 섞기 - 인덱스를 섞음\n",
    "### 인덱스 생성\n",
    "index = np.arange(49)\n",
    "np.random.shuffle(index)\n",
    "print(index)"
   ],
   "id": "df8be5f5498790e5",
   "outputs": [
    {
     "name": "stdout",
     "output_type": "stream",
     "text": [
      "[41  7  3  4 22 33 42 44 47 26 28 37 19  6 25 16 20 46 18 10 34 12  8 21\n",
      " 15  9 30 23 39 11 36 48 32 27 38  5 14 24 43 17 40 29 13  1  0 31 45 35\n",
      "  2]\n"
     ]
    }
   ],
   "execution_count": 10
  },
  {
   "metadata": {},
   "cell_type": "markdown",
   "source": [
    "# 5. 산점도로 시각화\n",
    "- 35개는 훈련 세트로, 나머지 14개는 테스트 세트로 분리"
   ],
   "id": "e7cad339064c16ca"
  },
  {
   "metadata": {
    "ExecuteTime": {
     "end_time": "2025-06-11T13:31:54.108822Z",
     "start_time": "2025-06-11T13:31:54.098307Z"
    }
   },
   "cell_type": "code",
   "source": [
    "### 훈련 세트\n",
    "train_input = input_arr[index[:35]]\n",
    "train_target = target_arr[index[:35]]\n",
    "### 테스트 세트\n",
    "test_input = input_arr[index[35:]]\n",
    "test_target = target_arr[index[35:]]"
   ],
   "id": "d894c7a26ab058de",
   "outputs": [],
   "execution_count": 11
  },
  {
   "metadata": {
    "ExecuteTime": {
     "end_time": "2025-06-11T13:33:01.475259Z",
     "start_time": "2025-06-11T13:33:01.291273Z"
    }
   },
   "cell_type": "code",
   "source": [
    "### 산점도로 시각화\n",
    "plt.scatter(train_input[:,0], train_input[:,1])\n",
    "plt.scatter(test_input[:,0], test_input[:,1])\n",
    "plt.xlabel('length')\n",
    "plt.ylabel('weight')\n",
    "plt.show()"
   ],
   "id": "eae5294e3b0b9012",
   "outputs": [
    {
     "data": {
      "text/plain": [
       "<Figure size 640x480 with 1 Axes>"
      ],
      "image/png": "[encoded data removed]"
     },
     "metadata": {},
     "output_type": "display_data"
    }
   ],
   "execution_count": 12
  },
  {
   "metadata": {},
   "cell_type": "markdown",
   "source": "# 6. 모델 훈련",
   "id": "6ae6294503802ecf"
  },
  {
   "metadata": {
    "ExecuteTime": {
     "end_time": "2025-06-11T13:35:48.873114Z",
     "start_time": "2025-06-11T13:35:48.846589Z"
    }
   },
   "cell_type": "code",
   "source": [
    "### 모델 훈련 - 훈련 세트 사용\n",
    "kn.fit(train_input, train_target)\n",
    "\n",
    "### 모델 평가 - 테스트 세트 사용\n",
    "print(\"모델 평가 : \",kn.score(test_input, test_target))\n",
    "\n",
    "### 예측\n",
    "print(\"예측 : \",kn.predict(test_input))\n",
    "\n",
    "### 정답 데이터\n",
    "print(\"정답 데이터 : \",test_target)\n",
    "\n"
   ],
   "id": "428a5ef018b07b80",
   "outputs": [
    {
     "name": "stdout",
     "output_type": "stream",
     "text": [
      "모델 평가 :  1.0\n",
      "예측 :  [1 1 1 0 1 0 1 1 1 1 1 0 0 1]\n",
      "정답 데이터 :  [1 1 1 0 1 0 1 1 1 1 1 0 0 1]\n"
     ]
    }
   ],
   "execution_count": 16
  }
 ],
 "metadata": {
  "kernelspec": {
   "display_name": "Python 3",
   "language": "python",
   "name": "python3"
  },
  "language_info": {
   "codemirror_mode": {
    "name": "ipython",
    "version": 2
   },
   "file_extension": ".py",
   "mimetype": "text/x-python",
   "name": "python",
   "nbconvert_exporter": "python",
   "pygments_lexer": "ipython2",
   "version": "2.7.6"
  }
 },
 "nbformat": 4,
 "nbformat_minor": 5
}
