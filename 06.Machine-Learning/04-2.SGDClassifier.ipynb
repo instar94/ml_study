{
  "cells": [
    {
      "cell_type": "markdown",
      "metadata": {
        "colab_type": "text",
        "id": "view-in-github"
      },
      "source": [
        "<a href=\"https://colab.research.google.com/github/instar94/mleng/blob/main/04_2)_%ED%99%95%EB%A5%A0%EC%A0%81%EA%B2%BD%EC%82%AC%ED%95%98%EA%B0%95%EB%B2%95.ipynb\" target=\"_parent\"><img src=\"https://colab.research.google.com/assets/colab-badge.svg\" alt=\"Open In Colab\"/></a>"
      ]
    },
    {
      "cell_type": "markdown",
      "metadata": {
        "id": "sL9C7JmxFu-5"
      },
      "source": [
        "# 1. 확률적 경사하강법\n",
        "## 1) 온라인 학습 (점진적 학습)\n",
        "- 앞서 훈련한 모델을 버리지 않고 새로운 데이터에 대해서만 조금씩 훈련을 진행\n",
        "- 대표적인 알고리즘 : 확률적 경사하강법\n",
        "\n",
        "## 2) 확률적 경사하강법\n",
        "### 경사하강법의 정의\n",
        "- 확률 : 무작위 혹은 랜덤하게\n",
        "- 경사 : 기울기\n",
        "- 하강 : 내려가게함\n",
        "-  훈련 세트에서 랜덤하게 하나의 샘플 선택 > 가파른 경사 조금 내려감 > 반복 \n",
        "      -  훈련 세트를 모두 사용 > `에포크` 완료 > 새로운 데이터 추가 \n",
        "-  `에포크` : 훈련 세트를 모두 사용하는 일련의 과정 \n",
        "\n",
        "### 경사하강법의 종류\n",
        "- `미니배치 경사 하강법` : 무작위 샘플을 여러 개 선택하여 경사하강법을 시행 하는 것 \n",
        "- `배치 경사 하강법` : 전체 샘플을 사용하여 경사 하강법을 시행하는 것 \n",
        "- `확률적 경사 하강법` : 무작위 1개를 이용해 경사하강법을 시행 \n",
        "\n",
        "### 경사하강법의 목표\n",
        "- 목표 : 경사하강법을 이용해 손실 함수의 최소값을 구하는 것\n",
        "\n",
        "## 3) 손실 함수 \n",
        "- 머신러닝 알고리즘이 얼마나 엉터리 인지 (=오차가 심한지) 측정하는 기준 \n",
        "    - 작을 수록 좋음 \n",
        "    - 최소값을 구해야함 \n",
        "\n",
        "### 로지스틱 손실 함수 (=이진 크로스엔트로피 손실)\n",
        "- 양성 클래스일 때 손실은 $-log$ (예측 확률)로 계산 \n",
        "- 확률이 0에 가까워질수록 손실은 큰 양수가 됨 \n",
        "- 다중 분류에서는 `크로스 엔트로피 손실함수`를 사용 \n",
        "- cf) 회귀의 손실 함수 : 평균 제곱 오차 "
      ]
    },
    {
      "cell_type": "markdown",
      "metadata": {},
      "source": [
        "# 2. 데이터 처리 \n",
        "## 1) CSV 읽기"
      ]
    },
    {
      "cell_type": "code",
      "execution_count": 1,
      "metadata": {},
      "outputs": [
        {
          "data": {
            "text/html": [
              "<div>\n",
              "<style scoped>\n",
              "    .dataframe tbody tr th:only-of-type {\n",
              "        vertical-align: middle;\n",
              "    }\n",
              "\n",
              "    .dataframe tbody tr th {\n",
              "        vertical-align: top;\n",
              "    }\n",
              "\n",
              "    .dataframe thead th {\n",
              "        text-align: right;\n",
              "    }\n",
              "</style>\n",
              "<table border=\"1\" class=\"dataframe\">\n",
              "  <thead>\n",
              "    <tr style=\"text-align: right;\">\n",
              "      <th></th>\n",
              "      <th>Species</th>\n",
              "      <th>Weight</th>\n",
              "      <th>Length</th>\n",
              "      <th>Diagonal</th>\n",
              "      <th>Height</th>\n",
              "      <th>Width</th>\n",
              "    </tr>\n",
              "  </thead>\n",
              "  <tbody>\n",
              "    <tr>\n",
              "      <th>0</th>\n",
              "      <td>Bream</td>\n",
              "      <td>242.0</td>\n",
              "      <td>25.4</td>\n",
              "      <td>30.0</td>\n",
              "      <td>11.5200</td>\n",
              "      <td>4.0200</td>\n",
              "    </tr>\n",
              "    <tr>\n",
              "      <th>1</th>\n",
              "      <td>Bream</td>\n",
              "      <td>290.0</td>\n",
              "      <td>26.3</td>\n",
              "      <td>31.2</td>\n",
              "      <td>12.4800</td>\n",
              "      <td>4.3056</td>\n",
              "    </tr>\n",
              "    <tr>\n",
              "      <th>2</th>\n",
              "      <td>Bream</td>\n",
              "      <td>340.0</td>\n",
              "      <td>26.5</td>\n",
              "      <td>31.1</td>\n",
              "      <td>12.3778</td>\n",
              "      <td>4.6961</td>\n",
              "    </tr>\n",
              "    <tr>\n",
              "      <th>3</th>\n",
              "      <td>Bream</td>\n",
              "      <td>363.0</td>\n",
              "      <td>29.0</td>\n",
              "      <td>33.5</td>\n",
              "      <td>12.7300</td>\n",
              "      <td>4.4555</td>\n",
              "    </tr>\n",
              "    <tr>\n",
              "      <th>4</th>\n",
              "      <td>Bream</td>\n",
              "      <td>430.0</td>\n",
              "      <td>29.0</td>\n",
              "      <td>34.0</td>\n",
              "      <td>12.4440</td>\n",
              "      <td>5.1340</td>\n",
              "    </tr>\n",
              "  </tbody>\n",
              "</table>\n",
              "</div>"
            ],
            "text/plain": [
              "  Species  Weight  Length  Diagonal   Height   Width\n",
              "0   Bream   242.0    25.4      30.0  11.5200  4.0200\n",
              "1   Bream   290.0    26.3      31.2  12.4800  4.3056\n",
              "2   Bream   340.0    26.5      31.1  12.3778  4.6961\n",
              "3   Bream   363.0    29.0      33.5  12.7300  4.4555\n",
              "4   Bream   430.0    29.0      34.0  12.4440  5.1340"
            ]
          },
          "execution_count": 1,
          "metadata": {},
          "output_type": "execute_result"
        }
      ],
      "source": [
        "import pandas as pd \n",
        "fish = pd.read_csv(\"https://bit.ly/fish_csv_data\")\n",
        "fish.head()"
      ]
    },
    {
      "cell_type": "markdown",
      "metadata": {},
      "source": [
        "## 2) 훈련/테스트 세트 준비"
      ]
    },
    {
      "cell_type": "code",
      "execution_count": 8,
      "metadata": {},
      "outputs": [],
      "source": [
        "### 추측 데이터 \n",
        "fish_input = fish[[\"Weight\",\"Length\",\"Diagonal\",\"Height\",\"Width\"]]\n",
        "### 정답 데이터 \n",
        "fish_target = fish[\"Species\"]\n",
        "\n",
        "### 훈련세트 - 테스트 세트 나누기 \n",
        "from sklearn.model_selection import train_test_split\n",
        "train_input, test_input, train_target, test_target = train_test_split(fish_input,fish_target, random_state=42)"
      ]
    },
    {
      "cell_type": "markdown",
      "metadata": {},
      "source": [
        "## 3) 전처리 "
      ]
    },
    {
      "cell_type": "code",
      "execution_count": 10,
      "metadata": {},
      "outputs": [],
      "source": [
        "from sklearn.preprocessing import StandardScaler\n",
        "ss = StandardScaler()\n",
        "\n",
        "###표준화 fit \n",
        "ss.fit(train_input)\n",
        "\n",
        "### 표준화 진행 \n",
        "train_scaled = ss.transform(train_input)\n",
        "test_scaled = ss.transform(test_input)"
      ]
    },
    {
      "cell_type": "markdown",
      "metadata": {},
      "source": [
        "# 3. 확률률적 경사 하강법 실행 \n",
        "\n",
        "## 1) 모델 fit \n",
        "- `loss = log_loss` : 로지스틱 손실함수\n",
        "- `max_iter` : 에포크 수 \n",
        "- 오류 :\n",
        "  > ConvergenceWarning: Maximum number of iteration reached before convergence. Consider increasing max_iter to improve the fit. \n",
        "  - 모델이 충분히 수렴하지 않음\n",
        "  - 해결 방법 : `max_iter`를 늘리면 해결됨"
      ]
    },
    {
      "cell_type": "code",
      "execution_count": 12,
      "metadata": {},
      "outputs": [
        {
          "name": "stdout",
          "output_type": "stream",
          "text": [
            "모델 평가 (훈련) :  0.773109243697479\n",
            "모델 평가 (검증) :  0.775\n"
          ]
        },
        {
          "name": "stderr",
          "output_type": "stream",
          "text": [
            "c:\\ProgramData\\miniconda3\\envs\\ml_basic\\Lib\\site-packages\\sklearn\\linear_model\\_stochastic_gradient.py:738: ConvergenceWarning: Maximum number of iteration reached before convergence. Consider increasing max_iter to improve the fit.\n",
            "  warnings.warn(\n"
          ]
        }
      ],
      "source": [
        "from sklearn.linear_model import SGDClassifier\n",
        "\n",
        "### 로지스틱 손실함수 + 에포크 \n",
        "sc =SGDClassifier(loss=\"log_loss\", max_iter=10, random_state=42)\n",
        "\n",
        "### 모델 학습\n",
        "sc.fit(train_scaled,train_target)\n",
        "\n",
        "### 모델 평가 \n",
        "print(\"모델 평가 (훈련) : \", sc.score(train_scaled,train_target))\n",
        "print(\"모델 평가 (검증) : \", sc.score(test_scaled,test_target))"
      ]
    },
    {
      "cell_type": "markdown",
      "metadata": {},
      "source": [
        "## 2) 점진적 학습 \n",
        "- `partial_fit` : 점진적 학습 진행 "
      ]
    },
    {
      "cell_type": "code",
      "execution_count": 14,
      "metadata": {},
      "outputs": [
        {
          "name": "stdout",
          "output_type": "stream",
          "text": [
            "모델 평가 (훈련) :  0.8067226890756303\n",
            "모델 평가 (검증) :  0.825\n"
          ]
        }
      ],
      "source": [
        "sc.partial_fit(train_scaled, train_target)\n",
        "\n",
        "### 모델 평가 \n",
        "print(\"모델 평가 (훈련) : \", sc.score(train_scaled,train_target))\n",
        "print(\"모델 평가 (검증) : \", sc.score(test_scaled,test_target))"
      ]
    },
    {
      "cell_type": "markdown",
      "metadata": {},
      "source": [
        "## 3) 에포크 과대/과소 적합 \n",
        "- 얼마나 훈련을 해야 적절할 것인가? \n",
        "  - 과소 적합 : 너무 횟수가 적으면 훈련 세트를 덜 학습 \n",
        "  - 과대 적합 : 훈련 세트에선 점수가 높지만 테스트에서는 점수가 낮음 \n",
        "\n",
        "- `조기 종료` \n",
        "  - 모델의 적합도는 꾸준히 증가하다 어느순간 감소\n",
        "- 감소하기 전에 종료하는 것 \n",
        "\n",
        "- `practial_fit` 을 사용하려면 train_target의 라벨을 전달해야함 "
      ]
    },
    {
      "cell_type": "code",
      "execution_count": 15,
      "metadata": {},
      "outputs": [],
      "source": [
        "import numpy as np\n",
        "sc = SGDClassifier(loss='log_loss', random_state=42)\n",
        "train_socre=[]\n",
        "test_score=[]\n",
        "\n",
        "### train_target 라벨 전달 \n",
        "classes = np.unique(train_target)"
      ]
    },
    {
      "cell_type": "markdown",
      "metadata": {},
      "source": [
        "- 에포크 300 번 훈련\n",
        "- `_` 변수 : 사용하지 않고 버리는 값을 넣어두는 용도 > 횟수를 임시로 저장하는 용도"
      ]
    },
    {
      "cell_type": "code",
      "execution_count": 16,
      "metadata": {},
      "outputs": [],
      "source": [
        "for _ in range(0,300):\n",
        "    sc.partial_fit(train_scaled,train_target,classes=classes)\n",
        "    train_socre.append(sc.score(train_scaled,train_target))\n",
        "    test_score.append(sc.score(test_scaled,test_target))"
      ]
    },
    {
      "cell_type": "markdown",
      "metadata": {},
      "source": [
        "- 300번 시각화\n",
        "- 100번째 에포크 이후 차이가 벌어지고 있음 "
      ]
    },
    {
      "cell_type": "code",
      "execution_count": 17,
      "metadata": {},
      "outputs": [
        {
          "data": {
            "image/png": "[encoded data removed]",
            "text/plain": [
              "<Figure size 640x480 with 1 Axes>"
            ]
          },
          "metadata": {},
          "output_type": "display_data"
        }
      ],
      "source": [
        "import matplotlib.pyplot as plt \n",
        "plt.plot(train_socre)\n",
        "plt.plot(test_score)\n",
        "plt.xlabel(\"epoch\")\n",
        "plt.ylabel(\"accuracy\")\n",
        "plt.show()"
      ]
    },
    {
      "cell_type": "markdown",
      "metadata": {},
      "source": [
        "## 4) 과소 적합 해결 후 적용 \n",
        "- `tol=None` : 무조건 100번까지 반복 \n",
        "- 설정하지 않으면 성능이 일정 수준까지 상향 되지 않으면 멈춤 "
      ]
    },
    {
      "cell_type": "code",
      "execution_count": 18,
      "metadata": {},
      "outputs": [
        {
          "name": "stdout",
          "output_type": "stream",
          "text": [
            "모델 평가 (훈련) :  0.957983193277311\n",
            "모델 평가 (검증) :  0.925\n"
          ]
        }
      ],
      "source": [
        "sc = SGDClassifier(loss=\"log_loss\",max_iter=100, tol=None, random_state=42)\n",
        "\n",
        "sc.fit(train_scaled, train_target)\n",
        "\n",
        "### 모델 평가 \n",
        "print(\"모델 평가 (훈련) : \", sc.score(train_scaled,train_target))\n",
        "print(\"모델 평가 (검증) : \", sc.score(test_scaled,test_target))"
      ]
    },
    {
      "cell_type": "markdown",
      "metadata": {},
      "source": [
        "## 5) 손실 함수의 종류"
      ]
    },
    {
      "cell_type": "markdown",
      "metadata": {},
      "source": [
        "- 기본 값 : 힌지 손실 (hinge)\n",
        "- 서포트 벡터 머신 (SVM)으로 불림 "
      ]
    },
    {
      "cell_type": "code",
      "execution_count": 20,
      "metadata": {},
      "outputs": [
        {
          "name": "stdout",
          "output_type": "stream",
          "text": [
            "모델 평가 (훈련) :  0.9495798319327731\n",
            "모델 평가 (검증) :  0.925\n"
          ]
        }
      ],
      "source": [
        "sc = SGDClassifier(loss=\"hinge\",max_iter=100, tol=None, random_state=42)\n",
        "\n",
        "sc.fit(train_scaled, train_target)\n",
        "\n",
        "### 모델 평가 \n",
        "print(\"모델 평가 (훈련) : \", sc.score(train_scaled,train_target))\n",
        "print(\"모델 평가 (검증) : \", sc.score(test_scaled,test_target))"
      ]
    },
    {
      "cell_type": "code",
      "execution_count": null,
      "metadata": {},
      "outputs": [],
      "source": []
    }
  ],
  "metadata": {
    "colab": {
      "authorship_tag": "ABX9TyNG2hxaOTspzEjKRvMxxwmU",
      "include_colab_link": true,
      "provenance": []
    },
    "kernelspec": {
      "display_name": "ml_basic",
      "language": "python",
      "name": "python3"
    },
    "language_info": {
      "codemirror_mode": {
        "name": "ipython",
        "version": 3
      },
      "file_extension": ".py",
      "mimetype": "text/x-python",
      "name": "python",
      "nbconvert_exporter": "python",
      "pygments_lexer": "ipython3",
      "version": "3.12.11"
    }
  },
  "nbformat": 4,
  "nbformat_minor": 0
}
