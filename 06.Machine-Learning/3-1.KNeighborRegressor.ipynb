{
 "cells": [
  {
   "cell_type": "markdown",
   "id": "25aabb0d",
   "metadata": {},
   "source": [
    "# 1. K-최근접 이웃 회귀 모델\n",
    "\n",
    "> 임의의 도미를 받고 무게를 예측\n",
    "\n",
    "## 1) 회귀 (Regression)\n",
    "- 임의의 수치를 예측하는 문제 \n",
    "- 따라서 타깃 값도 임의의 수치 부여 \n",
    "\n",
    "## 2) K-최근접 이웃 회귀 \n",
    "- K-최근접 이웃 알고리즘을 이용해 회귀 문제를 해결 \n",
    "- 가장 가까운 이웃 샘플을 찾고 평균을 잡아 예측 "
   ]
  },
  {
   "cell_type": "code",
   "execution_count": 15,
   "id": "717e2552",
   "metadata": {},
   "outputs": [],
   "source": [
    "import matplotlib.pyplot as plt\n",
    "import numpy as np\n",
    "from sklearn.neighbors import KNeighborsClassifier,KNeighborsRegressor\n",
    "from sklearn.model_selection import train_test_split\n",
    "from sklearn.metrics import mean_absolute_error\n",
    "\n",
    "# Matplotlib의 전역 폰트 설정\n",
    "plt.rc('font', family='Pretendard')\n",
    "\n",
    "# 마이너스 부호가 깨지는 현상 방지\n",
    "plt.rc('axes', unicode_minus=False)\n"
   ]
  },
  {
   "cell_type": "markdown",
   "id": "33e89fe6",
   "metadata": {},
   "source": [
    "# 2. 회귀 모델 만들기 "
   ]
  },
  {
   "cell_type": "markdown",
   "id": "c8f730d5",
   "metadata": {},
   "source": [
    "## 1) 데이터 준비 "
   ]
  },
  {
   "cell_type": "code",
   "execution_count": 16,
   "id": "0a018cb6",
   "metadata": {},
   "outputs": [],
   "source": [
    "perch_length = np.array([8.4, 13.7, 15.0, 16.2, 17.4, 18.0, 18.7, 19.0, 19.6, 20.0, 21.0,\n",
    "       21.0, 21.0, 21.3, 22.0, 22.0, 22.0, 22.0, 22.0, 22.5, 22.5, 22.7,\n",
    "       23.0, 23.5, 24.0, 24.0, 24.6, 25.0, 25.6, 26.5, 27.3, 27.5, 27.5,\n",
    "       27.5, 28.0, 28.7, 30.0, 32.8, 34.5, 35.0, 36.5, 36.0, 37.0, 37.0,\n",
    "       39.0, 39.0, 39.0, 40.0, 40.0, 40.0, 40.0, 42.0, 43.0, 43.0, 43.5,\n",
    "       44.0])\n",
    "perch_weight = np.array([5.9, 32.0, 40.0, 51.5, 70.0, 100.0, 78.0, 80.0, 85.0, 85.0, 110.0,\n",
    "       115.0, 125.0, 130.0, 120.0, 120.0, 130.0, 135.0, 110.0, 130.0,\n",
    "       150.0, 145.0, 150.0, 170.0, 225.0, 145.0, 188.0, 180.0, 197.0,\n",
    "       218.0, 300.0, 260.0, 265.0, 250.0, 250.0, 300.0, 320.0, 514.0,\n",
    "       556.0, 840.0, 685.0, 700.0, 700.0, 690.0, 900.0, 650.0, 820.0,\n",
    "       850.0, 900.0, 1015.0, 820.0, 1100.0, 1000.0, 1100.0, 1000.0,\n",
    "       1000.0])"
   ]
  },
  {
   "cell_type": "markdown",
   "id": "87ca2c32",
   "metadata": {},
   "source": [
    "## 2) 산점도로 시각화 하여 데이터 특성 확인 "
   ]
  },
  {
   "cell_type": "code",
   "execution_count": 17,
   "id": "6276f57a",
   "metadata": {},
   "outputs": [
    {
     "data": {
      "image/png": "[encoded data removed]",
      "text/plain": [
       "<Figure size 640x480 with 1 Axes>"
      ]
     },
     "metadata": {},
     "output_type": "display_data"
    }
   ],
   "source": [
    "plt.scatter(perch_length,perch_weight)\n",
    "plt.xlabel=\"legth\"\n",
    "plt.ylabel=\"weight\"\n",
    "plt.show()"
   ]
  },
  {
   "cell_type": "markdown",
   "id": "0c2308f1",
   "metadata": {},
   "source": [
    "## 3) 훈련 시작 "
   ]
  },
  {
   "cell_type": "markdown",
   "id": "45761bec",
   "metadata": {},
   "source": [
    "- 세트 나누기 "
   ]
  },
  {
   "cell_type": "code",
   "execution_count": 18,
   "id": "4dd8a9f1",
   "metadata": {},
   "outputs": [],
   "source": [
    "train_input, test_input,train_target,test_traget = train_test_split(perch_length,perch_weight)\n"
   ]
  },
  {
   "cell_type": "markdown",
   "id": "955caa1e",
   "metadata": {},
   "source": [
    "- 나눠진 데이터는 1차원 배열\n",
    "- 학습에는 2차원 배열이 필요하기 때문에 `reshape` 필요 \n",
    "- `reshape(행,열)` \n",
    "  - `-1` 을 적으면 길이만큼 함 > 정확한 수를 쓰지 않아도 되서 좋음 "
   ]
  },
  {
   "cell_type": "code",
   "execution_count": 19,
   "id": "b9659ea6",
   "metadata": {},
   "outputs": [
    {
     "name": "stdout",
     "output_type": "stream",
     "text": [
      "훈련세트 차원 확인 train_input.shape :  (42,) \n",
      "훈련세트 차원 확인 train_input.shape :  (42, 1) \n"
     ]
    }
   ],
   "source": [
    "print(f\"훈련세트 차원 확인 train_input.shape :  {train_input.shape} \")\n",
    "train_input = train_input.reshape(-1,1)\n",
    "test_input = test_input.reshape(-1,1)\n",
    "print(f\"훈련세트 차원 확인 train_input.shape :  {train_input.shape} \")"
   ]
  },
  {
   "cell_type": "markdown",
   "id": "95700b75",
   "metadata": {},
   "source": [
    "# 3. 결정 계수 (R squared) $R^2$\n",
    "## 1) 결정 계수란 ? \n",
    "- 회귀에서 모델 평가를 하기 위한 점수\n",
    "  - 특성이 타겟과 몇퍼센트나 같은지 설명 \n",
    "  - 퍼센트이기 때문에 0~1의 값을 가짐 \n",
    "  - 1에 가까울 수록 잘 설명함 \n",
    "- 분류와 다르게 회귀에서 정확한 숫자를 맞추는 것은 거의 불가능 \n",
    "- 따라서 예측하는 밧이나 타깃 모두 임의의 수치 \n",
    "- 구하는 식  $R^2 = 1 - \\frac{\\sum_{i=1}^{n} (y_i - \\hat{y}_i)^2}{\\sum_{i=1}^{n} (y_i - \\bar{y})^2}\n",
    "$\n",
    "  - 간단한 버전 : $R^2 = 1 - \\frac{\\sum_{i=1}^{n} (\\text{타깃-예측)}2}{\\sum_{i=1}^{n} (\\text{타깃-평균})^2}\n",
    "$\n",
    "\n",
    "## 2) sklean의 mean_absolute_error\n",
    "- 예측의 절대값 오차의 평균 반환 "
   ]
  },
  {
   "cell_type": "code",
   "execution_count": 21,
   "id": "4ae3350e",
   "metadata": {},
   "outputs": [
    {
     "name": "stdout",
     "output_type": "stream",
     "text": [
      "knr의 결정계수 값 : 0.9680217235868374]\n"
     ]
    }
   ],
   "source": [
    "### 회귀 객체 선언\n",
    "knr = KNeighborsRegressor()\n",
    "\n",
    "### 학습 \n",
    "knr.fit(train_input,train_target)\n",
    "\n",
    "### 평가 - R squared 값 \n",
    "print(f\"knr의 결정계수 값 : {knr.score(test_input,test_traget)}]\")"
   ]
  },
  {
   "cell_type": "code",
   "execution_count": 23,
   "id": "94f9958f",
   "metadata": {},
   "outputs": [
    {
     "name": "stdout",
     "output_type": "stream",
     "text": [
      "37.69285714285714 g 정도의 차이 발생\n"
     ]
    }
   ],
   "source": [
    "### 테스트 세트에 대한 예측을 만듦 \n",
    "test_predict = knr.predict(test_input)\n",
    "\n",
    "### 테스트 세트에 대한 평균 절대값 오차 계산 \n",
    "mae = mean_absolute_error(test_traget,test_predict)\n",
    "print(mae,\"g 정도의 차이 발생\")"
   ]
  },
  {
   "cell_type": "markdown",
   "id": "c2852fd5",
   "metadata": {},
   "source": [
    "# 4 ) 과대 적합 VS 과소 적합\n",
    "- Overfitting : 훈련세트 Score > 테스트 Score \n",
    "  - 새로운 데이터에 대한 예측 잘 못함 \n",
    "-  Overfitting : 훈련세트 Score > 테스트 Score \n",
    "   -  적절히 훈련되지 않음 "
   ]
  },
  {
   "cell_type": "code",
   "execution_count": 24,
   "id": "d5fb54dd",
   "metadata": {},
   "outputs": [
    {
     "name": "stdout",
     "output_type": "stream",
     "text": [
      "n_neighbors :  0.9710861078740705\n",
      "knr의 결정계수 값 : 0.980988016506468]\n"
     ]
    }
   ],
   "source": [
    "print(\"n_neighbors : \",knr.score(train_input,train_target))\n",
    "\n",
    "### 이웃을 3명으로 줄임 \n",
    "knr.n_neighbors = 3\n",
    "\n",
    "knr.fit(train_input,train_target)\n",
    "\n",
    "### 평가 - R squared 값 \n",
    "print(f\"knr의 결정계수 값 : {knr.score(test_input,test_traget)}]\")\n"
   ]
  }
 ],
 "metadata": {
  "kernelspec": {
   "display_name": "ml_basic",
   "language": "python",
   "name": "python3"
  },
  "language_info": {
   "codemirror_mode": {
    "name": "ipython",
    "version": 3
   },
   "file_extension": ".py",
   "mimetype": "text/x-python",
   "name": "python",
   "nbconvert_exporter": "python",
   "pygments_lexer": "ipython3",
   "version": "3.12.11"
  }
 },
 "nbformat": 4,
 "nbformat_minor": 5
}
