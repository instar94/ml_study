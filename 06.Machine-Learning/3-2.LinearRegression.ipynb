{
 "cells": [
  {
   "cell_type": "markdown",
   "id": "dccdd5cb",
   "metadata": {},
   "source": [
    "# 1. 선형회귀란\n",
    "\n",
    "## 1) K 최근접의 한계 \n",
    "  - 존재하는 데이터만을 이용해 예측을 함 \n",
    "  - 훈련 세트에 없는 데이터는 잘 예측하지 못함\n",
    "\n",
    "## 2) 정의\n",
    "- 특성과 타깃 사이의 관계를 나타내는 선형 방정식 \n"
   ]
  },
  {
   "cell_type": "code",
   "execution_count": 29,
   "id": "30732019",
   "metadata": {},
   "outputs": [],
   "source": [
    "import matplotlib.pyplot as plt\n",
    "import numpy as np\n",
    "from sklearn.linear_model import LinearRegression\n",
    "from sklearn.model_selection import train_test_split\n",
    "\n",
    "\n",
    "# Matplotlib의 전역 폰트 설정\n",
    "plt.rc('font', family='Pretendard')\n",
    "\n",
    "# 마이너스 부호가 깨지는 현상 방지\n",
    "plt.rc('axes', unicode_minus=False)\n"
   ]
  },
  {
   "cell_type": "markdown",
   "id": "c507e48b",
   "metadata": {},
   "source": [
    "## 3) 데이터 준비 "
   ]
  },
  {
   "cell_type": "code",
   "execution_count": 30,
   "id": "45fe57b0",
   "metadata": {},
   "outputs": [],
   "source": [
    "perch_length = np.array([8.4, 13.7, 15.0, 16.2, 17.4, 18.0, 18.7, 19.0, 19.6, 20.0, 21.0,\n",
    "       21.0, 21.0, 21.3, 22.0, 22.0, 22.0, 22.0, 22.0, 22.5, 22.5, 22.7,\n",
    "       23.0, 23.5, 24.0, 24.0, 24.6, 25.0, 25.6, 26.5, 27.3, 27.5, 27.5,\n",
    "       27.5, 28.0, 28.7, 30.0, 32.8, 34.5, 35.0, 36.5, 36.0, 37.0, 37.0,\n",
    "       39.0, 39.0, 39.0, 40.0, 40.0, 40.0, 40.0, 42.0, 43.0, 43.0, 43.5,\n",
    "       44.0])\n",
    "perch_weight = np.array([5.9, 32.0, 40.0, 51.5, 70.0, 100.0, 78.0, 80.0, 85.0, 85.0, 110.0,\n",
    "       115.0, 125.0, 130.0, 120.0, 120.0, 130.0, 135.0, 110.0, 130.0,\n",
    "       150.0, 145.0, 150.0, 170.0, 225.0, 145.0, 188.0, 180.0, 197.0,\n",
    "       218.0, 300.0, 260.0, 265.0, 250.0, 250.0, 300.0, 320.0, 514.0,\n",
    "       556.0, 840.0, 685.0, 700.0, 700.0, 690.0, 900.0, 650.0, 820.0,\n",
    "       850.0, 900.0, 1015.0, 820.0, 1100.0, 1000.0, 1100.0, 1000.0,\n",
    "       1000.0])\n",
    "\n",
    "### 훈련세트와 테스트 세트로 나눔 \n",
    "train_input, test_input,train_traget,test_target = train_test_split(perch_length,perch_weight)\n",
    "\n",
    "### 데이터 전처리 \n",
    "train_input = train_input.reshape(-1,1)\n",
    "test_input = test_input.reshape(-1,1)"
   ]
  },
  {
   "cell_type": "markdown",
   "id": "b8bd66e6",
   "metadata": {},
   "source": [
    "# 2. 선형회귀 모델 \n",
    "- 선형 회귀 모델은 $y=ax+b$ 와 같은 형태\n",
    "- `coef_` : 계수 혹은 가중치 \n",
    "- `intercept_` : b\n",
    "\n",
    "## 1) 선형 회귀를 통한 예측"
   ]
  },
  {
   "cell_type": "code",
   "execution_count": 31,
   "id": "4aa5de67",
   "metadata": {},
   "outputs": [
    {
     "name": "stdout",
     "output_type": "stream",
     "text": [
      "모델 평가 :  0.8734052233220679\n",
      "50cm 도미 무게 예측 : [1200.23081311]\n"
     ]
    }
   ],
   "source": [
    "### 객체 선언 \n",
    "lr = LinearRegression()\n",
    "\n",
    "### 모델 훈련\n",
    "lr.fit(train_input,train_traget)\n",
    "\n",
    "### 모델 평가 \n",
    "print(f\"모델 평가 :  {lr.score(test_input,test_target)}\")\n",
    "\n",
    "### 모델 예측 - [50,150]\n",
    "print(f\"50cm 도미 무게 예측 : {lr.predict([[50]])}\")"
   ]
  },
  {
   "cell_type": "markdown",
   "id": "509bb97e",
   "metadata": {},
   "source": [
    "- 선형 회귀의 절편과 기울기 확인"
   ]
  },
  {
   "cell_type": "code",
   "execution_count": 32,
   "id": "09eed05c",
   "metadata": {},
   "outputs": [
    {
     "name": "stdout",
     "output_type": "stream",
     "text": [
      "기울기 :  [37.55628514] 절편 :  -677.5834440237791\n"
     ]
    }
   ],
   "source": [
    "print(\"기울기 : \",lr.coef_,\"절편 : \", lr.intercept_)"
   ]
  },
  {
   "cell_type": "markdown",
   "id": "43e94a03",
   "metadata": {},
   "source": [
    "- 시각화 "
   ]
  },
  {
   "cell_type": "code",
   "execution_count": 33,
   "id": "14976e94",
   "metadata": {},
   "outputs": [
    {
     "data": {
      "image/png": "[encoded data removed]",
      "text/plain": [
       "<Figure size 640x480 with 1 Axes>"
      ]
     },
     "metadata": {},
     "output_type": "display_data"
    }
   ],
   "source": [
    "plt.scatter(train_input,train_traget)\n",
    "\n",
    "### 선형 회귀식을 그림 \n",
    "### 15~50cm 범위에서 \n",
    "### 선형회귀 식에 15~50을 넣은 선을 그림 \n",
    "plt.plot([15,50], [15*lr.coef_+lr.intercept_, 50*lr.coef_ + lr.intercept_])\n",
    "\n",
    "### 50cm 농어 데이터 추가 \n",
    "plt.scatter(50,1160.11866689,marker=\"^\")\n",
    "plt.xlabel=\"length\"\n",
    "plt.ylabel=\"weight\"\n",
    "plt.show()"
   ]
  },
  {
   "cell_type": "markdown",
   "id": "a67677ac",
   "metadata": {},
   "source": [
    "## 2) 모델 평가 "
   ]
  },
  {
   "cell_type": "markdown",
   "id": "b029af36",
   "metadata": {},
   "source": [
    "- $R^2$ 값 \n",
    "  -  R 값이 너무 적음(과대 적합이라기에는 너무 적음)\n",
    "  -  모델이 데이터를 잘 설명 하지 못함 "
   ]
  },
  {
   "cell_type": "code",
   "execution_count": 34,
   "id": "5125e3c1",
   "metadata": {},
   "outputs": [
    {
     "name": "stdout",
     "output_type": "stream",
     "text": [
      "훈련 데이터 R Squard 값 :  0.9335884983087648\n",
      "테스트 데이터 R Squard 값 :  0.8734052233220679\n"
     ]
    }
   ],
   "source": [
    "print(\"훈련 데이터 R Squard 값 : \", lr.score(train_input,train_traget))\n",
    "print(\"테스트 데이터 R Squard 값 : \", lr.score(test_input,test_target))"
   ]
  },
  {
   "cell_type": "markdown",
   "id": "5d8218ae",
   "metadata": {},
   "source": [
    "# 3. 다항회귀 \n",
    "- 다항식을 이용하여 특성과 타겟 싸이의 관계를 나타냄 \n",
    "- 비선형임에도 선형으로 표현 가능 \n",
    "- 모델 파라미터 : 선형 회귀가 찾은 가중치 처럼 머신러닝이 특성에서 학습한 파라미터"
   ]
  },
  {
   "cell_type": "markdown",
   "id": "2c29ee61",
   "metadata": {},
   "source": [
    "## 1) 다항 회귀를 통한 예측 "
   ]
  },
  {
   "cell_type": "markdown",
   "id": "6fd830be",
   "metadata": {},
   "source": [
    "- 다항식으로 변경 \n",
    "  - 농어의 길이를 제곱\n",
    "  - $\\text{무게} = a \\cdot \\text{길이}^2  + b \\cdot \\text{길이} + c $"
   ]
  },
  {
   "cell_type": "code",
   "execution_count": 35,
   "id": "2b8f8304",
   "metadata": {},
   "outputs": [
    {
     "name": "stdout",
     "output_type": "stream",
     "text": [
      "제곱했기때문에 2차원으로 바뀜 :  (42, 2) (14, 2)\n"
     ]
    }
   ],
   "source": [
    "### 제곱한 훈련 / 테스트 세트\n",
    "train_poly = np.column_stack((train_input ** 2 , train_input))\n",
    "test_poly = np.column_stack((test_input ** 2 , test_input))\n",
    "\n",
    "print(\"제곱했기때문에 2차원으로 바뀜 : \", train_poly.shape , test_poly.shape)"
   ]
  },
  {
   "cell_type": "markdown",
   "id": "50e4de82",
   "metadata": {},
   "source": [
    "- 모델 훈련 및 평가"
   ]
  },
  {
   "cell_type": "code",
   "execution_count": 36,
   "id": "af285ebd",
   "metadata": {},
   "outputs": [
    {
     "name": "stdout",
     "output_type": "stream",
     "text": [
      "예측 값 :  [1516.61549337]\n"
     ]
    }
   ],
   "source": [
    "lr  = LinearRegression()\n",
    "lr.fit(train_poly,train_traget)\n",
    "\n",
    "print(\"예측 값 : \",lr.predict([[50**2, 50 ]]))"
   ]
  },
  {
   "cell_type": "markdown",
   "id": "95de3d6a",
   "metadata": {},
   "source": [
    "- 기울기와 절편 확인"
   ]
  },
  {
   "cell_type": "code",
   "execution_count": 37,
   "id": "24271225",
   "metadata": {},
   "outputs": [
    {
     "name": "stdout",
     "output_type": "stream",
     "text": [
      "기울기 :  [  0.98243685 -21.30289923] 절편 :  125.6683369599827\n"
     ]
    }
   ],
   "source": [
    "print(\"기울기 : \",lr.coef_,\"절편 : \", lr.intercept_)"
   ]
  },
  {
   "cell_type": "markdown",
   "id": "80236e09",
   "metadata": {},
   "source": [
    "- 시각화 "
   ]
  },
  {
   "cell_type": "code",
   "execution_count": 38,
   "id": "07b60b40",
   "metadata": {},
   "outputs": [
    {
     "data": {
      "image/png": "[encoded data removed]",
      "text/plain": [
       "<Figure size 640x480 with 1 Axes>"
      ]
     },
     "metadata": {},
     "output_type": "display_data"
    }
   ],
   "source": [
    "plt.scatter(train_input,train_traget)\n",
    "\n",
    "point = np.arange(15,50)\n",
    "plt.plot(point, 0.9*point**2 - 19.4*point + 95.5)\n",
    "\n",
    "### 50cm 농어 데이터 추가 \n",
    "plt.scatter(50,1544.47753912,marker=\"^\")\n",
    "plt.xlabel=\"length\"\n",
    "plt.ylabel=\"weight\"\n",
    "plt.show()"
   ]
  },
  {
   "cell_type": "markdown",
   "id": "fdf3e0d6",
   "metadata": {},
   "source": [
    "- $R^2$ 값 \n",
    "  -  R 값 상승 \n",
    "  -  다소 고소 적합 "
   ]
  },
  {
   "cell_type": "code",
   "execution_count": 39,
   "id": "5f5c1b41",
   "metadata": {},
   "outputs": [
    {
     "name": "stdout",
     "output_type": "stream",
     "text": [
      "훈련 데이터 R Squard 값 :  0.9713239494394543\n",
      "테스트 데이터 R Squard 값 :  0.9697999527566622\n"
     ]
    }
   ],
   "source": [
    "print(\"훈련 데이터 R Squard 값 : \", lr.score(train_poly,train_traget))\n",
    "print(\"테스트 데이터 R Squard 값 : \", lr.score(test_poly,test_target))"
   ]
  }
 ],
 "metadata": {
  "kernelspec": {
   "display_name": "ml_basic",
   "language": "python",
   "name": "python3"
  },
  "language_info": {
   "codemirror_mode": {
    "name": "ipython",
    "version": 3
   },
   "file_extension": ".py",
   "mimetype": "text/x-python",
   "name": "python",
   "nbconvert_exporter": "python",
   "pygments_lexer": "ipython3",
   "version": "3.12.11"
  }
 },
 "nbformat": 4,
 "nbformat_minor": 5
}
